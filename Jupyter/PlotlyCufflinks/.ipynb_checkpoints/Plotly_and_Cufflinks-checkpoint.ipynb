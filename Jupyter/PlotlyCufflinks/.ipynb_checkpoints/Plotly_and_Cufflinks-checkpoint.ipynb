{
 "cells": [
  {
   "cell_type": "code",
   "execution_count": 2,
   "metadata": {},
   "outputs": [],
   "source": [
    "#using Plotly with Pandas\n",
    "#Cufflinks tools to enable interaction between Ploty and pandas"
   ]
  },
  {
   "cell_type": "code",
   "execution_count": 27,
   "metadata": {},
   "outputs": [],
   "source": [
    "import pandas as pd\n",
    "import numpy as np"
   ]
  },
  {
   "cell_type": "code",
   "execution_count": 36,
   "metadata": {},
   "outputs": [],
   "source": [
    "#pip install matplotlib\n",
    "import matplotlib.pyplot as plt"
   ]
  },
  {
   "cell_type": "code",
   "execution_count": 37,
   "metadata": {},
   "outputs": [],
   "source": [
    "%matplotlib inline"
   ]
  },
  {
   "cell_type": "code",
   "execution_count": 9,
   "metadata": {},
   "outputs": [],
   "source": [
    "#conda install -c plotly plotly=4.5.4\n",
    "from plotly import __version__"
   ]
  },
  {
   "cell_type": "code",
   "execution_count": 10,
   "metadata": {},
   "outputs": [],
   "source": [
    "# pip install cufflinks from cmd as administrator\n",
    "#conda install -c dhirschfeld cufflinks\n",
    "#https://stackoverflow.com/questions/43922570/trouble-installing-cufflinks-in-anaconda-in-windows-10\n",
    "\n",
    "import cufflinks as cf"
   ]
  },
  {
   "cell_type": "code",
   "execution_count": 11,
   "metadata": {},
   "outputs": [],
   "source": [
    "from plotly.offline import download_plotlyjs,init_notebook_mode,plot,iplot"
   ]
  },
  {
   "cell_type": "code",
   "execution_count": 12,
   "metadata": {},
   "outputs": [
    {
     "data": {
      "text/html": [
       "        <script type=\"text/javascript\">\n",
       "        window.PlotlyConfig = {MathJaxConfig: 'local'};\n",
       "        if (window.MathJax) {MathJax.Hub.Config({SVG: {font: \"STIX-Web\"}});}\n",
       "        if (typeof require !== 'undefined') {\n",
       "        require.undef(\"plotly\");\n",
       "        requirejs.config({\n",
       "            paths: {\n",
       "                'plotly': ['https://cdn.plot.ly/plotly-latest.min']\n",
       "            }\n",
       "        });\n",
       "        require(['plotly'], function(Plotly) {\n",
       "            window._Plotly = Plotly;\n",
       "        });\n",
       "        }\n",
       "        </script>\n",
       "        "
      ]
     },
     "metadata": {},
     "output_type": "display_data"
    }
   ],
   "source": [
    "init_notebook_mode(connected=True)"
   ]
  },
  {
   "cell_type": "code",
   "execution_count": 13,
   "metadata": {},
   "outputs": [
    {
     "data": {
      "text/html": [
       "        <script type=\"text/javascript\">\n",
       "        window.PlotlyConfig = {MathJaxConfig: 'local'};\n",
       "        if (window.MathJax) {MathJax.Hub.Config({SVG: {font: \"STIX-Web\"}});}\n",
       "        if (typeof require !== 'undefined') {\n",
       "        require.undef(\"plotly\");\n",
       "        requirejs.config({\n",
       "            paths: {\n",
       "                'plotly': ['https://cdn.plot.ly/plotly-latest.min']\n",
       "            }\n",
       "        });\n",
       "        require(['plotly'], function(Plotly) {\n",
       "            window._Plotly = Plotly;\n",
       "        });\n",
       "        }\n",
       "        </script>\n",
       "        "
      ]
     },
     "metadata": {},
     "output_type": "display_data"
    }
   ],
   "source": [
    "cf.go_offline()"
   ]
  },
  {
   "cell_type": "code",
   "execution_count": 15,
   "metadata": {},
   "outputs": [],
   "source": [
    "df = pd.DataFrame(np.random.randn(100,4),columns='A B C D'.split())"
   ]
  },
  {
   "cell_type": "code",
   "execution_count": 17,
   "metadata": {},
   "outputs": [
    {
     "data": {
      "text/html": [
       "<div>\n",
       "<style scoped>\n",
       "    .dataframe tbody tr th:only-of-type {\n",
       "        vertical-align: middle;\n",
       "    }\n",
       "\n",
       "    .dataframe tbody tr th {\n",
       "        vertical-align: top;\n",
       "    }\n",
       "\n",
       "    .dataframe thead th {\n",
       "        text-align: right;\n",
       "    }\n",
       "</style>\n",
       "<table border=\"1\" class=\"dataframe\">\n",
       "  <thead>\n",
       "    <tr style=\"text-align: right;\">\n",
       "      <th></th>\n",
       "      <th>A</th>\n",
       "      <th>B</th>\n",
       "      <th>C</th>\n",
       "      <th>D</th>\n",
       "    </tr>\n",
       "  </thead>\n",
       "  <tbody>\n",
       "    <tr>\n",
       "      <th>0</th>\n",
       "      <td>0.718415</td>\n",
       "      <td>-0.574007</td>\n",
       "      <td>0.418605</td>\n",
       "      <td>-0.447375</td>\n",
       "    </tr>\n",
       "    <tr>\n",
       "      <th>1</th>\n",
       "      <td>-0.073744</td>\n",
       "      <td>-0.726659</td>\n",
       "      <td>0.966030</td>\n",
       "      <td>1.109785</td>\n",
       "    </tr>\n",
       "    <tr>\n",
       "      <th>2</th>\n",
       "      <td>1.326325</td>\n",
       "      <td>-0.358265</td>\n",
       "      <td>-0.431814</td>\n",
       "      <td>-0.312212</td>\n",
       "    </tr>\n",
       "    <tr>\n",
       "      <th>3</th>\n",
       "      <td>-0.623381</td>\n",
       "      <td>0.410871</td>\n",
       "      <td>0.506508</td>\n",
       "      <td>0.276185</td>\n",
       "    </tr>\n",
       "    <tr>\n",
       "      <th>4</th>\n",
       "      <td>0.474200</td>\n",
       "      <td>-0.320494</td>\n",
       "      <td>1.485908</td>\n",
       "      <td>-1.922114</td>\n",
       "    </tr>\n",
       "  </tbody>\n",
       "</table>\n",
       "</div>"
      ],
      "text/plain": [
       "          A         B         C         D\n",
       "0  0.718415 -0.574007  0.418605 -0.447375\n",
       "1 -0.073744 -0.726659  0.966030  1.109785\n",
       "2  1.326325 -0.358265 -0.431814 -0.312212\n",
       "3 -0.623381  0.410871  0.506508  0.276185\n",
       "4  0.474200 -0.320494  1.485908 -1.922114"
      ]
     },
     "execution_count": 17,
     "metadata": {},
     "output_type": "execute_result"
    }
   ],
   "source": [
    "df.head()"
   ]
  },
  {
   "cell_type": "code",
   "execution_count": 18,
   "metadata": {},
   "outputs": [],
   "source": [
    "df2 = pd.DataFrame({'Category':['A','B','C'],'Values':[32,43,50]})"
   ]
  },
  {
   "cell_type": "code",
   "execution_count": 19,
   "metadata": {},
   "outputs": [
    {
     "data": {
      "text/html": [
       "<div>\n",
       "<style scoped>\n",
       "    .dataframe tbody tr th:only-of-type {\n",
       "        vertical-align: middle;\n",
       "    }\n",
       "\n",
       "    .dataframe tbody tr th {\n",
       "        vertical-align: top;\n",
       "    }\n",
       "\n",
       "    .dataframe thead th {\n",
       "        text-align: right;\n",
       "    }\n",
       "</style>\n",
       "<table border=\"1\" class=\"dataframe\">\n",
       "  <thead>\n",
       "    <tr style=\"text-align: right;\">\n",
       "      <th></th>\n",
       "      <th>Category</th>\n",
       "      <th>Values</th>\n",
       "    </tr>\n",
       "  </thead>\n",
       "  <tbody>\n",
       "    <tr>\n",
       "      <th>0</th>\n",
       "      <td>A</td>\n",
       "      <td>32</td>\n",
       "    </tr>\n",
       "    <tr>\n",
       "      <th>1</th>\n",
       "      <td>B</td>\n",
       "      <td>43</td>\n",
       "    </tr>\n",
       "    <tr>\n",
       "      <th>2</th>\n",
       "      <td>C</td>\n",
       "      <td>50</td>\n",
       "    </tr>\n",
       "  </tbody>\n",
       "</table>\n",
       "</div>"
      ],
      "text/plain": [
       "  Category  Values\n",
       "0        A      32\n",
       "1        B      43\n",
       "2        C      50"
      ]
     },
     "execution_count": 19,
     "metadata": {},
     "output_type": "execute_result"
    }
   ],
   "source": [
    "df2"
   ]
  },
  {
   "cell_type": "code",
   "execution_count": 38,
   "metadata": {},
   "outputs": [
    {
     "data": {
      "text/plain": [
       "<matplotlib.axes._subplots.AxesSubplot at 0x1e0fc7bcec8>"
      ]
     },
     "execution_count": 38,
     "metadata": {},
     "output_type": "execute_result"
    },
    {
     "data": {
      "image/png": "[encoded data removed]",
      "text/plain": [
       "<Figure size 432x288 with 1 Axes>"
      ]
     },
     "metadata": {
      "needs_background": "light"
     },
     "output_type": "display_data"
    }
   ],
   "source": [
    "df.plot()"
   ]
  },
  {
   "cell_type": "code",
   "execution_count": 39,
   "metadata": {},
   "outputs": [
    {
     "data": {
      "application/vnd.plotly.v1+json": {
       "config": {
        "linkText": "Export to plot.ly",
        "plotlyServerURL": "https://plot.ly",
        "showLink": true
       },
       "data": [
        {
         "line": {
          "color": "rgba(255, 153, 51, 1.0)",
          "dash": "solid",
          "shape": "linear",
          "width": 1.3
         },
         "mode": "lines",
         "name": "A",
         "text": "",
         "type": "scatter",
         "x": [
          0,
          1,
          2,
          3,
          4,
          5,
          6,
          7,
          8,
          9,
          10,
          11,
          12,
          13,
          14,
          15,
          16,
          17,
          18,
          19,
          20,
          21,
          22,
          23,
          24,
          25,
          26,
          27,
          28,
          29,
          30,
          31,
          32,
          33,
          34,
          35,
          36,
          37,
          38,
          39,
          40,
          41,
          42,
          43,
          44,
          45,
          46,
          47,
          48,
          49,
          50,
          51,
          52,
          53,
          54,
          55,
          56,
          57,
          58,
          59,
          60,
          61,
          62,
          63,
          64,
          65,
          66,
          67,
          68,
          69,
          70,
          71,
          72,
          73,
          74,
          75,
          76,
          77,
          78,
          79,
          80,
          81,
          82,
          83,
          84,
          85,
          86,
          87,
          88,
          89,
          90,
          91,
          92,
          93,
          94,
          95,
          96,
          97,
          98,
          99
         ],
         "y": [
          0.7184152132165522,
          -0.07374414338489427,
          1.3263250429191824,
          -0.6233809421936106,
          0.4742001274446034,
          -0.7437583934588065,
          -0.20562971175271394,
          -0.7912846928747075,
          -0.02702597232497973,
          0.6772742353991352,
          0.2488440802940327,
          -1.2274686431849393,
          1.254910728577048,
          1.6838038342892818,
          0.47921977443036406,
          -0.5022224516406076,
          -1.8745692527395976,
          1.9627993771005607,
          0.9560756328354928,
          -0.04359285288303292,
          0.6415439448675059,
          0.27977343160563767,
          -2.768644598762758,
          0.05983857939039157,
          1.3679925048742787,
          -0.10294575790551182,
          -0.2699661091353834,
          -1.2763005264901317,
          -0.605644482213025,
          0.4211936567382423,
          2.266041396863613,
          1.185381051419868,
          -1.0917455888736831,
          0.2027947575196413,
          -0.17045514705133089,
          0.8437438075614856,
          -0.23401836744499166,
          -0.5242333839647763,
          -0.31142091937150457,
          -0.9076703163927581,
          -1.837456312116648,
          -2.024823808987759,
          -1.8596832253495934,
          -0.35995344488929754,
          -0.1560997144255655,
          -0.24862232873532386,
          -0.5330745736291332,
          0.42241547345708086,
          0.6285806273053471,
          -0.5757328837855584,
          0.7320221470593188,
          -0.78920439441667,
          0.24399057919069703,
          1.403681725672624,
          -0.36497311179059233,
          -1.2035747602760776,
          -0.6799866071005245,
          -1.383687431161648,
          1.7204180525409456,
          0.7798432843313373,
          -1.746971525420941,
          -1.0509291587207734,
          0.21952730859203842,
          0.5153002455921952,
          0.662698390986974,
          -1.3706491187827667,
          -0.18692234413642134,
          0.20435033186983825,
          0.9577209134936103,
          -1.7580578520641799,
          1.934397248202235,
          -0.2419679983579328,
          -1.3560222792664143,
          -1.6380730147438929,
          0.542730758603566,
          -0.06911316253794753,
          0.9256442751713155,
          -1.2929221940251012,
          -0.922538122771601,
          1.0787188690915535,
          1.5772741845128695,
          0.8298802627756018,
          1.1312577460069513,
          0.5757750599947684,
          0.8140317333587312,
          -0.8666171022168118,
          -0.09076294738478492,
          0.7675522138256289,
          -0.1310600103165868,
          -0.700574932350856,
          0.4347324878153614,
          -1.8128643854407822,
          -0.28217756256423554,
          -1.1676894050183275,
          0.5138668046894407,
          -1.1695517800152062,
          1.0658983671799178,
          0.4561467894013599,
          -1.0421540922213297,
          -0.0011269428682303502
         ]
        },
        {
         "line": {
          "color": "rgba(55, 128, 191, 1.0)",
          "dash": "solid",
          "shape": "linear",
          "width": 1.3
         },
         "mode": "lines",
         "name": "B",
         "text": "",
         "type": "scatter",
         "x": [
          0,
          1,
          2,
          3,
          4,
          5,
          6,
          7,
          8,
          9,
          10,
          11,
          12,
          13,
          14,
          15,
          16,
          17,
          18,
          19,
          20,
          21,
          22,
          23,
          24,
          25,
          26,
          27,
          28,
          29,
          30,
          31,
          32,
          33,
          34,
          35,
          36,
          37,
          38,
          39,
          40,
          41,
          42,
          43,
          44,
          45,
          46,
          47,
          48,
          49,
          50,
          51,
          52,
          53,
          54,
          55,
          56,
          57,
          58,
          59,
          60,
          61,
          62,
          63,
          64,
          65,
          66,
          67,
          68,
          69,
          70,
          71,
          72,
          73,
          74,
          75,
          76,
          77,
          78,
          79,
          80,
          81,
          82,
          83,
          84,
          85,
          86,
          87,
          88,
          89,
          90,
          91,
          92,
          93,
          94,
          95,
          96,
          97,
          98,
          99
         ],
         "y": [
          -0.574006817058656,
          -0.7266588076382805,
          -0.3582653821205203,
          0.4108711973078174,
          -0.32049412434813634,
          0.04773441291937425,
          -0.3688892653969485,
          -1.9676847227099559,
          0.25795986598318144,
          0.537925471808953,
          -1.4962385157709366,
          0.5057892669442116,
          -0.29203313936093456,
          0.6328171202069542,
          -1.0522874962492237,
          0.7878930777939451,
          1.4309553115391773,
          0.1889102418784355,
          -0.013342842989387687,
          3.116070838792739,
          -0.41845360400421255,
          1.9858575207739673,
          0.6403115956548909,
          0.1907142736681472,
          -1.504935982311471,
          0.7416036365144881,
          0.1676053881271684,
          -0.24114082085754754,
          -0.8756962069315755,
          -0.525281131553952,
          0.16729678126738956,
          -1.4261549151524915,
          -0.8095904163469871,
          1.6988271573620615,
          1.7586594424748208,
          1.1173774377465564,
          -0.18402664254405693,
          -0.8725967786135869,
          0.9340462500605381,
          0.0436769694271896,
          0.2528261269315577,
          -0.48797455718435667,
          0.4185303541013756,
          -1.2115610819467757,
          -1.3873781031274601,
          -2.134924563226702,
          -0.36394732545907527,
          -1.8930906878602132,
          0.30419682598120823,
          -1.2397000596617789,
          1.5072415238223666,
          0.5076516583359088,
          -0.27253561558943046,
          0.9944063915869681,
          0.20503443372919314,
          0.11496705703028283,
          2.2451308551185214,
          -1.1894233003016832,
          -0.4109483665207544,
          0.4564664039644072,
          0.0594821775386694,
          2.025352796007877,
          0.13277668831354794,
          1.084947573356576,
          0.2886397552371678,
          -0.46229439145929685,
          0.07114397903457587,
          -0.36825571307179933,
          0.0580491159714769,
          -1.3175848043112401,
          1.6977785396994103,
          1.5238962245440153,
          0.6735606382188081,
          0.27852016317782674,
          -0.5125567623845447,
          0.8200273758606282,
          1.0211947809981352,
          -0.43694675512536835,
          2.4293952236159813,
          1.075463756336378,
          1.4049925716695653,
          1.116341730370617,
          -0.7067699756998078,
          0.516178571121736,
          0.27073191733361573,
          -1.030797684921648,
          -1.1109877307709126,
          0.4322628958451547,
          -0.9748824546183325,
          -2.0597490912023915,
          0.22368680313699774,
          -0.5803128715110616,
          -2.3645027848541047,
          0.29715916628752514,
          1.3546167563630593,
          -0.25223335075808057,
          0.1881641349093222,
          2.6987241405368656,
          -1.3327602486409937,
          -0.6169747814033371
         ]
        },
        {
         "line": {
          "color": "rgba(50, 171, 96, 1.0)",
          "dash": "solid",
          "shape": "linear",
          "width": 1.3
         },
         "mode": "lines",
         "name": "C",
         "text": "",
         "type": "scatter",
         "x": [
          0,
          1,
          2,
          3,
          4,
          5,
          6,
          7,
          8,
          9,
          10,
          11,
          12,
          13,
          14,
          15,
          16,
          17,
          18,
          19,
          20,
          21,
          22,
          23,
          24,
          25,
          26,
          27,
          28,
          29,
          30,
          31,
          32,
          33,
          34,
          35,
          36,
          37,
          38,
          39,
          40,
          41,
          42,
          43,
          44,
          45,
          46,
          47,
          48,
          49,
          50,
          51,
          52,
          53,
          54,
          55,
          56,
          57,
          58,
          59,
          60,
          61,
          62,
          63,
          64,
          65,
          66,
          67,
          68,
          69,
          70,
          71,
          72,
          73,
          74,
          75,
          76,
          77,
          78,
          79,
          80,
          81,
          82,
          83,
          84,
          85,
          86,
          87,
          88,
          89,
          90,
          91,
          92,
          93,
          94,
          95,
          96,
          97,
          98,
          99
         ],
         "y": [
          0.4186050978255918,
          0.9660299067572595,
          -0.4318143275388457,
          0.5065075567870579,
          1.4859078649464117,
          2.037283479738617,
          0.1718877247483784,
          0.47531459547715643,
          0.42823940845213554,
          -0.21305545190507444,
          0.28190489492175935,
          -0.173204935815877,
          0.39757462485732936,
          1.3856892836568033,
          0.9822240896658297,
          1.938516935317932,
          0.2152802615769902,
          -1.6198131628409123,
          0.5373273678187647,
          1.0074272134548774,
          -0.8947699356644431,
          -0.20862165688177156,
          -0.10861066684874332,
          0.4534828477073112,
          0.8168342651047499,
          -0.1687725979146592,
          -0.5712267200634286,
          -1.1119129875224343,
          -1.6453222605018447,
          0.9855003647827035,
          1.7181503768731639,
          -0.12801937833791582,
          -0.759239480823569,
          -0.15604891625994818,
          -0.7308177686807426,
          -0.7654926526655869,
          -1.4628634609740454,
          -0.11367567007750326,
          0.44960352548597154,
          -0.9706311730653845,
          1.2545677594079299,
          -2.271041367591699,
          1.104145953395362,
          0.6195613024301116,
          -0.5005945813435325,
          -0.9063252531488935,
          -0.043850682877327164,
          -0.8454320211462417,
          0.7108991077320378,
          -1.9204840919319068,
          -1.458754114994838,
          -0.20099174944696324,
          -0.22259167976453564,
          -0.35670458652429826,
          -1.2551092820330252,
          -1.7901862237899924,
          0.9448393991015264,
          -0.1572709025185171,
          -1.6644238182098812,
          0.3172932947843975,
          -0.23550701831544502,
          0.2657712421161027,
          -0.053078294913159324,
          -2.398334429775859,
          0.7519569965442786,
          -0.16681679209782702,
          0.3452512000546205,
          -0.2910305465854694,
          -0.33331624044084773,
          0.9055671431700401,
          -0.42227825539631764,
          -1.2871107075659745,
          0.02109412124539801,
          -0.9061252419518914,
          -0.30150226561932414,
          1.334079070716369,
          -0.9170838735545183,
          0.4103890346700743,
          -0.5089311284427338,
          0.21384246102570673,
          -0.25502806255931987,
          0.8148800270629623,
          0.042616665556271735,
          -0.1568235945172625,
          -0.04308239534943786,
          -0.28435314213034757,
          -1.0269739230542796,
          1.269247105161303,
          1.1439941254385915,
          0.39004917349610146,
          -0.282070716056746,
          -0.5068669529975444,
          1.0857202913987292,
          -0.9641678103539787,
          2.403598393563145,
          -1.1166542022763057,
          0.0546234593929146,
          -0.9843132869855903,
          1.3621554962299072,
          0.8257631253025725
         ]
        },
        {
         "line": {
          "color": "rgba(128, 0, 128, 1.0)",
          "dash": "solid",
          "shape": "linear",
          "width": 1.3
         },
         "mode": "lines",
         "name": "D",
         "text": "",
         "type": "scatter",
         "x": [
          0,
          1,
          2,
          3,
          4,
          5,
          6,
          7,
          8,
          9,
          10,
          11,
          12,
          13,
          14,
          15,
          16,
          17,
          18,
          19,
          20,
          21,
          22,
          23,
          24,
          25,
          26,
          27,
          28,
          29,
          30,
          31,
          32,
          33,
          34,
          35,
          36,
          37,
          38,
          39,
          40,
          41,
          42,
          43,
          44,
          45,
          46,
          47,
          48,
          49,
          50,
          51,
          52,
          53,
          54,
          55,
          56,
          57,
          58,
          59,
          60,
          61,
          62,
          63,
          64,
          65,
          66,
          67,
          68,
          69,
          70,
          71,
          72,
          73,
          74,
          75,
          76,
          77,
          78,
          79,
          80,
          81,
          82,
          83,
          84,
          85,
          86,
          87,
          88,
          89,
          90,
          91,
          92,
          93,
          94,
          95,
          96,
          97,
          98,
          99
         ],
         "y": [
          -0.44737534191412004,
          1.109785149730803,
          -0.31221247860147944,
          0.276185368698082,
          -1.922113777992666,
          0.5494499941511534,
          0.7206549564338,
          -0.9516303805555207,
          -1.609155510582861,
          -0.40131901516196106,
          0.13751866377005473,
          -0.18217209654260266,
          0.7860287209432499,
          -0.3291145050836312,
          0.26243641711107646,
          -0.2878202787345519,
          -0.9128405545141554,
          -0.8312673902052876,
          -0.30275398434875406,
          0.8206462677630454,
          -0.4263469225679497,
          -1.120886690537222,
          -1.3285668861396507,
          1.3694310001895356,
          -0.8310020565902191,
          0.9175748272459755,
          -0.378438553528216,
          -0.27712991270684717,
          1.0411739903759445,
          -0.9520320074714249,
          1.9180612257286693,
          -0.2408163797498644,
          -0.7080841797917553,
          -0.12956203263442628,
          1.3475162159337835,
          0.627818631947682,
          -1.716800425038791,
          -0.2704552717952776,
          1.6795627933379111,
          -1.0832558636122478,
          0.7421375992266598,
          0.07262878557573275,
          -1.004922520323428,
          0.795976586815005,
          -0.3048903799119217,
          0.631689680578985,
          0.48543456020033926,
          -0.6346491295703771,
          1.5676354822561684,
          -0.6927541999080309,
          1.2117825885964526,
          -0.8588951660933406,
          0.04556918339778246,
          -0.2509167430446283,
          -2.410866061933873,
          -0.309138274041897,
          -0.7943130822699094,
          -1.0227254868016358,
          -0.21726475438931492,
          -0.8754548694426114,
          1.4769569272751402,
          -1.1198238404890728,
          -0.01166713487201717,
          -0.8704916124383638,
          -0.7452030374081205,
          1.0980138822393697,
          -1.2920538475380032,
          0.4820522082297061,
          0.5801132346756122,
          -1.172445079797513,
          0.10794550998379952,
          0.4549470143952793,
          1.0461950013526864,
          -1.5081622005182924,
          1.226275464583169,
          -1.5599668548836045,
          0.744306083529144,
          -0.08554417277120979,
          -1.3241444170103283,
          -1.6113510314540873,
          -1.873746753759231,
          -1.6944197671866323,
          0.6247438287291291,
          -0.1818162989389835,
          -0.45067126644989614,
          -1.1897704812162915,
          1.4373509460024958,
          -1.0109890424592494,
          -0.2246209543647973,
          -1.0054544415043833,
          -0.8917803201970335,
          0.11013000673782364,
          0.8460814387692865,
          -0.2960568336761955,
          1.6971034217877161,
          -0.6242430462122459,
          -0.9875452455298763,
          -1.1465984440862063,
          -0.6955021346674213,
          0.08545122043946983
         ]
        }
       ],
       "layout": {
        "legend": {
         "bgcolor": "#F5F6F9",
         "font": {
          "color": "#4D5663"
         }
        },
        "paper_bgcolor": "#F5F6F9",
        "plot_bgcolor": "#F5F6F9",
        "template": {
         "data": {
          "bar": [
           {
            "error_x": {
             "color": "#2a3f5f"
            },
            "error_y": {
             "color": "#2a3f5f"
            },
            "marker": {
             "line": {
              "color": "#E5ECF6",
              "width": 0.5
             }
            },
            "type": "bar"
           }
          ],
          "barpolar": [
           {
            "marker": {
             "line": {
              "color": "#E5ECF6",
              "width": 0.5
             }
            },
            "type": "barpolar"
           }
          ],
          "carpet": [
           {
            "aaxis": {
             "endlinecolor": "#2a3f5f",
             "gridcolor": "white",
             "linecolor": "white",
             "minorgridcolor": "white",
             "startlinecolor": "#2a3f5f"
            },
            "baxis": {
             "endlinecolor": "#2a3f5f",
             "gridcolor": "white",
             "linecolor": "white",
             "minorgridcolor": "white",
             "startlinecolor": "#2a3f5f"
            },
            "type": "carpet"
           }
          ],
          "choropleth": [
           {
            "colorbar": {
             "outlinewidth": 0,
             "ticks": ""
            },
            "type": "choropleth"
           }
          ],
          "contour": [
           {
            "colorbar": {
             "outlinewidth": 0,
             "ticks": ""
            },
            "colorscale": [
             [
              0,
              "#0d0887"
             ],
             [
              0.1111111111111111,
              "#46039f"
             ],
             [
              0.2222222222222222,
              "#7201a8"
             ],
             [
              0.3333333333333333,
              "#9c179e"
             ],
             [
              0.4444444444444444,
              "#bd3786"
             ],
             [
              0.5555555555555556,
              "#d8576b"
             ],
             [
              0.6666666666666666,
              "#ed7953"
             ],
             [
              0.7777777777777778,
              "#fb9f3a"
             ],
             [
              0.8888888888888888,
              "#fdca26"
             ],
             [
              1,
              "#f0f921"
             ]
            ],
            "type": "contour"
           }
          ],
          "contourcarpet": [
           {
            "colorbar": {
             "outlinewidth": 0,
             "ticks": ""
            },
            "type": "contourcarpet"
           }
          ],
          "heatmap": [
           {
            "colorbar": {
             "outlinewidth": 0,
             "ticks": ""
            },
            "colorscale": [
             [
              0,
              "#0d0887"
             ],
             [
              0.1111111111111111,
              "#46039f"
             ],
             [
              0.2222222222222222,
              "#7201a8"
             ],
             [
              0.3333333333333333,
              "#9c179e"
             ],
             [
              0.4444444444444444,
              "#bd3786"
             ],
             [
              0.5555555555555556,
              "#d8576b"
             ],
             [
              0.6666666666666666,
              "#ed7953"
             ],
             [
              0.7777777777777778,
              "#fb9f3a"
             ],
             [
              0.8888888888888888,
              "#fdca26"
             ],
             [
              1,
              "#f0f921"
             ]
            ],
            "type": "heatmap"
           }
          ],
          "heatmapgl": [
           {
            "colorbar": {
             "outlinewidth": 0,
             "ticks": ""
            },
            "colorscale": [
             [
              0,
              "#0d0887"
             ],
             [
              0.1111111111111111,
              "#46039f"
             ],
             [
              0.2222222222222222,
              "#7201a8"
             ],
             [
              0.3333333333333333,
              "#9c179e"
             ],
             [
              0.4444444444444444,
              "#bd3786"
             ],
             [
              0.5555555555555556,
              "#d8576b"
             ],
             [
              0.6666666666666666,
              "#ed7953"
             ],
             [
              0.7777777777777778,
              "#fb9f3a"
             ],
             [
              0.8888888888888888,
              "#fdca26"
             ],
             [
              1,
              "#f0f921"
             ]
            ],
            "type": "heatmapgl"
           }
          ],
          "histogram": [
           {
            "marker": {
             "colorbar": {
              "outlinewidth": 0,
              "ticks": ""
             }
            },
            "type": "histogram"
           }
          ],
          "histogram2d": [
           {
            "colorbar": {
             "outlinewidth": 0,
             "ticks": ""
            },
            "colorscale": [
             [
              0,
              "#0d0887"
             ],
             [
              0.1111111111111111,
              "#46039f"
             ],
             [
              0.2222222222222222,
              "#7201a8"
             ],
             [
              0.3333333333333333,
              "#9c179e"
             ],
             [
              0.4444444444444444,
              "#bd3786"
             ],
             [
              0.5555555555555556,
              "#d8576b"
             ],
             [
              0.6666666666666666,
              "#ed7953"
             ],
             [
              0.7777777777777778,
              "#fb9f3a"
             ],
             [
              0.8888888888888888,
              "#fdca26"
             ],
             [
              1,
              "#f0f921"
             ]
            ],
            "type": "histogram2d"
           }
          ],
          "histogram2dcontour": [
           {
            "colorbar": {
             "outlinewidth": 0,
             "ticks": ""
            },
            "colorscale": [
             [
              0,
              "#0d0887"
             ],
             [
              0.1111111111111111,
              "#46039f"
             ],
             [
              0.2222222222222222,
              "#7201a8"
             ],
             [
              0.3333333333333333,
              "#9c179e"
             ],
             [
              0.4444444444444444,
              "#bd3786"
             ],
             [
              0.5555555555555556,
              "#d8576b"
             ],
             [
              0.6666666666666666,
              "#ed7953"
             ],
             [
              0.7777777777777778,
              "#fb9f3a"
             ],
             [
              0.8888888888888888,
              "#fdca26"
             ],
             [
              1,
              "#f0f921"
             ]
            ],
            "type": "histogram2dcontour"
           }
          ],
          "mesh3d": [
           {
            "colorbar": {
             "outlinewidth": 0,
             "ticks": ""
            },
            "type": "mesh3d"
           }
          ],
          "parcoords": [
           {
            "line": {
             "colorbar": {
              "outlinewidth": 0,
              "ticks": ""
             }
            },
            "type": "parcoords"
           }
          ],
          "pie": [
           {
            "automargin": true,
            "type": "pie"
           }
          ],
          "scatter": [
           {
            "marker": {
             "colorbar": {
              "outlinewidth": 0,
              "ticks": ""
             }
            },
            "type": "scatter"
           }
          ],
          "scatter3d": [
           {
            "line": {
             "colorbar": {
              "outlinewidth": 0,
              "ticks": ""
             }
            },
            "marker": {
             "colorbar": {
              "outlinewidth": 0,
              "ticks": ""
             }
            },
            "type": "scatter3d"
           }
          ],
          "scattercarpet": [
           {
            "marker": {
             "colorbar": {
              "outlinewidth": 0,
              "ticks": ""
             }
            },
            "type": "scattercarpet"
           }
          ],
          "scattergeo": [
           {
            "marker": {
             "colorbar": {
              "outlinewidth": 0,
              "ticks": ""
             }
            },
            "type": "scattergeo"
           }
          ],
          "scattergl": [
           {
            "marker": {
             "colorbar": {
              "outlinewidth": 0,
              "ticks": ""
             }
            },
            "type": "scattergl"
           }
          ],
          "scattermapbox": [
           {
            "marker": {
             "colorbar": {
              "outlinewidth": 0,
              "ticks": ""
             }
            },
            "type": "scattermapbox"
           }
          ],
          "scatterpolar": [
           {
            "marker": {
             "colorbar": {
              "outlinewidth": 0,
              "ticks": ""
             }
            },
            "type": "scatterpolar"
           }
          ],
          "scatterpolargl": [
           {
            "marker": {
             "colorbar": {
              "outlinewidth": 0,
              "ticks": ""
             }
            },
            "type": "scatterpolargl"
           }
          ],
          "scatterternary": [
           {
            "marker": {
             "colorbar": {
              "outlinewidth": 0,
              "ticks": ""
             }
            },
            "type": "scatterternary"
           }
          ],
          "surface": [
           {
            "colorbar": {
             "outlinewidth": 0,
             "ticks": ""
            },
            "colorscale": [
             [
              0,
              "#0d0887"
             ],
             [
              0.1111111111111111,
              "#46039f"
             ],
             [
              0.2222222222222222,
              "#7201a8"
             ],
             [
              0.3333333333333333,
              "#9c179e"
             ],
             [
              0.4444444444444444,
              "#bd3786"
             ],
             [
              0.5555555555555556,
              "#d8576b"
             ],
             [
              0.6666666666666666,
              "#ed7953"
             ],
             [
              0.7777777777777778,
              "#fb9f3a"
             ],
             [
              0.8888888888888888,
              "#fdca26"
             ],
             [
              1,
              "#f0f921"
             ]
            ],
            "type": "surface"
           }
          ],
          "table": [
           {
            "cells": {
             "fill": {
              "color": "#EBF0F8"
             },
             "line": {
              "color": "white"
             }
            },
            "header": {
             "fill": {
              "color": "#C8D4E3"
             },
             "line": {
              "color": "white"
             }
            },
            "type": "table"
           }
          ]
         },
         "layout": {
          "annotationdefaults": {
           "arrowcolor": "#2a3f5f",
           "arrowhead": 0,
           "arrowwidth": 1
          },
          "coloraxis": {
           "colorbar": {
            "outlinewidth": 0,
            "ticks": ""
           }
          },
          "colorscale": {
           "diverging": [
            [
             0,
             "#8e0152"
            ],
            [
             0.1,
             "#c51b7d"
            ],
            [
             0.2,
             "#de77ae"
            ],
            [
             0.3,
             "#f1b6da"
            ],
            [
             0.4,
             "#fde0ef"
            ],
            [
             0.5,
             "#f7f7f7"
            ],
            [
             0.6,
             "#e6f5d0"
            ],
            [
             0.7,
             "#b8e186"
            ],
            [
             0.8,
             "#7fbc41"
            ],
            [
             0.9,
             "#4d9221"
            ],
            [
             1,
             "#276419"
            ]
           ],
           "sequential": [
            [
             0,
             "#0d0887"
            ],
            [
             0.1111111111111111,
             "#46039f"
            ],
            [
             0.2222222222222222,
             "#7201a8"
            ],
            [
             0.3333333333333333,
             "#9c179e"
            ],
            [
             0.4444444444444444,
             "#bd3786"
            ],
            [
             0.5555555555555556,
             "#d8576b"
            ],
            [
             0.6666666666666666,
             "#ed7953"
            ],
            [
             0.7777777777777778,
             "#fb9f3a"
            ],
            [
             0.8888888888888888,
             "#fdca26"
            ],
            [
             1,
             "#f0f921"
            ]
           ],
           "sequentialminus": [
            [
             0,
             "#0d0887"
            ],
            [
             0.1111111111111111,
             "#46039f"
            ],
            [
             0.2222222222222222,
             "#7201a8"
            ],
            [
             0.3333333333333333,
             "#9c179e"
            ],
            [
             0.4444444444444444,
             "#bd3786"
            ],
            [
             0.5555555555555556,
             "#d8576b"
            ],
            [
             0.6666666666666666,
             "#ed7953"
            ],
            [
             0.7777777777777778,
             "#fb9f3a"
            ],
            [
             0.8888888888888888,
             "#fdca26"
            ],
            [
             1,
             "#f0f921"
            ]
           ]
          },
          "colorway": [
           "#636efa",
           "#EF553B",
           "#00cc96",
           "#ab63fa",
           "#FFA15A",
           "#19d3f3",
           "#FF6692",
           "#B6E880",
           "#FF97FF",
           "#FECB52"
          ],
          "font": {
           "color": "#2a3f5f"
          },
          "geo": {
           "bgcolor": "white",
           "lakecolor": "white",
           "landcolor": "#E5ECF6",
           "showlakes": true,
           "showland": true,
           "subunitcolor": "white"
          },
          "hoverlabel": {
           "align": "left"
          },
          "hovermode": "closest",
          "mapbox": {
           "style": "light"
          },
          "paper_bgcolor": "white",
          "plot_bgcolor": "#E5ECF6",
          "polar": {
           "angularaxis": {
            "gridcolor": "white",
            "linecolor": "white",
            "ticks": ""
           },
           "bgcolor": "#E5ECF6",
           "radialaxis": {
            "gridcolor": "white",
            "linecolor": "white",
            "ticks": ""
           }
          },
          "scene": {
           "xaxis": {
            "backgroundcolor": "#E5ECF6",
            "gridcolor": "white",
            "gridwidth": 2,
            "linecolor": "white",
            "showbackground": true,
            "ticks": "",
            "zerolinecolor": "white"
           },
           "yaxis": {
            "backgroundcolor": "#E5ECF6",
            "gridcolor": "white",
            "gridwidth": 2,
            "linecolor": "white",
            "showbackground": true,
            "ticks": "",
            "zerolinecolor": "white"
           },
           "zaxis": {
            "backgroundcolor": "#E5ECF6",
            "gridcolor": "white",
            "gridwidth": 2,
            "linecolor": "white",
            "showbackground": true,
            "ticks": "",
            "zerolinecolor": "white"
           }
          },
          "shapedefaults": {
           "line": {
            "color": "#2a3f5f"
           }
          },
          "ternary": {
           "aaxis": {
            "gridcolor": "white",
            "linecolor": "white",
            "ticks": ""
           },
           "baxis": {
            "gridcolor": "white",
            "linecolor": "white",
            "ticks": ""
           },
           "bgcolor": "#E5ECF6",
           "caxis": {
            "gridcolor": "white",
            "linecolor": "white",
            "ticks": ""
           }
          },
          "title": {
           "x": 0.05
          },
          "xaxis": {
           "automargin": true,
           "gridcolor": "white",
           "linecolor": "white",
           "ticks": "",
           "title": {
            "standoff": 15
           },
           "zerolinecolor": "white",
           "zerolinewidth": 2
          },
          "yaxis": {
           "automargin": true,
           "gridcolor": "white",
           "linecolor": "white",
           "ticks": "",
           "title": {
            "standoff": 15
           },
           "zerolinecolor": "white",
           "zerolinewidth": 2
          }
         }
        },
        "title": {
         "font": {
          "color": "#4D5663"
         }
        },
        "xaxis": {
         "gridcolor": "#E1E5ED",
         "showgrid": true,
         "tickfont": {
          "color": "#4D5663"
         },
         "title": {
          "font": {
           "color": "#4D5663"
          },
          "text": ""
         },
         "zerolinecolor": "#E1E5ED"
        },
        "yaxis": {
         "gridcolor": "#E1E5ED",
         "showgrid": true,
         "tickfont": {
          "color": "#4D5663"
         },
         "title": {
          "font": {
           "color": "#4D5663"
          },
          "text": ""
         },
         "zerolinecolor": "#E1E5ED"
        }
       }
      },
      "text/html": [
       "<div>\n",
       "        \n",
       "        \n",
       "            <div id=\"4e5fa7d9-632e-4b4e-bdd6-21f6fa94a226\" class=\"plotly-graph-div\" style=\"height:525px; width:100%;\"></div>\n",
       "            <script type=\"text/javascript\">\n",
       "                require([\"plotly\"], function(Plotly) {\n",
       "                    window.PLOTLYENV=window.PLOTLYENV || {};\n",
       "                    window.PLOTLYENV.BASE_URL='https://plot.ly';\n",
       "                    \n",
       "                if (document.getElementById(\"4e5fa7d9-632e-4b4e-bdd6-21f6fa94a226\")) {\n",
       "                    Plotly.newPlot(\n",
       "                        '4e5fa7d9-632e-4b4e-bdd6-21f6fa94a226',\n",
       "                        [{\"line\": {\"color\": \"rgba(255, 153, 51, 1.0)\", \"dash\": \"solid\", \"shape\": \"linear\", \"width\": 1.3}, \"mode\": \"lines\", \"name\": \"A\", \"text\": \"\", \"type\": \"scatter\", \"x\": [0, 1, 2, 3, 4, 5, 6, 7, 8, 9, 10, 11, 12, 13, 14, 15, 16, 17, 18, 19, 20, 21, 22, 23, 24, 25, 26, 27, 28, 29, 30, 31, 32, 33, 34, 35, 36, 37, 38, 39, 40, 41, 42, 43, 44, 45, 46, 47, 48, 49, 50, 51, 52, 53, 54, 55, 56, 57, 58, 59, 60, 61, 62, 63, 64, 65, 66, 67, 68, 69, 70, 71, 72, 73, 74, 75, 76, 77, 78, 79, 80, 81, 82, 83, 84, 85, 86, 87, 88, 89, 90, 91, 92, 93, 94, 95, 96, 97, 98, 99], \"y\": [0.7184152132165522, -0.07374414338489427, 1.3263250429191824, -0.6233809421936106, 0.4742001274446034, -0.7437583934588065, -0.20562971175271394, -0.7912846928747075, -0.02702597232497973, 0.6772742353991352, 0.2488440802940327, -1.2274686431849393, 1.254910728577048, 1.6838038342892818, 0.47921977443036406, -0.5022224516406076, -1.8745692527395976, 1.9627993771005607, 0.9560756328354928, -0.04359285288303292, 0.6415439448675059, 0.27977343160563767, -2.768644598762758, 0.05983857939039157, 1.3679925048742787, -0.10294575790551182, -0.2699661091353834, -1.2763005264901317, -0.605644482213025, 0.4211936567382423, 2.266041396863613, 1.185381051419868, -1.0917455888736831, 0.2027947575196413, -0.17045514705133089, 0.8437438075614856, -0.23401836744499166, -0.5242333839647763, -0.31142091937150457, -0.9076703163927581, -1.837456312116648, -2.024823808987759, -1.8596832253495934, -0.35995344488929754, -0.1560997144255655, -0.24862232873532386, -0.5330745736291332, 0.42241547345708086, 0.6285806273053471, -0.5757328837855584, 0.7320221470593188, -0.78920439441667, 0.24399057919069703, 1.403681725672624, -0.36497311179059233, -1.2035747602760776, -0.6799866071005245, -1.383687431161648, 1.7204180525409456, 0.7798432843313373, -1.746971525420941, -1.0509291587207734, 0.21952730859203842, 0.5153002455921952, 0.662698390986974, -1.3706491187827667, -0.18692234413642134, 0.20435033186983825, 0.9577209134936103, -1.7580578520641799, 1.934397248202235, -0.2419679983579328, -1.3560222792664143, -1.6380730147438929, 0.542730758603566, -0.06911316253794753, 0.9256442751713155, -1.2929221940251012, -0.922538122771601, 1.0787188690915535, 1.5772741845128695, 0.8298802627756018, 1.1312577460069513, 0.5757750599947684, 0.8140317333587312, -0.8666171022168118, -0.09076294738478492, 0.7675522138256289, -0.1310600103165868, -0.700574932350856, 0.4347324878153614, -1.8128643854407822, -0.28217756256423554, -1.1676894050183275, 0.5138668046894407, -1.1695517800152062, 1.0658983671799178, 0.4561467894013599, -1.0421540922213297, -0.0011269428682303502]}, {\"line\": {\"color\": \"rgba(55, 128, 191, 1.0)\", \"dash\": \"solid\", \"shape\": \"linear\", \"width\": 1.3}, \"mode\": \"lines\", \"name\": \"B\", \"text\": \"\", \"type\": \"scatter\", \"x\": [0, 1, 2, 3, 4, 5, 6, 7, 8, 9, 10, 11, 12, 13, 14, 15, 16, 17, 18, 19, 20, 21, 22, 23, 24, 25, 26, 27, 28, 29, 30, 31, 32, 33, 34, 35, 36, 37, 38, 39, 40, 41, 42, 43, 44, 45, 46, 47, 48, 49, 50, 51, 52, 53, 54, 55, 56, 57, 58, 59, 60, 61, 62, 63, 64, 65, 66, 67, 68, 69, 70, 71, 72, 73, 74, 75, 76, 77, 78, 79, 80, 81, 82, 83, 84, 85, 86, 87, 88, 89, 90, 91, 92, 93, 94, 95, 96, 97, 98, 99], \"y\": [-0.574006817058656, -0.7266588076382805, -0.3582653821205203, 0.4108711973078174, -0.32049412434813634, 0.04773441291937425, -0.3688892653969485, -1.9676847227099559, 0.25795986598318144, 0.537925471808953, -1.4962385157709366, 0.5057892669442116, -0.29203313936093456, 0.6328171202069542, -1.0522874962492237, 0.7878930777939451, 1.4309553115391773, 0.1889102418784355, -0.013342842989387687, 3.116070838792739, -0.41845360400421255, 1.9858575207739673, 0.6403115956548909, 0.1907142736681472, -1.504935982311471, 0.7416036365144881, 0.1676053881271684, -0.24114082085754754, -0.8756962069315755, -0.525281131553952, 0.16729678126738956, -1.4261549151524915, -0.8095904163469871, 1.6988271573620615, 1.7586594424748208, 1.1173774377465564, -0.18402664254405693, -0.8725967786135869, 0.9340462500605381, 0.0436769694271896, 0.2528261269315577, -0.48797455718435667, 0.4185303541013756, -1.2115610819467757, -1.3873781031274601, -2.134924563226702, -0.36394732545907527, -1.8930906878602132, 0.30419682598120823, -1.2397000596617789, 1.5072415238223666, 0.5076516583359088, -0.27253561558943046, 0.9944063915869681, 0.20503443372919314, 0.11496705703028283, 2.2451308551185214, -1.1894233003016832, -0.4109483665207544, 0.4564664039644072, 0.0594821775386694, 2.025352796007877, 0.13277668831354794, 1.084947573356576, 0.2886397552371678, -0.46229439145929685, 0.07114397903457587, -0.36825571307179933, 0.0580491159714769, -1.3175848043112401, 1.6977785396994103, 1.5238962245440153, 0.6735606382188081, 0.27852016317782674, -0.5125567623845447, 0.8200273758606282, 1.0211947809981352, -0.43694675512536835, 2.4293952236159813, 1.075463756336378, 1.4049925716695653, 1.116341730370617, -0.7067699756998078, 0.516178571121736, 0.27073191733361573, -1.030797684921648, -1.1109877307709126, 0.4322628958451547, -0.9748824546183325, -2.0597490912023915, 0.22368680313699774, -0.5803128715110616, -2.3645027848541047, 0.29715916628752514, 1.3546167563630593, -0.25223335075808057, 0.1881641349093222, 2.6987241405368656, -1.3327602486409937, -0.6169747814033371]}, {\"line\": {\"color\": \"rgba(50, 171, 96, 1.0)\", \"dash\": \"solid\", \"shape\": \"linear\", \"width\": 1.3}, \"mode\": \"lines\", \"name\": \"C\", \"text\": \"\", \"type\": \"scatter\", \"x\": [0, 1, 2, 3, 4, 5, 6, 7, 8, 9, 10, 11, 12, 13, 14, 15, 16, 17, 18, 19, 20, 21, 22, 23, 24, 25, 26, 27, 28, 29, 30, 31, 32, 33, 34, 35, 36, 37, 38, 39, 40, 41, 42, 43, 44, 45, 46, 47, 48, 49, 50, 51, 52, 53, 54, 55, 56, 57, 58, 59, 60, 61, 62, 63, 64, 65, 66, 67, 68, 69, 70, 71, 72, 73, 74, 75, 76, 77, 78, 79, 80, 81, 82, 83, 84, 85, 86, 87, 88, 89, 90, 91, 92, 93, 94, 95, 96, 97, 98, 99], \"y\": [0.4186050978255918, 0.9660299067572595, -0.4318143275388457, 0.5065075567870579, 1.4859078649464117, 2.037283479738617, 0.1718877247483784, 0.47531459547715643, 0.42823940845213554, -0.21305545190507444, 0.28190489492175935, -0.173204935815877, 0.39757462485732936, 1.3856892836568033, 0.9822240896658297, 1.938516935317932, 0.2152802615769902, -1.6198131628409123, 0.5373273678187647, 1.0074272134548774, -0.8947699356644431, -0.20862165688177156, -0.10861066684874332, 0.4534828477073112, 0.8168342651047499, -0.1687725979146592, -0.5712267200634286, -1.1119129875224343, -1.6453222605018447, 0.9855003647827035, 1.7181503768731639, -0.12801937833791582, -0.759239480823569, -0.15604891625994818, -0.7308177686807426, -0.7654926526655869, -1.4628634609740454, -0.11367567007750326, 0.44960352548597154, -0.9706311730653845, 1.2545677594079299, -2.271041367591699, 1.104145953395362, 0.6195613024301116, -0.5005945813435325, -0.9063252531488935, -0.043850682877327164, -0.8454320211462417, 0.7108991077320378, -1.9204840919319068, -1.458754114994838, -0.20099174944696324, -0.22259167976453564, -0.35670458652429826, -1.2551092820330252, -1.7901862237899924, 0.9448393991015264, -0.1572709025185171, -1.6644238182098812, 0.3172932947843975, -0.23550701831544502, 0.2657712421161027, -0.053078294913159324, -2.398334429775859, 0.7519569965442786, -0.16681679209782702, 0.3452512000546205, -0.2910305465854694, -0.33331624044084773, 0.9055671431700401, -0.42227825539631764, -1.2871107075659745, 0.02109412124539801, -0.9061252419518914, -0.30150226561932414, 1.334079070716369, -0.9170838735545183, 0.4103890346700743, -0.5089311284427338, 0.21384246102570673, -0.25502806255931987, 0.8148800270629623, 0.042616665556271735, -0.1568235945172625, -0.04308239534943786, -0.28435314213034757, -1.0269739230542796, 1.269247105161303, 1.1439941254385915, 0.39004917349610146, -0.282070716056746, -0.5068669529975444, 1.0857202913987292, -0.9641678103539787, 2.403598393563145, -1.1166542022763057, 0.0546234593929146, -0.9843132869855903, 1.3621554962299072, 0.8257631253025725]}, {\"line\": {\"color\": \"rgba(128, 0, 128, 1.0)\", \"dash\": \"solid\", \"shape\": \"linear\", \"width\": 1.3}, \"mode\": \"lines\", \"name\": \"D\", \"text\": \"\", \"type\": \"scatter\", \"x\": [0, 1, 2, 3, 4, 5, 6, 7, 8, 9, 10, 11, 12, 13, 14, 15, 16, 17, 18, 19, 20, 21, 22, 23, 24, 25, 26, 27, 28, 29, 30, 31, 32, 33, 34, 35, 36, 37, 38, 39, 40, 41, 42, 43, 44, 45, 46, 47, 48, 49, 50, 51, 52, 53, 54, 55, 56, 57, 58, 59, 60, 61, 62, 63, 64, 65, 66, 67, 68, 69, 70, 71, 72, 73, 74, 75, 76, 77, 78, 79, 80, 81, 82, 83, 84, 85, 86, 87, 88, 89, 90, 91, 92, 93, 94, 95, 96, 97, 98, 99], \"y\": [-0.44737534191412004, 1.109785149730803, -0.31221247860147944, 0.276185368698082, -1.922113777992666, 0.5494499941511534, 0.7206549564338, -0.9516303805555207, -1.609155510582861, -0.40131901516196106, 0.13751866377005473, -0.18217209654260266, 0.7860287209432499, -0.3291145050836312, 0.26243641711107646, -0.2878202787345519, -0.9128405545141554, -0.8312673902052876, -0.30275398434875406, 0.8206462677630454, -0.4263469225679497, -1.120886690537222, -1.3285668861396507, 1.3694310001895356, -0.8310020565902191, 0.9175748272459755, -0.378438553528216, -0.27712991270684717, 1.0411739903759445, -0.9520320074714249, 1.9180612257286693, -0.2408163797498644, -0.7080841797917553, -0.12956203263442628, 1.3475162159337835, 0.627818631947682, -1.716800425038791, -0.2704552717952776, 1.6795627933379111, -1.0832558636122478, 0.7421375992266598, 0.07262878557573275, -1.004922520323428, 0.795976586815005, -0.3048903799119217, 0.631689680578985, 0.48543456020033926, -0.6346491295703771, 1.5676354822561684, -0.6927541999080309, 1.2117825885964526, -0.8588951660933406, 0.04556918339778246, -0.2509167430446283, -2.410866061933873, -0.309138274041897, -0.7943130822699094, -1.0227254868016358, -0.21726475438931492, -0.8754548694426114, 1.4769569272751402, -1.1198238404890728, -0.01166713487201717, -0.8704916124383638, -0.7452030374081205, 1.0980138822393697, -1.2920538475380032, 0.4820522082297061, 0.5801132346756122, -1.172445079797513, 0.10794550998379952, 0.4549470143952793, 1.0461950013526864, -1.5081622005182924, 1.226275464583169, -1.5599668548836045, 0.744306083529144, -0.08554417277120979, -1.3241444170103283, -1.6113510314540873, -1.873746753759231, -1.6944197671866323, 0.6247438287291291, -0.1818162989389835, -0.45067126644989614, -1.1897704812162915, 1.4373509460024958, -1.0109890424592494, -0.2246209543647973, -1.0054544415043833, -0.8917803201970335, 0.11013000673782364, 0.8460814387692865, -0.2960568336761955, 1.6971034217877161, -0.6242430462122459, -0.9875452455298763, -1.1465984440862063, -0.6955021346674213, 0.08545122043946983]}],\n",
       "                        {\"legend\": {\"bgcolor\": \"#F5F6F9\", \"font\": {\"color\": \"#4D5663\"}}, \"paper_bgcolor\": \"#F5F6F9\", \"plot_bgcolor\": \"#F5F6F9\", \"template\": {\"data\": {\"bar\": [{\"error_x\": {\"color\": \"#2a3f5f\"}, \"error_y\": {\"color\": \"#2a3f5f\"}, \"marker\": {\"line\": {\"color\": \"#E5ECF6\", \"width\": 0.5}}, \"type\": \"bar\"}], \"barpolar\": [{\"marker\": {\"line\": {\"color\": \"#E5ECF6\", \"width\": 0.5}}, \"type\": \"barpolar\"}], \"carpet\": [{\"aaxis\": {\"endlinecolor\": \"#2a3f5f\", \"gridcolor\": \"white\", \"linecolor\": \"white\", \"minorgridcolor\": \"white\", \"startlinecolor\": \"#2a3f5f\"}, \"baxis\": {\"endlinecolor\": \"#2a3f5f\", \"gridcolor\": \"white\", \"linecolor\": \"white\", \"minorgridcolor\": \"white\", \"startlinecolor\": \"#2a3f5f\"}, \"type\": \"carpet\"}], \"choropleth\": [{\"colorbar\": {\"outlinewidth\": 0, \"ticks\": \"\"}, \"type\": \"choropleth\"}], \"contour\": [{\"colorbar\": {\"outlinewidth\": 0, \"ticks\": \"\"}, \"colorscale\": [[0.0, \"#0d0887\"], [0.1111111111111111, \"#46039f\"], [0.2222222222222222, \"#7201a8\"], [0.3333333333333333, \"#9c179e\"], [0.4444444444444444, \"#bd3786\"], [0.5555555555555556, \"#d8576b\"], [0.6666666666666666, \"#ed7953\"], [0.7777777777777778, \"#fb9f3a\"], [0.8888888888888888, \"#fdca26\"], [1.0, \"#f0f921\"]], \"type\": \"contour\"}], \"contourcarpet\": [{\"colorbar\": {\"outlinewidth\": 0, \"ticks\": \"\"}, \"type\": \"contourcarpet\"}], \"heatmap\": [{\"colorbar\": {\"outlinewidth\": 0, \"ticks\": \"\"}, \"colorscale\": [[0.0, \"#0d0887\"], [0.1111111111111111, \"#46039f\"], [0.2222222222222222, \"#7201a8\"], [0.3333333333333333, \"#9c179e\"], [0.4444444444444444, \"#bd3786\"], [0.5555555555555556, \"#d8576b\"], [0.6666666666666666, \"#ed7953\"], [0.7777777777777778, \"#fb9f3a\"], [0.8888888888888888, \"#fdca26\"], [1.0, \"#f0f921\"]], \"type\": \"heatmap\"}], \"heatmapgl\": [{\"colorbar\": {\"outlinewidth\": 0, \"ticks\": \"\"}, \"colorscale\": [[0.0, \"#0d0887\"], [0.1111111111111111, \"#46039f\"], [0.2222222222222222, \"#7201a8\"], [0.3333333333333333, \"#9c179e\"], [0.4444444444444444, \"#bd3786\"], [0.5555555555555556, \"#d8576b\"], [0.6666666666666666, \"#ed7953\"], [0.7777777777777778, \"#fb9f3a\"], [0.8888888888888888, \"#fdca26\"], [1.0, \"#f0f921\"]], \"type\": \"heatmapgl\"}], \"histogram\": [{\"marker\": {\"colorbar\": {\"outlinewidth\": 0, \"ticks\": \"\"}}, \"type\": \"histogram\"}], \"histogram2d\": [{\"colorbar\": {\"outlinewidth\": 0, \"ticks\": \"\"}, \"colorscale\": [[0.0, \"#0d0887\"], [0.1111111111111111, \"#46039f\"], [0.2222222222222222, \"#7201a8\"], [0.3333333333333333, \"#9c179e\"], [0.4444444444444444, \"#bd3786\"], [0.5555555555555556, \"#d8576b\"], [0.6666666666666666, \"#ed7953\"], [0.7777777777777778, \"#fb9f3a\"], [0.8888888888888888, \"#fdca26\"], [1.0, \"#f0f921\"]], \"type\": \"histogram2d\"}], \"histogram2dcontour\": [{\"colorbar\": {\"outlinewidth\": 0, \"ticks\": \"\"}, \"colorscale\": [[0.0, \"#0d0887\"], [0.1111111111111111, \"#46039f\"], [0.2222222222222222, \"#7201a8\"], [0.3333333333333333, \"#9c179e\"], [0.4444444444444444, \"#bd3786\"], [0.5555555555555556, \"#d8576b\"], [0.6666666666666666, \"#ed7953\"], [0.7777777777777778, \"#fb9f3a\"], [0.8888888888888888, \"#fdca26\"], [1.0, \"#f0f921\"]], \"type\": \"histogram2dcontour\"}], \"mesh3d\": [{\"colorbar\": {\"outlinewidth\": 0, \"ticks\": \"\"}, \"type\": \"mesh3d\"}], \"parcoords\": [{\"line\": {\"colorbar\": {\"outlinewidth\": 0, \"ticks\": \"\"}}, \"type\": \"parcoords\"}], \"pie\": [{\"automargin\": true, \"type\": \"pie\"}], \"scatter\": [{\"marker\": {\"colorbar\": {\"outlinewidth\": 0, \"ticks\": \"\"}}, \"type\": \"scatter\"}], \"scatter3d\": [{\"line\": {\"colorbar\": {\"outlinewidth\": 0, \"ticks\": \"\"}}, \"marker\": {\"colorbar\": {\"outlinewidth\": 0, \"ticks\": \"\"}}, \"type\": \"scatter3d\"}], \"scattercarpet\": [{\"marker\": {\"colorbar\": {\"outlinewidth\": 0, \"ticks\": \"\"}}, \"type\": \"scattercarpet\"}], \"scattergeo\": [{\"marker\": {\"colorbar\": {\"outlinewidth\": 0, \"ticks\": \"\"}}, \"type\": \"scattergeo\"}], \"scattergl\": [{\"marker\": {\"colorbar\": {\"outlinewidth\": 0, \"ticks\": \"\"}}, \"type\": \"scattergl\"}], \"scattermapbox\": [{\"marker\": {\"colorbar\": {\"outlinewidth\": 0, \"ticks\": \"\"}}, \"type\": \"scattermapbox\"}], \"scatterpolar\": [{\"marker\": {\"colorbar\": {\"outlinewidth\": 0, \"ticks\": \"\"}}, \"type\": \"scatterpolar\"}], \"scatterpolargl\": [{\"marker\": {\"colorbar\": {\"outlinewidth\": 0, \"ticks\": \"\"}}, \"type\": \"scatterpolargl\"}], \"scatterternary\": [{\"marker\": {\"colorbar\": {\"outlinewidth\": 0, \"ticks\": \"\"}}, \"type\": \"scatterternary\"}], \"surface\": [{\"colorbar\": {\"outlinewidth\": 0, \"ticks\": \"\"}, \"colorscale\": [[0.0, \"#0d0887\"], [0.1111111111111111, \"#46039f\"], [0.2222222222222222, \"#7201a8\"], [0.3333333333333333, \"#9c179e\"], [0.4444444444444444, \"#bd3786\"], [0.5555555555555556, \"#d8576b\"], [0.6666666666666666, \"#ed7953\"], [0.7777777777777778, \"#fb9f3a\"], [0.8888888888888888, \"#fdca26\"], [1.0, \"#f0f921\"]], \"type\": \"surface\"}], \"table\": [{\"cells\": {\"fill\": {\"color\": \"#EBF0F8\"}, \"line\": {\"color\": \"white\"}}, \"header\": {\"fill\": {\"color\": \"#C8D4E3\"}, \"line\": {\"color\": \"white\"}}, \"type\": \"table\"}]}, \"layout\": {\"annotationdefaults\": {\"arrowcolor\": \"#2a3f5f\", \"arrowhead\": 0, \"arrowwidth\": 1}, \"coloraxis\": {\"colorbar\": {\"outlinewidth\": 0, \"ticks\": \"\"}}, \"colorscale\": {\"diverging\": [[0, \"#8e0152\"], [0.1, \"#c51b7d\"], [0.2, \"#de77ae\"], [0.3, \"#f1b6da\"], [0.4, \"#fde0ef\"], [0.5, \"#f7f7f7\"], [0.6, \"#e6f5d0\"], [0.7, \"#b8e186\"], [0.8, \"#7fbc41\"], [0.9, \"#4d9221\"], [1, \"#276419\"]], \"sequential\": [[0.0, \"#0d0887\"], [0.1111111111111111, \"#46039f\"], [0.2222222222222222, \"#7201a8\"], [0.3333333333333333, \"#9c179e\"], [0.4444444444444444, \"#bd3786\"], [0.5555555555555556, \"#d8576b\"], [0.6666666666666666, \"#ed7953\"], [0.7777777777777778, \"#fb9f3a\"], [0.8888888888888888, \"#fdca26\"], [1.0, \"#f0f921\"]], \"sequentialminus\": [[0.0, \"#0d0887\"], [0.1111111111111111, \"#46039f\"], [0.2222222222222222, \"#7201a8\"], [0.3333333333333333, \"#9c179e\"], [0.4444444444444444, \"#bd3786\"], [0.5555555555555556, \"#d8576b\"], [0.6666666666666666, \"#ed7953\"], [0.7777777777777778, \"#fb9f3a\"], [0.8888888888888888, \"#fdca26\"], [1.0, \"#f0f921\"]]}, \"colorway\": [\"#636efa\", \"#EF553B\", \"#00cc96\", \"#ab63fa\", \"#FFA15A\", \"#19d3f3\", \"#FF6692\", \"#B6E880\", \"#FF97FF\", \"#FECB52\"], \"font\": {\"color\": \"#2a3f5f\"}, \"geo\": {\"bgcolor\": \"white\", \"lakecolor\": \"white\", \"landcolor\": \"#E5ECF6\", \"showlakes\": true, \"showland\": true, \"subunitcolor\": \"white\"}, \"hoverlabel\": {\"align\": \"left\"}, \"hovermode\": \"closest\", \"mapbox\": {\"style\": \"light\"}, \"paper_bgcolor\": \"white\", \"plot_bgcolor\": \"#E5ECF6\", \"polar\": {\"angularaxis\": {\"gridcolor\": \"white\", \"linecolor\": \"white\", \"ticks\": \"\"}, \"bgcolor\": \"#E5ECF6\", \"radialaxis\": {\"gridcolor\": \"white\", \"linecolor\": \"white\", \"ticks\": \"\"}}, \"scene\": {\"xaxis\": {\"backgroundcolor\": \"#E5ECF6\", \"gridcolor\": \"white\", \"gridwidth\": 2, \"linecolor\": \"white\", \"showbackground\": true, \"ticks\": \"\", \"zerolinecolor\": \"white\"}, \"yaxis\": {\"backgroundcolor\": \"#E5ECF6\", \"gridcolor\": \"white\", \"gridwidth\": 2, \"linecolor\": \"white\", \"showbackground\": true, \"ticks\": \"\", \"zerolinecolor\": \"white\"}, \"zaxis\": {\"backgroundcolor\": \"#E5ECF6\", \"gridcolor\": \"white\", \"gridwidth\": 2, \"linecolor\": \"white\", \"showbackground\": true, \"ticks\": \"\", \"zerolinecolor\": \"white\"}}, \"shapedefaults\": {\"line\": {\"color\": \"#2a3f5f\"}}, \"ternary\": {\"aaxis\": {\"gridcolor\": \"white\", \"linecolor\": \"white\", \"ticks\": \"\"}, \"baxis\": {\"gridcolor\": \"white\", \"linecolor\": \"white\", \"ticks\": \"\"}, \"bgcolor\": \"#E5ECF6\", \"caxis\": {\"gridcolor\": \"white\", \"linecolor\": \"white\", \"ticks\": \"\"}}, \"title\": {\"x\": 0.05}, \"xaxis\": {\"automargin\": true, \"gridcolor\": \"white\", \"linecolor\": \"white\", \"ticks\": \"\", \"title\": {\"standoff\": 15}, \"zerolinecolor\": \"white\", \"zerolinewidth\": 2}, \"yaxis\": {\"automargin\": true, \"gridcolor\": \"white\", \"linecolor\": \"white\", \"ticks\": \"\", \"title\": {\"standoff\": 15}, \"zerolinecolor\": \"white\", \"zerolinewidth\": 2}}}, \"title\": {\"font\": {\"color\": \"#4D5663\"}}, \"xaxis\": {\"gridcolor\": \"#E1E5ED\", \"showgrid\": true, \"tickfont\": {\"color\": \"#4D5663\"}, \"title\": {\"font\": {\"color\": \"#4D5663\"}, \"text\": \"\"}, \"zerolinecolor\": \"#E1E5ED\"}, \"yaxis\": {\"gridcolor\": \"#E1E5ED\", \"showgrid\": true, \"tickfont\": {\"color\": \"#4D5663\"}, \"title\": {\"font\": {\"color\": \"#4D5663\"}, \"text\": \"\"}, \"zerolinecolor\": \"#E1E5ED\"}},\n",
       "                        {\"showLink\": true, \"linkText\": \"Export to plot.ly\", \"plotlyServerURL\": \"https://plot.ly\", \"responsive\": true}\n",
       "                    ).then(function(){\n",
       "                            \n",
       "var gd = document.getElementById('4e5fa7d9-632e-4b4e-bdd6-21f6fa94a226');\n",
       "var x = new MutationObserver(function (mutations, observer) {{\n",
       "        var display = window.getComputedStyle(gd).display;\n",
       "        if (!display || display === 'none') {{\n",
       "            console.log([gd, 'removed!']);\n",
       "            Plotly.purge(gd);\n",
       "            observer.disconnect();\n",
       "        }}\n",
       "}});\n",
       "\n",
       "// Listen for the removal of the full notebook cells\n",
       "var notebookContainer = gd.closest('#notebook-container');\n",
       "if (notebookContainer) {{\n",
       "    x.observe(notebookContainer, {childList: true});\n",
       "}}\n",
       "\n",
       "// Listen for the clearing of the current output cell\n",
       "var outputEl = gd.closest('.output');\n",
       "if (outputEl) {{\n",
       "    x.observe(outputEl, {childList: true});\n",
       "}}\n",
       "\n",
       "                        })\n",
       "                };\n",
       "                });\n",
       "            </script>\n",
       "        </div>"
      ]
     },
     "metadata": {},
     "output_type": "display_data"
    }
   ],
   "source": [
    "df.iplot()"
   ]
  },
  {
   "cell_type": "code",
   "execution_count": 41,
   "metadata": {},
   "outputs": [
    {
     "data": {
      "application/vnd.plotly.v1+json": {
       "config": {
        "linkText": "Export to plot.ly",
        "plotlyServerURL": "https://plot.ly",
        "showLink": true
       },
       "data": [
        {
         "line": {
          "color": "rgba(255, 153, 51, 1.0)",
          "dash": "solid",
          "shape": "linear",
          "width": 1.3
         },
         "marker": {
          "size": 12,
          "symbol": "circle"
         },
         "mode": "markers",
         "name": "B",
         "text": "",
         "type": "scatter",
         "x": [
          0.7184152132165522,
          -0.07374414338489427,
          1.3263250429191824,
          -0.6233809421936106,
          0.4742001274446034,
          -0.7437583934588065,
          -0.20562971175271394,
          -0.7912846928747075,
          -0.02702597232497973,
          0.6772742353991352,
          0.2488440802940327,
          -1.2274686431849393,
          1.254910728577048,
          1.6838038342892818,
          0.47921977443036406,
          -0.5022224516406076,
          -1.8745692527395976,
          1.9627993771005607,
          0.9560756328354928,
          -0.04359285288303292,
          0.6415439448675059,
          0.27977343160563767,
          -2.768644598762758,
          0.05983857939039157,
          1.3679925048742787,
          -0.10294575790551182,
          -0.2699661091353834,
          -1.2763005264901317,
          -0.605644482213025,
          0.4211936567382423,
          2.266041396863613,
          1.185381051419868,
          -1.0917455888736831,
          0.2027947575196413,
          -0.17045514705133089,
          0.8437438075614856,
          -0.23401836744499166,
          -0.5242333839647763,
          -0.31142091937150457,
          -0.9076703163927581,
          -1.837456312116648,
          -2.024823808987759,
          -1.8596832253495934,
          -0.35995344488929754,
          -0.1560997144255655,
          -0.24862232873532386,
          -0.5330745736291332,
          0.42241547345708086,
          0.6285806273053471,
          -0.5757328837855584,
          0.7320221470593188,
          -0.78920439441667,
          0.24399057919069703,
          1.403681725672624,
          -0.36497311179059233,
          -1.2035747602760776,
          -0.6799866071005245,
          -1.383687431161648,
          1.7204180525409456,
          0.7798432843313373,
          -1.746971525420941,
          -1.0509291587207734,
          0.21952730859203842,
          0.5153002455921952,
          0.662698390986974,
          -1.3706491187827667,
          -0.18692234413642134,
          0.20435033186983825,
          0.9577209134936103,
          -1.7580578520641799,
          1.934397248202235,
          -0.2419679983579328,
          -1.3560222792664143,
          -1.6380730147438929,
          0.542730758603566,
          -0.06911316253794753,
          0.9256442751713155,
          -1.2929221940251012,
          -0.922538122771601,
          1.0787188690915535,
          1.5772741845128695,
          0.8298802627756018,
          1.1312577460069513,
          0.5757750599947684,
          0.8140317333587312,
          -0.8666171022168118,
          -0.09076294738478492,
          0.7675522138256289,
          -0.1310600103165868,
          -0.700574932350856,
          0.4347324878153614,
          -1.8128643854407822,
          -0.28217756256423554,
          -1.1676894050183275,
          0.5138668046894407,
          -1.1695517800152062,
          1.0658983671799178,
          0.4561467894013599,
          -1.0421540922213297,
          -0.0011269428682303502
         ],
         "y": [
          -0.574006817058656,
          -0.7266588076382805,
          -0.3582653821205203,
          0.4108711973078174,
          -0.32049412434813634,
          0.04773441291937425,
          -0.3688892653969485,
          -1.9676847227099559,
          0.25795986598318144,
          0.537925471808953,
          -1.4962385157709366,
          0.5057892669442116,
          -0.29203313936093456,
          0.6328171202069542,
          -1.0522874962492237,
          0.7878930777939451,
          1.4309553115391773,
          0.1889102418784355,
          -0.013342842989387687,
          3.116070838792739,
          -0.41845360400421255,
          1.9858575207739673,
          0.6403115956548909,
          0.1907142736681472,
          -1.504935982311471,
          0.7416036365144881,
          0.1676053881271684,
          -0.24114082085754754,
          -0.8756962069315755,
          -0.525281131553952,
          0.16729678126738956,
          -1.4261549151524915,
          -0.8095904163469871,
          1.6988271573620615,
          1.7586594424748208,
          1.1173774377465564,
          -0.18402664254405693,
          -0.8725967786135869,
          0.9340462500605381,
          0.0436769694271896,
          0.2528261269315577,
          -0.48797455718435667,
          0.4185303541013756,
          -1.2115610819467757,
          -1.3873781031274601,
          -2.134924563226702,
          -0.36394732545907527,
          -1.8930906878602132,
          0.30419682598120823,
          -1.2397000596617789,
          1.5072415238223666,
          0.5076516583359088,
          -0.27253561558943046,
          0.9944063915869681,
          0.20503443372919314,
          0.11496705703028283,
          2.2451308551185214,
          -1.1894233003016832,
          -0.4109483665207544,
          0.4564664039644072,
          0.0594821775386694,
          2.025352796007877,
          0.13277668831354794,
          1.084947573356576,
          0.2886397552371678,
          -0.46229439145929685,
          0.07114397903457587,
          -0.36825571307179933,
          0.0580491159714769,
          -1.3175848043112401,
          1.6977785396994103,
          1.5238962245440153,
          0.6735606382188081,
          0.27852016317782674,
          -0.5125567623845447,
          0.8200273758606282,
          1.0211947809981352,
          -0.43694675512536835,
          2.4293952236159813,
          1.075463756336378,
          1.4049925716695653,
          1.116341730370617,
          -0.7067699756998078,
          0.516178571121736,
          0.27073191733361573,
          -1.030797684921648,
          -1.1109877307709126,
          0.4322628958451547,
          -0.9748824546183325,
          -2.0597490912023915,
          0.22368680313699774,
          -0.5803128715110616,
          -2.3645027848541047,
          0.29715916628752514,
          1.3546167563630593,
          -0.25223335075808057,
          0.1881641349093222,
          2.6987241405368656,
          -1.3327602486409937,
          -0.6169747814033371
         ]
        }
       ],
       "layout": {
        "legend": {
         "bgcolor": "#F5F6F9",
         "font": {
          "color": "#4D5663"
         }
        },
        "paper_bgcolor": "#F5F6F9",
        "plot_bgcolor": "#F5F6F9",
        "template": {
         "data": {
          "bar": [
           {
            "error_x": {
             "color": "#2a3f5f"
            },
            "error_y": {
             "color": "#2a3f5f"
            },
            "marker": {
             "line": {
              "color": "#E5ECF6",
              "width": 0.5
             }
            },
            "type": "bar"
           }
          ],
          "barpolar": [
           {
            "marker": {
             "line": {
              "color": "#E5ECF6",
              "width": 0.5
             }
            },
            "type": "barpolar"
           }
          ],
          "carpet": [
           {
            "aaxis": {
             "endlinecolor": "#2a3f5f",
             "gridcolor": "white",
             "linecolor": "white",
             "minorgridcolor": "white",
             "startlinecolor": "#2a3f5f"
            },
            "baxis": {
             "endlinecolor": "#2a3f5f",
             "gridcolor": "white",
             "linecolor": "white",
             "minorgridcolor": "white",
             "startlinecolor": "#2a3f5f"
            },
            "type": "carpet"
           }
          ],
          "choropleth": [
           {
            "colorbar": {
             "outlinewidth": 0,
             "ticks": ""
            },
            "type": "choropleth"
           }
          ],
          "contour": [
           {
            "colorbar": {
             "outlinewidth": 0,
             "ticks": ""
            },
            "colorscale": [
             [
              0,
              "#0d0887"
             ],
             [
              0.1111111111111111,
              "#46039f"
             ],
             [
              0.2222222222222222,
              "#7201a8"
             ],
             [
              0.3333333333333333,
              "#9c179e"
             ],
             [
              0.4444444444444444,
              "#bd3786"
             ],
             [
              0.5555555555555556,
              "#d8576b"
             ],
             [
              0.6666666666666666,
              "#ed7953"
             ],
             [
              0.7777777777777778,
              "#fb9f3a"
             ],
             [
              0.8888888888888888,
              "#fdca26"
             ],
             [
              1,
              "#f0f921"
             ]
            ],
            "type": "contour"
           }
          ],
          "contourcarpet": [
           {
            "colorbar": {
             "outlinewidth": 0,
             "ticks": ""
            },
            "type": "contourcarpet"
           }
          ],
          "heatmap": [
           {
            "colorbar": {
             "outlinewidth": 0,
             "ticks": ""
            },
            "colorscale": [
             [
              0,
              "#0d0887"
             ],
             [
              0.1111111111111111,
              "#46039f"
             ],
             [
              0.2222222222222222,
              "#7201a8"
             ],
             [
              0.3333333333333333,
              "#9c179e"
             ],
             [
              0.4444444444444444,
              "#bd3786"
             ],
             [
              0.5555555555555556,
              "#d8576b"
             ],
             [
              0.6666666666666666,
              "#ed7953"
             ],
             [
              0.7777777777777778,
              "#fb9f3a"
             ],
             [
              0.8888888888888888,
              "#fdca26"
             ],
             [
              1,
              "#f0f921"
             ]
            ],
            "type": "heatmap"
           }
          ],
          "heatmapgl": [
           {
            "colorbar": {
             "outlinewidth": 0,
             "ticks": ""
            },
            "colorscale": [
             [
              0,
              "#0d0887"
             ],
             [
              0.1111111111111111,
              "#46039f"
             ],
             [
              0.2222222222222222,
              "#7201a8"
             ],
             [
              0.3333333333333333,
              "#9c179e"
             ],
             [
              0.4444444444444444,
              "#bd3786"
             ],
             [
              0.5555555555555556,
              "#d8576b"
             ],
             [
              0.6666666666666666,
              "#ed7953"
             ],
             [
              0.7777777777777778,
              "#fb9f3a"
             ],
             [
              0.8888888888888888,
              "#fdca26"
             ],
             [
              1,
              "#f0f921"
             ]
            ],
            "type": "heatmapgl"
           }
          ],
          "histogram": [
           {
            "marker": {
             "colorbar": {
              "outlinewidth": 0,
              "ticks": ""
             }
            },
            "type": "histogram"
           }
          ],
          "histogram2d": [
           {
            "colorbar": {
             "outlinewidth": 0,
             "ticks": ""
            },
            "colorscale": [
             [
              0,
              "#0d0887"
             ],
             [
              0.1111111111111111,
              "#46039f"
             ],
             [
              0.2222222222222222,
              "#7201a8"
             ],
             [
              0.3333333333333333,
              "#9c179e"
             ],
             [
              0.4444444444444444,
              "#bd3786"
             ],
             [
              0.5555555555555556,
              "#d8576b"
             ],
             [
              0.6666666666666666,
              "#ed7953"
             ],
             [
              0.7777777777777778,
              "#fb9f3a"
             ],
             [
              0.8888888888888888,
              "#fdca26"
             ],
             [
              1,
              "#f0f921"
             ]
            ],
            "type": "histogram2d"
           }
          ],
          "histogram2dcontour": [
           {
            "colorbar": {
             "outlinewidth": 0,
             "ticks": ""
            },
            "colorscale": [
             [
              0,
              "#0d0887"
             ],
             [
              0.1111111111111111,
              "#46039f"
             ],
             [
              0.2222222222222222,
              "#7201a8"
             ],
             [
              0.3333333333333333,
              "#9c179e"
             ],
             [
              0.4444444444444444,
              "#bd3786"
             ],
             [
              0.5555555555555556,
              "#d8576b"
             ],
             [
              0.6666666666666666,
              "#ed7953"
             ],
             [
              0.7777777777777778,
              "#fb9f3a"
             ],
             [
              0.8888888888888888,
              "#fdca26"
             ],
             [
              1,
              "#f0f921"
             ]
            ],
            "type": "histogram2dcontour"
           }
          ],
          "mesh3d": [
           {
            "colorbar": {
             "outlinewidth": 0,
             "ticks": ""
            },
            "type": "mesh3d"
           }
          ],
          "parcoords": [
           {
            "line": {
             "colorbar": {
              "outlinewidth": 0,
              "ticks": ""
             }
            },
            "type": "parcoords"
           }
          ],
          "pie": [
           {
            "automargin": true,
            "type": "pie"
           }
          ],
          "scatter": [
           {
            "marker": {
             "colorbar": {
              "outlinewidth": 0,
              "ticks": ""
             }
            },
            "type": "scatter"
           }
          ],
          "scatter3d": [
           {
            "line": {
             "colorbar": {
              "outlinewidth": 0,
              "ticks": ""
             }
            },
            "marker": {
             "colorbar": {
              "outlinewidth": 0,
              "ticks": ""
             }
            },
            "type": "scatter3d"
           }
          ],
          "scattercarpet": [
           {
            "marker": {
             "colorbar": {
              "outlinewidth": 0,
              "ticks": ""
             }
            },
            "type": "scattercarpet"
           }
          ],
          "scattergeo": [
           {
            "marker": {
             "colorbar": {
              "outlinewidth": 0,
              "ticks": ""
             }
            },
            "type": "scattergeo"
           }
          ],
          "scattergl": [
           {
            "marker": {
             "colorbar": {
              "outlinewidth": 0,
              "ticks": ""
             }
            },
            "type": "scattergl"
           }
          ],
          "scattermapbox": [
           {
            "marker": {
             "colorbar": {
              "outlinewidth": 0,
              "ticks": ""
             }
            },
            "type": "scattermapbox"
           }
          ],
          "scatterpolar": [
           {
            "marker": {
             "colorbar": {
              "outlinewidth": 0,
              "ticks": ""
             }
            },
            "type": "scatterpolar"
           }
          ],
          "scatterpolargl": [
           {
            "marker": {
             "colorbar": {
              "outlinewidth": 0,
              "ticks": ""
             }
            },
            "type": "scatterpolargl"
           }
          ],
          "scatterternary": [
           {
            "marker": {
             "colorbar": {
              "outlinewidth": 0,
              "ticks": ""
             }
            },
            "type": "scatterternary"
           }
          ],
          "surface": [
           {
            "colorbar": {
             "outlinewidth": 0,
             "ticks": ""
            },
            "colorscale": [
             [
              0,
              "#0d0887"
             ],
             [
              0.1111111111111111,
              "#46039f"
             ],
             [
              0.2222222222222222,
              "#7201a8"
             ],
             [
              0.3333333333333333,
              "#9c179e"
             ],
             [
              0.4444444444444444,
              "#bd3786"
             ],
             [
              0.5555555555555556,
              "#d8576b"
             ],
             [
              0.6666666666666666,
              "#ed7953"
             ],
             [
              0.7777777777777778,
              "#fb9f3a"
             ],
             [
              0.8888888888888888,
              "#fdca26"
             ],
             [
              1,
              "#f0f921"
             ]
            ],
            "type": "surface"
           }
          ],
          "table": [
           {
            "cells": {
             "fill": {
              "color": "#EBF0F8"
             },
             "line": {
              "color": "white"
             }
            },
            "header": {
             "fill": {
              "color": "#C8D4E3"
             },
             "line": {
              "color": "white"
             }
            },
            "type": "table"
           }
          ]
         },
         "layout": {
          "annotationdefaults": {
           "arrowcolor": "#2a3f5f",
           "arrowhead": 0,
           "arrowwidth": 1
          },
          "coloraxis": {
           "colorbar": {
            "outlinewidth": 0,
            "ticks": ""
           }
          },
          "colorscale": {
           "diverging": [
            [
             0,
             "#8e0152"
            ],
            [
             0.1,
             "#c51b7d"
            ],
            [
             0.2,
             "#de77ae"
            ],
            [
             0.3,
             "#f1b6da"
            ],
            [
             0.4,
             "#fde0ef"
            ],
            [
             0.5,
             "#f7f7f7"
            ],
            [
             0.6,
             "#e6f5d0"
            ],
            [
             0.7,
             "#b8e186"
            ],
            [
             0.8,
             "#7fbc41"
            ],
            [
             0.9,
             "#4d9221"
            ],
            [
             1,
             "#276419"
            ]
           ],
           "sequential": [
            [
             0,
             "#0d0887"
            ],
            [
             0.1111111111111111,
             "#46039f"
            ],
            [
             0.2222222222222222,
             "#7201a8"
            ],
            [
             0.3333333333333333,
             "#9c179e"
            ],
            [
             0.4444444444444444,
             "#bd3786"
            ],
            [
             0.5555555555555556,
             "#d8576b"
            ],
            [
             0.6666666666666666,
             "#ed7953"
            ],
            [
             0.7777777777777778,
             "#fb9f3a"
            ],
            [
             0.8888888888888888,
             "#fdca26"
            ],
            [
             1,
             "#f0f921"
            ]
           ],
           "sequentialminus": [
            [
             0,
             "#0d0887"
            ],
            [
             0.1111111111111111,
             "#46039f"
            ],
            [
             0.2222222222222222,
             "#7201a8"
            ],
            [
             0.3333333333333333,
             "#9c179e"
            ],
            [
             0.4444444444444444,
             "#bd3786"
            ],
            [
             0.5555555555555556,
             "#d8576b"
            ],
            [
             0.6666666666666666,
             "#ed7953"
            ],
            [
             0.7777777777777778,
             "#fb9f3a"
            ],
            [
             0.8888888888888888,
             "#fdca26"
            ],
            [
             1,
             "#f0f921"
            ]
           ]
          },
          "colorway": [
           "#636efa",
           "#EF553B",
           "#00cc96",
           "#ab63fa",
           "#FFA15A",
           "#19d3f3",
           "#FF6692",
           "#B6E880",
           "#FF97FF",
           "#FECB52"
          ],
          "font": {
           "color": "#2a3f5f"
          },
          "geo": {
           "bgcolor": "white",
           "lakecolor": "white",
           "landcolor": "#E5ECF6",
           "showlakes": true,
           "showland": true,
           "subunitcolor": "white"
          },
          "hoverlabel": {
           "align": "left"
          },
          "hovermode": "closest",
          "mapbox": {
           "style": "light"
          },
          "paper_bgcolor": "white",
          "plot_bgcolor": "#E5ECF6",
          "polar": {
           "angularaxis": {
            "gridcolor": "white",
            "linecolor": "white",
            "ticks": ""
           },
           "bgcolor": "#E5ECF6",
           "radialaxis": {
            "gridcolor": "white",
            "linecolor": "white",
            "ticks": ""
           }
          },
          "scene": {
           "xaxis": {
            "backgroundcolor": "#E5ECF6",
            "gridcolor": "white",
            "gridwidth": 2,
            "linecolor": "white",
            "showbackground": true,
            "ticks": "",
            "zerolinecolor": "white"
           },
           "yaxis": {
            "backgroundcolor": "#E5ECF6",
            "gridcolor": "white",
            "gridwidth": 2,
            "linecolor": "white",
            "showbackground": true,
            "ticks": "",
            "zerolinecolor": "white"
           },
           "zaxis": {
            "backgroundcolor": "#E5ECF6",
            "gridcolor": "white",
            "gridwidth": 2,
            "linecolor": "white",
            "showbackground": true,
            "ticks": "",
            "zerolinecolor": "white"
           }
          },
          "shapedefaults": {
           "line": {
            "color": "#2a3f5f"
           }
          },
          "ternary": {
           "aaxis": {
            "gridcolor": "white",
            "linecolor": "white",
            "ticks": ""
           },
           "baxis": {
            "gridcolor": "white",
            "linecolor": "white",
            "ticks": ""
           },
           "bgcolor": "#E5ECF6",
           "caxis": {
            "gridcolor": "white",
            "linecolor": "white",
            "ticks": ""
           }
          },
          "title": {
           "x": 0.05
          },
          "xaxis": {
           "automargin": true,
           "gridcolor": "white",
           "linecolor": "white",
           "ticks": "",
           "title": {
            "standoff": 15
           },
           "zerolinecolor": "white",
           "zerolinewidth": 2
          },
          "yaxis": {
           "automargin": true,
           "gridcolor": "white",
           "linecolor": "white",
           "ticks": "",
           "title": {
            "standoff": 15
           },
           "zerolinecolor": "white",
           "zerolinewidth": 2
          }
         }
        },
        "title": {
         "font": {
          "color": "#4D5663"
         }
        },
        "xaxis": {
         "gridcolor": "#E1E5ED",
         "showgrid": true,
         "tickfont": {
          "color": "#4D5663"
         },
         "title": {
          "font": {
           "color": "#4D5663"
          },
          "text": ""
         },
         "zerolinecolor": "#E1E5ED"
        },
        "yaxis": {
         "gridcolor": "#E1E5ED",
         "showgrid": true,
         "tickfont": {
          "color": "#4D5663"
         },
         "title": {
          "font": {
           "color": "#4D5663"
          },
          "text": ""
         },
         "zerolinecolor": "#E1E5ED"
        }
       }
      },
      "text/html": [
       "<div>\n",
       "        \n",
       "        \n",
       "            <div id=\"7cb006e2-db80-43eb-aa3d-71d8151b8679\" class=\"plotly-graph-div\" style=\"height:525px; width:100%;\"></div>\n",
       "            <script type=\"text/javascript\">\n",
       "                require([\"plotly\"], function(Plotly) {\n",
       "                    window.PLOTLYENV=window.PLOTLYENV || {};\n",
       "                    window.PLOTLYENV.BASE_URL='https://plot.ly';\n",
       "                    \n",
       "                if (document.getElementById(\"7cb006e2-db80-43eb-aa3d-71d8151b8679\")) {\n",
       "                    Plotly.newPlot(\n",
       "                        '7cb006e2-db80-43eb-aa3d-71d8151b8679',\n",
       "                        [{\"line\": {\"color\": \"rgba(255, 153, 51, 1.0)\", \"dash\": \"solid\", \"shape\": \"linear\", \"width\": 1.3}, \"marker\": {\"size\": 12, \"symbol\": \"circle\"}, \"mode\": \"markers\", \"name\": \"B\", \"text\": \"\", \"type\": \"scatter\", \"x\": [0.7184152132165522, -0.07374414338489427, 1.3263250429191824, -0.6233809421936106, 0.4742001274446034, -0.7437583934588065, -0.20562971175271394, -0.7912846928747075, -0.02702597232497973, 0.6772742353991352, 0.2488440802940327, -1.2274686431849393, 1.254910728577048, 1.6838038342892818, 0.47921977443036406, -0.5022224516406076, -1.8745692527395976, 1.9627993771005607, 0.9560756328354928, -0.04359285288303292, 0.6415439448675059, 0.27977343160563767, -2.768644598762758, 0.05983857939039157, 1.3679925048742787, -0.10294575790551182, -0.2699661091353834, -1.2763005264901317, -0.605644482213025, 0.4211936567382423, 2.266041396863613, 1.185381051419868, -1.0917455888736831, 0.2027947575196413, -0.17045514705133089, 0.8437438075614856, -0.23401836744499166, -0.5242333839647763, -0.31142091937150457, -0.9076703163927581, -1.837456312116648, -2.024823808987759, -1.8596832253495934, -0.35995344488929754, -0.1560997144255655, -0.24862232873532386, -0.5330745736291332, 0.42241547345708086, 0.6285806273053471, -0.5757328837855584, 0.7320221470593188, -0.78920439441667, 0.24399057919069703, 1.403681725672624, -0.36497311179059233, -1.2035747602760776, -0.6799866071005245, -1.383687431161648, 1.7204180525409456, 0.7798432843313373, -1.746971525420941, -1.0509291587207734, 0.21952730859203842, 0.5153002455921952, 0.662698390986974, -1.3706491187827667, -0.18692234413642134, 0.20435033186983825, 0.9577209134936103, -1.7580578520641799, 1.934397248202235, -0.2419679983579328, -1.3560222792664143, -1.6380730147438929, 0.542730758603566, -0.06911316253794753, 0.9256442751713155, -1.2929221940251012, -0.922538122771601, 1.0787188690915535, 1.5772741845128695, 0.8298802627756018, 1.1312577460069513, 0.5757750599947684, 0.8140317333587312, -0.8666171022168118, -0.09076294738478492, 0.7675522138256289, -0.1310600103165868, -0.700574932350856, 0.4347324878153614, -1.8128643854407822, -0.28217756256423554, -1.1676894050183275, 0.5138668046894407, -1.1695517800152062, 1.0658983671799178, 0.4561467894013599, -1.0421540922213297, -0.0011269428682303502], \"y\": [-0.574006817058656, -0.7266588076382805, -0.3582653821205203, 0.4108711973078174, -0.32049412434813634, 0.04773441291937425, -0.3688892653969485, -1.9676847227099559, 0.25795986598318144, 0.537925471808953, -1.4962385157709366, 0.5057892669442116, -0.29203313936093456, 0.6328171202069542, -1.0522874962492237, 0.7878930777939451, 1.4309553115391773, 0.1889102418784355, -0.013342842989387687, 3.116070838792739, -0.41845360400421255, 1.9858575207739673, 0.6403115956548909, 0.1907142736681472, -1.504935982311471, 0.7416036365144881, 0.1676053881271684, -0.24114082085754754, -0.8756962069315755, -0.525281131553952, 0.16729678126738956, -1.4261549151524915, -0.8095904163469871, 1.6988271573620615, 1.7586594424748208, 1.1173774377465564, -0.18402664254405693, -0.8725967786135869, 0.9340462500605381, 0.0436769694271896, 0.2528261269315577, -0.48797455718435667, 0.4185303541013756, -1.2115610819467757, -1.3873781031274601, -2.134924563226702, -0.36394732545907527, -1.8930906878602132, 0.30419682598120823, -1.2397000596617789, 1.5072415238223666, 0.5076516583359088, -0.27253561558943046, 0.9944063915869681, 0.20503443372919314, 0.11496705703028283, 2.2451308551185214, -1.1894233003016832, -0.4109483665207544, 0.4564664039644072, 0.0594821775386694, 2.025352796007877, 0.13277668831354794, 1.084947573356576, 0.2886397552371678, -0.46229439145929685, 0.07114397903457587, -0.36825571307179933, 0.0580491159714769, -1.3175848043112401, 1.6977785396994103, 1.5238962245440153, 0.6735606382188081, 0.27852016317782674, -0.5125567623845447, 0.8200273758606282, 1.0211947809981352, -0.43694675512536835, 2.4293952236159813, 1.075463756336378, 1.4049925716695653, 1.116341730370617, -0.7067699756998078, 0.516178571121736, 0.27073191733361573, -1.030797684921648, -1.1109877307709126, 0.4322628958451547, -0.9748824546183325, -2.0597490912023915, 0.22368680313699774, -0.5803128715110616, -2.3645027848541047, 0.29715916628752514, 1.3546167563630593, -0.25223335075808057, 0.1881641349093222, 2.6987241405368656, -1.3327602486409937, -0.6169747814033371]}],\n",
       "                        {\"legend\": {\"bgcolor\": \"#F5F6F9\", \"font\": {\"color\": \"#4D5663\"}}, \"paper_bgcolor\": \"#F5F6F9\", \"plot_bgcolor\": \"#F5F6F9\", \"template\": {\"data\": {\"bar\": [{\"error_x\": {\"color\": \"#2a3f5f\"}, \"error_y\": {\"color\": \"#2a3f5f\"}, \"marker\": {\"line\": {\"color\": \"#E5ECF6\", \"width\": 0.5}}, \"type\": \"bar\"}], \"barpolar\": [{\"marker\": {\"line\": {\"color\": \"#E5ECF6\", \"width\": 0.5}}, \"type\": \"barpolar\"}], \"carpet\": [{\"aaxis\": {\"endlinecolor\": \"#2a3f5f\", \"gridcolor\": \"white\", \"linecolor\": \"white\", \"minorgridcolor\": \"white\", \"startlinecolor\": \"#2a3f5f\"}, \"baxis\": {\"endlinecolor\": \"#2a3f5f\", \"gridcolor\": \"white\", \"linecolor\": \"white\", \"minorgridcolor\": \"white\", \"startlinecolor\": \"#2a3f5f\"}, \"type\": \"carpet\"}], \"choropleth\": [{\"colorbar\": {\"outlinewidth\": 0, \"ticks\": \"\"}, \"type\": \"choropleth\"}], \"contour\": [{\"colorbar\": {\"outlinewidth\": 0, \"ticks\": \"\"}, \"colorscale\": [[0.0, \"#0d0887\"], [0.1111111111111111, \"#46039f\"], [0.2222222222222222, \"#7201a8\"], [0.3333333333333333, \"#9c179e\"], [0.4444444444444444, \"#bd3786\"], [0.5555555555555556, \"#d8576b\"], [0.6666666666666666, \"#ed7953\"], [0.7777777777777778, \"#fb9f3a\"], [0.8888888888888888, \"#fdca26\"], [1.0, \"#f0f921\"]], \"type\": \"contour\"}], \"contourcarpet\": [{\"colorbar\": {\"outlinewidth\": 0, \"ticks\": \"\"}, \"type\": \"contourcarpet\"}], \"heatmap\": [{\"colorbar\": {\"outlinewidth\": 0, \"ticks\": \"\"}, \"colorscale\": [[0.0, \"#0d0887\"], [0.1111111111111111, \"#46039f\"], [0.2222222222222222, \"#7201a8\"], [0.3333333333333333, \"#9c179e\"], [0.4444444444444444, \"#bd3786\"], [0.5555555555555556, \"#d8576b\"], [0.6666666666666666, \"#ed7953\"], [0.7777777777777778, \"#fb9f3a\"], [0.8888888888888888, \"#fdca26\"], [1.0, \"#f0f921\"]], \"type\": \"heatmap\"}], \"heatmapgl\": [{\"colorbar\": {\"outlinewidth\": 0, \"ticks\": \"\"}, \"colorscale\": [[0.0, \"#0d0887\"], [0.1111111111111111, \"#46039f\"], [0.2222222222222222, \"#7201a8\"], [0.3333333333333333, \"#9c179e\"], [0.4444444444444444, \"#bd3786\"], [0.5555555555555556, \"#d8576b\"], [0.6666666666666666, \"#ed7953\"], [0.7777777777777778, \"#fb9f3a\"], [0.8888888888888888, \"#fdca26\"], [1.0, \"#f0f921\"]], \"type\": \"heatmapgl\"}], \"histogram\": [{\"marker\": {\"colorbar\": {\"outlinewidth\": 0, \"ticks\": \"\"}}, \"type\": \"histogram\"}], \"histogram2d\": [{\"colorbar\": {\"outlinewidth\": 0, \"ticks\": \"\"}, \"colorscale\": [[0.0, \"#0d0887\"], [0.1111111111111111, \"#46039f\"], [0.2222222222222222, \"#7201a8\"], [0.3333333333333333, \"#9c179e\"], [0.4444444444444444, \"#bd3786\"], [0.5555555555555556, \"#d8576b\"], [0.6666666666666666, \"#ed7953\"], [0.7777777777777778, \"#fb9f3a\"], [0.8888888888888888, \"#fdca26\"], [1.0, \"#f0f921\"]], \"type\": \"histogram2d\"}], \"histogram2dcontour\": [{\"colorbar\": {\"outlinewidth\": 0, \"ticks\": \"\"}, \"colorscale\": [[0.0, \"#0d0887\"], [0.1111111111111111, \"#46039f\"], [0.2222222222222222, \"#7201a8\"], [0.3333333333333333, \"#9c179e\"], [0.4444444444444444, \"#bd3786\"], [0.5555555555555556, \"#d8576b\"], [0.6666666666666666, \"#ed7953\"], [0.7777777777777778, \"#fb9f3a\"], [0.8888888888888888, \"#fdca26\"], [1.0, \"#f0f921\"]], \"type\": \"histogram2dcontour\"}], \"mesh3d\": [{\"colorbar\": {\"outlinewidth\": 0, \"ticks\": \"\"}, \"type\": \"mesh3d\"}], \"parcoords\": [{\"line\": {\"colorbar\": {\"outlinewidth\": 0, \"ticks\": \"\"}}, \"type\": \"parcoords\"}], \"pie\": [{\"automargin\": true, \"type\": \"pie\"}], \"scatter\": [{\"marker\": {\"colorbar\": {\"outlinewidth\": 0, \"ticks\": \"\"}}, \"type\": \"scatter\"}], \"scatter3d\": [{\"line\": {\"colorbar\": {\"outlinewidth\": 0, \"ticks\": \"\"}}, \"marker\": {\"colorbar\": {\"outlinewidth\": 0, \"ticks\": \"\"}}, \"type\": \"scatter3d\"}], \"scattercarpet\": [{\"marker\": {\"colorbar\": {\"outlinewidth\": 0, \"ticks\": \"\"}}, \"type\": \"scattercarpet\"}], \"scattergeo\": [{\"marker\": {\"colorbar\": {\"outlinewidth\": 0, \"ticks\": \"\"}}, \"type\": \"scattergeo\"}], \"scattergl\": [{\"marker\": {\"colorbar\": {\"outlinewidth\": 0, \"ticks\": \"\"}}, \"type\": \"scattergl\"}], \"scattermapbox\": [{\"marker\": {\"colorbar\": {\"outlinewidth\": 0, \"ticks\": \"\"}}, \"type\": \"scattermapbox\"}], \"scatterpolar\": [{\"marker\": {\"colorbar\": {\"outlinewidth\": 0, \"ticks\": \"\"}}, \"type\": \"scatterpolar\"}], \"scatterpolargl\": [{\"marker\": {\"colorbar\": {\"outlinewidth\": 0, \"ticks\": \"\"}}, \"type\": \"scatterpolargl\"}], \"scatterternary\": [{\"marker\": {\"colorbar\": {\"outlinewidth\": 0, \"ticks\": \"\"}}, \"type\": \"scatterternary\"}], \"surface\": [{\"colorbar\": {\"outlinewidth\": 0, \"ticks\": \"\"}, \"colorscale\": [[0.0, \"#0d0887\"], [0.1111111111111111, \"#46039f\"], [0.2222222222222222, \"#7201a8\"], [0.3333333333333333, \"#9c179e\"], [0.4444444444444444, \"#bd3786\"], [0.5555555555555556, \"#d8576b\"], [0.6666666666666666, \"#ed7953\"], [0.7777777777777778, \"#fb9f3a\"], [0.8888888888888888, \"#fdca26\"], [1.0, \"#f0f921\"]], \"type\": \"surface\"}], \"table\": [{\"cells\": {\"fill\": {\"color\": \"#EBF0F8\"}, \"line\": {\"color\": \"white\"}}, \"header\": {\"fill\": {\"color\": \"#C8D4E3\"}, \"line\": {\"color\": \"white\"}}, \"type\": \"table\"}]}, \"layout\": {\"annotationdefaults\": {\"arrowcolor\": \"#2a3f5f\", \"arrowhead\": 0, \"arrowwidth\": 1}, \"coloraxis\": {\"colorbar\": {\"outlinewidth\": 0, \"ticks\": \"\"}}, \"colorscale\": {\"diverging\": [[0, \"#8e0152\"], [0.1, \"#c51b7d\"], [0.2, \"#de77ae\"], [0.3, \"#f1b6da\"], [0.4, \"#fde0ef\"], [0.5, \"#f7f7f7\"], [0.6, \"#e6f5d0\"], [0.7, \"#b8e186\"], [0.8, \"#7fbc41\"], [0.9, \"#4d9221\"], [1, \"#276419\"]], \"sequential\": [[0.0, \"#0d0887\"], [0.1111111111111111, \"#46039f\"], [0.2222222222222222, \"#7201a8\"], [0.3333333333333333, \"#9c179e\"], [0.4444444444444444, \"#bd3786\"], [0.5555555555555556, \"#d8576b\"], [0.6666666666666666, \"#ed7953\"], [0.7777777777777778, \"#fb9f3a\"], [0.8888888888888888, \"#fdca26\"], [1.0, \"#f0f921\"]], \"sequentialminus\": [[0.0, \"#0d0887\"], [0.1111111111111111, \"#46039f\"], [0.2222222222222222, \"#7201a8\"], [0.3333333333333333, \"#9c179e\"], [0.4444444444444444, \"#bd3786\"], [0.5555555555555556, \"#d8576b\"], [0.6666666666666666, \"#ed7953\"], [0.7777777777777778, \"#fb9f3a\"], [0.8888888888888888, \"#fdca26\"], [1.0, \"#f0f921\"]]}, \"colorway\": [\"#636efa\", \"#EF553B\", \"#00cc96\", \"#ab63fa\", \"#FFA15A\", \"#19d3f3\", \"#FF6692\", \"#B6E880\", \"#FF97FF\", \"#FECB52\"], \"font\": {\"color\": \"#2a3f5f\"}, \"geo\": {\"bgcolor\": \"white\", \"lakecolor\": \"white\", \"landcolor\": \"#E5ECF6\", \"showlakes\": true, \"showland\": true, \"subunitcolor\": \"white\"}, \"hoverlabel\": {\"align\": \"left\"}, \"hovermode\": \"closest\", \"mapbox\": {\"style\": \"light\"}, \"paper_bgcolor\": \"white\", \"plot_bgcolor\": \"#E5ECF6\", \"polar\": {\"angularaxis\": {\"gridcolor\": \"white\", \"linecolor\": \"white\", \"ticks\": \"\"}, \"bgcolor\": \"#E5ECF6\", \"radialaxis\": {\"gridcolor\": \"white\", \"linecolor\": \"white\", \"ticks\": \"\"}}, \"scene\": {\"xaxis\": {\"backgroundcolor\": \"#E5ECF6\", \"gridcolor\": \"white\", \"gridwidth\": 2, \"linecolor\": \"white\", \"showbackground\": true, \"ticks\": \"\", \"zerolinecolor\": \"white\"}, \"yaxis\": {\"backgroundcolor\": \"#E5ECF6\", \"gridcolor\": \"white\", \"gridwidth\": 2, \"linecolor\": \"white\", \"showbackground\": true, \"ticks\": \"\", \"zerolinecolor\": \"white\"}, \"zaxis\": {\"backgroundcolor\": \"#E5ECF6\", \"gridcolor\": \"white\", \"gridwidth\": 2, \"linecolor\": \"white\", \"showbackground\": true, \"ticks\": \"\", \"zerolinecolor\": \"white\"}}, \"shapedefaults\": {\"line\": {\"color\": \"#2a3f5f\"}}, \"ternary\": {\"aaxis\": {\"gridcolor\": \"white\", \"linecolor\": \"white\", \"ticks\": \"\"}, \"baxis\": {\"gridcolor\": \"white\", \"linecolor\": \"white\", \"ticks\": \"\"}, \"bgcolor\": \"#E5ECF6\", \"caxis\": {\"gridcolor\": \"white\", \"linecolor\": \"white\", \"ticks\": \"\"}}, \"title\": {\"x\": 0.05}, \"xaxis\": {\"automargin\": true, \"gridcolor\": \"white\", \"linecolor\": \"white\", \"ticks\": \"\", \"title\": {\"standoff\": 15}, \"zerolinecolor\": \"white\", \"zerolinewidth\": 2}, \"yaxis\": {\"automargin\": true, \"gridcolor\": \"white\", \"linecolor\": \"white\", \"ticks\": \"\", \"title\": {\"standoff\": 15}, \"zerolinecolor\": \"white\", \"zerolinewidth\": 2}}}, \"title\": {\"font\": {\"color\": \"#4D5663\"}}, \"xaxis\": {\"gridcolor\": \"#E1E5ED\", \"showgrid\": true, \"tickfont\": {\"color\": \"#4D5663\"}, \"title\": {\"font\": {\"color\": \"#4D5663\"}, \"text\": \"\"}, \"zerolinecolor\": \"#E1E5ED\"}, \"yaxis\": {\"gridcolor\": \"#E1E5ED\", \"showgrid\": true, \"tickfont\": {\"color\": \"#4D5663\"}, \"title\": {\"font\": {\"color\": \"#4D5663\"}, \"text\": \"\"}, \"zerolinecolor\": \"#E1E5ED\"}},\n",
       "                        {\"showLink\": true, \"linkText\": \"Export to plot.ly\", \"plotlyServerURL\": \"https://plot.ly\", \"responsive\": true}\n",
       "                    ).then(function(){\n",
       "                            \n",
       "var gd = document.getElementById('7cb006e2-db80-43eb-aa3d-71d8151b8679');\n",
       "var x = new MutationObserver(function (mutations, observer) {{\n",
       "        var display = window.getComputedStyle(gd).display;\n",
       "        if (!display || display === 'none') {{\n",
       "            console.log([gd, 'removed!']);\n",
       "            Plotly.purge(gd);\n",
       "            observer.disconnect();\n",
       "        }}\n",
       "}});\n",
       "\n",
       "// Listen for the removal of the full notebook cells\n",
       "var notebookContainer = gd.closest('#notebook-container');\n",
       "if (notebookContainer) {{\n",
       "    x.observe(notebookContainer, {childList: true});\n",
       "}}\n",
       "\n",
       "// Listen for the clearing of the current output cell\n",
       "var outputEl = gd.closest('.output');\n",
       "if (outputEl) {{\n",
       "    x.observe(outputEl, {childList: true});\n",
       "}}\n",
       "\n",
       "                        })\n",
       "                };\n",
       "                });\n",
       "            </script>\n",
       "        </div>"
      ]
     },
     "metadata": {},
     "output_type": "display_data"
    }
   ],
   "source": [
    "df.iplot(kind='scatter',x='A',y='B',mode='markers')"
   ]
  },
  {
   "cell_type": "code",
   "execution_count": 43,
   "metadata": {},
   "outputs": [
    {
     "data": {
      "text/html": [
       "<div>\n",
       "<style scoped>\n",
       "    .dataframe tbody tr th:only-of-type {\n",
       "        vertical-align: middle;\n",
       "    }\n",
       "\n",
       "    .dataframe tbody tr th {\n",
       "        vertical-align: top;\n",
       "    }\n",
       "\n",
       "    .dataframe thead th {\n",
       "        text-align: right;\n",
       "    }\n",
       "</style>\n",
       "<table border=\"1\" class=\"dataframe\">\n",
       "  <thead>\n",
       "    <tr style=\"text-align: right;\">\n",
       "      <th></th>\n",
       "      <th>Category</th>\n",
       "      <th>Values</th>\n",
       "    </tr>\n",
       "  </thead>\n",
       "  <tbody>\n",
       "    <tr>\n",
       "      <th>0</th>\n",
       "      <td>A</td>\n",
       "      <td>32</td>\n",
       "    </tr>\n",
       "    <tr>\n",
       "      <th>1</th>\n",
       "      <td>B</td>\n",
       "      <td>43</td>\n",
       "    </tr>\n",
       "    <tr>\n",
       "      <th>2</th>\n",
       "      <td>C</td>\n",
       "      <td>50</td>\n",
       "    </tr>\n",
       "  </tbody>\n",
       "</table>\n",
       "</div>"
      ],
      "text/plain": [
       "  Category  Values\n",
       "0        A      32\n",
       "1        B      43\n",
       "2        C      50"
      ]
     },
     "execution_count": 43,
     "metadata": {},
     "output_type": "execute_result"
    }
   ],
   "source": [
    "df2\n"
   ]
  },
  {
   "cell_type": "code",
   "execution_count": 45,
   "metadata": {},
   "outputs": [
    {
     "data": {
      "application/vnd.plotly.v1+json": {
       "config": {
        "linkText": "Export to plot.ly",
        "plotlyServerURL": "https://plot.ly",
        "showLink": true
       },
       "data": [
        {
         "marker": {
          "color": "rgba(255, 153, 51, 0.6)",
          "line": {
           "color": "rgba(255, 153, 51, 1.0)",
           "width": 1
          }
         },
         "name": "Values",
         "orientation": "v",
         "text": "",
         "type": "bar",
         "x": [
          "A",
          "B",
          "C"
         ],
         "y": [
          32,
          43,
          50
         ]
        }
       ],
       "layout": {
        "legend": {
         "bgcolor": "#F5F6F9",
         "font": {
          "color": "#4D5663"
         }
        },
        "paper_bgcolor": "#F5F6F9",
        "plot_bgcolor": "#F5F6F9",
        "template": {
         "data": {
          "bar": [
           {
            "error_x": {
             "color": "#2a3f5f"
            },
            "error_y": {
             "color": "#2a3f5f"
            },
            "marker": {
             "line": {
              "color": "#E5ECF6",
              "width": 0.5
             }
            },
            "type": "bar"
           }
          ],
          "barpolar": [
           {
            "marker": {
             "line": {
              "color": "#E5ECF6",
              "width": 0.5
             }
            },
            "type": "barpolar"
           }
          ],
          "carpet": [
           {
            "aaxis": {
             "endlinecolor": "#2a3f5f",
             "gridcolor": "white",
             "linecolor": "white",
             "minorgridcolor": "white",
             "startlinecolor": "#2a3f5f"
            },
            "baxis": {
             "endlinecolor": "#2a3f5f",
             "gridcolor": "white",
             "linecolor": "white",
             "minorgridcolor": "white",
             "startlinecolor": "#2a3f5f"
            },
            "type": "carpet"
           }
          ],
          "choropleth": [
           {
            "colorbar": {
             "outlinewidth": 0,
             "ticks": ""
            },
            "type": "choropleth"
           }
          ],
          "contour": [
           {
            "colorbar": {
             "outlinewidth": 0,
             "ticks": ""
            },
            "colorscale": [
             [
              0,
              "#0d0887"
             ],
             [
              0.1111111111111111,
              "#46039f"
             ],
             [
              0.2222222222222222,
              "#7201a8"
             ],
             [
              0.3333333333333333,
              "#9c179e"
             ],
             [
              0.4444444444444444,
              "#bd3786"
             ],
             [
              0.5555555555555556,
              "#d8576b"
             ],
             [
              0.6666666666666666,
              "#ed7953"
             ],
             [
              0.7777777777777778,
              "#fb9f3a"
             ],
             [
              0.8888888888888888,
              "#fdca26"
             ],
             [
              1,
              "#f0f921"
             ]
            ],
            "type": "contour"
           }
          ],
          "contourcarpet": [
           {
            "colorbar": {
             "outlinewidth": 0,
             "ticks": ""
            },
            "type": "contourcarpet"
           }
          ],
          "heatmap": [
           {
            "colorbar": {
             "outlinewidth": 0,
             "ticks": ""
            },
            "colorscale": [
             [
              0,
              "#0d0887"
             ],
             [
              0.1111111111111111,
              "#46039f"
             ],
             [
              0.2222222222222222,
              "#7201a8"
             ],
             [
              0.3333333333333333,
              "#9c179e"
             ],
             [
              0.4444444444444444,
              "#bd3786"
             ],
             [
              0.5555555555555556,
              "#d8576b"
             ],
             [
              0.6666666666666666,
              "#ed7953"
             ],
             [
              0.7777777777777778,
              "#fb9f3a"
             ],
             [
              0.8888888888888888,
              "#fdca26"
             ],
             [
              1,
              "#f0f921"
             ]
            ],
            "type": "heatmap"
           }
          ],
          "heatmapgl": [
           {
            "colorbar": {
             "outlinewidth": 0,
             "ticks": ""
            },
            "colorscale": [
             [
              0,
              "#0d0887"
             ],
             [
              0.1111111111111111,
              "#46039f"
             ],
             [
              0.2222222222222222,
              "#7201a8"
             ],
             [
              0.3333333333333333,
              "#9c179e"
             ],
             [
              0.4444444444444444,
              "#bd3786"
             ],
             [
              0.5555555555555556,
              "#d8576b"
             ],
             [
              0.6666666666666666,
              "#ed7953"
             ],
             [
              0.7777777777777778,
              "#fb9f3a"
             ],
             [
              0.8888888888888888,
              "#fdca26"
             ],
             [
              1,
              "#f0f921"
             ]
            ],
            "type": "heatmapgl"
           }
          ],
          "histogram": [
           {
            "marker": {
             "colorbar": {
              "outlinewidth": 0,
              "ticks": ""
             }
            },
            "type": "histogram"
           }
          ],
          "histogram2d": [
           {
            "colorbar": {
             "outlinewidth": 0,
             "ticks": ""
            },
            "colorscale": [
             [
              0,
              "#0d0887"
             ],
             [
              0.1111111111111111,
              "#46039f"
             ],
             [
              0.2222222222222222,
              "#7201a8"
             ],
             [
              0.3333333333333333,
              "#9c179e"
             ],
             [
              0.4444444444444444,
              "#bd3786"
             ],
             [
              0.5555555555555556,
              "#d8576b"
             ],
             [
              0.6666666666666666,
              "#ed7953"
             ],
             [
              0.7777777777777778,
              "#fb9f3a"
             ],
             [
              0.8888888888888888,
              "#fdca26"
             ],
             [
              1,
              "#f0f921"
             ]
            ],
            "type": "histogram2d"
           }
          ],
          "histogram2dcontour": [
           {
            "colorbar": {
             "outlinewidth": 0,
             "ticks": ""
            },
            "colorscale": [
             [
              0,
              "#0d0887"
             ],
             [
              0.1111111111111111,
              "#46039f"
             ],
             [
              0.2222222222222222,
              "#7201a8"
             ],
             [
              0.3333333333333333,
              "#9c179e"
             ],
             [
              0.4444444444444444,
              "#bd3786"
             ],
             [
              0.5555555555555556,
              "#d8576b"
             ],
             [
              0.6666666666666666,
              "#ed7953"
             ],
             [
              0.7777777777777778,
              "#fb9f3a"
             ],
             [
              0.8888888888888888,
              "#fdca26"
             ],
             [
              1,
              "#f0f921"
             ]
            ],
            "type": "histogram2dcontour"
           }
          ],
          "mesh3d": [
           {
            "colorbar": {
             "outlinewidth": 0,
             "ticks": ""
            },
            "type": "mesh3d"
           }
          ],
          "parcoords": [
           {
            "line": {
             "colorbar": {
              "outlinewidth": 0,
              "ticks": ""
             }
            },
            "type": "parcoords"
           }
          ],
          "pie": [
           {
            "automargin": true,
            "type": "pie"
           }
          ],
          "scatter": [
           {
            "marker": {
             "colorbar": {
              "outlinewidth": 0,
              "ticks": ""
             }
            },
            "type": "scatter"
           }
          ],
          "scatter3d": [
           {
            "line": {
             "colorbar": {
              "outlinewidth": 0,
              "ticks": ""
             }
            },
            "marker": {
             "colorbar": {
              "outlinewidth": 0,
              "ticks": ""
             }
            },
            "type": "scatter3d"
           }
          ],
          "scattercarpet": [
           {
            "marker": {
             "colorbar": {
              "outlinewidth": 0,
              "ticks": ""
             }
            },
            "type": "scattercarpet"
           }
          ],
          "scattergeo": [
           {
            "marker": {
             "colorbar": {
              "outlinewidth": 0,
              "ticks": ""
             }
            },
            "type": "scattergeo"
           }
          ],
          "scattergl": [
           {
            "marker": {
             "colorbar": {
              "outlinewidth": 0,
              "ticks": ""
             }
            },
            "type": "scattergl"
           }
          ],
          "scattermapbox": [
           {
            "marker": {
             "colorbar": {
              "outlinewidth": 0,
              "ticks": ""
             }
            },
            "type": "scattermapbox"
           }
          ],
          "scatterpolar": [
           {
            "marker": {
             "colorbar": {
              "outlinewidth": 0,
              "ticks": ""
             }
            },
            "type": "scatterpolar"
           }
          ],
          "scatterpolargl": [
           {
            "marker": {
             "colorbar": {
              "outlinewidth": 0,
              "ticks": ""
             }
            },
            "type": "scatterpolargl"
           }
          ],
          "scatterternary": [
           {
            "marker": {
             "colorbar": {
              "outlinewidth": 0,
              "ticks": ""
             }
            },
            "type": "scatterternary"
           }
          ],
          "surface": [
           {
            "colorbar": {
             "outlinewidth": 0,
             "ticks": ""
            },
            "colorscale": [
             [
              0,
              "#0d0887"
             ],
             [
              0.1111111111111111,
              "#46039f"
             ],
             [
              0.2222222222222222,
              "#7201a8"
             ],
             [
              0.3333333333333333,
              "#9c179e"
             ],
             [
              0.4444444444444444,
              "#bd3786"
             ],
             [
              0.5555555555555556,
              "#d8576b"
             ],
             [
              0.6666666666666666,
              "#ed7953"
             ],
             [
              0.7777777777777778,
              "#fb9f3a"
             ],
             [
              0.8888888888888888,
              "#fdca26"
             ],
             [
              1,
              "#f0f921"
             ]
            ],
            "type": "surface"
           }
          ],
          "table": [
           {
            "cells": {
             "fill": {
              "color": "#EBF0F8"
             },
             "line": {
              "color": "white"
             }
            },
            "header": {
             "fill": {
              "color": "#C8D4E3"
             },
             "line": {
              "color": "white"
             }
            },
            "type": "table"
           }
          ]
         },
         "layout": {
          "annotationdefaults": {
           "arrowcolor": "#2a3f5f",
           "arrowhead": 0,
           "arrowwidth": 1
          },
          "coloraxis": {
           "colorbar": {
            "outlinewidth": 0,
            "ticks": ""
           }
          },
          "colorscale": {
           "diverging": [
            [
             0,
             "#8e0152"
            ],
            [
             0.1,
             "#c51b7d"
            ],
            [
             0.2,
             "#de77ae"
            ],
            [
             0.3,
             "#f1b6da"
            ],
            [
             0.4,
             "#fde0ef"
            ],
            [
             0.5,
             "#f7f7f7"
            ],
            [
             0.6,
             "#e6f5d0"
            ],
            [
             0.7,
             "#b8e186"
            ],
            [
             0.8,
             "#7fbc41"
            ],
            [
             0.9,
             "#4d9221"
            ],
            [
             1,
             "#276419"
            ]
           ],
           "sequential": [
            [
             0,
             "#0d0887"
            ],
            [
             0.1111111111111111,
             "#46039f"
            ],
            [
             0.2222222222222222,
             "#7201a8"
            ],
            [
             0.3333333333333333,
             "#9c179e"
            ],
            [
             0.4444444444444444,
             "#bd3786"
            ],
            [
             0.5555555555555556,
             "#d8576b"
            ],
            [
             0.6666666666666666,
             "#ed7953"
            ],
            [
             0.7777777777777778,
             "#fb9f3a"
            ],
            [
             0.8888888888888888,
             "#fdca26"
            ],
            [
             1,
             "#f0f921"
            ]
           ],
           "sequentialminus": [
            [
             0,
             "#0d0887"
            ],
            [
             0.1111111111111111,
             "#46039f"
            ],
            [
             0.2222222222222222,
             "#7201a8"
            ],
            [
             0.3333333333333333,
             "#9c179e"
            ],
            [
             0.4444444444444444,
             "#bd3786"
            ],
            [
             0.5555555555555556,
             "#d8576b"
            ],
            [
             0.6666666666666666,
             "#ed7953"
            ],
            [
             0.7777777777777778,
             "#fb9f3a"
            ],
            [
             0.8888888888888888,
             "#fdca26"
            ],
            [
             1,
             "#f0f921"
            ]
           ]
          },
          "colorway": [
           "#636efa",
           "#EF553B",
           "#00cc96",
           "#ab63fa",
           "#FFA15A",
           "#19d3f3",
           "#FF6692",
           "#B6E880",
           "#FF97FF",
           "#FECB52"
          ],
          "font": {
           "color": "#2a3f5f"
          },
          "geo": {
           "bgcolor": "white",
           "lakecolor": "white",
           "landcolor": "#E5ECF6",
           "showlakes": true,
           "showland": true,
           "subunitcolor": "white"
          },
          "hoverlabel": {
           "align": "left"
          },
          "hovermode": "closest",
          "mapbox": {
           "style": "light"
          },
          "paper_bgcolor": "white",
          "plot_bgcolor": "#E5ECF6",
          "polar": {
           "angularaxis": {
            "gridcolor": "white",
            "linecolor": "white",
            "ticks": ""
           },
           "bgcolor": "#E5ECF6",
           "radialaxis": {
            "gridcolor": "white",
            "linecolor": "white",
            "ticks": ""
           }
          },
          "scene": {
           "xaxis": {
            "backgroundcolor": "#E5ECF6",
            "gridcolor": "white",
            "gridwidth": 2,
            "linecolor": "white",
            "showbackground": true,
            "ticks": "",
            "zerolinecolor": "white"
           },
           "yaxis": {
            "backgroundcolor": "#E5ECF6",
            "gridcolor": "white",
            "gridwidth": 2,
            "linecolor": "white",
            "showbackground": true,
            "ticks": "",
            "zerolinecolor": "white"
           },
           "zaxis": {
            "backgroundcolor": "#E5ECF6",
            "gridcolor": "white",
            "gridwidth": 2,
            "linecolor": "white",
            "showbackground": true,
            "ticks": "",
            "zerolinecolor": "white"
           }
          },
          "shapedefaults": {
           "line": {
            "color": "#2a3f5f"
           }
          },
          "ternary": {
           "aaxis": {
            "gridcolor": "white",
            "linecolor": "white",
            "ticks": ""
           },
           "baxis": {
            "gridcolor": "white",
            "linecolor": "white",
            "ticks": ""
           },
           "bgcolor": "#E5ECF6",
           "caxis": {
            "gridcolor": "white",
            "linecolor": "white",
            "ticks": ""
           }
          },
          "title": {
           "x": 0.05
          },
          "xaxis": {
           "automargin": true,
           "gridcolor": "white",
           "linecolor": "white",
           "ticks": "",
           "title": {
            "standoff": 15
           },
           "zerolinecolor": "white",
           "zerolinewidth": 2
          },
          "yaxis": {
           "automargin": true,
           "gridcolor": "white",
           "linecolor": "white",
           "ticks": "",
           "title": {
            "standoff": 15
           },
           "zerolinecolor": "white",
           "zerolinewidth": 2
          }
         }
        },
        "title": {
         "font": {
          "color": "#4D5663"
         }
        },
        "xaxis": {
         "gridcolor": "#E1E5ED",
         "showgrid": true,
         "tickfont": {
          "color": "#4D5663"
         },
         "title": {
          "font": {
           "color": "#4D5663"
          },
          "text": ""
         },
         "zerolinecolor": "#E1E5ED"
        },
        "yaxis": {
         "gridcolor": "#E1E5ED",
         "showgrid": true,
         "tickfont": {
          "color": "#4D5663"
         },
         "title": {
          "font": {
           "color": "#4D5663"
          },
          "text": ""
         },
         "zerolinecolor": "#E1E5ED"
        }
       }
      },
      "text/html": [
       "<div>\n",
       "        \n",
       "        \n",
       "            <div id=\"1ae13889-b6dc-41c7-9ab6-292b5fa609d3\" class=\"plotly-graph-div\" style=\"height:525px; width:100%;\"></div>\n",
       "            <script type=\"text/javascript\">\n",
       "                require([\"plotly\"], function(Plotly) {\n",
       "                    window.PLOTLYENV=window.PLOTLYENV || {};\n",
       "                    window.PLOTLYENV.BASE_URL='https://plot.ly';\n",
       "                    \n",
       "                if (document.getElementById(\"1ae13889-b6dc-41c7-9ab6-292b5fa609d3\")) {\n",
       "                    Plotly.newPlot(\n",
       "                        '1ae13889-b6dc-41c7-9ab6-292b5fa609d3',\n",
       "                        [{\"marker\": {\"color\": \"rgba(255, 153, 51, 0.6)\", \"line\": {\"color\": \"rgba(255, 153, 51, 1.0)\", \"width\": 1}}, \"name\": \"Values\", \"orientation\": \"v\", \"text\": \"\", \"type\": \"bar\", \"x\": [\"A\", \"B\", \"C\"], \"y\": [32, 43, 50]}],\n",
       "                        {\"legend\": {\"bgcolor\": \"#F5F6F9\", \"font\": {\"color\": \"#4D5663\"}}, \"paper_bgcolor\": \"#F5F6F9\", \"plot_bgcolor\": \"#F5F6F9\", \"template\": {\"data\": {\"bar\": [{\"error_x\": {\"color\": \"#2a3f5f\"}, \"error_y\": {\"color\": \"#2a3f5f\"}, \"marker\": {\"line\": {\"color\": \"#E5ECF6\", \"width\": 0.5}}, \"type\": \"bar\"}], \"barpolar\": [{\"marker\": {\"line\": {\"color\": \"#E5ECF6\", \"width\": 0.5}}, \"type\": \"barpolar\"}], \"carpet\": [{\"aaxis\": {\"endlinecolor\": \"#2a3f5f\", \"gridcolor\": \"white\", \"linecolor\": \"white\", \"minorgridcolor\": \"white\", \"startlinecolor\": \"#2a3f5f\"}, \"baxis\": {\"endlinecolor\": \"#2a3f5f\", \"gridcolor\": \"white\", \"linecolor\": \"white\", \"minorgridcolor\": \"white\", \"startlinecolor\": \"#2a3f5f\"}, \"type\": \"carpet\"}], \"choropleth\": [{\"colorbar\": {\"outlinewidth\": 0, \"ticks\": \"\"}, \"type\": \"choropleth\"}], \"contour\": [{\"colorbar\": {\"outlinewidth\": 0, \"ticks\": \"\"}, \"colorscale\": [[0.0, \"#0d0887\"], [0.1111111111111111, \"#46039f\"], [0.2222222222222222, \"#7201a8\"], [0.3333333333333333, \"#9c179e\"], [0.4444444444444444, \"#bd3786\"], [0.5555555555555556, \"#d8576b\"], [0.6666666666666666, \"#ed7953\"], [0.7777777777777778, \"#fb9f3a\"], [0.8888888888888888, \"#fdca26\"], [1.0, \"#f0f921\"]], \"type\": \"contour\"}], \"contourcarpet\": [{\"colorbar\": {\"outlinewidth\": 0, \"ticks\": \"\"}, \"type\": \"contourcarpet\"}], \"heatmap\": [{\"colorbar\": {\"outlinewidth\": 0, \"ticks\": \"\"}, \"colorscale\": [[0.0, \"#0d0887\"], [0.1111111111111111, \"#46039f\"], [0.2222222222222222, \"#7201a8\"], [0.3333333333333333, \"#9c179e\"], [0.4444444444444444, \"#bd3786\"], [0.5555555555555556, \"#d8576b\"], [0.6666666666666666, \"#ed7953\"], [0.7777777777777778, \"#fb9f3a\"], [0.8888888888888888, \"#fdca26\"], [1.0, \"#f0f921\"]], \"type\": \"heatmap\"}], \"heatmapgl\": [{\"colorbar\": {\"outlinewidth\": 0, \"ticks\": \"\"}, \"colorscale\": [[0.0, \"#0d0887\"], [0.1111111111111111, \"#46039f\"], [0.2222222222222222, \"#7201a8\"], [0.3333333333333333, \"#9c179e\"], [0.4444444444444444, \"#bd3786\"], [0.5555555555555556, \"#d8576b\"], [0.6666666666666666, \"#ed7953\"], [0.7777777777777778, \"#fb9f3a\"], [0.8888888888888888, \"#fdca26\"], [1.0, \"#f0f921\"]], \"type\": \"heatmapgl\"}], \"histogram\": [{\"marker\": {\"colorbar\": {\"outlinewidth\": 0, \"ticks\": \"\"}}, \"type\": \"histogram\"}], \"histogram2d\": [{\"colorbar\": {\"outlinewidth\": 0, \"ticks\": \"\"}, \"colorscale\": [[0.0, \"#0d0887\"], [0.1111111111111111, \"#46039f\"], [0.2222222222222222, \"#7201a8\"], [0.3333333333333333, \"#9c179e\"], [0.4444444444444444, \"#bd3786\"], [0.5555555555555556, \"#d8576b\"], [0.6666666666666666, \"#ed7953\"], [0.7777777777777778, \"#fb9f3a\"], [0.8888888888888888, \"#fdca26\"], [1.0, \"#f0f921\"]], \"type\": \"histogram2d\"}], \"histogram2dcontour\": [{\"colorbar\": {\"outlinewidth\": 0, \"ticks\": \"\"}, \"colorscale\": [[0.0, \"#0d0887\"], [0.1111111111111111, \"#46039f\"], [0.2222222222222222, \"#7201a8\"], [0.3333333333333333, \"#9c179e\"], [0.4444444444444444, \"#bd3786\"], [0.5555555555555556, \"#d8576b\"], [0.6666666666666666, \"#ed7953\"], [0.7777777777777778, \"#fb9f3a\"], [0.8888888888888888, \"#fdca26\"], [1.0, \"#f0f921\"]], \"type\": \"histogram2dcontour\"}], \"mesh3d\": [{\"colorbar\": {\"outlinewidth\": 0, \"ticks\": \"\"}, \"type\": \"mesh3d\"}], \"parcoords\": [{\"line\": {\"colorbar\": {\"outlinewidth\": 0, \"ticks\": \"\"}}, \"type\": \"parcoords\"}], \"pie\": [{\"automargin\": true, \"type\": \"pie\"}], \"scatter\": [{\"marker\": {\"colorbar\": {\"outlinewidth\": 0, \"ticks\": \"\"}}, \"type\": \"scatter\"}], \"scatter3d\": [{\"line\": {\"colorbar\": {\"outlinewidth\": 0, \"ticks\": \"\"}}, \"marker\": {\"colorbar\": {\"outlinewidth\": 0, \"ticks\": \"\"}}, \"type\": \"scatter3d\"}], \"scattercarpet\": [{\"marker\": {\"colorbar\": {\"outlinewidth\": 0, \"ticks\": \"\"}}, \"type\": \"scattercarpet\"}], \"scattergeo\": [{\"marker\": {\"colorbar\": {\"outlinewidth\": 0, \"ticks\": \"\"}}, \"type\": \"scattergeo\"}], \"scattergl\": [{\"marker\": {\"colorbar\": {\"outlinewidth\": 0, \"ticks\": \"\"}}, \"type\": \"scattergl\"}], \"scattermapbox\": [{\"marker\": {\"colorbar\": {\"outlinewidth\": 0, \"ticks\": \"\"}}, \"type\": \"scattermapbox\"}], \"scatterpolar\": [{\"marker\": {\"colorbar\": {\"outlinewidth\": 0, \"ticks\": \"\"}}, \"type\": \"scatterpolar\"}], \"scatterpolargl\": [{\"marker\": {\"colorbar\": {\"outlinewidth\": 0, \"ticks\": \"\"}}, \"type\": \"scatterpolargl\"}], \"scatterternary\": [{\"marker\": {\"colorbar\": {\"outlinewidth\": 0, \"ticks\": \"\"}}, \"type\": \"scatterternary\"}], \"surface\": [{\"colorbar\": {\"outlinewidth\": 0, \"ticks\": \"\"}, \"colorscale\": [[0.0, \"#0d0887\"], [0.1111111111111111, \"#46039f\"], [0.2222222222222222, \"#7201a8\"], [0.3333333333333333, \"#9c179e\"], [0.4444444444444444, \"#bd3786\"], [0.5555555555555556, \"#d8576b\"], [0.6666666666666666, \"#ed7953\"], [0.7777777777777778, \"#fb9f3a\"], [0.8888888888888888, \"#fdca26\"], [1.0, \"#f0f921\"]], \"type\": \"surface\"}], \"table\": [{\"cells\": {\"fill\": {\"color\": \"#EBF0F8\"}, \"line\": {\"color\": \"white\"}}, \"header\": {\"fill\": {\"color\": \"#C8D4E3\"}, \"line\": {\"color\": \"white\"}}, \"type\": \"table\"}]}, \"layout\": {\"annotationdefaults\": {\"arrowcolor\": \"#2a3f5f\", \"arrowhead\": 0, \"arrowwidth\": 1}, \"coloraxis\": {\"colorbar\": {\"outlinewidth\": 0, \"ticks\": \"\"}}, \"colorscale\": {\"diverging\": [[0, \"#8e0152\"], [0.1, \"#c51b7d\"], [0.2, \"#de77ae\"], [0.3, \"#f1b6da\"], [0.4, \"#fde0ef\"], [0.5, \"#f7f7f7\"], [0.6, \"#e6f5d0\"], [0.7, \"#b8e186\"], [0.8, \"#7fbc41\"], [0.9, \"#4d9221\"], [1, \"#276419\"]], \"sequential\": [[0.0, \"#0d0887\"], [0.1111111111111111, \"#46039f\"], [0.2222222222222222, \"#7201a8\"], [0.3333333333333333, \"#9c179e\"], [0.4444444444444444, \"#bd3786\"], [0.5555555555555556, \"#d8576b\"], [0.6666666666666666, \"#ed7953\"], [0.7777777777777778, \"#fb9f3a\"], [0.8888888888888888, \"#fdca26\"], [1.0, \"#f0f921\"]], \"sequentialminus\": [[0.0, \"#0d0887\"], [0.1111111111111111, \"#46039f\"], [0.2222222222222222, \"#7201a8\"], [0.3333333333333333, \"#9c179e\"], [0.4444444444444444, \"#bd3786\"], [0.5555555555555556, \"#d8576b\"], [0.6666666666666666, \"#ed7953\"], [0.7777777777777778, \"#fb9f3a\"], [0.8888888888888888, \"#fdca26\"], [1.0, \"#f0f921\"]]}, \"colorway\": [\"#636efa\", \"#EF553B\", \"#00cc96\", \"#ab63fa\", \"#FFA15A\", \"#19d3f3\", \"#FF6692\", \"#B6E880\", \"#FF97FF\", \"#FECB52\"], \"font\": {\"color\": \"#2a3f5f\"}, \"geo\": {\"bgcolor\": \"white\", \"lakecolor\": \"white\", \"landcolor\": \"#E5ECF6\", \"showlakes\": true, \"showland\": true, \"subunitcolor\": \"white\"}, \"hoverlabel\": {\"align\": \"left\"}, \"hovermode\": \"closest\", \"mapbox\": {\"style\": \"light\"}, \"paper_bgcolor\": \"white\", \"plot_bgcolor\": \"#E5ECF6\", \"polar\": {\"angularaxis\": {\"gridcolor\": \"white\", \"linecolor\": \"white\", \"ticks\": \"\"}, \"bgcolor\": \"#E5ECF6\", \"radialaxis\": {\"gridcolor\": \"white\", \"linecolor\": \"white\", \"ticks\": \"\"}}, \"scene\": {\"xaxis\": {\"backgroundcolor\": \"#E5ECF6\", \"gridcolor\": \"white\", \"gridwidth\": 2, \"linecolor\": \"white\", \"showbackground\": true, \"ticks\": \"\", \"zerolinecolor\": \"white\"}, \"yaxis\": {\"backgroundcolor\": \"#E5ECF6\", \"gridcolor\": \"white\", \"gridwidth\": 2, \"linecolor\": \"white\", \"showbackground\": true, \"ticks\": \"\", \"zerolinecolor\": \"white\"}, \"zaxis\": {\"backgroundcolor\": \"#E5ECF6\", \"gridcolor\": \"white\", \"gridwidth\": 2, \"linecolor\": \"white\", \"showbackground\": true, \"ticks\": \"\", \"zerolinecolor\": \"white\"}}, \"shapedefaults\": {\"line\": {\"color\": \"#2a3f5f\"}}, \"ternary\": {\"aaxis\": {\"gridcolor\": \"white\", \"linecolor\": \"white\", \"ticks\": \"\"}, \"baxis\": {\"gridcolor\": \"white\", \"linecolor\": \"white\", \"ticks\": \"\"}, \"bgcolor\": \"#E5ECF6\", \"caxis\": {\"gridcolor\": \"white\", \"linecolor\": \"white\", \"ticks\": \"\"}}, \"title\": {\"x\": 0.05}, \"xaxis\": {\"automargin\": true, \"gridcolor\": \"white\", \"linecolor\": \"white\", \"ticks\": \"\", \"title\": {\"standoff\": 15}, \"zerolinecolor\": \"white\", \"zerolinewidth\": 2}, \"yaxis\": {\"automargin\": true, \"gridcolor\": \"white\", \"linecolor\": \"white\", \"ticks\": \"\", \"title\": {\"standoff\": 15}, \"zerolinecolor\": \"white\", \"zerolinewidth\": 2}}}, \"title\": {\"font\": {\"color\": \"#4D5663\"}}, \"xaxis\": {\"gridcolor\": \"#E1E5ED\", \"showgrid\": true, \"tickfont\": {\"color\": \"#4D5663\"}, \"title\": {\"font\": {\"color\": \"#4D5663\"}, \"text\": \"\"}, \"zerolinecolor\": \"#E1E5ED\"}, \"yaxis\": {\"gridcolor\": \"#E1E5ED\", \"showgrid\": true, \"tickfont\": {\"color\": \"#4D5663\"}, \"title\": {\"font\": {\"color\": \"#4D5663\"}, \"text\": \"\"}, \"zerolinecolor\": \"#E1E5ED\"}},\n",
       "                        {\"showLink\": true, \"linkText\": \"Export to plot.ly\", \"plotlyServerURL\": \"https://plot.ly\", \"responsive\": true}\n",
       "                    ).then(function(){\n",
       "                            \n",
       "var gd = document.getElementById('1ae13889-b6dc-41c7-9ab6-292b5fa609d3');\n",
       "var x = new MutationObserver(function (mutations, observer) {{\n",
       "        var display = window.getComputedStyle(gd).display;\n",
       "        if (!display || display === 'none') {{\n",
       "            console.log([gd, 'removed!']);\n",
       "            Plotly.purge(gd);\n",
       "            observer.disconnect();\n",
       "        }}\n",
       "}});\n",
       "\n",
       "// Listen for the removal of the full notebook cells\n",
       "var notebookContainer = gd.closest('#notebook-container');\n",
       "if (notebookContainer) {{\n",
       "    x.observe(notebookContainer, {childList: true});\n",
       "}}\n",
       "\n",
       "// Listen for the clearing of the current output cell\n",
       "var outputEl = gd.closest('.output');\n",
       "if (outputEl) {{\n",
       "    x.observe(outputEl, {childList: true});\n",
       "}}\n",
       "\n",
       "                        })\n",
       "                };\n",
       "                });\n",
       "            </script>\n",
       "        </div>"
      ]
     },
     "metadata": {},
     "output_type": "display_data"
    }
   ],
   "source": [
    "df2.iplot(kind='bar',x='Category',y='Values')"
   ]
  },
  {
   "cell_type": "code",
   "execution_count": 46,
   "metadata": {},
   "outputs": [
    {
     "data": {
      "application/vnd.plotly.v1+json": {
       "config": {
        "linkText": "Export to plot.ly",
        "plotlyServerURL": "https://plot.ly",
        "showLink": true
       },
       "data": [
        {
         "marker": {
          "color": "rgba(255, 153, 51, 0.6)",
          "line": {
           "color": "rgba(255, 153, 51, 1.0)",
           "width": 1
          }
         },
         "name": "A",
         "orientation": "v",
         "text": "",
         "type": "bar",
         "x": [
          0,
          1,
          2,
          3,
          4,
          5,
          6,
          7,
          8,
          9,
          10,
          11,
          12,
          13,
          14,
          15,
          16,
          17,
          18,
          19,
          20,
          21,
          22,
          23,
          24,
          25,
          26,
          27,
          28,
          29,
          30,
          31,
          32,
          33,
          34,
          35,
          36,
          37,
          38,
          39,
          40,
          41,
          42,
          43,
          44,
          45,
          46,
          47,
          48,
          49,
          50,
          51,
          52,
          53,
          54,
          55,
          56,
          57,
          58,
          59,
          60,
          61,
          62,
          63,
          64,
          65,
          66,
          67,
          68,
          69,
          70,
          71,
          72,
          73,
          74,
          75,
          76,
          77,
          78,
          79,
          80,
          81,
          82,
          83,
          84,
          85,
          86,
          87,
          88,
          89,
          90,
          91,
          92,
          93,
          94,
          95,
          96,
          97,
          98,
          99
         ],
         "y": [
          0.7184152132165522,
          -0.07374414338489427,
          1.3263250429191824,
          -0.6233809421936106,
          0.4742001274446034,
          -0.7437583934588065,
          -0.20562971175271394,
          -0.7912846928747075,
          -0.02702597232497973,
          0.6772742353991352,
          0.2488440802940327,
          -1.2274686431849393,
          1.254910728577048,
          1.6838038342892818,
          0.47921977443036406,
          -0.5022224516406076,
          -1.8745692527395976,
          1.9627993771005607,
          0.9560756328354928,
          -0.04359285288303292,
          0.6415439448675059,
          0.27977343160563767,
          -2.768644598762758,
          0.05983857939039157,
          1.3679925048742787,
          -0.10294575790551182,
          -0.2699661091353834,
          -1.2763005264901317,
          -0.605644482213025,
          0.4211936567382423,
          2.266041396863613,
          1.185381051419868,
          -1.0917455888736831,
          0.2027947575196413,
          -0.17045514705133089,
          0.8437438075614856,
          -0.23401836744499166,
          -0.5242333839647763,
          -0.31142091937150457,
          -0.9076703163927581,
          -1.837456312116648,
          -2.024823808987759,
          -1.8596832253495934,
          -0.35995344488929754,
          -0.1560997144255655,
          -0.24862232873532386,
          -0.5330745736291332,
          0.42241547345708086,
          0.6285806273053471,
          -0.5757328837855584,
          0.7320221470593188,
          -0.78920439441667,
          0.24399057919069703,
          1.403681725672624,
          -0.36497311179059233,
          -1.2035747602760776,
          -0.6799866071005245,
          -1.383687431161648,
          1.7204180525409456,
          0.7798432843313373,
          -1.746971525420941,
          -1.0509291587207734,
          0.21952730859203842,
          0.5153002455921952,
          0.662698390986974,
          -1.3706491187827667,
          -0.18692234413642134,
          0.20435033186983825,
          0.9577209134936103,
          -1.7580578520641799,
          1.934397248202235,
          -0.2419679983579328,
          -1.3560222792664143,
          -1.6380730147438929,
          0.542730758603566,
          -0.06911316253794753,
          0.9256442751713155,
          -1.2929221940251012,
          -0.922538122771601,
          1.0787188690915535,
          1.5772741845128695,
          0.8298802627756018,
          1.1312577460069513,
          0.5757750599947684,
          0.8140317333587312,
          -0.8666171022168118,
          -0.09076294738478492,
          0.7675522138256289,
          -0.1310600103165868,
          -0.700574932350856,
          0.4347324878153614,
          -1.8128643854407822,
          -0.28217756256423554,
          -1.1676894050183275,
          0.5138668046894407,
          -1.1695517800152062,
          1.0658983671799178,
          0.4561467894013599,
          -1.0421540922213297,
          -0.0011269428682303502
         ]
        },
        {
         "marker": {
          "color": "rgba(55, 128, 191, 0.6)",
          "line": {
           "color": "rgba(55, 128, 191, 1.0)",
           "width": 1
          }
         },
         "name": "B",
         "orientation": "v",
         "text": "",
         "type": "bar",
         "x": [
          0,
          1,
          2,
          3,
          4,
          5,
          6,
          7,
          8,
          9,
          10,
          11,
          12,
          13,
          14,
          15,
          16,
          17,
          18,
          19,
          20,
          21,
          22,
          23,
          24,
          25,
          26,
          27,
          28,
          29,
          30,
          31,
          32,
          33,
          34,
          35,
          36,
          37,
          38,
          39,
          40,
          41,
          42,
          43,
          44,
          45,
          46,
          47,
          48,
          49,
          50,
          51,
          52,
          53,
          54,
          55,
          56,
          57,
          58,
          59,
          60,
          61,
          62,
          63,
          64,
          65,
          66,
          67,
          68,
          69,
          70,
          71,
          72,
          73,
          74,
          75,
          76,
          77,
          78,
          79,
          80,
          81,
          82,
          83,
          84,
          85,
          86,
          87,
          88,
          89,
          90,
          91,
          92,
          93,
          94,
          95,
          96,
          97,
          98,
          99
         ],
         "y": [
          -0.574006817058656,
          -0.7266588076382805,
          -0.3582653821205203,
          0.4108711973078174,
          -0.32049412434813634,
          0.04773441291937425,
          -0.3688892653969485,
          -1.9676847227099559,
          0.25795986598318144,
          0.537925471808953,
          -1.4962385157709366,
          0.5057892669442116,
          -0.29203313936093456,
          0.6328171202069542,
          -1.0522874962492237,
          0.7878930777939451,
          1.4309553115391773,
          0.1889102418784355,
          -0.013342842989387687,
          3.116070838792739,
          -0.41845360400421255,
          1.9858575207739673,
          0.6403115956548909,
          0.1907142736681472,
          -1.504935982311471,
          0.7416036365144881,
          0.1676053881271684,
          -0.24114082085754754,
          -0.8756962069315755,
          -0.525281131553952,
          0.16729678126738956,
          -1.4261549151524915,
          -0.8095904163469871,
          1.6988271573620615,
          1.7586594424748208,
          1.1173774377465564,
          -0.18402664254405693,
          -0.8725967786135869,
          0.9340462500605381,
          0.0436769694271896,
          0.2528261269315577,
          -0.48797455718435667,
          0.4185303541013756,
          -1.2115610819467757,
          -1.3873781031274601,
          -2.134924563226702,
          -0.36394732545907527,
          -1.8930906878602132,
          0.30419682598120823,
          -1.2397000596617789,
          1.5072415238223666,
          0.5076516583359088,
          -0.27253561558943046,
          0.9944063915869681,
          0.20503443372919314,
          0.11496705703028283,
          2.2451308551185214,
          -1.1894233003016832,
          -0.4109483665207544,
          0.4564664039644072,
          0.0594821775386694,
          2.025352796007877,
          0.13277668831354794,
          1.084947573356576,
          0.2886397552371678,
          -0.46229439145929685,
          0.07114397903457587,
          -0.36825571307179933,
          0.0580491159714769,
          -1.3175848043112401,
          1.6977785396994103,
          1.5238962245440153,
          0.6735606382188081,
          0.27852016317782674,
          -0.5125567623845447,
          0.8200273758606282,
          1.0211947809981352,
          -0.43694675512536835,
          2.4293952236159813,
          1.075463756336378,
          1.4049925716695653,
          1.116341730370617,
          -0.7067699756998078,
          0.516178571121736,
          0.27073191733361573,
          -1.030797684921648,
          -1.1109877307709126,
          0.4322628958451547,
          -0.9748824546183325,
          -2.0597490912023915,
          0.22368680313699774,
          -0.5803128715110616,
          -2.3645027848541047,
          0.29715916628752514,
          1.3546167563630593,
          -0.25223335075808057,
          0.1881641349093222,
          2.6987241405368656,
          -1.3327602486409937,
          -0.6169747814033371
         ]
        },
        {
         "marker": {
          "color": "rgba(50, 171, 96, 0.6)",
          "line": {
           "color": "rgba(50, 171, 96, 1.0)",
           "width": 1
          }
         },
         "name": "C",
         "orientation": "v",
         "text": "",
         "type": "bar",
         "x": [
          0,
          1,
          2,
          3,
          4,
          5,
          6,
          7,
          8,
          9,
          10,
          11,
          12,
          13,
          14,
          15,
          16,
          17,
          18,
          19,
          20,
          21,
          22,
          23,
          24,
          25,
          26,
          27,
          28,
          29,
          30,
          31,
          32,
          33,
          34,
          35,
          36,
          37,
          38,
          39,
          40,
          41,
          42,
          43,
          44,
          45,
          46,
          47,
          48,
          49,
          50,
          51,
          52,
          53,
          54,
          55,
          56,
          57,
          58,
          59,
          60,
          61,
          62,
          63,
          64,
          65,
          66,
          67,
          68,
          69,
          70,
          71,
          72,
          73,
          74,
          75,
          76,
          77,
          78,
          79,
          80,
          81,
          82,
          83,
          84,
          85,
          86,
          87,
          88,
          89,
          90,
          91,
          92,
          93,
          94,
          95,
          96,
          97,
          98,
          99
         ],
         "y": [
          0.4186050978255918,
          0.9660299067572595,
          -0.4318143275388457,
          0.5065075567870579,
          1.4859078649464117,
          2.037283479738617,
          0.1718877247483784,
          0.47531459547715643,
          0.42823940845213554,
          -0.21305545190507444,
          0.28190489492175935,
          -0.173204935815877,
          0.39757462485732936,
          1.3856892836568033,
          0.9822240896658297,
          1.938516935317932,
          0.2152802615769902,
          -1.6198131628409123,
          0.5373273678187647,
          1.0074272134548774,
          -0.8947699356644431,
          -0.20862165688177156,
          -0.10861066684874332,
          0.4534828477073112,
          0.8168342651047499,
          -0.1687725979146592,
          -0.5712267200634286,
          -1.1119129875224343,
          -1.6453222605018447,
          0.9855003647827035,
          1.7181503768731639,
          -0.12801937833791582,
          -0.759239480823569,
          -0.15604891625994818,
          -0.7308177686807426,
          -0.7654926526655869,
          -1.4628634609740454,
          -0.11367567007750326,
          0.44960352548597154,
          -0.9706311730653845,
          1.2545677594079299,
          -2.271041367591699,
          1.104145953395362,
          0.6195613024301116,
          -0.5005945813435325,
          -0.9063252531488935,
          -0.043850682877327164,
          -0.8454320211462417,
          0.7108991077320378,
          -1.9204840919319068,
          -1.458754114994838,
          -0.20099174944696324,
          -0.22259167976453564,
          -0.35670458652429826,
          -1.2551092820330252,
          -1.7901862237899924,
          0.9448393991015264,
          -0.1572709025185171,
          -1.6644238182098812,
          0.3172932947843975,
          -0.23550701831544502,
          0.2657712421161027,
          -0.053078294913159324,
          -2.398334429775859,
          0.7519569965442786,
          -0.16681679209782702,
          0.3452512000546205,
          -0.2910305465854694,
          -0.33331624044084773,
          0.9055671431700401,
          -0.42227825539631764,
          -1.2871107075659745,
          0.02109412124539801,
          -0.9061252419518914,
          -0.30150226561932414,
          1.334079070716369,
          -0.9170838735545183,
          0.4103890346700743,
          -0.5089311284427338,
          0.21384246102570673,
          -0.25502806255931987,
          0.8148800270629623,
          0.042616665556271735,
          -0.1568235945172625,
          -0.04308239534943786,
          -0.28435314213034757,
          -1.0269739230542796,
          1.269247105161303,
          1.1439941254385915,
          0.39004917349610146,
          -0.282070716056746,
          -0.5068669529975444,
          1.0857202913987292,
          -0.9641678103539787,
          2.403598393563145,
          -1.1166542022763057,
          0.0546234593929146,
          -0.9843132869855903,
          1.3621554962299072,
          0.8257631253025725
         ]
        },
        {
         "marker": {
          "color": "rgba(128, 0, 128, 0.6)",
          "line": {
           "color": "rgba(128, 0, 128, 1.0)",
           "width": 1
          }
         },
         "name": "D",
         "orientation": "v",
         "text": "",
         "type": "bar",
         "x": [
          0,
          1,
          2,
          3,
          4,
          5,
          6,
          7,
          8,
          9,
          10,
          11,
          12,
          13,
          14,
          15,
          16,
          17,
          18,
          19,
          20,
          21,
          22,
          23,
          24,
          25,
          26,
          27,
          28,
          29,
          30,
          31,
          32,
          33,
          34,
          35,
          36,
          37,
          38,
          39,
          40,
          41,
          42,
          43,
          44,
          45,
          46,
          47,
          48,
          49,
          50,
          51,
          52,
          53,
          54,
          55,
          56,
          57,
          58,
          59,
          60,
          61,
          62,
          63,
          64,
          65,
          66,
          67,
          68,
          69,
          70,
          71,
          72,
          73,
          74,
          75,
          76,
          77,
          78,
          79,
          80,
          81,
          82,
          83,
          84,
          85,
          86,
          87,
          88,
          89,
          90,
          91,
          92,
          93,
          94,
          95,
          96,
          97,
          98,
          99
         ],
         "y": [
          -0.44737534191412004,
          1.109785149730803,
          -0.31221247860147944,
          0.276185368698082,
          -1.922113777992666,
          0.5494499941511534,
          0.7206549564338,
          -0.9516303805555207,
          -1.609155510582861,
          -0.40131901516196106,
          0.13751866377005473,
          -0.18217209654260266,
          0.7860287209432499,
          -0.3291145050836312,
          0.26243641711107646,
          -0.2878202787345519,
          -0.9128405545141554,
          -0.8312673902052876,
          -0.30275398434875406,
          0.8206462677630454,
          -0.4263469225679497,
          -1.120886690537222,
          -1.3285668861396507,
          1.3694310001895356,
          -0.8310020565902191,
          0.9175748272459755,
          -0.378438553528216,
          -0.27712991270684717,
          1.0411739903759445,
          -0.9520320074714249,
          1.9180612257286693,
          -0.2408163797498644,
          -0.7080841797917553,
          -0.12956203263442628,
          1.3475162159337835,
          0.627818631947682,
          -1.716800425038791,
          -0.2704552717952776,
          1.6795627933379111,
          -1.0832558636122478,
          0.7421375992266598,
          0.07262878557573275,
          -1.004922520323428,
          0.795976586815005,
          -0.3048903799119217,
          0.631689680578985,
          0.48543456020033926,
          -0.6346491295703771,
          1.5676354822561684,
          -0.6927541999080309,
          1.2117825885964526,
          -0.8588951660933406,
          0.04556918339778246,
          -0.2509167430446283,
          -2.410866061933873,
          -0.309138274041897,
          -0.7943130822699094,
          -1.0227254868016358,
          -0.21726475438931492,
          -0.8754548694426114,
          1.4769569272751402,
          -1.1198238404890728,
          -0.01166713487201717,
          -0.8704916124383638,
          -0.7452030374081205,
          1.0980138822393697,
          -1.2920538475380032,
          0.4820522082297061,
          0.5801132346756122,
          -1.172445079797513,
          0.10794550998379952,
          0.4549470143952793,
          1.0461950013526864,
          -1.5081622005182924,
          1.226275464583169,
          -1.5599668548836045,
          0.744306083529144,
          -0.08554417277120979,
          -1.3241444170103283,
          -1.6113510314540873,
          -1.873746753759231,
          -1.6944197671866323,
          0.6247438287291291,
          -0.1818162989389835,
          -0.45067126644989614,
          -1.1897704812162915,
          1.4373509460024958,
          -1.0109890424592494,
          -0.2246209543647973,
          -1.0054544415043833,
          -0.8917803201970335,
          0.11013000673782364,
          0.8460814387692865,
          -0.2960568336761955,
          1.6971034217877161,
          -0.6242430462122459,
          -0.9875452455298763,
          -1.1465984440862063,
          -0.6955021346674213,
          0.08545122043946983
         ]
        }
       ],
       "layout": {
        "legend": {
         "bgcolor": "#F5F6F9",
         "font": {
          "color": "#4D5663"
         }
        },
        "paper_bgcolor": "#F5F6F9",
        "plot_bgcolor": "#F5F6F9",
        "template": {
         "data": {
          "bar": [
           {
            "error_x": {
             "color": "#2a3f5f"
            },
            "error_y": {
             "color": "#2a3f5f"
            },
            "marker": {
             "line": {
              "color": "#E5ECF6",
              "width": 0.5
             }
            },
            "type": "bar"
           }
          ],
          "barpolar": [
           {
            "marker": {
             "line": {
              "color": "#E5ECF6",
              "width": 0.5
             }
            },
            "type": "barpolar"
           }
          ],
          "carpet": [
           {
            "aaxis": {
             "endlinecolor": "#2a3f5f",
             "gridcolor": "white",
             "linecolor": "white",
             "minorgridcolor": "white",
             "startlinecolor": "#2a3f5f"
            },
            "baxis": {
             "endlinecolor": "#2a3f5f",
             "gridcolor": "white",
             "linecolor": "white",
             "minorgridcolor": "white",
             "startlinecolor": "#2a3f5f"
            },
            "type": "carpet"
           }
          ],
          "choropleth": [
           {
            "colorbar": {
             "outlinewidth": 0,
             "ticks": ""
            },
            "type": "choropleth"
           }
          ],
          "contour": [
           {
            "colorbar": {
             "outlinewidth": 0,
             "ticks": ""
            },
            "colorscale": [
             [
              0,
              "#0d0887"
             ],
             [
              0.1111111111111111,
              "#46039f"
             ],
             [
              0.2222222222222222,
              "#7201a8"
             ],
             [
              0.3333333333333333,
              "#9c179e"
             ],
             [
              0.4444444444444444,
              "#bd3786"
             ],
             [
              0.5555555555555556,
              "#d8576b"
             ],
             [
              0.6666666666666666,
              "#ed7953"
             ],
             [
              0.7777777777777778,
              "#fb9f3a"
             ],
             [
              0.8888888888888888,
              "#fdca26"
             ],
             [
              1,
              "#f0f921"
             ]
            ],
            "type": "contour"
           }
          ],
          "contourcarpet": [
           {
            "colorbar": {
             "outlinewidth": 0,
             "ticks": ""
            },
            "type": "contourcarpet"
           }
          ],
          "heatmap": [
           {
            "colorbar": {
             "outlinewidth": 0,
             "ticks": ""
            },
            "colorscale": [
             [
              0,
              "#0d0887"
             ],
             [
              0.1111111111111111,
              "#46039f"
             ],
             [
              0.2222222222222222,
              "#7201a8"
             ],
             [
              0.3333333333333333,
              "#9c179e"
             ],
             [
              0.4444444444444444,
              "#bd3786"
             ],
             [
              0.5555555555555556,
              "#d8576b"
             ],
             [
              0.6666666666666666,
              "#ed7953"
             ],
             [
              0.7777777777777778,
              "#fb9f3a"
             ],
             [
              0.8888888888888888,
              "#fdca26"
             ],
             [
              1,
              "#f0f921"
             ]
            ],
            "type": "heatmap"
           }
          ],
          "heatmapgl": [
           {
            "colorbar": {
             "outlinewidth": 0,
             "ticks": ""
            },
            "colorscale": [
             [
              0,
              "#0d0887"
             ],
             [
              0.1111111111111111,
              "#46039f"
             ],
             [
              0.2222222222222222,
              "#7201a8"
             ],
             [
              0.3333333333333333,
              "#9c179e"
             ],
             [
              0.4444444444444444,
              "#bd3786"
             ],
             [
              0.5555555555555556,
              "#d8576b"
             ],
             [
              0.6666666666666666,
              "#ed7953"
             ],
             [
              0.7777777777777778,
              "#fb9f3a"
             ],
             [
              0.8888888888888888,
              "#fdca26"
             ],
             [
              1,
              "#f0f921"
             ]
            ],
            "type": "heatmapgl"
           }
          ],
          "histogram": [
           {
            "marker": {
             "colorbar": {
              "outlinewidth": 0,
              "ticks": ""
             }
            },
            "type": "histogram"
           }
          ],
          "histogram2d": [
           {
            "colorbar": {
             "outlinewidth": 0,
             "ticks": ""
            },
            "colorscale": [
             [
              0,
              "#0d0887"
             ],
             [
              0.1111111111111111,
              "#46039f"
             ],
             [
              0.2222222222222222,
              "#7201a8"
             ],
             [
              0.3333333333333333,
              "#9c179e"
             ],
             [
              0.4444444444444444,
              "#bd3786"
             ],
             [
              0.5555555555555556,
              "#d8576b"
             ],
             [
              0.6666666666666666,
              "#ed7953"
             ],
             [
              0.7777777777777778,
              "#fb9f3a"
             ],
             [
              0.8888888888888888,
              "#fdca26"
             ],
             [
              1,
              "#f0f921"
             ]
            ],
            "type": "histogram2d"
           }
          ],
          "histogram2dcontour": [
           {
            "colorbar": {
             "outlinewidth": 0,
             "ticks": ""
            },
            "colorscale": [
             [
              0,
              "#0d0887"
             ],
             [
              0.1111111111111111,
              "#46039f"
             ],
             [
              0.2222222222222222,
              "#7201a8"
             ],
             [
              0.3333333333333333,
              "#9c179e"
             ],
             [
              0.4444444444444444,
              "#bd3786"
             ],
             [
              0.5555555555555556,
              "#d8576b"
             ],
             [
              0.6666666666666666,
              "#ed7953"
             ],
             [
              0.7777777777777778,
              "#fb9f3a"
             ],
             [
              0.8888888888888888,
              "#fdca26"
             ],
             [
              1,
              "#f0f921"
             ]
            ],
            "type": "histogram2dcontour"
           }
          ],
          "mesh3d": [
           {
            "colorbar": {
             "outlinewidth": 0,
             "ticks": ""
            },
            "type": "mesh3d"
           }
          ],
          "parcoords": [
           {
            "line": {
             "colorbar": {
              "outlinewidth": 0,
              "ticks": ""
             }
            },
            "type": "parcoords"
           }
          ],
          "pie": [
           {
            "automargin": true,
            "type": "pie"
           }
          ],
          "scatter": [
           {
            "marker": {
             "colorbar": {
              "outlinewidth": 0,
              "ticks": ""
             }
            },
            "type": "scatter"
           }
          ],
          "scatter3d": [
           {
            "line": {
             "colorbar": {
              "outlinewidth": 0,
              "ticks": ""
             }
            },
            "marker": {
             "colorbar": {
              "outlinewidth": 0,
              "ticks": ""
             }
            },
            "type": "scatter3d"
           }
          ],
          "scattercarpet": [
           {
            "marker": {
             "colorbar": {
              "outlinewidth": 0,
              "ticks": ""
             }
            },
            "type": "scattercarpet"
           }
          ],
          "scattergeo": [
           {
            "marker": {
             "colorbar": {
              "outlinewidth": 0,
              "ticks": ""
             }
            },
            "type": "scattergeo"
           }
          ],
          "scattergl": [
           {
            "marker": {
             "colorbar": {
              "outlinewidth": 0,
              "ticks": ""
             }
            },
            "type": "scattergl"
           }
          ],
          "scattermapbox": [
           {
            "marker": {
             "colorbar": {
              "outlinewidth": 0,
              "ticks": ""
             }
            },
            "type": "scattermapbox"
           }
          ],
          "scatterpolar": [
           {
            "marker": {
             "colorbar": {
              "outlinewidth": 0,
              "ticks": ""
             }
            },
            "type": "scatterpolar"
           }
          ],
          "scatterpolargl": [
           {
            "marker": {
             "colorbar": {
              "outlinewidth": 0,
              "ticks": ""
             }
            },
            "type": "scatterpolargl"
           }
          ],
          "scatterternary": [
           {
            "marker": {
             "colorbar": {
              "outlinewidth": 0,
              "ticks": ""
             }
            },
            "type": "scatterternary"
           }
          ],
          "surface": [
           {
            "colorbar": {
             "outlinewidth": 0,
             "ticks": ""
            },
            "colorscale": [
             [
              0,
              "#0d0887"
             ],
             [
              0.1111111111111111,
              "#46039f"
             ],
             [
              0.2222222222222222,
              "#7201a8"
             ],
             [
              0.3333333333333333,
              "#9c179e"
             ],
             [
              0.4444444444444444,
              "#bd3786"
             ],
             [
              0.5555555555555556,
              "#d8576b"
             ],
             [
              0.6666666666666666,
              "#ed7953"
             ],
             [
              0.7777777777777778,
              "#fb9f3a"
             ],
             [
              0.8888888888888888,
              "#fdca26"
             ],
             [
              1,
              "#f0f921"
             ]
            ],
            "type": "surface"
           }
          ],
          "table": [
           {
            "cells": {
             "fill": {
              "color": "#EBF0F8"
             },
             "line": {
              "color": "white"
             }
            },
            "header": {
             "fill": {
              "color": "#C8D4E3"
             },
             "line": {
              "color": "white"
             }
            },
            "type": "table"
           }
          ]
         },
         "layout": {
          "annotationdefaults": {
           "arrowcolor": "#2a3f5f",
           "arrowhead": 0,
           "arrowwidth": 1
          },
          "coloraxis": {
           "colorbar": {
            "outlinewidth": 0,
            "ticks": ""
           }
          },
          "colorscale": {
           "diverging": [
            [
             0,
             "#8e0152"
            ],
            [
             0.1,
             "#c51b7d"
            ],
            [
             0.2,
             "#de77ae"
            ],
            [
             0.3,
             "#f1b6da"
            ],
            [
             0.4,
             "#fde0ef"
            ],
            [
             0.5,
             "#f7f7f7"
            ],
            [
             0.6,
             "#e6f5d0"
            ],
            [
             0.7,
             "#b8e186"
            ],
            [
             0.8,
             "#7fbc41"
            ],
            [
             0.9,
             "#4d9221"
            ],
            [
             1,
             "#276419"
            ]
           ],
           "sequential": [
            [
             0,
             "#0d0887"
            ],
            [
             0.1111111111111111,
             "#46039f"
            ],
            [
             0.2222222222222222,
             "#7201a8"
            ],
            [
             0.3333333333333333,
             "#9c179e"
            ],
            [
             0.4444444444444444,
             "#bd3786"
            ],
            [
             0.5555555555555556,
             "#d8576b"
            ],
            [
             0.6666666666666666,
             "#ed7953"
            ],
            [
             0.7777777777777778,
             "#fb9f3a"
            ],
            [
             0.8888888888888888,
             "#fdca26"
            ],
            [
             1,
             "#f0f921"
            ]
           ],
           "sequentialminus": [
            [
             0,
             "#0d0887"
            ],
            [
             0.1111111111111111,
             "#46039f"
            ],
            [
             0.2222222222222222,
             "#7201a8"
            ],
            [
             0.3333333333333333,
             "#9c179e"
            ],
            [
             0.4444444444444444,
             "#bd3786"
            ],
            [
             0.5555555555555556,
             "#d8576b"
            ],
            [
             0.6666666666666666,
             "#ed7953"
            ],
            [
             0.7777777777777778,
             "#fb9f3a"
            ],
            [
             0.8888888888888888,
             "#fdca26"
            ],
            [
             1,
             "#f0f921"
            ]
           ]
          },
          "colorway": [
           "#636efa",
           "#EF553B",
           "#00cc96",
           "#ab63fa",
           "#FFA15A",
           "#19d3f3",
           "#FF6692",
           "#B6E880",
           "#FF97FF",
           "#FECB52"
          ],
          "font": {
           "color": "#2a3f5f"
          },
          "geo": {
           "bgcolor": "white",
           "lakecolor": "white",
           "landcolor": "#E5ECF6",
           "showlakes": true,
           "showland": true,
           "subunitcolor": "white"
          },
          "hoverlabel": {
           "align": "left"
          },
          "hovermode": "closest",
          "mapbox": {
           "style": "light"
          },
          "paper_bgcolor": "white",
          "plot_bgcolor": "#E5ECF6",
          "polar": {
           "angularaxis": {
            "gridcolor": "white",
            "linecolor": "white",
            "ticks": ""
           },
           "bgcolor": "#E5ECF6",
           "radialaxis": {
            "gridcolor": "white",
            "linecolor": "white",
            "ticks": ""
           }
          },
          "scene": {
           "xaxis": {
            "backgroundcolor": "#E5ECF6",
            "gridcolor": "white",
            "gridwidth": 2,
            "linecolor": "white",
            "showbackground": true,
            "ticks": "",
            "zerolinecolor": "white"
           },
           "yaxis": {
            "backgroundcolor": "#E5ECF6",
            "gridcolor": "white",
            "gridwidth": 2,
            "linecolor": "white",
            "showbackground": true,
            "ticks": "",
            "zerolinecolor": "white"
           },
           "zaxis": {
            "backgroundcolor": "#E5ECF6",
            "gridcolor": "white",
            "gridwidth": 2,
            "linecolor": "white",
            "showbackground": true,
            "ticks": "",
            "zerolinecolor": "white"
           }
          },
          "shapedefaults": {
           "line": {
            "color": "#2a3f5f"
           }
          },
          "ternary": {
           "aaxis": {
            "gridcolor": "white",
            "linecolor": "white",
            "ticks": ""
           },
           "baxis": {
            "gridcolor": "white",
            "linecolor": "white",
            "ticks": ""
           },
           "bgcolor": "#E5ECF6",
           "caxis": {
            "gridcolor": "white",
            "linecolor": "white",
            "ticks": ""
           }
          },
          "title": {
           "x": 0.05
          },
          "xaxis": {
           "automargin": true,
           "gridcolor": "white",
           "linecolor": "white",
           "ticks": "",
           "title": {
            "standoff": 15
           },
           "zerolinecolor": "white",
           "zerolinewidth": 2
          },
          "yaxis": {
           "automargin": true,
           "gridcolor": "white",
           "linecolor": "white",
           "ticks": "",
           "title": {
            "standoff": 15
           },
           "zerolinecolor": "white",
           "zerolinewidth": 2
          }
         }
        },
        "title": {
         "font": {
          "color": "#4D5663"
         }
        },
        "xaxis": {
         "gridcolor": "#E1E5ED",
         "showgrid": true,
         "tickfont": {
          "color": "#4D5663"
         },
         "title": {
          "font": {
           "color": "#4D5663"
          },
          "text": ""
         },
         "zerolinecolor": "#E1E5ED"
        },
        "yaxis": {
         "gridcolor": "#E1E5ED",
         "showgrid": true,
         "tickfont": {
          "color": "#4D5663"
         },
         "title": {
          "font": {
           "color": "#4D5663"
          },
          "text": ""
         },
         "zerolinecolor": "#E1E5ED"
        }
       }
      },
      "text/html": [
       "<div>\n",
       "        \n",
       "        \n",
       "            <div id=\"80f66ed8-e809-4ab2-ac2c-e9de973eda47\" class=\"plotly-graph-div\" style=\"height:525px; width:100%;\"></div>\n",
       "            <script type=\"text/javascript\">\n",
       "                require([\"plotly\"], function(Plotly) {\n",
       "                    window.PLOTLYENV=window.PLOTLYENV || {};\n",
       "                    window.PLOTLYENV.BASE_URL='https://plot.ly';\n",
       "                    \n",
       "                if (document.getElementById(\"80f66ed8-e809-4ab2-ac2c-e9de973eda47\")) {\n",
       "                    Plotly.newPlot(\n",
       "                        '80f66ed8-e809-4ab2-ac2c-e9de973eda47',\n",
       "                        [{\"marker\": {\"color\": \"rgba(255, 153, 51, 0.6)\", \"line\": {\"color\": \"rgba(255, 153, 51, 1.0)\", \"width\": 1}}, \"name\": \"A\", \"orientation\": \"v\", \"text\": \"\", \"type\": \"bar\", \"x\": [0, 1, 2, 3, 4, 5, 6, 7, 8, 9, 10, 11, 12, 13, 14, 15, 16, 17, 18, 19, 20, 21, 22, 23, 24, 25, 26, 27, 28, 29, 30, 31, 32, 33, 34, 35, 36, 37, 38, 39, 40, 41, 42, 43, 44, 45, 46, 47, 48, 49, 50, 51, 52, 53, 54, 55, 56, 57, 58, 59, 60, 61, 62, 63, 64, 65, 66, 67, 68, 69, 70, 71, 72, 73, 74, 75, 76, 77, 78, 79, 80, 81, 82, 83, 84, 85, 86, 87, 88, 89, 90, 91, 92, 93, 94, 95, 96, 97, 98, 99], \"y\": [0.7184152132165522, -0.07374414338489427, 1.3263250429191824, -0.6233809421936106, 0.4742001274446034, -0.7437583934588065, -0.20562971175271394, -0.7912846928747075, -0.02702597232497973, 0.6772742353991352, 0.2488440802940327, -1.2274686431849393, 1.254910728577048, 1.6838038342892818, 0.47921977443036406, -0.5022224516406076, -1.8745692527395976, 1.9627993771005607, 0.9560756328354928, -0.04359285288303292, 0.6415439448675059, 0.27977343160563767, -2.768644598762758, 0.05983857939039157, 1.3679925048742787, -0.10294575790551182, -0.2699661091353834, -1.2763005264901317, -0.605644482213025, 0.4211936567382423, 2.266041396863613, 1.185381051419868, -1.0917455888736831, 0.2027947575196413, -0.17045514705133089, 0.8437438075614856, -0.23401836744499166, -0.5242333839647763, -0.31142091937150457, -0.9076703163927581, -1.837456312116648, -2.024823808987759, -1.8596832253495934, -0.35995344488929754, -0.1560997144255655, -0.24862232873532386, -0.5330745736291332, 0.42241547345708086, 0.6285806273053471, -0.5757328837855584, 0.7320221470593188, -0.78920439441667, 0.24399057919069703, 1.403681725672624, -0.36497311179059233, -1.2035747602760776, -0.6799866071005245, -1.383687431161648, 1.7204180525409456, 0.7798432843313373, -1.746971525420941, -1.0509291587207734, 0.21952730859203842, 0.5153002455921952, 0.662698390986974, -1.3706491187827667, -0.18692234413642134, 0.20435033186983825, 0.9577209134936103, -1.7580578520641799, 1.934397248202235, -0.2419679983579328, -1.3560222792664143, -1.6380730147438929, 0.542730758603566, -0.06911316253794753, 0.9256442751713155, -1.2929221940251012, -0.922538122771601, 1.0787188690915535, 1.5772741845128695, 0.8298802627756018, 1.1312577460069513, 0.5757750599947684, 0.8140317333587312, -0.8666171022168118, -0.09076294738478492, 0.7675522138256289, -0.1310600103165868, -0.700574932350856, 0.4347324878153614, -1.8128643854407822, -0.28217756256423554, -1.1676894050183275, 0.5138668046894407, -1.1695517800152062, 1.0658983671799178, 0.4561467894013599, -1.0421540922213297, -0.0011269428682303502]}, {\"marker\": {\"color\": \"rgba(55, 128, 191, 0.6)\", \"line\": {\"color\": \"rgba(55, 128, 191, 1.0)\", \"width\": 1}}, \"name\": \"B\", \"orientation\": \"v\", \"text\": \"\", \"type\": \"bar\", \"x\": [0, 1, 2, 3, 4, 5, 6, 7, 8, 9, 10, 11, 12, 13, 14, 15, 16, 17, 18, 19, 20, 21, 22, 23, 24, 25, 26, 27, 28, 29, 30, 31, 32, 33, 34, 35, 36, 37, 38, 39, 40, 41, 42, 43, 44, 45, 46, 47, 48, 49, 50, 51, 52, 53, 54, 55, 56, 57, 58, 59, 60, 61, 62, 63, 64, 65, 66, 67, 68, 69, 70, 71, 72, 73, 74, 75, 76, 77, 78, 79, 80, 81, 82, 83, 84, 85, 86, 87, 88, 89, 90, 91, 92, 93, 94, 95, 96, 97, 98, 99], \"y\": [-0.574006817058656, -0.7266588076382805, -0.3582653821205203, 0.4108711973078174, -0.32049412434813634, 0.04773441291937425, -0.3688892653969485, -1.9676847227099559, 0.25795986598318144, 0.537925471808953, -1.4962385157709366, 0.5057892669442116, -0.29203313936093456, 0.6328171202069542, -1.0522874962492237, 0.7878930777939451, 1.4309553115391773, 0.1889102418784355, -0.013342842989387687, 3.116070838792739, -0.41845360400421255, 1.9858575207739673, 0.6403115956548909, 0.1907142736681472, -1.504935982311471, 0.7416036365144881, 0.1676053881271684, -0.24114082085754754, -0.8756962069315755, -0.525281131553952, 0.16729678126738956, -1.4261549151524915, -0.8095904163469871, 1.6988271573620615, 1.7586594424748208, 1.1173774377465564, -0.18402664254405693, -0.8725967786135869, 0.9340462500605381, 0.0436769694271896, 0.2528261269315577, -0.48797455718435667, 0.4185303541013756, -1.2115610819467757, -1.3873781031274601, -2.134924563226702, -0.36394732545907527, -1.8930906878602132, 0.30419682598120823, -1.2397000596617789, 1.5072415238223666, 0.5076516583359088, -0.27253561558943046, 0.9944063915869681, 0.20503443372919314, 0.11496705703028283, 2.2451308551185214, -1.1894233003016832, -0.4109483665207544, 0.4564664039644072, 0.0594821775386694, 2.025352796007877, 0.13277668831354794, 1.084947573356576, 0.2886397552371678, -0.46229439145929685, 0.07114397903457587, -0.36825571307179933, 0.0580491159714769, -1.3175848043112401, 1.6977785396994103, 1.5238962245440153, 0.6735606382188081, 0.27852016317782674, -0.5125567623845447, 0.8200273758606282, 1.0211947809981352, -0.43694675512536835, 2.4293952236159813, 1.075463756336378, 1.4049925716695653, 1.116341730370617, -0.7067699756998078, 0.516178571121736, 0.27073191733361573, -1.030797684921648, -1.1109877307709126, 0.4322628958451547, -0.9748824546183325, -2.0597490912023915, 0.22368680313699774, -0.5803128715110616, -2.3645027848541047, 0.29715916628752514, 1.3546167563630593, -0.25223335075808057, 0.1881641349093222, 2.6987241405368656, -1.3327602486409937, -0.6169747814033371]}, {\"marker\": {\"color\": \"rgba(50, 171, 96, 0.6)\", \"line\": {\"color\": \"rgba(50, 171, 96, 1.0)\", \"width\": 1}}, \"name\": \"C\", \"orientation\": \"v\", \"text\": \"\", \"type\": \"bar\", \"x\": [0, 1, 2, 3, 4, 5, 6, 7, 8, 9, 10, 11, 12, 13, 14, 15, 16, 17, 18, 19, 20, 21, 22, 23, 24, 25, 26, 27, 28, 29, 30, 31, 32, 33, 34, 35, 36, 37, 38, 39, 40, 41, 42, 43, 44, 45, 46, 47, 48, 49, 50, 51, 52, 53, 54, 55, 56, 57, 58, 59, 60, 61, 62, 63, 64, 65, 66, 67, 68, 69, 70, 71, 72, 73, 74, 75, 76, 77, 78, 79, 80, 81, 82, 83, 84, 85, 86, 87, 88, 89, 90, 91, 92, 93, 94, 95, 96, 97, 98, 99], \"y\": [0.4186050978255918, 0.9660299067572595, -0.4318143275388457, 0.5065075567870579, 1.4859078649464117, 2.037283479738617, 0.1718877247483784, 0.47531459547715643, 0.42823940845213554, -0.21305545190507444, 0.28190489492175935, -0.173204935815877, 0.39757462485732936, 1.3856892836568033, 0.9822240896658297, 1.938516935317932, 0.2152802615769902, -1.6198131628409123, 0.5373273678187647, 1.0074272134548774, -0.8947699356644431, -0.20862165688177156, -0.10861066684874332, 0.4534828477073112, 0.8168342651047499, -0.1687725979146592, -0.5712267200634286, -1.1119129875224343, -1.6453222605018447, 0.9855003647827035, 1.7181503768731639, -0.12801937833791582, -0.759239480823569, -0.15604891625994818, -0.7308177686807426, -0.7654926526655869, -1.4628634609740454, -0.11367567007750326, 0.44960352548597154, -0.9706311730653845, 1.2545677594079299, -2.271041367591699, 1.104145953395362, 0.6195613024301116, -0.5005945813435325, -0.9063252531488935, -0.043850682877327164, -0.8454320211462417, 0.7108991077320378, -1.9204840919319068, -1.458754114994838, -0.20099174944696324, -0.22259167976453564, -0.35670458652429826, -1.2551092820330252, -1.7901862237899924, 0.9448393991015264, -0.1572709025185171, -1.6644238182098812, 0.3172932947843975, -0.23550701831544502, 0.2657712421161027, -0.053078294913159324, -2.398334429775859, 0.7519569965442786, -0.16681679209782702, 0.3452512000546205, -0.2910305465854694, -0.33331624044084773, 0.9055671431700401, -0.42227825539631764, -1.2871107075659745, 0.02109412124539801, -0.9061252419518914, -0.30150226561932414, 1.334079070716369, -0.9170838735545183, 0.4103890346700743, -0.5089311284427338, 0.21384246102570673, -0.25502806255931987, 0.8148800270629623, 0.042616665556271735, -0.1568235945172625, -0.04308239534943786, -0.28435314213034757, -1.0269739230542796, 1.269247105161303, 1.1439941254385915, 0.39004917349610146, -0.282070716056746, -0.5068669529975444, 1.0857202913987292, -0.9641678103539787, 2.403598393563145, -1.1166542022763057, 0.0546234593929146, -0.9843132869855903, 1.3621554962299072, 0.8257631253025725]}, {\"marker\": {\"color\": \"rgba(128, 0, 128, 0.6)\", \"line\": {\"color\": \"rgba(128, 0, 128, 1.0)\", \"width\": 1}}, \"name\": \"D\", \"orientation\": \"v\", \"text\": \"\", \"type\": \"bar\", \"x\": [0, 1, 2, 3, 4, 5, 6, 7, 8, 9, 10, 11, 12, 13, 14, 15, 16, 17, 18, 19, 20, 21, 22, 23, 24, 25, 26, 27, 28, 29, 30, 31, 32, 33, 34, 35, 36, 37, 38, 39, 40, 41, 42, 43, 44, 45, 46, 47, 48, 49, 50, 51, 52, 53, 54, 55, 56, 57, 58, 59, 60, 61, 62, 63, 64, 65, 66, 67, 68, 69, 70, 71, 72, 73, 74, 75, 76, 77, 78, 79, 80, 81, 82, 83, 84, 85, 86, 87, 88, 89, 90, 91, 92, 93, 94, 95, 96, 97, 98, 99], \"y\": [-0.44737534191412004, 1.109785149730803, -0.31221247860147944, 0.276185368698082, -1.922113777992666, 0.5494499941511534, 0.7206549564338, -0.9516303805555207, -1.609155510582861, -0.40131901516196106, 0.13751866377005473, -0.18217209654260266, 0.7860287209432499, -0.3291145050836312, 0.26243641711107646, -0.2878202787345519, -0.9128405545141554, -0.8312673902052876, -0.30275398434875406, 0.8206462677630454, -0.4263469225679497, -1.120886690537222, -1.3285668861396507, 1.3694310001895356, -0.8310020565902191, 0.9175748272459755, -0.378438553528216, -0.27712991270684717, 1.0411739903759445, -0.9520320074714249, 1.9180612257286693, -0.2408163797498644, -0.7080841797917553, -0.12956203263442628, 1.3475162159337835, 0.627818631947682, -1.716800425038791, -0.2704552717952776, 1.6795627933379111, -1.0832558636122478, 0.7421375992266598, 0.07262878557573275, -1.004922520323428, 0.795976586815005, -0.3048903799119217, 0.631689680578985, 0.48543456020033926, -0.6346491295703771, 1.5676354822561684, -0.6927541999080309, 1.2117825885964526, -0.8588951660933406, 0.04556918339778246, -0.2509167430446283, -2.410866061933873, -0.309138274041897, -0.7943130822699094, -1.0227254868016358, -0.21726475438931492, -0.8754548694426114, 1.4769569272751402, -1.1198238404890728, -0.01166713487201717, -0.8704916124383638, -0.7452030374081205, 1.0980138822393697, -1.2920538475380032, 0.4820522082297061, 0.5801132346756122, -1.172445079797513, 0.10794550998379952, 0.4549470143952793, 1.0461950013526864, -1.5081622005182924, 1.226275464583169, -1.5599668548836045, 0.744306083529144, -0.08554417277120979, -1.3241444170103283, -1.6113510314540873, -1.873746753759231, -1.6944197671866323, 0.6247438287291291, -0.1818162989389835, -0.45067126644989614, -1.1897704812162915, 1.4373509460024958, -1.0109890424592494, -0.2246209543647973, -1.0054544415043833, -0.8917803201970335, 0.11013000673782364, 0.8460814387692865, -0.2960568336761955, 1.6971034217877161, -0.6242430462122459, -0.9875452455298763, -1.1465984440862063, -0.6955021346674213, 0.08545122043946983]}],\n",
       "                        {\"legend\": {\"bgcolor\": \"#F5F6F9\", \"font\": {\"color\": \"#4D5663\"}}, \"paper_bgcolor\": \"#F5F6F9\", \"plot_bgcolor\": \"#F5F6F9\", \"template\": {\"data\": {\"bar\": [{\"error_x\": {\"color\": \"#2a3f5f\"}, \"error_y\": {\"color\": \"#2a3f5f\"}, \"marker\": {\"line\": {\"color\": \"#E5ECF6\", \"width\": 0.5}}, \"type\": \"bar\"}], \"barpolar\": [{\"marker\": {\"line\": {\"color\": \"#E5ECF6\", \"width\": 0.5}}, \"type\": \"barpolar\"}], \"carpet\": [{\"aaxis\": {\"endlinecolor\": \"#2a3f5f\", \"gridcolor\": \"white\", \"linecolor\": \"white\", \"minorgridcolor\": \"white\", \"startlinecolor\": \"#2a3f5f\"}, \"baxis\": {\"endlinecolor\": \"#2a3f5f\", \"gridcolor\": \"white\", \"linecolor\": \"white\", \"minorgridcolor\": \"white\", \"startlinecolor\": \"#2a3f5f\"}, \"type\": \"carpet\"}], \"choropleth\": [{\"colorbar\": {\"outlinewidth\": 0, \"ticks\": \"\"}, \"type\": \"choropleth\"}], \"contour\": [{\"colorbar\": {\"outlinewidth\": 0, \"ticks\": \"\"}, \"colorscale\": [[0.0, \"#0d0887\"], [0.1111111111111111, \"#46039f\"], [0.2222222222222222, \"#7201a8\"], [0.3333333333333333, \"#9c179e\"], [0.4444444444444444, \"#bd3786\"], [0.5555555555555556, \"#d8576b\"], [0.6666666666666666, \"#ed7953\"], [0.7777777777777778, \"#fb9f3a\"], [0.8888888888888888, \"#fdca26\"], [1.0, \"#f0f921\"]], \"type\": \"contour\"}], \"contourcarpet\": [{\"colorbar\": {\"outlinewidth\": 0, \"ticks\": \"\"}, \"type\": \"contourcarpet\"}], \"heatmap\": [{\"colorbar\": {\"outlinewidth\": 0, \"ticks\": \"\"}, \"colorscale\": [[0.0, \"#0d0887\"], [0.1111111111111111, \"#46039f\"], [0.2222222222222222, \"#7201a8\"], [0.3333333333333333, \"#9c179e\"], [0.4444444444444444, \"#bd3786\"], [0.5555555555555556, \"#d8576b\"], [0.6666666666666666, \"#ed7953\"], [0.7777777777777778, \"#fb9f3a\"], [0.8888888888888888, \"#fdca26\"], [1.0, \"#f0f921\"]], \"type\": \"heatmap\"}], \"heatmapgl\": [{\"colorbar\": {\"outlinewidth\": 0, \"ticks\": \"\"}, \"colorscale\": [[0.0, \"#0d0887\"], [0.1111111111111111, \"#46039f\"], [0.2222222222222222, \"#7201a8\"], [0.3333333333333333, \"#9c179e\"], [0.4444444444444444, \"#bd3786\"], [0.5555555555555556, \"#d8576b\"], [0.6666666666666666, \"#ed7953\"], [0.7777777777777778, \"#fb9f3a\"], [0.8888888888888888, \"#fdca26\"], [1.0, \"#f0f921\"]], \"type\": \"heatmapgl\"}], \"histogram\": [{\"marker\": {\"colorbar\": {\"outlinewidth\": 0, \"ticks\": \"\"}}, \"type\": \"histogram\"}], \"histogram2d\": [{\"colorbar\": {\"outlinewidth\": 0, \"ticks\": \"\"}, \"colorscale\": [[0.0, \"#0d0887\"], [0.1111111111111111, \"#46039f\"], [0.2222222222222222, \"#7201a8\"], [0.3333333333333333, \"#9c179e\"], [0.4444444444444444, \"#bd3786\"], [0.5555555555555556, \"#d8576b\"], [0.6666666666666666, \"#ed7953\"], [0.7777777777777778, \"#fb9f3a\"], [0.8888888888888888, \"#fdca26\"], [1.0, \"#f0f921\"]], \"type\": \"histogram2d\"}], \"histogram2dcontour\": [{\"colorbar\": {\"outlinewidth\": 0, \"ticks\": \"\"}, \"colorscale\": [[0.0, \"#0d0887\"], [0.1111111111111111, \"#46039f\"], [0.2222222222222222, \"#7201a8\"], [0.3333333333333333, \"#9c179e\"], [0.4444444444444444, \"#bd3786\"], [0.5555555555555556, \"#d8576b\"], [0.6666666666666666, \"#ed7953\"], [0.7777777777777778, \"#fb9f3a\"], [0.8888888888888888, \"#fdca26\"], [1.0, \"#f0f921\"]], \"type\": \"histogram2dcontour\"}], \"mesh3d\": [{\"colorbar\": {\"outlinewidth\": 0, \"ticks\": \"\"}, \"type\": \"mesh3d\"}], \"parcoords\": [{\"line\": {\"colorbar\": {\"outlinewidth\": 0, \"ticks\": \"\"}}, \"type\": \"parcoords\"}], \"pie\": [{\"automargin\": true, \"type\": \"pie\"}], \"scatter\": [{\"marker\": {\"colorbar\": {\"outlinewidth\": 0, \"ticks\": \"\"}}, \"type\": \"scatter\"}], \"scatter3d\": [{\"line\": {\"colorbar\": {\"outlinewidth\": 0, \"ticks\": \"\"}}, \"marker\": {\"colorbar\": {\"outlinewidth\": 0, \"ticks\": \"\"}}, \"type\": \"scatter3d\"}], \"scattercarpet\": [{\"marker\": {\"colorbar\": {\"outlinewidth\": 0, \"ticks\": \"\"}}, \"type\": \"scattercarpet\"}], \"scattergeo\": [{\"marker\": {\"colorbar\": {\"outlinewidth\": 0, \"ticks\": \"\"}}, \"type\": \"scattergeo\"}], \"scattergl\": [{\"marker\": {\"colorbar\": {\"outlinewidth\": 0, \"ticks\": \"\"}}, \"type\": \"scattergl\"}], \"scattermapbox\": [{\"marker\": {\"colorbar\": {\"outlinewidth\": 0, \"ticks\": \"\"}}, \"type\": \"scattermapbox\"}], \"scatterpolar\": [{\"marker\": {\"colorbar\": {\"outlinewidth\": 0, \"ticks\": \"\"}}, \"type\": \"scatterpolar\"}], \"scatterpolargl\": [{\"marker\": {\"colorbar\": {\"outlinewidth\": 0, \"ticks\": \"\"}}, \"type\": \"scatterpolargl\"}], \"scatterternary\": [{\"marker\": {\"colorbar\": {\"outlinewidth\": 0, \"ticks\": \"\"}}, \"type\": \"scatterternary\"}], \"surface\": [{\"colorbar\": {\"outlinewidth\": 0, \"ticks\": \"\"}, \"colorscale\": [[0.0, \"#0d0887\"], [0.1111111111111111, \"#46039f\"], [0.2222222222222222, \"#7201a8\"], [0.3333333333333333, \"#9c179e\"], [0.4444444444444444, \"#bd3786\"], [0.5555555555555556, \"#d8576b\"], [0.6666666666666666, \"#ed7953\"], [0.7777777777777778, \"#fb9f3a\"], [0.8888888888888888, \"#fdca26\"], [1.0, \"#f0f921\"]], \"type\": \"surface\"}], \"table\": [{\"cells\": {\"fill\": {\"color\": \"#EBF0F8\"}, \"line\": {\"color\": \"white\"}}, \"header\": {\"fill\": {\"color\": \"#C8D4E3\"}, \"line\": {\"color\": \"white\"}}, \"type\": \"table\"}]}, \"layout\": {\"annotationdefaults\": {\"arrowcolor\": \"#2a3f5f\", \"arrowhead\": 0, \"arrowwidth\": 1}, \"coloraxis\": {\"colorbar\": {\"outlinewidth\": 0, \"ticks\": \"\"}}, \"colorscale\": {\"diverging\": [[0, \"#8e0152\"], [0.1, \"#c51b7d\"], [0.2, \"#de77ae\"], [0.3, \"#f1b6da\"], [0.4, \"#fde0ef\"], [0.5, \"#f7f7f7\"], [0.6, \"#e6f5d0\"], [0.7, \"#b8e186\"], [0.8, \"#7fbc41\"], [0.9, \"#4d9221\"], [1, \"#276419\"]], \"sequential\": [[0.0, \"#0d0887\"], [0.1111111111111111, \"#46039f\"], [0.2222222222222222, \"#7201a8\"], [0.3333333333333333, \"#9c179e\"], [0.4444444444444444, \"#bd3786\"], [0.5555555555555556, \"#d8576b\"], [0.6666666666666666, \"#ed7953\"], [0.7777777777777778, \"#fb9f3a\"], [0.8888888888888888, \"#fdca26\"], [1.0, \"#f0f921\"]], \"sequentialminus\": [[0.0, \"#0d0887\"], [0.1111111111111111, \"#46039f\"], [0.2222222222222222, \"#7201a8\"], [0.3333333333333333, \"#9c179e\"], [0.4444444444444444, \"#bd3786\"], [0.5555555555555556, \"#d8576b\"], [0.6666666666666666, \"#ed7953\"], [0.7777777777777778, \"#fb9f3a\"], [0.8888888888888888, \"#fdca26\"], [1.0, \"#f0f921\"]]}, \"colorway\": [\"#636efa\", \"#EF553B\", \"#00cc96\", \"#ab63fa\", \"#FFA15A\", \"#19d3f3\", \"#FF6692\", \"#B6E880\", \"#FF97FF\", \"#FECB52\"], \"font\": {\"color\": \"#2a3f5f\"}, \"geo\": {\"bgcolor\": \"white\", \"lakecolor\": \"white\", \"landcolor\": \"#E5ECF6\", \"showlakes\": true, \"showland\": true, \"subunitcolor\": \"white\"}, \"hoverlabel\": {\"align\": \"left\"}, \"hovermode\": \"closest\", \"mapbox\": {\"style\": \"light\"}, \"paper_bgcolor\": \"white\", \"plot_bgcolor\": \"#E5ECF6\", \"polar\": {\"angularaxis\": {\"gridcolor\": \"white\", \"linecolor\": \"white\", \"ticks\": \"\"}, \"bgcolor\": \"#E5ECF6\", \"radialaxis\": {\"gridcolor\": \"white\", \"linecolor\": \"white\", \"ticks\": \"\"}}, \"scene\": {\"xaxis\": {\"backgroundcolor\": \"#E5ECF6\", \"gridcolor\": \"white\", \"gridwidth\": 2, \"linecolor\": \"white\", \"showbackground\": true, \"ticks\": \"\", \"zerolinecolor\": \"white\"}, \"yaxis\": {\"backgroundcolor\": \"#E5ECF6\", \"gridcolor\": \"white\", \"gridwidth\": 2, \"linecolor\": \"white\", \"showbackground\": true, \"ticks\": \"\", \"zerolinecolor\": \"white\"}, \"zaxis\": {\"backgroundcolor\": \"#E5ECF6\", \"gridcolor\": \"white\", \"gridwidth\": 2, \"linecolor\": \"white\", \"showbackground\": true, \"ticks\": \"\", \"zerolinecolor\": \"white\"}}, \"shapedefaults\": {\"line\": {\"color\": \"#2a3f5f\"}}, \"ternary\": {\"aaxis\": {\"gridcolor\": \"white\", \"linecolor\": \"white\", \"ticks\": \"\"}, \"baxis\": {\"gridcolor\": \"white\", \"linecolor\": \"white\", \"ticks\": \"\"}, \"bgcolor\": \"#E5ECF6\", \"caxis\": {\"gridcolor\": \"white\", \"linecolor\": \"white\", \"ticks\": \"\"}}, \"title\": {\"x\": 0.05}, \"xaxis\": {\"automargin\": true, \"gridcolor\": \"white\", \"linecolor\": \"white\", \"ticks\": \"\", \"title\": {\"standoff\": 15}, \"zerolinecolor\": \"white\", \"zerolinewidth\": 2}, \"yaxis\": {\"automargin\": true, \"gridcolor\": \"white\", \"linecolor\": \"white\", \"ticks\": \"\", \"title\": {\"standoff\": 15}, \"zerolinecolor\": \"white\", \"zerolinewidth\": 2}}}, \"title\": {\"font\": {\"color\": \"#4D5663\"}}, \"xaxis\": {\"gridcolor\": \"#E1E5ED\", \"showgrid\": true, \"tickfont\": {\"color\": \"#4D5663\"}, \"title\": {\"font\": {\"color\": \"#4D5663\"}, \"text\": \"\"}, \"zerolinecolor\": \"#E1E5ED\"}, \"yaxis\": {\"gridcolor\": \"#E1E5ED\", \"showgrid\": true, \"tickfont\": {\"color\": \"#4D5663\"}, \"title\": {\"font\": {\"color\": \"#4D5663\"}, \"text\": \"\"}, \"zerolinecolor\": \"#E1E5ED\"}},\n",
       "                        {\"showLink\": true, \"linkText\": \"Export to plot.ly\", \"plotlyServerURL\": \"https://plot.ly\", \"responsive\": true}\n",
       "                    ).then(function(){\n",
       "                            \n",
       "var gd = document.getElementById('80f66ed8-e809-4ab2-ac2c-e9de973eda47');\n",
       "var x = new MutationObserver(function (mutations, observer) {{\n",
       "        var display = window.getComputedStyle(gd).display;\n",
       "        if (!display || display === 'none') {{\n",
       "            console.log([gd, 'removed!']);\n",
       "            Plotly.purge(gd);\n",
       "            observer.disconnect();\n",
       "        }}\n",
       "}});\n",
       "\n",
       "// Listen for the removal of the full notebook cells\n",
       "var notebookContainer = gd.closest('#notebook-container');\n",
       "if (notebookContainer) {{\n",
       "    x.observe(notebookContainer, {childList: true});\n",
       "}}\n",
       "\n",
       "// Listen for the clearing of the current output cell\n",
       "var outputEl = gd.closest('.output');\n",
       "if (outputEl) {{\n",
       "    x.observe(outputEl, {childList: true});\n",
       "}}\n",
       "\n",
       "                        })\n",
       "                };\n",
       "                });\n",
       "            </script>\n",
       "        </div>"
      ]
     },
     "metadata": {},
     "output_type": "display_data"
    }
   ],
   "source": [
    "df.iplot(kind='bar')"
   ]
  },
  {
   "cell_type": "code",
   "execution_count": 49,
   "metadata": {},
   "outputs": [
    {
     "data": {
      "application/vnd.plotly.v1+json": {
       "config": {
        "linkText": "Export to plot.ly",
        "plotlyServerURL": "https://plot.ly",
        "showLink": true
       },
       "data": [
        {
         "marker": {
          "color": "rgba(255, 153, 51, 0.6)",
          "line": {
           "color": "rgba(255, 153, 51, 1.0)",
           "width": 1
          }
         },
         "name": "None",
         "orientation": "v",
         "text": "",
         "type": "bar",
         "x": [
          "A",
          "B",
          "C",
          "D"
         ],
         "y": [
          100,
          100,
          100,
          100
         ]
        }
       ],
       "layout": {
        "legend": {
         "bgcolor": "#F5F6F9",
         "font": {
          "color": "#4D5663"
         }
        },
        "paper_bgcolor": "#F5F6F9",
        "plot_bgcolor": "#F5F6F9",
        "template": {
         "data": {
          "bar": [
           {
            "error_x": {
             "color": "#2a3f5f"
            },
            "error_y": {
             "color": "#2a3f5f"
            },
            "marker": {
             "line": {
              "color": "#E5ECF6",
              "width": 0.5
             }
            },
            "type": "bar"
           }
          ],
          "barpolar": [
           {
            "marker": {
             "line": {
              "color": "#E5ECF6",
              "width": 0.5
             }
            },
            "type": "barpolar"
           }
          ],
          "carpet": [
           {
            "aaxis": {
             "endlinecolor": "#2a3f5f",
             "gridcolor": "white",
             "linecolor": "white",
             "minorgridcolor": "white",
             "startlinecolor": "#2a3f5f"
            },
            "baxis": {
             "endlinecolor": "#2a3f5f",
             "gridcolor": "white",
             "linecolor": "white",
             "minorgridcolor": "white",
             "startlinecolor": "#2a3f5f"
            },
            "type": "carpet"
           }
          ],
          "choropleth": [
           {
            "colorbar": {
             "outlinewidth": 0,
             "ticks": ""
            },
            "type": "choropleth"
           }
          ],
          "contour": [
           {
            "colorbar": {
             "outlinewidth": 0,
             "ticks": ""
            },
            "colorscale": [
             [
              0,
              "#0d0887"
             ],
             [
              0.1111111111111111,
              "#46039f"
             ],
             [
              0.2222222222222222,
              "#7201a8"
             ],
             [
              0.3333333333333333,
              "#9c179e"
             ],
             [
              0.4444444444444444,
              "#bd3786"
             ],
             [
              0.5555555555555556,
              "#d8576b"
             ],
             [
              0.6666666666666666,
              "#ed7953"
             ],
             [
              0.7777777777777778,
              "#fb9f3a"
             ],
             [
              0.8888888888888888,
              "#fdca26"
             ],
             [
              1,
              "#f0f921"
             ]
            ],
            "type": "contour"
           }
          ],
          "contourcarpet": [
           {
            "colorbar": {
             "outlinewidth": 0,
             "ticks": ""
            },
            "type": "contourcarpet"
           }
          ],
          "heatmap": [
           {
            "colorbar": {
             "outlinewidth": 0,
             "ticks": ""
            },
            "colorscale": [
             [
              0,
              "#0d0887"
             ],
             [
              0.1111111111111111,
              "#46039f"
             ],
             [
              0.2222222222222222,
              "#7201a8"
             ],
             [
              0.3333333333333333,
              "#9c179e"
             ],
             [
              0.4444444444444444,
              "#bd3786"
             ],
             [
              0.5555555555555556,
              "#d8576b"
             ],
             [
              0.6666666666666666,
              "#ed7953"
             ],
             [
              0.7777777777777778,
              "#fb9f3a"
             ],
             [
              0.8888888888888888,
              "#fdca26"
             ],
             [
              1,
              "#f0f921"
             ]
            ],
            "type": "heatmap"
           }
          ],
          "heatmapgl": [
           {
            "colorbar": {
             "outlinewidth": 0,
             "ticks": ""
            },
            "colorscale": [
             [
              0,
              "#0d0887"
             ],
             [
              0.1111111111111111,
              "#46039f"
             ],
             [
              0.2222222222222222,
              "#7201a8"
             ],
             [
              0.3333333333333333,
              "#9c179e"
             ],
             [
              0.4444444444444444,
              "#bd3786"
             ],
             [
              0.5555555555555556,
              "#d8576b"
             ],
             [
              0.6666666666666666,
              "#ed7953"
             ],
             [
              0.7777777777777778,
              "#fb9f3a"
             ],
             [
              0.8888888888888888,
              "#fdca26"
             ],
             [
              1,
              "#f0f921"
             ]
            ],
            "type": "heatmapgl"
           }
          ],
          "histogram": [
           {
            "marker": {
             "colorbar": {
              "outlinewidth": 0,
              "ticks": ""
             }
            },
            "type": "histogram"
           }
          ],
          "histogram2d": [
           {
            "colorbar": {
             "outlinewidth": 0,
             "ticks": ""
            },
            "colorscale": [
             [
              0,
              "#0d0887"
             ],
             [
              0.1111111111111111,
              "#46039f"
             ],
             [
              0.2222222222222222,
              "#7201a8"
             ],
             [
              0.3333333333333333,
              "#9c179e"
             ],
             [
              0.4444444444444444,
              "#bd3786"
             ],
             [
              0.5555555555555556,
              "#d8576b"
             ],
             [
              0.6666666666666666,
              "#ed7953"
             ],
             [
              0.7777777777777778,
              "#fb9f3a"
             ],
             [
              0.8888888888888888,
              "#fdca26"
             ],
             [
              1,
              "#f0f921"
             ]
            ],
            "type": "histogram2d"
           }
          ],
          "histogram2dcontour": [
           {
            "colorbar": {
             "outlinewidth": 0,
             "ticks": ""
            },
            "colorscale": [
             [
              0,
              "#0d0887"
             ],
             [
              0.1111111111111111,
              "#46039f"
             ],
             [
              0.2222222222222222,
              "#7201a8"
             ],
             [
              0.3333333333333333,
              "#9c179e"
             ],
             [
              0.4444444444444444,
              "#bd3786"
             ],
             [
              0.5555555555555556,
              "#d8576b"
             ],
             [
              0.6666666666666666,
              "#ed7953"
             ],
             [
              0.7777777777777778,
              "#fb9f3a"
             ],
             [
              0.8888888888888888,
              "#fdca26"
             ],
             [
              1,
              "#f0f921"
             ]
            ],
            "type": "histogram2dcontour"
           }
          ],
          "mesh3d": [
           {
            "colorbar": {
             "outlinewidth": 0,
             "ticks": ""
            },
            "type": "mesh3d"
           }
          ],
          "parcoords": [
           {
            "line": {
             "colorbar": {
              "outlinewidth": 0,
              "ticks": ""
             }
            },
            "type": "parcoords"
           }
          ],
          "pie": [
           {
            "automargin": true,
            "type": "pie"
           }
          ],
          "scatter": [
           {
            "marker": {
             "colorbar": {
              "outlinewidth": 0,
              "ticks": ""
             }
            },
            "type": "scatter"
           }
          ],
          "scatter3d": [
           {
            "line": {
             "colorbar": {
              "outlinewidth": 0,
              "ticks": ""
             }
            },
            "marker": {
             "colorbar": {
              "outlinewidth": 0,
              "ticks": ""
             }
            },
            "type": "scatter3d"
           }
          ],
          "scattercarpet": [
           {
            "marker": {
             "colorbar": {
              "outlinewidth": 0,
              "ticks": ""
             }
            },
            "type": "scattercarpet"
           }
          ],
          "scattergeo": [
           {
            "marker": {
             "colorbar": {
              "outlinewidth": 0,
              "ticks": ""
             }
            },
            "type": "scattergeo"
           }
          ],
          "scattergl": [
           {
            "marker": {
             "colorbar": {
              "outlinewidth": 0,
              "ticks": ""
             }
            },
            "type": "scattergl"
           }
          ],
          "scattermapbox": [
           {
            "marker": {
             "colorbar": {
              "outlinewidth": 0,
              "ticks": ""
             }
            },
            "type": "scattermapbox"
           }
          ],
          "scatterpolar": [
           {
            "marker": {
             "colorbar": {
              "outlinewidth": 0,
              "ticks": ""
             }
            },
            "type": "scatterpolar"
           }
          ],
          "scatterpolargl": [
           {
            "marker": {
             "colorbar": {
              "outlinewidth": 0,
              "ticks": ""
             }
            },
            "type": "scatterpolargl"
           }
          ],
          "scatterternary": [
           {
            "marker": {
             "colorbar": {
              "outlinewidth": 0,
              "ticks": ""
             }
            },
            "type": "scatterternary"
           }
          ],
          "surface": [
           {
            "colorbar": {
             "outlinewidth": 0,
             "ticks": ""
            },
            "colorscale": [
             [
              0,
              "#0d0887"
             ],
             [
              0.1111111111111111,
              "#46039f"
             ],
             [
              0.2222222222222222,
              "#7201a8"
             ],
             [
              0.3333333333333333,
              "#9c179e"
             ],
             [
              0.4444444444444444,
              "#bd3786"
             ],
             [
              0.5555555555555556,
              "#d8576b"
             ],
             [
              0.6666666666666666,
              "#ed7953"
             ],
             [
              0.7777777777777778,
              "#fb9f3a"
             ],
             [
              0.8888888888888888,
              "#fdca26"
             ],
             [
              1,
              "#f0f921"
             ]
            ],
            "type": "surface"
           }
          ],
          "table": [
           {
            "cells": {
             "fill": {
              "color": "#EBF0F8"
             },
             "line": {
              "color": "white"
             }
            },
            "header": {
             "fill": {
              "color": "#C8D4E3"
             },
             "line": {
              "color": "white"
             }
            },
            "type": "table"
           }
          ]
         },
         "layout": {
          "annotationdefaults": {
           "arrowcolor": "#2a3f5f",
           "arrowhead": 0,
           "arrowwidth": 1
          },
          "coloraxis": {
           "colorbar": {
            "outlinewidth": 0,
            "ticks": ""
           }
          },
          "colorscale": {
           "diverging": [
            [
             0,
             "#8e0152"
            ],
            [
             0.1,
             "#c51b7d"
            ],
            [
             0.2,
             "#de77ae"
            ],
            [
             0.3,
             "#f1b6da"
            ],
            [
             0.4,
             "#fde0ef"
            ],
            [
             0.5,
             "#f7f7f7"
            ],
            [
             0.6,
             "#e6f5d0"
            ],
            [
             0.7,
             "#b8e186"
            ],
            [
             0.8,
             "#7fbc41"
            ],
            [
             0.9,
             "#4d9221"
            ],
            [
             1,
             "#276419"
            ]
           ],
           "sequential": [
            [
             0,
             "#0d0887"
            ],
            [
             0.1111111111111111,
             "#46039f"
            ],
            [
             0.2222222222222222,
             "#7201a8"
            ],
            [
             0.3333333333333333,
             "#9c179e"
            ],
            [
             0.4444444444444444,
             "#bd3786"
            ],
            [
             0.5555555555555556,
             "#d8576b"
            ],
            [
             0.6666666666666666,
             "#ed7953"
            ],
            [
             0.7777777777777778,
             "#fb9f3a"
            ],
            [
             0.8888888888888888,
             "#fdca26"
            ],
            [
             1,
             "#f0f921"
            ]
           ],
           "sequentialminus": [
            [
             0,
             "#0d0887"
            ],
            [
             0.1111111111111111,
             "#46039f"
            ],
            [
             0.2222222222222222,
             "#7201a8"
            ],
            [
             0.3333333333333333,
             "#9c179e"
            ],
            [
             0.4444444444444444,
             "#bd3786"
            ],
            [
             0.5555555555555556,
             "#d8576b"
            ],
            [
             0.6666666666666666,
             "#ed7953"
            ],
            [
             0.7777777777777778,
             "#fb9f3a"
            ],
            [
             0.8888888888888888,
             "#fdca26"
            ],
            [
             1,
             "#f0f921"
            ]
           ]
          },
          "colorway": [
           "#636efa",
           "#EF553B",
           "#00cc96",
           "#ab63fa",
           "#FFA15A",
           "#19d3f3",
           "#FF6692",
           "#B6E880",
           "#FF97FF",
           "#FECB52"
          ],
          "font": {
           "color": "#2a3f5f"
          },
          "geo": {
           "bgcolor": "white",
           "lakecolor": "white",
           "landcolor": "#E5ECF6",
           "showlakes": true,
           "showland": true,
           "subunitcolor": "white"
          },
          "hoverlabel": {
           "align": "left"
          },
          "hovermode": "closest",
          "mapbox": {
           "style": "light"
          },
          "paper_bgcolor": "white",
          "plot_bgcolor": "#E5ECF6",
          "polar": {
           "angularaxis": {
            "gridcolor": "white",
            "linecolor": "white",
            "ticks": ""
           },
           "bgcolor": "#E5ECF6",
           "radialaxis": {
            "gridcolor": "white",
            "linecolor": "white",
            "ticks": ""
           }
          },
          "scene": {
           "xaxis": {
            "backgroundcolor": "#E5ECF6",
            "gridcolor": "white",
            "gridwidth": 2,
            "linecolor": "white",
            "showbackground": true,
            "ticks": "",
            "zerolinecolor": "white"
           },
           "yaxis": {
            "backgroundcolor": "#E5ECF6",
            "gridcolor": "white",
            "gridwidth": 2,
            "linecolor": "white",
            "showbackground": true,
            "ticks": "",
            "zerolinecolor": "white"
           },
           "zaxis": {
            "backgroundcolor": "#E5ECF6",
            "gridcolor": "white",
            "gridwidth": 2,
            "linecolor": "white",
            "showbackground": true,
            "ticks": "",
            "zerolinecolor": "white"
           }
          },
          "shapedefaults": {
           "line": {
            "color": "#2a3f5f"
           }
          },
          "ternary": {
           "aaxis": {
            "gridcolor": "white",
            "linecolor": "white",
            "ticks": ""
           },
           "baxis": {
            "gridcolor": "white",
            "linecolor": "white",
            "ticks": ""
           },
           "bgcolor": "#E5ECF6",
           "caxis": {
            "gridcolor": "white",
            "linecolor": "white",
            "ticks": ""
           }
          },
          "title": {
           "x": 0.05
          },
          "xaxis": {
           "automargin": true,
           "gridcolor": "white",
           "linecolor": "white",
           "ticks": "",
           "title": {
            "standoff": 15
           },
           "zerolinecolor": "white",
           "zerolinewidth": 2
          },
          "yaxis": {
           "automargin": true,
           "gridcolor": "white",
           "linecolor": "white",
           "ticks": "",
           "title": {
            "standoff": 15
           },
           "zerolinecolor": "white",
           "zerolinewidth": 2
          }
         }
        },
        "title": {
         "font": {
          "color": "#4D5663"
         }
        },
        "xaxis": {
         "gridcolor": "#E1E5ED",
         "showgrid": true,
         "tickfont": {
          "color": "#4D5663"
         },
         "title": {
          "font": {
           "color": "#4D5663"
          },
          "text": ""
         },
         "zerolinecolor": "#E1E5ED"
        },
        "yaxis": {
         "gridcolor": "#E1E5ED",
         "showgrid": true,
         "tickfont": {
          "color": "#4D5663"
         },
         "title": {
          "font": {
           "color": "#4D5663"
          },
          "text": ""
         },
         "zerolinecolor": "#E1E5ED"
        }
       }
      },
      "text/html": [
       "<div>\n",
       "        \n",
       "        \n",
       "            <div id=\"6fa1aa12-babe-48e8-b934-e698b6a7a0b3\" class=\"plotly-graph-div\" style=\"height:525px; width:100%;\"></div>\n",
       "            <script type=\"text/javascript\">\n",
       "                require([\"plotly\"], function(Plotly) {\n",
       "                    window.PLOTLYENV=window.PLOTLYENV || {};\n",
       "                    window.PLOTLYENV.BASE_URL='https://plot.ly';\n",
       "                    \n",
       "                if (document.getElementById(\"6fa1aa12-babe-48e8-b934-e698b6a7a0b3\")) {\n",
       "                    Plotly.newPlot(\n",
       "                        '6fa1aa12-babe-48e8-b934-e698b6a7a0b3',\n",
       "                        [{\"marker\": {\"color\": \"rgba(255, 153, 51, 0.6)\", \"line\": {\"color\": \"rgba(255, 153, 51, 1.0)\", \"width\": 1}}, \"name\": \"None\", \"orientation\": \"v\", \"text\": \"\", \"type\": \"bar\", \"x\": [\"A\", \"B\", \"C\", \"D\"], \"y\": [100, 100, 100, 100]}],\n",
       "                        {\"legend\": {\"bgcolor\": \"#F5F6F9\", \"font\": {\"color\": \"#4D5663\"}}, \"paper_bgcolor\": \"#F5F6F9\", \"plot_bgcolor\": \"#F5F6F9\", \"template\": {\"data\": {\"bar\": [{\"error_x\": {\"color\": \"#2a3f5f\"}, \"error_y\": {\"color\": \"#2a3f5f\"}, \"marker\": {\"line\": {\"color\": \"#E5ECF6\", \"width\": 0.5}}, \"type\": \"bar\"}], \"barpolar\": [{\"marker\": {\"line\": {\"color\": \"#E5ECF6\", \"width\": 0.5}}, \"type\": \"barpolar\"}], \"carpet\": [{\"aaxis\": {\"endlinecolor\": \"#2a3f5f\", \"gridcolor\": \"white\", \"linecolor\": \"white\", \"minorgridcolor\": \"white\", \"startlinecolor\": \"#2a3f5f\"}, \"baxis\": {\"endlinecolor\": \"#2a3f5f\", \"gridcolor\": \"white\", \"linecolor\": \"white\", \"minorgridcolor\": \"white\", \"startlinecolor\": \"#2a3f5f\"}, \"type\": \"carpet\"}], \"choropleth\": [{\"colorbar\": {\"outlinewidth\": 0, \"ticks\": \"\"}, \"type\": \"choropleth\"}], \"contour\": [{\"colorbar\": {\"outlinewidth\": 0, \"ticks\": \"\"}, \"colorscale\": [[0.0, \"#0d0887\"], [0.1111111111111111, \"#46039f\"], [0.2222222222222222, \"#7201a8\"], [0.3333333333333333, \"#9c179e\"], [0.4444444444444444, \"#bd3786\"], [0.5555555555555556, \"#d8576b\"], [0.6666666666666666, \"#ed7953\"], [0.7777777777777778, \"#fb9f3a\"], [0.8888888888888888, \"#fdca26\"], [1.0, \"#f0f921\"]], \"type\": \"contour\"}], \"contourcarpet\": [{\"colorbar\": {\"outlinewidth\": 0, \"ticks\": \"\"}, \"type\": \"contourcarpet\"}], \"heatmap\": [{\"colorbar\": {\"outlinewidth\": 0, \"ticks\": \"\"}, \"colorscale\": [[0.0, \"#0d0887\"], [0.1111111111111111, \"#46039f\"], [0.2222222222222222, \"#7201a8\"], [0.3333333333333333, \"#9c179e\"], [0.4444444444444444, \"#bd3786\"], [0.5555555555555556, \"#d8576b\"], [0.6666666666666666, \"#ed7953\"], [0.7777777777777778, \"#fb9f3a\"], [0.8888888888888888, \"#fdca26\"], [1.0, \"#f0f921\"]], \"type\": \"heatmap\"}], \"heatmapgl\": [{\"colorbar\": {\"outlinewidth\": 0, \"ticks\": \"\"}, \"colorscale\": [[0.0, \"#0d0887\"], [0.1111111111111111, \"#46039f\"], [0.2222222222222222, \"#7201a8\"], [0.3333333333333333, \"#9c179e\"], [0.4444444444444444, \"#bd3786\"], [0.5555555555555556, \"#d8576b\"], [0.6666666666666666, \"#ed7953\"], [0.7777777777777778, \"#fb9f3a\"], [0.8888888888888888, \"#fdca26\"], [1.0, \"#f0f921\"]], \"type\": \"heatmapgl\"}], \"histogram\": [{\"marker\": {\"colorbar\": {\"outlinewidth\": 0, \"ticks\": \"\"}}, \"type\": \"histogram\"}], \"histogram2d\": [{\"colorbar\": {\"outlinewidth\": 0, \"ticks\": \"\"}, \"colorscale\": [[0.0, \"#0d0887\"], [0.1111111111111111, \"#46039f\"], [0.2222222222222222, \"#7201a8\"], [0.3333333333333333, \"#9c179e\"], [0.4444444444444444, \"#bd3786\"], [0.5555555555555556, \"#d8576b\"], [0.6666666666666666, \"#ed7953\"], [0.7777777777777778, \"#fb9f3a\"], [0.8888888888888888, \"#fdca26\"], [1.0, \"#f0f921\"]], \"type\": \"histogram2d\"}], \"histogram2dcontour\": [{\"colorbar\": {\"outlinewidth\": 0, \"ticks\": \"\"}, \"colorscale\": [[0.0, \"#0d0887\"], [0.1111111111111111, \"#46039f\"], [0.2222222222222222, \"#7201a8\"], [0.3333333333333333, \"#9c179e\"], [0.4444444444444444, \"#bd3786\"], [0.5555555555555556, \"#d8576b\"], [0.6666666666666666, \"#ed7953\"], [0.7777777777777778, \"#fb9f3a\"], [0.8888888888888888, \"#fdca26\"], [1.0, \"#f0f921\"]], \"type\": \"histogram2dcontour\"}], \"mesh3d\": [{\"colorbar\": {\"outlinewidth\": 0, \"ticks\": \"\"}, \"type\": \"mesh3d\"}], \"parcoords\": [{\"line\": {\"colorbar\": {\"outlinewidth\": 0, \"ticks\": \"\"}}, \"type\": \"parcoords\"}], \"pie\": [{\"automargin\": true, \"type\": \"pie\"}], \"scatter\": [{\"marker\": {\"colorbar\": {\"outlinewidth\": 0, \"ticks\": \"\"}}, \"type\": \"scatter\"}], \"scatter3d\": [{\"line\": {\"colorbar\": {\"outlinewidth\": 0, \"ticks\": \"\"}}, \"marker\": {\"colorbar\": {\"outlinewidth\": 0, \"ticks\": \"\"}}, \"type\": \"scatter3d\"}], \"scattercarpet\": [{\"marker\": {\"colorbar\": {\"outlinewidth\": 0, \"ticks\": \"\"}}, \"type\": \"scattercarpet\"}], \"scattergeo\": [{\"marker\": {\"colorbar\": {\"outlinewidth\": 0, \"ticks\": \"\"}}, \"type\": \"scattergeo\"}], \"scattergl\": [{\"marker\": {\"colorbar\": {\"outlinewidth\": 0, \"ticks\": \"\"}}, \"type\": \"scattergl\"}], \"scattermapbox\": [{\"marker\": {\"colorbar\": {\"outlinewidth\": 0, \"ticks\": \"\"}}, \"type\": \"scattermapbox\"}], \"scatterpolar\": [{\"marker\": {\"colorbar\": {\"outlinewidth\": 0, \"ticks\": \"\"}}, \"type\": \"scatterpolar\"}], \"scatterpolargl\": [{\"marker\": {\"colorbar\": {\"outlinewidth\": 0, \"ticks\": \"\"}}, \"type\": \"scatterpolargl\"}], \"scatterternary\": [{\"marker\": {\"colorbar\": {\"outlinewidth\": 0, \"ticks\": \"\"}}, \"type\": \"scatterternary\"}], \"surface\": [{\"colorbar\": {\"outlinewidth\": 0, \"ticks\": \"\"}, \"colorscale\": [[0.0, \"#0d0887\"], [0.1111111111111111, \"#46039f\"], [0.2222222222222222, \"#7201a8\"], [0.3333333333333333, \"#9c179e\"], [0.4444444444444444, \"#bd3786\"], [0.5555555555555556, \"#d8576b\"], [0.6666666666666666, \"#ed7953\"], [0.7777777777777778, \"#fb9f3a\"], [0.8888888888888888, \"#fdca26\"], [1.0, \"#f0f921\"]], \"type\": \"surface\"}], \"table\": [{\"cells\": {\"fill\": {\"color\": \"#EBF0F8\"}, \"line\": {\"color\": \"white\"}}, \"header\": {\"fill\": {\"color\": \"#C8D4E3\"}, \"line\": {\"color\": \"white\"}}, \"type\": \"table\"}]}, \"layout\": {\"annotationdefaults\": {\"arrowcolor\": \"#2a3f5f\", \"arrowhead\": 0, \"arrowwidth\": 1}, \"coloraxis\": {\"colorbar\": {\"outlinewidth\": 0, \"ticks\": \"\"}}, \"colorscale\": {\"diverging\": [[0, \"#8e0152\"], [0.1, \"#c51b7d\"], [0.2, \"#de77ae\"], [0.3, \"#f1b6da\"], [0.4, \"#fde0ef\"], [0.5, \"#f7f7f7\"], [0.6, \"#e6f5d0\"], [0.7, \"#b8e186\"], [0.8, \"#7fbc41\"], [0.9, \"#4d9221\"], [1, \"#276419\"]], \"sequential\": [[0.0, \"#0d0887\"], [0.1111111111111111, \"#46039f\"], [0.2222222222222222, \"#7201a8\"], [0.3333333333333333, \"#9c179e\"], [0.4444444444444444, \"#bd3786\"], [0.5555555555555556, \"#d8576b\"], [0.6666666666666666, \"#ed7953\"], [0.7777777777777778, \"#fb9f3a\"], [0.8888888888888888, \"#fdca26\"], [1.0, \"#f0f921\"]], \"sequentialminus\": [[0.0, \"#0d0887\"], [0.1111111111111111, \"#46039f\"], [0.2222222222222222, \"#7201a8\"], [0.3333333333333333, \"#9c179e\"], [0.4444444444444444, \"#bd3786\"], [0.5555555555555556, \"#d8576b\"], [0.6666666666666666, \"#ed7953\"], [0.7777777777777778, \"#fb9f3a\"], [0.8888888888888888, \"#fdca26\"], [1.0, \"#f0f921\"]]}, \"colorway\": [\"#636efa\", \"#EF553B\", \"#00cc96\", \"#ab63fa\", \"#FFA15A\", \"#19d3f3\", \"#FF6692\", \"#B6E880\", \"#FF97FF\", \"#FECB52\"], \"font\": {\"color\": \"#2a3f5f\"}, \"geo\": {\"bgcolor\": \"white\", \"lakecolor\": \"white\", \"landcolor\": \"#E5ECF6\", \"showlakes\": true, \"showland\": true, \"subunitcolor\": \"white\"}, \"hoverlabel\": {\"align\": \"left\"}, \"hovermode\": \"closest\", \"mapbox\": {\"style\": \"light\"}, \"paper_bgcolor\": \"white\", \"plot_bgcolor\": \"#E5ECF6\", \"polar\": {\"angularaxis\": {\"gridcolor\": \"white\", \"linecolor\": \"white\", \"ticks\": \"\"}, \"bgcolor\": \"#E5ECF6\", \"radialaxis\": {\"gridcolor\": \"white\", \"linecolor\": \"white\", \"ticks\": \"\"}}, \"scene\": {\"xaxis\": {\"backgroundcolor\": \"#E5ECF6\", \"gridcolor\": \"white\", \"gridwidth\": 2, \"linecolor\": \"white\", \"showbackground\": true, \"ticks\": \"\", \"zerolinecolor\": \"white\"}, \"yaxis\": {\"backgroundcolor\": \"#E5ECF6\", \"gridcolor\": \"white\", \"gridwidth\": 2, \"linecolor\": \"white\", \"showbackground\": true, \"ticks\": \"\", \"zerolinecolor\": \"white\"}, \"zaxis\": {\"backgroundcolor\": \"#E5ECF6\", \"gridcolor\": \"white\", \"gridwidth\": 2, \"linecolor\": \"white\", \"showbackground\": true, \"ticks\": \"\", \"zerolinecolor\": \"white\"}}, \"shapedefaults\": {\"line\": {\"color\": \"#2a3f5f\"}}, \"ternary\": {\"aaxis\": {\"gridcolor\": \"white\", \"linecolor\": \"white\", \"ticks\": \"\"}, \"baxis\": {\"gridcolor\": \"white\", \"linecolor\": \"white\", \"ticks\": \"\"}, \"bgcolor\": \"#E5ECF6\", \"caxis\": {\"gridcolor\": \"white\", \"linecolor\": \"white\", \"ticks\": \"\"}}, \"title\": {\"x\": 0.05}, \"xaxis\": {\"automargin\": true, \"gridcolor\": \"white\", \"linecolor\": \"white\", \"ticks\": \"\", \"title\": {\"standoff\": 15}, \"zerolinecolor\": \"white\", \"zerolinewidth\": 2}, \"yaxis\": {\"automargin\": true, \"gridcolor\": \"white\", \"linecolor\": \"white\", \"ticks\": \"\", \"title\": {\"standoff\": 15}, \"zerolinecolor\": \"white\", \"zerolinewidth\": 2}}}, \"title\": {\"font\": {\"color\": \"#4D5663\"}}, \"xaxis\": {\"gridcolor\": \"#E1E5ED\", \"showgrid\": true, \"tickfont\": {\"color\": \"#4D5663\"}, \"title\": {\"font\": {\"color\": \"#4D5663\"}, \"text\": \"\"}, \"zerolinecolor\": \"#E1E5ED\"}, \"yaxis\": {\"gridcolor\": \"#E1E5ED\", \"showgrid\": true, \"tickfont\": {\"color\": \"#4D5663\"}, \"title\": {\"font\": {\"color\": \"#4D5663\"}, \"text\": \"\"}, \"zerolinecolor\": \"#E1E5ED\"}},\n",
       "                        {\"showLink\": true, \"linkText\": \"Export to plot.ly\", \"plotlyServerURL\": \"https://plot.ly\", \"responsive\": true}\n",
       "                    ).then(function(){\n",
       "                            \n",
       "var gd = document.getElementById('6fa1aa12-babe-48e8-b934-e698b6a7a0b3');\n",
       "var x = new MutationObserver(function (mutations, observer) {{\n",
       "        var display = window.getComputedStyle(gd).display;\n",
       "        if (!display || display === 'none') {{\n",
       "            console.log([gd, 'removed!']);\n",
       "            Plotly.purge(gd);\n",
       "            observer.disconnect();\n",
       "        }}\n",
       "}});\n",
       "\n",
       "// Listen for the removal of the full notebook cells\n",
       "var notebookContainer = gd.closest('#notebook-container');\n",
       "if (notebookContainer) {{\n",
       "    x.observe(notebookContainer, {childList: true});\n",
       "}}\n",
       "\n",
       "// Listen for the clearing of the current output cell\n",
       "var outputEl = gd.closest('.output');\n",
       "if (outputEl) {{\n",
       "    x.observe(outputEl, {childList: true});\n",
       "}}\n",
       "\n",
       "                        })\n",
       "                };\n",
       "                });\n",
       "            </script>\n",
       "        </div>"
      ]
     },
     "metadata": {},
     "output_type": "display_data"
    }
   ],
   "source": [
    "df.count().iplot(kind='bar')"
   ]
  },
  {
   "cell_type": "code",
   "execution_count": 50,
   "metadata": {},
   "outputs": [
    {
     "data": {
      "application/vnd.plotly.v1+json": {
       "config": {
        "linkText": "Export to plot.ly",
        "plotlyServerURL": "https://plot.ly",
        "showLink": true
       },
       "data": [
        {
         "marker": {
          "color": "rgba(255, 153, 51, 0.6)",
          "line": {
           "color": "rgba(255, 153, 51, 1.0)",
           "width": 1
          }
         },
         "name": "None",
         "orientation": "v",
         "text": "",
         "type": "bar",
         "x": [
          "A",
          "B",
          "C",
          "D"
         ],
         "y": [
          -7.102713723865037,
          7.365571690769315,
          -3.0179248056913104,
          -19.769646544823793
         ]
        }
       ],
       "layout": {
        "legend": {
         "bgcolor": "#F5F6F9",
         "font": {
          "color": "#4D5663"
         }
        },
        "paper_bgcolor": "#F5F6F9",
        "plot_bgcolor": "#F5F6F9",
        "template": {
         "data": {
          "bar": [
           {
            "error_x": {
             "color": "#2a3f5f"
            },
            "error_y": {
             "color": "#2a3f5f"
            },
            "marker": {
             "line": {
              "color": "#E5ECF6",
              "width": 0.5
             }
            },
            "type": "bar"
           }
          ],
          "barpolar": [
           {
            "marker": {
             "line": {
              "color": "#E5ECF6",
              "width": 0.5
             }
            },
            "type": "barpolar"
           }
          ],
          "carpet": [
           {
            "aaxis": {
             "endlinecolor": "#2a3f5f",
             "gridcolor": "white",
             "linecolor": "white",
             "minorgridcolor": "white",
             "startlinecolor": "#2a3f5f"
            },
            "baxis": {
             "endlinecolor": "#2a3f5f",
             "gridcolor": "white",
             "linecolor": "white",
             "minorgridcolor": "white",
             "startlinecolor": "#2a3f5f"
            },
            "type": "carpet"
           }
          ],
          "choropleth": [
           {
            "colorbar": {
             "outlinewidth": 0,
             "ticks": ""
            },
            "type": "choropleth"
           }
          ],
          "contour": [
           {
            "colorbar": {
             "outlinewidth": 0,
             "ticks": ""
            },
            "colorscale": [
             [
              0,
              "#0d0887"
             ],
             [
              0.1111111111111111,
              "#46039f"
             ],
             [
              0.2222222222222222,
              "#7201a8"
             ],
             [
              0.3333333333333333,
              "#9c179e"
             ],
             [
              0.4444444444444444,
              "#bd3786"
             ],
             [
              0.5555555555555556,
              "#d8576b"
             ],
             [
              0.6666666666666666,
              "#ed7953"
             ],
             [
              0.7777777777777778,
              "#fb9f3a"
             ],
             [
              0.8888888888888888,
              "#fdca26"
             ],
             [
              1,
              "#f0f921"
             ]
            ],
            "type": "contour"
           }
          ],
          "contourcarpet": [
           {
            "colorbar": {
             "outlinewidth": 0,
             "ticks": ""
            },
            "type": "contourcarpet"
           }
          ],
          "heatmap": [
           {
            "colorbar": {
             "outlinewidth": 0,
             "ticks": ""
            },
            "colorscale": [
             [
              0,
              "#0d0887"
             ],
             [
              0.1111111111111111,
              "#46039f"
             ],
             [
              0.2222222222222222,
              "#7201a8"
             ],
             [
              0.3333333333333333,
              "#9c179e"
             ],
             [
              0.4444444444444444,
              "#bd3786"
             ],
             [
              0.5555555555555556,
              "#d8576b"
             ],
             [
              0.6666666666666666,
              "#ed7953"
             ],
             [
              0.7777777777777778,
              "#fb9f3a"
             ],
             [
              0.8888888888888888,
              "#fdca26"
             ],
             [
              1,
              "#f0f921"
             ]
            ],
            "type": "heatmap"
           }
          ],
          "heatmapgl": [
           {
            "colorbar": {
             "outlinewidth": 0,
             "ticks": ""
            },
            "colorscale": [
             [
              0,
              "#0d0887"
             ],
             [
              0.1111111111111111,
              "#46039f"
             ],
             [
              0.2222222222222222,
              "#7201a8"
             ],
             [
              0.3333333333333333,
              "#9c179e"
             ],
             [
              0.4444444444444444,
              "#bd3786"
             ],
             [
              0.5555555555555556,
              "#d8576b"
             ],
             [
              0.6666666666666666,
              "#ed7953"
             ],
             [
              0.7777777777777778,
              "#fb9f3a"
             ],
             [
              0.8888888888888888,
              "#fdca26"
             ],
             [
              1,
              "#f0f921"
             ]
            ],
            "type": "heatmapgl"
           }
          ],
          "histogram": [
           {
            "marker": {
             "colorbar": {
              "outlinewidth": 0,
              "ticks": ""
             }
            },
            "type": "histogram"
           }
          ],
          "histogram2d": [
           {
            "colorbar": {
             "outlinewidth": 0,
             "ticks": ""
            },
            "colorscale": [
             [
              0,
              "#0d0887"
             ],
             [
              0.1111111111111111,
              "#46039f"
             ],
             [
              0.2222222222222222,
              "#7201a8"
             ],
             [
              0.3333333333333333,
              "#9c179e"
             ],
             [
              0.4444444444444444,
              "#bd3786"
             ],
             [
              0.5555555555555556,
              "#d8576b"
             ],
             [
              0.6666666666666666,
              "#ed7953"
             ],
             [
              0.7777777777777778,
              "#fb9f3a"
             ],
             [
              0.8888888888888888,
              "#fdca26"
             ],
             [
              1,
              "#f0f921"
             ]
            ],
            "type": "histogram2d"
           }
          ],
          "histogram2dcontour": [
           {
            "colorbar": {
             "outlinewidth": 0,
             "ticks": ""
            },
            "colorscale": [
             [
              0,
              "#0d0887"
             ],
             [
              0.1111111111111111,
              "#46039f"
             ],
             [
              0.2222222222222222,
              "#7201a8"
             ],
             [
              0.3333333333333333,
              "#9c179e"
             ],
             [
              0.4444444444444444,
              "#bd3786"
             ],
             [
              0.5555555555555556,
              "#d8576b"
             ],
             [
              0.6666666666666666,
              "#ed7953"
             ],
             [
              0.7777777777777778,
              "#fb9f3a"
             ],
             [
              0.8888888888888888,
              "#fdca26"
             ],
             [
              1,
              "#f0f921"
             ]
            ],
            "type": "histogram2dcontour"
           }
          ],
          "mesh3d": [
           {
            "colorbar": {
             "outlinewidth": 0,
             "ticks": ""
            },
            "type": "mesh3d"
           }
          ],
          "parcoords": [
           {
            "line": {
             "colorbar": {
              "outlinewidth": 0,
              "ticks": ""
             }
            },
            "type": "parcoords"
           }
          ],
          "pie": [
           {
            "automargin": true,
            "type": "pie"
           }
          ],
          "scatter": [
           {
            "marker": {
             "colorbar": {
              "outlinewidth": 0,
              "ticks": ""
             }
            },
            "type": "scatter"
           }
          ],
          "scatter3d": [
           {
            "line": {
             "colorbar": {
              "outlinewidth": 0,
              "ticks": ""
             }
            },
            "marker": {
             "colorbar": {
              "outlinewidth": 0,
              "ticks": ""
             }
            },
            "type": "scatter3d"
           }
          ],
          "scattercarpet": [
           {
            "marker": {
             "colorbar": {
              "outlinewidth": 0,
              "ticks": ""
             }
            },
            "type": "scattercarpet"
           }
          ],
          "scattergeo": [
           {
            "marker": {
             "colorbar": {
              "outlinewidth": 0,
              "ticks": ""
             }
            },
            "type": "scattergeo"
           }
          ],
          "scattergl": [
           {
            "marker": {
             "colorbar": {
              "outlinewidth": 0,
              "ticks": ""
             }
            },
            "type": "scattergl"
           }
          ],
          "scattermapbox": [
           {
            "marker": {
             "colorbar": {
              "outlinewidth": 0,
              "ticks": ""
             }
            },
            "type": "scattermapbox"
           }
          ],
          "scatterpolar": [
           {
            "marker": {
             "colorbar": {
              "outlinewidth": 0,
              "ticks": ""
             }
            },
            "type": "scatterpolar"
           }
          ],
          "scatterpolargl": [
           {
            "marker": {
             "colorbar": {
              "outlinewidth": 0,
              "ticks": ""
             }
            },
            "type": "scatterpolargl"
           }
          ],
          "scatterternary": [
           {
            "marker": {
             "colorbar": {
              "outlinewidth": 0,
              "ticks": ""
             }
            },
            "type": "scatterternary"
           }
          ],
          "surface": [
           {
            "colorbar": {
             "outlinewidth": 0,
             "ticks": ""
            },
            "colorscale": [
             [
              0,
              "#0d0887"
             ],
             [
              0.1111111111111111,
              "#46039f"
             ],
             [
              0.2222222222222222,
              "#7201a8"
             ],
             [
              0.3333333333333333,
              "#9c179e"
             ],
             [
              0.4444444444444444,
              "#bd3786"
             ],
             [
              0.5555555555555556,
              "#d8576b"
             ],
             [
              0.6666666666666666,
              "#ed7953"
             ],
             [
              0.7777777777777778,
              "#fb9f3a"
             ],
             [
              0.8888888888888888,
              "#fdca26"
             ],
             [
              1,
              "#f0f921"
             ]
            ],
            "type": "surface"
           }
          ],
          "table": [
           {
            "cells": {
             "fill": {
              "color": "#EBF0F8"
             },
             "line": {
              "color": "white"
             }
            },
            "header": {
             "fill": {
              "color": "#C8D4E3"
             },
             "line": {
              "color": "white"
             }
            },
            "type": "table"
           }
          ]
         },
         "layout": {
          "annotationdefaults": {
           "arrowcolor": "#2a3f5f",
           "arrowhead": 0,
           "arrowwidth": 1
          },
          "coloraxis": {
           "colorbar": {
            "outlinewidth": 0,
            "ticks": ""
           }
          },
          "colorscale": {
           "diverging": [
            [
             0,
             "#8e0152"
            ],
            [
             0.1,
             "#c51b7d"
            ],
            [
             0.2,
             "#de77ae"
            ],
            [
             0.3,
             "#f1b6da"
            ],
            [
             0.4,
             "#fde0ef"
            ],
            [
             0.5,
             "#f7f7f7"
            ],
            [
             0.6,
             "#e6f5d0"
            ],
            [
             0.7,
             "#b8e186"
            ],
            [
             0.8,
             "#7fbc41"
            ],
            [
             0.9,
             "#4d9221"
            ],
            [
             1,
             "#276419"
            ]
           ],
           "sequential": [
            [
             0,
             "#0d0887"
            ],
            [
             0.1111111111111111,
             "#46039f"
            ],
            [
             0.2222222222222222,
             "#7201a8"
            ],
            [
             0.3333333333333333,
             "#9c179e"
            ],
            [
             0.4444444444444444,
             "#bd3786"
            ],
            [
             0.5555555555555556,
             "#d8576b"
            ],
            [
             0.6666666666666666,
             "#ed7953"
            ],
            [
             0.7777777777777778,
             "#fb9f3a"
            ],
            [
             0.8888888888888888,
             "#fdca26"
            ],
            [
             1,
             "#f0f921"
            ]
           ],
           "sequentialminus": [
            [
             0,
             "#0d0887"
            ],
            [
             0.1111111111111111,
             "#46039f"
            ],
            [
             0.2222222222222222,
             "#7201a8"
            ],
            [
             0.3333333333333333,
             "#9c179e"
            ],
            [
             0.4444444444444444,
             "#bd3786"
            ],
            [
             0.5555555555555556,
             "#d8576b"
            ],
            [
             0.6666666666666666,
             "#ed7953"
            ],
            [
             0.7777777777777778,
             "#fb9f3a"
            ],
            [
             0.8888888888888888,
             "#fdca26"
            ],
            [
             1,
             "#f0f921"
            ]
           ]
          },
          "colorway": [
           "#636efa",
           "#EF553B",
           "#00cc96",
           "#ab63fa",
           "#FFA15A",
           "#19d3f3",
           "#FF6692",
           "#B6E880",
           "#FF97FF",
           "#FECB52"
          ],
          "font": {
           "color": "#2a3f5f"
          },
          "geo": {
           "bgcolor": "white",
           "lakecolor": "white",
           "landcolor": "#E5ECF6",
           "showlakes": true,
           "showland": true,
           "subunitcolor": "white"
          },
          "hoverlabel": {
           "align": "left"
          },
          "hovermode": "closest",
          "mapbox": {
           "style": "light"
          },
          "paper_bgcolor": "white",
          "plot_bgcolor": "#E5ECF6",
          "polar": {
           "angularaxis": {
            "gridcolor": "white",
            "linecolor": "white",
            "ticks": ""
           },
           "bgcolor": "#E5ECF6",
           "radialaxis": {
            "gridcolor": "white",
            "linecolor": "white",
            "ticks": ""
           }
          },
          "scene": {
           "xaxis": {
            "backgroundcolor": "#E5ECF6",
            "gridcolor": "white",
            "gridwidth": 2,
            "linecolor": "white",
            "showbackground": true,
            "ticks": "",
            "zerolinecolor": "white"
           },
           "yaxis": {
            "backgroundcolor": "#E5ECF6",
            "gridcolor": "white",
            "gridwidth": 2,
            "linecolor": "white",
            "showbackground": true,
            "ticks": "",
            "zerolinecolor": "white"
           },
           "zaxis": {
            "backgroundcolor": "#E5ECF6",
            "gridcolor": "white",
            "gridwidth": 2,
            "linecolor": "white",
            "showbackground": true,
            "ticks": "",
            "zerolinecolor": "white"
           }
          },
          "shapedefaults": {
           "line": {
            "color": "#2a3f5f"
           }
          },
          "ternary": {
           "aaxis": {
            "gridcolor": "white",
            "linecolor": "white",
            "ticks": ""
           },
           "baxis": {
            "gridcolor": "white",
            "linecolor": "white",
            "ticks": ""
           },
           "bgcolor": "#E5ECF6",
           "caxis": {
            "gridcolor": "white",
            "linecolor": "white",
            "ticks": ""
           }
          },
          "title": {
           "x": 0.05
          },
          "xaxis": {
           "automargin": true,
           "gridcolor": "white",
           "linecolor": "white",
           "ticks": "",
           "title": {
            "standoff": 15
           },
           "zerolinecolor": "white",
           "zerolinewidth": 2
          },
          "yaxis": {
           "automargin": true,
           "gridcolor": "white",
           "linecolor": "white",
           "ticks": "",
           "title": {
            "standoff": 15
           },
           "zerolinecolor": "white",
           "zerolinewidth": 2
          }
         }
        },
        "title": {
         "font": {
          "color": "#4D5663"
         }
        },
        "xaxis": {
         "gridcolor": "#E1E5ED",
         "showgrid": true,
         "tickfont": {
          "color": "#4D5663"
         },
         "title": {
          "font": {
           "color": "#4D5663"
          },
          "text": ""
         },
         "zerolinecolor": "#E1E5ED"
        },
        "yaxis": {
         "gridcolor": "#E1E5ED",
         "showgrid": true,
         "tickfont": {
          "color": "#4D5663"
         },
         "title": {
          "font": {
           "color": "#4D5663"
          },
          "text": ""
         },
         "zerolinecolor": "#E1E5ED"
        }
       }
      },
      "text/html": [
       "<div>\n",
       "        \n",
       "        \n",
       "            <div id=\"851e1b9e-0da0-4986-b24f-78883382aaea\" class=\"plotly-graph-div\" style=\"height:525px; width:100%;\"></div>\n",
       "            <script type=\"text/javascript\">\n",
       "                require([\"plotly\"], function(Plotly) {\n",
       "                    window.PLOTLYENV=window.PLOTLYENV || {};\n",
       "                    window.PLOTLYENV.BASE_URL='https://plot.ly';\n",
       "                    \n",
       "                if (document.getElementById(\"851e1b9e-0da0-4986-b24f-78883382aaea\")) {\n",
       "                    Plotly.newPlot(\n",
       "                        '851e1b9e-0da0-4986-b24f-78883382aaea',\n",
       "                        [{\"marker\": {\"color\": \"rgba(255, 153, 51, 0.6)\", \"line\": {\"color\": \"rgba(255, 153, 51, 1.0)\", \"width\": 1}}, \"name\": \"None\", \"orientation\": \"v\", \"text\": \"\", \"type\": \"bar\", \"x\": [\"A\", \"B\", \"C\", \"D\"], \"y\": [-7.102713723865037, 7.365571690769315, -3.0179248056913104, -19.769646544823793]}],\n",
       "                        {\"legend\": {\"bgcolor\": \"#F5F6F9\", \"font\": {\"color\": \"#4D5663\"}}, \"paper_bgcolor\": \"#F5F6F9\", \"plot_bgcolor\": \"#F5F6F9\", \"template\": {\"data\": {\"bar\": [{\"error_x\": {\"color\": \"#2a3f5f\"}, \"error_y\": {\"color\": \"#2a3f5f\"}, \"marker\": {\"line\": {\"color\": \"#E5ECF6\", \"width\": 0.5}}, \"type\": \"bar\"}], \"barpolar\": [{\"marker\": {\"line\": {\"color\": \"#E5ECF6\", \"width\": 0.5}}, \"type\": \"barpolar\"}], \"carpet\": [{\"aaxis\": {\"endlinecolor\": \"#2a3f5f\", \"gridcolor\": \"white\", \"linecolor\": \"white\", \"minorgridcolor\": \"white\", \"startlinecolor\": \"#2a3f5f\"}, \"baxis\": {\"endlinecolor\": \"#2a3f5f\", \"gridcolor\": \"white\", \"linecolor\": \"white\", \"minorgridcolor\": \"white\", \"startlinecolor\": \"#2a3f5f\"}, \"type\": \"carpet\"}], \"choropleth\": [{\"colorbar\": {\"outlinewidth\": 0, \"ticks\": \"\"}, \"type\": \"choropleth\"}], \"contour\": [{\"colorbar\": {\"outlinewidth\": 0, \"ticks\": \"\"}, \"colorscale\": [[0.0, \"#0d0887\"], [0.1111111111111111, \"#46039f\"], [0.2222222222222222, \"#7201a8\"], [0.3333333333333333, \"#9c179e\"], [0.4444444444444444, \"#bd3786\"], [0.5555555555555556, \"#d8576b\"], [0.6666666666666666, \"#ed7953\"], [0.7777777777777778, \"#fb9f3a\"], [0.8888888888888888, \"#fdca26\"], [1.0, \"#f0f921\"]], \"type\": \"contour\"}], \"contourcarpet\": [{\"colorbar\": {\"outlinewidth\": 0, \"ticks\": \"\"}, \"type\": \"contourcarpet\"}], \"heatmap\": [{\"colorbar\": {\"outlinewidth\": 0, \"ticks\": \"\"}, \"colorscale\": [[0.0, \"#0d0887\"], [0.1111111111111111, \"#46039f\"], [0.2222222222222222, \"#7201a8\"], [0.3333333333333333, \"#9c179e\"], [0.4444444444444444, \"#bd3786\"], [0.5555555555555556, \"#d8576b\"], [0.6666666666666666, \"#ed7953\"], [0.7777777777777778, \"#fb9f3a\"], [0.8888888888888888, \"#fdca26\"], [1.0, \"#f0f921\"]], \"type\": \"heatmap\"}], \"heatmapgl\": [{\"colorbar\": {\"outlinewidth\": 0, \"ticks\": \"\"}, \"colorscale\": [[0.0, \"#0d0887\"], [0.1111111111111111, \"#46039f\"], [0.2222222222222222, \"#7201a8\"], [0.3333333333333333, \"#9c179e\"], [0.4444444444444444, \"#bd3786\"], [0.5555555555555556, \"#d8576b\"], [0.6666666666666666, \"#ed7953\"], [0.7777777777777778, \"#fb9f3a\"], [0.8888888888888888, \"#fdca26\"], [1.0, \"#f0f921\"]], \"type\": \"heatmapgl\"}], \"histogram\": [{\"marker\": {\"colorbar\": {\"outlinewidth\": 0, \"ticks\": \"\"}}, \"type\": \"histogram\"}], \"histogram2d\": [{\"colorbar\": {\"outlinewidth\": 0, \"ticks\": \"\"}, \"colorscale\": [[0.0, \"#0d0887\"], [0.1111111111111111, \"#46039f\"], [0.2222222222222222, \"#7201a8\"], [0.3333333333333333, \"#9c179e\"], [0.4444444444444444, \"#bd3786\"], [0.5555555555555556, \"#d8576b\"], [0.6666666666666666, \"#ed7953\"], [0.7777777777777778, \"#fb9f3a\"], [0.8888888888888888, \"#fdca26\"], [1.0, \"#f0f921\"]], \"type\": \"histogram2d\"}], \"histogram2dcontour\": [{\"colorbar\": {\"outlinewidth\": 0, \"ticks\": \"\"}, \"colorscale\": [[0.0, \"#0d0887\"], [0.1111111111111111, \"#46039f\"], [0.2222222222222222, \"#7201a8\"], [0.3333333333333333, \"#9c179e\"], [0.4444444444444444, \"#bd3786\"], [0.5555555555555556, \"#d8576b\"], [0.6666666666666666, \"#ed7953\"], [0.7777777777777778, \"#fb9f3a\"], [0.8888888888888888, \"#fdca26\"], [1.0, \"#f0f921\"]], \"type\": \"histogram2dcontour\"}], \"mesh3d\": [{\"colorbar\": {\"outlinewidth\": 0, \"ticks\": \"\"}, \"type\": \"mesh3d\"}], \"parcoords\": [{\"line\": {\"colorbar\": {\"outlinewidth\": 0, \"ticks\": \"\"}}, \"type\": \"parcoords\"}], \"pie\": [{\"automargin\": true, \"type\": \"pie\"}], \"scatter\": [{\"marker\": {\"colorbar\": {\"outlinewidth\": 0, \"ticks\": \"\"}}, \"type\": \"scatter\"}], \"scatter3d\": [{\"line\": {\"colorbar\": {\"outlinewidth\": 0, \"ticks\": \"\"}}, \"marker\": {\"colorbar\": {\"outlinewidth\": 0, \"ticks\": \"\"}}, \"type\": \"scatter3d\"}], \"scattercarpet\": [{\"marker\": {\"colorbar\": {\"outlinewidth\": 0, \"ticks\": \"\"}}, \"type\": \"scattercarpet\"}], \"scattergeo\": [{\"marker\": {\"colorbar\": {\"outlinewidth\": 0, \"ticks\": \"\"}}, \"type\": \"scattergeo\"}], \"scattergl\": [{\"marker\": {\"colorbar\": {\"outlinewidth\": 0, \"ticks\": \"\"}}, \"type\": \"scattergl\"}], \"scattermapbox\": [{\"marker\": {\"colorbar\": {\"outlinewidth\": 0, \"ticks\": \"\"}}, \"type\": \"scattermapbox\"}], \"scatterpolar\": [{\"marker\": {\"colorbar\": {\"outlinewidth\": 0, \"ticks\": \"\"}}, \"type\": \"scatterpolar\"}], \"scatterpolargl\": [{\"marker\": {\"colorbar\": {\"outlinewidth\": 0, \"ticks\": \"\"}}, \"type\": \"scatterpolargl\"}], \"scatterternary\": [{\"marker\": {\"colorbar\": {\"outlinewidth\": 0, \"ticks\": \"\"}}, \"type\": \"scatterternary\"}], \"surface\": [{\"colorbar\": {\"outlinewidth\": 0, \"ticks\": \"\"}, \"colorscale\": [[0.0, \"#0d0887\"], [0.1111111111111111, \"#46039f\"], [0.2222222222222222, \"#7201a8\"], [0.3333333333333333, \"#9c179e\"], [0.4444444444444444, \"#bd3786\"], [0.5555555555555556, \"#d8576b\"], [0.6666666666666666, \"#ed7953\"], [0.7777777777777778, \"#fb9f3a\"], [0.8888888888888888, \"#fdca26\"], [1.0, \"#f0f921\"]], \"type\": \"surface\"}], \"table\": [{\"cells\": {\"fill\": {\"color\": \"#EBF0F8\"}, \"line\": {\"color\": \"white\"}}, \"header\": {\"fill\": {\"color\": \"#C8D4E3\"}, \"line\": {\"color\": \"white\"}}, \"type\": \"table\"}]}, \"layout\": {\"annotationdefaults\": {\"arrowcolor\": \"#2a3f5f\", \"arrowhead\": 0, \"arrowwidth\": 1}, \"coloraxis\": {\"colorbar\": {\"outlinewidth\": 0, \"ticks\": \"\"}}, \"colorscale\": {\"diverging\": [[0, \"#8e0152\"], [0.1, \"#c51b7d\"], [0.2, \"#de77ae\"], [0.3, \"#f1b6da\"], [0.4, \"#fde0ef\"], [0.5, \"#f7f7f7\"], [0.6, \"#e6f5d0\"], [0.7, \"#b8e186\"], [0.8, \"#7fbc41\"], [0.9, \"#4d9221\"], [1, \"#276419\"]], \"sequential\": [[0.0, \"#0d0887\"], [0.1111111111111111, \"#46039f\"], [0.2222222222222222, \"#7201a8\"], [0.3333333333333333, \"#9c179e\"], [0.4444444444444444, \"#bd3786\"], [0.5555555555555556, \"#d8576b\"], [0.6666666666666666, \"#ed7953\"], [0.7777777777777778, \"#fb9f3a\"], [0.8888888888888888, \"#fdca26\"], [1.0, \"#f0f921\"]], \"sequentialminus\": [[0.0, \"#0d0887\"], [0.1111111111111111, \"#46039f\"], [0.2222222222222222, \"#7201a8\"], [0.3333333333333333, \"#9c179e\"], [0.4444444444444444, \"#bd3786\"], [0.5555555555555556, \"#d8576b\"], [0.6666666666666666, \"#ed7953\"], [0.7777777777777778, \"#fb9f3a\"], [0.8888888888888888, \"#fdca26\"], [1.0, \"#f0f921\"]]}, \"colorway\": [\"#636efa\", \"#EF553B\", \"#00cc96\", \"#ab63fa\", \"#FFA15A\", \"#19d3f3\", \"#FF6692\", \"#B6E880\", \"#FF97FF\", \"#FECB52\"], \"font\": {\"color\": \"#2a3f5f\"}, \"geo\": {\"bgcolor\": \"white\", \"lakecolor\": \"white\", \"landcolor\": \"#E5ECF6\", \"showlakes\": true, \"showland\": true, \"subunitcolor\": \"white\"}, \"hoverlabel\": {\"align\": \"left\"}, \"hovermode\": \"closest\", \"mapbox\": {\"style\": \"light\"}, \"paper_bgcolor\": \"white\", \"plot_bgcolor\": \"#E5ECF6\", \"polar\": {\"angularaxis\": {\"gridcolor\": \"white\", \"linecolor\": \"white\", \"ticks\": \"\"}, \"bgcolor\": \"#E5ECF6\", \"radialaxis\": {\"gridcolor\": \"white\", \"linecolor\": \"white\", \"ticks\": \"\"}}, \"scene\": {\"xaxis\": {\"backgroundcolor\": \"#E5ECF6\", \"gridcolor\": \"white\", \"gridwidth\": 2, \"linecolor\": \"white\", \"showbackground\": true, \"ticks\": \"\", \"zerolinecolor\": \"white\"}, \"yaxis\": {\"backgroundcolor\": \"#E5ECF6\", \"gridcolor\": \"white\", \"gridwidth\": 2, \"linecolor\": \"white\", \"showbackground\": true, \"ticks\": \"\", \"zerolinecolor\": \"white\"}, \"zaxis\": {\"backgroundcolor\": \"#E5ECF6\", \"gridcolor\": \"white\", \"gridwidth\": 2, \"linecolor\": \"white\", \"showbackground\": true, \"ticks\": \"\", \"zerolinecolor\": \"white\"}}, \"shapedefaults\": {\"line\": {\"color\": \"#2a3f5f\"}}, \"ternary\": {\"aaxis\": {\"gridcolor\": \"white\", \"linecolor\": \"white\", \"ticks\": \"\"}, \"baxis\": {\"gridcolor\": \"white\", \"linecolor\": \"white\", \"ticks\": \"\"}, \"bgcolor\": \"#E5ECF6\", \"caxis\": {\"gridcolor\": \"white\", \"linecolor\": \"white\", \"ticks\": \"\"}}, \"title\": {\"x\": 0.05}, \"xaxis\": {\"automargin\": true, \"gridcolor\": \"white\", \"linecolor\": \"white\", \"ticks\": \"\", \"title\": {\"standoff\": 15}, \"zerolinecolor\": \"white\", \"zerolinewidth\": 2}, \"yaxis\": {\"automargin\": true, \"gridcolor\": \"white\", \"linecolor\": \"white\", \"ticks\": \"\", \"title\": {\"standoff\": 15}, \"zerolinecolor\": \"white\", \"zerolinewidth\": 2}}}, \"title\": {\"font\": {\"color\": \"#4D5663\"}}, \"xaxis\": {\"gridcolor\": \"#E1E5ED\", \"showgrid\": true, \"tickfont\": {\"color\": \"#4D5663\"}, \"title\": {\"font\": {\"color\": \"#4D5663\"}, \"text\": \"\"}, \"zerolinecolor\": \"#E1E5ED\"}, \"yaxis\": {\"gridcolor\": \"#E1E5ED\", \"showgrid\": true, \"tickfont\": {\"color\": \"#4D5663\"}, \"title\": {\"font\": {\"color\": \"#4D5663\"}, \"text\": \"\"}, \"zerolinecolor\": \"#E1E5ED\"}},\n",
       "                        {\"showLink\": true, \"linkText\": \"Export to plot.ly\", \"plotlyServerURL\": \"https://plot.ly\", \"responsive\": true}\n",
       "                    ).then(function(){\n",
       "                            \n",
       "var gd = document.getElementById('851e1b9e-0da0-4986-b24f-78883382aaea');\n",
       "var x = new MutationObserver(function (mutations, observer) {{\n",
       "        var display = window.getComputedStyle(gd).display;\n",
       "        if (!display || display === 'none') {{\n",
       "            console.log([gd, 'removed!']);\n",
       "            Plotly.purge(gd);\n",
       "            observer.disconnect();\n",
       "        }}\n",
       "}});\n",
       "\n",
       "// Listen for the removal of the full notebook cells\n",
       "var notebookContainer = gd.closest('#notebook-container');\n",
       "if (notebookContainer) {{\n",
       "    x.observe(notebookContainer, {childList: true});\n",
       "}}\n",
       "\n",
       "// Listen for the clearing of the current output cell\n",
       "var outputEl = gd.closest('.output');\n",
       "if (outputEl) {{\n",
       "    x.observe(outputEl, {childList: true});\n",
       "}}\n",
       "\n",
       "                        })\n",
       "                };\n",
       "                });\n",
       "            </script>\n",
       "        </div>"
      ]
     },
     "metadata": {},
     "output_type": "display_data"
    }
   ],
   "source": [
    "df.sum().iplot(kind='bar')"
   ]
  },
  {
   "cell_type": "code",
   "execution_count": 52,
   "metadata": {},
   "outputs": [
    {
     "data": {
      "application/vnd.plotly.v1+json": {
       "config": {
        "linkText": "Export to plot.ly",
        "plotlyServerURL": "https://plot.ly",
        "showLink": true
       },
       "data": [
        {
         "boxpoints": false,
         "line": {
          "width": 1.3
         },
         "marker": {
          "color": "rgba(255, 153, 51, 1.0)"
         },
         "name": "A",
         "orientation": "v",
         "type": "box",
         "y": [
          0.7184152132165522,
          -0.07374414338489427,
          1.3263250429191824,
          -0.6233809421936106,
          0.4742001274446034,
          -0.7437583934588065,
          -0.20562971175271394,
          -0.7912846928747075,
          -0.02702597232497973,
          0.6772742353991352,
          0.2488440802940327,
          -1.2274686431849393,
          1.254910728577048,
          1.6838038342892818,
          0.47921977443036406,
          -0.5022224516406076,
          -1.8745692527395976,
          1.9627993771005607,
          0.9560756328354928,
          -0.04359285288303292,
          0.6415439448675059,
          0.27977343160563767,
          -2.768644598762758,
          0.05983857939039157,
          1.3679925048742787,
          -0.10294575790551182,
          -0.2699661091353834,
          -1.2763005264901317,
          -0.605644482213025,
          0.4211936567382423,
          2.266041396863613,
          1.185381051419868,
          -1.0917455888736831,
          0.2027947575196413,
          -0.17045514705133089,
          0.8437438075614856,
          -0.23401836744499166,
          -0.5242333839647763,
          -0.31142091937150457,
          -0.9076703163927581,
          -1.837456312116648,
          -2.024823808987759,
          -1.8596832253495934,
          -0.35995344488929754,
          -0.1560997144255655,
          -0.24862232873532386,
          -0.5330745736291332,
          0.42241547345708086,
          0.6285806273053471,
          -0.5757328837855584,
          0.7320221470593188,
          -0.78920439441667,
          0.24399057919069703,
          1.403681725672624,
          -0.36497311179059233,
          -1.2035747602760776,
          -0.6799866071005245,
          -1.383687431161648,
          1.7204180525409456,
          0.7798432843313373,
          -1.746971525420941,
          -1.0509291587207734,
          0.21952730859203842,
          0.5153002455921952,
          0.662698390986974,
          -1.3706491187827667,
          -0.18692234413642134,
          0.20435033186983825,
          0.9577209134936103,
          -1.7580578520641799,
          1.934397248202235,
          -0.2419679983579328,
          -1.3560222792664143,
          -1.6380730147438929,
          0.542730758603566,
          -0.06911316253794753,
          0.9256442751713155,
          -1.2929221940251012,
          -0.922538122771601,
          1.0787188690915535,
          1.5772741845128695,
          0.8298802627756018,
          1.1312577460069513,
          0.5757750599947684,
          0.8140317333587312,
          -0.8666171022168118,
          -0.09076294738478492,
          0.7675522138256289,
          -0.1310600103165868,
          -0.700574932350856,
          0.4347324878153614,
          -1.8128643854407822,
          -0.28217756256423554,
          -1.1676894050183275,
          0.5138668046894407,
          -1.1695517800152062,
          1.0658983671799178,
          0.4561467894013599,
          -1.0421540922213297,
          -0.0011269428682303502
         ]
        },
        {
         "boxpoints": false,
         "line": {
          "width": 1.3
         },
         "marker": {
          "color": "rgba(55, 128, 191, 1.0)"
         },
         "name": "B",
         "orientation": "v",
         "type": "box",
         "y": [
          -0.574006817058656,
          -0.7266588076382805,
          -0.3582653821205203,
          0.4108711973078174,
          -0.32049412434813634,
          0.04773441291937425,
          -0.3688892653969485,
          -1.9676847227099559,
          0.25795986598318144,
          0.537925471808953,
          -1.4962385157709366,
          0.5057892669442116,
          -0.29203313936093456,
          0.6328171202069542,
          -1.0522874962492237,
          0.7878930777939451,
          1.4309553115391773,
          0.1889102418784355,
          -0.013342842989387687,
          3.116070838792739,
          -0.41845360400421255,
          1.9858575207739673,
          0.6403115956548909,
          0.1907142736681472,
          -1.504935982311471,
          0.7416036365144881,
          0.1676053881271684,
          -0.24114082085754754,
          -0.8756962069315755,
          -0.525281131553952,
          0.16729678126738956,
          -1.4261549151524915,
          -0.8095904163469871,
          1.6988271573620615,
          1.7586594424748208,
          1.1173774377465564,
          -0.18402664254405693,
          -0.8725967786135869,
          0.9340462500605381,
          0.0436769694271896,
          0.2528261269315577,
          -0.48797455718435667,
          0.4185303541013756,
          -1.2115610819467757,
          -1.3873781031274601,
          -2.134924563226702,
          -0.36394732545907527,
          -1.8930906878602132,
          0.30419682598120823,
          -1.2397000596617789,
          1.5072415238223666,
          0.5076516583359088,
          -0.27253561558943046,
          0.9944063915869681,
          0.20503443372919314,
          0.11496705703028283,
          2.2451308551185214,
          -1.1894233003016832,
          -0.4109483665207544,
          0.4564664039644072,
          0.0594821775386694,
          2.025352796007877,
          0.13277668831354794,
          1.084947573356576,
          0.2886397552371678,
          -0.46229439145929685,
          0.07114397903457587,
          -0.36825571307179933,
          0.0580491159714769,
          -1.3175848043112401,
          1.6977785396994103,
          1.5238962245440153,
          0.6735606382188081,
          0.27852016317782674,
          -0.5125567623845447,
          0.8200273758606282,
          1.0211947809981352,
          -0.43694675512536835,
          2.4293952236159813,
          1.075463756336378,
          1.4049925716695653,
          1.116341730370617,
          -0.7067699756998078,
          0.516178571121736,
          0.27073191733361573,
          -1.030797684921648,
          -1.1109877307709126,
          0.4322628958451547,
          -0.9748824546183325,
          -2.0597490912023915,
          0.22368680313699774,
          -0.5803128715110616,
          -2.3645027848541047,
          0.29715916628752514,
          1.3546167563630593,
          -0.25223335075808057,
          0.1881641349093222,
          2.6987241405368656,
          -1.3327602486409937,
          -0.6169747814033371
         ]
        },
        {
         "boxpoints": false,
         "line": {
          "width": 1.3
         },
         "marker": {
          "color": "rgba(50, 171, 96, 1.0)"
         },
         "name": "C",
         "orientation": "v",
         "type": "box",
         "y": [
          0.4186050978255918,
          0.9660299067572595,
          -0.4318143275388457,
          0.5065075567870579,
          1.4859078649464117,
          2.037283479738617,
          0.1718877247483784,
          0.47531459547715643,
          0.42823940845213554,
          -0.21305545190507444,
          0.28190489492175935,
          -0.173204935815877,
          0.39757462485732936,
          1.3856892836568033,
          0.9822240896658297,
          1.938516935317932,
          0.2152802615769902,
          -1.6198131628409123,
          0.5373273678187647,
          1.0074272134548774,
          -0.8947699356644431,
          -0.20862165688177156,
          -0.10861066684874332,
          0.4534828477073112,
          0.8168342651047499,
          -0.1687725979146592,
          -0.5712267200634286,
          -1.1119129875224343,
          -1.6453222605018447,
          0.9855003647827035,
          1.7181503768731639,
          -0.12801937833791582,
          -0.759239480823569,
          -0.15604891625994818,
          -0.7308177686807426,
          -0.7654926526655869,
          -1.4628634609740454,
          -0.11367567007750326,
          0.44960352548597154,
          -0.9706311730653845,
          1.2545677594079299,
          -2.271041367591699,
          1.104145953395362,
          0.6195613024301116,
          -0.5005945813435325,
          -0.9063252531488935,
          -0.043850682877327164,
          -0.8454320211462417,
          0.7108991077320378,
          -1.9204840919319068,
          -1.458754114994838,
          -0.20099174944696324,
          -0.22259167976453564,
          -0.35670458652429826,
          -1.2551092820330252,
          -1.7901862237899924,
          0.9448393991015264,
          -0.1572709025185171,
          -1.6644238182098812,
          0.3172932947843975,
          -0.23550701831544502,
          0.2657712421161027,
          -0.053078294913159324,
          -2.398334429775859,
          0.7519569965442786,
          -0.16681679209782702,
          0.3452512000546205,
          -0.2910305465854694,
          -0.33331624044084773,
          0.9055671431700401,
          -0.42227825539631764,
          -1.2871107075659745,
          0.02109412124539801,
          -0.9061252419518914,
          -0.30150226561932414,
          1.334079070716369,
          -0.9170838735545183,
          0.4103890346700743,
          -0.5089311284427338,
          0.21384246102570673,
          -0.25502806255931987,
          0.8148800270629623,
          0.042616665556271735,
          -0.1568235945172625,
          -0.04308239534943786,
          -0.28435314213034757,
          -1.0269739230542796,
          1.269247105161303,
          1.1439941254385915,
          0.39004917349610146,
          -0.282070716056746,
          -0.5068669529975444,
          1.0857202913987292,
          -0.9641678103539787,
          2.403598393563145,
          -1.1166542022763057,
          0.0546234593929146,
          -0.9843132869855903,
          1.3621554962299072,
          0.8257631253025725
         ]
        },
        {
         "boxpoints": false,
         "line": {
          "width": 1.3
         },
         "marker": {
          "color": "rgba(128, 0, 128, 1.0)"
         },
         "name": "D",
         "orientation": "v",
         "type": "box",
         "y": [
          -0.44737534191412004,
          1.109785149730803,
          -0.31221247860147944,
          0.276185368698082,
          -1.922113777992666,
          0.5494499941511534,
          0.7206549564338,
          -0.9516303805555207,
          -1.609155510582861,
          -0.40131901516196106,
          0.13751866377005473,
          -0.18217209654260266,
          0.7860287209432499,
          -0.3291145050836312,
          0.26243641711107646,
          -0.2878202787345519,
          -0.9128405545141554,
          -0.8312673902052876,
          -0.30275398434875406,
          0.8206462677630454,
          -0.4263469225679497,
          -1.120886690537222,
          -1.3285668861396507,
          1.3694310001895356,
          -0.8310020565902191,
          0.9175748272459755,
          -0.378438553528216,
          -0.27712991270684717,
          1.0411739903759445,
          -0.9520320074714249,
          1.9180612257286693,
          -0.2408163797498644,
          -0.7080841797917553,
          -0.12956203263442628,
          1.3475162159337835,
          0.627818631947682,
          -1.716800425038791,
          -0.2704552717952776,
          1.6795627933379111,
          -1.0832558636122478,
          0.7421375992266598,
          0.07262878557573275,
          -1.004922520323428,
          0.795976586815005,
          -0.3048903799119217,
          0.631689680578985,
          0.48543456020033926,
          -0.6346491295703771,
          1.5676354822561684,
          -0.6927541999080309,
          1.2117825885964526,
          -0.8588951660933406,
          0.04556918339778246,
          -0.2509167430446283,
          -2.410866061933873,
          -0.309138274041897,
          -0.7943130822699094,
          -1.0227254868016358,
          -0.21726475438931492,
          -0.8754548694426114,
          1.4769569272751402,
          -1.1198238404890728,
          -0.01166713487201717,
          -0.8704916124383638,
          -0.7452030374081205,
          1.0980138822393697,
          -1.2920538475380032,
          0.4820522082297061,
          0.5801132346756122,
          -1.172445079797513,
          0.10794550998379952,
          0.4549470143952793,
          1.0461950013526864,
          -1.5081622005182924,
          1.226275464583169,
          -1.5599668548836045,
          0.744306083529144,
          -0.08554417277120979,
          -1.3241444170103283,
          -1.6113510314540873,
          -1.873746753759231,
          -1.6944197671866323,
          0.6247438287291291,
          -0.1818162989389835,
          -0.45067126644989614,
          -1.1897704812162915,
          1.4373509460024958,
          -1.0109890424592494,
          -0.2246209543647973,
          -1.0054544415043833,
          -0.8917803201970335,
          0.11013000673782364,
          0.8460814387692865,
          -0.2960568336761955,
          1.6971034217877161,
          -0.6242430462122459,
          -0.9875452455298763,
          -1.1465984440862063,
          -0.6955021346674213,
          0.08545122043946983
         ]
        }
       ],
       "layout": {
        "legend": {
         "bgcolor": "#F5F6F9",
         "font": {
          "color": "#4D5663"
         }
        },
        "paper_bgcolor": "#F5F6F9",
        "plot_bgcolor": "#F5F6F9",
        "template": {
         "data": {
          "bar": [
           {
            "error_x": {
             "color": "#2a3f5f"
            },
            "error_y": {
             "color": "#2a3f5f"
            },
            "marker": {
             "line": {
              "color": "#E5ECF6",
              "width": 0.5
             }
            },
            "type": "bar"
           }
          ],
          "barpolar": [
           {
            "marker": {
             "line": {
              "color": "#E5ECF6",
              "width": 0.5
             }
            },
            "type": "barpolar"
           }
          ],
          "carpet": [
           {
            "aaxis": {
             "endlinecolor": "#2a3f5f",
             "gridcolor": "white",
             "linecolor": "white",
             "minorgridcolor": "white",
             "startlinecolor": "#2a3f5f"
            },
            "baxis": {
             "endlinecolor": "#2a3f5f",
             "gridcolor": "white",
             "linecolor": "white",
             "minorgridcolor": "white",
             "startlinecolor": "#2a3f5f"
            },
            "type": "carpet"
           }
          ],
          "choropleth": [
           {
            "colorbar": {
             "outlinewidth": 0,
             "ticks": ""
            },
            "type": "choropleth"
           }
          ],
          "contour": [
           {
            "colorbar": {
             "outlinewidth": 0,
             "ticks": ""
            },
            "colorscale": [
             [
              0,
              "#0d0887"
             ],
             [
              0.1111111111111111,
              "#46039f"
             ],
             [
              0.2222222222222222,
              "#7201a8"
             ],
             [
              0.3333333333333333,
              "#9c179e"
             ],
             [
              0.4444444444444444,
              "#bd3786"
             ],
             [
              0.5555555555555556,
              "#d8576b"
             ],
             [
              0.6666666666666666,
              "#ed7953"
             ],
             [
              0.7777777777777778,
              "#fb9f3a"
             ],
             [
              0.8888888888888888,
              "#fdca26"
             ],
             [
              1,
              "#f0f921"
             ]
            ],
            "type": "contour"
           }
          ],
          "contourcarpet": [
           {
            "colorbar": {
             "outlinewidth": 0,
             "ticks": ""
            },
            "type": "contourcarpet"
           }
          ],
          "heatmap": [
           {
            "colorbar": {
             "outlinewidth": 0,
             "ticks": ""
            },
            "colorscale": [
             [
              0,
              "#0d0887"
             ],
             [
              0.1111111111111111,
              "#46039f"
             ],
             [
              0.2222222222222222,
              "#7201a8"
             ],
             [
              0.3333333333333333,
              "#9c179e"
             ],
             [
              0.4444444444444444,
              "#bd3786"
             ],
             [
              0.5555555555555556,
              "#d8576b"
             ],
             [
              0.6666666666666666,
              "#ed7953"
             ],
             [
              0.7777777777777778,
              "#fb9f3a"
             ],
             [
              0.8888888888888888,
              "#fdca26"
             ],
             [
              1,
              "#f0f921"
             ]
            ],
            "type": "heatmap"
           }
          ],
          "heatmapgl": [
           {
            "colorbar": {
             "outlinewidth": 0,
             "ticks": ""
            },
            "colorscale": [
             [
              0,
              "#0d0887"
             ],
             [
              0.1111111111111111,
              "#46039f"
             ],
             [
              0.2222222222222222,
              "#7201a8"
             ],
             [
              0.3333333333333333,
              "#9c179e"
             ],
             [
              0.4444444444444444,
              "#bd3786"
             ],
             [
              0.5555555555555556,
              "#d8576b"
             ],
             [
              0.6666666666666666,
              "#ed7953"
             ],
             [
              0.7777777777777778,
              "#fb9f3a"
             ],
             [
              0.8888888888888888,
              "#fdca26"
             ],
             [
              1,
              "#f0f921"
             ]
            ],
            "type": "heatmapgl"
           }
          ],
          "histogram": [
           {
            "marker": {
             "colorbar": {
              "outlinewidth": 0,
              "ticks": ""
             }
            },
            "type": "histogram"
           }
          ],
          "histogram2d": [
           {
            "colorbar": {
             "outlinewidth": 0,
             "ticks": ""
            },
            "colorscale": [
             [
              0,
              "#0d0887"
             ],
             [
              0.1111111111111111,
              "#46039f"
             ],
             [
              0.2222222222222222,
              "#7201a8"
             ],
             [
              0.3333333333333333,
              "#9c179e"
             ],
             [
              0.4444444444444444,
              "#bd3786"
             ],
             [
              0.5555555555555556,
              "#d8576b"
             ],
             [
              0.6666666666666666,
              "#ed7953"
             ],
             [
              0.7777777777777778,
              "#fb9f3a"
             ],
             [
              0.8888888888888888,
              "#fdca26"
             ],
             [
              1,
              "#f0f921"
             ]
            ],
            "type": "histogram2d"
           }
          ],
          "histogram2dcontour": [
           {
            "colorbar": {
             "outlinewidth": 0,
             "ticks": ""
            },
            "colorscale": [
             [
              0,
              "#0d0887"
             ],
             [
              0.1111111111111111,
              "#46039f"
             ],
             [
              0.2222222222222222,
              "#7201a8"
             ],
             [
              0.3333333333333333,
              "#9c179e"
             ],
             [
              0.4444444444444444,
              "#bd3786"
             ],
             [
              0.5555555555555556,
              "#d8576b"
             ],
             [
              0.6666666666666666,
              "#ed7953"
             ],
             [
              0.7777777777777778,
              "#fb9f3a"
             ],
             [
              0.8888888888888888,
              "#fdca26"
             ],
             [
              1,
              "#f0f921"
             ]
            ],
            "type": "histogram2dcontour"
           }
          ],
          "mesh3d": [
           {
            "colorbar": {
             "outlinewidth": 0,
             "ticks": ""
            },
            "type": "mesh3d"
           }
          ],
          "parcoords": [
           {
            "line": {
             "colorbar": {
              "outlinewidth": 0,
              "ticks": ""
             }
            },
            "type": "parcoords"
           }
          ],
          "pie": [
           {
            "automargin": true,
            "type": "pie"
           }
          ],
          "scatter": [
           {
            "marker": {
             "colorbar": {
              "outlinewidth": 0,
              "ticks": ""
             }
            },
            "type": "scatter"
           }
          ],
          "scatter3d": [
           {
            "line": {
             "colorbar": {
              "outlinewidth": 0,
              "ticks": ""
             }
            },
            "marker": {
             "colorbar": {
              "outlinewidth": 0,
              "ticks": ""
             }
            },
            "type": "scatter3d"
           }
          ],
          "scattercarpet": [
           {
            "marker": {
             "colorbar": {
              "outlinewidth": 0,
              "ticks": ""
             }
            },
            "type": "scattercarpet"
           }
          ],
          "scattergeo": [
           {
            "marker": {
             "colorbar": {
              "outlinewidth": 0,
              "ticks": ""
             }
            },
            "type": "scattergeo"
           }
          ],
          "scattergl": [
           {
            "marker": {
             "colorbar": {
              "outlinewidth": 0,
              "ticks": ""
             }
            },
            "type": "scattergl"
           }
          ],
          "scattermapbox": [
           {
            "marker": {
             "colorbar": {
              "outlinewidth": 0,
              "ticks": ""
             }
            },
            "type": "scattermapbox"
           }
          ],
          "scatterpolar": [
           {
            "marker": {
             "colorbar": {
              "outlinewidth": 0,
              "ticks": ""
             }
            },
            "type": "scatterpolar"
           }
          ],
          "scatterpolargl": [
           {
            "marker": {
             "colorbar": {
              "outlinewidth": 0,
              "ticks": ""
             }
            },
            "type": "scatterpolargl"
           }
          ],
          "scatterternary": [
           {
            "marker": {
             "colorbar": {
              "outlinewidth": 0,
              "ticks": ""
             }
            },
            "type": "scatterternary"
           }
          ],
          "surface": [
           {
            "colorbar": {
             "outlinewidth": 0,
             "ticks": ""
            },
            "colorscale": [
             [
              0,
              "#0d0887"
             ],
             [
              0.1111111111111111,
              "#46039f"
             ],
             [
              0.2222222222222222,
              "#7201a8"
             ],
             [
              0.3333333333333333,
              "#9c179e"
             ],
             [
              0.4444444444444444,
              "#bd3786"
             ],
             [
              0.5555555555555556,
              "#d8576b"
             ],
             [
              0.6666666666666666,
              "#ed7953"
             ],
             [
              0.7777777777777778,
              "#fb9f3a"
             ],
             [
              0.8888888888888888,
              "#fdca26"
             ],
             [
              1,
              "#f0f921"
             ]
            ],
            "type": "surface"
           }
          ],
          "table": [
           {
            "cells": {
             "fill": {
              "color": "#EBF0F8"
             },
             "line": {
              "color": "white"
             }
            },
            "header": {
             "fill": {
              "color": "#C8D4E3"
             },
             "line": {
              "color": "white"
             }
            },
            "type": "table"
           }
          ]
         },
         "layout": {
          "annotationdefaults": {
           "arrowcolor": "#2a3f5f",
           "arrowhead": 0,
           "arrowwidth": 1
          },
          "coloraxis": {
           "colorbar": {
            "outlinewidth": 0,
            "ticks": ""
           }
          },
          "colorscale": {
           "diverging": [
            [
             0,
             "#8e0152"
            ],
            [
             0.1,
             "#c51b7d"
            ],
            [
             0.2,
             "#de77ae"
            ],
            [
             0.3,
             "#f1b6da"
            ],
            [
             0.4,
             "#fde0ef"
            ],
            [
             0.5,
             "#f7f7f7"
            ],
            [
             0.6,
             "#e6f5d0"
            ],
            [
             0.7,
             "#b8e186"
            ],
            [
             0.8,
             "#7fbc41"
            ],
            [
             0.9,
             "#4d9221"
            ],
            [
             1,
             "#276419"
            ]
           ],
           "sequential": [
            [
             0,
             "#0d0887"
            ],
            [
             0.1111111111111111,
             "#46039f"
            ],
            [
             0.2222222222222222,
             "#7201a8"
            ],
            [
             0.3333333333333333,
             "#9c179e"
            ],
            [
             0.4444444444444444,
             "#bd3786"
            ],
            [
             0.5555555555555556,
             "#d8576b"
            ],
            [
             0.6666666666666666,
             "#ed7953"
            ],
            [
             0.7777777777777778,
             "#fb9f3a"
            ],
            [
             0.8888888888888888,
             "#fdca26"
            ],
            [
             1,
             "#f0f921"
            ]
           ],
           "sequentialminus": [
            [
             0,
             "#0d0887"
            ],
            [
             0.1111111111111111,
             "#46039f"
            ],
            [
             0.2222222222222222,
             "#7201a8"
            ],
            [
             0.3333333333333333,
             "#9c179e"
            ],
            [
             0.4444444444444444,
             "#bd3786"
            ],
            [
             0.5555555555555556,
             "#d8576b"
            ],
            [
             0.6666666666666666,
             "#ed7953"
            ],
            [
             0.7777777777777778,
             "#fb9f3a"
            ],
            [
             0.8888888888888888,
             "#fdca26"
            ],
            [
             1,
             "#f0f921"
            ]
           ]
          },
          "colorway": [
           "#636efa",
           "#EF553B",
           "#00cc96",
           "#ab63fa",
           "#FFA15A",
           "#19d3f3",
           "#FF6692",
           "#B6E880",
           "#FF97FF",
           "#FECB52"
          ],
          "font": {
           "color": "#2a3f5f"
          },
          "geo": {
           "bgcolor": "white",
           "lakecolor": "white",
           "landcolor": "#E5ECF6",
           "showlakes": true,
           "showland": true,
           "subunitcolor": "white"
          },
          "hoverlabel": {
           "align": "left"
          },
          "hovermode": "closest",
          "mapbox": {
           "style": "light"
          },
          "paper_bgcolor": "white",
          "plot_bgcolor": "#E5ECF6",
          "polar": {
           "angularaxis": {
            "gridcolor": "white",
            "linecolor": "white",
            "ticks": ""
           },
           "bgcolor": "#E5ECF6",
           "radialaxis": {
            "gridcolor": "white",
            "linecolor": "white",
            "ticks": ""
           }
          },
          "scene": {
           "xaxis": {
            "backgroundcolor": "#E5ECF6",
            "gridcolor": "white",
            "gridwidth": 2,
            "linecolor": "white",
            "showbackground": true,
            "ticks": "",
            "zerolinecolor": "white"
           },
           "yaxis": {
            "backgroundcolor": "#E5ECF6",
            "gridcolor": "white",
            "gridwidth": 2,
            "linecolor": "white",
            "showbackground": true,
            "ticks": "",
            "zerolinecolor": "white"
           },
           "zaxis": {
            "backgroundcolor": "#E5ECF6",
            "gridcolor": "white",
            "gridwidth": 2,
            "linecolor": "white",
            "showbackground": true,
            "ticks": "",
            "zerolinecolor": "white"
           }
          },
          "shapedefaults": {
           "line": {
            "color": "#2a3f5f"
           }
          },
          "ternary": {
           "aaxis": {
            "gridcolor": "white",
            "linecolor": "white",
            "ticks": ""
           },
           "baxis": {
            "gridcolor": "white",
            "linecolor": "white",
            "ticks": ""
           },
           "bgcolor": "#E5ECF6",
           "caxis": {
            "gridcolor": "white",
            "linecolor": "white",
            "ticks": ""
           }
          },
          "title": {
           "x": 0.05
          },
          "xaxis": {
           "automargin": true,
           "gridcolor": "white",
           "linecolor": "white",
           "ticks": "",
           "title": {
            "standoff": 15
           },
           "zerolinecolor": "white",
           "zerolinewidth": 2
          },
          "yaxis": {
           "automargin": true,
           "gridcolor": "white",
           "linecolor": "white",
           "ticks": "",
           "title": {
            "standoff": 15
           },
           "zerolinecolor": "white",
           "zerolinewidth": 2
          }
         }
        },
        "title": {
         "font": {
          "color": "#4D5663"
         }
        },
        "xaxis": {
         "gridcolor": "#E1E5ED",
         "showgrid": true,
         "tickfont": {
          "color": "#4D5663"
         },
         "title": {
          "font": {
           "color": "#4D5663"
          },
          "text": ""
         },
         "zerolinecolor": "#E1E5ED"
        },
        "yaxis": {
         "gridcolor": "#E1E5ED",
         "showgrid": true,
         "tickfont": {
          "color": "#4D5663"
         },
         "title": {
          "font": {
           "color": "#4D5663"
          },
          "text": ""
         },
         "zerolinecolor": "#E1E5ED"
        }
       }
      },
      "text/html": [
       "<div>\n",
       "        \n",
       "        \n",
       "            <div id=\"ffd2c2c3-a481-4d84-9f37-5995db3bdc15\" class=\"plotly-graph-div\" style=\"height:525px; width:100%;\"></div>\n",
       "            <script type=\"text/javascript\">\n",
       "                require([\"plotly\"], function(Plotly) {\n",
       "                    window.PLOTLYENV=window.PLOTLYENV || {};\n",
       "                    window.PLOTLYENV.BASE_URL='https://plot.ly';\n",
       "                    \n",
       "                if (document.getElementById(\"ffd2c2c3-a481-4d84-9f37-5995db3bdc15\")) {\n",
       "                    Plotly.newPlot(\n",
       "                        'ffd2c2c3-a481-4d84-9f37-5995db3bdc15',\n",
       "                        [{\"boxpoints\": false, \"line\": {\"width\": 1.3}, \"marker\": {\"color\": \"rgba(255, 153, 51, 1.0)\"}, \"name\": \"A\", \"orientation\": \"v\", \"type\": \"box\", \"y\": [0.7184152132165522, -0.07374414338489427, 1.3263250429191824, -0.6233809421936106, 0.4742001274446034, -0.7437583934588065, -0.20562971175271394, -0.7912846928747075, -0.02702597232497973, 0.6772742353991352, 0.2488440802940327, -1.2274686431849393, 1.254910728577048, 1.6838038342892818, 0.47921977443036406, -0.5022224516406076, -1.8745692527395976, 1.9627993771005607, 0.9560756328354928, -0.04359285288303292, 0.6415439448675059, 0.27977343160563767, -2.768644598762758, 0.05983857939039157, 1.3679925048742787, -0.10294575790551182, -0.2699661091353834, -1.2763005264901317, -0.605644482213025, 0.4211936567382423, 2.266041396863613, 1.185381051419868, -1.0917455888736831, 0.2027947575196413, -0.17045514705133089, 0.8437438075614856, -0.23401836744499166, -0.5242333839647763, -0.31142091937150457, -0.9076703163927581, -1.837456312116648, -2.024823808987759, -1.8596832253495934, -0.35995344488929754, -0.1560997144255655, -0.24862232873532386, -0.5330745736291332, 0.42241547345708086, 0.6285806273053471, -0.5757328837855584, 0.7320221470593188, -0.78920439441667, 0.24399057919069703, 1.403681725672624, -0.36497311179059233, -1.2035747602760776, -0.6799866071005245, -1.383687431161648, 1.7204180525409456, 0.7798432843313373, -1.746971525420941, -1.0509291587207734, 0.21952730859203842, 0.5153002455921952, 0.662698390986974, -1.3706491187827667, -0.18692234413642134, 0.20435033186983825, 0.9577209134936103, -1.7580578520641799, 1.934397248202235, -0.2419679983579328, -1.3560222792664143, -1.6380730147438929, 0.542730758603566, -0.06911316253794753, 0.9256442751713155, -1.2929221940251012, -0.922538122771601, 1.0787188690915535, 1.5772741845128695, 0.8298802627756018, 1.1312577460069513, 0.5757750599947684, 0.8140317333587312, -0.8666171022168118, -0.09076294738478492, 0.7675522138256289, -0.1310600103165868, -0.700574932350856, 0.4347324878153614, -1.8128643854407822, -0.28217756256423554, -1.1676894050183275, 0.5138668046894407, -1.1695517800152062, 1.0658983671799178, 0.4561467894013599, -1.0421540922213297, -0.0011269428682303502]}, {\"boxpoints\": false, \"line\": {\"width\": 1.3}, \"marker\": {\"color\": \"rgba(55, 128, 191, 1.0)\"}, \"name\": \"B\", \"orientation\": \"v\", \"type\": \"box\", \"y\": [-0.574006817058656, -0.7266588076382805, -0.3582653821205203, 0.4108711973078174, -0.32049412434813634, 0.04773441291937425, -0.3688892653969485, -1.9676847227099559, 0.25795986598318144, 0.537925471808953, -1.4962385157709366, 0.5057892669442116, -0.29203313936093456, 0.6328171202069542, -1.0522874962492237, 0.7878930777939451, 1.4309553115391773, 0.1889102418784355, -0.013342842989387687, 3.116070838792739, -0.41845360400421255, 1.9858575207739673, 0.6403115956548909, 0.1907142736681472, -1.504935982311471, 0.7416036365144881, 0.1676053881271684, -0.24114082085754754, -0.8756962069315755, -0.525281131553952, 0.16729678126738956, -1.4261549151524915, -0.8095904163469871, 1.6988271573620615, 1.7586594424748208, 1.1173774377465564, -0.18402664254405693, -0.8725967786135869, 0.9340462500605381, 0.0436769694271896, 0.2528261269315577, -0.48797455718435667, 0.4185303541013756, -1.2115610819467757, -1.3873781031274601, -2.134924563226702, -0.36394732545907527, -1.8930906878602132, 0.30419682598120823, -1.2397000596617789, 1.5072415238223666, 0.5076516583359088, -0.27253561558943046, 0.9944063915869681, 0.20503443372919314, 0.11496705703028283, 2.2451308551185214, -1.1894233003016832, -0.4109483665207544, 0.4564664039644072, 0.0594821775386694, 2.025352796007877, 0.13277668831354794, 1.084947573356576, 0.2886397552371678, -0.46229439145929685, 0.07114397903457587, -0.36825571307179933, 0.0580491159714769, -1.3175848043112401, 1.6977785396994103, 1.5238962245440153, 0.6735606382188081, 0.27852016317782674, -0.5125567623845447, 0.8200273758606282, 1.0211947809981352, -0.43694675512536835, 2.4293952236159813, 1.075463756336378, 1.4049925716695653, 1.116341730370617, -0.7067699756998078, 0.516178571121736, 0.27073191733361573, -1.030797684921648, -1.1109877307709126, 0.4322628958451547, -0.9748824546183325, -2.0597490912023915, 0.22368680313699774, -0.5803128715110616, -2.3645027848541047, 0.29715916628752514, 1.3546167563630593, -0.25223335075808057, 0.1881641349093222, 2.6987241405368656, -1.3327602486409937, -0.6169747814033371]}, {\"boxpoints\": false, \"line\": {\"width\": 1.3}, \"marker\": {\"color\": \"rgba(50, 171, 96, 1.0)\"}, \"name\": \"C\", \"orientation\": \"v\", \"type\": \"box\", \"y\": [0.4186050978255918, 0.9660299067572595, -0.4318143275388457, 0.5065075567870579, 1.4859078649464117, 2.037283479738617, 0.1718877247483784, 0.47531459547715643, 0.42823940845213554, -0.21305545190507444, 0.28190489492175935, -0.173204935815877, 0.39757462485732936, 1.3856892836568033, 0.9822240896658297, 1.938516935317932, 0.2152802615769902, -1.6198131628409123, 0.5373273678187647, 1.0074272134548774, -0.8947699356644431, -0.20862165688177156, -0.10861066684874332, 0.4534828477073112, 0.8168342651047499, -0.1687725979146592, -0.5712267200634286, -1.1119129875224343, -1.6453222605018447, 0.9855003647827035, 1.7181503768731639, -0.12801937833791582, -0.759239480823569, -0.15604891625994818, -0.7308177686807426, -0.7654926526655869, -1.4628634609740454, -0.11367567007750326, 0.44960352548597154, -0.9706311730653845, 1.2545677594079299, -2.271041367591699, 1.104145953395362, 0.6195613024301116, -0.5005945813435325, -0.9063252531488935, -0.043850682877327164, -0.8454320211462417, 0.7108991077320378, -1.9204840919319068, -1.458754114994838, -0.20099174944696324, -0.22259167976453564, -0.35670458652429826, -1.2551092820330252, -1.7901862237899924, 0.9448393991015264, -0.1572709025185171, -1.6644238182098812, 0.3172932947843975, -0.23550701831544502, 0.2657712421161027, -0.053078294913159324, -2.398334429775859, 0.7519569965442786, -0.16681679209782702, 0.3452512000546205, -0.2910305465854694, -0.33331624044084773, 0.9055671431700401, -0.42227825539631764, -1.2871107075659745, 0.02109412124539801, -0.9061252419518914, -0.30150226561932414, 1.334079070716369, -0.9170838735545183, 0.4103890346700743, -0.5089311284427338, 0.21384246102570673, -0.25502806255931987, 0.8148800270629623, 0.042616665556271735, -0.1568235945172625, -0.04308239534943786, -0.28435314213034757, -1.0269739230542796, 1.269247105161303, 1.1439941254385915, 0.39004917349610146, -0.282070716056746, -0.5068669529975444, 1.0857202913987292, -0.9641678103539787, 2.403598393563145, -1.1166542022763057, 0.0546234593929146, -0.9843132869855903, 1.3621554962299072, 0.8257631253025725]}, {\"boxpoints\": false, \"line\": {\"width\": 1.3}, \"marker\": {\"color\": \"rgba(128, 0, 128, 1.0)\"}, \"name\": \"D\", \"orientation\": \"v\", \"type\": \"box\", \"y\": [-0.44737534191412004, 1.109785149730803, -0.31221247860147944, 0.276185368698082, -1.922113777992666, 0.5494499941511534, 0.7206549564338, -0.9516303805555207, -1.609155510582861, -0.40131901516196106, 0.13751866377005473, -0.18217209654260266, 0.7860287209432499, -0.3291145050836312, 0.26243641711107646, -0.2878202787345519, -0.9128405545141554, -0.8312673902052876, -0.30275398434875406, 0.8206462677630454, -0.4263469225679497, -1.120886690537222, -1.3285668861396507, 1.3694310001895356, -0.8310020565902191, 0.9175748272459755, -0.378438553528216, -0.27712991270684717, 1.0411739903759445, -0.9520320074714249, 1.9180612257286693, -0.2408163797498644, -0.7080841797917553, -0.12956203263442628, 1.3475162159337835, 0.627818631947682, -1.716800425038791, -0.2704552717952776, 1.6795627933379111, -1.0832558636122478, 0.7421375992266598, 0.07262878557573275, -1.004922520323428, 0.795976586815005, -0.3048903799119217, 0.631689680578985, 0.48543456020033926, -0.6346491295703771, 1.5676354822561684, -0.6927541999080309, 1.2117825885964526, -0.8588951660933406, 0.04556918339778246, -0.2509167430446283, -2.410866061933873, -0.309138274041897, -0.7943130822699094, -1.0227254868016358, -0.21726475438931492, -0.8754548694426114, 1.4769569272751402, -1.1198238404890728, -0.01166713487201717, -0.8704916124383638, -0.7452030374081205, 1.0980138822393697, -1.2920538475380032, 0.4820522082297061, 0.5801132346756122, -1.172445079797513, 0.10794550998379952, 0.4549470143952793, 1.0461950013526864, -1.5081622005182924, 1.226275464583169, -1.5599668548836045, 0.744306083529144, -0.08554417277120979, -1.3241444170103283, -1.6113510314540873, -1.873746753759231, -1.6944197671866323, 0.6247438287291291, -0.1818162989389835, -0.45067126644989614, -1.1897704812162915, 1.4373509460024958, -1.0109890424592494, -0.2246209543647973, -1.0054544415043833, -0.8917803201970335, 0.11013000673782364, 0.8460814387692865, -0.2960568336761955, 1.6971034217877161, -0.6242430462122459, -0.9875452455298763, -1.1465984440862063, -0.6955021346674213, 0.08545122043946983]}],\n",
       "                        {\"legend\": {\"bgcolor\": \"#F5F6F9\", \"font\": {\"color\": \"#4D5663\"}}, \"paper_bgcolor\": \"#F5F6F9\", \"plot_bgcolor\": \"#F5F6F9\", \"template\": {\"data\": {\"bar\": [{\"error_x\": {\"color\": \"#2a3f5f\"}, \"error_y\": {\"color\": \"#2a3f5f\"}, \"marker\": {\"line\": {\"color\": \"#E5ECF6\", \"width\": 0.5}}, \"type\": \"bar\"}], \"barpolar\": [{\"marker\": {\"line\": {\"color\": \"#E5ECF6\", \"width\": 0.5}}, \"type\": \"barpolar\"}], \"carpet\": [{\"aaxis\": {\"endlinecolor\": \"#2a3f5f\", \"gridcolor\": \"white\", \"linecolor\": \"white\", \"minorgridcolor\": \"white\", \"startlinecolor\": \"#2a3f5f\"}, \"baxis\": {\"endlinecolor\": \"#2a3f5f\", \"gridcolor\": \"white\", \"linecolor\": \"white\", \"minorgridcolor\": \"white\", \"startlinecolor\": \"#2a3f5f\"}, \"type\": \"carpet\"}], \"choropleth\": [{\"colorbar\": {\"outlinewidth\": 0, \"ticks\": \"\"}, \"type\": \"choropleth\"}], \"contour\": [{\"colorbar\": {\"outlinewidth\": 0, \"ticks\": \"\"}, \"colorscale\": [[0.0, \"#0d0887\"], [0.1111111111111111, \"#46039f\"], [0.2222222222222222, \"#7201a8\"], [0.3333333333333333, \"#9c179e\"], [0.4444444444444444, \"#bd3786\"], [0.5555555555555556, \"#d8576b\"], [0.6666666666666666, \"#ed7953\"], [0.7777777777777778, \"#fb9f3a\"], [0.8888888888888888, \"#fdca26\"], [1.0, \"#f0f921\"]], \"type\": \"contour\"}], \"contourcarpet\": [{\"colorbar\": {\"outlinewidth\": 0, \"ticks\": \"\"}, \"type\": \"contourcarpet\"}], \"heatmap\": [{\"colorbar\": {\"outlinewidth\": 0, \"ticks\": \"\"}, \"colorscale\": [[0.0, \"#0d0887\"], [0.1111111111111111, \"#46039f\"], [0.2222222222222222, \"#7201a8\"], [0.3333333333333333, \"#9c179e\"], [0.4444444444444444, \"#bd3786\"], [0.5555555555555556, \"#d8576b\"], [0.6666666666666666, \"#ed7953\"], [0.7777777777777778, \"#fb9f3a\"], [0.8888888888888888, \"#fdca26\"], [1.0, \"#f0f921\"]], \"type\": \"heatmap\"}], \"heatmapgl\": [{\"colorbar\": {\"outlinewidth\": 0, \"ticks\": \"\"}, \"colorscale\": [[0.0, \"#0d0887\"], [0.1111111111111111, \"#46039f\"], [0.2222222222222222, \"#7201a8\"], [0.3333333333333333, \"#9c179e\"], [0.4444444444444444, \"#bd3786\"], [0.5555555555555556, \"#d8576b\"], [0.6666666666666666, \"#ed7953\"], [0.7777777777777778, \"#fb9f3a\"], [0.8888888888888888, \"#fdca26\"], [1.0, \"#f0f921\"]], \"type\": \"heatmapgl\"}], \"histogram\": [{\"marker\": {\"colorbar\": {\"outlinewidth\": 0, \"ticks\": \"\"}}, \"type\": \"histogram\"}], \"histogram2d\": [{\"colorbar\": {\"outlinewidth\": 0, \"ticks\": \"\"}, \"colorscale\": [[0.0, \"#0d0887\"], [0.1111111111111111, \"#46039f\"], [0.2222222222222222, \"#7201a8\"], [0.3333333333333333, \"#9c179e\"], [0.4444444444444444, \"#bd3786\"], [0.5555555555555556, \"#d8576b\"], [0.6666666666666666, \"#ed7953\"], [0.7777777777777778, \"#fb9f3a\"], [0.8888888888888888, \"#fdca26\"], [1.0, \"#f0f921\"]], \"type\": \"histogram2d\"}], \"histogram2dcontour\": [{\"colorbar\": {\"outlinewidth\": 0, \"ticks\": \"\"}, \"colorscale\": [[0.0, \"#0d0887\"], [0.1111111111111111, \"#46039f\"], [0.2222222222222222, \"#7201a8\"], [0.3333333333333333, \"#9c179e\"], [0.4444444444444444, \"#bd3786\"], [0.5555555555555556, \"#d8576b\"], [0.6666666666666666, \"#ed7953\"], [0.7777777777777778, \"#fb9f3a\"], [0.8888888888888888, \"#fdca26\"], [1.0, \"#f0f921\"]], \"type\": \"histogram2dcontour\"}], \"mesh3d\": [{\"colorbar\": {\"outlinewidth\": 0, \"ticks\": \"\"}, \"type\": \"mesh3d\"}], \"parcoords\": [{\"line\": {\"colorbar\": {\"outlinewidth\": 0, \"ticks\": \"\"}}, \"type\": \"parcoords\"}], \"pie\": [{\"automargin\": true, \"type\": \"pie\"}], \"scatter\": [{\"marker\": {\"colorbar\": {\"outlinewidth\": 0, \"ticks\": \"\"}}, \"type\": \"scatter\"}], \"scatter3d\": [{\"line\": {\"colorbar\": {\"outlinewidth\": 0, \"ticks\": \"\"}}, \"marker\": {\"colorbar\": {\"outlinewidth\": 0, \"ticks\": \"\"}}, \"type\": \"scatter3d\"}], \"scattercarpet\": [{\"marker\": {\"colorbar\": {\"outlinewidth\": 0, \"ticks\": \"\"}}, \"type\": \"scattercarpet\"}], \"scattergeo\": [{\"marker\": {\"colorbar\": {\"outlinewidth\": 0, \"ticks\": \"\"}}, \"type\": \"scattergeo\"}], \"scattergl\": [{\"marker\": {\"colorbar\": {\"outlinewidth\": 0, \"ticks\": \"\"}}, \"type\": \"scattergl\"}], \"scattermapbox\": [{\"marker\": {\"colorbar\": {\"outlinewidth\": 0, \"ticks\": \"\"}}, \"type\": \"scattermapbox\"}], \"scatterpolar\": [{\"marker\": {\"colorbar\": {\"outlinewidth\": 0, \"ticks\": \"\"}}, \"type\": \"scatterpolar\"}], \"scatterpolargl\": [{\"marker\": {\"colorbar\": {\"outlinewidth\": 0, \"ticks\": \"\"}}, \"type\": \"scatterpolargl\"}], \"scatterternary\": [{\"marker\": {\"colorbar\": {\"outlinewidth\": 0, \"ticks\": \"\"}}, \"type\": \"scatterternary\"}], \"surface\": [{\"colorbar\": {\"outlinewidth\": 0, \"ticks\": \"\"}, \"colorscale\": [[0.0, \"#0d0887\"], [0.1111111111111111, \"#46039f\"], [0.2222222222222222, \"#7201a8\"], [0.3333333333333333, \"#9c179e\"], [0.4444444444444444, \"#bd3786\"], [0.5555555555555556, \"#d8576b\"], [0.6666666666666666, \"#ed7953\"], [0.7777777777777778, \"#fb9f3a\"], [0.8888888888888888, \"#fdca26\"], [1.0, \"#f0f921\"]], \"type\": \"surface\"}], \"table\": [{\"cells\": {\"fill\": {\"color\": \"#EBF0F8\"}, \"line\": {\"color\": \"white\"}}, \"header\": {\"fill\": {\"color\": \"#C8D4E3\"}, \"line\": {\"color\": \"white\"}}, \"type\": \"table\"}]}, \"layout\": {\"annotationdefaults\": {\"arrowcolor\": \"#2a3f5f\", \"arrowhead\": 0, \"arrowwidth\": 1}, \"coloraxis\": {\"colorbar\": {\"outlinewidth\": 0, \"ticks\": \"\"}}, \"colorscale\": {\"diverging\": [[0, \"#8e0152\"], [0.1, \"#c51b7d\"], [0.2, \"#de77ae\"], [0.3, \"#f1b6da\"], [0.4, \"#fde0ef\"], [0.5, \"#f7f7f7\"], [0.6, \"#e6f5d0\"], [0.7, \"#b8e186\"], [0.8, \"#7fbc41\"], [0.9, \"#4d9221\"], [1, \"#276419\"]], \"sequential\": [[0.0, \"#0d0887\"], [0.1111111111111111, \"#46039f\"], [0.2222222222222222, \"#7201a8\"], [0.3333333333333333, \"#9c179e\"], [0.4444444444444444, \"#bd3786\"], [0.5555555555555556, \"#d8576b\"], [0.6666666666666666, \"#ed7953\"], [0.7777777777777778, \"#fb9f3a\"], [0.8888888888888888, \"#fdca26\"], [1.0, \"#f0f921\"]], \"sequentialminus\": [[0.0, \"#0d0887\"], [0.1111111111111111, \"#46039f\"], [0.2222222222222222, \"#7201a8\"], [0.3333333333333333, \"#9c179e\"], [0.4444444444444444, \"#bd3786\"], [0.5555555555555556, \"#d8576b\"], [0.6666666666666666, \"#ed7953\"], [0.7777777777777778, \"#fb9f3a\"], [0.8888888888888888, \"#fdca26\"], [1.0, \"#f0f921\"]]}, \"colorway\": [\"#636efa\", \"#EF553B\", \"#00cc96\", \"#ab63fa\", \"#FFA15A\", \"#19d3f3\", \"#FF6692\", \"#B6E880\", \"#FF97FF\", \"#FECB52\"], \"font\": {\"color\": \"#2a3f5f\"}, \"geo\": {\"bgcolor\": \"white\", \"lakecolor\": \"white\", \"landcolor\": \"#E5ECF6\", \"showlakes\": true, \"showland\": true, \"subunitcolor\": \"white\"}, \"hoverlabel\": {\"align\": \"left\"}, \"hovermode\": \"closest\", \"mapbox\": {\"style\": \"light\"}, \"paper_bgcolor\": \"white\", \"plot_bgcolor\": \"#E5ECF6\", \"polar\": {\"angularaxis\": {\"gridcolor\": \"white\", \"linecolor\": \"white\", \"ticks\": \"\"}, \"bgcolor\": \"#E5ECF6\", \"radialaxis\": {\"gridcolor\": \"white\", \"linecolor\": \"white\", \"ticks\": \"\"}}, \"scene\": {\"xaxis\": {\"backgroundcolor\": \"#E5ECF6\", \"gridcolor\": \"white\", \"gridwidth\": 2, \"linecolor\": \"white\", \"showbackground\": true, \"ticks\": \"\", \"zerolinecolor\": \"white\"}, \"yaxis\": {\"backgroundcolor\": \"#E5ECF6\", \"gridcolor\": \"white\", \"gridwidth\": 2, \"linecolor\": \"white\", \"showbackground\": true, \"ticks\": \"\", \"zerolinecolor\": \"white\"}, \"zaxis\": {\"backgroundcolor\": \"#E5ECF6\", \"gridcolor\": \"white\", \"gridwidth\": 2, \"linecolor\": \"white\", \"showbackground\": true, \"ticks\": \"\", \"zerolinecolor\": \"white\"}}, \"shapedefaults\": {\"line\": {\"color\": \"#2a3f5f\"}}, \"ternary\": {\"aaxis\": {\"gridcolor\": \"white\", \"linecolor\": \"white\", \"ticks\": \"\"}, \"baxis\": {\"gridcolor\": \"white\", \"linecolor\": \"white\", \"ticks\": \"\"}, \"bgcolor\": \"#E5ECF6\", \"caxis\": {\"gridcolor\": \"white\", \"linecolor\": \"white\", \"ticks\": \"\"}}, \"title\": {\"x\": 0.05}, \"xaxis\": {\"automargin\": true, \"gridcolor\": \"white\", \"linecolor\": \"white\", \"ticks\": \"\", \"title\": {\"standoff\": 15}, \"zerolinecolor\": \"white\", \"zerolinewidth\": 2}, \"yaxis\": {\"automargin\": true, \"gridcolor\": \"white\", \"linecolor\": \"white\", \"ticks\": \"\", \"title\": {\"standoff\": 15}, \"zerolinecolor\": \"white\", \"zerolinewidth\": 2}}}, \"title\": {\"font\": {\"color\": \"#4D5663\"}}, \"xaxis\": {\"gridcolor\": \"#E1E5ED\", \"showgrid\": true, \"tickfont\": {\"color\": \"#4D5663\"}, \"title\": {\"font\": {\"color\": \"#4D5663\"}, \"text\": \"\"}, \"zerolinecolor\": \"#E1E5ED\"}, \"yaxis\": {\"gridcolor\": \"#E1E5ED\", \"showgrid\": true, \"tickfont\": {\"color\": \"#4D5663\"}, \"title\": {\"font\": {\"color\": \"#4D5663\"}, \"text\": \"\"}, \"zerolinecolor\": \"#E1E5ED\"}},\n",
       "                        {\"showLink\": true, \"linkText\": \"Export to plot.ly\", \"plotlyServerURL\": \"https://plot.ly\", \"responsive\": true}\n",
       "                    ).then(function(){\n",
       "                            \n",
       "var gd = document.getElementById('ffd2c2c3-a481-4d84-9f37-5995db3bdc15');\n",
       "var x = new MutationObserver(function (mutations, observer) {{\n",
       "        var display = window.getComputedStyle(gd).display;\n",
       "        if (!display || display === 'none') {{\n",
       "            console.log([gd, 'removed!']);\n",
       "            Plotly.purge(gd);\n",
       "            observer.disconnect();\n",
       "        }}\n",
       "}});\n",
       "\n",
       "// Listen for the removal of the full notebook cells\n",
       "var notebookContainer = gd.closest('#notebook-container');\n",
       "if (notebookContainer) {{\n",
       "    x.observe(notebookContainer, {childList: true});\n",
       "}}\n",
       "\n",
       "// Listen for the clearing of the current output cell\n",
       "var outputEl = gd.closest('.output');\n",
       "if (outputEl) {{\n",
       "    x.observe(outputEl, {childList: true});\n",
       "}}\n",
       "\n",
       "                        })\n",
       "                };\n",
       "                });\n",
       "            </script>\n",
       "        </div>"
      ]
     },
     "metadata": {},
     "output_type": "display_data"
    }
   ],
   "source": [
    "df.iplot(kind='box')"
   ]
  },
  {
   "cell_type": "code",
   "execution_count": 53,
   "metadata": {},
   "outputs": [],
   "source": [
    "df3 = pd.DataFrame({'x':[1,2,3,4,5],'y':[10,20,30,20,10],'z':[500,400,300,200,100]})"
   ]
  },
  {
   "cell_type": "code",
   "execution_count": 54,
   "metadata": {},
   "outputs": [
    {
     "data": {
      "text/html": [
       "<div>\n",
       "<style scoped>\n",
       "    .dataframe tbody tr th:only-of-type {\n",
       "        vertical-align: middle;\n",
       "    }\n",
       "\n",
       "    .dataframe tbody tr th {\n",
       "        vertical-align: top;\n",
       "    }\n",
       "\n",
       "    .dataframe thead th {\n",
       "        text-align: right;\n",
       "    }\n",
       "</style>\n",
       "<table border=\"1\" class=\"dataframe\">\n",
       "  <thead>\n",
       "    <tr style=\"text-align: right;\">\n",
       "      <th></th>\n",
       "      <th>x</th>\n",
       "      <th>y</th>\n",
       "      <th>z</th>\n",
       "    </tr>\n",
       "  </thead>\n",
       "  <tbody>\n",
       "    <tr>\n",
       "      <th>0</th>\n",
       "      <td>1</td>\n",
       "      <td>10</td>\n",
       "      <td>500</td>\n",
       "    </tr>\n",
       "    <tr>\n",
       "      <th>1</th>\n",
       "      <td>2</td>\n",
       "      <td>20</td>\n",
       "      <td>400</td>\n",
       "    </tr>\n",
       "    <tr>\n",
       "      <th>2</th>\n",
       "      <td>3</td>\n",
       "      <td>30</td>\n",
       "      <td>300</td>\n",
       "    </tr>\n",
       "    <tr>\n",
       "      <th>3</th>\n",
       "      <td>4</td>\n",
       "      <td>20</td>\n",
       "      <td>200</td>\n",
       "    </tr>\n",
       "    <tr>\n",
       "      <th>4</th>\n",
       "      <td>5</td>\n",
       "      <td>10</td>\n",
       "      <td>100</td>\n",
       "    </tr>\n",
       "  </tbody>\n",
       "</table>\n",
       "</div>"
      ],
      "text/plain": [
       "   x   y    z\n",
       "0  1  10  500\n",
       "1  2  20  400\n",
       "2  3  30  300\n",
       "3  4  20  200\n",
       "4  5  10  100"
      ]
     },
     "execution_count": 54,
     "metadata": {},
     "output_type": "execute_result"
    }
   ],
   "source": [
    "df3"
   ]
  },
  {
   "cell_type": "code",
   "execution_count": 55,
   "metadata": {},
   "outputs": [
    {
     "data": {
      "application/vnd.plotly.v1+json": {
       "config": {
        "linkText": "Export to plot.ly",
        "plotlyServerURL": "https://plot.ly",
        "showLink": true
       },
       "data": [
        {
         "colorscale": [
          [
           0,
           "rgb(255, 153, 51)"
          ],
          [
           0.1111111111111111,
           "rgb(55, 128, 191)"
          ],
          [
           0.2222222222222222,
           "rgb(50, 171, 96)"
          ],
          [
           0.3333333333333333,
           "rgb(128, 0, 128)"
          ],
          [
           0.4444444444444444,
           "rgb(219, 64, 82)"
          ],
          [
           0.5555555555555556,
           "rgb(0, 128, 128)"
          ],
          [
           0.6666666666666666,
           "rgb(255, 255, 51)"
          ],
          [
           0.7777777777777778,
           "rgb(128, 128, 0)"
          ],
          [
           0.8888888888888888,
           "rgb(251, 128, 114)"
          ],
          [
           1,
           "rgb(128, 177, 211)"
          ]
         ],
         "type": "surface",
         "x": [
          0,
          1,
          2,
          3,
          4
         ],
         "y": [
          "x",
          "y",
          "z"
         ],
         "z": [
          [
           1,
           2,
           3,
           4,
           5
          ],
          [
           10,
           20,
           30,
           20,
           10
          ],
          [
           500,
           400,
           300,
           200,
           100
          ]
         ]
        }
       ],
       "layout": {
        "legend": {
         "bgcolor": "#F5F6F9",
         "font": {
          "color": "#4D5663"
         }
        },
        "paper_bgcolor": "#F5F6F9",
        "plot_bgcolor": "#F5F6F9",
        "template": {
         "data": {
          "bar": [
           {
            "error_x": {
             "color": "#2a3f5f"
            },
            "error_y": {
             "color": "#2a3f5f"
            },
            "marker": {
             "line": {
              "color": "#E5ECF6",
              "width": 0.5
             }
            },
            "type": "bar"
           }
          ],
          "barpolar": [
           {
            "marker": {
             "line": {
              "color": "#E5ECF6",
              "width": 0.5
             }
            },
            "type": "barpolar"
           }
          ],
          "carpet": [
           {
            "aaxis": {
             "endlinecolor": "#2a3f5f",
             "gridcolor": "white",
             "linecolor": "white",
             "minorgridcolor": "white",
             "startlinecolor": "#2a3f5f"
            },
            "baxis": {
             "endlinecolor": "#2a3f5f",
             "gridcolor": "white",
             "linecolor": "white",
             "minorgridcolor": "white",
             "startlinecolor": "#2a3f5f"
            },
            "type": "carpet"
           }
          ],
          "choropleth": [
           {
            "colorbar": {
             "outlinewidth": 0,
             "ticks": ""
            },
            "type": "choropleth"
           }
          ],
          "contour": [
           {
            "colorbar": {
             "outlinewidth": 0,
             "ticks": ""
            },
            "colorscale": [
             [
              0,
              "#0d0887"
             ],
             [
              0.1111111111111111,
              "#46039f"
             ],
             [
              0.2222222222222222,
              "#7201a8"
             ],
             [
              0.3333333333333333,
              "#9c179e"
             ],
             [
              0.4444444444444444,
              "#bd3786"
             ],
             [
              0.5555555555555556,
              "#d8576b"
             ],
             [
              0.6666666666666666,
              "#ed7953"
             ],
             [
              0.7777777777777778,
              "#fb9f3a"
             ],
             [
              0.8888888888888888,
              "#fdca26"
             ],
             [
              1,
              "#f0f921"
             ]
            ],
            "type": "contour"
           }
          ],
          "contourcarpet": [
           {
            "colorbar": {
             "outlinewidth": 0,
             "ticks": ""
            },
            "type": "contourcarpet"
           }
          ],
          "heatmap": [
           {
            "colorbar": {
             "outlinewidth": 0,
             "ticks": ""
            },
            "colorscale": [
             [
              0,
              "#0d0887"
             ],
             [
              0.1111111111111111,
              "#46039f"
             ],
             [
              0.2222222222222222,
              "#7201a8"
             ],
             [
              0.3333333333333333,
              "#9c179e"
             ],
             [
              0.4444444444444444,
              "#bd3786"
             ],
             [
              0.5555555555555556,
              "#d8576b"
             ],
             [
              0.6666666666666666,
              "#ed7953"
             ],
             [
              0.7777777777777778,
              "#fb9f3a"
             ],
             [
              0.8888888888888888,
              "#fdca26"
             ],
             [
              1,
              "#f0f921"
             ]
            ],
            "type": "heatmap"
           }
          ],
          "heatmapgl": [
           {
            "colorbar": {
             "outlinewidth": 0,
             "ticks": ""
            },
            "colorscale": [
             [
              0,
              "#0d0887"
             ],
             [
              0.1111111111111111,
              "#46039f"
             ],
             [
              0.2222222222222222,
              "#7201a8"
             ],
             [
              0.3333333333333333,
              "#9c179e"
             ],
             [
              0.4444444444444444,
              "#bd3786"
             ],
             [
              0.5555555555555556,
              "#d8576b"
             ],
             [
              0.6666666666666666,
              "#ed7953"
             ],
             [
              0.7777777777777778,
              "#fb9f3a"
             ],
             [
              0.8888888888888888,
              "#fdca26"
             ],
             [
              1,
              "#f0f921"
             ]
            ],
            "type": "heatmapgl"
           }
          ],
          "histogram": [
           {
            "marker": {
             "colorbar": {
              "outlinewidth": 0,
              "ticks": ""
             }
            },
            "type": "histogram"
           }
          ],
          "histogram2d": [
           {
            "colorbar": {
             "outlinewidth": 0,
             "ticks": ""
            },
            "colorscale": [
             [
              0,
              "#0d0887"
             ],
             [
              0.1111111111111111,
              "#46039f"
             ],
             [
              0.2222222222222222,
              "#7201a8"
             ],
             [
              0.3333333333333333,
              "#9c179e"
             ],
             [
              0.4444444444444444,
              "#bd3786"
             ],
             [
              0.5555555555555556,
              "#d8576b"
             ],
             [
              0.6666666666666666,
              "#ed7953"
             ],
             [
              0.7777777777777778,
              "#fb9f3a"
             ],
             [
              0.8888888888888888,
              "#fdca26"
             ],
             [
              1,
              "#f0f921"
             ]
            ],
            "type": "histogram2d"
           }
          ],
          "histogram2dcontour": [
           {
            "colorbar": {
             "outlinewidth": 0,
             "ticks": ""
            },
            "colorscale": [
             [
              0,
              "#0d0887"
             ],
             [
              0.1111111111111111,
              "#46039f"
             ],
             [
              0.2222222222222222,
              "#7201a8"
             ],
             [
              0.3333333333333333,
              "#9c179e"
             ],
             [
              0.4444444444444444,
              "#bd3786"
             ],
             [
              0.5555555555555556,
              "#d8576b"
             ],
             [
              0.6666666666666666,
              "#ed7953"
             ],
             [
              0.7777777777777778,
              "#fb9f3a"
             ],
             [
              0.8888888888888888,
              "#fdca26"
             ],
             [
              1,
              "#f0f921"
             ]
            ],
            "type": "histogram2dcontour"
           }
          ],
          "mesh3d": [
           {
            "colorbar": {
             "outlinewidth": 0,
             "ticks": ""
            },
            "type": "mesh3d"
           }
          ],
          "parcoords": [
           {
            "line": {
             "colorbar": {
              "outlinewidth": 0,
              "ticks": ""
             }
            },
            "type": "parcoords"
           }
          ],
          "pie": [
           {
            "automargin": true,
            "type": "pie"
           }
          ],
          "scatter": [
           {
            "marker": {
             "colorbar": {
              "outlinewidth": 0,
              "ticks": ""
             }
            },
            "type": "scatter"
           }
          ],
          "scatter3d": [
           {
            "line": {
             "colorbar": {
              "outlinewidth": 0,
              "ticks": ""
             }
            },
            "marker": {
             "colorbar": {
              "outlinewidth": 0,
              "ticks": ""
             }
            },
            "type": "scatter3d"
           }
          ],
          "scattercarpet": [
           {
            "marker": {
             "colorbar": {
              "outlinewidth": 0,
              "ticks": ""
             }
            },
            "type": "scattercarpet"
           }
          ],
          "scattergeo": [
           {
            "marker": {
             "colorbar": {
              "outlinewidth": 0,
              "ticks": ""
             }
            },
            "type": "scattergeo"
           }
          ],
          "scattergl": [
           {
            "marker": {
             "colorbar": {
              "outlinewidth": 0,
              "ticks": ""
             }
            },
            "type": "scattergl"
           }
          ],
          "scattermapbox": [
           {
            "marker": {
             "colorbar": {
              "outlinewidth": 0,
              "ticks": ""
             }
            },
            "type": "scattermapbox"
           }
          ],
          "scatterpolar": [
           {
            "marker": {
             "colorbar": {
              "outlinewidth": 0,
              "ticks": ""
             }
            },
            "type": "scatterpolar"
           }
          ],
          "scatterpolargl": [
           {
            "marker": {
             "colorbar": {
              "outlinewidth": 0,
              "ticks": ""
             }
            },
            "type": "scatterpolargl"
           }
          ],
          "scatterternary": [
           {
            "marker": {
             "colorbar": {
              "outlinewidth": 0,
              "ticks": ""
             }
            },
            "type": "scatterternary"
           }
          ],
          "surface": [
           {
            "colorbar": {
             "outlinewidth": 0,
             "ticks": ""
            },
            "colorscale": [
             [
              0,
              "#0d0887"
             ],
             [
              0.1111111111111111,
              "#46039f"
             ],
             [
              0.2222222222222222,
              "#7201a8"
             ],
             [
              0.3333333333333333,
              "#9c179e"
             ],
             [
              0.4444444444444444,
              "#bd3786"
             ],
             [
              0.5555555555555556,
              "#d8576b"
             ],
             [
              0.6666666666666666,
              "#ed7953"
             ],
             [
              0.7777777777777778,
              "#fb9f3a"
             ],
             [
              0.8888888888888888,
              "#fdca26"
             ],
             [
              1,
              "#f0f921"
             ]
            ],
            "type": "surface"
           }
          ],
          "table": [
           {
            "cells": {
             "fill": {
              "color": "#EBF0F8"
             },
             "line": {
              "color": "white"
             }
            },
            "header": {
             "fill": {
              "color": "#C8D4E3"
             },
             "line": {
              "color": "white"
             }
            },
            "type": "table"
           }
          ]
         },
         "layout": {
          "annotationdefaults": {
           "arrowcolor": "#2a3f5f",
           "arrowhead": 0,
           "arrowwidth": 1
          },
          "coloraxis": {
           "colorbar": {
            "outlinewidth": 0,
            "ticks": ""
           }
          },
          "colorscale": {
           "diverging": [
            [
             0,
             "#8e0152"
            ],
            [
             0.1,
             "#c51b7d"
            ],
            [
             0.2,
             "#de77ae"
            ],
            [
             0.3,
             "#f1b6da"
            ],
            [
             0.4,
             "#fde0ef"
            ],
            [
             0.5,
             "#f7f7f7"
            ],
            [
             0.6,
             "#e6f5d0"
            ],
            [
             0.7,
             "#b8e186"
            ],
            [
             0.8,
             "#7fbc41"
            ],
            [
             0.9,
             "#4d9221"
            ],
            [
             1,
             "#276419"
            ]
           ],
           "sequential": [
            [
             0,
             "#0d0887"
            ],
            [
             0.1111111111111111,
             "#46039f"
            ],
            [
             0.2222222222222222,
             "#7201a8"
            ],
            [
             0.3333333333333333,
             "#9c179e"
            ],
            [
             0.4444444444444444,
             "#bd3786"
            ],
            [
             0.5555555555555556,
             "#d8576b"
            ],
            [
             0.6666666666666666,
             "#ed7953"
            ],
            [
             0.7777777777777778,
             "#fb9f3a"
            ],
            [
             0.8888888888888888,
             "#fdca26"
            ],
            [
             1,
             "#f0f921"
            ]
           ],
           "sequentialminus": [
            [
             0,
             "#0d0887"
            ],
            [
             0.1111111111111111,
             "#46039f"
            ],
            [
             0.2222222222222222,
             "#7201a8"
            ],
            [
             0.3333333333333333,
             "#9c179e"
            ],
            [
             0.4444444444444444,
             "#bd3786"
            ],
            [
             0.5555555555555556,
             "#d8576b"
            ],
            [
             0.6666666666666666,
             "#ed7953"
            ],
            [
             0.7777777777777778,
             "#fb9f3a"
            ],
            [
             0.8888888888888888,
             "#fdca26"
            ],
            [
             1,
             "#f0f921"
            ]
           ]
          },
          "colorway": [
           "#636efa",
           "#EF553B",
           "#00cc96",
           "#ab63fa",
           "#FFA15A",
           "#19d3f3",
           "#FF6692",
           "#B6E880",
           "#FF97FF",
           "#FECB52"
          ],
          "font": {
           "color": "#2a3f5f"
          },
          "geo": {
           "bgcolor": "white",
           "lakecolor": "white",
           "landcolor": "#E5ECF6",
           "showlakes": true,
           "showland": true,
           "subunitcolor": "white"
          },
          "hoverlabel": {
           "align": "left"
          },
          "hovermode": "closest",
          "mapbox": {
           "style": "light"
          },
          "paper_bgcolor": "white",
          "plot_bgcolor": "#E5ECF6",
          "polar": {
           "angularaxis": {
            "gridcolor": "white",
            "linecolor": "white",
            "ticks": ""
           },
           "bgcolor": "#E5ECF6",
           "radialaxis": {
            "gridcolor": "white",
            "linecolor": "white",
            "ticks": ""
           }
          },
          "scene": {
           "xaxis": {
            "backgroundcolor": "#E5ECF6",
            "gridcolor": "white",
            "gridwidth": 2,
            "linecolor": "white",
            "showbackground": true,
            "ticks": "",
            "zerolinecolor": "white"
           },
           "yaxis": {
            "backgroundcolor": "#E5ECF6",
            "gridcolor": "white",
            "gridwidth": 2,
            "linecolor": "white",
            "showbackground": true,
            "ticks": "",
            "zerolinecolor": "white"
           },
           "zaxis": {
            "backgroundcolor": "#E5ECF6",
            "gridcolor": "white",
            "gridwidth": 2,
            "linecolor": "white",
            "showbackground": true,
            "ticks": "",
            "zerolinecolor": "white"
           }
          },
          "shapedefaults": {
           "line": {
            "color": "#2a3f5f"
           }
          },
          "ternary": {
           "aaxis": {
            "gridcolor": "white",
            "linecolor": "white",
            "ticks": ""
           },
           "baxis": {
            "gridcolor": "white",
            "linecolor": "white",
            "ticks": ""
           },
           "bgcolor": "#E5ECF6",
           "caxis": {
            "gridcolor": "white",
            "linecolor": "white",
            "ticks": ""
           }
          },
          "title": {
           "x": 0.05
          },
          "xaxis": {
           "automargin": true,
           "gridcolor": "white",
           "linecolor": "white",
           "ticks": "",
           "title": {
            "standoff": 15
           },
           "zerolinecolor": "white",
           "zerolinewidth": 2
          },
          "yaxis": {
           "automargin": true,
           "gridcolor": "white",
           "linecolor": "white",
           "ticks": "",
           "title": {
            "standoff": 15
           },
           "zerolinecolor": "white",
           "zerolinewidth": 2
          }
         }
        },
        "title": {
         "font": {
          "color": "#4D5663"
         }
        },
        "xaxis": {
         "gridcolor": "#E1E5ED",
         "showgrid": true,
         "tickfont": {
          "color": "#4D5663"
         },
         "title": {
          "font": {
           "color": "#4D5663"
          },
          "text": ""
         },
         "zerolinecolor": "#E1E5ED"
        },
        "yaxis": {
         "gridcolor": "#E1E5ED",
         "showgrid": true,
         "tickfont": {
          "color": "#4D5663"
         },
         "title": {
          "font": {
           "color": "#4D5663"
          },
          "text": ""
         },
         "zerolinecolor": "#E1E5ED"
        }
       }
      },
      "text/html": [
       "<div>\n",
       "        \n",
       "        \n",
       "            <div id=\"093dff72-ed79-4fe8-a18d-103178e0ae85\" class=\"plotly-graph-div\" style=\"height:525px; width:100%;\"></div>\n",
       "            <script type=\"text/javascript\">\n",
       "                require([\"plotly\"], function(Plotly) {\n",
       "                    window.PLOTLYENV=window.PLOTLYENV || {};\n",
       "                    window.PLOTLYENV.BASE_URL='https://plot.ly';\n",
       "                    \n",
       "                if (document.getElementById(\"093dff72-ed79-4fe8-a18d-103178e0ae85\")) {\n",
       "                    Plotly.newPlot(\n",
       "                        '093dff72-ed79-4fe8-a18d-103178e0ae85',\n",
       "                        [{\"colorscale\": [[0.0, \"rgb(255, 153, 51)\"], [0.1111111111111111, \"rgb(55, 128, 191)\"], [0.2222222222222222, \"rgb(50, 171, 96)\"], [0.3333333333333333, \"rgb(128, 0, 128)\"], [0.4444444444444444, \"rgb(219, 64, 82)\"], [0.5555555555555556, \"rgb(0, 128, 128)\"], [0.6666666666666666, \"rgb(255, 255, 51)\"], [0.7777777777777778, \"rgb(128, 128, 0)\"], [0.8888888888888888, \"rgb(251, 128, 114)\"], [1.0, \"rgb(128, 177, 211)\"]], \"type\": \"surface\", \"x\": [0, 1, 2, 3, 4], \"y\": [\"x\", \"y\", \"z\"], \"z\": [[1, 2, 3, 4, 5], [10, 20, 30, 20, 10], [500, 400, 300, 200, 100]]}],\n",
       "                        {\"legend\": {\"bgcolor\": \"#F5F6F9\", \"font\": {\"color\": \"#4D5663\"}}, \"paper_bgcolor\": \"#F5F6F9\", \"plot_bgcolor\": \"#F5F6F9\", \"template\": {\"data\": {\"bar\": [{\"error_x\": {\"color\": \"#2a3f5f\"}, \"error_y\": {\"color\": \"#2a3f5f\"}, \"marker\": {\"line\": {\"color\": \"#E5ECF6\", \"width\": 0.5}}, \"type\": \"bar\"}], \"barpolar\": [{\"marker\": {\"line\": {\"color\": \"#E5ECF6\", \"width\": 0.5}}, \"type\": \"barpolar\"}], \"carpet\": [{\"aaxis\": {\"endlinecolor\": \"#2a3f5f\", \"gridcolor\": \"white\", \"linecolor\": \"white\", \"minorgridcolor\": \"white\", \"startlinecolor\": \"#2a3f5f\"}, \"baxis\": {\"endlinecolor\": \"#2a3f5f\", \"gridcolor\": \"white\", \"linecolor\": \"white\", \"minorgridcolor\": \"white\", \"startlinecolor\": \"#2a3f5f\"}, \"type\": \"carpet\"}], \"choropleth\": [{\"colorbar\": {\"outlinewidth\": 0, \"ticks\": \"\"}, \"type\": \"choropleth\"}], \"contour\": [{\"colorbar\": {\"outlinewidth\": 0, \"ticks\": \"\"}, \"colorscale\": [[0.0, \"#0d0887\"], [0.1111111111111111, \"#46039f\"], [0.2222222222222222, \"#7201a8\"], [0.3333333333333333, \"#9c179e\"], [0.4444444444444444, \"#bd3786\"], [0.5555555555555556, \"#d8576b\"], [0.6666666666666666, \"#ed7953\"], [0.7777777777777778, \"#fb9f3a\"], [0.8888888888888888, \"#fdca26\"], [1.0, \"#f0f921\"]], \"type\": \"contour\"}], \"contourcarpet\": [{\"colorbar\": {\"outlinewidth\": 0, \"ticks\": \"\"}, \"type\": \"contourcarpet\"}], \"heatmap\": [{\"colorbar\": {\"outlinewidth\": 0, \"ticks\": \"\"}, \"colorscale\": [[0.0, \"#0d0887\"], [0.1111111111111111, \"#46039f\"], [0.2222222222222222, \"#7201a8\"], [0.3333333333333333, \"#9c179e\"], [0.4444444444444444, \"#bd3786\"], [0.5555555555555556, \"#d8576b\"], [0.6666666666666666, \"#ed7953\"], [0.7777777777777778, \"#fb9f3a\"], [0.8888888888888888, \"#fdca26\"], [1.0, \"#f0f921\"]], \"type\": \"heatmap\"}], \"heatmapgl\": [{\"colorbar\": {\"outlinewidth\": 0, \"ticks\": \"\"}, \"colorscale\": [[0.0, \"#0d0887\"], [0.1111111111111111, \"#46039f\"], [0.2222222222222222, \"#7201a8\"], [0.3333333333333333, \"#9c179e\"], [0.4444444444444444, \"#bd3786\"], [0.5555555555555556, \"#d8576b\"], [0.6666666666666666, \"#ed7953\"], [0.7777777777777778, \"#fb9f3a\"], [0.8888888888888888, \"#fdca26\"], [1.0, \"#f0f921\"]], \"type\": \"heatmapgl\"}], \"histogram\": [{\"marker\": {\"colorbar\": {\"outlinewidth\": 0, \"ticks\": \"\"}}, \"type\": \"histogram\"}], \"histogram2d\": [{\"colorbar\": {\"outlinewidth\": 0, \"ticks\": \"\"}, \"colorscale\": [[0.0, \"#0d0887\"], [0.1111111111111111, \"#46039f\"], [0.2222222222222222, \"#7201a8\"], [0.3333333333333333, \"#9c179e\"], [0.4444444444444444, \"#bd3786\"], [0.5555555555555556, \"#d8576b\"], [0.6666666666666666, \"#ed7953\"], [0.7777777777777778, \"#fb9f3a\"], [0.8888888888888888, \"#fdca26\"], [1.0, \"#f0f921\"]], \"type\": \"histogram2d\"}], \"histogram2dcontour\": [{\"colorbar\": {\"outlinewidth\": 0, \"ticks\": \"\"}, \"colorscale\": [[0.0, \"#0d0887\"], [0.1111111111111111, \"#46039f\"], [0.2222222222222222, \"#7201a8\"], [0.3333333333333333, \"#9c179e\"], [0.4444444444444444, \"#bd3786\"], [0.5555555555555556, \"#d8576b\"], [0.6666666666666666, \"#ed7953\"], [0.7777777777777778, \"#fb9f3a\"], [0.8888888888888888, \"#fdca26\"], [1.0, \"#f0f921\"]], \"type\": \"histogram2dcontour\"}], \"mesh3d\": [{\"colorbar\": {\"outlinewidth\": 0, \"ticks\": \"\"}, \"type\": \"mesh3d\"}], \"parcoords\": [{\"line\": {\"colorbar\": {\"outlinewidth\": 0, \"ticks\": \"\"}}, \"type\": \"parcoords\"}], \"pie\": [{\"automargin\": true, \"type\": \"pie\"}], \"scatter\": [{\"marker\": {\"colorbar\": {\"outlinewidth\": 0, \"ticks\": \"\"}}, \"type\": \"scatter\"}], \"scatter3d\": [{\"line\": {\"colorbar\": {\"outlinewidth\": 0, \"ticks\": \"\"}}, \"marker\": {\"colorbar\": {\"outlinewidth\": 0, \"ticks\": \"\"}}, \"type\": \"scatter3d\"}], \"scattercarpet\": [{\"marker\": {\"colorbar\": {\"outlinewidth\": 0, \"ticks\": \"\"}}, \"type\": \"scattercarpet\"}], \"scattergeo\": [{\"marker\": {\"colorbar\": {\"outlinewidth\": 0, \"ticks\": \"\"}}, \"type\": \"scattergeo\"}], \"scattergl\": [{\"marker\": {\"colorbar\": {\"outlinewidth\": 0, \"ticks\": \"\"}}, \"type\": \"scattergl\"}], \"scattermapbox\": [{\"marker\": {\"colorbar\": {\"outlinewidth\": 0, \"ticks\": \"\"}}, \"type\": \"scattermapbox\"}], \"scatterpolar\": [{\"marker\": {\"colorbar\": {\"outlinewidth\": 0, \"ticks\": \"\"}}, \"type\": \"scatterpolar\"}], \"scatterpolargl\": [{\"marker\": {\"colorbar\": {\"outlinewidth\": 0, \"ticks\": \"\"}}, \"type\": \"scatterpolargl\"}], \"scatterternary\": [{\"marker\": {\"colorbar\": {\"outlinewidth\": 0, \"ticks\": \"\"}}, \"type\": \"scatterternary\"}], \"surface\": [{\"colorbar\": {\"outlinewidth\": 0, \"ticks\": \"\"}, \"colorscale\": [[0.0, \"#0d0887\"], [0.1111111111111111, \"#46039f\"], [0.2222222222222222, \"#7201a8\"], [0.3333333333333333, \"#9c179e\"], [0.4444444444444444, \"#bd3786\"], [0.5555555555555556, \"#d8576b\"], [0.6666666666666666, \"#ed7953\"], [0.7777777777777778, \"#fb9f3a\"], [0.8888888888888888, \"#fdca26\"], [1.0, \"#f0f921\"]], \"type\": \"surface\"}], \"table\": [{\"cells\": {\"fill\": {\"color\": \"#EBF0F8\"}, \"line\": {\"color\": \"white\"}}, \"header\": {\"fill\": {\"color\": \"#C8D4E3\"}, \"line\": {\"color\": \"white\"}}, \"type\": \"table\"}]}, \"layout\": {\"annotationdefaults\": {\"arrowcolor\": \"#2a3f5f\", \"arrowhead\": 0, \"arrowwidth\": 1}, \"coloraxis\": {\"colorbar\": {\"outlinewidth\": 0, \"ticks\": \"\"}}, \"colorscale\": {\"diverging\": [[0, \"#8e0152\"], [0.1, \"#c51b7d\"], [0.2, \"#de77ae\"], [0.3, \"#f1b6da\"], [0.4, \"#fde0ef\"], [0.5, \"#f7f7f7\"], [0.6, \"#e6f5d0\"], [0.7, \"#b8e186\"], [0.8, \"#7fbc41\"], [0.9, \"#4d9221\"], [1, \"#276419\"]], \"sequential\": [[0.0, \"#0d0887\"], [0.1111111111111111, \"#46039f\"], [0.2222222222222222, \"#7201a8\"], [0.3333333333333333, \"#9c179e\"], [0.4444444444444444, \"#bd3786\"], [0.5555555555555556, \"#d8576b\"], [0.6666666666666666, \"#ed7953\"], [0.7777777777777778, \"#fb9f3a\"], [0.8888888888888888, \"#fdca26\"], [1.0, \"#f0f921\"]], \"sequentialminus\": [[0.0, \"#0d0887\"], [0.1111111111111111, \"#46039f\"], [0.2222222222222222, \"#7201a8\"], [0.3333333333333333, \"#9c179e\"], [0.4444444444444444, \"#bd3786\"], [0.5555555555555556, \"#d8576b\"], [0.6666666666666666, \"#ed7953\"], [0.7777777777777778, \"#fb9f3a\"], [0.8888888888888888, \"#fdca26\"], [1.0, \"#f0f921\"]]}, \"colorway\": [\"#636efa\", \"#EF553B\", \"#00cc96\", \"#ab63fa\", \"#FFA15A\", \"#19d3f3\", \"#FF6692\", \"#B6E880\", \"#FF97FF\", \"#FECB52\"], \"font\": {\"color\": \"#2a3f5f\"}, \"geo\": {\"bgcolor\": \"white\", \"lakecolor\": \"white\", \"landcolor\": \"#E5ECF6\", \"showlakes\": true, \"showland\": true, \"subunitcolor\": \"white\"}, \"hoverlabel\": {\"align\": \"left\"}, \"hovermode\": \"closest\", \"mapbox\": {\"style\": \"light\"}, \"paper_bgcolor\": \"white\", \"plot_bgcolor\": \"#E5ECF6\", \"polar\": {\"angularaxis\": {\"gridcolor\": \"white\", \"linecolor\": \"white\", \"ticks\": \"\"}, \"bgcolor\": \"#E5ECF6\", \"radialaxis\": {\"gridcolor\": \"white\", \"linecolor\": \"white\", \"ticks\": \"\"}}, \"scene\": {\"xaxis\": {\"backgroundcolor\": \"#E5ECF6\", \"gridcolor\": \"white\", \"gridwidth\": 2, \"linecolor\": \"white\", \"showbackground\": true, \"ticks\": \"\", \"zerolinecolor\": \"white\"}, \"yaxis\": {\"backgroundcolor\": \"#E5ECF6\", \"gridcolor\": \"white\", \"gridwidth\": 2, \"linecolor\": \"white\", \"showbackground\": true, \"ticks\": \"\", \"zerolinecolor\": \"white\"}, \"zaxis\": {\"backgroundcolor\": \"#E5ECF6\", \"gridcolor\": \"white\", \"gridwidth\": 2, \"linecolor\": \"white\", \"showbackground\": true, \"ticks\": \"\", \"zerolinecolor\": \"white\"}}, \"shapedefaults\": {\"line\": {\"color\": \"#2a3f5f\"}}, \"ternary\": {\"aaxis\": {\"gridcolor\": \"white\", \"linecolor\": \"white\", \"ticks\": \"\"}, \"baxis\": {\"gridcolor\": \"white\", \"linecolor\": \"white\", \"ticks\": \"\"}, \"bgcolor\": \"#E5ECF6\", \"caxis\": {\"gridcolor\": \"white\", \"linecolor\": \"white\", \"ticks\": \"\"}}, \"title\": {\"x\": 0.05}, \"xaxis\": {\"automargin\": true, \"gridcolor\": \"white\", \"linecolor\": \"white\", \"ticks\": \"\", \"title\": {\"standoff\": 15}, \"zerolinecolor\": \"white\", \"zerolinewidth\": 2}, \"yaxis\": {\"automargin\": true, \"gridcolor\": \"white\", \"linecolor\": \"white\", \"ticks\": \"\", \"title\": {\"standoff\": 15}, \"zerolinecolor\": \"white\", \"zerolinewidth\": 2}}}, \"title\": {\"font\": {\"color\": \"#4D5663\"}}, \"xaxis\": {\"gridcolor\": \"#E1E5ED\", \"showgrid\": true, \"tickfont\": {\"color\": \"#4D5663\"}, \"title\": {\"font\": {\"color\": \"#4D5663\"}, \"text\": \"\"}, \"zerolinecolor\": \"#E1E5ED\"}, \"yaxis\": {\"gridcolor\": \"#E1E5ED\", \"showgrid\": true, \"tickfont\": {\"color\": \"#4D5663\"}, \"title\": {\"font\": {\"color\": \"#4D5663\"}, \"text\": \"\"}, \"zerolinecolor\": \"#E1E5ED\"}},\n",
       "                        {\"showLink\": true, \"linkText\": \"Export to plot.ly\", \"plotlyServerURL\": \"https://plot.ly\", \"responsive\": true}\n",
       "                    ).then(function(){\n",
       "                            \n",
       "var gd = document.getElementById('093dff72-ed79-4fe8-a18d-103178e0ae85');\n",
       "var x = new MutationObserver(function (mutations, observer) {{\n",
       "        var display = window.getComputedStyle(gd).display;\n",
       "        if (!display || display === 'none') {{\n",
       "            console.log([gd, 'removed!']);\n",
       "            Plotly.purge(gd);\n",
       "            observer.disconnect();\n",
       "        }}\n",
       "}});\n",
       "\n",
       "// Listen for the removal of the full notebook cells\n",
       "var notebookContainer = gd.closest('#notebook-container');\n",
       "if (notebookContainer) {{\n",
       "    x.observe(notebookContainer, {childList: true});\n",
       "}}\n",
       "\n",
       "// Listen for the clearing of the current output cell\n",
       "var outputEl = gd.closest('.output');\n",
       "if (outputEl) {{\n",
       "    x.observe(outputEl, {childList: true});\n",
       "}}\n",
       "\n",
       "                        })\n",
       "                };\n",
       "                });\n",
       "            </script>\n",
       "        </div>"
      ]
     },
     "metadata": {},
     "output_type": "display_data"
    }
   ],
   "source": [
    "#create 3D Dinmension\n",
    "df3.iplot(kind='surface')"
   ]
  },
  {
   "cell_type": "code",
   "execution_count": 56,
   "metadata": {},
   "outputs": [
    {
     "data": {
      "application/vnd.plotly.v1+json": {
       "config": {
        "linkText": "Export to plot.ly",
        "plotlyServerURL": "https://plot.ly",
        "showLink": true
       },
       "data": [
        {
         "colorscale": [
          [
           0,
           "rgb(255, 153, 51)"
          ],
          [
           0.1111111111111111,
           "rgb(55, 128, 191)"
          ],
          [
           0.2222222222222222,
           "rgb(50, 171, 96)"
          ],
          [
           0.3333333333333333,
           "rgb(128, 0, 128)"
          ],
          [
           0.4444444444444444,
           "rgb(219, 64, 82)"
          ],
          [
           0.5555555555555556,
           "rgb(0, 128, 128)"
          ],
          [
           0.6666666666666666,
           "rgb(255, 255, 51)"
          ],
          [
           0.7777777777777778,
           "rgb(128, 128, 0)"
          ],
          [
           0.8888888888888888,
           "rgb(251, 128, 114)"
          ],
          [
           1,
           "rgb(128, 177, 211)"
          ]
         ],
         "type": "surface",
         "x": [
          0,
          1,
          2,
          3,
          4
         ],
         "y": [
          "x",
          "y",
          "z"
         ],
         "z": [
          [
           1,
           2,
           3,
           4,
           5
          ],
          [
           10,
           20,
           30,
           20,
           10
          ],
          [
           5,
           4,
           3,
           2,
           1
          ]
         ]
        }
       ],
       "layout": {
        "legend": {
         "bgcolor": "#F5F6F9",
         "font": {
          "color": "#4D5663"
         }
        },
        "paper_bgcolor": "#F5F6F9",
        "plot_bgcolor": "#F5F6F9",
        "template": {
         "data": {
          "bar": [
           {
            "error_x": {
             "color": "#2a3f5f"
            },
            "error_y": {
             "color": "#2a3f5f"
            },
            "marker": {
             "line": {
              "color": "#E5ECF6",
              "width": 0.5
             }
            },
            "type": "bar"
           }
          ],
          "barpolar": [
           {
            "marker": {
             "line": {
              "color": "#E5ECF6",
              "width": 0.5
             }
            },
            "type": "barpolar"
           }
          ],
          "carpet": [
           {
            "aaxis": {
             "endlinecolor": "#2a3f5f",
             "gridcolor": "white",
             "linecolor": "white",
             "minorgridcolor": "white",
             "startlinecolor": "#2a3f5f"
            },
            "baxis": {
             "endlinecolor": "#2a3f5f",
             "gridcolor": "white",
             "linecolor": "white",
             "minorgridcolor": "white",
             "startlinecolor": "#2a3f5f"
            },
            "type": "carpet"
           }
          ],
          "choropleth": [
           {
            "colorbar": {
             "outlinewidth": 0,
             "ticks": ""
            },
            "type": "choropleth"
           }
          ],
          "contour": [
           {
            "colorbar": {
             "outlinewidth": 0,
             "ticks": ""
            },
            "colorscale": [
             [
              0,
              "#0d0887"
             ],
             [
              0.1111111111111111,
              "#46039f"
             ],
             [
              0.2222222222222222,
              "#7201a8"
             ],
             [
              0.3333333333333333,
              "#9c179e"
             ],
             [
              0.4444444444444444,
              "#bd3786"
             ],
             [
              0.5555555555555556,
              "#d8576b"
             ],
             [
              0.6666666666666666,
              "#ed7953"
             ],
             [
              0.7777777777777778,
              "#fb9f3a"
             ],
             [
              0.8888888888888888,
              "#fdca26"
             ],
             [
              1,
              "#f0f921"
             ]
            ],
            "type": "contour"
           }
          ],
          "contourcarpet": [
           {
            "colorbar": {
             "outlinewidth": 0,
             "ticks": ""
            },
            "type": "contourcarpet"
           }
          ],
          "heatmap": [
           {
            "colorbar": {
             "outlinewidth": 0,
             "ticks": ""
            },
            "colorscale": [
             [
              0,
              "#0d0887"
             ],
             [
              0.1111111111111111,
              "#46039f"
             ],
             [
              0.2222222222222222,
              "#7201a8"
             ],
             [
              0.3333333333333333,
              "#9c179e"
             ],
             [
              0.4444444444444444,
              "#bd3786"
             ],
             [
              0.5555555555555556,
              "#d8576b"
             ],
             [
              0.6666666666666666,
              "#ed7953"
             ],
             [
              0.7777777777777778,
              "#fb9f3a"
             ],
             [
              0.8888888888888888,
              "#fdca26"
             ],
             [
              1,
              "#f0f921"
             ]
            ],
            "type": "heatmap"
           }
          ],
          "heatmapgl": [
           {
            "colorbar": {
             "outlinewidth": 0,
             "ticks": ""
            },
            "colorscale": [
             [
              0,
              "#0d0887"
             ],
             [
              0.1111111111111111,
              "#46039f"
             ],
             [
              0.2222222222222222,
              "#7201a8"
             ],
             [
              0.3333333333333333,
              "#9c179e"
             ],
             [
              0.4444444444444444,
              "#bd3786"
             ],
             [
              0.5555555555555556,
              "#d8576b"
             ],
             [
              0.6666666666666666,
              "#ed7953"
             ],
             [
              0.7777777777777778,
              "#fb9f3a"
             ],
             [
              0.8888888888888888,
              "#fdca26"
             ],
             [
              1,
              "#f0f921"
             ]
            ],
            "type": "heatmapgl"
           }
          ],
          "histogram": [
           {
            "marker": {
             "colorbar": {
              "outlinewidth": 0,
              "ticks": ""
             }
            },
            "type": "histogram"
           }
          ],
          "histogram2d": [
           {
            "colorbar": {
             "outlinewidth": 0,
             "ticks": ""
            },
            "colorscale": [
             [
              0,
              "#0d0887"
             ],
             [
              0.1111111111111111,
              "#46039f"
             ],
             [
              0.2222222222222222,
              "#7201a8"
             ],
             [
              0.3333333333333333,
              "#9c179e"
             ],
             [
              0.4444444444444444,
              "#bd3786"
             ],
             [
              0.5555555555555556,
              "#d8576b"
             ],
             [
              0.6666666666666666,
              "#ed7953"
             ],
             [
              0.7777777777777778,
              "#fb9f3a"
             ],
             [
              0.8888888888888888,
              "#fdca26"
             ],
             [
              1,
              "#f0f921"
             ]
            ],
            "type": "histogram2d"
           }
          ],
          "histogram2dcontour": [
           {
            "colorbar": {
             "outlinewidth": 0,
             "ticks": ""
            },
            "colorscale": [
             [
              0,
              "#0d0887"
             ],
             [
              0.1111111111111111,
              "#46039f"
             ],
             [
              0.2222222222222222,
              "#7201a8"
             ],
             [
              0.3333333333333333,
              "#9c179e"
             ],
             [
              0.4444444444444444,
              "#bd3786"
             ],
             [
              0.5555555555555556,
              "#d8576b"
             ],
             [
              0.6666666666666666,
              "#ed7953"
             ],
             [
              0.7777777777777778,
              "#fb9f3a"
             ],
             [
              0.8888888888888888,
              "#fdca26"
             ],
             [
              1,
              "#f0f921"
             ]
            ],
            "type": "histogram2dcontour"
           }
          ],
          "mesh3d": [
           {
            "colorbar": {
             "outlinewidth": 0,
             "ticks": ""
            },
            "type": "mesh3d"
           }
          ],
          "parcoords": [
           {
            "line": {
             "colorbar": {
              "outlinewidth": 0,
              "ticks": ""
             }
            },
            "type": "parcoords"
           }
          ],
          "pie": [
           {
            "automargin": true,
            "type": "pie"
           }
          ],
          "scatter": [
           {
            "marker": {
             "colorbar": {
              "outlinewidth": 0,
              "ticks": ""
             }
            },
            "type": "scatter"
           }
          ],
          "scatter3d": [
           {
            "line": {
             "colorbar": {
              "outlinewidth": 0,
              "ticks": ""
             }
            },
            "marker": {
             "colorbar": {
              "outlinewidth": 0,
              "ticks": ""
             }
            },
            "type": "scatter3d"
           }
          ],
          "scattercarpet": [
           {
            "marker": {
             "colorbar": {
              "outlinewidth": 0,
              "ticks": ""
             }
            },
            "type": "scattercarpet"
           }
          ],
          "scattergeo": [
           {
            "marker": {
             "colorbar": {
              "outlinewidth": 0,
              "ticks": ""
             }
            },
            "type": "scattergeo"
           }
          ],
          "scattergl": [
           {
            "marker": {
             "colorbar": {
              "outlinewidth": 0,
              "ticks": ""
             }
            },
            "type": "scattergl"
           }
          ],
          "scattermapbox": [
           {
            "marker": {
             "colorbar": {
              "outlinewidth": 0,
              "ticks": ""
             }
            },
            "type": "scattermapbox"
           }
          ],
          "scatterpolar": [
           {
            "marker": {
             "colorbar": {
              "outlinewidth": 0,
              "ticks": ""
             }
            },
            "type": "scatterpolar"
           }
          ],
          "scatterpolargl": [
           {
            "marker": {
             "colorbar": {
              "outlinewidth": 0,
              "ticks": ""
             }
            },
            "type": "scatterpolargl"
           }
          ],
          "scatterternary": [
           {
            "marker": {
             "colorbar": {
              "outlinewidth": 0,
              "ticks": ""
             }
            },
            "type": "scatterternary"
           }
          ],
          "surface": [
           {
            "colorbar": {
             "outlinewidth": 0,
             "ticks": ""
            },
            "colorscale": [
             [
              0,
              "#0d0887"
             ],
             [
              0.1111111111111111,
              "#46039f"
             ],
             [
              0.2222222222222222,
              "#7201a8"
             ],
             [
              0.3333333333333333,
              "#9c179e"
             ],
             [
              0.4444444444444444,
              "#bd3786"
             ],
             [
              0.5555555555555556,
              "#d8576b"
             ],
             [
              0.6666666666666666,
              "#ed7953"
             ],
             [
              0.7777777777777778,
              "#fb9f3a"
             ],
             [
              0.8888888888888888,
              "#fdca26"
             ],
             [
              1,
              "#f0f921"
             ]
            ],
            "type": "surface"
           }
          ],
          "table": [
           {
            "cells": {
             "fill": {
              "color": "#EBF0F8"
             },
             "line": {
              "color": "white"
             }
            },
            "header": {
             "fill": {
              "color": "#C8D4E3"
             },
             "line": {
              "color": "white"
             }
            },
            "type": "table"
           }
          ]
         },
         "layout": {
          "annotationdefaults": {
           "arrowcolor": "#2a3f5f",
           "arrowhead": 0,
           "arrowwidth": 1
          },
          "coloraxis": {
           "colorbar": {
            "outlinewidth": 0,
            "ticks": ""
           }
          },
          "colorscale": {
           "diverging": [
            [
             0,
             "#8e0152"
            ],
            [
             0.1,
             "#c51b7d"
            ],
            [
             0.2,
             "#de77ae"
            ],
            [
             0.3,
             "#f1b6da"
            ],
            [
             0.4,
             "#fde0ef"
            ],
            [
             0.5,
             "#f7f7f7"
            ],
            [
             0.6,
             "#e6f5d0"
            ],
            [
             0.7,
             "#b8e186"
            ],
            [
             0.8,
             "#7fbc41"
            ],
            [
             0.9,
             "#4d9221"
            ],
            [
             1,
             "#276419"
            ]
           ],
           "sequential": [
            [
             0,
             "#0d0887"
            ],
            [
             0.1111111111111111,
             "#46039f"
            ],
            [
             0.2222222222222222,
             "#7201a8"
            ],
            [
             0.3333333333333333,
             "#9c179e"
            ],
            [
             0.4444444444444444,
             "#bd3786"
            ],
            [
             0.5555555555555556,
             "#d8576b"
            ],
            [
             0.6666666666666666,
             "#ed7953"
            ],
            [
             0.7777777777777778,
             "#fb9f3a"
            ],
            [
             0.8888888888888888,
             "#fdca26"
            ],
            [
             1,
             "#f0f921"
            ]
           ],
           "sequentialminus": [
            [
             0,
             "#0d0887"
            ],
            [
             0.1111111111111111,
             "#46039f"
            ],
            [
             0.2222222222222222,
             "#7201a8"
            ],
            [
             0.3333333333333333,
             "#9c179e"
            ],
            [
             0.4444444444444444,
             "#bd3786"
            ],
            [
             0.5555555555555556,
             "#d8576b"
            ],
            [
             0.6666666666666666,
             "#ed7953"
            ],
            [
             0.7777777777777778,
             "#fb9f3a"
            ],
            [
             0.8888888888888888,
             "#fdca26"
            ],
            [
             1,
             "#f0f921"
            ]
           ]
          },
          "colorway": [
           "#636efa",
           "#EF553B",
           "#00cc96",
           "#ab63fa",
           "#FFA15A",
           "#19d3f3",
           "#FF6692",
           "#B6E880",
           "#FF97FF",
           "#FECB52"
          ],
          "font": {
           "color": "#2a3f5f"
          },
          "geo": {
           "bgcolor": "white",
           "lakecolor": "white",
           "landcolor": "#E5ECF6",
           "showlakes": true,
           "showland": true,
           "subunitcolor": "white"
          },
          "hoverlabel": {
           "align": "left"
          },
          "hovermode": "closest",
          "mapbox": {
           "style": "light"
          },
          "paper_bgcolor": "white",
          "plot_bgcolor": "#E5ECF6",
          "polar": {
           "angularaxis": {
            "gridcolor": "white",
            "linecolor": "white",
            "ticks": ""
           },
           "bgcolor": "#E5ECF6",
           "radialaxis": {
            "gridcolor": "white",
            "linecolor": "white",
            "ticks": ""
           }
          },
          "scene": {
           "xaxis": {
            "backgroundcolor": "#E5ECF6",
            "gridcolor": "white",
            "gridwidth": 2,
            "linecolor": "white",
            "showbackground": true,
            "ticks": "",
            "zerolinecolor": "white"
           },
           "yaxis": {
            "backgroundcolor": "#E5ECF6",
            "gridcolor": "white",
            "gridwidth": 2,
            "linecolor": "white",
            "showbackground": true,
            "ticks": "",
            "zerolinecolor": "white"
           },
           "zaxis": {
            "backgroundcolor": "#E5ECF6",
            "gridcolor": "white",
            "gridwidth": 2,
            "linecolor": "white",
            "showbackground": true,
            "ticks": "",
            "zerolinecolor": "white"
           }
          },
          "shapedefaults": {
           "line": {
            "color": "#2a3f5f"
           }
          },
          "ternary": {
           "aaxis": {
            "gridcolor": "white",
            "linecolor": "white",
            "ticks": ""
           },
           "baxis": {
            "gridcolor": "white",
            "linecolor": "white",
            "ticks": ""
           },
           "bgcolor": "#E5ECF6",
           "caxis": {
            "gridcolor": "white",
            "linecolor": "white",
            "ticks": ""
           }
          },
          "title": {
           "x": 0.05
          },
          "xaxis": {
           "automargin": true,
           "gridcolor": "white",
           "linecolor": "white",
           "ticks": "",
           "title": {
            "standoff": 15
           },
           "zerolinecolor": "white",
           "zerolinewidth": 2
          },
          "yaxis": {
           "automargin": true,
           "gridcolor": "white",
           "linecolor": "white",
           "ticks": "",
           "title": {
            "standoff": 15
           },
           "zerolinecolor": "white",
           "zerolinewidth": 2
          }
         }
        },
        "title": {
         "font": {
          "color": "#4D5663"
         }
        },
        "xaxis": {
         "gridcolor": "#E1E5ED",
         "showgrid": true,
         "tickfont": {
          "color": "#4D5663"
         },
         "title": {
          "font": {
           "color": "#4D5663"
          },
          "text": ""
         },
         "zerolinecolor": "#E1E5ED"
        },
        "yaxis": {
         "gridcolor": "#E1E5ED",
         "showgrid": true,
         "tickfont": {
          "color": "#4D5663"
         },
         "title": {
          "font": {
           "color": "#4D5663"
          },
          "text": ""
         },
         "zerolinecolor": "#E1E5ED"
        }
       }
      },
      "text/html": [
       "<div>\n",
       "        \n",
       "        \n",
       "            <div id=\"8dc31748-c664-45c6-8a2f-ae2402914a6d\" class=\"plotly-graph-div\" style=\"height:525px; width:100%;\"></div>\n",
       "            <script type=\"text/javascript\">\n",
       "                require([\"plotly\"], function(Plotly) {\n",
       "                    window.PLOTLYENV=window.PLOTLYENV || {};\n",
       "                    window.PLOTLYENV.BASE_URL='https://plot.ly';\n",
       "                    \n",
       "                if (document.getElementById(\"8dc31748-c664-45c6-8a2f-ae2402914a6d\")) {\n",
       "                    Plotly.newPlot(\n",
       "                        '8dc31748-c664-45c6-8a2f-ae2402914a6d',\n",
       "                        [{\"colorscale\": [[0.0, \"rgb(255, 153, 51)\"], [0.1111111111111111, \"rgb(55, 128, 191)\"], [0.2222222222222222, \"rgb(50, 171, 96)\"], [0.3333333333333333, \"rgb(128, 0, 128)\"], [0.4444444444444444, \"rgb(219, 64, 82)\"], [0.5555555555555556, \"rgb(0, 128, 128)\"], [0.6666666666666666, \"rgb(255, 255, 51)\"], [0.7777777777777778, \"rgb(128, 128, 0)\"], [0.8888888888888888, \"rgb(251, 128, 114)\"], [1.0, \"rgb(128, 177, 211)\"]], \"type\": \"surface\", \"x\": [0, 1, 2, 3, 4], \"y\": [\"x\", \"y\", \"z\"], \"z\": [[1, 2, 3, 4, 5], [10, 20, 30, 20, 10], [5, 4, 3, 2, 1]]}],\n",
       "                        {\"legend\": {\"bgcolor\": \"#F5F6F9\", \"font\": {\"color\": \"#4D5663\"}}, \"paper_bgcolor\": \"#F5F6F9\", \"plot_bgcolor\": \"#F5F6F9\", \"template\": {\"data\": {\"bar\": [{\"error_x\": {\"color\": \"#2a3f5f\"}, \"error_y\": {\"color\": \"#2a3f5f\"}, \"marker\": {\"line\": {\"color\": \"#E5ECF6\", \"width\": 0.5}}, \"type\": \"bar\"}], \"barpolar\": [{\"marker\": {\"line\": {\"color\": \"#E5ECF6\", \"width\": 0.5}}, \"type\": \"barpolar\"}], \"carpet\": [{\"aaxis\": {\"endlinecolor\": \"#2a3f5f\", \"gridcolor\": \"white\", \"linecolor\": \"white\", \"minorgridcolor\": \"white\", \"startlinecolor\": \"#2a3f5f\"}, \"baxis\": {\"endlinecolor\": \"#2a3f5f\", \"gridcolor\": \"white\", \"linecolor\": \"white\", \"minorgridcolor\": \"white\", \"startlinecolor\": \"#2a3f5f\"}, \"type\": \"carpet\"}], \"choropleth\": [{\"colorbar\": {\"outlinewidth\": 0, \"ticks\": \"\"}, \"type\": \"choropleth\"}], \"contour\": [{\"colorbar\": {\"outlinewidth\": 0, \"ticks\": \"\"}, \"colorscale\": [[0.0, \"#0d0887\"], [0.1111111111111111, \"#46039f\"], [0.2222222222222222, \"#7201a8\"], [0.3333333333333333, \"#9c179e\"], [0.4444444444444444, \"#bd3786\"], [0.5555555555555556, \"#d8576b\"], [0.6666666666666666, \"#ed7953\"], [0.7777777777777778, \"#fb9f3a\"], [0.8888888888888888, \"#fdca26\"], [1.0, \"#f0f921\"]], \"type\": \"contour\"}], \"contourcarpet\": [{\"colorbar\": {\"outlinewidth\": 0, \"ticks\": \"\"}, \"type\": \"contourcarpet\"}], \"heatmap\": [{\"colorbar\": {\"outlinewidth\": 0, \"ticks\": \"\"}, \"colorscale\": [[0.0, \"#0d0887\"], [0.1111111111111111, \"#46039f\"], [0.2222222222222222, \"#7201a8\"], [0.3333333333333333, \"#9c179e\"], [0.4444444444444444, \"#bd3786\"], [0.5555555555555556, \"#d8576b\"], [0.6666666666666666, \"#ed7953\"], [0.7777777777777778, \"#fb9f3a\"], [0.8888888888888888, \"#fdca26\"], [1.0, \"#f0f921\"]], \"type\": \"heatmap\"}], \"heatmapgl\": [{\"colorbar\": {\"outlinewidth\": 0, \"ticks\": \"\"}, \"colorscale\": [[0.0, \"#0d0887\"], [0.1111111111111111, \"#46039f\"], [0.2222222222222222, \"#7201a8\"], [0.3333333333333333, \"#9c179e\"], [0.4444444444444444, \"#bd3786\"], [0.5555555555555556, \"#d8576b\"], [0.6666666666666666, \"#ed7953\"], [0.7777777777777778, \"#fb9f3a\"], [0.8888888888888888, \"#fdca26\"], [1.0, \"#f0f921\"]], \"type\": \"heatmapgl\"}], \"histogram\": [{\"marker\": {\"colorbar\": {\"outlinewidth\": 0, \"ticks\": \"\"}}, \"type\": \"histogram\"}], \"histogram2d\": [{\"colorbar\": {\"outlinewidth\": 0, \"ticks\": \"\"}, \"colorscale\": [[0.0, \"#0d0887\"], [0.1111111111111111, \"#46039f\"], [0.2222222222222222, \"#7201a8\"], [0.3333333333333333, \"#9c179e\"], [0.4444444444444444, \"#bd3786\"], [0.5555555555555556, \"#d8576b\"], [0.6666666666666666, \"#ed7953\"], [0.7777777777777778, \"#fb9f3a\"], [0.8888888888888888, \"#fdca26\"], [1.0, \"#f0f921\"]], \"type\": \"histogram2d\"}], \"histogram2dcontour\": [{\"colorbar\": {\"outlinewidth\": 0, \"ticks\": \"\"}, \"colorscale\": [[0.0, \"#0d0887\"], [0.1111111111111111, \"#46039f\"], [0.2222222222222222, \"#7201a8\"], [0.3333333333333333, \"#9c179e\"], [0.4444444444444444, \"#bd3786\"], [0.5555555555555556, \"#d8576b\"], [0.6666666666666666, \"#ed7953\"], [0.7777777777777778, \"#fb9f3a\"], [0.8888888888888888, \"#fdca26\"], [1.0, \"#f0f921\"]], \"type\": \"histogram2dcontour\"}], \"mesh3d\": [{\"colorbar\": {\"outlinewidth\": 0, \"ticks\": \"\"}, \"type\": \"mesh3d\"}], \"parcoords\": [{\"line\": {\"colorbar\": {\"outlinewidth\": 0, \"ticks\": \"\"}}, \"type\": \"parcoords\"}], \"pie\": [{\"automargin\": true, \"type\": \"pie\"}], \"scatter\": [{\"marker\": {\"colorbar\": {\"outlinewidth\": 0, \"ticks\": \"\"}}, \"type\": \"scatter\"}], \"scatter3d\": [{\"line\": {\"colorbar\": {\"outlinewidth\": 0, \"ticks\": \"\"}}, \"marker\": {\"colorbar\": {\"outlinewidth\": 0, \"ticks\": \"\"}}, \"type\": \"scatter3d\"}], \"scattercarpet\": [{\"marker\": {\"colorbar\": {\"outlinewidth\": 0, \"ticks\": \"\"}}, \"type\": \"scattercarpet\"}], \"scattergeo\": [{\"marker\": {\"colorbar\": {\"outlinewidth\": 0, \"ticks\": \"\"}}, \"type\": \"scattergeo\"}], \"scattergl\": [{\"marker\": {\"colorbar\": {\"outlinewidth\": 0, \"ticks\": \"\"}}, \"type\": \"scattergl\"}], \"scattermapbox\": [{\"marker\": {\"colorbar\": {\"outlinewidth\": 0, \"ticks\": \"\"}}, \"type\": \"scattermapbox\"}], \"scatterpolar\": [{\"marker\": {\"colorbar\": {\"outlinewidth\": 0, \"ticks\": \"\"}}, \"type\": \"scatterpolar\"}], \"scatterpolargl\": [{\"marker\": {\"colorbar\": {\"outlinewidth\": 0, \"ticks\": \"\"}}, \"type\": \"scatterpolargl\"}], \"scatterternary\": [{\"marker\": {\"colorbar\": {\"outlinewidth\": 0, \"ticks\": \"\"}}, \"type\": \"scatterternary\"}], \"surface\": [{\"colorbar\": {\"outlinewidth\": 0, \"ticks\": \"\"}, \"colorscale\": [[0.0, \"#0d0887\"], [0.1111111111111111, \"#46039f\"], [0.2222222222222222, \"#7201a8\"], [0.3333333333333333, \"#9c179e\"], [0.4444444444444444, \"#bd3786\"], [0.5555555555555556, \"#d8576b\"], [0.6666666666666666, \"#ed7953\"], [0.7777777777777778, \"#fb9f3a\"], [0.8888888888888888, \"#fdca26\"], [1.0, \"#f0f921\"]], \"type\": \"surface\"}], \"table\": [{\"cells\": {\"fill\": {\"color\": \"#EBF0F8\"}, \"line\": {\"color\": \"white\"}}, \"header\": {\"fill\": {\"color\": \"#C8D4E3\"}, \"line\": {\"color\": \"white\"}}, \"type\": \"table\"}]}, \"layout\": {\"annotationdefaults\": {\"arrowcolor\": \"#2a3f5f\", \"arrowhead\": 0, \"arrowwidth\": 1}, \"coloraxis\": {\"colorbar\": {\"outlinewidth\": 0, \"ticks\": \"\"}}, \"colorscale\": {\"diverging\": [[0, \"#8e0152\"], [0.1, \"#c51b7d\"], [0.2, \"#de77ae\"], [0.3, \"#f1b6da\"], [0.4, \"#fde0ef\"], [0.5, \"#f7f7f7\"], [0.6, \"#e6f5d0\"], [0.7, \"#b8e186\"], [0.8, \"#7fbc41\"], [0.9, \"#4d9221\"], [1, \"#276419\"]], \"sequential\": [[0.0, \"#0d0887\"], [0.1111111111111111, \"#46039f\"], [0.2222222222222222, \"#7201a8\"], [0.3333333333333333, \"#9c179e\"], [0.4444444444444444, \"#bd3786\"], [0.5555555555555556, \"#d8576b\"], [0.6666666666666666, \"#ed7953\"], [0.7777777777777778, \"#fb9f3a\"], [0.8888888888888888, \"#fdca26\"], [1.0, \"#f0f921\"]], \"sequentialminus\": [[0.0, \"#0d0887\"], [0.1111111111111111, \"#46039f\"], [0.2222222222222222, \"#7201a8\"], [0.3333333333333333, \"#9c179e\"], [0.4444444444444444, \"#bd3786\"], [0.5555555555555556, \"#d8576b\"], [0.6666666666666666, \"#ed7953\"], [0.7777777777777778, \"#fb9f3a\"], [0.8888888888888888, \"#fdca26\"], [1.0, \"#f0f921\"]]}, \"colorway\": [\"#636efa\", \"#EF553B\", \"#00cc96\", \"#ab63fa\", \"#FFA15A\", \"#19d3f3\", \"#FF6692\", \"#B6E880\", \"#FF97FF\", \"#FECB52\"], \"font\": {\"color\": \"#2a3f5f\"}, \"geo\": {\"bgcolor\": \"white\", \"lakecolor\": \"white\", \"landcolor\": \"#E5ECF6\", \"showlakes\": true, \"showland\": true, \"subunitcolor\": \"white\"}, \"hoverlabel\": {\"align\": \"left\"}, \"hovermode\": \"closest\", \"mapbox\": {\"style\": \"light\"}, \"paper_bgcolor\": \"white\", \"plot_bgcolor\": \"#E5ECF6\", \"polar\": {\"angularaxis\": {\"gridcolor\": \"white\", \"linecolor\": \"white\", \"ticks\": \"\"}, \"bgcolor\": \"#E5ECF6\", \"radialaxis\": {\"gridcolor\": \"white\", \"linecolor\": \"white\", \"ticks\": \"\"}}, \"scene\": {\"xaxis\": {\"backgroundcolor\": \"#E5ECF6\", \"gridcolor\": \"white\", \"gridwidth\": 2, \"linecolor\": \"white\", \"showbackground\": true, \"ticks\": \"\", \"zerolinecolor\": \"white\"}, \"yaxis\": {\"backgroundcolor\": \"#E5ECF6\", \"gridcolor\": \"white\", \"gridwidth\": 2, \"linecolor\": \"white\", \"showbackground\": true, \"ticks\": \"\", \"zerolinecolor\": \"white\"}, \"zaxis\": {\"backgroundcolor\": \"#E5ECF6\", \"gridcolor\": \"white\", \"gridwidth\": 2, \"linecolor\": \"white\", \"showbackground\": true, \"ticks\": \"\", \"zerolinecolor\": \"white\"}}, \"shapedefaults\": {\"line\": {\"color\": \"#2a3f5f\"}}, \"ternary\": {\"aaxis\": {\"gridcolor\": \"white\", \"linecolor\": \"white\", \"ticks\": \"\"}, \"baxis\": {\"gridcolor\": \"white\", \"linecolor\": \"white\", \"ticks\": \"\"}, \"bgcolor\": \"#E5ECF6\", \"caxis\": {\"gridcolor\": \"white\", \"linecolor\": \"white\", \"ticks\": \"\"}}, \"title\": {\"x\": 0.05}, \"xaxis\": {\"automargin\": true, \"gridcolor\": \"white\", \"linecolor\": \"white\", \"ticks\": \"\", \"title\": {\"standoff\": 15}, \"zerolinecolor\": \"white\", \"zerolinewidth\": 2}, \"yaxis\": {\"automargin\": true, \"gridcolor\": \"white\", \"linecolor\": \"white\", \"ticks\": \"\", \"title\": {\"standoff\": 15}, \"zerolinecolor\": \"white\", \"zerolinewidth\": 2}}}, \"title\": {\"font\": {\"color\": \"#4D5663\"}}, \"xaxis\": {\"gridcolor\": \"#E1E5ED\", \"showgrid\": true, \"tickfont\": {\"color\": \"#4D5663\"}, \"title\": {\"font\": {\"color\": \"#4D5663\"}, \"text\": \"\"}, \"zerolinecolor\": \"#E1E5ED\"}, \"yaxis\": {\"gridcolor\": \"#E1E5ED\", \"showgrid\": true, \"tickfont\": {\"color\": \"#4D5663\"}, \"title\": {\"font\": {\"color\": \"#4D5663\"}, \"text\": \"\"}, \"zerolinecolor\": \"#E1E5ED\"}},\n",
       "                        {\"showLink\": true, \"linkText\": \"Export to plot.ly\", \"plotlyServerURL\": \"https://plot.ly\", \"responsive\": true}\n",
       "                    ).then(function(){\n",
       "                            \n",
       "var gd = document.getElementById('8dc31748-c664-45c6-8a2f-ae2402914a6d');\n",
       "var x = new MutationObserver(function (mutations, observer) {{\n",
       "        var display = window.getComputedStyle(gd).display;\n",
       "        if (!display || display === 'none') {{\n",
       "            console.log([gd, 'removed!']);\n",
       "            Plotly.purge(gd);\n",
       "            observer.disconnect();\n",
       "        }}\n",
       "}});\n",
       "\n",
       "// Listen for the removal of the full notebook cells\n",
       "var notebookContainer = gd.closest('#notebook-container');\n",
       "if (notebookContainer) {{\n",
       "    x.observe(notebookContainer, {childList: true});\n",
       "}}\n",
       "\n",
       "// Listen for the clearing of the current output cell\n",
       "var outputEl = gd.closest('.output');\n",
       "if (outputEl) {{\n",
       "    x.observe(outputEl, {childList: true});\n",
       "}}\n",
       "\n",
       "                        })\n",
       "                };\n",
       "                });\n",
       "            </script>\n",
       "        </div>"
      ]
     },
     "metadata": {},
     "output_type": "display_data"
    }
   ],
   "source": [
    "df3 = pd.DataFrame({'x':[1,2,3,4,5],'y':[10,20,30,20,10],'z':[5,4,3,2,1]})\n",
    "df3.iplot(kind='surface')"
   ]
  },
  {
   "cell_type": "code",
   "execution_count": 57,
   "metadata": {},
   "outputs": [
    {
     "data": {
      "application/vnd.plotly.v1+json": {
       "config": {
        "linkText": "Export to plot.ly",
        "plotlyServerURL": "https://plot.ly",
        "showLink": true
       },
       "data": [
        {
         "histfunc": "count",
         "histnorm": "",
         "marker": {
          "color": "rgba(255, 153, 51, 1.0)",
          "line": {
           "color": "#4D5663",
           "width": 1.3
          }
         },
         "name": "A",
         "opacity": 0.8,
         "orientation": "v",
         "type": "histogram",
         "x": [
          0.7184152132165522,
          -0.07374414338489427,
          1.3263250429191824,
          -0.6233809421936106,
          0.4742001274446034,
          -0.7437583934588065,
          -0.20562971175271394,
          -0.7912846928747075,
          -0.02702597232497973,
          0.6772742353991352,
          0.2488440802940327,
          -1.2274686431849393,
          1.254910728577048,
          1.6838038342892818,
          0.47921977443036406,
          -0.5022224516406076,
          -1.8745692527395976,
          1.9627993771005607,
          0.9560756328354928,
          -0.04359285288303292,
          0.6415439448675059,
          0.27977343160563767,
          -2.768644598762758,
          0.05983857939039157,
          1.3679925048742787,
          -0.10294575790551182,
          -0.2699661091353834,
          -1.2763005264901317,
          -0.605644482213025,
          0.4211936567382423,
          2.266041396863613,
          1.185381051419868,
          -1.0917455888736831,
          0.2027947575196413,
          -0.17045514705133089,
          0.8437438075614856,
          -0.23401836744499166,
          -0.5242333839647763,
          -0.31142091937150457,
          -0.9076703163927581,
          -1.837456312116648,
          -2.024823808987759,
          -1.8596832253495934,
          -0.35995344488929754,
          -0.1560997144255655,
          -0.24862232873532386,
          -0.5330745736291332,
          0.42241547345708086,
          0.6285806273053471,
          -0.5757328837855584,
          0.7320221470593188,
          -0.78920439441667,
          0.24399057919069703,
          1.403681725672624,
          -0.36497311179059233,
          -1.2035747602760776,
          -0.6799866071005245,
          -1.383687431161648,
          1.7204180525409456,
          0.7798432843313373,
          -1.746971525420941,
          -1.0509291587207734,
          0.21952730859203842,
          0.5153002455921952,
          0.662698390986974,
          -1.3706491187827667,
          -0.18692234413642134,
          0.20435033186983825,
          0.9577209134936103,
          -1.7580578520641799,
          1.934397248202235,
          -0.2419679983579328,
          -1.3560222792664143,
          -1.6380730147438929,
          0.542730758603566,
          -0.06911316253794753,
          0.9256442751713155,
          -1.2929221940251012,
          -0.922538122771601,
          1.0787188690915535,
          1.5772741845128695,
          0.8298802627756018,
          1.1312577460069513,
          0.5757750599947684,
          0.8140317333587312,
          -0.8666171022168118,
          -0.09076294738478492,
          0.7675522138256289,
          -0.1310600103165868,
          -0.700574932350856,
          0.4347324878153614,
          -1.8128643854407822,
          -0.28217756256423554,
          -1.1676894050183275,
          0.5138668046894407,
          -1.1695517800152062,
          1.0658983671799178,
          0.4561467894013599,
          -1.0421540922213297,
          -0.0011269428682303502
         ]
        }
       ],
       "layout": {
        "barmode": "overlay",
        "legend": {
         "bgcolor": "#F5F6F9",
         "font": {
          "color": "#4D5663"
         }
        },
        "paper_bgcolor": "#F5F6F9",
        "plot_bgcolor": "#F5F6F9",
        "template": {
         "data": {
          "bar": [
           {
            "error_x": {
             "color": "#2a3f5f"
            },
            "error_y": {
             "color": "#2a3f5f"
            },
            "marker": {
             "line": {
              "color": "#E5ECF6",
              "width": 0.5
             }
            },
            "type": "bar"
           }
          ],
          "barpolar": [
           {
            "marker": {
             "line": {
              "color": "#E5ECF6",
              "width": 0.5
             }
            },
            "type": "barpolar"
           }
          ],
          "carpet": [
           {
            "aaxis": {
             "endlinecolor": "#2a3f5f",
             "gridcolor": "white",
             "linecolor": "white",
             "minorgridcolor": "white",
             "startlinecolor": "#2a3f5f"
            },
            "baxis": {
             "endlinecolor": "#2a3f5f",
             "gridcolor": "white",
             "linecolor": "white",
             "minorgridcolor": "white",
             "startlinecolor": "#2a3f5f"
            },
            "type": "carpet"
           }
          ],
          "choropleth": [
           {
            "colorbar": {
             "outlinewidth": 0,
             "ticks": ""
            },
            "type": "choropleth"
           }
          ],
          "contour": [
           {
            "colorbar": {
             "outlinewidth": 0,
             "ticks": ""
            },
            "colorscale": [
             [
              0,
              "#0d0887"
             ],
             [
              0.1111111111111111,
              "#46039f"
             ],
             [
              0.2222222222222222,
              "#7201a8"
             ],
             [
              0.3333333333333333,
              "#9c179e"
             ],
             [
              0.4444444444444444,
              "#bd3786"
             ],
             [
              0.5555555555555556,
              "#d8576b"
             ],
             [
              0.6666666666666666,
              "#ed7953"
             ],
             [
              0.7777777777777778,
              "#fb9f3a"
             ],
             [
              0.8888888888888888,
              "#fdca26"
             ],
             [
              1,
              "#f0f921"
             ]
            ],
            "type": "contour"
           }
          ],
          "contourcarpet": [
           {
            "colorbar": {
             "outlinewidth": 0,
             "ticks": ""
            },
            "type": "contourcarpet"
           }
          ],
          "heatmap": [
           {
            "colorbar": {
             "outlinewidth": 0,
             "ticks": ""
            },
            "colorscale": [
             [
              0,
              "#0d0887"
             ],
             [
              0.1111111111111111,
              "#46039f"
             ],
             [
              0.2222222222222222,
              "#7201a8"
             ],
             [
              0.3333333333333333,
              "#9c179e"
             ],
             [
              0.4444444444444444,
              "#bd3786"
             ],
             [
              0.5555555555555556,
              "#d8576b"
             ],
             [
              0.6666666666666666,
              "#ed7953"
             ],
             [
              0.7777777777777778,
              "#fb9f3a"
             ],
             [
              0.8888888888888888,
              "#fdca26"
             ],
             [
              1,
              "#f0f921"
             ]
            ],
            "type": "heatmap"
           }
          ],
          "heatmapgl": [
           {
            "colorbar": {
             "outlinewidth": 0,
             "ticks": ""
            },
            "colorscale": [
             [
              0,
              "#0d0887"
             ],
             [
              0.1111111111111111,
              "#46039f"
             ],
             [
              0.2222222222222222,
              "#7201a8"
             ],
             [
              0.3333333333333333,
              "#9c179e"
             ],
             [
              0.4444444444444444,
              "#bd3786"
             ],
             [
              0.5555555555555556,
              "#d8576b"
             ],
             [
              0.6666666666666666,
              "#ed7953"
             ],
             [
              0.7777777777777778,
              "#fb9f3a"
             ],
             [
              0.8888888888888888,
              "#fdca26"
             ],
             [
              1,
              "#f0f921"
             ]
            ],
            "type": "heatmapgl"
           }
          ],
          "histogram": [
           {
            "marker": {
             "colorbar": {
              "outlinewidth": 0,
              "ticks": ""
             }
            },
            "type": "histogram"
           }
          ],
          "histogram2d": [
           {
            "colorbar": {
             "outlinewidth": 0,
             "ticks": ""
            },
            "colorscale": [
             [
              0,
              "#0d0887"
             ],
             [
              0.1111111111111111,
              "#46039f"
             ],
             [
              0.2222222222222222,
              "#7201a8"
             ],
             [
              0.3333333333333333,
              "#9c179e"
             ],
             [
              0.4444444444444444,
              "#bd3786"
             ],
             [
              0.5555555555555556,
              "#d8576b"
             ],
             [
              0.6666666666666666,
              "#ed7953"
             ],
             [
              0.7777777777777778,
              "#fb9f3a"
             ],
             [
              0.8888888888888888,
              "#fdca26"
             ],
             [
              1,
              "#f0f921"
             ]
            ],
            "type": "histogram2d"
           }
          ],
          "histogram2dcontour": [
           {
            "colorbar": {
             "outlinewidth": 0,
             "ticks": ""
            },
            "colorscale": [
             [
              0,
              "#0d0887"
             ],
             [
              0.1111111111111111,
              "#46039f"
             ],
             [
              0.2222222222222222,
              "#7201a8"
             ],
             [
              0.3333333333333333,
              "#9c179e"
             ],
             [
              0.4444444444444444,
              "#bd3786"
             ],
             [
              0.5555555555555556,
              "#d8576b"
             ],
             [
              0.6666666666666666,
              "#ed7953"
             ],
             [
              0.7777777777777778,
              "#fb9f3a"
             ],
             [
              0.8888888888888888,
              "#fdca26"
             ],
             [
              1,
              "#f0f921"
             ]
            ],
            "type": "histogram2dcontour"
           }
          ],
          "mesh3d": [
           {
            "colorbar": {
             "outlinewidth": 0,
             "ticks": ""
            },
            "type": "mesh3d"
           }
          ],
          "parcoords": [
           {
            "line": {
             "colorbar": {
              "outlinewidth": 0,
              "ticks": ""
             }
            },
            "type": "parcoords"
           }
          ],
          "pie": [
           {
            "automargin": true,
            "type": "pie"
           }
          ],
          "scatter": [
           {
            "marker": {
             "colorbar": {
              "outlinewidth": 0,
              "ticks": ""
             }
            },
            "type": "scatter"
           }
          ],
          "scatter3d": [
           {
            "line": {
             "colorbar": {
              "outlinewidth": 0,
              "ticks": ""
             }
            },
            "marker": {
             "colorbar": {
              "outlinewidth": 0,
              "ticks": ""
             }
            },
            "type": "scatter3d"
           }
          ],
          "scattercarpet": [
           {
            "marker": {
             "colorbar": {
              "outlinewidth": 0,
              "ticks": ""
             }
            },
            "type": "scattercarpet"
           }
          ],
          "scattergeo": [
           {
            "marker": {
             "colorbar": {
              "outlinewidth": 0,
              "ticks": ""
             }
            },
            "type": "scattergeo"
           }
          ],
          "scattergl": [
           {
            "marker": {
             "colorbar": {
              "outlinewidth": 0,
              "ticks": ""
             }
            },
            "type": "scattergl"
           }
          ],
          "scattermapbox": [
           {
            "marker": {
             "colorbar": {
              "outlinewidth": 0,
              "ticks": ""
             }
            },
            "type": "scattermapbox"
           }
          ],
          "scatterpolar": [
           {
            "marker": {
             "colorbar": {
              "outlinewidth": 0,
              "ticks": ""
             }
            },
            "type": "scatterpolar"
           }
          ],
          "scatterpolargl": [
           {
            "marker": {
             "colorbar": {
              "outlinewidth": 0,
              "ticks": ""
             }
            },
            "type": "scatterpolargl"
           }
          ],
          "scatterternary": [
           {
            "marker": {
             "colorbar": {
              "outlinewidth": 0,
              "ticks": ""
             }
            },
            "type": "scatterternary"
           }
          ],
          "surface": [
           {
            "colorbar": {
             "outlinewidth": 0,
             "ticks": ""
            },
            "colorscale": [
             [
              0,
              "#0d0887"
             ],
             [
              0.1111111111111111,
              "#46039f"
             ],
             [
              0.2222222222222222,
              "#7201a8"
             ],
             [
              0.3333333333333333,
              "#9c179e"
             ],
             [
              0.4444444444444444,
              "#bd3786"
             ],
             [
              0.5555555555555556,
              "#d8576b"
             ],
             [
              0.6666666666666666,
              "#ed7953"
             ],
             [
              0.7777777777777778,
              "#fb9f3a"
             ],
             [
              0.8888888888888888,
              "#fdca26"
             ],
             [
              1,
              "#f0f921"
             ]
            ],
            "type": "surface"
           }
          ],
          "table": [
           {
            "cells": {
             "fill": {
              "color": "#EBF0F8"
             },
             "line": {
              "color": "white"
             }
            },
            "header": {
             "fill": {
              "color": "#C8D4E3"
             },
             "line": {
              "color": "white"
             }
            },
            "type": "table"
           }
          ]
         },
         "layout": {
          "annotationdefaults": {
           "arrowcolor": "#2a3f5f",
           "arrowhead": 0,
           "arrowwidth": 1
          },
          "coloraxis": {
           "colorbar": {
            "outlinewidth": 0,
            "ticks": ""
           }
          },
          "colorscale": {
           "diverging": [
            [
             0,
             "#8e0152"
            ],
            [
             0.1,
             "#c51b7d"
            ],
            [
             0.2,
             "#de77ae"
            ],
            [
             0.3,
             "#f1b6da"
            ],
            [
             0.4,
             "#fde0ef"
            ],
            [
             0.5,
             "#f7f7f7"
            ],
            [
             0.6,
             "#e6f5d0"
            ],
            [
             0.7,
             "#b8e186"
            ],
            [
             0.8,
             "#7fbc41"
            ],
            [
             0.9,
             "#4d9221"
            ],
            [
             1,
             "#276419"
            ]
           ],
           "sequential": [
            [
             0,
             "#0d0887"
            ],
            [
             0.1111111111111111,
             "#46039f"
            ],
            [
             0.2222222222222222,
             "#7201a8"
            ],
            [
             0.3333333333333333,
             "#9c179e"
            ],
            [
             0.4444444444444444,
             "#bd3786"
            ],
            [
             0.5555555555555556,
             "#d8576b"
            ],
            [
             0.6666666666666666,
             "#ed7953"
            ],
            [
             0.7777777777777778,
             "#fb9f3a"
            ],
            [
             0.8888888888888888,
             "#fdca26"
            ],
            [
             1,
             "#f0f921"
            ]
           ],
           "sequentialminus": [
            [
             0,
             "#0d0887"
            ],
            [
             0.1111111111111111,
             "#46039f"
            ],
            [
             0.2222222222222222,
             "#7201a8"
            ],
            [
             0.3333333333333333,
             "#9c179e"
            ],
            [
             0.4444444444444444,
             "#bd3786"
            ],
            [
             0.5555555555555556,
             "#d8576b"
            ],
            [
             0.6666666666666666,
             "#ed7953"
            ],
            [
             0.7777777777777778,
             "#fb9f3a"
            ],
            [
             0.8888888888888888,
             "#fdca26"
            ],
            [
             1,
             "#f0f921"
            ]
           ]
          },
          "colorway": [
           "#636efa",
           "#EF553B",
           "#00cc96",
           "#ab63fa",
           "#FFA15A",
           "#19d3f3",
           "#FF6692",
           "#B6E880",
           "#FF97FF",
           "#FECB52"
          ],
          "font": {
           "color": "#2a3f5f"
          },
          "geo": {
           "bgcolor": "white",
           "lakecolor": "white",
           "landcolor": "#E5ECF6",
           "showlakes": true,
           "showland": true,
           "subunitcolor": "white"
          },
          "hoverlabel": {
           "align": "left"
          },
          "hovermode": "closest",
          "mapbox": {
           "style": "light"
          },
          "paper_bgcolor": "white",
          "plot_bgcolor": "#E5ECF6",
          "polar": {
           "angularaxis": {
            "gridcolor": "white",
            "linecolor": "white",
            "ticks": ""
           },
           "bgcolor": "#E5ECF6",
           "radialaxis": {
            "gridcolor": "white",
            "linecolor": "white",
            "ticks": ""
           }
          },
          "scene": {
           "xaxis": {
            "backgroundcolor": "#E5ECF6",
            "gridcolor": "white",
            "gridwidth": 2,
            "linecolor": "white",
            "showbackground": true,
            "ticks": "",
            "zerolinecolor": "white"
           },
           "yaxis": {
            "backgroundcolor": "#E5ECF6",
            "gridcolor": "white",
            "gridwidth": 2,
            "linecolor": "white",
            "showbackground": true,
            "ticks": "",
            "zerolinecolor": "white"
           },
           "zaxis": {
            "backgroundcolor": "#E5ECF6",
            "gridcolor": "white",
            "gridwidth": 2,
            "linecolor": "white",
            "showbackground": true,
            "ticks": "",
            "zerolinecolor": "white"
           }
          },
          "shapedefaults": {
           "line": {
            "color": "#2a3f5f"
           }
          },
          "ternary": {
           "aaxis": {
            "gridcolor": "white",
            "linecolor": "white",
            "ticks": ""
           },
           "baxis": {
            "gridcolor": "white",
            "linecolor": "white",
            "ticks": ""
           },
           "bgcolor": "#E5ECF6",
           "caxis": {
            "gridcolor": "white",
            "linecolor": "white",
            "ticks": ""
           }
          },
          "title": {
           "x": 0.05
          },
          "xaxis": {
           "automargin": true,
           "gridcolor": "white",
           "linecolor": "white",
           "ticks": "",
           "title": {
            "standoff": 15
           },
           "zerolinecolor": "white",
           "zerolinewidth": 2
          },
          "yaxis": {
           "automargin": true,
           "gridcolor": "white",
           "linecolor": "white",
           "ticks": "",
           "title": {
            "standoff": 15
           },
           "zerolinecolor": "white",
           "zerolinewidth": 2
          }
         }
        },
        "title": {
         "font": {
          "color": "#4D5663"
         }
        },
        "xaxis": {
         "gridcolor": "#E1E5ED",
         "showgrid": true,
         "tickfont": {
          "color": "#4D5663"
         },
         "title": {
          "font": {
           "color": "#4D5663"
          },
          "text": ""
         },
         "zerolinecolor": "#E1E5ED"
        },
        "yaxis": {
         "gridcolor": "#E1E5ED",
         "showgrid": true,
         "tickfont": {
          "color": "#4D5663"
         },
         "title": {
          "font": {
           "color": "#4D5663"
          },
          "text": ""
         },
         "zerolinecolor": "#E1E5ED"
        }
       }
      },
      "text/html": [
       "<div>\n",
       "        \n",
       "        \n",
       "            <div id=\"99ef21c5-963d-48b1-a245-b004242a6654\" class=\"plotly-graph-div\" style=\"height:525px; width:100%;\"></div>\n",
       "            <script type=\"text/javascript\">\n",
       "                require([\"plotly\"], function(Plotly) {\n",
       "                    window.PLOTLYENV=window.PLOTLYENV || {};\n",
       "                    window.PLOTLYENV.BASE_URL='https://plot.ly';\n",
       "                    \n",
       "                if (document.getElementById(\"99ef21c5-963d-48b1-a245-b004242a6654\")) {\n",
       "                    Plotly.newPlot(\n",
       "                        '99ef21c5-963d-48b1-a245-b004242a6654',\n",
       "                        [{\"histfunc\": \"count\", \"histnorm\": \"\", \"marker\": {\"color\": \"rgba(255, 153, 51, 1.0)\", \"line\": {\"color\": \"#4D5663\", \"width\": 1.3}}, \"name\": \"A\", \"opacity\": 0.8, \"orientation\": \"v\", \"type\": \"histogram\", \"x\": [0.7184152132165522, -0.07374414338489427, 1.3263250429191824, -0.6233809421936106, 0.4742001274446034, -0.7437583934588065, -0.20562971175271394, -0.7912846928747075, -0.02702597232497973, 0.6772742353991352, 0.2488440802940327, -1.2274686431849393, 1.254910728577048, 1.6838038342892818, 0.47921977443036406, -0.5022224516406076, -1.8745692527395976, 1.9627993771005607, 0.9560756328354928, -0.04359285288303292, 0.6415439448675059, 0.27977343160563767, -2.768644598762758, 0.05983857939039157, 1.3679925048742787, -0.10294575790551182, -0.2699661091353834, -1.2763005264901317, -0.605644482213025, 0.4211936567382423, 2.266041396863613, 1.185381051419868, -1.0917455888736831, 0.2027947575196413, -0.17045514705133089, 0.8437438075614856, -0.23401836744499166, -0.5242333839647763, -0.31142091937150457, -0.9076703163927581, -1.837456312116648, -2.024823808987759, -1.8596832253495934, -0.35995344488929754, -0.1560997144255655, -0.24862232873532386, -0.5330745736291332, 0.42241547345708086, 0.6285806273053471, -0.5757328837855584, 0.7320221470593188, -0.78920439441667, 0.24399057919069703, 1.403681725672624, -0.36497311179059233, -1.2035747602760776, -0.6799866071005245, -1.383687431161648, 1.7204180525409456, 0.7798432843313373, -1.746971525420941, -1.0509291587207734, 0.21952730859203842, 0.5153002455921952, 0.662698390986974, -1.3706491187827667, -0.18692234413642134, 0.20435033186983825, 0.9577209134936103, -1.7580578520641799, 1.934397248202235, -0.2419679983579328, -1.3560222792664143, -1.6380730147438929, 0.542730758603566, -0.06911316253794753, 0.9256442751713155, -1.2929221940251012, -0.922538122771601, 1.0787188690915535, 1.5772741845128695, 0.8298802627756018, 1.1312577460069513, 0.5757750599947684, 0.8140317333587312, -0.8666171022168118, -0.09076294738478492, 0.7675522138256289, -0.1310600103165868, -0.700574932350856, 0.4347324878153614, -1.8128643854407822, -0.28217756256423554, -1.1676894050183275, 0.5138668046894407, -1.1695517800152062, 1.0658983671799178, 0.4561467894013599, -1.0421540922213297, -0.0011269428682303502]}],\n",
       "                        {\"barmode\": \"overlay\", \"legend\": {\"bgcolor\": \"#F5F6F9\", \"font\": {\"color\": \"#4D5663\"}}, \"paper_bgcolor\": \"#F5F6F9\", \"plot_bgcolor\": \"#F5F6F9\", \"template\": {\"data\": {\"bar\": [{\"error_x\": {\"color\": \"#2a3f5f\"}, \"error_y\": {\"color\": \"#2a3f5f\"}, \"marker\": {\"line\": {\"color\": \"#E5ECF6\", \"width\": 0.5}}, \"type\": \"bar\"}], \"barpolar\": [{\"marker\": {\"line\": {\"color\": \"#E5ECF6\", \"width\": 0.5}}, \"type\": \"barpolar\"}], \"carpet\": [{\"aaxis\": {\"endlinecolor\": \"#2a3f5f\", \"gridcolor\": \"white\", \"linecolor\": \"white\", \"minorgridcolor\": \"white\", \"startlinecolor\": \"#2a3f5f\"}, \"baxis\": {\"endlinecolor\": \"#2a3f5f\", \"gridcolor\": \"white\", \"linecolor\": \"white\", \"minorgridcolor\": \"white\", \"startlinecolor\": \"#2a3f5f\"}, \"type\": \"carpet\"}], \"choropleth\": [{\"colorbar\": {\"outlinewidth\": 0, \"ticks\": \"\"}, \"type\": \"choropleth\"}], \"contour\": [{\"colorbar\": {\"outlinewidth\": 0, \"ticks\": \"\"}, \"colorscale\": [[0.0, \"#0d0887\"], [0.1111111111111111, \"#46039f\"], [0.2222222222222222, \"#7201a8\"], [0.3333333333333333, \"#9c179e\"], [0.4444444444444444, \"#bd3786\"], [0.5555555555555556, \"#d8576b\"], [0.6666666666666666, \"#ed7953\"], [0.7777777777777778, \"#fb9f3a\"], [0.8888888888888888, \"#fdca26\"], [1.0, \"#f0f921\"]], \"type\": \"contour\"}], \"contourcarpet\": [{\"colorbar\": {\"outlinewidth\": 0, \"ticks\": \"\"}, \"type\": \"contourcarpet\"}], \"heatmap\": [{\"colorbar\": {\"outlinewidth\": 0, \"ticks\": \"\"}, \"colorscale\": [[0.0, \"#0d0887\"], [0.1111111111111111, \"#46039f\"], [0.2222222222222222, \"#7201a8\"], [0.3333333333333333, \"#9c179e\"], [0.4444444444444444, \"#bd3786\"], [0.5555555555555556, \"#d8576b\"], [0.6666666666666666, \"#ed7953\"], [0.7777777777777778, \"#fb9f3a\"], [0.8888888888888888, \"#fdca26\"], [1.0, \"#f0f921\"]], \"type\": \"heatmap\"}], \"heatmapgl\": [{\"colorbar\": {\"outlinewidth\": 0, \"ticks\": \"\"}, \"colorscale\": [[0.0, \"#0d0887\"], [0.1111111111111111, \"#46039f\"], [0.2222222222222222, \"#7201a8\"], [0.3333333333333333, \"#9c179e\"], [0.4444444444444444, \"#bd3786\"], [0.5555555555555556, \"#d8576b\"], [0.6666666666666666, \"#ed7953\"], [0.7777777777777778, \"#fb9f3a\"], [0.8888888888888888, \"#fdca26\"], [1.0, \"#f0f921\"]], \"type\": \"heatmapgl\"}], \"histogram\": [{\"marker\": {\"colorbar\": {\"outlinewidth\": 0, \"ticks\": \"\"}}, \"type\": \"histogram\"}], \"histogram2d\": [{\"colorbar\": {\"outlinewidth\": 0, \"ticks\": \"\"}, \"colorscale\": [[0.0, \"#0d0887\"], [0.1111111111111111, \"#46039f\"], [0.2222222222222222, \"#7201a8\"], [0.3333333333333333, \"#9c179e\"], [0.4444444444444444, \"#bd3786\"], [0.5555555555555556, \"#d8576b\"], [0.6666666666666666, \"#ed7953\"], [0.7777777777777778, \"#fb9f3a\"], [0.8888888888888888, \"#fdca26\"], [1.0, \"#f0f921\"]], \"type\": \"histogram2d\"}], \"histogram2dcontour\": [{\"colorbar\": {\"outlinewidth\": 0, \"ticks\": \"\"}, \"colorscale\": [[0.0, \"#0d0887\"], [0.1111111111111111, \"#46039f\"], [0.2222222222222222, \"#7201a8\"], [0.3333333333333333, \"#9c179e\"], [0.4444444444444444, \"#bd3786\"], [0.5555555555555556, \"#d8576b\"], [0.6666666666666666, \"#ed7953\"], [0.7777777777777778, \"#fb9f3a\"], [0.8888888888888888, \"#fdca26\"], [1.0, \"#f0f921\"]], \"type\": \"histogram2dcontour\"}], \"mesh3d\": [{\"colorbar\": {\"outlinewidth\": 0, \"ticks\": \"\"}, \"type\": \"mesh3d\"}], \"parcoords\": [{\"line\": {\"colorbar\": {\"outlinewidth\": 0, \"ticks\": \"\"}}, \"type\": \"parcoords\"}], \"pie\": [{\"automargin\": true, \"type\": \"pie\"}], \"scatter\": [{\"marker\": {\"colorbar\": {\"outlinewidth\": 0, \"ticks\": \"\"}}, \"type\": \"scatter\"}], \"scatter3d\": [{\"line\": {\"colorbar\": {\"outlinewidth\": 0, \"ticks\": \"\"}}, \"marker\": {\"colorbar\": {\"outlinewidth\": 0, \"ticks\": \"\"}}, \"type\": \"scatter3d\"}], \"scattercarpet\": [{\"marker\": {\"colorbar\": {\"outlinewidth\": 0, \"ticks\": \"\"}}, \"type\": \"scattercarpet\"}], \"scattergeo\": [{\"marker\": {\"colorbar\": {\"outlinewidth\": 0, \"ticks\": \"\"}}, \"type\": \"scattergeo\"}], \"scattergl\": [{\"marker\": {\"colorbar\": {\"outlinewidth\": 0, \"ticks\": \"\"}}, \"type\": \"scattergl\"}], \"scattermapbox\": [{\"marker\": {\"colorbar\": {\"outlinewidth\": 0, \"ticks\": \"\"}}, \"type\": \"scattermapbox\"}], \"scatterpolar\": [{\"marker\": {\"colorbar\": {\"outlinewidth\": 0, \"ticks\": \"\"}}, \"type\": \"scatterpolar\"}], \"scatterpolargl\": [{\"marker\": {\"colorbar\": {\"outlinewidth\": 0, \"ticks\": \"\"}}, \"type\": \"scatterpolargl\"}], \"scatterternary\": [{\"marker\": {\"colorbar\": {\"outlinewidth\": 0, \"ticks\": \"\"}}, \"type\": \"scatterternary\"}], \"surface\": [{\"colorbar\": {\"outlinewidth\": 0, \"ticks\": \"\"}, \"colorscale\": [[0.0, \"#0d0887\"], [0.1111111111111111, \"#46039f\"], [0.2222222222222222, \"#7201a8\"], [0.3333333333333333, \"#9c179e\"], [0.4444444444444444, \"#bd3786\"], [0.5555555555555556, \"#d8576b\"], [0.6666666666666666, \"#ed7953\"], [0.7777777777777778, \"#fb9f3a\"], [0.8888888888888888, \"#fdca26\"], [1.0, \"#f0f921\"]], \"type\": \"surface\"}], \"table\": [{\"cells\": {\"fill\": {\"color\": \"#EBF0F8\"}, \"line\": {\"color\": \"white\"}}, \"header\": {\"fill\": {\"color\": \"#C8D4E3\"}, \"line\": {\"color\": \"white\"}}, \"type\": \"table\"}]}, \"layout\": {\"annotationdefaults\": {\"arrowcolor\": \"#2a3f5f\", \"arrowhead\": 0, \"arrowwidth\": 1}, \"coloraxis\": {\"colorbar\": {\"outlinewidth\": 0, \"ticks\": \"\"}}, \"colorscale\": {\"diverging\": [[0, \"#8e0152\"], [0.1, \"#c51b7d\"], [0.2, \"#de77ae\"], [0.3, \"#f1b6da\"], [0.4, \"#fde0ef\"], [0.5, \"#f7f7f7\"], [0.6, \"#e6f5d0\"], [0.7, \"#b8e186\"], [0.8, \"#7fbc41\"], [0.9, \"#4d9221\"], [1, \"#276419\"]], \"sequential\": [[0.0, \"#0d0887\"], [0.1111111111111111, \"#46039f\"], [0.2222222222222222, \"#7201a8\"], [0.3333333333333333, \"#9c179e\"], [0.4444444444444444, \"#bd3786\"], [0.5555555555555556, \"#d8576b\"], [0.6666666666666666, \"#ed7953\"], [0.7777777777777778, \"#fb9f3a\"], [0.8888888888888888, \"#fdca26\"], [1.0, \"#f0f921\"]], \"sequentialminus\": [[0.0, \"#0d0887\"], [0.1111111111111111, \"#46039f\"], [0.2222222222222222, \"#7201a8\"], [0.3333333333333333, \"#9c179e\"], [0.4444444444444444, \"#bd3786\"], [0.5555555555555556, \"#d8576b\"], [0.6666666666666666, \"#ed7953\"], [0.7777777777777778, \"#fb9f3a\"], [0.8888888888888888, \"#fdca26\"], [1.0, \"#f0f921\"]]}, \"colorway\": [\"#636efa\", \"#EF553B\", \"#00cc96\", \"#ab63fa\", \"#FFA15A\", \"#19d3f3\", \"#FF6692\", \"#B6E880\", \"#FF97FF\", \"#FECB52\"], \"font\": {\"color\": \"#2a3f5f\"}, \"geo\": {\"bgcolor\": \"white\", \"lakecolor\": \"white\", \"landcolor\": \"#E5ECF6\", \"showlakes\": true, \"showland\": true, \"subunitcolor\": \"white\"}, \"hoverlabel\": {\"align\": \"left\"}, \"hovermode\": \"closest\", \"mapbox\": {\"style\": \"light\"}, \"paper_bgcolor\": \"white\", \"plot_bgcolor\": \"#E5ECF6\", \"polar\": {\"angularaxis\": {\"gridcolor\": \"white\", \"linecolor\": \"white\", \"ticks\": \"\"}, \"bgcolor\": \"#E5ECF6\", \"radialaxis\": {\"gridcolor\": \"white\", \"linecolor\": \"white\", \"ticks\": \"\"}}, \"scene\": {\"xaxis\": {\"backgroundcolor\": \"#E5ECF6\", \"gridcolor\": \"white\", \"gridwidth\": 2, \"linecolor\": \"white\", \"showbackground\": true, \"ticks\": \"\", \"zerolinecolor\": \"white\"}, \"yaxis\": {\"backgroundcolor\": \"#E5ECF6\", \"gridcolor\": \"white\", \"gridwidth\": 2, \"linecolor\": \"white\", \"showbackground\": true, \"ticks\": \"\", \"zerolinecolor\": \"white\"}, \"zaxis\": {\"backgroundcolor\": \"#E5ECF6\", \"gridcolor\": \"white\", \"gridwidth\": 2, \"linecolor\": \"white\", \"showbackground\": true, \"ticks\": \"\", \"zerolinecolor\": \"white\"}}, \"shapedefaults\": {\"line\": {\"color\": \"#2a3f5f\"}}, \"ternary\": {\"aaxis\": {\"gridcolor\": \"white\", \"linecolor\": \"white\", \"ticks\": \"\"}, \"baxis\": {\"gridcolor\": \"white\", \"linecolor\": \"white\", \"ticks\": \"\"}, \"bgcolor\": \"#E5ECF6\", \"caxis\": {\"gridcolor\": \"white\", \"linecolor\": \"white\", \"ticks\": \"\"}}, \"title\": {\"x\": 0.05}, \"xaxis\": {\"automargin\": true, \"gridcolor\": \"white\", \"linecolor\": \"white\", \"ticks\": \"\", \"title\": {\"standoff\": 15}, \"zerolinecolor\": \"white\", \"zerolinewidth\": 2}, \"yaxis\": {\"automargin\": true, \"gridcolor\": \"white\", \"linecolor\": \"white\", \"ticks\": \"\", \"title\": {\"standoff\": 15}, \"zerolinecolor\": \"white\", \"zerolinewidth\": 2}}}, \"title\": {\"font\": {\"color\": \"#4D5663\"}}, \"xaxis\": {\"gridcolor\": \"#E1E5ED\", \"showgrid\": true, \"tickfont\": {\"color\": \"#4D5663\"}, \"title\": {\"font\": {\"color\": \"#4D5663\"}, \"text\": \"\"}, \"zerolinecolor\": \"#E1E5ED\"}, \"yaxis\": {\"gridcolor\": \"#E1E5ED\", \"showgrid\": true, \"tickfont\": {\"color\": \"#4D5663\"}, \"title\": {\"font\": {\"color\": \"#4D5663\"}, \"text\": \"\"}, \"zerolinecolor\": \"#E1E5ED\"}},\n",
       "                        {\"showLink\": true, \"linkText\": \"Export to plot.ly\", \"plotlyServerURL\": \"https://plot.ly\", \"responsive\": true}\n",
       "                    ).then(function(){\n",
       "                            \n",
       "var gd = document.getElementById('99ef21c5-963d-48b1-a245-b004242a6654');\n",
       "var x = new MutationObserver(function (mutations, observer) {{\n",
       "        var display = window.getComputedStyle(gd).display;\n",
       "        if (!display || display === 'none') {{\n",
       "            console.log([gd, 'removed!']);\n",
       "            Plotly.purge(gd);\n",
       "            observer.disconnect();\n",
       "        }}\n",
       "}});\n",
       "\n",
       "// Listen for the removal of the full notebook cells\n",
       "var notebookContainer = gd.closest('#notebook-container');\n",
       "if (notebookContainer) {{\n",
       "    x.observe(notebookContainer, {childList: true});\n",
       "}}\n",
       "\n",
       "// Listen for the clearing of the current output cell\n",
       "var outputEl = gd.closest('.output');\n",
       "if (outputEl) {{\n",
       "    x.observe(outputEl, {childList: true});\n",
       "}}\n",
       "\n",
       "                        })\n",
       "                };\n",
       "                });\n",
       "            </script>\n",
       "        </div>"
      ]
     },
     "metadata": {},
     "output_type": "display_data"
    }
   ],
   "source": [
    "df['A'].iplot(kind='hist')"
   ]
  },
  {
   "cell_type": "code",
   "execution_count": 59,
   "metadata": {},
   "outputs": [
    {
     "data": {
      "application/vnd.plotly.v1+json": {
       "config": {
        "linkText": "Export to plot.ly",
        "plotlyServerURL": "https://plot.ly",
        "showLink": true
       },
       "data": [
        {
         "histfunc": "count",
         "histnorm": "",
         "marker": {
          "color": "rgba(255, 153, 51, 1.0)",
          "line": {
           "color": "#4D5663",
           "width": 1.3
          }
         },
         "name": "A",
         "nbinsx": 50,
         "opacity": 0.8,
         "orientation": "v",
         "type": "histogram",
         "x": [
          0.7184152132165522,
          -0.07374414338489427,
          1.3263250429191824,
          -0.6233809421936106,
          0.4742001274446034,
          -0.7437583934588065,
          -0.20562971175271394,
          -0.7912846928747075,
          -0.02702597232497973,
          0.6772742353991352,
          0.2488440802940327,
          -1.2274686431849393,
          1.254910728577048,
          1.6838038342892818,
          0.47921977443036406,
          -0.5022224516406076,
          -1.8745692527395976,
          1.9627993771005607,
          0.9560756328354928,
          -0.04359285288303292,
          0.6415439448675059,
          0.27977343160563767,
          -2.768644598762758,
          0.05983857939039157,
          1.3679925048742787,
          -0.10294575790551182,
          -0.2699661091353834,
          -1.2763005264901317,
          -0.605644482213025,
          0.4211936567382423,
          2.266041396863613,
          1.185381051419868,
          -1.0917455888736831,
          0.2027947575196413,
          -0.17045514705133089,
          0.8437438075614856,
          -0.23401836744499166,
          -0.5242333839647763,
          -0.31142091937150457,
          -0.9076703163927581,
          -1.837456312116648,
          -2.024823808987759,
          -1.8596832253495934,
          -0.35995344488929754,
          -0.1560997144255655,
          -0.24862232873532386,
          -0.5330745736291332,
          0.42241547345708086,
          0.6285806273053471,
          -0.5757328837855584,
          0.7320221470593188,
          -0.78920439441667,
          0.24399057919069703,
          1.403681725672624,
          -0.36497311179059233,
          -1.2035747602760776,
          -0.6799866071005245,
          -1.383687431161648,
          1.7204180525409456,
          0.7798432843313373,
          -1.746971525420941,
          -1.0509291587207734,
          0.21952730859203842,
          0.5153002455921952,
          0.662698390986974,
          -1.3706491187827667,
          -0.18692234413642134,
          0.20435033186983825,
          0.9577209134936103,
          -1.7580578520641799,
          1.934397248202235,
          -0.2419679983579328,
          -1.3560222792664143,
          -1.6380730147438929,
          0.542730758603566,
          -0.06911316253794753,
          0.9256442751713155,
          -1.2929221940251012,
          -0.922538122771601,
          1.0787188690915535,
          1.5772741845128695,
          0.8298802627756018,
          1.1312577460069513,
          0.5757750599947684,
          0.8140317333587312,
          -0.8666171022168118,
          -0.09076294738478492,
          0.7675522138256289,
          -0.1310600103165868,
          -0.700574932350856,
          0.4347324878153614,
          -1.8128643854407822,
          -0.28217756256423554,
          -1.1676894050183275,
          0.5138668046894407,
          -1.1695517800152062,
          1.0658983671799178,
          0.4561467894013599,
          -1.0421540922213297,
          -0.0011269428682303502
         ]
        }
       ],
       "layout": {
        "barmode": "overlay",
        "legend": {
         "bgcolor": "#F5F6F9",
         "font": {
          "color": "#4D5663"
         }
        },
        "paper_bgcolor": "#F5F6F9",
        "plot_bgcolor": "#F5F6F9",
        "template": {
         "data": {
          "bar": [
           {
            "error_x": {
             "color": "#2a3f5f"
            },
            "error_y": {
             "color": "#2a3f5f"
            },
            "marker": {
             "line": {
              "color": "#E5ECF6",
              "width": 0.5
             }
            },
            "type": "bar"
           }
          ],
          "barpolar": [
           {
            "marker": {
             "line": {
              "color": "#E5ECF6",
              "width": 0.5
             }
            },
            "type": "barpolar"
           }
          ],
          "carpet": [
           {
            "aaxis": {
             "endlinecolor": "#2a3f5f",
             "gridcolor": "white",
             "linecolor": "white",
             "minorgridcolor": "white",
             "startlinecolor": "#2a3f5f"
            },
            "baxis": {
             "endlinecolor": "#2a3f5f",
             "gridcolor": "white",
             "linecolor": "white",
             "minorgridcolor": "white",
             "startlinecolor": "#2a3f5f"
            },
            "type": "carpet"
           }
          ],
          "choropleth": [
           {
            "colorbar": {
             "outlinewidth": 0,
             "ticks": ""
            },
            "type": "choropleth"
           }
          ],
          "contour": [
           {
            "colorbar": {
             "outlinewidth": 0,
             "ticks": ""
            },
            "colorscale": [
             [
              0,
              "#0d0887"
             ],
             [
              0.1111111111111111,
              "#46039f"
             ],
             [
              0.2222222222222222,
              "#7201a8"
             ],
             [
              0.3333333333333333,
              "#9c179e"
             ],
             [
              0.4444444444444444,
              "#bd3786"
             ],
             [
              0.5555555555555556,
              "#d8576b"
             ],
             [
              0.6666666666666666,
              "#ed7953"
             ],
             [
              0.7777777777777778,
              "#fb9f3a"
             ],
             [
              0.8888888888888888,
              "#fdca26"
             ],
             [
              1,
              "#f0f921"
             ]
            ],
            "type": "contour"
           }
          ],
          "contourcarpet": [
           {
            "colorbar": {
             "outlinewidth": 0,
             "ticks": ""
            },
            "type": "contourcarpet"
           }
          ],
          "heatmap": [
           {
            "colorbar": {
             "outlinewidth": 0,
             "ticks": ""
            },
            "colorscale": [
             [
              0,
              "#0d0887"
             ],
             [
              0.1111111111111111,
              "#46039f"
             ],
             [
              0.2222222222222222,
              "#7201a8"
             ],
             [
              0.3333333333333333,
              "#9c179e"
             ],
             [
              0.4444444444444444,
              "#bd3786"
             ],
             [
              0.5555555555555556,
              "#d8576b"
             ],
             [
              0.6666666666666666,
              "#ed7953"
             ],
             [
              0.7777777777777778,
              "#fb9f3a"
             ],
             [
              0.8888888888888888,
              "#fdca26"
             ],
             [
              1,
              "#f0f921"
             ]
            ],
            "type": "heatmap"
           }
          ],
          "heatmapgl": [
           {
            "colorbar": {
             "outlinewidth": 0,
             "ticks": ""
            },
            "colorscale": [
             [
              0,
              "#0d0887"
             ],
             [
              0.1111111111111111,
              "#46039f"
             ],
             [
              0.2222222222222222,
              "#7201a8"
             ],
             [
              0.3333333333333333,
              "#9c179e"
             ],
             [
              0.4444444444444444,
              "#bd3786"
             ],
             [
              0.5555555555555556,
              "#d8576b"
             ],
             [
              0.6666666666666666,
              "#ed7953"
             ],
             [
              0.7777777777777778,
              "#fb9f3a"
             ],
             [
              0.8888888888888888,
              "#fdca26"
             ],
             [
              1,
              "#f0f921"
             ]
            ],
            "type": "heatmapgl"
           }
          ],
          "histogram": [
           {
            "marker": {
             "colorbar": {
              "outlinewidth": 0,
              "ticks": ""
             }
            },
            "type": "histogram"
           }
          ],
          "histogram2d": [
           {
            "colorbar": {
             "outlinewidth": 0,
             "ticks": ""
            },
            "colorscale": [
             [
              0,
              "#0d0887"
             ],
             [
              0.1111111111111111,
              "#46039f"
             ],
             [
              0.2222222222222222,
              "#7201a8"
             ],
             [
              0.3333333333333333,
              "#9c179e"
             ],
             [
              0.4444444444444444,
              "#bd3786"
             ],
             [
              0.5555555555555556,
              "#d8576b"
             ],
             [
              0.6666666666666666,
              "#ed7953"
             ],
             [
              0.7777777777777778,
              "#fb9f3a"
             ],
             [
              0.8888888888888888,
              "#fdca26"
             ],
             [
              1,
              "#f0f921"
             ]
            ],
            "type": "histogram2d"
           }
          ],
          "histogram2dcontour": [
           {
            "colorbar": {
             "outlinewidth": 0,
             "ticks": ""
            },
            "colorscale": [
             [
              0,
              "#0d0887"
             ],
             [
              0.1111111111111111,
              "#46039f"
             ],
             [
              0.2222222222222222,
              "#7201a8"
             ],
             [
              0.3333333333333333,
              "#9c179e"
             ],
             [
              0.4444444444444444,
              "#bd3786"
             ],
             [
              0.5555555555555556,
              "#d8576b"
             ],
             [
              0.6666666666666666,
              "#ed7953"
             ],
             [
              0.7777777777777778,
              "#fb9f3a"
             ],
             [
              0.8888888888888888,
              "#fdca26"
             ],
             [
              1,
              "#f0f921"
             ]
            ],
            "type": "histogram2dcontour"
           }
          ],
          "mesh3d": [
           {
            "colorbar": {
             "outlinewidth": 0,
             "ticks": ""
            },
            "type": "mesh3d"
           }
          ],
          "parcoords": [
           {
            "line": {
             "colorbar": {
              "outlinewidth": 0,
              "ticks": ""
             }
            },
            "type": "parcoords"
           }
          ],
          "pie": [
           {
            "automargin": true,
            "type": "pie"
           }
          ],
          "scatter": [
           {
            "marker": {
             "colorbar": {
              "outlinewidth": 0,
              "ticks": ""
             }
            },
            "type": "scatter"
           }
          ],
          "scatter3d": [
           {
            "line": {
             "colorbar": {
              "outlinewidth": 0,
              "ticks": ""
             }
            },
            "marker": {
             "colorbar": {
              "outlinewidth": 0,
              "ticks": ""
             }
            },
            "type": "scatter3d"
           }
          ],
          "scattercarpet": [
           {
            "marker": {
             "colorbar": {
              "outlinewidth": 0,
              "ticks": ""
             }
            },
            "type": "scattercarpet"
           }
          ],
          "scattergeo": [
           {
            "marker": {
             "colorbar": {
              "outlinewidth": 0,
              "ticks": ""
             }
            },
            "type": "scattergeo"
           }
          ],
          "scattergl": [
           {
            "marker": {
             "colorbar": {
              "outlinewidth": 0,
              "ticks": ""
             }
            },
            "type": "scattergl"
           }
          ],
          "scattermapbox": [
           {
            "marker": {
             "colorbar": {
              "outlinewidth": 0,
              "ticks": ""
             }
            },
            "type": "scattermapbox"
           }
          ],
          "scatterpolar": [
           {
            "marker": {
             "colorbar": {
              "outlinewidth": 0,
              "ticks": ""
             }
            },
            "type": "scatterpolar"
           }
          ],
          "scatterpolargl": [
           {
            "marker": {
             "colorbar": {
              "outlinewidth": 0,
              "ticks": ""
             }
            },
            "type": "scatterpolargl"
           }
          ],
          "scatterternary": [
           {
            "marker": {
             "colorbar": {
              "outlinewidth": 0,
              "ticks": ""
             }
            },
            "type": "scatterternary"
           }
          ],
          "surface": [
           {
            "colorbar": {
             "outlinewidth": 0,
             "ticks": ""
            },
            "colorscale": [
             [
              0,
              "#0d0887"
             ],
             [
              0.1111111111111111,
              "#46039f"
             ],
             [
              0.2222222222222222,
              "#7201a8"
             ],
             [
              0.3333333333333333,
              "#9c179e"
             ],
             [
              0.4444444444444444,
              "#bd3786"
             ],
             [
              0.5555555555555556,
              "#d8576b"
             ],
             [
              0.6666666666666666,
              "#ed7953"
             ],
             [
              0.7777777777777778,
              "#fb9f3a"
             ],
             [
              0.8888888888888888,
              "#fdca26"
             ],
             [
              1,
              "#f0f921"
             ]
            ],
            "type": "surface"
           }
          ],
          "table": [
           {
            "cells": {
             "fill": {
              "color": "#EBF0F8"
             },
             "line": {
              "color": "white"
             }
            },
            "header": {
             "fill": {
              "color": "#C8D4E3"
             },
             "line": {
              "color": "white"
             }
            },
            "type": "table"
           }
          ]
         },
         "layout": {
          "annotationdefaults": {
           "arrowcolor": "#2a3f5f",
           "arrowhead": 0,
           "arrowwidth": 1
          },
          "coloraxis": {
           "colorbar": {
            "outlinewidth": 0,
            "ticks": ""
           }
          },
          "colorscale": {
           "diverging": [
            [
             0,
             "#8e0152"
            ],
            [
             0.1,
             "#c51b7d"
            ],
            [
             0.2,
             "#de77ae"
            ],
            [
             0.3,
             "#f1b6da"
            ],
            [
             0.4,
             "#fde0ef"
            ],
            [
             0.5,
             "#f7f7f7"
            ],
            [
             0.6,
             "#e6f5d0"
            ],
            [
             0.7,
             "#b8e186"
            ],
            [
             0.8,
             "#7fbc41"
            ],
            [
             0.9,
             "#4d9221"
            ],
            [
             1,
             "#276419"
            ]
           ],
           "sequential": [
            [
             0,
             "#0d0887"
            ],
            [
             0.1111111111111111,
             "#46039f"
            ],
            [
             0.2222222222222222,
             "#7201a8"
            ],
            [
             0.3333333333333333,
             "#9c179e"
            ],
            [
             0.4444444444444444,
             "#bd3786"
            ],
            [
             0.5555555555555556,
             "#d8576b"
            ],
            [
             0.6666666666666666,
             "#ed7953"
            ],
            [
             0.7777777777777778,
             "#fb9f3a"
            ],
            [
             0.8888888888888888,
             "#fdca26"
            ],
            [
             1,
             "#f0f921"
            ]
           ],
           "sequentialminus": [
            [
             0,
             "#0d0887"
            ],
            [
             0.1111111111111111,
             "#46039f"
            ],
            [
             0.2222222222222222,
             "#7201a8"
            ],
            [
             0.3333333333333333,
             "#9c179e"
            ],
            [
             0.4444444444444444,
             "#bd3786"
            ],
            [
             0.5555555555555556,
             "#d8576b"
            ],
            [
             0.6666666666666666,
             "#ed7953"
            ],
            [
             0.7777777777777778,
             "#fb9f3a"
            ],
            [
             0.8888888888888888,
             "#fdca26"
            ],
            [
             1,
             "#f0f921"
            ]
           ]
          },
          "colorway": [
           "#636efa",
           "#EF553B",
           "#00cc96",
           "#ab63fa",
           "#FFA15A",
           "#19d3f3",
           "#FF6692",
           "#B6E880",
           "#FF97FF",
           "#FECB52"
          ],
          "font": {
           "color": "#2a3f5f"
          },
          "geo": {
           "bgcolor": "white",
           "lakecolor": "white",
           "landcolor": "#E5ECF6",
           "showlakes": true,
           "showland": true,
           "subunitcolor": "white"
          },
          "hoverlabel": {
           "align": "left"
          },
          "hovermode": "closest",
          "mapbox": {
           "style": "light"
          },
          "paper_bgcolor": "white",
          "plot_bgcolor": "#E5ECF6",
          "polar": {
           "angularaxis": {
            "gridcolor": "white",
            "linecolor": "white",
            "ticks": ""
           },
           "bgcolor": "#E5ECF6",
           "radialaxis": {
            "gridcolor": "white",
            "linecolor": "white",
            "ticks": ""
           }
          },
          "scene": {
           "xaxis": {
            "backgroundcolor": "#E5ECF6",
            "gridcolor": "white",
            "gridwidth": 2,
            "linecolor": "white",
            "showbackground": true,
            "ticks": "",
            "zerolinecolor": "white"
           },
           "yaxis": {
            "backgroundcolor": "#E5ECF6",
            "gridcolor": "white",
            "gridwidth": 2,
            "linecolor": "white",
            "showbackground": true,
            "ticks": "",
            "zerolinecolor": "white"
           },
           "zaxis": {
            "backgroundcolor": "#E5ECF6",
            "gridcolor": "white",
            "gridwidth": 2,
            "linecolor": "white",
            "showbackground": true,
            "ticks": "",
            "zerolinecolor": "white"
           }
          },
          "shapedefaults": {
           "line": {
            "color": "#2a3f5f"
           }
          },
          "ternary": {
           "aaxis": {
            "gridcolor": "white",
            "linecolor": "white",
            "ticks": ""
           },
           "baxis": {
            "gridcolor": "white",
            "linecolor": "white",
            "ticks": ""
           },
           "bgcolor": "#E5ECF6",
           "caxis": {
            "gridcolor": "white",
            "linecolor": "white",
            "ticks": ""
           }
          },
          "title": {
           "x": 0.05
          },
          "xaxis": {
           "automargin": true,
           "gridcolor": "white",
           "linecolor": "white",
           "ticks": "",
           "title": {
            "standoff": 15
           },
           "zerolinecolor": "white",
           "zerolinewidth": 2
          },
          "yaxis": {
           "automargin": true,
           "gridcolor": "white",
           "linecolor": "white",
           "ticks": "",
           "title": {
            "standoff": 15
           },
           "zerolinecolor": "white",
           "zerolinewidth": 2
          }
         }
        },
        "title": {
         "font": {
          "color": "#4D5663"
         }
        },
        "xaxis": {
         "gridcolor": "#E1E5ED",
         "showgrid": true,
         "tickfont": {
          "color": "#4D5663"
         },
         "title": {
          "font": {
           "color": "#4D5663"
          },
          "text": ""
         },
         "zerolinecolor": "#E1E5ED"
        },
        "yaxis": {
         "gridcolor": "#E1E5ED",
         "showgrid": true,
         "tickfont": {
          "color": "#4D5663"
         },
         "title": {
          "font": {
           "color": "#4D5663"
          },
          "text": ""
         },
         "zerolinecolor": "#E1E5ED"
        }
       }
      },
      "text/html": [
       "<div>\n",
       "        \n",
       "        \n",
       "            <div id=\"45543a94-3676-48d8-884f-c6c9b90465c8\" class=\"plotly-graph-div\" style=\"height:525px; width:100%;\"></div>\n",
       "            <script type=\"text/javascript\">\n",
       "                require([\"plotly\"], function(Plotly) {\n",
       "                    window.PLOTLYENV=window.PLOTLYENV || {};\n",
       "                    window.PLOTLYENV.BASE_URL='https://plot.ly';\n",
       "                    \n",
       "                if (document.getElementById(\"45543a94-3676-48d8-884f-c6c9b90465c8\")) {\n",
       "                    Plotly.newPlot(\n",
       "                        '45543a94-3676-48d8-884f-c6c9b90465c8',\n",
       "                        [{\"histfunc\": \"count\", \"histnorm\": \"\", \"marker\": {\"color\": \"rgba(255, 153, 51, 1.0)\", \"line\": {\"color\": \"#4D5663\", \"width\": 1.3}}, \"name\": \"A\", \"nbinsx\": 50, \"opacity\": 0.8, \"orientation\": \"v\", \"type\": \"histogram\", \"x\": [0.7184152132165522, -0.07374414338489427, 1.3263250429191824, -0.6233809421936106, 0.4742001274446034, -0.7437583934588065, -0.20562971175271394, -0.7912846928747075, -0.02702597232497973, 0.6772742353991352, 0.2488440802940327, -1.2274686431849393, 1.254910728577048, 1.6838038342892818, 0.47921977443036406, -0.5022224516406076, -1.8745692527395976, 1.9627993771005607, 0.9560756328354928, -0.04359285288303292, 0.6415439448675059, 0.27977343160563767, -2.768644598762758, 0.05983857939039157, 1.3679925048742787, -0.10294575790551182, -0.2699661091353834, -1.2763005264901317, -0.605644482213025, 0.4211936567382423, 2.266041396863613, 1.185381051419868, -1.0917455888736831, 0.2027947575196413, -0.17045514705133089, 0.8437438075614856, -0.23401836744499166, -0.5242333839647763, -0.31142091937150457, -0.9076703163927581, -1.837456312116648, -2.024823808987759, -1.8596832253495934, -0.35995344488929754, -0.1560997144255655, -0.24862232873532386, -0.5330745736291332, 0.42241547345708086, 0.6285806273053471, -0.5757328837855584, 0.7320221470593188, -0.78920439441667, 0.24399057919069703, 1.403681725672624, -0.36497311179059233, -1.2035747602760776, -0.6799866071005245, -1.383687431161648, 1.7204180525409456, 0.7798432843313373, -1.746971525420941, -1.0509291587207734, 0.21952730859203842, 0.5153002455921952, 0.662698390986974, -1.3706491187827667, -0.18692234413642134, 0.20435033186983825, 0.9577209134936103, -1.7580578520641799, 1.934397248202235, -0.2419679983579328, -1.3560222792664143, -1.6380730147438929, 0.542730758603566, -0.06911316253794753, 0.9256442751713155, -1.2929221940251012, -0.922538122771601, 1.0787188690915535, 1.5772741845128695, 0.8298802627756018, 1.1312577460069513, 0.5757750599947684, 0.8140317333587312, -0.8666171022168118, -0.09076294738478492, 0.7675522138256289, -0.1310600103165868, -0.700574932350856, 0.4347324878153614, -1.8128643854407822, -0.28217756256423554, -1.1676894050183275, 0.5138668046894407, -1.1695517800152062, 1.0658983671799178, 0.4561467894013599, -1.0421540922213297, -0.0011269428682303502]}],\n",
       "                        {\"barmode\": \"overlay\", \"legend\": {\"bgcolor\": \"#F5F6F9\", \"font\": {\"color\": \"#4D5663\"}}, \"paper_bgcolor\": \"#F5F6F9\", \"plot_bgcolor\": \"#F5F6F9\", \"template\": {\"data\": {\"bar\": [{\"error_x\": {\"color\": \"#2a3f5f\"}, \"error_y\": {\"color\": \"#2a3f5f\"}, \"marker\": {\"line\": {\"color\": \"#E5ECF6\", \"width\": 0.5}}, \"type\": \"bar\"}], \"barpolar\": [{\"marker\": {\"line\": {\"color\": \"#E5ECF6\", \"width\": 0.5}}, \"type\": \"barpolar\"}], \"carpet\": [{\"aaxis\": {\"endlinecolor\": \"#2a3f5f\", \"gridcolor\": \"white\", \"linecolor\": \"white\", \"minorgridcolor\": \"white\", \"startlinecolor\": \"#2a3f5f\"}, \"baxis\": {\"endlinecolor\": \"#2a3f5f\", \"gridcolor\": \"white\", \"linecolor\": \"white\", \"minorgridcolor\": \"white\", \"startlinecolor\": \"#2a3f5f\"}, \"type\": \"carpet\"}], \"choropleth\": [{\"colorbar\": {\"outlinewidth\": 0, \"ticks\": \"\"}, \"type\": \"choropleth\"}], \"contour\": [{\"colorbar\": {\"outlinewidth\": 0, \"ticks\": \"\"}, \"colorscale\": [[0.0, \"#0d0887\"], [0.1111111111111111, \"#46039f\"], [0.2222222222222222, \"#7201a8\"], [0.3333333333333333, \"#9c179e\"], [0.4444444444444444, \"#bd3786\"], [0.5555555555555556, \"#d8576b\"], [0.6666666666666666, \"#ed7953\"], [0.7777777777777778, \"#fb9f3a\"], [0.8888888888888888, \"#fdca26\"], [1.0, \"#f0f921\"]], \"type\": \"contour\"}], \"contourcarpet\": [{\"colorbar\": {\"outlinewidth\": 0, \"ticks\": \"\"}, \"type\": \"contourcarpet\"}], \"heatmap\": [{\"colorbar\": {\"outlinewidth\": 0, \"ticks\": \"\"}, \"colorscale\": [[0.0, \"#0d0887\"], [0.1111111111111111, \"#46039f\"], [0.2222222222222222, \"#7201a8\"], [0.3333333333333333, \"#9c179e\"], [0.4444444444444444, \"#bd3786\"], [0.5555555555555556, \"#d8576b\"], [0.6666666666666666, \"#ed7953\"], [0.7777777777777778, \"#fb9f3a\"], [0.8888888888888888, \"#fdca26\"], [1.0, \"#f0f921\"]], \"type\": \"heatmap\"}], \"heatmapgl\": [{\"colorbar\": {\"outlinewidth\": 0, \"ticks\": \"\"}, \"colorscale\": [[0.0, \"#0d0887\"], [0.1111111111111111, \"#46039f\"], [0.2222222222222222, \"#7201a8\"], [0.3333333333333333, \"#9c179e\"], [0.4444444444444444, \"#bd3786\"], [0.5555555555555556, \"#d8576b\"], [0.6666666666666666, \"#ed7953\"], [0.7777777777777778, \"#fb9f3a\"], [0.8888888888888888, \"#fdca26\"], [1.0, \"#f0f921\"]], \"type\": \"heatmapgl\"}], \"histogram\": [{\"marker\": {\"colorbar\": {\"outlinewidth\": 0, \"ticks\": \"\"}}, \"type\": \"histogram\"}], \"histogram2d\": [{\"colorbar\": {\"outlinewidth\": 0, \"ticks\": \"\"}, \"colorscale\": [[0.0, \"#0d0887\"], [0.1111111111111111, \"#46039f\"], [0.2222222222222222, \"#7201a8\"], [0.3333333333333333, \"#9c179e\"], [0.4444444444444444, \"#bd3786\"], [0.5555555555555556, \"#d8576b\"], [0.6666666666666666, \"#ed7953\"], [0.7777777777777778, \"#fb9f3a\"], [0.8888888888888888, \"#fdca26\"], [1.0, \"#f0f921\"]], \"type\": \"histogram2d\"}], \"histogram2dcontour\": [{\"colorbar\": {\"outlinewidth\": 0, \"ticks\": \"\"}, \"colorscale\": [[0.0, \"#0d0887\"], [0.1111111111111111, \"#46039f\"], [0.2222222222222222, \"#7201a8\"], [0.3333333333333333, \"#9c179e\"], [0.4444444444444444, \"#bd3786\"], [0.5555555555555556, \"#d8576b\"], [0.6666666666666666, \"#ed7953\"], [0.7777777777777778, \"#fb9f3a\"], [0.8888888888888888, \"#fdca26\"], [1.0, \"#f0f921\"]], \"type\": \"histogram2dcontour\"}], \"mesh3d\": [{\"colorbar\": {\"outlinewidth\": 0, \"ticks\": \"\"}, \"type\": \"mesh3d\"}], \"parcoords\": [{\"line\": {\"colorbar\": {\"outlinewidth\": 0, \"ticks\": \"\"}}, \"type\": \"parcoords\"}], \"pie\": [{\"automargin\": true, \"type\": \"pie\"}], \"scatter\": [{\"marker\": {\"colorbar\": {\"outlinewidth\": 0, \"ticks\": \"\"}}, \"type\": \"scatter\"}], \"scatter3d\": [{\"line\": {\"colorbar\": {\"outlinewidth\": 0, \"ticks\": \"\"}}, \"marker\": {\"colorbar\": {\"outlinewidth\": 0, \"ticks\": \"\"}}, \"type\": \"scatter3d\"}], \"scattercarpet\": [{\"marker\": {\"colorbar\": {\"outlinewidth\": 0, \"ticks\": \"\"}}, \"type\": \"scattercarpet\"}], \"scattergeo\": [{\"marker\": {\"colorbar\": {\"outlinewidth\": 0, \"ticks\": \"\"}}, \"type\": \"scattergeo\"}], \"scattergl\": [{\"marker\": {\"colorbar\": {\"outlinewidth\": 0, \"ticks\": \"\"}}, \"type\": \"scattergl\"}], \"scattermapbox\": [{\"marker\": {\"colorbar\": {\"outlinewidth\": 0, \"ticks\": \"\"}}, \"type\": \"scattermapbox\"}], \"scatterpolar\": [{\"marker\": {\"colorbar\": {\"outlinewidth\": 0, \"ticks\": \"\"}}, \"type\": \"scatterpolar\"}], \"scatterpolargl\": [{\"marker\": {\"colorbar\": {\"outlinewidth\": 0, \"ticks\": \"\"}}, \"type\": \"scatterpolargl\"}], \"scatterternary\": [{\"marker\": {\"colorbar\": {\"outlinewidth\": 0, \"ticks\": \"\"}}, \"type\": \"scatterternary\"}], \"surface\": [{\"colorbar\": {\"outlinewidth\": 0, \"ticks\": \"\"}, \"colorscale\": [[0.0, \"#0d0887\"], [0.1111111111111111, \"#46039f\"], [0.2222222222222222, \"#7201a8\"], [0.3333333333333333, \"#9c179e\"], [0.4444444444444444, \"#bd3786\"], [0.5555555555555556, \"#d8576b\"], [0.6666666666666666, \"#ed7953\"], [0.7777777777777778, \"#fb9f3a\"], [0.8888888888888888, \"#fdca26\"], [1.0, \"#f0f921\"]], \"type\": \"surface\"}], \"table\": [{\"cells\": {\"fill\": {\"color\": \"#EBF0F8\"}, \"line\": {\"color\": \"white\"}}, \"header\": {\"fill\": {\"color\": \"#C8D4E3\"}, \"line\": {\"color\": \"white\"}}, \"type\": \"table\"}]}, \"layout\": {\"annotationdefaults\": {\"arrowcolor\": \"#2a3f5f\", \"arrowhead\": 0, \"arrowwidth\": 1}, \"coloraxis\": {\"colorbar\": {\"outlinewidth\": 0, \"ticks\": \"\"}}, \"colorscale\": {\"diverging\": [[0, \"#8e0152\"], [0.1, \"#c51b7d\"], [0.2, \"#de77ae\"], [0.3, \"#f1b6da\"], [0.4, \"#fde0ef\"], [0.5, \"#f7f7f7\"], [0.6, \"#e6f5d0\"], [0.7, \"#b8e186\"], [0.8, \"#7fbc41\"], [0.9, \"#4d9221\"], [1, \"#276419\"]], \"sequential\": [[0.0, \"#0d0887\"], [0.1111111111111111, \"#46039f\"], [0.2222222222222222, \"#7201a8\"], [0.3333333333333333, \"#9c179e\"], [0.4444444444444444, \"#bd3786\"], [0.5555555555555556, \"#d8576b\"], [0.6666666666666666, \"#ed7953\"], [0.7777777777777778, \"#fb9f3a\"], [0.8888888888888888, \"#fdca26\"], [1.0, \"#f0f921\"]], \"sequentialminus\": [[0.0, \"#0d0887\"], [0.1111111111111111, \"#46039f\"], [0.2222222222222222, \"#7201a8\"], [0.3333333333333333, \"#9c179e\"], [0.4444444444444444, \"#bd3786\"], [0.5555555555555556, \"#d8576b\"], [0.6666666666666666, \"#ed7953\"], [0.7777777777777778, \"#fb9f3a\"], [0.8888888888888888, \"#fdca26\"], [1.0, \"#f0f921\"]]}, \"colorway\": [\"#636efa\", \"#EF553B\", \"#00cc96\", \"#ab63fa\", \"#FFA15A\", \"#19d3f3\", \"#FF6692\", \"#B6E880\", \"#FF97FF\", \"#FECB52\"], \"font\": {\"color\": \"#2a3f5f\"}, \"geo\": {\"bgcolor\": \"white\", \"lakecolor\": \"white\", \"landcolor\": \"#E5ECF6\", \"showlakes\": true, \"showland\": true, \"subunitcolor\": \"white\"}, \"hoverlabel\": {\"align\": \"left\"}, \"hovermode\": \"closest\", \"mapbox\": {\"style\": \"light\"}, \"paper_bgcolor\": \"white\", \"plot_bgcolor\": \"#E5ECF6\", \"polar\": {\"angularaxis\": {\"gridcolor\": \"white\", \"linecolor\": \"white\", \"ticks\": \"\"}, \"bgcolor\": \"#E5ECF6\", \"radialaxis\": {\"gridcolor\": \"white\", \"linecolor\": \"white\", \"ticks\": \"\"}}, \"scene\": {\"xaxis\": {\"backgroundcolor\": \"#E5ECF6\", \"gridcolor\": \"white\", \"gridwidth\": 2, \"linecolor\": \"white\", \"showbackground\": true, \"ticks\": \"\", \"zerolinecolor\": \"white\"}, \"yaxis\": {\"backgroundcolor\": \"#E5ECF6\", \"gridcolor\": \"white\", \"gridwidth\": 2, \"linecolor\": \"white\", \"showbackground\": true, \"ticks\": \"\", \"zerolinecolor\": \"white\"}, \"zaxis\": {\"backgroundcolor\": \"#E5ECF6\", \"gridcolor\": \"white\", \"gridwidth\": 2, \"linecolor\": \"white\", \"showbackground\": true, \"ticks\": \"\", \"zerolinecolor\": \"white\"}}, \"shapedefaults\": {\"line\": {\"color\": \"#2a3f5f\"}}, \"ternary\": {\"aaxis\": {\"gridcolor\": \"white\", \"linecolor\": \"white\", \"ticks\": \"\"}, \"baxis\": {\"gridcolor\": \"white\", \"linecolor\": \"white\", \"ticks\": \"\"}, \"bgcolor\": \"#E5ECF6\", \"caxis\": {\"gridcolor\": \"white\", \"linecolor\": \"white\", \"ticks\": \"\"}}, \"title\": {\"x\": 0.05}, \"xaxis\": {\"automargin\": true, \"gridcolor\": \"white\", \"linecolor\": \"white\", \"ticks\": \"\", \"title\": {\"standoff\": 15}, \"zerolinecolor\": \"white\", \"zerolinewidth\": 2}, \"yaxis\": {\"automargin\": true, \"gridcolor\": \"white\", \"linecolor\": \"white\", \"ticks\": \"\", \"title\": {\"standoff\": 15}, \"zerolinecolor\": \"white\", \"zerolinewidth\": 2}}}, \"title\": {\"font\": {\"color\": \"#4D5663\"}}, \"xaxis\": {\"gridcolor\": \"#E1E5ED\", \"showgrid\": true, \"tickfont\": {\"color\": \"#4D5663\"}, \"title\": {\"font\": {\"color\": \"#4D5663\"}, \"text\": \"\"}, \"zerolinecolor\": \"#E1E5ED\"}, \"yaxis\": {\"gridcolor\": \"#E1E5ED\", \"showgrid\": true, \"tickfont\": {\"color\": \"#4D5663\"}, \"title\": {\"font\": {\"color\": \"#4D5663\"}, \"text\": \"\"}, \"zerolinecolor\": \"#E1E5ED\"}},\n",
       "                        {\"showLink\": true, \"linkText\": \"Export to plot.ly\", \"plotlyServerURL\": \"https://plot.ly\", \"responsive\": true}\n",
       "                    ).then(function(){\n",
       "                            \n",
       "var gd = document.getElementById('45543a94-3676-48d8-884f-c6c9b90465c8');\n",
       "var x = new MutationObserver(function (mutations, observer) {{\n",
       "        var display = window.getComputedStyle(gd).display;\n",
       "        if (!display || display === 'none') {{\n",
       "            console.log([gd, 'removed!']);\n",
       "            Plotly.purge(gd);\n",
       "            observer.disconnect();\n",
       "        }}\n",
       "}});\n",
       "\n",
       "// Listen for the removal of the full notebook cells\n",
       "var notebookContainer = gd.closest('#notebook-container');\n",
       "if (notebookContainer) {{\n",
       "    x.observe(notebookContainer, {childList: true});\n",
       "}}\n",
       "\n",
       "// Listen for the clearing of the current output cell\n",
       "var outputEl = gd.closest('.output');\n",
       "if (outputEl) {{\n",
       "    x.observe(outputEl, {childList: true});\n",
       "}}\n",
       "\n",
       "                        })\n",
       "                };\n",
       "                });\n",
       "            </script>\n",
       "        </div>"
      ]
     },
     "metadata": {},
     "output_type": "display_data"
    }
   ],
   "source": [
    "df['A'].iplot(kind='hist',bins=50)"
   ]
  },
  {
   "cell_type": "code",
   "execution_count": 60,
   "metadata": {},
   "outputs": [
    {
     "data": {
      "application/vnd.plotly.v1+json": {
       "config": {
        "linkText": "Export to plot.ly",
        "plotlyServerURL": "https://plot.ly",
        "showLink": true
       },
       "data": [
        {
         "histfunc": "count",
         "histnorm": "",
         "marker": {
          "color": "rgba(255, 153, 51, 1.0)",
          "line": {
           "color": "#4D5663",
           "width": 1.3
          }
         },
         "name": "A",
         "nbinsx": 50,
         "opacity": 0.8,
         "orientation": "v",
         "type": "histogram",
         "x": [
          0.7184152132165522,
          -0.07374414338489427,
          1.3263250429191824,
          -0.6233809421936106,
          0.4742001274446034,
          -0.7437583934588065,
          -0.20562971175271394,
          -0.7912846928747075,
          -0.02702597232497973,
          0.6772742353991352,
          0.2488440802940327,
          -1.2274686431849393,
          1.254910728577048,
          1.6838038342892818,
          0.47921977443036406,
          -0.5022224516406076,
          -1.8745692527395976,
          1.9627993771005607,
          0.9560756328354928,
          -0.04359285288303292,
          0.6415439448675059,
          0.27977343160563767,
          -2.768644598762758,
          0.05983857939039157,
          1.3679925048742787,
          -0.10294575790551182,
          -0.2699661091353834,
          -1.2763005264901317,
          -0.605644482213025,
          0.4211936567382423,
          2.266041396863613,
          1.185381051419868,
          -1.0917455888736831,
          0.2027947575196413,
          -0.17045514705133089,
          0.8437438075614856,
          -0.23401836744499166,
          -0.5242333839647763,
          -0.31142091937150457,
          -0.9076703163927581,
          -1.837456312116648,
          -2.024823808987759,
          -1.8596832253495934,
          -0.35995344488929754,
          -0.1560997144255655,
          -0.24862232873532386,
          -0.5330745736291332,
          0.42241547345708086,
          0.6285806273053471,
          -0.5757328837855584,
          0.7320221470593188,
          -0.78920439441667,
          0.24399057919069703,
          1.403681725672624,
          -0.36497311179059233,
          -1.2035747602760776,
          -0.6799866071005245,
          -1.383687431161648,
          1.7204180525409456,
          0.7798432843313373,
          -1.746971525420941,
          -1.0509291587207734,
          0.21952730859203842,
          0.5153002455921952,
          0.662698390986974,
          -1.3706491187827667,
          -0.18692234413642134,
          0.20435033186983825,
          0.9577209134936103,
          -1.7580578520641799,
          1.934397248202235,
          -0.2419679983579328,
          -1.3560222792664143,
          -1.6380730147438929,
          0.542730758603566,
          -0.06911316253794753,
          0.9256442751713155,
          -1.2929221940251012,
          -0.922538122771601,
          1.0787188690915535,
          1.5772741845128695,
          0.8298802627756018,
          1.1312577460069513,
          0.5757750599947684,
          0.8140317333587312,
          -0.8666171022168118,
          -0.09076294738478492,
          0.7675522138256289,
          -0.1310600103165868,
          -0.700574932350856,
          0.4347324878153614,
          -1.8128643854407822,
          -0.28217756256423554,
          -1.1676894050183275,
          0.5138668046894407,
          -1.1695517800152062,
          1.0658983671799178,
          0.4561467894013599,
          -1.0421540922213297,
          -0.0011269428682303502
         ]
        },
        {
         "histfunc": "count",
         "histnorm": "",
         "marker": {
          "color": "rgba(55, 128, 191, 1.0)",
          "line": {
           "color": "#4D5663",
           "width": 1.3
          }
         },
         "name": "B",
         "nbinsx": 50,
         "opacity": 0.8,
         "orientation": "v",
         "type": "histogram",
         "x": [
          -0.574006817058656,
          -0.7266588076382805,
          -0.3582653821205203,
          0.4108711973078174,
          -0.32049412434813634,
          0.04773441291937425,
          -0.3688892653969485,
          -1.9676847227099559,
          0.25795986598318144,
          0.537925471808953,
          -1.4962385157709366,
          0.5057892669442116,
          -0.29203313936093456,
          0.6328171202069542,
          -1.0522874962492237,
          0.7878930777939451,
          1.4309553115391773,
          0.1889102418784355,
          -0.013342842989387687,
          3.116070838792739,
          -0.41845360400421255,
          1.9858575207739673,
          0.6403115956548909,
          0.1907142736681472,
          -1.504935982311471,
          0.7416036365144881,
          0.1676053881271684,
          -0.24114082085754754,
          -0.8756962069315755,
          -0.525281131553952,
          0.16729678126738956,
          -1.4261549151524915,
          -0.8095904163469871,
          1.6988271573620615,
          1.7586594424748208,
          1.1173774377465564,
          -0.18402664254405693,
          -0.8725967786135869,
          0.9340462500605381,
          0.0436769694271896,
          0.2528261269315577,
          -0.48797455718435667,
          0.4185303541013756,
          -1.2115610819467757,
          -1.3873781031274601,
          -2.134924563226702,
          -0.36394732545907527,
          -1.8930906878602132,
          0.30419682598120823,
          -1.2397000596617789,
          1.5072415238223666,
          0.5076516583359088,
          -0.27253561558943046,
          0.9944063915869681,
          0.20503443372919314,
          0.11496705703028283,
          2.2451308551185214,
          -1.1894233003016832,
          -0.4109483665207544,
          0.4564664039644072,
          0.0594821775386694,
          2.025352796007877,
          0.13277668831354794,
          1.084947573356576,
          0.2886397552371678,
          -0.46229439145929685,
          0.07114397903457587,
          -0.36825571307179933,
          0.0580491159714769,
          -1.3175848043112401,
          1.6977785396994103,
          1.5238962245440153,
          0.6735606382188081,
          0.27852016317782674,
          -0.5125567623845447,
          0.8200273758606282,
          1.0211947809981352,
          -0.43694675512536835,
          2.4293952236159813,
          1.075463756336378,
          1.4049925716695653,
          1.116341730370617,
          -0.7067699756998078,
          0.516178571121736,
          0.27073191733361573,
          -1.030797684921648,
          -1.1109877307709126,
          0.4322628958451547,
          -0.9748824546183325,
          -2.0597490912023915,
          0.22368680313699774,
          -0.5803128715110616,
          -2.3645027848541047,
          0.29715916628752514,
          1.3546167563630593,
          -0.25223335075808057,
          0.1881641349093222,
          2.6987241405368656,
          -1.3327602486409937,
          -0.6169747814033371
         ]
        },
        {
         "histfunc": "count",
         "histnorm": "",
         "marker": {
          "color": "rgba(50, 171, 96, 1.0)",
          "line": {
           "color": "#4D5663",
           "width": 1.3
          }
         },
         "name": "C",
         "nbinsx": 50,
         "opacity": 0.8,
         "orientation": "v",
         "type": "histogram",
         "x": [
          0.4186050978255918,
          0.9660299067572595,
          -0.4318143275388457,
          0.5065075567870579,
          1.4859078649464117,
          2.037283479738617,
          0.1718877247483784,
          0.47531459547715643,
          0.42823940845213554,
          -0.21305545190507444,
          0.28190489492175935,
          -0.173204935815877,
          0.39757462485732936,
          1.3856892836568033,
          0.9822240896658297,
          1.938516935317932,
          0.2152802615769902,
          -1.6198131628409123,
          0.5373273678187647,
          1.0074272134548774,
          -0.8947699356644431,
          -0.20862165688177156,
          -0.10861066684874332,
          0.4534828477073112,
          0.8168342651047499,
          -0.1687725979146592,
          -0.5712267200634286,
          -1.1119129875224343,
          -1.6453222605018447,
          0.9855003647827035,
          1.7181503768731639,
          -0.12801937833791582,
          -0.759239480823569,
          -0.15604891625994818,
          -0.7308177686807426,
          -0.7654926526655869,
          -1.4628634609740454,
          -0.11367567007750326,
          0.44960352548597154,
          -0.9706311730653845,
          1.2545677594079299,
          -2.271041367591699,
          1.104145953395362,
          0.6195613024301116,
          -0.5005945813435325,
          -0.9063252531488935,
          -0.043850682877327164,
          -0.8454320211462417,
          0.7108991077320378,
          -1.9204840919319068,
          -1.458754114994838,
          -0.20099174944696324,
          -0.22259167976453564,
          -0.35670458652429826,
          -1.2551092820330252,
          -1.7901862237899924,
          0.9448393991015264,
          -0.1572709025185171,
          -1.6644238182098812,
          0.3172932947843975,
          -0.23550701831544502,
          0.2657712421161027,
          -0.053078294913159324,
          -2.398334429775859,
          0.7519569965442786,
          -0.16681679209782702,
          0.3452512000546205,
          -0.2910305465854694,
          -0.33331624044084773,
          0.9055671431700401,
          -0.42227825539631764,
          -1.2871107075659745,
          0.02109412124539801,
          -0.9061252419518914,
          -0.30150226561932414,
          1.334079070716369,
          -0.9170838735545183,
          0.4103890346700743,
          -0.5089311284427338,
          0.21384246102570673,
          -0.25502806255931987,
          0.8148800270629623,
          0.042616665556271735,
          -0.1568235945172625,
          -0.04308239534943786,
          -0.28435314213034757,
          -1.0269739230542796,
          1.269247105161303,
          1.1439941254385915,
          0.39004917349610146,
          -0.282070716056746,
          -0.5068669529975444,
          1.0857202913987292,
          -0.9641678103539787,
          2.403598393563145,
          -1.1166542022763057,
          0.0546234593929146,
          -0.9843132869855903,
          1.3621554962299072,
          0.8257631253025725
         ]
        },
        {
         "histfunc": "count",
         "histnorm": "",
         "marker": {
          "color": "rgba(128, 0, 128, 1.0)",
          "line": {
           "color": "#4D5663",
           "width": 1.3
          }
         },
         "name": "D",
         "nbinsx": 50,
         "opacity": 0.8,
         "orientation": "v",
         "type": "histogram",
         "x": [
          -0.44737534191412004,
          1.109785149730803,
          -0.31221247860147944,
          0.276185368698082,
          -1.922113777992666,
          0.5494499941511534,
          0.7206549564338,
          -0.9516303805555207,
          -1.609155510582861,
          -0.40131901516196106,
          0.13751866377005473,
          -0.18217209654260266,
          0.7860287209432499,
          -0.3291145050836312,
          0.26243641711107646,
          -0.2878202787345519,
          -0.9128405545141554,
          -0.8312673902052876,
          -0.30275398434875406,
          0.8206462677630454,
          -0.4263469225679497,
          -1.120886690537222,
          -1.3285668861396507,
          1.3694310001895356,
          -0.8310020565902191,
          0.9175748272459755,
          -0.378438553528216,
          -0.27712991270684717,
          1.0411739903759445,
          -0.9520320074714249,
          1.9180612257286693,
          -0.2408163797498644,
          -0.7080841797917553,
          -0.12956203263442628,
          1.3475162159337835,
          0.627818631947682,
          -1.716800425038791,
          -0.2704552717952776,
          1.6795627933379111,
          -1.0832558636122478,
          0.7421375992266598,
          0.07262878557573275,
          -1.004922520323428,
          0.795976586815005,
          -0.3048903799119217,
          0.631689680578985,
          0.48543456020033926,
          -0.6346491295703771,
          1.5676354822561684,
          -0.6927541999080309,
          1.2117825885964526,
          -0.8588951660933406,
          0.04556918339778246,
          -0.2509167430446283,
          -2.410866061933873,
          -0.309138274041897,
          -0.7943130822699094,
          -1.0227254868016358,
          -0.21726475438931492,
          -0.8754548694426114,
          1.4769569272751402,
          -1.1198238404890728,
          -0.01166713487201717,
          -0.8704916124383638,
          -0.7452030374081205,
          1.0980138822393697,
          -1.2920538475380032,
          0.4820522082297061,
          0.5801132346756122,
          -1.172445079797513,
          0.10794550998379952,
          0.4549470143952793,
          1.0461950013526864,
          -1.5081622005182924,
          1.226275464583169,
          -1.5599668548836045,
          0.744306083529144,
          -0.08554417277120979,
          -1.3241444170103283,
          -1.6113510314540873,
          -1.873746753759231,
          -1.6944197671866323,
          0.6247438287291291,
          -0.1818162989389835,
          -0.45067126644989614,
          -1.1897704812162915,
          1.4373509460024958,
          -1.0109890424592494,
          -0.2246209543647973,
          -1.0054544415043833,
          -0.8917803201970335,
          0.11013000673782364,
          0.8460814387692865,
          -0.2960568336761955,
          1.6971034217877161,
          -0.6242430462122459,
          -0.9875452455298763,
          -1.1465984440862063,
          -0.6955021346674213,
          0.08545122043946983
         ]
        }
       ],
       "layout": {
        "barmode": "overlay",
        "legend": {
         "bgcolor": "#F5F6F9",
         "font": {
          "color": "#4D5663"
         }
        },
        "paper_bgcolor": "#F5F6F9",
        "plot_bgcolor": "#F5F6F9",
        "template": {
         "data": {
          "bar": [
           {
            "error_x": {
             "color": "#2a3f5f"
            },
            "error_y": {
             "color": "#2a3f5f"
            },
            "marker": {
             "line": {
              "color": "#E5ECF6",
              "width": 0.5
             }
            },
            "type": "bar"
           }
          ],
          "barpolar": [
           {
            "marker": {
             "line": {
              "color": "#E5ECF6",
              "width": 0.5
             }
            },
            "type": "barpolar"
           }
          ],
          "carpet": [
           {
            "aaxis": {
             "endlinecolor": "#2a3f5f",
             "gridcolor": "white",
             "linecolor": "white",
             "minorgridcolor": "white",
             "startlinecolor": "#2a3f5f"
            },
            "baxis": {
             "endlinecolor": "#2a3f5f",
             "gridcolor": "white",
             "linecolor": "white",
             "minorgridcolor": "white",
             "startlinecolor": "#2a3f5f"
            },
            "type": "carpet"
           }
          ],
          "choropleth": [
           {
            "colorbar": {
             "outlinewidth": 0,
             "ticks": ""
            },
            "type": "choropleth"
           }
          ],
          "contour": [
           {
            "colorbar": {
             "outlinewidth": 0,
             "ticks": ""
            },
            "colorscale": [
             [
              0,
              "#0d0887"
             ],
             [
              0.1111111111111111,
              "#46039f"
             ],
             [
              0.2222222222222222,
              "#7201a8"
             ],
             [
              0.3333333333333333,
              "#9c179e"
             ],
             [
              0.4444444444444444,
              "#bd3786"
             ],
             [
              0.5555555555555556,
              "#d8576b"
             ],
             [
              0.6666666666666666,
              "#ed7953"
             ],
             [
              0.7777777777777778,
              "#fb9f3a"
             ],
             [
              0.8888888888888888,
              "#fdca26"
             ],
             [
              1,
              "#f0f921"
             ]
            ],
            "type": "contour"
           }
          ],
          "contourcarpet": [
           {
            "colorbar": {
             "outlinewidth": 0,
             "ticks": ""
            },
            "type": "contourcarpet"
           }
          ],
          "heatmap": [
           {
            "colorbar": {
             "outlinewidth": 0,
             "ticks": ""
            },
            "colorscale": [
             [
              0,
              "#0d0887"
             ],
             [
              0.1111111111111111,
              "#46039f"
             ],
             [
              0.2222222222222222,
              "#7201a8"
             ],
             [
              0.3333333333333333,
              "#9c179e"
             ],
             [
              0.4444444444444444,
              "#bd3786"
             ],
             [
              0.5555555555555556,
              "#d8576b"
             ],
             [
              0.6666666666666666,
              "#ed7953"
             ],
             [
              0.7777777777777778,
              "#fb9f3a"
             ],
             [
              0.8888888888888888,
              "#fdca26"
             ],
             [
              1,
              "#f0f921"
             ]
            ],
            "type": "heatmap"
           }
          ],
          "heatmapgl": [
           {
            "colorbar": {
             "outlinewidth": 0,
             "ticks": ""
            },
            "colorscale": [
             [
              0,
              "#0d0887"
             ],
             [
              0.1111111111111111,
              "#46039f"
             ],
             [
              0.2222222222222222,
              "#7201a8"
             ],
             [
              0.3333333333333333,
              "#9c179e"
             ],
             [
              0.4444444444444444,
              "#bd3786"
             ],
             [
              0.5555555555555556,
              "#d8576b"
             ],
             [
              0.6666666666666666,
              "#ed7953"
             ],
             [
              0.7777777777777778,
              "#fb9f3a"
             ],
             [
              0.8888888888888888,
              "#fdca26"
             ],
             [
              1,
              "#f0f921"
             ]
            ],
            "type": "heatmapgl"
           }
          ],
          "histogram": [
           {
            "marker": {
             "colorbar": {
              "outlinewidth": 0,
              "ticks": ""
             }
            },
            "type": "histogram"
           }
          ],
          "histogram2d": [
           {
            "colorbar": {
             "outlinewidth": 0,
             "ticks": ""
            },
            "colorscale": [
             [
              0,
              "#0d0887"
             ],
             [
              0.1111111111111111,
              "#46039f"
             ],
             [
              0.2222222222222222,
              "#7201a8"
             ],
             [
              0.3333333333333333,
              "#9c179e"
             ],
             [
              0.4444444444444444,
              "#bd3786"
             ],
             [
              0.5555555555555556,
              "#d8576b"
             ],
             [
              0.6666666666666666,
              "#ed7953"
             ],
             [
              0.7777777777777778,
              "#fb9f3a"
             ],
             [
              0.8888888888888888,
              "#fdca26"
             ],
             [
              1,
              "#f0f921"
             ]
            ],
            "type": "histogram2d"
           }
          ],
          "histogram2dcontour": [
           {
            "colorbar": {
             "outlinewidth": 0,
             "ticks": ""
            },
            "colorscale": [
             [
              0,
              "#0d0887"
             ],
             [
              0.1111111111111111,
              "#46039f"
             ],
             [
              0.2222222222222222,
              "#7201a8"
             ],
             [
              0.3333333333333333,
              "#9c179e"
             ],
             [
              0.4444444444444444,
              "#bd3786"
             ],
             [
              0.5555555555555556,
              "#d8576b"
             ],
             [
              0.6666666666666666,
              "#ed7953"
             ],
             [
              0.7777777777777778,
              "#fb9f3a"
             ],
             [
              0.8888888888888888,
              "#fdca26"
             ],
             [
              1,
              "#f0f921"
             ]
            ],
            "type": "histogram2dcontour"
           }
          ],
          "mesh3d": [
           {
            "colorbar": {
             "outlinewidth": 0,
             "ticks": ""
            },
            "type": "mesh3d"
           }
          ],
          "parcoords": [
           {
            "line": {
             "colorbar": {
              "outlinewidth": 0,
              "ticks": ""
             }
            },
            "type": "parcoords"
           }
          ],
          "pie": [
           {
            "automargin": true,
            "type": "pie"
           }
          ],
          "scatter": [
           {
            "marker": {
             "colorbar": {
              "outlinewidth": 0,
              "ticks": ""
             }
            },
            "type": "scatter"
           }
          ],
          "scatter3d": [
           {
            "line": {
             "colorbar": {
              "outlinewidth": 0,
              "ticks": ""
             }
            },
            "marker": {
             "colorbar": {
              "outlinewidth": 0,
              "ticks": ""
             }
            },
            "type": "scatter3d"
           }
          ],
          "scattercarpet": [
           {
            "marker": {
             "colorbar": {
              "outlinewidth": 0,
              "ticks": ""
             }
            },
            "type": "scattercarpet"
           }
          ],
          "scattergeo": [
           {
            "marker": {
             "colorbar": {
              "outlinewidth": 0,
              "ticks": ""
             }
            },
            "type": "scattergeo"
           }
          ],
          "scattergl": [
           {
            "marker": {
             "colorbar": {
              "outlinewidth": 0,
              "ticks": ""
             }
            },
            "type": "scattergl"
           }
          ],
          "scattermapbox": [
           {
            "marker": {
             "colorbar": {
              "outlinewidth": 0,
              "ticks": ""
             }
            },
            "type": "scattermapbox"
           }
          ],
          "scatterpolar": [
           {
            "marker": {
             "colorbar": {
              "outlinewidth": 0,
              "ticks": ""
             }
            },
            "type": "scatterpolar"
           }
          ],
          "scatterpolargl": [
           {
            "marker": {
             "colorbar": {
              "outlinewidth": 0,
              "ticks": ""
             }
            },
            "type": "scatterpolargl"
           }
          ],
          "scatterternary": [
           {
            "marker": {
             "colorbar": {
              "outlinewidth": 0,
              "ticks": ""
             }
            },
            "type": "scatterternary"
           }
          ],
          "surface": [
           {
            "colorbar": {
             "outlinewidth": 0,
             "ticks": ""
            },
            "colorscale": [
             [
              0,
              "#0d0887"
             ],
             [
              0.1111111111111111,
              "#46039f"
             ],
             [
              0.2222222222222222,
              "#7201a8"
             ],
             [
              0.3333333333333333,
              "#9c179e"
             ],
             [
              0.4444444444444444,
              "#bd3786"
             ],
             [
              0.5555555555555556,
              "#d8576b"
             ],
             [
              0.6666666666666666,
              "#ed7953"
             ],
             [
              0.7777777777777778,
              "#fb9f3a"
             ],
             [
              0.8888888888888888,
              "#fdca26"
             ],
             [
              1,
              "#f0f921"
             ]
            ],
            "type": "surface"
           }
          ],
          "table": [
           {
            "cells": {
             "fill": {
              "color": "#EBF0F8"
             },
             "line": {
              "color": "white"
             }
            },
            "header": {
             "fill": {
              "color": "#C8D4E3"
             },
             "line": {
              "color": "white"
             }
            },
            "type": "table"
           }
          ]
         },
         "layout": {
          "annotationdefaults": {
           "arrowcolor": "#2a3f5f",
           "arrowhead": 0,
           "arrowwidth": 1
          },
          "coloraxis": {
           "colorbar": {
            "outlinewidth": 0,
            "ticks": ""
           }
          },
          "colorscale": {
           "diverging": [
            [
             0,
             "#8e0152"
            ],
            [
             0.1,
             "#c51b7d"
            ],
            [
             0.2,
             "#de77ae"
            ],
            [
             0.3,
             "#f1b6da"
            ],
            [
             0.4,
             "#fde0ef"
            ],
            [
             0.5,
             "#f7f7f7"
            ],
            [
             0.6,
             "#e6f5d0"
            ],
            [
             0.7,
             "#b8e186"
            ],
            [
             0.8,
             "#7fbc41"
            ],
            [
             0.9,
             "#4d9221"
            ],
            [
             1,
             "#276419"
            ]
           ],
           "sequential": [
            [
             0,
             "#0d0887"
            ],
            [
             0.1111111111111111,
             "#46039f"
            ],
            [
             0.2222222222222222,
             "#7201a8"
            ],
            [
             0.3333333333333333,
             "#9c179e"
            ],
            [
             0.4444444444444444,
             "#bd3786"
            ],
            [
             0.5555555555555556,
             "#d8576b"
            ],
            [
             0.6666666666666666,
             "#ed7953"
            ],
            [
             0.7777777777777778,
             "#fb9f3a"
            ],
            [
             0.8888888888888888,
             "#fdca26"
            ],
            [
             1,
             "#f0f921"
            ]
           ],
           "sequentialminus": [
            [
             0,
             "#0d0887"
            ],
            [
             0.1111111111111111,
             "#46039f"
            ],
            [
             0.2222222222222222,
             "#7201a8"
            ],
            [
             0.3333333333333333,
             "#9c179e"
            ],
            [
             0.4444444444444444,
             "#bd3786"
            ],
            [
             0.5555555555555556,
             "#d8576b"
            ],
            [
             0.6666666666666666,
             "#ed7953"
            ],
            [
             0.7777777777777778,
             "#fb9f3a"
            ],
            [
             0.8888888888888888,
             "#fdca26"
            ],
            [
             1,
             "#f0f921"
            ]
           ]
          },
          "colorway": [
           "#636efa",
           "#EF553B",
           "#00cc96",
           "#ab63fa",
           "#FFA15A",
           "#19d3f3",
           "#FF6692",
           "#B6E880",
           "#FF97FF",
           "#FECB52"
          ],
          "font": {
           "color": "#2a3f5f"
          },
          "geo": {
           "bgcolor": "white",
           "lakecolor": "white",
           "landcolor": "#E5ECF6",
           "showlakes": true,
           "showland": true,
           "subunitcolor": "white"
          },
          "hoverlabel": {
           "align": "left"
          },
          "hovermode": "closest",
          "mapbox": {
           "style": "light"
          },
          "paper_bgcolor": "white",
          "plot_bgcolor": "#E5ECF6",
          "polar": {
           "angularaxis": {
            "gridcolor": "white",
            "linecolor": "white",
            "ticks": ""
           },
           "bgcolor": "#E5ECF6",
           "radialaxis": {
            "gridcolor": "white",
            "linecolor": "white",
            "ticks": ""
           }
          },
          "scene": {
           "xaxis": {
            "backgroundcolor": "#E5ECF6",
            "gridcolor": "white",
            "gridwidth": 2,
            "linecolor": "white",
            "showbackground": true,
            "ticks": "",
            "zerolinecolor": "white"
           },
           "yaxis": {
            "backgroundcolor": "#E5ECF6",
            "gridcolor": "white",
            "gridwidth": 2,
            "linecolor": "white",
            "showbackground": true,
            "ticks": "",
            "zerolinecolor": "white"
           },
           "zaxis": {
            "backgroundcolor": "#E5ECF6",
            "gridcolor": "white",
            "gridwidth": 2,
            "linecolor": "white",
            "showbackground": true,
            "ticks": "",
            "zerolinecolor": "white"
           }
          },
          "shapedefaults": {
           "line": {
            "color": "#2a3f5f"
           }
          },
          "ternary": {
           "aaxis": {
            "gridcolor": "white",
            "linecolor": "white",
            "ticks": ""
           },
           "baxis": {
            "gridcolor": "white",
            "linecolor": "white",
            "ticks": ""
           },
           "bgcolor": "#E5ECF6",
           "caxis": {
            "gridcolor": "white",
            "linecolor": "white",
            "ticks": ""
           }
          },
          "title": {
           "x": 0.05
          },
          "xaxis": {
           "automargin": true,
           "gridcolor": "white",
           "linecolor": "white",
           "ticks": "",
           "title": {
            "standoff": 15
           },
           "zerolinecolor": "white",
           "zerolinewidth": 2
          },
          "yaxis": {
           "automargin": true,
           "gridcolor": "white",
           "linecolor": "white",
           "ticks": "",
           "title": {
            "standoff": 15
           },
           "zerolinecolor": "white",
           "zerolinewidth": 2
          }
         }
        },
        "title": {
         "font": {
          "color": "#4D5663"
         }
        },
        "xaxis": {
         "gridcolor": "#E1E5ED",
         "showgrid": true,
         "tickfont": {
          "color": "#4D5663"
         },
         "title": {
          "font": {
           "color": "#4D5663"
          },
          "text": ""
         },
         "zerolinecolor": "#E1E5ED"
        },
        "yaxis": {
         "gridcolor": "#E1E5ED",
         "showgrid": true,
         "tickfont": {
          "color": "#4D5663"
         },
         "title": {
          "font": {
           "color": "#4D5663"
          },
          "text": ""
         },
         "zerolinecolor": "#E1E5ED"
        }
       }
      },
      "text/html": [
       "<div>\n",
       "        \n",
       "        \n",
       "            <div id=\"436fc1a8-fb56-4a95-942c-d36252fc5f24\" class=\"plotly-graph-div\" style=\"height:525px; width:100%;\"></div>\n",
       "            <script type=\"text/javascript\">\n",
       "                require([\"plotly\"], function(Plotly) {\n",
       "                    window.PLOTLYENV=window.PLOTLYENV || {};\n",
       "                    window.PLOTLYENV.BASE_URL='https://plot.ly';\n",
       "                    \n",
       "                if (document.getElementById(\"436fc1a8-fb56-4a95-942c-d36252fc5f24\")) {\n",
       "                    Plotly.newPlot(\n",
       "                        '436fc1a8-fb56-4a95-942c-d36252fc5f24',\n",
       "                        [{\"histfunc\": \"count\", \"histnorm\": \"\", \"marker\": {\"color\": \"rgba(255, 153, 51, 1.0)\", \"line\": {\"color\": \"#4D5663\", \"width\": 1.3}}, \"name\": \"A\", \"nbinsx\": 50, \"opacity\": 0.8, \"orientation\": \"v\", \"type\": \"histogram\", \"x\": [0.7184152132165522, -0.07374414338489427, 1.3263250429191824, -0.6233809421936106, 0.4742001274446034, -0.7437583934588065, -0.20562971175271394, -0.7912846928747075, -0.02702597232497973, 0.6772742353991352, 0.2488440802940327, -1.2274686431849393, 1.254910728577048, 1.6838038342892818, 0.47921977443036406, -0.5022224516406076, -1.8745692527395976, 1.9627993771005607, 0.9560756328354928, -0.04359285288303292, 0.6415439448675059, 0.27977343160563767, -2.768644598762758, 0.05983857939039157, 1.3679925048742787, -0.10294575790551182, -0.2699661091353834, -1.2763005264901317, -0.605644482213025, 0.4211936567382423, 2.266041396863613, 1.185381051419868, -1.0917455888736831, 0.2027947575196413, -0.17045514705133089, 0.8437438075614856, -0.23401836744499166, -0.5242333839647763, -0.31142091937150457, -0.9076703163927581, -1.837456312116648, -2.024823808987759, -1.8596832253495934, -0.35995344488929754, -0.1560997144255655, -0.24862232873532386, -0.5330745736291332, 0.42241547345708086, 0.6285806273053471, -0.5757328837855584, 0.7320221470593188, -0.78920439441667, 0.24399057919069703, 1.403681725672624, -0.36497311179059233, -1.2035747602760776, -0.6799866071005245, -1.383687431161648, 1.7204180525409456, 0.7798432843313373, -1.746971525420941, -1.0509291587207734, 0.21952730859203842, 0.5153002455921952, 0.662698390986974, -1.3706491187827667, -0.18692234413642134, 0.20435033186983825, 0.9577209134936103, -1.7580578520641799, 1.934397248202235, -0.2419679983579328, -1.3560222792664143, -1.6380730147438929, 0.542730758603566, -0.06911316253794753, 0.9256442751713155, -1.2929221940251012, -0.922538122771601, 1.0787188690915535, 1.5772741845128695, 0.8298802627756018, 1.1312577460069513, 0.5757750599947684, 0.8140317333587312, -0.8666171022168118, -0.09076294738478492, 0.7675522138256289, -0.1310600103165868, -0.700574932350856, 0.4347324878153614, -1.8128643854407822, -0.28217756256423554, -1.1676894050183275, 0.5138668046894407, -1.1695517800152062, 1.0658983671799178, 0.4561467894013599, -1.0421540922213297, -0.0011269428682303502]}, {\"histfunc\": \"count\", \"histnorm\": \"\", \"marker\": {\"color\": \"rgba(55, 128, 191, 1.0)\", \"line\": {\"color\": \"#4D5663\", \"width\": 1.3}}, \"name\": \"B\", \"nbinsx\": 50, \"opacity\": 0.8, \"orientation\": \"v\", \"type\": \"histogram\", \"x\": [-0.574006817058656, -0.7266588076382805, -0.3582653821205203, 0.4108711973078174, -0.32049412434813634, 0.04773441291937425, -0.3688892653969485, -1.9676847227099559, 0.25795986598318144, 0.537925471808953, -1.4962385157709366, 0.5057892669442116, -0.29203313936093456, 0.6328171202069542, -1.0522874962492237, 0.7878930777939451, 1.4309553115391773, 0.1889102418784355, -0.013342842989387687, 3.116070838792739, -0.41845360400421255, 1.9858575207739673, 0.6403115956548909, 0.1907142736681472, -1.504935982311471, 0.7416036365144881, 0.1676053881271684, -0.24114082085754754, -0.8756962069315755, -0.525281131553952, 0.16729678126738956, -1.4261549151524915, -0.8095904163469871, 1.6988271573620615, 1.7586594424748208, 1.1173774377465564, -0.18402664254405693, -0.8725967786135869, 0.9340462500605381, 0.0436769694271896, 0.2528261269315577, -0.48797455718435667, 0.4185303541013756, -1.2115610819467757, -1.3873781031274601, -2.134924563226702, -0.36394732545907527, -1.8930906878602132, 0.30419682598120823, -1.2397000596617789, 1.5072415238223666, 0.5076516583359088, -0.27253561558943046, 0.9944063915869681, 0.20503443372919314, 0.11496705703028283, 2.2451308551185214, -1.1894233003016832, -0.4109483665207544, 0.4564664039644072, 0.0594821775386694, 2.025352796007877, 0.13277668831354794, 1.084947573356576, 0.2886397552371678, -0.46229439145929685, 0.07114397903457587, -0.36825571307179933, 0.0580491159714769, -1.3175848043112401, 1.6977785396994103, 1.5238962245440153, 0.6735606382188081, 0.27852016317782674, -0.5125567623845447, 0.8200273758606282, 1.0211947809981352, -0.43694675512536835, 2.4293952236159813, 1.075463756336378, 1.4049925716695653, 1.116341730370617, -0.7067699756998078, 0.516178571121736, 0.27073191733361573, -1.030797684921648, -1.1109877307709126, 0.4322628958451547, -0.9748824546183325, -2.0597490912023915, 0.22368680313699774, -0.5803128715110616, -2.3645027848541047, 0.29715916628752514, 1.3546167563630593, -0.25223335075808057, 0.1881641349093222, 2.6987241405368656, -1.3327602486409937, -0.6169747814033371]}, {\"histfunc\": \"count\", \"histnorm\": \"\", \"marker\": {\"color\": \"rgba(50, 171, 96, 1.0)\", \"line\": {\"color\": \"#4D5663\", \"width\": 1.3}}, \"name\": \"C\", \"nbinsx\": 50, \"opacity\": 0.8, \"orientation\": \"v\", \"type\": \"histogram\", \"x\": [0.4186050978255918, 0.9660299067572595, -0.4318143275388457, 0.5065075567870579, 1.4859078649464117, 2.037283479738617, 0.1718877247483784, 0.47531459547715643, 0.42823940845213554, -0.21305545190507444, 0.28190489492175935, -0.173204935815877, 0.39757462485732936, 1.3856892836568033, 0.9822240896658297, 1.938516935317932, 0.2152802615769902, -1.6198131628409123, 0.5373273678187647, 1.0074272134548774, -0.8947699356644431, -0.20862165688177156, -0.10861066684874332, 0.4534828477073112, 0.8168342651047499, -0.1687725979146592, -0.5712267200634286, -1.1119129875224343, -1.6453222605018447, 0.9855003647827035, 1.7181503768731639, -0.12801937833791582, -0.759239480823569, -0.15604891625994818, -0.7308177686807426, -0.7654926526655869, -1.4628634609740454, -0.11367567007750326, 0.44960352548597154, -0.9706311730653845, 1.2545677594079299, -2.271041367591699, 1.104145953395362, 0.6195613024301116, -0.5005945813435325, -0.9063252531488935, -0.043850682877327164, -0.8454320211462417, 0.7108991077320378, -1.9204840919319068, -1.458754114994838, -0.20099174944696324, -0.22259167976453564, -0.35670458652429826, -1.2551092820330252, -1.7901862237899924, 0.9448393991015264, -0.1572709025185171, -1.6644238182098812, 0.3172932947843975, -0.23550701831544502, 0.2657712421161027, -0.053078294913159324, -2.398334429775859, 0.7519569965442786, -0.16681679209782702, 0.3452512000546205, -0.2910305465854694, -0.33331624044084773, 0.9055671431700401, -0.42227825539631764, -1.2871107075659745, 0.02109412124539801, -0.9061252419518914, -0.30150226561932414, 1.334079070716369, -0.9170838735545183, 0.4103890346700743, -0.5089311284427338, 0.21384246102570673, -0.25502806255931987, 0.8148800270629623, 0.042616665556271735, -0.1568235945172625, -0.04308239534943786, -0.28435314213034757, -1.0269739230542796, 1.269247105161303, 1.1439941254385915, 0.39004917349610146, -0.282070716056746, -0.5068669529975444, 1.0857202913987292, -0.9641678103539787, 2.403598393563145, -1.1166542022763057, 0.0546234593929146, -0.9843132869855903, 1.3621554962299072, 0.8257631253025725]}, {\"histfunc\": \"count\", \"histnorm\": \"\", \"marker\": {\"color\": \"rgba(128, 0, 128, 1.0)\", \"line\": {\"color\": \"#4D5663\", \"width\": 1.3}}, \"name\": \"D\", \"nbinsx\": 50, \"opacity\": 0.8, \"orientation\": \"v\", \"type\": \"histogram\", \"x\": [-0.44737534191412004, 1.109785149730803, -0.31221247860147944, 0.276185368698082, -1.922113777992666, 0.5494499941511534, 0.7206549564338, -0.9516303805555207, -1.609155510582861, -0.40131901516196106, 0.13751866377005473, -0.18217209654260266, 0.7860287209432499, -0.3291145050836312, 0.26243641711107646, -0.2878202787345519, -0.9128405545141554, -0.8312673902052876, -0.30275398434875406, 0.8206462677630454, -0.4263469225679497, -1.120886690537222, -1.3285668861396507, 1.3694310001895356, -0.8310020565902191, 0.9175748272459755, -0.378438553528216, -0.27712991270684717, 1.0411739903759445, -0.9520320074714249, 1.9180612257286693, -0.2408163797498644, -0.7080841797917553, -0.12956203263442628, 1.3475162159337835, 0.627818631947682, -1.716800425038791, -0.2704552717952776, 1.6795627933379111, -1.0832558636122478, 0.7421375992266598, 0.07262878557573275, -1.004922520323428, 0.795976586815005, -0.3048903799119217, 0.631689680578985, 0.48543456020033926, -0.6346491295703771, 1.5676354822561684, -0.6927541999080309, 1.2117825885964526, -0.8588951660933406, 0.04556918339778246, -0.2509167430446283, -2.410866061933873, -0.309138274041897, -0.7943130822699094, -1.0227254868016358, -0.21726475438931492, -0.8754548694426114, 1.4769569272751402, -1.1198238404890728, -0.01166713487201717, -0.8704916124383638, -0.7452030374081205, 1.0980138822393697, -1.2920538475380032, 0.4820522082297061, 0.5801132346756122, -1.172445079797513, 0.10794550998379952, 0.4549470143952793, 1.0461950013526864, -1.5081622005182924, 1.226275464583169, -1.5599668548836045, 0.744306083529144, -0.08554417277120979, -1.3241444170103283, -1.6113510314540873, -1.873746753759231, -1.6944197671866323, 0.6247438287291291, -0.1818162989389835, -0.45067126644989614, -1.1897704812162915, 1.4373509460024958, -1.0109890424592494, -0.2246209543647973, -1.0054544415043833, -0.8917803201970335, 0.11013000673782364, 0.8460814387692865, -0.2960568336761955, 1.6971034217877161, -0.6242430462122459, -0.9875452455298763, -1.1465984440862063, -0.6955021346674213, 0.08545122043946983]}],\n",
       "                        {\"barmode\": \"overlay\", \"legend\": {\"bgcolor\": \"#F5F6F9\", \"font\": {\"color\": \"#4D5663\"}}, \"paper_bgcolor\": \"#F5F6F9\", \"plot_bgcolor\": \"#F5F6F9\", \"template\": {\"data\": {\"bar\": [{\"error_x\": {\"color\": \"#2a3f5f\"}, \"error_y\": {\"color\": \"#2a3f5f\"}, \"marker\": {\"line\": {\"color\": \"#E5ECF6\", \"width\": 0.5}}, \"type\": \"bar\"}], \"barpolar\": [{\"marker\": {\"line\": {\"color\": \"#E5ECF6\", \"width\": 0.5}}, \"type\": \"barpolar\"}], \"carpet\": [{\"aaxis\": {\"endlinecolor\": \"#2a3f5f\", \"gridcolor\": \"white\", \"linecolor\": \"white\", \"minorgridcolor\": \"white\", \"startlinecolor\": \"#2a3f5f\"}, \"baxis\": {\"endlinecolor\": \"#2a3f5f\", \"gridcolor\": \"white\", \"linecolor\": \"white\", \"minorgridcolor\": \"white\", \"startlinecolor\": \"#2a3f5f\"}, \"type\": \"carpet\"}], \"choropleth\": [{\"colorbar\": {\"outlinewidth\": 0, \"ticks\": \"\"}, \"type\": \"choropleth\"}], \"contour\": [{\"colorbar\": {\"outlinewidth\": 0, \"ticks\": \"\"}, \"colorscale\": [[0.0, \"#0d0887\"], [0.1111111111111111, \"#46039f\"], [0.2222222222222222, \"#7201a8\"], [0.3333333333333333, \"#9c179e\"], [0.4444444444444444, \"#bd3786\"], [0.5555555555555556, \"#d8576b\"], [0.6666666666666666, \"#ed7953\"], [0.7777777777777778, \"#fb9f3a\"], [0.8888888888888888, \"#fdca26\"], [1.0, \"#f0f921\"]], \"type\": \"contour\"}], \"contourcarpet\": [{\"colorbar\": {\"outlinewidth\": 0, \"ticks\": \"\"}, \"type\": \"contourcarpet\"}], \"heatmap\": [{\"colorbar\": {\"outlinewidth\": 0, \"ticks\": \"\"}, \"colorscale\": [[0.0, \"#0d0887\"], [0.1111111111111111, \"#46039f\"], [0.2222222222222222, \"#7201a8\"], [0.3333333333333333, \"#9c179e\"], [0.4444444444444444, \"#bd3786\"], [0.5555555555555556, \"#d8576b\"], [0.6666666666666666, \"#ed7953\"], [0.7777777777777778, \"#fb9f3a\"], [0.8888888888888888, \"#fdca26\"], [1.0, \"#f0f921\"]], \"type\": \"heatmap\"}], \"heatmapgl\": [{\"colorbar\": {\"outlinewidth\": 0, \"ticks\": \"\"}, \"colorscale\": [[0.0, \"#0d0887\"], [0.1111111111111111, \"#46039f\"], [0.2222222222222222, \"#7201a8\"], [0.3333333333333333, \"#9c179e\"], [0.4444444444444444, \"#bd3786\"], [0.5555555555555556, \"#d8576b\"], [0.6666666666666666, \"#ed7953\"], [0.7777777777777778, \"#fb9f3a\"], [0.8888888888888888, \"#fdca26\"], [1.0, \"#f0f921\"]], \"type\": \"heatmapgl\"}], \"histogram\": [{\"marker\": {\"colorbar\": {\"outlinewidth\": 0, \"ticks\": \"\"}}, \"type\": \"histogram\"}], \"histogram2d\": [{\"colorbar\": {\"outlinewidth\": 0, \"ticks\": \"\"}, \"colorscale\": [[0.0, \"#0d0887\"], [0.1111111111111111, \"#46039f\"], [0.2222222222222222, \"#7201a8\"], [0.3333333333333333, \"#9c179e\"], [0.4444444444444444, \"#bd3786\"], [0.5555555555555556, \"#d8576b\"], [0.6666666666666666, \"#ed7953\"], [0.7777777777777778, \"#fb9f3a\"], [0.8888888888888888, \"#fdca26\"], [1.0, \"#f0f921\"]], \"type\": \"histogram2d\"}], \"histogram2dcontour\": [{\"colorbar\": {\"outlinewidth\": 0, \"ticks\": \"\"}, \"colorscale\": [[0.0, \"#0d0887\"], [0.1111111111111111, \"#46039f\"], [0.2222222222222222, \"#7201a8\"], [0.3333333333333333, \"#9c179e\"], [0.4444444444444444, \"#bd3786\"], [0.5555555555555556, \"#d8576b\"], [0.6666666666666666, \"#ed7953\"], [0.7777777777777778, \"#fb9f3a\"], [0.8888888888888888, \"#fdca26\"], [1.0, \"#f0f921\"]], \"type\": \"histogram2dcontour\"}], \"mesh3d\": [{\"colorbar\": {\"outlinewidth\": 0, \"ticks\": \"\"}, \"type\": \"mesh3d\"}], \"parcoords\": [{\"line\": {\"colorbar\": {\"outlinewidth\": 0, \"ticks\": \"\"}}, \"type\": \"parcoords\"}], \"pie\": [{\"automargin\": true, \"type\": \"pie\"}], \"scatter\": [{\"marker\": {\"colorbar\": {\"outlinewidth\": 0, \"ticks\": \"\"}}, \"type\": \"scatter\"}], \"scatter3d\": [{\"line\": {\"colorbar\": {\"outlinewidth\": 0, \"ticks\": \"\"}}, \"marker\": {\"colorbar\": {\"outlinewidth\": 0, \"ticks\": \"\"}}, \"type\": \"scatter3d\"}], \"scattercarpet\": [{\"marker\": {\"colorbar\": {\"outlinewidth\": 0, \"ticks\": \"\"}}, \"type\": \"scattercarpet\"}], \"scattergeo\": [{\"marker\": {\"colorbar\": {\"outlinewidth\": 0, \"ticks\": \"\"}}, \"type\": \"scattergeo\"}], \"scattergl\": [{\"marker\": {\"colorbar\": {\"outlinewidth\": 0, \"ticks\": \"\"}}, \"type\": \"scattergl\"}], \"scattermapbox\": [{\"marker\": {\"colorbar\": {\"outlinewidth\": 0, \"ticks\": \"\"}}, \"type\": \"scattermapbox\"}], \"scatterpolar\": [{\"marker\": {\"colorbar\": {\"outlinewidth\": 0, \"ticks\": \"\"}}, \"type\": \"scatterpolar\"}], \"scatterpolargl\": [{\"marker\": {\"colorbar\": {\"outlinewidth\": 0, \"ticks\": \"\"}}, \"type\": \"scatterpolargl\"}], \"scatterternary\": [{\"marker\": {\"colorbar\": {\"outlinewidth\": 0, \"ticks\": \"\"}}, \"type\": \"scatterternary\"}], \"surface\": [{\"colorbar\": {\"outlinewidth\": 0, \"ticks\": \"\"}, \"colorscale\": [[0.0, \"#0d0887\"], [0.1111111111111111, \"#46039f\"], [0.2222222222222222, \"#7201a8\"], [0.3333333333333333, \"#9c179e\"], [0.4444444444444444, \"#bd3786\"], [0.5555555555555556, \"#d8576b\"], [0.6666666666666666, \"#ed7953\"], [0.7777777777777778, \"#fb9f3a\"], [0.8888888888888888, \"#fdca26\"], [1.0, \"#f0f921\"]], \"type\": \"surface\"}], \"table\": [{\"cells\": {\"fill\": {\"color\": \"#EBF0F8\"}, \"line\": {\"color\": \"white\"}}, \"header\": {\"fill\": {\"color\": \"#C8D4E3\"}, \"line\": {\"color\": \"white\"}}, \"type\": \"table\"}]}, \"layout\": {\"annotationdefaults\": {\"arrowcolor\": \"#2a3f5f\", \"arrowhead\": 0, \"arrowwidth\": 1}, \"coloraxis\": {\"colorbar\": {\"outlinewidth\": 0, \"ticks\": \"\"}}, \"colorscale\": {\"diverging\": [[0, \"#8e0152\"], [0.1, \"#c51b7d\"], [0.2, \"#de77ae\"], [0.3, \"#f1b6da\"], [0.4, \"#fde0ef\"], [0.5, \"#f7f7f7\"], [0.6, \"#e6f5d0\"], [0.7, \"#b8e186\"], [0.8, \"#7fbc41\"], [0.9, \"#4d9221\"], [1, \"#276419\"]], \"sequential\": [[0.0, \"#0d0887\"], [0.1111111111111111, \"#46039f\"], [0.2222222222222222, \"#7201a8\"], [0.3333333333333333, \"#9c179e\"], [0.4444444444444444, \"#bd3786\"], [0.5555555555555556, \"#d8576b\"], [0.6666666666666666, \"#ed7953\"], [0.7777777777777778, \"#fb9f3a\"], [0.8888888888888888, \"#fdca26\"], [1.0, \"#f0f921\"]], \"sequentialminus\": [[0.0, \"#0d0887\"], [0.1111111111111111, \"#46039f\"], [0.2222222222222222, \"#7201a8\"], [0.3333333333333333, \"#9c179e\"], [0.4444444444444444, \"#bd3786\"], [0.5555555555555556, \"#d8576b\"], [0.6666666666666666, \"#ed7953\"], [0.7777777777777778, \"#fb9f3a\"], [0.8888888888888888, \"#fdca26\"], [1.0, \"#f0f921\"]]}, \"colorway\": [\"#636efa\", \"#EF553B\", \"#00cc96\", \"#ab63fa\", \"#FFA15A\", \"#19d3f3\", \"#FF6692\", \"#B6E880\", \"#FF97FF\", \"#FECB52\"], \"font\": {\"color\": \"#2a3f5f\"}, \"geo\": {\"bgcolor\": \"white\", \"lakecolor\": \"white\", \"landcolor\": \"#E5ECF6\", \"showlakes\": true, \"showland\": true, \"subunitcolor\": \"white\"}, \"hoverlabel\": {\"align\": \"left\"}, \"hovermode\": \"closest\", \"mapbox\": {\"style\": \"light\"}, \"paper_bgcolor\": \"white\", \"plot_bgcolor\": \"#E5ECF6\", \"polar\": {\"angularaxis\": {\"gridcolor\": \"white\", \"linecolor\": \"white\", \"ticks\": \"\"}, \"bgcolor\": \"#E5ECF6\", \"radialaxis\": {\"gridcolor\": \"white\", \"linecolor\": \"white\", \"ticks\": \"\"}}, \"scene\": {\"xaxis\": {\"backgroundcolor\": \"#E5ECF6\", \"gridcolor\": \"white\", \"gridwidth\": 2, \"linecolor\": \"white\", \"showbackground\": true, \"ticks\": \"\", \"zerolinecolor\": \"white\"}, \"yaxis\": {\"backgroundcolor\": \"#E5ECF6\", \"gridcolor\": \"white\", \"gridwidth\": 2, \"linecolor\": \"white\", \"showbackground\": true, \"ticks\": \"\", \"zerolinecolor\": \"white\"}, \"zaxis\": {\"backgroundcolor\": \"#E5ECF6\", \"gridcolor\": \"white\", \"gridwidth\": 2, \"linecolor\": \"white\", \"showbackground\": true, \"ticks\": \"\", \"zerolinecolor\": \"white\"}}, \"shapedefaults\": {\"line\": {\"color\": \"#2a3f5f\"}}, \"ternary\": {\"aaxis\": {\"gridcolor\": \"white\", \"linecolor\": \"white\", \"ticks\": \"\"}, \"baxis\": {\"gridcolor\": \"white\", \"linecolor\": \"white\", \"ticks\": \"\"}, \"bgcolor\": \"#E5ECF6\", \"caxis\": {\"gridcolor\": \"white\", \"linecolor\": \"white\", \"ticks\": \"\"}}, \"title\": {\"x\": 0.05}, \"xaxis\": {\"automargin\": true, \"gridcolor\": \"white\", \"linecolor\": \"white\", \"ticks\": \"\", \"title\": {\"standoff\": 15}, \"zerolinecolor\": \"white\", \"zerolinewidth\": 2}, \"yaxis\": {\"automargin\": true, \"gridcolor\": \"white\", \"linecolor\": \"white\", \"ticks\": \"\", \"title\": {\"standoff\": 15}, \"zerolinecolor\": \"white\", \"zerolinewidth\": 2}}}, \"title\": {\"font\": {\"color\": \"#4D5663\"}}, \"xaxis\": {\"gridcolor\": \"#E1E5ED\", \"showgrid\": true, \"tickfont\": {\"color\": \"#4D5663\"}, \"title\": {\"font\": {\"color\": \"#4D5663\"}, \"text\": \"\"}, \"zerolinecolor\": \"#E1E5ED\"}, \"yaxis\": {\"gridcolor\": \"#E1E5ED\", \"showgrid\": true, \"tickfont\": {\"color\": \"#4D5663\"}, \"title\": {\"font\": {\"color\": \"#4D5663\"}, \"text\": \"\"}, \"zerolinecolor\": \"#E1E5ED\"}},\n",
       "                        {\"showLink\": true, \"linkText\": \"Export to plot.ly\", \"plotlyServerURL\": \"https://plot.ly\", \"responsive\": true}\n",
       "                    ).then(function(){\n",
       "                            \n",
       "var gd = document.getElementById('436fc1a8-fb56-4a95-942c-d36252fc5f24');\n",
       "var x = new MutationObserver(function (mutations, observer) {{\n",
       "        var display = window.getComputedStyle(gd).display;\n",
       "        if (!display || display === 'none') {{\n",
       "            console.log([gd, 'removed!']);\n",
       "            Plotly.purge(gd);\n",
       "            observer.disconnect();\n",
       "        }}\n",
       "}});\n",
       "\n",
       "// Listen for the removal of the full notebook cells\n",
       "var notebookContainer = gd.closest('#notebook-container');\n",
       "if (notebookContainer) {{\n",
       "    x.observe(notebookContainer, {childList: true});\n",
       "}}\n",
       "\n",
       "// Listen for the clearing of the current output cell\n",
       "var outputEl = gd.closest('.output');\n",
       "if (outputEl) {{\n",
       "    x.observe(outputEl, {childList: true});\n",
       "}}\n",
       "\n",
       "                        })\n",
       "                };\n",
       "                });\n",
       "            </script>\n",
       "        </div>"
      ]
     },
     "metadata": {},
     "output_type": "display_data"
    }
   ],
   "source": [
    "df.iplot(kind='hist',bins=50)"
   ]
  },
  {
   "cell_type": "code",
   "execution_count": 62,
   "metadata": {},
   "outputs": [
    {
     "data": {
      "application/vnd.plotly.v1+json": {
       "config": {
        "linkText": "Export to plot.ly",
        "plotlyServerURL": "https://plot.ly",
        "showLink": true
       },
       "data": [
        {
         "histfunc": "count",
         "histnorm": "",
         "marker": {
          "color": "rgba(255, 153, 51, 1.0)",
          "line": {
           "color": "#4D5663",
           "width": 1.3
          }
         },
         "name": "A",
         "opacity": 0.8,
         "orientation": "v",
         "type": "histogram",
         "x": [
          0.7184152132165522,
          -0.07374414338489427,
          1.3263250429191824,
          -0.6233809421936106,
          0.4742001274446034,
          -0.7437583934588065,
          -0.20562971175271394,
          -0.7912846928747075,
          -0.02702597232497973,
          0.6772742353991352,
          0.2488440802940327,
          -1.2274686431849393,
          1.254910728577048,
          1.6838038342892818,
          0.47921977443036406,
          -0.5022224516406076,
          -1.8745692527395976,
          1.9627993771005607,
          0.9560756328354928,
          -0.04359285288303292,
          0.6415439448675059,
          0.27977343160563767,
          -2.768644598762758,
          0.05983857939039157,
          1.3679925048742787,
          -0.10294575790551182,
          -0.2699661091353834,
          -1.2763005264901317,
          -0.605644482213025,
          0.4211936567382423,
          2.266041396863613,
          1.185381051419868,
          -1.0917455888736831,
          0.2027947575196413,
          -0.17045514705133089,
          0.8437438075614856,
          -0.23401836744499166,
          -0.5242333839647763,
          -0.31142091937150457,
          -0.9076703163927581,
          -1.837456312116648,
          -2.024823808987759,
          -1.8596832253495934,
          -0.35995344488929754,
          -0.1560997144255655,
          -0.24862232873532386,
          -0.5330745736291332,
          0.42241547345708086,
          0.6285806273053471,
          -0.5757328837855584,
          0.7320221470593188,
          -0.78920439441667,
          0.24399057919069703,
          1.403681725672624,
          -0.36497311179059233,
          -1.2035747602760776,
          -0.6799866071005245,
          -1.383687431161648,
          1.7204180525409456,
          0.7798432843313373,
          -1.746971525420941,
          -1.0509291587207734,
          0.21952730859203842,
          0.5153002455921952,
          0.662698390986974,
          -1.3706491187827667,
          -0.18692234413642134,
          0.20435033186983825,
          0.9577209134936103,
          -1.7580578520641799,
          1.934397248202235,
          -0.2419679983579328,
          -1.3560222792664143,
          -1.6380730147438929,
          0.542730758603566,
          -0.06911316253794753,
          0.9256442751713155,
          -1.2929221940251012,
          -0.922538122771601,
          1.0787188690915535,
          1.5772741845128695,
          0.8298802627756018,
          1.1312577460069513,
          0.5757750599947684,
          0.8140317333587312,
          -0.8666171022168118,
          -0.09076294738478492,
          0.7675522138256289,
          -0.1310600103165868,
          -0.700574932350856,
          0.4347324878153614,
          -1.8128643854407822,
          -0.28217756256423554,
          -1.1676894050183275,
          0.5138668046894407,
          -1.1695517800152062,
          1.0658983671799178,
          0.4561467894013599,
          -1.0421540922213297,
          -0.0011269428682303502
         ]
        },
        {
         "histfunc": "count",
         "histnorm": "",
         "marker": {
          "color": "rgba(55, 128, 191, 1.0)",
          "line": {
           "color": "#4D5663",
           "width": 1.3
          }
         },
         "name": "B",
         "opacity": 0.8,
         "orientation": "v",
         "type": "histogram",
         "x": [
          -0.574006817058656,
          -0.7266588076382805,
          -0.3582653821205203,
          0.4108711973078174,
          -0.32049412434813634,
          0.04773441291937425,
          -0.3688892653969485,
          -1.9676847227099559,
          0.25795986598318144,
          0.537925471808953,
          -1.4962385157709366,
          0.5057892669442116,
          -0.29203313936093456,
          0.6328171202069542,
          -1.0522874962492237,
          0.7878930777939451,
          1.4309553115391773,
          0.1889102418784355,
          -0.013342842989387687,
          3.116070838792739,
          -0.41845360400421255,
          1.9858575207739673,
          0.6403115956548909,
          0.1907142736681472,
          -1.504935982311471,
          0.7416036365144881,
          0.1676053881271684,
          -0.24114082085754754,
          -0.8756962069315755,
          -0.525281131553952,
          0.16729678126738956,
          -1.4261549151524915,
          -0.8095904163469871,
          1.6988271573620615,
          1.7586594424748208,
          1.1173774377465564,
          -0.18402664254405693,
          -0.8725967786135869,
          0.9340462500605381,
          0.0436769694271896,
          0.2528261269315577,
          -0.48797455718435667,
          0.4185303541013756,
          -1.2115610819467757,
          -1.3873781031274601,
          -2.134924563226702,
          -0.36394732545907527,
          -1.8930906878602132,
          0.30419682598120823,
          -1.2397000596617789,
          1.5072415238223666,
          0.5076516583359088,
          -0.27253561558943046,
          0.9944063915869681,
          0.20503443372919314,
          0.11496705703028283,
          2.2451308551185214,
          -1.1894233003016832,
          -0.4109483665207544,
          0.4564664039644072,
          0.0594821775386694,
          2.025352796007877,
          0.13277668831354794,
          1.084947573356576,
          0.2886397552371678,
          -0.46229439145929685,
          0.07114397903457587,
          -0.36825571307179933,
          0.0580491159714769,
          -1.3175848043112401,
          1.6977785396994103,
          1.5238962245440153,
          0.6735606382188081,
          0.27852016317782674,
          -0.5125567623845447,
          0.8200273758606282,
          1.0211947809981352,
          -0.43694675512536835,
          2.4293952236159813,
          1.075463756336378,
          1.4049925716695653,
          1.116341730370617,
          -0.7067699756998078,
          0.516178571121736,
          0.27073191733361573,
          -1.030797684921648,
          -1.1109877307709126,
          0.4322628958451547,
          -0.9748824546183325,
          -2.0597490912023915,
          0.22368680313699774,
          -0.5803128715110616,
          -2.3645027848541047,
          0.29715916628752514,
          1.3546167563630593,
          -0.25223335075808057,
          0.1881641349093222,
          2.6987241405368656,
          -1.3327602486409937,
          -0.6169747814033371
         ]
        }
       ],
       "layout": {
        "barmode": "overlay",
        "legend": {
         "bgcolor": "#F5F6F9",
         "font": {
          "color": "#4D5663"
         }
        },
        "paper_bgcolor": "#F5F6F9",
        "plot_bgcolor": "#F5F6F9",
        "template": {
         "data": {
          "bar": [
           {
            "error_x": {
             "color": "#2a3f5f"
            },
            "error_y": {
             "color": "#2a3f5f"
            },
            "marker": {
             "line": {
              "color": "#E5ECF6",
              "width": 0.5
             }
            },
            "type": "bar"
           }
          ],
          "barpolar": [
           {
            "marker": {
             "line": {
              "color": "#E5ECF6",
              "width": 0.5
             }
            },
            "type": "barpolar"
           }
          ],
          "carpet": [
           {
            "aaxis": {
             "endlinecolor": "#2a3f5f",
             "gridcolor": "white",
             "linecolor": "white",
             "minorgridcolor": "white",
             "startlinecolor": "#2a3f5f"
            },
            "baxis": {
             "endlinecolor": "#2a3f5f",
             "gridcolor": "white",
             "linecolor": "white",
             "minorgridcolor": "white",
             "startlinecolor": "#2a3f5f"
            },
            "type": "carpet"
           }
          ],
          "choropleth": [
           {
            "colorbar": {
             "outlinewidth": 0,
             "ticks": ""
            },
            "type": "choropleth"
           }
          ],
          "contour": [
           {
            "colorbar": {
             "outlinewidth": 0,
             "ticks": ""
            },
            "colorscale": [
             [
              0,
              "#0d0887"
             ],
             [
              0.1111111111111111,
              "#46039f"
             ],
             [
              0.2222222222222222,
              "#7201a8"
             ],
             [
              0.3333333333333333,
              "#9c179e"
             ],
             [
              0.4444444444444444,
              "#bd3786"
             ],
             [
              0.5555555555555556,
              "#d8576b"
             ],
             [
              0.6666666666666666,
              "#ed7953"
             ],
             [
              0.7777777777777778,
              "#fb9f3a"
             ],
             [
              0.8888888888888888,
              "#fdca26"
             ],
             [
              1,
              "#f0f921"
             ]
            ],
            "type": "contour"
           }
          ],
          "contourcarpet": [
           {
            "colorbar": {
             "outlinewidth": 0,
             "ticks": ""
            },
            "type": "contourcarpet"
           }
          ],
          "heatmap": [
           {
            "colorbar": {
             "outlinewidth": 0,
             "ticks": ""
            },
            "colorscale": [
             [
              0,
              "#0d0887"
             ],
             [
              0.1111111111111111,
              "#46039f"
             ],
             [
              0.2222222222222222,
              "#7201a8"
             ],
             [
              0.3333333333333333,
              "#9c179e"
             ],
             [
              0.4444444444444444,
              "#bd3786"
             ],
             [
              0.5555555555555556,
              "#d8576b"
             ],
             [
              0.6666666666666666,
              "#ed7953"
             ],
             [
              0.7777777777777778,
              "#fb9f3a"
             ],
             [
              0.8888888888888888,
              "#fdca26"
             ],
             [
              1,
              "#f0f921"
             ]
            ],
            "type": "heatmap"
           }
          ],
          "heatmapgl": [
           {
            "colorbar": {
             "outlinewidth": 0,
             "ticks": ""
            },
            "colorscale": [
             [
              0,
              "#0d0887"
             ],
             [
              0.1111111111111111,
              "#46039f"
             ],
             [
              0.2222222222222222,
              "#7201a8"
             ],
             [
              0.3333333333333333,
              "#9c179e"
             ],
             [
              0.4444444444444444,
              "#bd3786"
             ],
             [
              0.5555555555555556,
              "#d8576b"
             ],
             [
              0.6666666666666666,
              "#ed7953"
             ],
             [
              0.7777777777777778,
              "#fb9f3a"
             ],
             [
              0.8888888888888888,
              "#fdca26"
             ],
             [
              1,
              "#f0f921"
             ]
            ],
            "type": "heatmapgl"
           }
          ],
          "histogram": [
           {
            "marker": {
             "colorbar": {
              "outlinewidth": 0,
              "ticks": ""
             }
            },
            "type": "histogram"
           }
          ],
          "histogram2d": [
           {
            "colorbar": {
             "outlinewidth": 0,
             "ticks": ""
            },
            "colorscale": [
             [
              0,
              "#0d0887"
             ],
             [
              0.1111111111111111,
              "#46039f"
             ],
             [
              0.2222222222222222,
              "#7201a8"
             ],
             [
              0.3333333333333333,
              "#9c179e"
             ],
             [
              0.4444444444444444,
              "#bd3786"
             ],
             [
              0.5555555555555556,
              "#d8576b"
             ],
             [
              0.6666666666666666,
              "#ed7953"
             ],
             [
              0.7777777777777778,
              "#fb9f3a"
             ],
             [
              0.8888888888888888,
              "#fdca26"
             ],
             [
              1,
              "#f0f921"
             ]
            ],
            "type": "histogram2d"
           }
          ],
          "histogram2dcontour": [
           {
            "colorbar": {
             "outlinewidth": 0,
             "ticks": ""
            },
            "colorscale": [
             [
              0,
              "#0d0887"
             ],
             [
              0.1111111111111111,
              "#46039f"
             ],
             [
              0.2222222222222222,
              "#7201a8"
             ],
             [
              0.3333333333333333,
              "#9c179e"
             ],
             [
              0.4444444444444444,
              "#bd3786"
             ],
             [
              0.5555555555555556,
              "#d8576b"
             ],
             [
              0.6666666666666666,
              "#ed7953"
             ],
             [
              0.7777777777777778,
              "#fb9f3a"
             ],
             [
              0.8888888888888888,
              "#fdca26"
             ],
             [
              1,
              "#f0f921"
             ]
            ],
            "type": "histogram2dcontour"
           }
          ],
          "mesh3d": [
           {
            "colorbar": {
             "outlinewidth": 0,
             "ticks": ""
            },
            "type": "mesh3d"
           }
          ],
          "parcoords": [
           {
            "line": {
             "colorbar": {
              "outlinewidth": 0,
              "ticks": ""
             }
            },
            "type": "parcoords"
           }
          ],
          "pie": [
           {
            "automargin": true,
            "type": "pie"
           }
          ],
          "scatter": [
           {
            "marker": {
             "colorbar": {
              "outlinewidth": 0,
              "ticks": ""
             }
            },
            "type": "scatter"
           }
          ],
          "scatter3d": [
           {
            "line": {
             "colorbar": {
              "outlinewidth": 0,
              "ticks": ""
             }
            },
            "marker": {
             "colorbar": {
              "outlinewidth": 0,
              "ticks": ""
             }
            },
            "type": "scatter3d"
           }
          ],
          "scattercarpet": [
           {
            "marker": {
             "colorbar": {
              "outlinewidth": 0,
              "ticks": ""
             }
            },
            "type": "scattercarpet"
           }
          ],
          "scattergeo": [
           {
            "marker": {
             "colorbar": {
              "outlinewidth": 0,
              "ticks": ""
             }
            },
            "type": "scattergeo"
           }
          ],
          "scattergl": [
           {
            "marker": {
             "colorbar": {
              "outlinewidth": 0,
              "ticks": ""
             }
            },
            "type": "scattergl"
           }
          ],
          "scattermapbox": [
           {
            "marker": {
             "colorbar": {
              "outlinewidth": 0,
              "ticks": ""
             }
            },
            "type": "scattermapbox"
           }
          ],
          "scatterpolar": [
           {
            "marker": {
             "colorbar": {
              "outlinewidth": 0,
              "ticks": ""
             }
            },
            "type": "scatterpolar"
           }
          ],
          "scatterpolargl": [
           {
            "marker": {
             "colorbar": {
              "outlinewidth": 0,
              "ticks": ""
             }
            },
            "type": "scatterpolargl"
           }
          ],
          "scatterternary": [
           {
            "marker": {
             "colorbar": {
              "outlinewidth": 0,
              "ticks": ""
             }
            },
            "type": "scatterternary"
           }
          ],
          "surface": [
           {
            "colorbar": {
             "outlinewidth": 0,
             "ticks": ""
            },
            "colorscale": [
             [
              0,
              "#0d0887"
             ],
             [
              0.1111111111111111,
              "#46039f"
             ],
             [
              0.2222222222222222,
              "#7201a8"
             ],
             [
              0.3333333333333333,
              "#9c179e"
             ],
             [
              0.4444444444444444,
              "#bd3786"
             ],
             [
              0.5555555555555556,
              "#d8576b"
             ],
             [
              0.6666666666666666,
              "#ed7953"
             ],
             [
              0.7777777777777778,
              "#fb9f3a"
             ],
             [
              0.8888888888888888,
              "#fdca26"
             ],
             [
              1,
              "#f0f921"
             ]
            ],
            "type": "surface"
           }
          ],
          "table": [
           {
            "cells": {
             "fill": {
              "color": "#EBF0F8"
             },
             "line": {
              "color": "white"
             }
            },
            "header": {
             "fill": {
              "color": "#C8D4E3"
             },
             "line": {
              "color": "white"
             }
            },
            "type": "table"
           }
          ]
         },
         "layout": {
          "annotationdefaults": {
           "arrowcolor": "#2a3f5f",
           "arrowhead": 0,
           "arrowwidth": 1
          },
          "coloraxis": {
           "colorbar": {
            "outlinewidth": 0,
            "ticks": ""
           }
          },
          "colorscale": {
           "diverging": [
            [
             0,
             "#8e0152"
            ],
            [
             0.1,
             "#c51b7d"
            ],
            [
             0.2,
             "#de77ae"
            ],
            [
             0.3,
             "#f1b6da"
            ],
            [
             0.4,
             "#fde0ef"
            ],
            [
             0.5,
             "#f7f7f7"
            ],
            [
             0.6,
             "#e6f5d0"
            ],
            [
             0.7,
             "#b8e186"
            ],
            [
             0.8,
             "#7fbc41"
            ],
            [
             0.9,
             "#4d9221"
            ],
            [
             1,
             "#276419"
            ]
           ],
           "sequential": [
            [
             0,
             "#0d0887"
            ],
            [
             0.1111111111111111,
             "#46039f"
            ],
            [
             0.2222222222222222,
             "#7201a8"
            ],
            [
             0.3333333333333333,
             "#9c179e"
            ],
            [
             0.4444444444444444,
             "#bd3786"
            ],
            [
             0.5555555555555556,
             "#d8576b"
            ],
            [
             0.6666666666666666,
             "#ed7953"
            ],
            [
             0.7777777777777778,
             "#fb9f3a"
            ],
            [
             0.8888888888888888,
             "#fdca26"
            ],
            [
             1,
             "#f0f921"
            ]
           ],
           "sequentialminus": [
            [
             0,
             "#0d0887"
            ],
            [
             0.1111111111111111,
             "#46039f"
            ],
            [
             0.2222222222222222,
             "#7201a8"
            ],
            [
             0.3333333333333333,
             "#9c179e"
            ],
            [
             0.4444444444444444,
             "#bd3786"
            ],
            [
             0.5555555555555556,
             "#d8576b"
            ],
            [
             0.6666666666666666,
             "#ed7953"
            ],
            [
             0.7777777777777778,
             "#fb9f3a"
            ],
            [
             0.8888888888888888,
             "#fdca26"
            ],
            [
             1,
             "#f0f921"
            ]
           ]
          },
          "colorway": [
           "#636efa",
           "#EF553B",
           "#00cc96",
           "#ab63fa",
           "#FFA15A",
           "#19d3f3",
           "#FF6692",
           "#B6E880",
           "#FF97FF",
           "#FECB52"
          ],
          "font": {
           "color": "#2a3f5f"
          },
          "geo": {
           "bgcolor": "white",
           "lakecolor": "white",
           "landcolor": "#E5ECF6",
           "showlakes": true,
           "showland": true,
           "subunitcolor": "white"
          },
          "hoverlabel": {
           "align": "left"
          },
          "hovermode": "closest",
          "mapbox": {
           "style": "light"
          },
          "paper_bgcolor": "white",
          "plot_bgcolor": "#E5ECF6",
          "polar": {
           "angularaxis": {
            "gridcolor": "white",
            "linecolor": "white",
            "ticks": ""
           },
           "bgcolor": "#E5ECF6",
           "radialaxis": {
            "gridcolor": "white",
            "linecolor": "white",
            "ticks": ""
           }
          },
          "scene": {
           "xaxis": {
            "backgroundcolor": "#E5ECF6",
            "gridcolor": "white",
            "gridwidth": 2,
            "linecolor": "white",
            "showbackground": true,
            "ticks": "",
            "zerolinecolor": "white"
           },
           "yaxis": {
            "backgroundcolor": "#E5ECF6",
            "gridcolor": "white",
            "gridwidth": 2,
            "linecolor": "white",
            "showbackground": true,
            "ticks": "",
            "zerolinecolor": "white"
           },
           "zaxis": {
            "backgroundcolor": "#E5ECF6",
            "gridcolor": "white",
            "gridwidth": 2,
            "linecolor": "white",
            "showbackground": true,
            "ticks": "",
            "zerolinecolor": "white"
           }
          },
          "shapedefaults": {
           "line": {
            "color": "#2a3f5f"
           }
          },
          "ternary": {
           "aaxis": {
            "gridcolor": "white",
            "linecolor": "white",
            "ticks": ""
           },
           "baxis": {
            "gridcolor": "white",
            "linecolor": "white",
            "ticks": ""
           },
           "bgcolor": "#E5ECF6",
           "caxis": {
            "gridcolor": "white",
            "linecolor": "white",
            "ticks": ""
           }
          },
          "title": {
           "x": 0.05
          },
          "xaxis": {
           "automargin": true,
           "gridcolor": "white",
           "linecolor": "white",
           "ticks": "",
           "title": {
            "standoff": 15
           },
           "zerolinecolor": "white",
           "zerolinewidth": 2
          },
          "yaxis": {
           "automargin": true,
           "gridcolor": "white",
           "linecolor": "white",
           "ticks": "",
           "title": {
            "standoff": 15
           },
           "zerolinecolor": "white",
           "zerolinewidth": 2
          }
         }
        },
        "title": {
         "font": {
          "color": "#4D5663"
         }
        },
        "xaxis": {
         "gridcolor": "#E1E5ED",
         "showgrid": true,
         "tickfont": {
          "color": "#4D5663"
         },
         "title": {
          "font": {
           "color": "#4D5663"
          },
          "text": ""
         },
         "zerolinecolor": "#E1E5ED"
        },
        "yaxis": {
         "gridcolor": "#E1E5ED",
         "showgrid": true,
         "tickfont": {
          "color": "#4D5663"
         },
         "title": {
          "font": {
           "color": "#4D5663"
          },
          "text": ""
         },
         "zerolinecolor": "#E1E5ED"
        }
       }
      },
      "text/html": [
       "<div>\n",
       "        \n",
       "        \n",
       "            <div id=\"ce9a1455-abbb-49a5-b4a4-91c0f30ababb\" class=\"plotly-graph-div\" style=\"height:525px; width:100%;\"></div>\n",
       "            <script type=\"text/javascript\">\n",
       "                require([\"plotly\"], function(Plotly) {\n",
       "                    window.PLOTLYENV=window.PLOTLYENV || {};\n",
       "                    window.PLOTLYENV.BASE_URL='https://plot.ly';\n",
       "                    \n",
       "                if (document.getElementById(\"ce9a1455-abbb-49a5-b4a4-91c0f30ababb\")) {\n",
       "                    Plotly.newPlot(\n",
       "                        'ce9a1455-abbb-49a5-b4a4-91c0f30ababb',\n",
       "                        [{\"histfunc\": \"count\", \"histnorm\": \"\", \"marker\": {\"color\": \"rgba(255, 153, 51, 1.0)\", \"line\": {\"color\": \"#4D5663\", \"width\": 1.3}}, \"name\": \"A\", \"opacity\": 0.8, \"orientation\": \"v\", \"type\": \"histogram\", \"x\": [0.7184152132165522, -0.07374414338489427, 1.3263250429191824, -0.6233809421936106, 0.4742001274446034, -0.7437583934588065, -0.20562971175271394, -0.7912846928747075, -0.02702597232497973, 0.6772742353991352, 0.2488440802940327, -1.2274686431849393, 1.254910728577048, 1.6838038342892818, 0.47921977443036406, -0.5022224516406076, -1.8745692527395976, 1.9627993771005607, 0.9560756328354928, -0.04359285288303292, 0.6415439448675059, 0.27977343160563767, -2.768644598762758, 0.05983857939039157, 1.3679925048742787, -0.10294575790551182, -0.2699661091353834, -1.2763005264901317, -0.605644482213025, 0.4211936567382423, 2.266041396863613, 1.185381051419868, -1.0917455888736831, 0.2027947575196413, -0.17045514705133089, 0.8437438075614856, -0.23401836744499166, -0.5242333839647763, -0.31142091937150457, -0.9076703163927581, -1.837456312116648, -2.024823808987759, -1.8596832253495934, -0.35995344488929754, -0.1560997144255655, -0.24862232873532386, -0.5330745736291332, 0.42241547345708086, 0.6285806273053471, -0.5757328837855584, 0.7320221470593188, -0.78920439441667, 0.24399057919069703, 1.403681725672624, -0.36497311179059233, -1.2035747602760776, -0.6799866071005245, -1.383687431161648, 1.7204180525409456, 0.7798432843313373, -1.746971525420941, -1.0509291587207734, 0.21952730859203842, 0.5153002455921952, 0.662698390986974, -1.3706491187827667, -0.18692234413642134, 0.20435033186983825, 0.9577209134936103, -1.7580578520641799, 1.934397248202235, -0.2419679983579328, -1.3560222792664143, -1.6380730147438929, 0.542730758603566, -0.06911316253794753, 0.9256442751713155, -1.2929221940251012, -0.922538122771601, 1.0787188690915535, 1.5772741845128695, 0.8298802627756018, 1.1312577460069513, 0.5757750599947684, 0.8140317333587312, -0.8666171022168118, -0.09076294738478492, 0.7675522138256289, -0.1310600103165868, -0.700574932350856, 0.4347324878153614, -1.8128643854407822, -0.28217756256423554, -1.1676894050183275, 0.5138668046894407, -1.1695517800152062, 1.0658983671799178, 0.4561467894013599, -1.0421540922213297, -0.0011269428682303502]}, {\"histfunc\": \"count\", \"histnorm\": \"\", \"marker\": {\"color\": \"rgba(55, 128, 191, 1.0)\", \"line\": {\"color\": \"#4D5663\", \"width\": 1.3}}, \"name\": \"B\", \"opacity\": 0.8, \"orientation\": \"v\", \"type\": \"histogram\", \"x\": [-0.574006817058656, -0.7266588076382805, -0.3582653821205203, 0.4108711973078174, -0.32049412434813634, 0.04773441291937425, -0.3688892653969485, -1.9676847227099559, 0.25795986598318144, 0.537925471808953, -1.4962385157709366, 0.5057892669442116, -0.29203313936093456, 0.6328171202069542, -1.0522874962492237, 0.7878930777939451, 1.4309553115391773, 0.1889102418784355, -0.013342842989387687, 3.116070838792739, -0.41845360400421255, 1.9858575207739673, 0.6403115956548909, 0.1907142736681472, -1.504935982311471, 0.7416036365144881, 0.1676053881271684, -0.24114082085754754, -0.8756962069315755, -0.525281131553952, 0.16729678126738956, -1.4261549151524915, -0.8095904163469871, 1.6988271573620615, 1.7586594424748208, 1.1173774377465564, -0.18402664254405693, -0.8725967786135869, 0.9340462500605381, 0.0436769694271896, 0.2528261269315577, -0.48797455718435667, 0.4185303541013756, -1.2115610819467757, -1.3873781031274601, -2.134924563226702, -0.36394732545907527, -1.8930906878602132, 0.30419682598120823, -1.2397000596617789, 1.5072415238223666, 0.5076516583359088, -0.27253561558943046, 0.9944063915869681, 0.20503443372919314, 0.11496705703028283, 2.2451308551185214, -1.1894233003016832, -0.4109483665207544, 0.4564664039644072, 0.0594821775386694, 2.025352796007877, 0.13277668831354794, 1.084947573356576, 0.2886397552371678, -0.46229439145929685, 0.07114397903457587, -0.36825571307179933, 0.0580491159714769, -1.3175848043112401, 1.6977785396994103, 1.5238962245440153, 0.6735606382188081, 0.27852016317782674, -0.5125567623845447, 0.8200273758606282, 1.0211947809981352, -0.43694675512536835, 2.4293952236159813, 1.075463756336378, 1.4049925716695653, 1.116341730370617, -0.7067699756998078, 0.516178571121736, 0.27073191733361573, -1.030797684921648, -1.1109877307709126, 0.4322628958451547, -0.9748824546183325, -2.0597490912023915, 0.22368680313699774, -0.5803128715110616, -2.3645027848541047, 0.29715916628752514, 1.3546167563630593, -0.25223335075808057, 0.1881641349093222, 2.6987241405368656, -1.3327602486409937, -0.6169747814033371]}],\n",
       "                        {\"barmode\": \"overlay\", \"legend\": {\"bgcolor\": \"#F5F6F9\", \"font\": {\"color\": \"#4D5663\"}}, \"paper_bgcolor\": \"#F5F6F9\", \"plot_bgcolor\": \"#F5F6F9\", \"template\": {\"data\": {\"bar\": [{\"error_x\": {\"color\": \"#2a3f5f\"}, \"error_y\": {\"color\": \"#2a3f5f\"}, \"marker\": {\"line\": {\"color\": \"#E5ECF6\", \"width\": 0.5}}, \"type\": \"bar\"}], \"barpolar\": [{\"marker\": {\"line\": {\"color\": \"#E5ECF6\", \"width\": 0.5}}, \"type\": \"barpolar\"}], \"carpet\": [{\"aaxis\": {\"endlinecolor\": \"#2a3f5f\", \"gridcolor\": \"white\", \"linecolor\": \"white\", \"minorgridcolor\": \"white\", \"startlinecolor\": \"#2a3f5f\"}, \"baxis\": {\"endlinecolor\": \"#2a3f5f\", \"gridcolor\": \"white\", \"linecolor\": \"white\", \"minorgridcolor\": \"white\", \"startlinecolor\": \"#2a3f5f\"}, \"type\": \"carpet\"}], \"choropleth\": [{\"colorbar\": {\"outlinewidth\": 0, \"ticks\": \"\"}, \"type\": \"choropleth\"}], \"contour\": [{\"colorbar\": {\"outlinewidth\": 0, \"ticks\": \"\"}, \"colorscale\": [[0.0, \"#0d0887\"], [0.1111111111111111, \"#46039f\"], [0.2222222222222222, \"#7201a8\"], [0.3333333333333333, \"#9c179e\"], [0.4444444444444444, \"#bd3786\"], [0.5555555555555556, \"#d8576b\"], [0.6666666666666666, \"#ed7953\"], [0.7777777777777778, \"#fb9f3a\"], [0.8888888888888888, \"#fdca26\"], [1.0, \"#f0f921\"]], \"type\": \"contour\"}], \"contourcarpet\": [{\"colorbar\": {\"outlinewidth\": 0, \"ticks\": \"\"}, \"type\": \"contourcarpet\"}], \"heatmap\": [{\"colorbar\": {\"outlinewidth\": 0, \"ticks\": \"\"}, \"colorscale\": [[0.0, \"#0d0887\"], [0.1111111111111111, \"#46039f\"], [0.2222222222222222, \"#7201a8\"], [0.3333333333333333, \"#9c179e\"], [0.4444444444444444, \"#bd3786\"], [0.5555555555555556, \"#d8576b\"], [0.6666666666666666, \"#ed7953\"], [0.7777777777777778, \"#fb9f3a\"], [0.8888888888888888, \"#fdca26\"], [1.0, \"#f0f921\"]], \"type\": \"heatmap\"}], \"heatmapgl\": [{\"colorbar\": {\"outlinewidth\": 0, \"ticks\": \"\"}, \"colorscale\": [[0.0, \"#0d0887\"], [0.1111111111111111, \"#46039f\"], [0.2222222222222222, \"#7201a8\"], [0.3333333333333333, \"#9c179e\"], [0.4444444444444444, \"#bd3786\"], [0.5555555555555556, \"#d8576b\"], [0.6666666666666666, \"#ed7953\"], [0.7777777777777778, \"#fb9f3a\"], [0.8888888888888888, \"#fdca26\"], [1.0, \"#f0f921\"]], \"type\": \"heatmapgl\"}], \"histogram\": [{\"marker\": {\"colorbar\": {\"outlinewidth\": 0, \"ticks\": \"\"}}, \"type\": \"histogram\"}], \"histogram2d\": [{\"colorbar\": {\"outlinewidth\": 0, \"ticks\": \"\"}, \"colorscale\": [[0.0, \"#0d0887\"], [0.1111111111111111, \"#46039f\"], [0.2222222222222222, \"#7201a8\"], [0.3333333333333333, \"#9c179e\"], [0.4444444444444444, \"#bd3786\"], [0.5555555555555556, \"#d8576b\"], [0.6666666666666666, \"#ed7953\"], [0.7777777777777778, \"#fb9f3a\"], [0.8888888888888888, \"#fdca26\"], [1.0, \"#f0f921\"]], \"type\": \"histogram2d\"}], \"histogram2dcontour\": [{\"colorbar\": {\"outlinewidth\": 0, \"ticks\": \"\"}, \"colorscale\": [[0.0, \"#0d0887\"], [0.1111111111111111, \"#46039f\"], [0.2222222222222222, \"#7201a8\"], [0.3333333333333333, \"#9c179e\"], [0.4444444444444444, \"#bd3786\"], [0.5555555555555556, \"#d8576b\"], [0.6666666666666666, \"#ed7953\"], [0.7777777777777778, \"#fb9f3a\"], [0.8888888888888888, \"#fdca26\"], [1.0, \"#f0f921\"]], \"type\": \"histogram2dcontour\"}], \"mesh3d\": [{\"colorbar\": {\"outlinewidth\": 0, \"ticks\": \"\"}, \"type\": \"mesh3d\"}], \"parcoords\": [{\"line\": {\"colorbar\": {\"outlinewidth\": 0, \"ticks\": \"\"}}, \"type\": \"parcoords\"}], \"pie\": [{\"automargin\": true, \"type\": \"pie\"}], \"scatter\": [{\"marker\": {\"colorbar\": {\"outlinewidth\": 0, \"ticks\": \"\"}}, \"type\": \"scatter\"}], \"scatter3d\": [{\"line\": {\"colorbar\": {\"outlinewidth\": 0, \"ticks\": \"\"}}, \"marker\": {\"colorbar\": {\"outlinewidth\": 0, \"ticks\": \"\"}}, \"type\": \"scatter3d\"}], \"scattercarpet\": [{\"marker\": {\"colorbar\": {\"outlinewidth\": 0, \"ticks\": \"\"}}, \"type\": \"scattercarpet\"}], \"scattergeo\": [{\"marker\": {\"colorbar\": {\"outlinewidth\": 0, \"ticks\": \"\"}}, \"type\": \"scattergeo\"}], \"scattergl\": [{\"marker\": {\"colorbar\": {\"outlinewidth\": 0, \"ticks\": \"\"}}, \"type\": \"scattergl\"}], \"scattermapbox\": [{\"marker\": {\"colorbar\": {\"outlinewidth\": 0, \"ticks\": \"\"}}, \"type\": \"scattermapbox\"}], \"scatterpolar\": [{\"marker\": {\"colorbar\": {\"outlinewidth\": 0, \"ticks\": \"\"}}, \"type\": \"scatterpolar\"}], \"scatterpolargl\": [{\"marker\": {\"colorbar\": {\"outlinewidth\": 0, \"ticks\": \"\"}}, \"type\": \"scatterpolargl\"}], \"scatterternary\": [{\"marker\": {\"colorbar\": {\"outlinewidth\": 0, \"ticks\": \"\"}}, \"type\": \"scatterternary\"}], \"surface\": [{\"colorbar\": {\"outlinewidth\": 0, \"ticks\": \"\"}, \"colorscale\": [[0.0, \"#0d0887\"], [0.1111111111111111, \"#46039f\"], [0.2222222222222222, \"#7201a8\"], [0.3333333333333333, \"#9c179e\"], [0.4444444444444444, \"#bd3786\"], [0.5555555555555556, \"#d8576b\"], [0.6666666666666666, \"#ed7953\"], [0.7777777777777778, \"#fb9f3a\"], [0.8888888888888888, \"#fdca26\"], [1.0, \"#f0f921\"]], \"type\": \"surface\"}], \"table\": [{\"cells\": {\"fill\": {\"color\": \"#EBF0F8\"}, \"line\": {\"color\": \"white\"}}, \"header\": {\"fill\": {\"color\": \"#C8D4E3\"}, \"line\": {\"color\": \"white\"}}, \"type\": \"table\"}]}, \"layout\": {\"annotationdefaults\": {\"arrowcolor\": \"#2a3f5f\", \"arrowhead\": 0, \"arrowwidth\": 1}, \"coloraxis\": {\"colorbar\": {\"outlinewidth\": 0, \"ticks\": \"\"}}, \"colorscale\": {\"diverging\": [[0, \"#8e0152\"], [0.1, \"#c51b7d\"], [0.2, \"#de77ae\"], [0.3, \"#f1b6da\"], [0.4, \"#fde0ef\"], [0.5, \"#f7f7f7\"], [0.6, \"#e6f5d0\"], [0.7, \"#b8e186\"], [0.8, \"#7fbc41\"], [0.9, \"#4d9221\"], [1, \"#276419\"]], \"sequential\": [[0.0, \"#0d0887\"], [0.1111111111111111, \"#46039f\"], [0.2222222222222222, \"#7201a8\"], [0.3333333333333333, \"#9c179e\"], [0.4444444444444444, \"#bd3786\"], [0.5555555555555556, \"#d8576b\"], [0.6666666666666666, \"#ed7953\"], [0.7777777777777778, \"#fb9f3a\"], [0.8888888888888888, \"#fdca26\"], [1.0, \"#f0f921\"]], \"sequentialminus\": [[0.0, \"#0d0887\"], [0.1111111111111111, \"#46039f\"], [0.2222222222222222, \"#7201a8\"], [0.3333333333333333, \"#9c179e\"], [0.4444444444444444, \"#bd3786\"], [0.5555555555555556, \"#d8576b\"], [0.6666666666666666, \"#ed7953\"], [0.7777777777777778, \"#fb9f3a\"], [0.8888888888888888, \"#fdca26\"], [1.0, \"#f0f921\"]]}, \"colorway\": [\"#636efa\", \"#EF553B\", \"#00cc96\", \"#ab63fa\", \"#FFA15A\", \"#19d3f3\", \"#FF6692\", \"#B6E880\", \"#FF97FF\", \"#FECB52\"], \"font\": {\"color\": \"#2a3f5f\"}, \"geo\": {\"bgcolor\": \"white\", \"lakecolor\": \"white\", \"landcolor\": \"#E5ECF6\", \"showlakes\": true, \"showland\": true, \"subunitcolor\": \"white\"}, \"hoverlabel\": {\"align\": \"left\"}, \"hovermode\": \"closest\", \"mapbox\": {\"style\": \"light\"}, \"paper_bgcolor\": \"white\", \"plot_bgcolor\": \"#E5ECF6\", \"polar\": {\"angularaxis\": {\"gridcolor\": \"white\", \"linecolor\": \"white\", \"ticks\": \"\"}, \"bgcolor\": \"#E5ECF6\", \"radialaxis\": {\"gridcolor\": \"white\", \"linecolor\": \"white\", \"ticks\": \"\"}}, \"scene\": {\"xaxis\": {\"backgroundcolor\": \"#E5ECF6\", \"gridcolor\": \"white\", \"gridwidth\": 2, \"linecolor\": \"white\", \"showbackground\": true, \"ticks\": \"\", \"zerolinecolor\": \"white\"}, \"yaxis\": {\"backgroundcolor\": \"#E5ECF6\", \"gridcolor\": \"white\", \"gridwidth\": 2, \"linecolor\": \"white\", \"showbackground\": true, \"ticks\": \"\", \"zerolinecolor\": \"white\"}, \"zaxis\": {\"backgroundcolor\": \"#E5ECF6\", \"gridcolor\": \"white\", \"gridwidth\": 2, \"linecolor\": \"white\", \"showbackground\": true, \"ticks\": \"\", \"zerolinecolor\": \"white\"}}, \"shapedefaults\": {\"line\": {\"color\": \"#2a3f5f\"}}, \"ternary\": {\"aaxis\": {\"gridcolor\": \"white\", \"linecolor\": \"white\", \"ticks\": \"\"}, \"baxis\": {\"gridcolor\": \"white\", \"linecolor\": \"white\", \"ticks\": \"\"}, \"bgcolor\": \"#E5ECF6\", \"caxis\": {\"gridcolor\": \"white\", \"linecolor\": \"white\", \"ticks\": \"\"}}, \"title\": {\"x\": 0.05}, \"xaxis\": {\"automargin\": true, \"gridcolor\": \"white\", \"linecolor\": \"white\", \"ticks\": \"\", \"title\": {\"standoff\": 15}, \"zerolinecolor\": \"white\", \"zerolinewidth\": 2}, \"yaxis\": {\"automargin\": true, \"gridcolor\": \"white\", \"linecolor\": \"white\", \"ticks\": \"\", \"title\": {\"standoff\": 15}, \"zerolinecolor\": \"white\", \"zerolinewidth\": 2}}}, \"title\": {\"font\": {\"color\": \"#4D5663\"}}, \"xaxis\": {\"gridcolor\": \"#E1E5ED\", \"showgrid\": true, \"tickfont\": {\"color\": \"#4D5663\"}, \"title\": {\"font\": {\"color\": \"#4D5663\"}, \"text\": \"\"}, \"zerolinecolor\": \"#E1E5ED\"}, \"yaxis\": {\"gridcolor\": \"#E1E5ED\", \"showgrid\": true, \"tickfont\": {\"color\": \"#4D5663\"}, \"title\": {\"font\": {\"color\": \"#4D5663\"}, \"text\": \"\"}, \"zerolinecolor\": \"#E1E5ED\"}},\n",
       "                        {\"showLink\": true, \"linkText\": \"Export to plot.ly\", \"plotlyServerURL\": \"https://plot.ly\", \"responsive\": true}\n",
       "                    ).then(function(){\n",
       "                            \n",
       "var gd = document.getElementById('ce9a1455-abbb-49a5-b4a4-91c0f30ababb');\n",
       "var x = new MutationObserver(function (mutations, observer) {{\n",
       "        var display = window.getComputedStyle(gd).display;\n",
       "        if (!display || display === 'none') {{\n",
       "            console.log([gd, 'removed!']);\n",
       "            Plotly.purge(gd);\n",
       "            observer.disconnect();\n",
       "        }}\n",
       "}});\n",
       "\n",
       "// Listen for the removal of the full notebook cells\n",
       "var notebookContainer = gd.closest('#notebook-container');\n",
       "if (notebookContainer) {{\n",
       "    x.observe(notebookContainer, {childList: true});\n",
       "}}\n",
       "\n",
       "// Listen for the clearing of the current output cell\n",
       "var outputEl = gd.closest('.output');\n",
       "if (outputEl) {{\n",
       "    x.observe(outputEl, {childList: true});\n",
       "}}\n",
       "\n",
       "                        })\n",
       "                };\n",
       "                });\n",
       "            </script>\n",
       "        </div>"
      ]
     },
     "metadata": {},
     "output_type": "display_data"
    }
   ],
   "source": [
    "df[['A','B']].iplot(kind='hist')"
   ]
  },
  {
   "cell_type": "code",
   "execution_count": 63,
   "metadata": {},
   "outputs": [
    {
     "data": {
      "application/vnd.plotly.v1+json": {
       "config": {
        "linkText": "Export to plot.ly",
        "plotlyServerURL": "https://plot.ly",
        "showLink": true
       },
       "data": [
        {
         "line": {
          "color": "rgba(255, 153, 51, 1.0)",
          "dash": "solid",
          "shape": "linear",
          "width": 1.3
         },
         "mode": "lines",
         "name": "A",
         "text": "",
         "type": "scatter",
         "x": [
          0,
          1,
          2,
          3,
          4,
          5,
          6,
          7,
          8,
          9,
          10,
          11,
          12,
          13,
          14,
          15,
          16,
          17,
          18,
          19,
          20,
          21,
          22,
          23,
          24,
          25,
          26,
          27,
          28,
          29,
          30,
          31,
          32,
          33,
          34,
          35,
          36,
          37,
          38,
          39,
          40,
          41,
          42,
          43,
          44,
          45,
          46,
          47,
          48,
          49,
          50,
          51,
          52,
          53,
          54,
          55,
          56,
          57,
          58,
          59,
          60,
          61,
          62,
          63,
          64,
          65,
          66,
          67,
          68,
          69,
          70,
          71,
          72,
          73,
          74,
          75,
          76,
          77,
          78,
          79,
          80,
          81,
          82,
          83,
          84,
          85,
          86,
          87,
          88,
          89,
          90,
          91,
          92,
          93,
          94,
          95,
          96,
          97,
          98,
          99
         ],
         "y": [
          0.7184152132165522,
          -0.07374414338489427,
          1.3263250429191824,
          -0.6233809421936106,
          0.4742001274446034,
          -0.7437583934588065,
          -0.20562971175271394,
          -0.7912846928747075,
          -0.02702597232497973,
          0.6772742353991352,
          0.2488440802940327,
          -1.2274686431849393,
          1.254910728577048,
          1.6838038342892818,
          0.47921977443036406,
          -0.5022224516406076,
          -1.8745692527395976,
          1.9627993771005607,
          0.9560756328354928,
          -0.04359285288303292,
          0.6415439448675059,
          0.27977343160563767,
          -2.768644598762758,
          0.05983857939039157,
          1.3679925048742787,
          -0.10294575790551182,
          -0.2699661091353834,
          -1.2763005264901317,
          -0.605644482213025,
          0.4211936567382423,
          2.266041396863613,
          1.185381051419868,
          -1.0917455888736831,
          0.2027947575196413,
          -0.17045514705133089,
          0.8437438075614856,
          -0.23401836744499166,
          -0.5242333839647763,
          -0.31142091937150457,
          -0.9076703163927581,
          -1.837456312116648,
          -2.024823808987759,
          -1.8596832253495934,
          -0.35995344488929754,
          -0.1560997144255655,
          -0.24862232873532386,
          -0.5330745736291332,
          0.42241547345708086,
          0.6285806273053471,
          -0.5757328837855584,
          0.7320221470593188,
          -0.78920439441667,
          0.24399057919069703,
          1.403681725672624,
          -0.36497311179059233,
          -1.2035747602760776,
          -0.6799866071005245,
          -1.383687431161648,
          1.7204180525409456,
          0.7798432843313373,
          -1.746971525420941,
          -1.0509291587207734,
          0.21952730859203842,
          0.5153002455921952,
          0.662698390986974,
          -1.3706491187827667,
          -0.18692234413642134,
          0.20435033186983825,
          0.9577209134936103,
          -1.7580578520641799,
          1.934397248202235,
          -0.2419679983579328,
          -1.3560222792664143,
          -1.6380730147438929,
          0.542730758603566,
          -0.06911316253794753,
          0.9256442751713155,
          -1.2929221940251012,
          -0.922538122771601,
          1.0787188690915535,
          1.5772741845128695,
          0.8298802627756018,
          1.1312577460069513,
          0.5757750599947684,
          0.8140317333587312,
          -0.8666171022168118,
          -0.09076294738478492,
          0.7675522138256289,
          -0.1310600103165868,
          -0.700574932350856,
          0.4347324878153614,
          -1.8128643854407822,
          -0.28217756256423554,
          -1.1676894050183275,
          0.5138668046894407,
          -1.1695517800152062,
          1.0658983671799178,
          0.4561467894013599,
          -1.0421540922213297,
          -0.0011269428682303502
         ]
        },
        {
         "line": {
          "color": "rgba(55, 128, 191, 1.0)",
          "dash": "solid",
          "shape": "linear",
          "width": 1.3
         },
         "mode": "lines",
         "name": "B",
         "text": "",
         "type": "scatter",
         "x": [
          0,
          1,
          2,
          3,
          4,
          5,
          6,
          7,
          8,
          9,
          10,
          11,
          12,
          13,
          14,
          15,
          16,
          17,
          18,
          19,
          20,
          21,
          22,
          23,
          24,
          25,
          26,
          27,
          28,
          29,
          30,
          31,
          32,
          33,
          34,
          35,
          36,
          37,
          38,
          39,
          40,
          41,
          42,
          43,
          44,
          45,
          46,
          47,
          48,
          49,
          50,
          51,
          52,
          53,
          54,
          55,
          56,
          57,
          58,
          59,
          60,
          61,
          62,
          63,
          64,
          65,
          66,
          67,
          68,
          69,
          70,
          71,
          72,
          73,
          74,
          75,
          76,
          77,
          78,
          79,
          80,
          81,
          82,
          83,
          84,
          85,
          86,
          87,
          88,
          89,
          90,
          91,
          92,
          93,
          94,
          95,
          96,
          97,
          98,
          99
         ],
         "y": [
          -0.574006817058656,
          -0.7266588076382805,
          -0.3582653821205203,
          0.4108711973078174,
          -0.32049412434813634,
          0.04773441291937425,
          -0.3688892653969485,
          -1.9676847227099559,
          0.25795986598318144,
          0.537925471808953,
          -1.4962385157709366,
          0.5057892669442116,
          -0.29203313936093456,
          0.6328171202069542,
          -1.0522874962492237,
          0.7878930777939451,
          1.4309553115391773,
          0.1889102418784355,
          -0.013342842989387687,
          3.116070838792739,
          -0.41845360400421255,
          1.9858575207739673,
          0.6403115956548909,
          0.1907142736681472,
          -1.504935982311471,
          0.7416036365144881,
          0.1676053881271684,
          -0.24114082085754754,
          -0.8756962069315755,
          -0.525281131553952,
          0.16729678126738956,
          -1.4261549151524915,
          -0.8095904163469871,
          1.6988271573620615,
          1.7586594424748208,
          1.1173774377465564,
          -0.18402664254405693,
          -0.8725967786135869,
          0.9340462500605381,
          0.0436769694271896,
          0.2528261269315577,
          -0.48797455718435667,
          0.4185303541013756,
          -1.2115610819467757,
          -1.3873781031274601,
          -2.134924563226702,
          -0.36394732545907527,
          -1.8930906878602132,
          0.30419682598120823,
          -1.2397000596617789,
          1.5072415238223666,
          0.5076516583359088,
          -0.27253561558943046,
          0.9944063915869681,
          0.20503443372919314,
          0.11496705703028283,
          2.2451308551185214,
          -1.1894233003016832,
          -0.4109483665207544,
          0.4564664039644072,
          0.0594821775386694,
          2.025352796007877,
          0.13277668831354794,
          1.084947573356576,
          0.2886397552371678,
          -0.46229439145929685,
          0.07114397903457587,
          -0.36825571307179933,
          0.0580491159714769,
          -1.3175848043112401,
          1.6977785396994103,
          1.5238962245440153,
          0.6735606382188081,
          0.27852016317782674,
          -0.5125567623845447,
          0.8200273758606282,
          1.0211947809981352,
          -0.43694675512536835,
          2.4293952236159813,
          1.075463756336378,
          1.4049925716695653,
          1.116341730370617,
          -0.7067699756998078,
          0.516178571121736,
          0.27073191733361573,
          -1.030797684921648,
          -1.1109877307709126,
          0.4322628958451547,
          -0.9748824546183325,
          -2.0597490912023915,
          0.22368680313699774,
          -0.5803128715110616,
          -2.3645027848541047,
          0.29715916628752514,
          1.3546167563630593,
          -0.25223335075808057,
          0.1881641349093222,
          2.6987241405368656,
          -1.3327602486409937,
          -0.6169747814033371
         ]
        },
        {
         "connectgaps": false,
         "fill": "tozeroy",
         "line": {
          "color": "green",
          "dash": "solid",
          "shape": "linear",
          "width": 0.5
         },
         "mode": "lines",
         "name": "Spread",
         "showlegend": false,
         "type": "scatter",
         "x": [
          0,
          1,
          2,
          3,
          4,
          5,
          6,
          7,
          8,
          9,
          10,
          11,
          12,
          13,
          14,
          15,
          16,
          17,
          18,
          19,
          20,
          21,
          22,
          23,
          24,
          25,
          26,
          27,
          28,
          29,
          30,
          31,
          32,
          33,
          34,
          35,
          36,
          37,
          38,
          39,
          40,
          41,
          42,
          43,
          44,
          45,
          46,
          47,
          48,
          49,
          50,
          51,
          52,
          53,
          54,
          55,
          56,
          57,
          58,
          59,
          60,
          61,
          62,
          63,
          64,
          65,
          66,
          67,
          68,
          69,
          70,
          71,
          72,
          73,
          74,
          75,
          76,
          77,
          78,
          79,
          80,
          81,
          82,
          83,
          84,
          85,
          86,
          87,
          88,
          89,
          90,
          91,
          92,
          93,
          94,
          95,
          96,
          97,
          98,
          99
         ],
         "xaxis": "x2",
         "y": [
          1.2924220302752083,
          0.6529146642533863,
          1.6845904250397026,
          "",
          0.7946942517927398,
          "",
          0.16325955364423456,
          1.1764000298352484,
          "",
          0.13934876359018222,
          1.7450825960649694,
          "",
          1.5469438679379826,
          1.0509867140823275,
          1.5315072706795878,
          "",
          "",
          1.7738891352221253,
          0.9694184758248805,
          "",
          1.0599975488717184,
          "",
          "",
          "",
          2.8729284871857494,
          "",
          "",
          "",
          0.27005172471855043,
          0.9464747882921942,
          2.0987446155962237,
          2.6115359665723594,
          "",
          "",
          "",
          "",
          "",
          0.3483633946488106,
          "",
          "",
          "",
          "",
          "",
          0.8516076370574781,
          1.2312783887018945,
          1.886302234491378,
          "",
          2.315506161317294,
          0.3243838013241389,
          0.6639671758762205,
          "",
          "",
          0.5165261947801275,
          0.40927533408565586,
          "",
          "",
          "",
          "",
          2.1313664190617,
          0.32337688036693013,
          "",
          "",
          0.08675062027849048,
          "",
          0.37405863574980625,
          "",
          "",
          0.5726060449416376,
          0.8996717975221334,
          "",
          0.23661870850282463,
          "",
          "",
          "",
          1.0552875209881107,
          "",
          "",
          "",
          "",
          0.0032551127551754266,
          0.17228161284330423,
          "",
          1.838027721706759,
          0.05959648887303237,
          0.5432998160251155,
          0.16418058270483626,
          1.0202247833861278,
          0.3352893179804742,
          0.8438224443017457,
          1.3591741588515354,
          0.21104568467836365,
          "",
          2.082325222289869,
          "",
          "",
          "",
          0.8777342322705957,
          "",
          0.29060615641966403,
          0.6158478385351067
         ],
         "yaxis": "y2"
        },
        {
         "connectgaps": false,
         "fill": "tozeroy",
         "line": {
          "color": "red",
          "dash": "solid",
          "shape": "linear",
          "width": 0.5
         },
         "mode": "lines",
         "name": "Spread",
         "showlegend": false,
         "type": "scatter",
         "x": [
          0,
          1,
          2,
          3,
          4,
          5,
          6,
          7,
          8,
          9,
          10,
          11,
          12,
          13,
          14,
          15,
          16,
          17,
          18,
          19,
          20,
          21,
          22,
          23,
          24,
          25,
          26,
          27,
          28,
          29,
          30,
          31,
          32,
          33,
          34,
          35,
          36,
          37,
          38,
          39,
          40,
          41,
          42,
          43,
          44,
          45,
          46,
          47,
          48,
          49,
          50,
          51,
          52,
          53,
          54,
          55,
          56,
          57,
          58,
          59,
          60,
          61,
          62,
          63,
          64,
          65,
          66,
          67,
          68,
          69,
          70,
          71,
          72,
          73,
          74,
          75,
          76,
          77,
          78,
          79,
          80,
          81,
          82,
          83,
          84,
          85,
          86,
          87,
          88,
          89,
          90,
          91,
          92,
          93,
          94,
          95,
          96,
          97,
          98,
          99
         ],
         "xaxis": "x2",
         "y": [
          "",
          "",
          "",
          -1.0342521395014281,
          "",
          -0.7914928063781808,
          "",
          "",
          -0.28498583830816115,
          "",
          "",
          -1.7332579101291508,
          "",
          "",
          "",
          -1.2901155294345528,
          -3.305524564278775,
          "",
          "",
          -3.159663691675772,
          "",
          -1.7060840891683295,
          -3.408956194417649,
          -0.13087569427775564,
          "",
          -0.84454939442,
          -0.4375714972625518,
          -1.035159705632584,
          "",
          "",
          "",
          "",
          -0.282155172526696,
          -1.49603239984242,
          -1.9291145895261517,
          -0.2736336301850708,
          -0.04999172490093473,
          "",
          -1.2454671694320427,
          -0.9513472858199477,
          -2.090282439048206,
          -1.5368492518034023,
          -2.278213579450969,
          "",
          "",
          "",
          -0.16912724817005798,
          "",
          "",
          "",
          -0.7752193767630479,
          -1.2968560527525788,
          "",
          "",
          -0.5700075455197855,
          -1.3185418173063603,
          -2.925117462219046,
          -0.19426413085996486,
          "",
          "",
          -1.8064537029596104,
          -3.0762819547286506,
          "",
          -0.5696473277643809,
          "",
          -0.9083547273234699,
          -0.2580663231709972,
          "",
          "",
          -0.4404730477529397,
          "",
          -1.765864222901948,
          -2.0295829174852225,
          -1.9165931779217196,
          "",
          -0.8891405383985758,
          -0.09555050582681968,
          -0.8559754388997329,
          -3.3519333463875824,
          "",
          "",
          -0.2864614675950151,
          "",
          "",
          "",
          "",
          "",
          "",
          "",
          "",
          "",
          -1.2325515139297205,
          "",
          -1.4648485713058528,
          -0.8407499516736187,
          -0.9173184292571257,
          "",
          -2.242577351135506,
          "",
          ""
         ],
         "yaxis": "y2"
        }
       ],
       "layout": {
        "hovermode": "x",
        "legend": {
         "bgcolor": "#F5F6F9",
         "font": {
          "color": "#4D5663"
         }
        },
        "paper_bgcolor": "#F5F6F9",
        "plot_bgcolor": "#F5F6F9",
        "template": {
         "data": {
          "bar": [
           {
            "error_x": {
             "color": "#2a3f5f"
            },
            "error_y": {
             "color": "#2a3f5f"
            },
            "marker": {
             "line": {
              "color": "#E5ECF6",
              "width": 0.5
             }
            },
            "type": "bar"
           }
          ],
          "barpolar": [
           {
            "marker": {
             "line": {
              "color": "#E5ECF6",
              "width": 0.5
             }
            },
            "type": "barpolar"
           }
          ],
          "carpet": [
           {
            "aaxis": {
             "endlinecolor": "#2a3f5f",
             "gridcolor": "white",
             "linecolor": "white",
             "minorgridcolor": "white",
             "startlinecolor": "#2a3f5f"
            },
            "baxis": {
             "endlinecolor": "#2a3f5f",
             "gridcolor": "white",
             "linecolor": "white",
             "minorgridcolor": "white",
             "startlinecolor": "#2a3f5f"
            },
            "type": "carpet"
           }
          ],
          "choropleth": [
           {
            "colorbar": {
             "outlinewidth": 0,
             "ticks": ""
            },
            "type": "choropleth"
           }
          ],
          "contour": [
           {
            "colorbar": {
             "outlinewidth": 0,
             "ticks": ""
            },
            "colorscale": [
             [
              0,
              "#0d0887"
             ],
             [
              0.1111111111111111,
              "#46039f"
             ],
             [
              0.2222222222222222,
              "#7201a8"
             ],
             [
              0.3333333333333333,
              "#9c179e"
             ],
             [
              0.4444444444444444,
              "#bd3786"
             ],
             [
              0.5555555555555556,
              "#d8576b"
             ],
             [
              0.6666666666666666,
              "#ed7953"
             ],
             [
              0.7777777777777778,
              "#fb9f3a"
             ],
             [
              0.8888888888888888,
              "#fdca26"
             ],
             [
              1,
              "#f0f921"
             ]
            ],
            "type": "contour"
           }
          ],
          "contourcarpet": [
           {
            "colorbar": {
             "outlinewidth": 0,
             "ticks": ""
            },
            "type": "contourcarpet"
           }
          ],
          "heatmap": [
           {
            "colorbar": {
             "outlinewidth": 0,
             "ticks": ""
            },
            "colorscale": [
             [
              0,
              "#0d0887"
             ],
             [
              0.1111111111111111,
              "#46039f"
             ],
             [
              0.2222222222222222,
              "#7201a8"
             ],
             [
              0.3333333333333333,
              "#9c179e"
             ],
             [
              0.4444444444444444,
              "#bd3786"
             ],
             [
              0.5555555555555556,
              "#d8576b"
             ],
             [
              0.6666666666666666,
              "#ed7953"
             ],
             [
              0.7777777777777778,
              "#fb9f3a"
             ],
             [
              0.8888888888888888,
              "#fdca26"
             ],
             [
              1,
              "#f0f921"
             ]
            ],
            "type": "heatmap"
           }
          ],
          "heatmapgl": [
           {
            "colorbar": {
             "outlinewidth": 0,
             "ticks": ""
            },
            "colorscale": [
             [
              0,
              "#0d0887"
             ],
             [
              0.1111111111111111,
              "#46039f"
             ],
             [
              0.2222222222222222,
              "#7201a8"
             ],
             [
              0.3333333333333333,
              "#9c179e"
             ],
             [
              0.4444444444444444,
              "#bd3786"
             ],
             [
              0.5555555555555556,
              "#d8576b"
             ],
             [
              0.6666666666666666,
              "#ed7953"
             ],
             [
              0.7777777777777778,
              "#fb9f3a"
             ],
             [
              0.8888888888888888,
              "#fdca26"
             ],
             [
              1,
              "#f0f921"
             ]
            ],
            "type": "heatmapgl"
           }
          ],
          "histogram": [
           {
            "marker": {
             "colorbar": {
              "outlinewidth": 0,
              "ticks": ""
             }
            },
            "type": "histogram"
           }
          ],
          "histogram2d": [
           {
            "colorbar": {
             "outlinewidth": 0,
             "ticks": ""
            },
            "colorscale": [
             [
              0,
              "#0d0887"
             ],
             [
              0.1111111111111111,
              "#46039f"
             ],
             [
              0.2222222222222222,
              "#7201a8"
             ],
             [
              0.3333333333333333,
              "#9c179e"
             ],
             [
              0.4444444444444444,
              "#bd3786"
             ],
             [
              0.5555555555555556,
              "#d8576b"
             ],
             [
              0.6666666666666666,
              "#ed7953"
             ],
             [
              0.7777777777777778,
              "#fb9f3a"
             ],
             [
              0.8888888888888888,
              "#fdca26"
             ],
             [
              1,
              "#f0f921"
             ]
            ],
            "type": "histogram2d"
           }
          ],
          "histogram2dcontour": [
           {
            "colorbar": {
             "outlinewidth": 0,
             "ticks": ""
            },
            "colorscale": [
             [
              0,
              "#0d0887"
             ],
             [
              0.1111111111111111,
              "#46039f"
             ],
             [
              0.2222222222222222,
              "#7201a8"
             ],
             [
              0.3333333333333333,
              "#9c179e"
             ],
             [
              0.4444444444444444,
              "#bd3786"
             ],
             [
              0.5555555555555556,
              "#d8576b"
             ],
             [
              0.6666666666666666,
              "#ed7953"
             ],
             [
              0.7777777777777778,
              "#fb9f3a"
             ],
             [
              0.8888888888888888,
              "#fdca26"
             ],
             [
              1,
              "#f0f921"
             ]
            ],
            "type": "histogram2dcontour"
           }
          ],
          "mesh3d": [
           {
            "colorbar": {
             "outlinewidth": 0,
             "ticks": ""
            },
            "type": "mesh3d"
           }
          ],
          "parcoords": [
           {
            "line": {
             "colorbar": {
              "outlinewidth": 0,
              "ticks": ""
             }
            },
            "type": "parcoords"
           }
          ],
          "pie": [
           {
            "automargin": true,
            "type": "pie"
           }
          ],
          "scatter": [
           {
            "marker": {
             "colorbar": {
              "outlinewidth": 0,
              "ticks": ""
             }
            },
            "type": "scatter"
           }
          ],
          "scatter3d": [
           {
            "line": {
             "colorbar": {
              "outlinewidth": 0,
              "ticks": ""
             }
            },
            "marker": {
             "colorbar": {
              "outlinewidth": 0,
              "ticks": ""
             }
            },
            "type": "scatter3d"
           }
          ],
          "scattercarpet": [
           {
            "marker": {
             "colorbar": {
              "outlinewidth": 0,
              "ticks": ""
             }
            },
            "type": "scattercarpet"
           }
          ],
          "scattergeo": [
           {
            "marker": {
             "colorbar": {
              "outlinewidth": 0,
              "ticks": ""
             }
            },
            "type": "scattergeo"
           }
          ],
          "scattergl": [
           {
            "marker": {
             "colorbar": {
              "outlinewidth": 0,
              "ticks": ""
             }
            },
            "type": "scattergl"
           }
          ],
          "scattermapbox": [
           {
            "marker": {
             "colorbar": {
              "outlinewidth": 0,
              "ticks": ""
             }
            },
            "type": "scattermapbox"
           }
          ],
          "scatterpolar": [
           {
            "marker": {
             "colorbar": {
              "outlinewidth": 0,
              "ticks": ""
             }
            },
            "type": "scatterpolar"
           }
          ],
          "scatterpolargl": [
           {
            "marker": {
             "colorbar": {
              "outlinewidth": 0,
              "ticks": ""
             }
            },
            "type": "scatterpolargl"
           }
          ],
          "scatterternary": [
           {
            "marker": {
             "colorbar": {
              "outlinewidth": 0,
              "ticks": ""
             }
            },
            "type": "scatterternary"
           }
          ],
          "surface": [
           {
            "colorbar": {
             "outlinewidth": 0,
             "ticks": ""
            },
            "colorscale": [
             [
              0,
              "#0d0887"
             ],
             [
              0.1111111111111111,
              "#46039f"
             ],
             [
              0.2222222222222222,
              "#7201a8"
             ],
             [
              0.3333333333333333,
              "#9c179e"
             ],
             [
              0.4444444444444444,
              "#bd3786"
             ],
             [
              0.5555555555555556,
              "#d8576b"
             ],
             [
              0.6666666666666666,
              "#ed7953"
             ],
             [
              0.7777777777777778,
              "#fb9f3a"
             ],
             [
              0.8888888888888888,
              "#fdca26"
             ],
             [
              1,
              "#f0f921"
             ]
            ],
            "type": "surface"
           }
          ],
          "table": [
           {
            "cells": {
             "fill": {
              "color": "#EBF0F8"
             },
             "line": {
              "color": "white"
             }
            },
            "header": {
             "fill": {
              "color": "#C8D4E3"
             },
             "line": {
              "color": "white"
             }
            },
            "type": "table"
           }
          ]
         },
         "layout": {
          "annotationdefaults": {
           "arrowcolor": "#2a3f5f",
           "arrowhead": 0,
           "arrowwidth": 1
          },
          "coloraxis": {
           "colorbar": {
            "outlinewidth": 0,
            "ticks": ""
           }
          },
          "colorscale": {
           "diverging": [
            [
             0,
             "#8e0152"
            ],
            [
             0.1,
             "#c51b7d"
            ],
            [
             0.2,
             "#de77ae"
            ],
            [
             0.3,
             "#f1b6da"
            ],
            [
             0.4,
             "#fde0ef"
            ],
            [
             0.5,
             "#f7f7f7"
            ],
            [
             0.6,
             "#e6f5d0"
            ],
            [
             0.7,
             "#b8e186"
            ],
            [
             0.8,
             "#7fbc41"
            ],
            [
             0.9,
             "#4d9221"
            ],
            [
             1,
             "#276419"
            ]
           ],
           "sequential": [
            [
             0,
             "#0d0887"
            ],
            [
             0.1111111111111111,
             "#46039f"
            ],
            [
             0.2222222222222222,
             "#7201a8"
            ],
            [
             0.3333333333333333,
             "#9c179e"
            ],
            [
             0.4444444444444444,
             "#bd3786"
            ],
            [
             0.5555555555555556,
             "#d8576b"
            ],
            [
             0.6666666666666666,
             "#ed7953"
            ],
            [
             0.7777777777777778,
             "#fb9f3a"
            ],
            [
             0.8888888888888888,
             "#fdca26"
            ],
            [
             1,
             "#f0f921"
            ]
           ],
           "sequentialminus": [
            [
             0,
             "#0d0887"
            ],
            [
             0.1111111111111111,
             "#46039f"
            ],
            [
             0.2222222222222222,
             "#7201a8"
            ],
            [
             0.3333333333333333,
             "#9c179e"
            ],
            [
             0.4444444444444444,
             "#bd3786"
            ],
            [
             0.5555555555555556,
             "#d8576b"
            ],
            [
             0.6666666666666666,
             "#ed7953"
            ],
            [
             0.7777777777777778,
             "#fb9f3a"
            ],
            [
             0.8888888888888888,
             "#fdca26"
            ],
            [
             1,
             "#f0f921"
            ]
           ]
          },
          "colorway": [
           "#636efa",
           "#EF553B",
           "#00cc96",
           "#ab63fa",
           "#FFA15A",
           "#19d3f3",
           "#FF6692",
           "#B6E880",
           "#FF97FF",
           "#FECB52"
          ],
          "font": {
           "color": "#2a3f5f"
          },
          "geo": {
           "bgcolor": "white",
           "lakecolor": "white",
           "landcolor": "#E5ECF6",
           "showlakes": true,
           "showland": true,
           "subunitcolor": "white"
          },
          "hoverlabel": {
           "align": "left"
          },
          "hovermode": "closest",
          "mapbox": {
           "style": "light"
          },
          "paper_bgcolor": "white",
          "plot_bgcolor": "#E5ECF6",
          "polar": {
           "angularaxis": {
            "gridcolor": "white",
            "linecolor": "white",
            "ticks": ""
           },
           "bgcolor": "#E5ECF6",
           "radialaxis": {
            "gridcolor": "white",
            "linecolor": "white",
            "ticks": ""
           }
          },
          "scene": {
           "xaxis": {
            "backgroundcolor": "#E5ECF6",
            "gridcolor": "white",
            "gridwidth": 2,
            "linecolor": "white",
            "showbackground": true,
            "ticks": "",
            "zerolinecolor": "white"
           },
           "yaxis": {
            "backgroundcolor": "#E5ECF6",
            "gridcolor": "white",
            "gridwidth": 2,
            "linecolor": "white",
            "showbackground": true,
            "ticks": "",
            "zerolinecolor": "white"
           },
           "zaxis": {
            "backgroundcolor": "#E5ECF6",
            "gridcolor": "white",
            "gridwidth": 2,
            "linecolor": "white",
            "showbackground": true,
            "ticks": "",
            "zerolinecolor": "white"
           }
          },
          "shapedefaults": {
           "line": {
            "color": "#2a3f5f"
           }
          },
          "ternary": {
           "aaxis": {
            "gridcolor": "white",
            "linecolor": "white",
            "ticks": ""
           },
           "baxis": {
            "gridcolor": "white",
            "linecolor": "white",
            "ticks": ""
           },
           "bgcolor": "#E5ECF6",
           "caxis": {
            "gridcolor": "white",
            "linecolor": "white",
            "ticks": ""
           }
          },
          "title": {
           "x": 0.05
          },
          "xaxis": {
           "automargin": true,
           "gridcolor": "white",
           "linecolor": "white",
           "ticks": "",
           "title": {
            "standoff": 15
           },
           "zerolinecolor": "white",
           "zerolinewidth": 2
          },
          "yaxis": {
           "automargin": true,
           "gridcolor": "white",
           "linecolor": "white",
           "ticks": "",
           "title": {
            "standoff": 15
           },
           "zerolinecolor": "white",
           "zerolinewidth": 2
          }
         }
        },
        "title": {
         "font": {
          "color": "#4D5663"
         }
        },
        "xaxis": {
         "gridcolor": "#E1E5ED",
         "showgrid": true,
         "tickfont": {
          "color": "#4D5663"
         },
         "title": {
          "font": {
           "color": "#4D5663"
          },
          "text": ""
         },
         "zerolinecolor": "#E1E5ED"
        },
        "xaxis2": {
         "anchor": "y2",
         "gridcolor": "#E1E5ED",
         "showgrid": true,
         "showticklabels": false,
         "tickfont": {
          "color": "#4D5663"
         },
         "title": {
          "font": {
           "color": "#4D5663"
          },
          "text": ""
         },
         "zerolinecolor": "#E1E5ED"
        },
        "yaxis": {
         "domain": [
          0.3,
          1
         ],
         "gridcolor": "#E1E5ED",
         "showgrid": true,
         "tickfont": {
          "color": "#4D5663"
         },
         "title": {
          "font": {
           "color": "#4D5663"
          },
          "text": ""
         },
         "zerolinecolor": "#E1E5ED"
        },
        "yaxis2": {
         "domain": [
          0,
          0.25
         ],
         "gridcolor": "#E1E5ED",
         "showgrid": true,
         "tickfont": {
          "color": "#4D5663"
         },
         "title": {
          "font": {
           "color": "#4D5663"
          },
          "text": "Spread"
         },
         "zerolinecolor": "#E1E5ED"
        }
       }
      },
      "text/html": [
       "<div>\n",
       "        \n",
       "        \n",
       "            <div id=\"5762c1e6-32a9-4128-8e8e-d9da7a25e036\" class=\"plotly-graph-div\" style=\"height:525px; width:100%;\"></div>\n",
       "            <script type=\"text/javascript\">\n",
       "                require([\"plotly\"], function(Plotly) {\n",
       "                    window.PLOTLYENV=window.PLOTLYENV || {};\n",
       "                    window.PLOTLYENV.BASE_URL='https://plot.ly';\n",
       "                    \n",
       "                if (document.getElementById(\"5762c1e6-32a9-4128-8e8e-d9da7a25e036\")) {\n",
       "                    Plotly.newPlot(\n",
       "                        '5762c1e6-32a9-4128-8e8e-d9da7a25e036',\n",
       "                        [{\"line\": {\"color\": \"rgba(255, 153, 51, 1.0)\", \"dash\": \"solid\", \"shape\": \"linear\", \"width\": 1.3}, \"mode\": \"lines\", \"name\": \"A\", \"text\": \"\", \"type\": \"scatter\", \"x\": [0, 1, 2, 3, 4, 5, 6, 7, 8, 9, 10, 11, 12, 13, 14, 15, 16, 17, 18, 19, 20, 21, 22, 23, 24, 25, 26, 27, 28, 29, 30, 31, 32, 33, 34, 35, 36, 37, 38, 39, 40, 41, 42, 43, 44, 45, 46, 47, 48, 49, 50, 51, 52, 53, 54, 55, 56, 57, 58, 59, 60, 61, 62, 63, 64, 65, 66, 67, 68, 69, 70, 71, 72, 73, 74, 75, 76, 77, 78, 79, 80, 81, 82, 83, 84, 85, 86, 87, 88, 89, 90, 91, 92, 93, 94, 95, 96, 97, 98, 99], \"y\": [0.7184152132165522, -0.07374414338489427, 1.3263250429191824, -0.6233809421936106, 0.4742001274446034, -0.7437583934588065, -0.20562971175271394, -0.7912846928747075, -0.02702597232497973, 0.6772742353991352, 0.2488440802940327, -1.2274686431849393, 1.254910728577048, 1.6838038342892818, 0.47921977443036406, -0.5022224516406076, -1.8745692527395976, 1.9627993771005607, 0.9560756328354928, -0.04359285288303292, 0.6415439448675059, 0.27977343160563767, -2.768644598762758, 0.05983857939039157, 1.3679925048742787, -0.10294575790551182, -0.2699661091353834, -1.2763005264901317, -0.605644482213025, 0.4211936567382423, 2.266041396863613, 1.185381051419868, -1.0917455888736831, 0.2027947575196413, -0.17045514705133089, 0.8437438075614856, -0.23401836744499166, -0.5242333839647763, -0.31142091937150457, -0.9076703163927581, -1.837456312116648, -2.024823808987759, -1.8596832253495934, -0.35995344488929754, -0.1560997144255655, -0.24862232873532386, -0.5330745736291332, 0.42241547345708086, 0.6285806273053471, -0.5757328837855584, 0.7320221470593188, -0.78920439441667, 0.24399057919069703, 1.403681725672624, -0.36497311179059233, -1.2035747602760776, -0.6799866071005245, -1.383687431161648, 1.7204180525409456, 0.7798432843313373, -1.746971525420941, -1.0509291587207734, 0.21952730859203842, 0.5153002455921952, 0.662698390986974, -1.3706491187827667, -0.18692234413642134, 0.20435033186983825, 0.9577209134936103, -1.7580578520641799, 1.934397248202235, -0.2419679983579328, -1.3560222792664143, -1.6380730147438929, 0.542730758603566, -0.06911316253794753, 0.9256442751713155, -1.2929221940251012, -0.922538122771601, 1.0787188690915535, 1.5772741845128695, 0.8298802627756018, 1.1312577460069513, 0.5757750599947684, 0.8140317333587312, -0.8666171022168118, -0.09076294738478492, 0.7675522138256289, -0.1310600103165868, -0.700574932350856, 0.4347324878153614, -1.8128643854407822, -0.28217756256423554, -1.1676894050183275, 0.5138668046894407, -1.1695517800152062, 1.0658983671799178, 0.4561467894013599, -1.0421540922213297, -0.0011269428682303502]}, {\"line\": {\"color\": \"rgba(55, 128, 191, 1.0)\", \"dash\": \"solid\", \"shape\": \"linear\", \"width\": 1.3}, \"mode\": \"lines\", \"name\": \"B\", \"text\": \"\", \"type\": \"scatter\", \"x\": [0, 1, 2, 3, 4, 5, 6, 7, 8, 9, 10, 11, 12, 13, 14, 15, 16, 17, 18, 19, 20, 21, 22, 23, 24, 25, 26, 27, 28, 29, 30, 31, 32, 33, 34, 35, 36, 37, 38, 39, 40, 41, 42, 43, 44, 45, 46, 47, 48, 49, 50, 51, 52, 53, 54, 55, 56, 57, 58, 59, 60, 61, 62, 63, 64, 65, 66, 67, 68, 69, 70, 71, 72, 73, 74, 75, 76, 77, 78, 79, 80, 81, 82, 83, 84, 85, 86, 87, 88, 89, 90, 91, 92, 93, 94, 95, 96, 97, 98, 99], \"y\": [-0.574006817058656, -0.7266588076382805, -0.3582653821205203, 0.4108711973078174, -0.32049412434813634, 0.04773441291937425, -0.3688892653969485, -1.9676847227099559, 0.25795986598318144, 0.537925471808953, -1.4962385157709366, 0.5057892669442116, -0.29203313936093456, 0.6328171202069542, -1.0522874962492237, 0.7878930777939451, 1.4309553115391773, 0.1889102418784355, -0.013342842989387687, 3.116070838792739, -0.41845360400421255, 1.9858575207739673, 0.6403115956548909, 0.1907142736681472, -1.504935982311471, 0.7416036365144881, 0.1676053881271684, -0.24114082085754754, -0.8756962069315755, -0.525281131553952, 0.16729678126738956, -1.4261549151524915, -0.8095904163469871, 1.6988271573620615, 1.7586594424748208, 1.1173774377465564, -0.18402664254405693, -0.8725967786135869, 0.9340462500605381, 0.0436769694271896, 0.2528261269315577, -0.48797455718435667, 0.4185303541013756, -1.2115610819467757, -1.3873781031274601, -2.134924563226702, -0.36394732545907527, -1.8930906878602132, 0.30419682598120823, -1.2397000596617789, 1.5072415238223666, 0.5076516583359088, -0.27253561558943046, 0.9944063915869681, 0.20503443372919314, 0.11496705703028283, 2.2451308551185214, -1.1894233003016832, -0.4109483665207544, 0.4564664039644072, 0.0594821775386694, 2.025352796007877, 0.13277668831354794, 1.084947573356576, 0.2886397552371678, -0.46229439145929685, 0.07114397903457587, -0.36825571307179933, 0.0580491159714769, -1.3175848043112401, 1.6977785396994103, 1.5238962245440153, 0.6735606382188081, 0.27852016317782674, -0.5125567623845447, 0.8200273758606282, 1.0211947809981352, -0.43694675512536835, 2.4293952236159813, 1.075463756336378, 1.4049925716695653, 1.116341730370617, -0.7067699756998078, 0.516178571121736, 0.27073191733361573, -1.030797684921648, -1.1109877307709126, 0.4322628958451547, -0.9748824546183325, -2.0597490912023915, 0.22368680313699774, -0.5803128715110616, -2.3645027848541047, 0.29715916628752514, 1.3546167563630593, -0.25223335075808057, 0.1881641349093222, 2.6987241405368656, -1.3327602486409937, -0.6169747814033371]}, {\"connectgaps\": false, \"fill\": \"tozeroy\", \"line\": {\"color\": \"green\", \"dash\": \"solid\", \"shape\": \"linear\", \"width\": 0.5}, \"mode\": \"lines\", \"name\": \"Spread\", \"showlegend\": false, \"type\": \"scatter\", \"x\": [0, 1, 2, 3, 4, 5, 6, 7, 8, 9, 10, 11, 12, 13, 14, 15, 16, 17, 18, 19, 20, 21, 22, 23, 24, 25, 26, 27, 28, 29, 30, 31, 32, 33, 34, 35, 36, 37, 38, 39, 40, 41, 42, 43, 44, 45, 46, 47, 48, 49, 50, 51, 52, 53, 54, 55, 56, 57, 58, 59, 60, 61, 62, 63, 64, 65, 66, 67, 68, 69, 70, 71, 72, 73, 74, 75, 76, 77, 78, 79, 80, 81, 82, 83, 84, 85, 86, 87, 88, 89, 90, 91, 92, 93, 94, 95, 96, 97, 98, 99], \"xaxis\": \"x2\", \"y\": [1.2924220302752083, 0.6529146642533863, 1.6845904250397026, \"\", 0.7946942517927398, \"\", 0.16325955364423456, 1.1764000298352484, \"\", 0.13934876359018222, 1.7450825960649694, \"\", 1.5469438679379826, 1.0509867140823275, 1.5315072706795878, \"\", \"\", 1.7738891352221253, 0.9694184758248805, \"\", 1.0599975488717184, \"\", \"\", \"\", 2.8729284871857494, \"\", \"\", \"\", 0.27005172471855043, 0.9464747882921942, 2.0987446155962237, 2.6115359665723594, \"\", \"\", \"\", \"\", \"\", 0.3483633946488106, \"\", \"\", \"\", \"\", \"\", 0.8516076370574781, 1.2312783887018945, 1.886302234491378, \"\", 2.315506161317294, 0.3243838013241389, 0.6639671758762205, \"\", \"\", 0.5165261947801275, 0.40927533408565586, \"\", \"\", \"\", \"\", 2.1313664190617, 0.32337688036693013, \"\", \"\", 0.08675062027849048, \"\", 0.37405863574980625, \"\", \"\", 0.5726060449416376, 0.8996717975221334, \"\", 0.23661870850282463, \"\", \"\", \"\", 1.0552875209881107, \"\", \"\", \"\", \"\", 0.0032551127551754266, 0.17228161284330423, \"\", 1.838027721706759, 0.05959648887303237, 0.5432998160251155, 0.16418058270483626, 1.0202247833861278, 0.3352893179804742, 0.8438224443017457, 1.3591741588515354, 0.21104568467836365, \"\", 2.082325222289869, \"\", \"\", \"\", 0.8777342322705957, \"\", 0.29060615641966403, 0.6158478385351067], \"yaxis\": \"y2\"}, {\"connectgaps\": false, \"fill\": \"tozeroy\", \"line\": {\"color\": \"red\", \"dash\": \"solid\", \"shape\": \"linear\", \"width\": 0.5}, \"mode\": \"lines\", \"name\": \"Spread\", \"showlegend\": false, \"type\": \"scatter\", \"x\": [0, 1, 2, 3, 4, 5, 6, 7, 8, 9, 10, 11, 12, 13, 14, 15, 16, 17, 18, 19, 20, 21, 22, 23, 24, 25, 26, 27, 28, 29, 30, 31, 32, 33, 34, 35, 36, 37, 38, 39, 40, 41, 42, 43, 44, 45, 46, 47, 48, 49, 50, 51, 52, 53, 54, 55, 56, 57, 58, 59, 60, 61, 62, 63, 64, 65, 66, 67, 68, 69, 70, 71, 72, 73, 74, 75, 76, 77, 78, 79, 80, 81, 82, 83, 84, 85, 86, 87, 88, 89, 90, 91, 92, 93, 94, 95, 96, 97, 98, 99], \"xaxis\": \"x2\", \"y\": [\"\", \"\", \"\", -1.0342521395014281, \"\", -0.7914928063781808, \"\", \"\", -0.28498583830816115, \"\", \"\", -1.7332579101291508, \"\", \"\", \"\", -1.2901155294345528, -3.305524564278775, \"\", \"\", -3.159663691675772, \"\", -1.7060840891683295, -3.408956194417649, -0.13087569427775564, \"\", -0.84454939442, -0.4375714972625518, -1.035159705632584, \"\", \"\", \"\", \"\", -0.282155172526696, -1.49603239984242, -1.9291145895261517, -0.2736336301850708, -0.04999172490093473, \"\", -1.2454671694320427, -0.9513472858199477, -2.090282439048206, -1.5368492518034023, -2.278213579450969, \"\", \"\", \"\", -0.16912724817005798, \"\", \"\", \"\", -0.7752193767630479, -1.2968560527525788, \"\", \"\", -0.5700075455197855, -1.3185418173063603, -2.925117462219046, -0.19426413085996486, \"\", \"\", -1.8064537029596104, -3.0762819547286506, \"\", -0.5696473277643809, \"\", -0.9083547273234699, -0.2580663231709972, \"\", \"\", -0.4404730477529397, \"\", -1.765864222901948, -2.0295829174852225, -1.9165931779217196, \"\", -0.8891405383985758, -0.09555050582681968, -0.8559754388997329, -3.3519333463875824, \"\", \"\", -0.2864614675950151, \"\", \"\", \"\", \"\", \"\", \"\", \"\", \"\", \"\", -1.2325515139297205, \"\", -1.4648485713058528, -0.8407499516736187, -0.9173184292571257, \"\", -2.242577351135506, \"\", \"\"], \"yaxis\": \"y2\"}],\n",
       "                        {\"hovermode\": \"x\", \"legend\": {\"bgcolor\": \"#F5F6F9\", \"font\": {\"color\": \"#4D5663\"}}, \"paper_bgcolor\": \"#F5F6F9\", \"plot_bgcolor\": \"#F5F6F9\", \"template\": {\"data\": {\"bar\": [{\"error_x\": {\"color\": \"#2a3f5f\"}, \"error_y\": {\"color\": \"#2a3f5f\"}, \"marker\": {\"line\": {\"color\": \"#E5ECF6\", \"width\": 0.5}}, \"type\": \"bar\"}], \"barpolar\": [{\"marker\": {\"line\": {\"color\": \"#E5ECF6\", \"width\": 0.5}}, \"type\": \"barpolar\"}], \"carpet\": [{\"aaxis\": {\"endlinecolor\": \"#2a3f5f\", \"gridcolor\": \"white\", \"linecolor\": \"white\", \"minorgridcolor\": \"white\", \"startlinecolor\": \"#2a3f5f\"}, \"baxis\": {\"endlinecolor\": \"#2a3f5f\", \"gridcolor\": \"white\", \"linecolor\": \"white\", \"minorgridcolor\": \"white\", \"startlinecolor\": \"#2a3f5f\"}, \"type\": \"carpet\"}], \"choropleth\": [{\"colorbar\": {\"outlinewidth\": 0, \"ticks\": \"\"}, \"type\": \"choropleth\"}], \"contour\": [{\"colorbar\": {\"outlinewidth\": 0, \"ticks\": \"\"}, \"colorscale\": [[0.0, \"#0d0887\"], [0.1111111111111111, \"#46039f\"], [0.2222222222222222, \"#7201a8\"], [0.3333333333333333, \"#9c179e\"], [0.4444444444444444, \"#bd3786\"], [0.5555555555555556, \"#d8576b\"], [0.6666666666666666, \"#ed7953\"], [0.7777777777777778, \"#fb9f3a\"], [0.8888888888888888, \"#fdca26\"], [1.0, \"#f0f921\"]], \"type\": \"contour\"}], \"contourcarpet\": [{\"colorbar\": {\"outlinewidth\": 0, \"ticks\": \"\"}, \"type\": \"contourcarpet\"}], \"heatmap\": [{\"colorbar\": {\"outlinewidth\": 0, \"ticks\": \"\"}, \"colorscale\": [[0.0, \"#0d0887\"], [0.1111111111111111, \"#46039f\"], [0.2222222222222222, \"#7201a8\"], [0.3333333333333333, \"#9c179e\"], [0.4444444444444444, \"#bd3786\"], [0.5555555555555556, \"#d8576b\"], [0.6666666666666666, \"#ed7953\"], [0.7777777777777778, \"#fb9f3a\"], [0.8888888888888888, \"#fdca26\"], [1.0, \"#f0f921\"]], \"type\": \"heatmap\"}], \"heatmapgl\": [{\"colorbar\": {\"outlinewidth\": 0, \"ticks\": \"\"}, \"colorscale\": [[0.0, \"#0d0887\"], [0.1111111111111111, \"#46039f\"], [0.2222222222222222, \"#7201a8\"], [0.3333333333333333, \"#9c179e\"], [0.4444444444444444, \"#bd3786\"], [0.5555555555555556, \"#d8576b\"], [0.6666666666666666, \"#ed7953\"], [0.7777777777777778, \"#fb9f3a\"], [0.8888888888888888, \"#fdca26\"], [1.0, \"#f0f921\"]], \"type\": \"heatmapgl\"}], \"histogram\": [{\"marker\": {\"colorbar\": {\"outlinewidth\": 0, \"ticks\": \"\"}}, \"type\": \"histogram\"}], \"histogram2d\": [{\"colorbar\": {\"outlinewidth\": 0, \"ticks\": \"\"}, \"colorscale\": [[0.0, \"#0d0887\"], [0.1111111111111111, \"#46039f\"], [0.2222222222222222, \"#7201a8\"], [0.3333333333333333, \"#9c179e\"], [0.4444444444444444, \"#bd3786\"], [0.5555555555555556, \"#d8576b\"], [0.6666666666666666, \"#ed7953\"], [0.7777777777777778, \"#fb9f3a\"], [0.8888888888888888, \"#fdca26\"], [1.0, \"#f0f921\"]], \"type\": \"histogram2d\"}], \"histogram2dcontour\": [{\"colorbar\": {\"outlinewidth\": 0, \"ticks\": \"\"}, \"colorscale\": [[0.0, \"#0d0887\"], [0.1111111111111111, \"#46039f\"], [0.2222222222222222, \"#7201a8\"], [0.3333333333333333, \"#9c179e\"], [0.4444444444444444, \"#bd3786\"], [0.5555555555555556, \"#d8576b\"], [0.6666666666666666, \"#ed7953\"], [0.7777777777777778, \"#fb9f3a\"], [0.8888888888888888, \"#fdca26\"], [1.0, \"#f0f921\"]], \"type\": \"histogram2dcontour\"}], \"mesh3d\": [{\"colorbar\": {\"outlinewidth\": 0, \"ticks\": \"\"}, \"type\": \"mesh3d\"}], \"parcoords\": [{\"line\": {\"colorbar\": {\"outlinewidth\": 0, \"ticks\": \"\"}}, \"type\": \"parcoords\"}], \"pie\": [{\"automargin\": true, \"type\": \"pie\"}], \"scatter\": [{\"marker\": {\"colorbar\": {\"outlinewidth\": 0, \"ticks\": \"\"}}, \"type\": \"scatter\"}], \"scatter3d\": [{\"line\": {\"colorbar\": {\"outlinewidth\": 0, \"ticks\": \"\"}}, \"marker\": {\"colorbar\": {\"outlinewidth\": 0, \"ticks\": \"\"}}, \"type\": \"scatter3d\"}], \"scattercarpet\": [{\"marker\": {\"colorbar\": {\"outlinewidth\": 0, \"ticks\": \"\"}}, \"type\": \"scattercarpet\"}], \"scattergeo\": [{\"marker\": {\"colorbar\": {\"outlinewidth\": 0, \"ticks\": \"\"}}, \"type\": \"scattergeo\"}], \"scattergl\": [{\"marker\": {\"colorbar\": {\"outlinewidth\": 0, \"ticks\": \"\"}}, \"type\": \"scattergl\"}], \"scattermapbox\": [{\"marker\": {\"colorbar\": {\"outlinewidth\": 0, \"ticks\": \"\"}}, \"type\": \"scattermapbox\"}], \"scatterpolar\": [{\"marker\": {\"colorbar\": {\"outlinewidth\": 0, \"ticks\": \"\"}}, \"type\": \"scatterpolar\"}], \"scatterpolargl\": [{\"marker\": {\"colorbar\": {\"outlinewidth\": 0, \"ticks\": \"\"}}, \"type\": \"scatterpolargl\"}], \"scatterternary\": [{\"marker\": {\"colorbar\": {\"outlinewidth\": 0, \"ticks\": \"\"}}, \"type\": \"scatterternary\"}], \"surface\": [{\"colorbar\": {\"outlinewidth\": 0, \"ticks\": \"\"}, \"colorscale\": [[0.0, \"#0d0887\"], [0.1111111111111111, \"#46039f\"], [0.2222222222222222, \"#7201a8\"], [0.3333333333333333, \"#9c179e\"], [0.4444444444444444, \"#bd3786\"], [0.5555555555555556, \"#d8576b\"], [0.6666666666666666, \"#ed7953\"], [0.7777777777777778, \"#fb9f3a\"], [0.8888888888888888, \"#fdca26\"], [1.0, \"#f0f921\"]], \"type\": \"surface\"}], \"table\": [{\"cells\": {\"fill\": {\"color\": \"#EBF0F8\"}, \"line\": {\"color\": \"white\"}}, \"header\": {\"fill\": {\"color\": \"#C8D4E3\"}, \"line\": {\"color\": \"white\"}}, \"type\": \"table\"}]}, \"layout\": {\"annotationdefaults\": {\"arrowcolor\": \"#2a3f5f\", \"arrowhead\": 0, \"arrowwidth\": 1}, \"coloraxis\": {\"colorbar\": {\"outlinewidth\": 0, \"ticks\": \"\"}}, \"colorscale\": {\"diverging\": [[0, \"#8e0152\"], [0.1, \"#c51b7d\"], [0.2, \"#de77ae\"], [0.3, \"#f1b6da\"], [0.4, \"#fde0ef\"], [0.5, \"#f7f7f7\"], [0.6, \"#e6f5d0\"], [0.7, \"#b8e186\"], [0.8, \"#7fbc41\"], [0.9, \"#4d9221\"], [1, \"#276419\"]], \"sequential\": [[0.0, \"#0d0887\"], [0.1111111111111111, \"#46039f\"], [0.2222222222222222, \"#7201a8\"], [0.3333333333333333, \"#9c179e\"], [0.4444444444444444, \"#bd3786\"], [0.5555555555555556, \"#d8576b\"], [0.6666666666666666, \"#ed7953\"], [0.7777777777777778, \"#fb9f3a\"], [0.8888888888888888, \"#fdca26\"], [1.0, \"#f0f921\"]], \"sequentialminus\": [[0.0, \"#0d0887\"], [0.1111111111111111, \"#46039f\"], [0.2222222222222222, \"#7201a8\"], [0.3333333333333333, \"#9c179e\"], [0.4444444444444444, \"#bd3786\"], [0.5555555555555556, \"#d8576b\"], [0.6666666666666666, \"#ed7953\"], [0.7777777777777778, \"#fb9f3a\"], [0.8888888888888888, \"#fdca26\"], [1.0, \"#f0f921\"]]}, \"colorway\": [\"#636efa\", \"#EF553B\", \"#00cc96\", \"#ab63fa\", \"#FFA15A\", \"#19d3f3\", \"#FF6692\", \"#B6E880\", \"#FF97FF\", \"#FECB52\"], \"font\": {\"color\": \"#2a3f5f\"}, \"geo\": {\"bgcolor\": \"white\", \"lakecolor\": \"white\", \"landcolor\": \"#E5ECF6\", \"showlakes\": true, \"showland\": true, \"subunitcolor\": \"white\"}, \"hoverlabel\": {\"align\": \"left\"}, \"hovermode\": \"closest\", \"mapbox\": {\"style\": \"light\"}, \"paper_bgcolor\": \"white\", \"plot_bgcolor\": \"#E5ECF6\", \"polar\": {\"angularaxis\": {\"gridcolor\": \"white\", \"linecolor\": \"white\", \"ticks\": \"\"}, \"bgcolor\": \"#E5ECF6\", \"radialaxis\": {\"gridcolor\": \"white\", \"linecolor\": \"white\", \"ticks\": \"\"}}, \"scene\": {\"xaxis\": {\"backgroundcolor\": \"#E5ECF6\", \"gridcolor\": \"white\", \"gridwidth\": 2, \"linecolor\": \"white\", \"showbackground\": true, \"ticks\": \"\", \"zerolinecolor\": \"white\"}, \"yaxis\": {\"backgroundcolor\": \"#E5ECF6\", \"gridcolor\": \"white\", \"gridwidth\": 2, \"linecolor\": \"white\", \"showbackground\": true, \"ticks\": \"\", \"zerolinecolor\": \"white\"}, \"zaxis\": {\"backgroundcolor\": \"#E5ECF6\", \"gridcolor\": \"white\", \"gridwidth\": 2, \"linecolor\": \"white\", \"showbackground\": true, \"ticks\": \"\", \"zerolinecolor\": \"white\"}}, \"shapedefaults\": {\"line\": {\"color\": \"#2a3f5f\"}}, \"ternary\": {\"aaxis\": {\"gridcolor\": \"white\", \"linecolor\": \"white\", \"ticks\": \"\"}, \"baxis\": {\"gridcolor\": \"white\", \"linecolor\": \"white\", \"ticks\": \"\"}, \"bgcolor\": \"#E5ECF6\", \"caxis\": {\"gridcolor\": \"white\", \"linecolor\": \"white\", \"ticks\": \"\"}}, \"title\": {\"x\": 0.05}, \"xaxis\": {\"automargin\": true, \"gridcolor\": \"white\", \"linecolor\": \"white\", \"ticks\": \"\", \"title\": {\"standoff\": 15}, \"zerolinecolor\": \"white\", \"zerolinewidth\": 2}, \"yaxis\": {\"automargin\": true, \"gridcolor\": \"white\", \"linecolor\": \"white\", \"ticks\": \"\", \"title\": {\"standoff\": 15}, \"zerolinecolor\": \"white\", \"zerolinewidth\": 2}}}, \"title\": {\"font\": {\"color\": \"#4D5663\"}}, \"xaxis\": {\"gridcolor\": \"#E1E5ED\", \"showgrid\": true, \"tickfont\": {\"color\": \"#4D5663\"}, \"title\": {\"font\": {\"color\": \"#4D5663\"}, \"text\": \"\"}, \"zerolinecolor\": \"#E1E5ED\"}, \"xaxis2\": {\"anchor\": \"y2\", \"gridcolor\": \"#E1E5ED\", \"showgrid\": true, \"showticklabels\": false, \"tickfont\": {\"color\": \"#4D5663\"}, \"title\": {\"font\": {\"color\": \"#4D5663\"}, \"text\": \"\"}, \"zerolinecolor\": \"#E1E5ED\"}, \"yaxis\": {\"domain\": [0.3, 1], \"gridcolor\": \"#E1E5ED\", \"showgrid\": true, \"tickfont\": {\"color\": \"#4D5663\"}, \"title\": {\"font\": {\"color\": \"#4D5663\"}, \"text\": \"\"}, \"zerolinecolor\": \"#E1E5ED\"}, \"yaxis2\": {\"domain\": [0, 0.25], \"gridcolor\": \"#E1E5ED\", \"showgrid\": true, \"tickfont\": {\"color\": \"#4D5663\"}, \"title\": {\"font\": {\"color\": \"#4D5663\"}, \"text\": \"Spread\"}, \"zerolinecolor\": \"#E1E5ED\"}},\n",
       "                        {\"showLink\": true, \"linkText\": \"Export to plot.ly\", \"plotlyServerURL\": \"https://plot.ly\", \"responsive\": true}\n",
       "                    ).then(function(){\n",
       "                            \n",
       "var gd = document.getElementById('5762c1e6-32a9-4128-8e8e-d9da7a25e036');\n",
       "var x = new MutationObserver(function (mutations, observer) {{\n",
       "        var display = window.getComputedStyle(gd).display;\n",
       "        if (!display || display === 'none') {{\n",
       "            console.log([gd, 'removed!']);\n",
       "            Plotly.purge(gd);\n",
       "            observer.disconnect();\n",
       "        }}\n",
       "}});\n",
       "\n",
       "// Listen for the removal of the full notebook cells\n",
       "var notebookContainer = gd.closest('#notebook-container');\n",
       "if (notebookContainer) {{\n",
       "    x.observe(notebookContainer, {childList: true});\n",
       "}}\n",
       "\n",
       "// Listen for the clearing of the current output cell\n",
       "var outputEl = gd.closest('.output');\n",
       "if (outputEl) {{\n",
       "    x.observe(outputEl, {childList: true});\n",
       "}}\n",
       "\n",
       "                        })\n",
       "                };\n",
       "                });\n",
       "            </script>\n",
       "        </div>"
      ]
     },
     "metadata": {},
     "output_type": "display_data"
    }
   ],
   "source": [
    "df[['A','B']].iplot(kind='spread')"
   ]
  },
  {
   "cell_type": "code",
   "execution_count": 64,
   "metadata": {},
   "outputs": [
    {
     "data": {
      "application/vnd.plotly.v1+json": {
       "config": {
        "linkText": "Export to plot.ly",
        "plotlyServerURL": "https://plot.ly",
        "showLink": true
       },
       "data": [
        {
         "histfunc": "count",
         "histnorm": "",
         "marker": {
          "color": "rgba(255, 153, 51, 1.0)",
          "line": {
           "color": "#4D5663",
           "width": 1.3
          }
         },
         "name": "A",
         "nbinsx": 10,
         "opacity": 0.8,
         "orientation": "v",
         "type": "histogram",
         "x": [
          0.7184152132165522,
          -0.07374414338489427,
          1.3263250429191824,
          -0.6233809421936106,
          0.4742001274446034,
          -0.7437583934588065,
          -0.20562971175271394,
          -0.7912846928747075,
          -0.02702597232497973,
          0.6772742353991352,
          0.2488440802940327,
          -1.2274686431849393,
          1.254910728577048,
          1.6838038342892818,
          0.47921977443036406,
          -0.5022224516406076,
          -1.8745692527395976,
          1.9627993771005607,
          0.9560756328354928,
          -0.04359285288303292,
          0.6415439448675059,
          0.27977343160563767,
          -2.768644598762758,
          0.05983857939039157,
          1.3679925048742787,
          -0.10294575790551182,
          -0.2699661091353834,
          -1.2763005264901317,
          -0.605644482213025,
          0.4211936567382423,
          2.266041396863613,
          1.185381051419868,
          -1.0917455888736831,
          0.2027947575196413,
          -0.17045514705133089,
          0.8437438075614856,
          -0.23401836744499166,
          -0.5242333839647763,
          -0.31142091937150457,
          -0.9076703163927581,
          -1.837456312116648,
          -2.024823808987759,
          -1.8596832253495934,
          -0.35995344488929754,
          -0.1560997144255655,
          -0.24862232873532386,
          -0.5330745736291332,
          0.42241547345708086,
          0.6285806273053471,
          -0.5757328837855584,
          0.7320221470593188,
          -0.78920439441667,
          0.24399057919069703,
          1.403681725672624,
          -0.36497311179059233,
          -1.2035747602760776,
          -0.6799866071005245,
          -1.383687431161648,
          1.7204180525409456,
          0.7798432843313373,
          -1.746971525420941,
          -1.0509291587207734,
          0.21952730859203842,
          0.5153002455921952,
          0.662698390986974,
          -1.3706491187827667,
          -0.18692234413642134,
          0.20435033186983825,
          0.9577209134936103,
          -1.7580578520641799,
          1.934397248202235,
          -0.2419679983579328,
          -1.3560222792664143,
          -1.6380730147438929,
          0.542730758603566,
          -0.06911316253794753,
          0.9256442751713155,
          -1.2929221940251012,
          -0.922538122771601,
          1.0787188690915535,
          1.5772741845128695,
          0.8298802627756018,
          1.1312577460069513,
          0.5757750599947684,
          0.8140317333587312,
          -0.8666171022168118,
          -0.09076294738478492,
          0.7675522138256289,
          -0.1310600103165868,
          -0.700574932350856,
          0.4347324878153614,
          -1.8128643854407822,
          -0.28217756256423554,
          -1.1676894050183275,
          0.5138668046894407,
          -1.1695517800152062,
          1.0658983671799178,
          0.4561467894013599,
          -1.0421540922213297,
          -0.0011269428682303502
         ],
         "xaxis": "x",
         "yaxis": "y"
        },
        {
         "line": {
          "color": "rgba(128, 128, 128, 1.0)",
          "dash": "solid",
          "shape": "linear",
          "width": 1.3
         },
         "marker": {
          "size": 2,
          "symbol": "circle"
         },
         "mode": "markers",
         "name": "A",
         "text": "",
         "type": "scatter",
         "x": [
          -0.574006817058656,
          -0.7266588076382805,
          -0.3582653821205203,
          0.4108711973078174,
          -0.32049412434813634,
          0.04773441291937425,
          -0.3688892653969485,
          -1.9676847227099559,
          0.25795986598318144,
          0.537925471808953,
          -1.4962385157709366,
          0.5057892669442116,
          -0.29203313936093456,
          0.6328171202069542,
          -1.0522874962492237,
          0.7878930777939451,
          1.4309553115391773,
          0.1889102418784355,
          -0.013342842989387687,
          3.116070838792739,
          -0.41845360400421255,
          1.9858575207739673,
          0.6403115956548909,
          0.1907142736681472,
          -1.504935982311471,
          0.7416036365144881,
          0.1676053881271684,
          -0.24114082085754754,
          -0.8756962069315755,
          -0.525281131553952,
          0.16729678126738956,
          -1.4261549151524915,
          -0.8095904163469871,
          1.6988271573620615,
          1.7586594424748208,
          1.1173774377465564,
          -0.18402664254405693,
          -0.8725967786135869,
          0.9340462500605381,
          0.0436769694271896,
          0.2528261269315577,
          -0.48797455718435667,
          0.4185303541013756,
          -1.2115610819467757,
          -1.3873781031274601,
          -2.134924563226702,
          -0.36394732545907527,
          -1.8930906878602132,
          0.30419682598120823,
          -1.2397000596617789,
          1.5072415238223666,
          0.5076516583359088,
          -0.27253561558943046,
          0.9944063915869681,
          0.20503443372919314,
          0.11496705703028283,
          2.2451308551185214,
          -1.1894233003016832,
          -0.4109483665207544,
          0.4564664039644072,
          0.0594821775386694,
          2.025352796007877,
          0.13277668831354794,
          1.084947573356576,
          0.2886397552371678,
          -0.46229439145929685,
          0.07114397903457587,
          -0.36825571307179933,
          0.0580491159714769,
          -1.3175848043112401,
          1.6977785396994103,
          1.5238962245440153,
          0.6735606382188081,
          0.27852016317782674,
          -0.5125567623845447,
          0.8200273758606282,
          1.0211947809981352,
          -0.43694675512536835,
          2.4293952236159813,
          1.075463756336378,
          1.4049925716695653,
          1.116341730370617,
          -0.7067699756998078,
          0.516178571121736,
          0.27073191733361573,
          -1.030797684921648,
          -1.1109877307709126,
          0.4322628958451547,
          -0.9748824546183325,
          -2.0597490912023915,
          0.22368680313699774,
          -0.5803128715110616,
          -2.3645027848541047,
          0.29715916628752514,
          1.3546167563630593,
          -0.25223335075808057,
          0.1881641349093222,
          2.6987241405368656,
          -1.3327602486409937,
          -0.6169747814033371
         ],
         "xaxis": "x2",
         "y": [
          0.7184152132165522,
          -0.07374414338489427,
          1.3263250429191824,
          -0.6233809421936106,
          0.4742001274446034,
          -0.7437583934588065,
          -0.20562971175271394,
          -0.7912846928747075,
          -0.02702597232497973,
          0.6772742353991352,
          0.2488440802940327,
          -1.2274686431849393,
          1.254910728577048,
          1.6838038342892818,
          0.47921977443036406,
          -0.5022224516406076,
          -1.8745692527395976,
          1.9627993771005607,
          0.9560756328354928,
          -0.04359285288303292,
          0.6415439448675059,
          0.27977343160563767,
          -2.768644598762758,
          0.05983857939039157,
          1.3679925048742787,
          -0.10294575790551182,
          -0.2699661091353834,
          -1.2763005264901317,
          -0.605644482213025,
          0.4211936567382423,
          2.266041396863613,
          1.185381051419868,
          -1.0917455888736831,
          0.2027947575196413,
          -0.17045514705133089,
          0.8437438075614856,
          -0.23401836744499166,
          -0.5242333839647763,
          -0.31142091937150457,
          -0.9076703163927581,
          -1.837456312116648,
          -2.024823808987759,
          -1.8596832253495934,
          -0.35995344488929754,
          -0.1560997144255655,
          -0.24862232873532386,
          -0.5330745736291332,
          0.42241547345708086,
          0.6285806273053471,
          -0.5757328837855584,
          0.7320221470593188,
          -0.78920439441667,
          0.24399057919069703,
          1.403681725672624,
          -0.36497311179059233,
          -1.2035747602760776,
          -0.6799866071005245,
          -1.383687431161648,
          1.7204180525409456,
          0.7798432843313373,
          -1.746971525420941,
          -1.0509291587207734,
          0.21952730859203842,
          0.5153002455921952,
          0.662698390986974,
          -1.3706491187827667,
          -0.18692234413642134,
          0.20435033186983825,
          0.9577209134936103,
          -1.7580578520641799,
          1.934397248202235,
          -0.2419679983579328,
          -1.3560222792664143,
          -1.6380730147438929,
          0.542730758603566,
          -0.06911316253794753,
          0.9256442751713155,
          -1.2929221940251012,
          -0.922538122771601,
          1.0787188690915535,
          1.5772741845128695,
          0.8298802627756018,
          1.1312577460069513,
          0.5757750599947684,
          0.8140317333587312,
          -0.8666171022168118,
          -0.09076294738478492,
          0.7675522138256289,
          -0.1310600103165868,
          -0.700574932350856,
          0.4347324878153614,
          -1.8128643854407822,
          -0.28217756256423554,
          -1.1676894050183275,
          0.5138668046894407,
          -1.1695517800152062,
          1.0658983671799178,
          0.4561467894013599,
          -1.0421540922213297,
          -0.0011269428682303502
         ],
         "yaxis": "y2"
        },
        {
         "line": {
          "color": "rgba(128, 128, 128, 1.0)",
          "dash": "solid",
          "shape": "linear",
          "width": 1.3
         },
         "marker": {
          "size": 2,
          "symbol": "circle"
         },
         "mode": "markers",
         "name": "A",
         "text": "",
         "type": "scatter",
         "x": [
          0.4186050978255918,
          0.9660299067572595,
          -0.4318143275388457,
          0.5065075567870579,
          1.4859078649464117,
          2.037283479738617,
          0.1718877247483784,
          0.47531459547715643,
          0.42823940845213554,
          -0.21305545190507444,
          0.28190489492175935,
          -0.173204935815877,
          0.39757462485732936,
          1.3856892836568033,
          0.9822240896658297,
          1.938516935317932,
          0.2152802615769902,
          -1.6198131628409123,
          0.5373273678187647,
          1.0074272134548774,
          -0.8947699356644431,
          -0.20862165688177156,
          -0.10861066684874332,
          0.4534828477073112,
          0.8168342651047499,
          -0.1687725979146592,
          -0.5712267200634286,
          -1.1119129875224343,
          -1.6453222605018447,
          0.9855003647827035,
          1.7181503768731639,
          -0.12801937833791582,
          -0.759239480823569,
          -0.15604891625994818,
          -0.7308177686807426,
          -0.7654926526655869,
          -1.4628634609740454,
          -0.11367567007750326,
          0.44960352548597154,
          -0.9706311730653845,
          1.2545677594079299,
          -2.271041367591699,
          1.104145953395362,
          0.6195613024301116,
          -0.5005945813435325,
          -0.9063252531488935,
          -0.043850682877327164,
          -0.8454320211462417,
          0.7108991077320378,
          -1.9204840919319068,
          -1.458754114994838,
          -0.20099174944696324,
          -0.22259167976453564,
          -0.35670458652429826,
          -1.2551092820330252,
          -1.7901862237899924,
          0.9448393991015264,
          -0.1572709025185171,
          -1.6644238182098812,
          0.3172932947843975,
          -0.23550701831544502,
          0.2657712421161027,
          -0.053078294913159324,
          -2.398334429775859,
          0.7519569965442786,
          -0.16681679209782702,
          0.3452512000546205,
          -0.2910305465854694,
          -0.33331624044084773,
          0.9055671431700401,
          -0.42227825539631764,
          -1.2871107075659745,
          0.02109412124539801,
          -0.9061252419518914,
          -0.30150226561932414,
          1.334079070716369,
          -0.9170838735545183,
          0.4103890346700743,
          -0.5089311284427338,
          0.21384246102570673,
          -0.25502806255931987,
          0.8148800270629623,
          0.042616665556271735,
          -0.1568235945172625,
          -0.04308239534943786,
          -0.28435314213034757,
          -1.0269739230542796,
          1.269247105161303,
          1.1439941254385915,
          0.39004917349610146,
          -0.282070716056746,
          -0.5068669529975444,
          1.0857202913987292,
          -0.9641678103539787,
          2.403598393563145,
          -1.1166542022763057,
          0.0546234593929146,
          -0.9843132869855903,
          1.3621554962299072,
          0.8257631253025725
         ],
         "xaxis": "x3",
         "y": [
          0.7184152132165522,
          -0.07374414338489427,
          1.3263250429191824,
          -0.6233809421936106,
          0.4742001274446034,
          -0.7437583934588065,
          -0.20562971175271394,
          -0.7912846928747075,
          -0.02702597232497973,
          0.6772742353991352,
          0.2488440802940327,
          -1.2274686431849393,
          1.254910728577048,
          1.6838038342892818,
          0.47921977443036406,
          -0.5022224516406076,
          -1.8745692527395976,
          1.9627993771005607,
          0.9560756328354928,
          -0.04359285288303292,
          0.6415439448675059,
          0.27977343160563767,
          -2.768644598762758,
          0.05983857939039157,
          1.3679925048742787,
          -0.10294575790551182,
          -0.2699661091353834,
          -1.2763005264901317,
          -0.605644482213025,
          0.4211936567382423,
          2.266041396863613,
          1.185381051419868,
          -1.0917455888736831,
          0.2027947575196413,
          -0.17045514705133089,
          0.8437438075614856,
          -0.23401836744499166,
          -0.5242333839647763,
          -0.31142091937150457,
          -0.9076703163927581,
          -1.837456312116648,
          -2.024823808987759,
          -1.8596832253495934,
          -0.35995344488929754,
          -0.1560997144255655,
          -0.24862232873532386,
          -0.5330745736291332,
          0.42241547345708086,
          0.6285806273053471,
          -0.5757328837855584,
          0.7320221470593188,
          -0.78920439441667,
          0.24399057919069703,
          1.403681725672624,
          -0.36497311179059233,
          -1.2035747602760776,
          -0.6799866071005245,
          -1.383687431161648,
          1.7204180525409456,
          0.7798432843313373,
          -1.746971525420941,
          -1.0509291587207734,
          0.21952730859203842,
          0.5153002455921952,
          0.662698390986974,
          -1.3706491187827667,
          -0.18692234413642134,
          0.20435033186983825,
          0.9577209134936103,
          -1.7580578520641799,
          1.934397248202235,
          -0.2419679983579328,
          -1.3560222792664143,
          -1.6380730147438929,
          0.542730758603566,
          -0.06911316253794753,
          0.9256442751713155,
          -1.2929221940251012,
          -0.922538122771601,
          1.0787188690915535,
          1.5772741845128695,
          0.8298802627756018,
          1.1312577460069513,
          0.5757750599947684,
          0.8140317333587312,
          -0.8666171022168118,
          -0.09076294738478492,
          0.7675522138256289,
          -0.1310600103165868,
          -0.700574932350856,
          0.4347324878153614,
          -1.8128643854407822,
          -0.28217756256423554,
          -1.1676894050183275,
          0.5138668046894407,
          -1.1695517800152062,
          1.0658983671799178,
          0.4561467894013599,
          -1.0421540922213297,
          -0.0011269428682303502
         ],
         "yaxis": "y3"
        },
        {
         "line": {
          "color": "rgba(128, 128, 128, 1.0)",
          "dash": "solid",
          "shape": "linear",
          "width": 1.3
         },
         "marker": {
          "size": 2,
          "symbol": "circle"
         },
         "mode": "markers",
         "name": "A",
         "text": "",
         "type": "scatter",
         "x": [
          -0.44737534191412004,
          1.109785149730803,
          -0.31221247860147944,
          0.276185368698082,
          -1.922113777992666,
          0.5494499941511534,
          0.7206549564338,
          -0.9516303805555207,
          -1.609155510582861,
          -0.40131901516196106,
          0.13751866377005473,
          -0.18217209654260266,
          0.7860287209432499,
          -0.3291145050836312,
          0.26243641711107646,
          -0.2878202787345519,
          -0.9128405545141554,
          -0.8312673902052876,
          -0.30275398434875406,
          0.8206462677630454,
          -0.4263469225679497,
          -1.120886690537222,
          -1.3285668861396507,
          1.3694310001895356,
          -0.8310020565902191,
          0.9175748272459755,
          -0.378438553528216,
          -0.27712991270684717,
          1.0411739903759445,
          -0.9520320074714249,
          1.9180612257286693,
          -0.2408163797498644,
          -0.7080841797917553,
          -0.12956203263442628,
          1.3475162159337835,
          0.627818631947682,
          -1.716800425038791,
          -0.2704552717952776,
          1.6795627933379111,
          -1.0832558636122478,
          0.7421375992266598,
          0.07262878557573275,
          -1.004922520323428,
          0.795976586815005,
          -0.3048903799119217,
          0.631689680578985,
          0.48543456020033926,
          -0.6346491295703771,
          1.5676354822561684,
          -0.6927541999080309,
          1.2117825885964526,
          -0.8588951660933406,
          0.04556918339778246,
          -0.2509167430446283,
          -2.410866061933873,
          -0.309138274041897,
          -0.7943130822699094,
          -1.0227254868016358,
          -0.21726475438931492,
          -0.8754548694426114,
          1.4769569272751402,
          -1.1198238404890728,
          -0.01166713487201717,
          -0.8704916124383638,
          -0.7452030374081205,
          1.0980138822393697,
          -1.2920538475380032,
          0.4820522082297061,
          0.5801132346756122,
          -1.172445079797513,
          0.10794550998379952,
          0.4549470143952793,
          1.0461950013526864,
          -1.5081622005182924,
          1.226275464583169,
          -1.5599668548836045,
          0.744306083529144,
          -0.08554417277120979,
          -1.3241444170103283,
          -1.6113510314540873,
          -1.873746753759231,
          -1.6944197671866323,
          0.6247438287291291,
          -0.1818162989389835,
          -0.45067126644989614,
          -1.1897704812162915,
          1.4373509460024958,
          -1.0109890424592494,
          -0.2246209543647973,
          -1.0054544415043833,
          -0.8917803201970335,
          0.11013000673782364,
          0.8460814387692865,
          -0.2960568336761955,
          1.6971034217877161,
          -0.6242430462122459,
          -0.9875452455298763,
          -1.1465984440862063,
          -0.6955021346674213,
          0.08545122043946983
         ],
         "xaxis": "x4",
         "y": [
          0.7184152132165522,
          -0.07374414338489427,
          1.3263250429191824,
          -0.6233809421936106,
          0.4742001274446034,
          -0.7437583934588065,
          -0.20562971175271394,
          -0.7912846928747075,
          -0.02702597232497973,
          0.6772742353991352,
          0.2488440802940327,
          -1.2274686431849393,
          1.254910728577048,
          1.6838038342892818,
          0.47921977443036406,
          -0.5022224516406076,
          -1.8745692527395976,
          1.9627993771005607,
          0.9560756328354928,
          -0.04359285288303292,
          0.6415439448675059,
          0.27977343160563767,
          -2.768644598762758,
          0.05983857939039157,
          1.3679925048742787,
          -0.10294575790551182,
          -0.2699661091353834,
          -1.2763005264901317,
          -0.605644482213025,
          0.4211936567382423,
          2.266041396863613,
          1.185381051419868,
          -1.0917455888736831,
          0.2027947575196413,
          -0.17045514705133089,
          0.8437438075614856,
          -0.23401836744499166,
          -0.5242333839647763,
          -0.31142091937150457,
          -0.9076703163927581,
          -1.837456312116648,
          -2.024823808987759,
          -1.8596832253495934,
          -0.35995344488929754,
          -0.1560997144255655,
          -0.24862232873532386,
          -0.5330745736291332,
          0.42241547345708086,
          0.6285806273053471,
          -0.5757328837855584,
          0.7320221470593188,
          -0.78920439441667,
          0.24399057919069703,
          1.403681725672624,
          -0.36497311179059233,
          -1.2035747602760776,
          -0.6799866071005245,
          -1.383687431161648,
          1.7204180525409456,
          0.7798432843313373,
          -1.746971525420941,
          -1.0509291587207734,
          0.21952730859203842,
          0.5153002455921952,
          0.662698390986974,
          -1.3706491187827667,
          -0.18692234413642134,
          0.20435033186983825,
          0.9577209134936103,
          -1.7580578520641799,
          1.934397248202235,
          -0.2419679983579328,
          -1.3560222792664143,
          -1.6380730147438929,
          0.542730758603566,
          -0.06911316253794753,
          0.9256442751713155,
          -1.2929221940251012,
          -0.922538122771601,
          1.0787188690915535,
          1.5772741845128695,
          0.8298802627756018,
          1.1312577460069513,
          0.5757750599947684,
          0.8140317333587312,
          -0.8666171022168118,
          -0.09076294738478492,
          0.7675522138256289,
          -0.1310600103165868,
          -0.700574932350856,
          0.4347324878153614,
          -1.8128643854407822,
          -0.28217756256423554,
          -1.1676894050183275,
          0.5138668046894407,
          -1.1695517800152062,
          1.0658983671799178,
          0.4561467894013599,
          -1.0421540922213297,
          -0.0011269428682303502
         ],
         "yaxis": "y4"
        },
        {
         "line": {
          "color": "rgba(128, 128, 128, 1.0)",
          "dash": "solid",
          "shape": "linear",
          "width": 1.3
         },
         "marker": {
          "size": 2,
          "symbol": "circle"
         },
         "mode": "markers",
         "name": "B",
         "text": "",
         "type": "scatter",
         "x": [
          0.7184152132165522,
          -0.07374414338489427,
          1.3263250429191824,
          -0.6233809421936106,
          0.4742001274446034,
          -0.7437583934588065,
          -0.20562971175271394,
          -0.7912846928747075,
          -0.02702597232497973,
          0.6772742353991352,
          0.2488440802940327,
          -1.2274686431849393,
          1.254910728577048,
          1.6838038342892818,
          0.47921977443036406,
          -0.5022224516406076,
          -1.8745692527395976,
          1.9627993771005607,
          0.9560756328354928,
          -0.04359285288303292,
          0.6415439448675059,
          0.27977343160563767,
          -2.768644598762758,
          0.05983857939039157,
          1.3679925048742787,
          -0.10294575790551182,
          -0.2699661091353834,
          -1.2763005264901317,
          -0.605644482213025,
          0.4211936567382423,
          2.266041396863613,
          1.185381051419868,
          -1.0917455888736831,
          0.2027947575196413,
          -0.17045514705133089,
          0.8437438075614856,
          -0.23401836744499166,
          -0.5242333839647763,
          -0.31142091937150457,
          -0.9076703163927581,
          -1.837456312116648,
          -2.024823808987759,
          -1.8596832253495934,
          -0.35995344488929754,
          -0.1560997144255655,
          -0.24862232873532386,
          -0.5330745736291332,
          0.42241547345708086,
          0.6285806273053471,
          -0.5757328837855584,
          0.7320221470593188,
          -0.78920439441667,
          0.24399057919069703,
          1.403681725672624,
          -0.36497311179059233,
          -1.2035747602760776,
          -0.6799866071005245,
          -1.383687431161648,
          1.7204180525409456,
          0.7798432843313373,
          -1.746971525420941,
          -1.0509291587207734,
          0.21952730859203842,
          0.5153002455921952,
          0.662698390986974,
          -1.3706491187827667,
          -0.18692234413642134,
          0.20435033186983825,
          0.9577209134936103,
          -1.7580578520641799,
          1.934397248202235,
          -0.2419679983579328,
          -1.3560222792664143,
          -1.6380730147438929,
          0.542730758603566,
          -0.06911316253794753,
          0.9256442751713155,
          -1.2929221940251012,
          -0.922538122771601,
          1.0787188690915535,
          1.5772741845128695,
          0.8298802627756018,
          1.1312577460069513,
          0.5757750599947684,
          0.8140317333587312,
          -0.8666171022168118,
          -0.09076294738478492,
          0.7675522138256289,
          -0.1310600103165868,
          -0.700574932350856,
          0.4347324878153614,
          -1.8128643854407822,
          -0.28217756256423554,
          -1.1676894050183275,
          0.5138668046894407,
          -1.1695517800152062,
          1.0658983671799178,
          0.4561467894013599,
          -1.0421540922213297,
          -0.0011269428682303502
         ],
         "xaxis": "x5",
         "y": [
          -0.574006817058656,
          -0.7266588076382805,
          -0.3582653821205203,
          0.4108711973078174,
          -0.32049412434813634,
          0.04773441291937425,
          -0.3688892653969485,
          -1.9676847227099559,
          0.25795986598318144,
          0.537925471808953,
          -1.4962385157709366,
          0.5057892669442116,
          -0.29203313936093456,
          0.6328171202069542,
          -1.0522874962492237,
          0.7878930777939451,
          1.4309553115391773,
          0.1889102418784355,
          -0.013342842989387687,
          3.116070838792739,
          -0.41845360400421255,
          1.9858575207739673,
          0.6403115956548909,
          0.1907142736681472,
          -1.504935982311471,
          0.7416036365144881,
          0.1676053881271684,
          -0.24114082085754754,
          -0.8756962069315755,
          -0.525281131553952,
          0.16729678126738956,
          -1.4261549151524915,
          -0.8095904163469871,
          1.6988271573620615,
          1.7586594424748208,
          1.1173774377465564,
          -0.18402664254405693,
          -0.8725967786135869,
          0.9340462500605381,
          0.0436769694271896,
          0.2528261269315577,
          -0.48797455718435667,
          0.4185303541013756,
          -1.2115610819467757,
          -1.3873781031274601,
          -2.134924563226702,
          -0.36394732545907527,
          -1.8930906878602132,
          0.30419682598120823,
          -1.2397000596617789,
          1.5072415238223666,
          0.5076516583359088,
          -0.27253561558943046,
          0.9944063915869681,
          0.20503443372919314,
          0.11496705703028283,
          2.2451308551185214,
          -1.1894233003016832,
          -0.4109483665207544,
          0.4564664039644072,
          0.0594821775386694,
          2.025352796007877,
          0.13277668831354794,
          1.084947573356576,
          0.2886397552371678,
          -0.46229439145929685,
          0.07114397903457587,
          -0.36825571307179933,
          0.0580491159714769,
          -1.3175848043112401,
          1.6977785396994103,
          1.5238962245440153,
          0.6735606382188081,
          0.27852016317782674,
          -0.5125567623845447,
          0.8200273758606282,
          1.0211947809981352,
          -0.43694675512536835,
          2.4293952236159813,
          1.075463756336378,
          1.4049925716695653,
          1.116341730370617,
          -0.7067699756998078,
          0.516178571121736,
          0.27073191733361573,
          -1.030797684921648,
          -1.1109877307709126,
          0.4322628958451547,
          -0.9748824546183325,
          -2.0597490912023915,
          0.22368680313699774,
          -0.5803128715110616,
          -2.3645027848541047,
          0.29715916628752514,
          1.3546167563630593,
          -0.25223335075808057,
          0.1881641349093222,
          2.6987241405368656,
          -1.3327602486409937,
          -0.6169747814033371
         ],
         "yaxis": "y5"
        },
        {
         "histfunc": "count",
         "histnorm": "",
         "marker": {
          "color": "rgba(55, 128, 191, 1.0)",
          "line": {
           "color": "#4D5663",
           "width": 1.3
          }
         },
         "name": "B",
         "nbinsx": 10,
         "opacity": 0.8,
         "orientation": "v",
         "type": "histogram",
         "x": [
          -0.574006817058656,
          -0.7266588076382805,
          -0.3582653821205203,
          0.4108711973078174,
          -0.32049412434813634,
          0.04773441291937425,
          -0.3688892653969485,
          -1.9676847227099559,
          0.25795986598318144,
          0.537925471808953,
          -1.4962385157709366,
          0.5057892669442116,
          -0.29203313936093456,
          0.6328171202069542,
          -1.0522874962492237,
          0.7878930777939451,
          1.4309553115391773,
          0.1889102418784355,
          -0.013342842989387687,
          3.116070838792739,
          -0.41845360400421255,
          1.9858575207739673,
          0.6403115956548909,
          0.1907142736681472,
          -1.504935982311471,
          0.7416036365144881,
          0.1676053881271684,
          -0.24114082085754754,
          -0.8756962069315755,
          -0.525281131553952,
          0.16729678126738956,
          -1.4261549151524915,
          -0.8095904163469871,
          1.6988271573620615,
          1.7586594424748208,
          1.1173774377465564,
          -0.18402664254405693,
          -0.8725967786135869,
          0.9340462500605381,
          0.0436769694271896,
          0.2528261269315577,
          -0.48797455718435667,
          0.4185303541013756,
          -1.2115610819467757,
          -1.3873781031274601,
          -2.134924563226702,
          -0.36394732545907527,
          -1.8930906878602132,
          0.30419682598120823,
          -1.2397000596617789,
          1.5072415238223666,
          0.5076516583359088,
          -0.27253561558943046,
          0.9944063915869681,
          0.20503443372919314,
          0.11496705703028283,
          2.2451308551185214,
          -1.1894233003016832,
          -0.4109483665207544,
          0.4564664039644072,
          0.0594821775386694,
          2.025352796007877,
          0.13277668831354794,
          1.084947573356576,
          0.2886397552371678,
          -0.46229439145929685,
          0.07114397903457587,
          -0.36825571307179933,
          0.0580491159714769,
          -1.3175848043112401,
          1.6977785396994103,
          1.5238962245440153,
          0.6735606382188081,
          0.27852016317782674,
          -0.5125567623845447,
          0.8200273758606282,
          1.0211947809981352,
          -0.43694675512536835,
          2.4293952236159813,
          1.075463756336378,
          1.4049925716695653,
          1.116341730370617,
          -0.7067699756998078,
          0.516178571121736,
          0.27073191733361573,
          -1.030797684921648,
          -1.1109877307709126,
          0.4322628958451547,
          -0.9748824546183325,
          -2.0597490912023915,
          0.22368680313699774,
          -0.5803128715110616,
          -2.3645027848541047,
          0.29715916628752514,
          1.3546167563630593,
          -0.25223335075808057,
          0.1881641349093222,
          2.6987241405368656,
          -1.3327602486409937,
          -0.6169747814033371
         ],
         "xaxis": "x6",
         "yaxis": "y6"
        },
        {
         "line": {
          "color": "rgba(128, 128, 128, 1.0)",
          "dash": "solid",
          "shape": "linear",
          "width": 1.3
         },
         "marker": {
          "size": 2,
          "symbol": "circle"
         },
         "mode": "markers",
         "name": "B",
         "text": "",
         "type": "scatter",
         "x": [
          0.4186050978255918,
          0.9660299067572595,
          -0.4318143275388457,
          0.5065075567870579,
          1.4859078649464117,
          2.037283479738617,
          0.1718877247483784,
          0.47531459547715643,
          0.42823940845213554,
          -0.21305545190507444,
          0.28190489492175935,
          -0.173204935815877,
          0.39757462485732936,
          1.3856892836568033,
          0.9822240896658297,
          1.938516935317932,
          0.2152802615769902,
          -1.6198131628409123,
          0.5373273678187647,
          1.0074272134548774,
          -0.8947699356644431,
          -0.20862165688177156,
          -0.10861066684874332,
          0.4534828477073112,
          0.8168342651047499,
          -0.1687725979146592,
          -0.5712267200634286,
          -1.1119129875224343,
          -1.6453222605018447,
          0.9855003647827035,
          1.7181503768731639,
          -0.12801937833791582,
          -0.759239480823569,
          -0.15604891625994818,
          -0.7308177686807426,
          -0.7654926526655869,
          -1.4628634609740454,
          -0.11367567007750326,
          0.44960352548597154,
          -0.9706311730653845,
          1.2545677594079299,
          -2.271041367591699,
          1.104145953395362,
          0.6195613024301116,
          -0.5005945813435325,
          -0.9063252531488935,
          -0.043850682877327164,
          -0.8454320211462417,
          0.7108991077320378,
          -1.9204840919319068,
          -1.458754114994838,
          -0.20099174944696324,
          -0.22259167976453564,
          -0.35670458652429826,
          -1.2551092820330252,
          -1.7901862237899924,
          0.9448393991015264,
          -0.1572709025185171,
          -1.6644238182098812,
          0.3172932947843975,
          -0.23550701831544502,
          0.2657712421161027,
          -0.053078294913159324,
          -2.398334429775859,
          0.7519569965442786,
          -0.16681679209782702,
          0.3452512000546205,
          -0.2910305465854694,
          -0.33331624044084773,
          0.9055671431700401,
          -0.42227825539631764,
          -1.2871107075659745,
          0.02109412124539801,
          -0.9061252419518914,
          -0.30150226561932414,
          1.334079070716369,
          -0.9170838735545183,
          0.4103890346700743,
          -0.5089311284427338,
          0.21384246102570673,
          -0.25502806255931987,
          0.8148800270629623,
          0.042616665556271735,
          -0.1568235945172625,
          -0.04308239534943786,
          -0.28435314213034757,
          -1.0269739230542796,
          1.269247105161303,
          1.1439941254385915,
          0.39004917349610146,
          -0.282070716056746,
          -0.5068669529975444,
          1.0857202913987292,
          -0.9641678103539787,
          2.403598393563145,
          -1.1166542022763057,
          0.0546234593929146,
          -0.9843132869855903,
          1.3621554962299072,
          0.8257631253025725
         ],
         "xaxis": "x7",
         "y": [
          -0.574006817058656,
          -0.7266588076382805,
          -0.3582653821205203,
          0.4108711973078174,
          -0.32049412434813634,
          0.04773441291937425,
          -0.3688892653969485,
          -1.9676847227099559,
          0.25795986598318144,
          0.537925471808953,
          -1.4962385157709366,
          0.5057892669442116,
          -0.29203313936093456,
          0.6328171202069542,
          -1.0522874962492237,
          0.7878930777939451,
          1.4309553115391773,
          0.1889102418784355,
          -0.013342842989387687,
          3.116070838792739,
          -0.41845360400421255,
          1.9858575207739673,
          0.6403115956548909,
          0.1907142736681472,
          -1.504935982311471,
          0.7416036365144881,
          0.1676053881271684,
          -0.24114082085754754,
          -0.8756962069315755,
          -0.525281131553952,
          0.16729678126738956,
          -1.4261549151524915,
          -0.8095904163469871,
          1.6988271573620615,
          1.7586594424748208,
          1.1173774377465564,
          -0.18402664254405693,
          -0.8725967786135869,
          0.9340462500605381,
          0.0436769694271896,
          0.2528261269315577,
          -0.48797455718435667,
          0.4185303541013756,
          -1.2115610819467757,
          -1.3873781031274601,
          -2.134924563226702,
          -0.36394732545907527,
          -1.8930906878602132,
          0.30419682598120823,
          -1.2397000596617789,
          1.5072415238223666,
          0.5076516583359088,
          -0.27253561558943046,
          0.9944063915869681,
          0.20503443372919314,
          0.11496705703028283,
          2.2451308551185214,
          -1.1894233003016832,
          -0.4109483665207544,
          0.4564664039644072,
          0.0594821775386694,
          2.025352796007877,
          0.13277668831354794,
          1.084947573356576,
          0.2886397552371678,
          -0.46229439145929685,
          0.07114397903457587,
          -0.36825571307179933,
          0.0580491159714769,
          -1.3175848043112401,
          1.6977785396994103,
          1.5238962245440153,
          0.6735606382188081,
          0.27852016317782674,
          -0.5125567623845447,
          0.8200273758606282,
          1.0211947809981352,
          -0.43694675512536835,
          2.4293952236159813,
          1.075463756336378,
          1.4049925716695653,
          1.116341730370617,
          -0.7067699756998078,
          0.516178571121736,
          0.27073191733361573,
          -1.030797684921648,
          -1.1109877307709126,
          0.4322628958451547,
          -0.9748824546183325,
          -2.0597490912023915,
          0.22368680313699774,
          -0.5803128715110616,
          -2.3645027848541047,
          0.29715916628752514,
          1.3546167563630593,
          -0.25223335075808057,
          0.1881641349093222,
          2.6987241405368656,
          -1.3327602486409937,
          -0.6169747814033371
         ],
         "yaxis": "y7"
        },
        {
         "line": {
          "color": "rgba(128, 128, 128, 1.0)",
          "dash": "solid",
          "shape": "linear",
          "width": 1.3
         },
         "marker": {
          "size": 2,
          "symbol": "circle"
         },
         "mode": "markers",
         "name": "B",
         "text": "",
         "type": "scatter",
         "x": [
          -0.44737534191412004,
          1.109785149730803,
          -0.31221247860147944,
          0.276185368698082,
          -1.922113777992666,
          0.5494499941511534,
          0.7206549564338,
          -0.9516303805555207,
          -1.609155510582861,
          -0.40131901516196106,
          0.13751866377005473,
          -0.18217209654260266,
          0.7860287209432499,
          -0.3291145050836312,
          0.26243641711107646,
          -0.2878202787345519,
          -0.9128405545141554,
          -0.8312673902052876,
          -0.30275398434875406,
          0.8206462677630454,
          -0.4263469225679497,
          -1.120886690537222,
          -1.3285668861396507,
          1.3694310001895356,
          -0.8310020565902191,
          0.9175748272459755,
          -0.378438553528216,
          -0.27712991270684717,
          1.0411739903759445,
          -0.9520320074714249,
          1.9180612257286693,
          -0.2408163797498644,
          -0.7080841797917553,
          -0.12956203263442628,
          1.3475162159337835,
          0.627818631947682,
          -1.716800425038791,
          -0.2704552717952776,
          1.6795627933379111,
          -1.0832558636122478,
          0.7421375992266598,
          0.07262878557573275,
          -1.004922520323428,
          0.795976586815005,
          -0.3048903799119217,
          0.631689680578985,
          0.48543456020033926,
          -0.6346491295703771,
          1.5676354822561684,
          -0.6927541999080309,
          1.2117825885964526,
          -0.8588951660933406,
          0.04556918339778246,
          -0.2509167430446283,
          -2.410866061933873,
          -0.309138274041897,
          -0.7943130822699094,
          -1.0227254868016358,
          -0.21726475438931492,
          -0.8754548694426114,
          1.4769569272751402,
          -1.1198238404890728,
          -0.01166713487201717,
          -0.8704916124383638,
          -0.7452030374081205,
          1.0980138822393697,
          -1.2920538475380032,
          0.4820522082297061,
          0.5801132346756122,
          -1.172445079797513,
          0.10794550998379952,
          0.4549470143952793,
          1.0461950013526864,
          -1.5081622005182924,
          1.226275464583169,
          -1.5599668548836045,
          0.744306083529144,
          -0.08554417277120979,
          -1.3241444170103283,
          -1.6113510314540873,
          -1.873746753759231,
          -1.6944197671866323,
          0.6247438287291291,
          -0.1818162989389835,
          -0.45067126644989614,
          -1.1897704812162915,
          1.4373509460024958,
          -1.0109890424592494,
          -0.2246209543647973,
          -1.0054544415043833,
          -0.8917803201970335,
          0.11013000673782364,
          0.8460814387692865,
          -0.2960568336761955,
          1.6971034217877161,
          -0.6242430462122459,
          -0.9875452455298763,
          -1.1465984440862063,
          -0.6955021346674213,
          0.08545122043946983
         ],
         "xaxis": "x8",
         "y": [
          -0.574006817058656,
          -0.7266588076382805,
          -0.3582653821205203,
          0.4108711973078174,
          -0.32049412434813634,
          0.04773441291937425,
          -0.3688892653969485,
          -1.9676847227099559,
          0.25795986598318144,
          0.537925471808953,
          -1.4962385157709366,
          0.5057892669442116,
          -0.29203313936093456,
          0.6328171202069542,
          -1.0522874962492237,
          0.7878930777939451,
          1.4309553115391773,
          0.1889102418784355,
          -0.013342842989387687,
          3.116070838792739,
          -0.41845360400421255,
          1.9858575207739673,
          0.6403115956548909,
          0.1907142736681472,
          -1.504935982311471,
          0.7416036365144881,
          0.1676053881271684,
          -0.24114082085754754,
          -0.8756962069315755,
          -0.525281131553952,
          0.16729678126738956,
          -1.4261549151524915,
          -0.8095904163469871,
          1.6988271573620615,
          1.7586594424748208,
          1.1173774377465564,
          -0.18402664254405693,
          -0.8725967786135869,
          0.9340462500605381,
          0.0436769694271896,
          0.2528261269315577,
          -0.48797455718435667,
          0.4185303541013756,
          -1.2115610819467757,
          -1.3873781031274601,
          -2.134924563226702,
          -0.36394732545907527,
          -1.8930906878602132,
          0.30419682598120823,
          -1.2397000596617789,
          1.5072415238223666,
          0.5076516583359088,
          -0.27253561558943046,
          0.9944063915869681,
          0.20503443372919314,
          0.11496705703028283,
          2.2451308551185214,
          -1.1894233003016832,
          -0.4109483665207544,
          0.4564664039644072,
          0.0594821775386694,
          2.025352796007877,
          0.13277668831354794,
          1.084947573356576,
          0.2886397552371678,
          -0.46229439145929685,
          0.07114397903457587,
          -0.36825571307179933,
          0.0580491159714769,
          -1.3175848043112401,
          1.6977785396994103,
          1.5238962245440153,
          0.6735606382188081,
          0.27852016317782674,
          -0.5125567623845447,
          0.8200273758606282,
          1.0211947809981352,
          -0.43694675512536835,
          2.4293952236159813,
          1.075463756336378,
          1.4049925716695653,
          1.116341730370617,
          -0.7067699756998078,
          0.516178571121736,
          0.27073191733361573,
          -1.030797684921648,
          -1.1109877307709126,
          0.4322628958451547,
          -0.9748824546183325,
          -2.0597490912023915,
          0.22368680313699774,
          -0.5803128715110616,
          -2.3645027848541047,
          0.29715916628752514,
          1.3546167563630593,
          -0.25223335075808057,
          0.1881641349093222,
          2.6987241405368656,
          -1.3327602486409937,
          -0.6169747814033371
         ],
         "yaxis": "y8"
        },
        {
         "line": {
          "color": "rgba(128, 128, 128, 1.0)",
          "dash": "solid",
          "shape": "linear",
          "width": 1.3
         },
         "marker": {
          "size": 2,
          "symbol": "circle"
         },
         "mode": "markers",
         "name": "C",
         "text": "",
         "type": "scatter",
         "x": [
          0.7184152132165522,
          -0.07374414338489427,
          1.3263250429191824,
          -0.6233809421936106,
          0.4742001274446034,
          -0.7437583934588065,
          -0.20562971175271394,
          -0.7912846928747075,
          -0.02702597232497973,
          0.6772742353991352,
          0.2488440802940327,
          -1.2274686431849393,
          1.254910728577048,
          1.6838038342892818,
          0.47921977443036406,
          -0.5022224516406076,
          -1.8745692527395976,
          1.9627993771005607,
          0.9560756328354928,
          -0.04359285288303292,
          0.6415439448675059,
          0.27977343160563767,
          -2.768644598762758,
          0.05983857939039157,
          1.3679925048742787,
          -0.10294575790551182,
          -0.2699661091353834,
          -1.2763005264901317,
          -0.605644482213025,
          0.4211936567382423,
          2.266041396863613,
          1.185381051419868,
          -1.0917455888736831,
          0.2027947575196413,
          -0.17045514705133089,
          0.8437438075614856,
          -0.23401836744499166,
          -0.5242333839647763,
          -0.31142091937150457,
          -0.9076703163927581,
          -1.837456312116648,
          -2.024823808987759,
          -1.8596832253495934,
          -0.35995344488929754,
          -0.1560997144255655,
          -0.24862232873532386,
          -0.5330745736291332,
          0.42241547345708086,
          0.6285806273053471,
          -0.5757328837855584,
          0.7320221470593188,
          -0.78920439441667,
          0.24399057919069703,
          1.403681725672624,
          -0.36497311179059233,
          -1.2035747602760776,
          -0.6799866071005245,
          -1.383687431161648,
          1.7204180525409456,
          0.7798432843313373,
          -1.746971525420941,
          -1.0509291587207734,
          0.21952730859203842,
          0.5153002455921952,
          0.662698390986974,
          -1.3706491187827667,
          -0.18692234413642134,
          0.20435033186983825,
          0.9577209134936103,
          -1.7580578520641799,
          1.934397248202235,
          -0.2419679983579328,
          -1.3560222792664143,
          -1.6380730147438929,
          0.542730758603566,
          -0.06911316253794753,
          0.9256442751713155,
          -1.2929221940251012,
          -0.922538122771601,
          1.0787188690915535,
          1.5772741845128695,
          0.8298802627756018,
          1.1312577460069513,
          0.5757750599947684,
          0.8140317333587312,
          -0.8666171022168118,
          -0.09076294738478492,
          0.7675522138256289,
          -0.1310600103165868,
          -0.700574932350856,
          0.4347324878153614,
          -1.8128643854407822,
          -0.28217756256423554,
          -1.1676894050183275,
          0.5138668046894407,
          -1.1695517800152062,
          1.0658983671799178,
          0.4561467894013599,
          -1.0421540922213297,
          -0.0011269428682303502
         ],
         "xaxis": "x9",
         "y": [
          0.4186050978255918,
          0.9660299067572595,
          -0.4318143275388457,
          0.5065075567870579,
          1.4859078649464117,
          2.037283479738617,
          0.1718877247483784,
          0.47531459547715643,
          0.42823940845213554,
          -0.21305545190507444,
          0.28190489492175935,
          -0.173204935815877,
          0.39757462485732936,
          1.3856892836568033,
          0.9822240896658297,
          1.938516935317932,
          0.2152802615769902,
          -1.6198131628409123,
          0.5373273678187647,
          1.0074272134548774,
          -0.8947699356644431,
          -0.20862165688177156,
          -0.10861066684874332,
          0.4534828477073112,
          0.8168342651047499,
          -0.1687725979146592,
          -0.5712267200634286,
          -1.1119129875224343,
          -1.6453222605018447,
          0.9855003647827035,
          1.7181503768731639,
          -0.12801937833791582,
          -0.759239480823569,
          -0.15604891625994818,
          -0.7308177686807426,
          -0.7654926526655869,
          -1.4628634609740454,
          -0.11367567007750326,
          0.44960352548597154,
          -0.9706311730653845,
          1.2545677594079299,
          -2.271041367591699,
          1.104145953395362,
          0.6195613024301116,
          -0.5005945813435325,
          -0.9063252531488935,
          -0.043850682877327164,
          -0.8454320211462417,
          0.7108991077320378,
          -1.9204840919319068,
          -1.458754114994838,
          -0.20099174944696324,
          -0.22259167976453564,
          -0.35670458652429826,
          -1.2551092820330252,
          -1.7901862237899924,
          0.9448393991015264,
          -0.1572709025185171,
          -1.6644238182098812,
          0.3172932947843975,
          -0.23550701831544502,
          0.2657712421161027,
          -0.053078294913159324,
          -2.398334429775859,
          0.7519569965442786,
          -0.16681679209782702,
          0.3452512000546205,
          -0.2910305465854694,
          -0.33331624044084773,
          0.9055671431700401,
          -0.42227825539631764,
          -1.2871107075659745,
          0.02109412124539801,
          -0.9061252419518914,
          -0.30150226561932414,
          1.334079070716369,
          -0.9170838735545183,
          0.4103890346700743,
          -0.5089311284427338,
          0.21384246102570673,
          -0.25502806255931987,
          0.8148800270629623,
          0.042616665556271735,
          -0.1568235945172625,
          -0.04308239534943786,
          -0.28435314213034757,
          -1.0269739230542796,
          1.269247105161303,
          1.1439941254385915,
          0.39004917349610146,
          -0.282070716056746,
          -0.5068669529975444,
          1.0857202913987292,
          -0.9641678103539787,
          2.403598393563145,
          -1.1166542022763057,
          0.0546234593929146,
          -0.9843132869855903,
          1.3621554962299072,
          0.8257631253025725
         ],
         "yaxis": "y9"
        },
        {
         "line": {
          "color": "rgba(128, 128, 128, 1.0)",
          "dash": "solid",
          "shape": "linear",
          "width": 1.3
         },
         "marker": {
          "size": 2,
          "symbol": "circle"
         },
         "mode": "markers",
         "name": "C",
         "text": "",
         "type": "scatter",
         "x": [
          -0.574006817058656,
          -0.7266588076382805,
          -0.3582653821205203,
          0.4108711973078174,
          -0.32049412434813634,
          0.04773441291937425,
          -0.3688892653969485,
          -1.9676847227099559,
          0.25795986598318144,
          0.537925471808953,
          -1.4962385157709366,
          0.5057892669442116,
          -0.29203313936093456,
          0.6328171202069542,
          -1.0522874962492237,
          0.7878930777939451,
          1.4309553115391773,
          0.1889102418784355,
          -0.013342842989387687,
          3.116070838792739,
          -0.41845360400421255,
          1.9858575207739673,
          0.6403115956548909,
          0.1907142736681472,
          -1.504935982311471,
          0.7416036365144881,
          0.1676053881271684,
          -0.24114082085754754,
          -0.8756962069315755,
          -0.525281131553952,
          0.16729678126738956,
          -1.4261549151524915,
          -0.8095904163469871,
          1.6988271573620615,
          1.7586594424748208,
          1.1173774377465564,
          -0.18402664254405693,
          -0.8725967786135869,
          0.9340462500605381,
          0.0436769694271896,
          0.2528261269315577,
          -0.48797455718435667,
          0.4185303541013756,
          -1.2115610819467757,
          -1.3873781031274601,
          -2.134924563226702,
          -0.36394732545907527,
          -1.8930906878602132,
          0.30419682598120823,
          -1.2397000596617789,
          1.5072415238223666,
          0.5076516583359088,
          -0.27253561558943046,
          0.9944063915869681,
          0.20503443372919314,
          0.11496705703028283,
          2.2451308551185214,
          -1.1894233003016832,
          -0.4109483665207544,
          0.4564664039644072,
          0.0594821775386694,
          2.025352796007877,
          0.13277668831354794,
          1.084947573356576,
          0.2886397552371678,
          -0.46229439145929685,
          0.07114397903457587,
          -0.36825571307179933,
          0.0580491159714769,
          -1.3175848043112401,
          1.6977785396994103,
          1.5238962245440153,
          0.6735606382188081,
          0.27852016317782674,
          -0.5125567623845447,
          0.8200273758606282,
          1.0211947809981352,
          -0.43694675512536835,
          2.4293952236159813,
          1.075463756336378,
          1.4049925716695653,
          1.116341730370617,
          -0.7067699756998078,
          0.516178571121736,
          0.27073191733361573,
          -1.030797684921648,
          -1.1109877307709126,
          0.4322628958451547,
          -0.9748824546183325,
          -2.0597490912023915,
          0.22368680313699774,
          -0.5803128715110616,
          -2.3645027848541047,
          0.29715916628752514,
          1.3546167563630593,
          -0.25223335075808057,
          0.1881641349093222,
          2.6987241405368656,
          -1.3327602486409937,
          -0.6169747814033371
         ],
         "xaxis": "x10",
         "y": [
          0.4186050978255918,
          0.9660299067572595,
          -0.4318143275388457,
          0.5065075567870579,
          1.4859078649464117,
          2.037283479738617,
          0.1718877247483784,
          0.47531459547715643,
          0.42823940845213554,
          -0.21305545190507444,
          0.28190489492175935,
          -0.173204935815877,
          0.39757462485732936,
          1.3856892836568033,
          0.9822240896658297,
          1.938516935317932,
          0.2152802615769902,
          -1.6198131628409123,
          0.5373273678187647,
          1.0074272134548774,
          -0.8947699356644431,
          -0.20862165688177156,
          -0.10861066684874332,
          0.4534828477073112,
          0.8168342651047499,
          -0.1687725979146592,
          -0.5712267200634286,
          -1.1119129875224343,
          -1.6453222605018447,
          0.9855003647827035,
          1.7181503768731639,
          -0.12801937833791582,
          -0.759239480823569,
          -0.15604891625994818,
          -0.7308177686807426,
          -0.7654926526655869,
          -1.4628634609740454,
          -0.11367567007750326,
          0.44960352548597154,
          -0.9706311730653845,
          1.2545677594079299,
          -2.271041367591699,
          1.104145953395362,
          0.6195613024301116,
          -0.5005945813435325,
          -0.9063252531488935,
          -0.043850682877327164,
          -0.8454320211462417,
          0.7108991077320378,
          -1.9204840919319068,
          -1.458754114994838,
          -0.20099174944696324,
          -0.22259167976453564,
          -0.35670458652429826,
          -1.2551092820330252,
          -1.7901862237899924,
          0.9448393991015264,
          -0.1572709025185171,
          -1.6644238182098812,
          0.3172932947843975,
          -0.23550701831544502,
          0.2657712421161027,
          -0.053078294913159324,
          -2.398334429775859,
          0.7519569965442786,
          -0.16681679209782702,
          0.3452512000546205,
          -0.2910305465854694,
          -0.33331624044084773,
          0.9055671431700401,
          -0.42227825539631764,
          -1.2871107075659745,
          0.02109412124539801,
          -0.9061252419518914,
          -0.30150226561932414,
          1.334079070716369,
          -0.9170838735545183,
          0.4103890346700743,
          -0.5089311284427338,
          0.21384246102570673,
          -0.25502806255931987,
          0.8148800270629623,
          0.042616665556271735,
          -0.1568235945172625,
          -0.04308239534943786,
          -0.28435314213034757,
          -1.0269739230542796,
          1.269247105161303,
          1.1439941254385915,
          0.39004917349610146,
          -0.282070716056746,
          -0.5068669529975444,
          1.0857202913987292,
          -0.9641678103539787,
          2.403598393563145,
          -1.1166542022763057,
          0.0546234593929146,
          -0.9843132869855903,
          1.3621554962299072,
          0.8257631253025725
         ],
         "yaxis": "y10"
        },
        {
         "histfunc": "count",
         "histnorm": "",
         "marker": {
          "color": "rgba(50, 171, 96, 1.0)",
          "line": {
           "color": "#4D5663",
           "width": 1.3
          }
         },
         "name": "C",
         "nbinsx": 10,
         "opacity": 0.8,
         "orientation": "v",
         "type": "histogram",
         "x": [
          0.4186050978255918,
          0.9660299067572595,
          -0.4318143275388457,
          0.5065075567870579,
          1.4859078649464117,
          2.037283479738617,
          0.1718877247483784,
          0.47531459547715643,
          0.42823940845213554,
          -0.21305545190507444,
          0.28190489492175935,
          -0.173204935815877,
          0.39757462485732936,
          1.3856892836568033,
          0.9822240896658297,
          1.938516935317932,
          0.2152802615769902,
          -1.6198131628409123,
          0.5373273678187647,
          1.0074272134548774,
          -0.8947699356644431,
          -0.20862165688177156,
          -0.10861066684874332,
          0.4534828477073112,
          0.8168342651047499,
          -0.1687725979146592,
          -0.5712267200634286,
          -1.1119129875224343,
          -1.6453222605018447,
          0.9855003647827035,
          1.7181503768731639,
          -0.12801937833791582,
          -0.759239480823569,
          -0.15604891625994818,
          -0.7308177686807426,
          -0.7654926526655869,
          -1.4628634609740454,
          -0.11367567007750326,
          0.44960352548597154,
          -0.9706311730653845,
          1.2545677594079299,
          -2.271041367591699,
          1.104145953395362,
          0.6195613024301116,
          -0.5005945813435325,
          -0.9063252531488935,
          -0.043850682877327164,
          -0.8454320211462417,
          0.7108991077320378,
          -1.9204840919319068,
          -1.458754114994838,
          -0.20099174944696324,
          -0.22259167976453564,
          -0.35670458652429826,
          -1.2551092820330252,
          -1.7901862237899924,
          0.9448393991015264,
          -0.1572709025185171,
          -1.6644238182098812,
          0.3172932947843975,
          -0.23550701831544502,
          0.2657712421161027,
          -0.053078294913159324,
          -2.398334429775859,
          0.7519569965442786,
          -0.16681679209782702,
          0.3452512000546205,
          -0.2910305465854694,
          -0.33331624044084773,
          0.9055671431700401,
          -0.42227825539631764,
          -1.2871107075659745,
          0.02109412124539801,
          -0.9061252419518914,
          -0.30150226561932414,
          1.334079070716369,
          -0.9170838735545183,
          0.4103890346700743,
          -0.5089311284427338,
          0.21384246102570673,
          -0.25502806255931987,
          0.8148800270629623,
          0.042616665556271735,
          -0.1568235945172625,
          -0.04308239534943786,
          -0.28435314213034757,
          -1.0269739230542796,
          1.269247105161303,
          1.1439941254385915,
          0.39004917349610146,
          -0.282070716056746,
          -0.5068669529975444,
          1.0857202913987292,
          -0.9641678103539787,
          2.403598393563145,
          -1.1166542022763057,
          0.0546234593929146,
          -0.9843132869855903,
          1.3621554962299072,
          0.8257631253025725
         ],
         "xaxis": "x11",
         "yaxis": "y11"
        },
        {
         "line": {
          "color": "rgba(128, 128, 128, 1.0)",
          "dash": "solid",
          "shape": "linear",
          "width": 1.3
         },
         "marker": {
          "size": 2,
          "symbol": "circle"
         },
         "mode": "markers",
         "name": "C",
         "text": "",
         "type": "scatter",
         "x": [
          -0.44737534191412004,
          1.109785149730803,
          -0.31221247860147944,
          0.276185368698082,
          -1.922113777992666,
          0.5494499941511534,
          0.7206549564338,
          -0.9516303805555207,
          -1.609155510582861,
          -0.40131901516196106,
          0.13751866377005473,
          -0.18217209654260266,
          0.7860287209432499,
          -0.3291145050836312,
          0.26243641711107646,
          -0.2878202787345519,
          -0.9128405545141554,
          -0.8312673902052876,
          -0.30275398434875406,
          0.8206462677630454,
          -0.4263469225679497,
          -1.120886690537222,
          -1.3285668861396507,
          1.3694310001895356,
          -0.8310020565902191,
          0.9175748272459755,
          -0.378438553528216,
          -0.27712991270684717,
          1.0411739903759445,
          -0.9520320074714249,
          1.9180612257286693,
          -0.2408163797498644,
          -0.7080841797917553,
          -0.12956203263442628,
          1.3475162159337835,
          0.627818631947682,
          -1.716800425038791,
          -0.2704552717952776,
          1.6795627933379111,
          -1.0832558636122478,
          0.7421375992266598,
          0.07262878557573275,
          -1.004922520323428,
          0.795976586815005,
          -0.3048903799119217,
          0.631689680578985,
          0.48543456020033926,
          -0.6346491295703771,
          1.5676354822561684,
          -0.6927541999080309,
          1.2117825885964526,
          -0.8588951660933406,
          0.04556918339778246,
          -0.2509167430446283,
          -2.410866061933873,
          -0.309138274041897,
          -0.7943130822699094,
          -1.0227254868016358,
          -0.21726475438931492,
          -0.8754548694426114,
          1.4769569272751402,
          -1.1198238404890728,
          -0.01166713487201717,
          -0.8704916124383638,
          -0.7452030374081205,
          1.0980138822393697,
          -1.2920538475380032,
          0.4820522082297061,
          0.5801132346756122,
          -1.172445079797513,
          0.10794550998379952,
          0.4549470143952793,
          1.0461950013526864,
          -1.5081622005182924,
          1.226275464583169,
          -1.5599668548836045,
          0.744306083529144,
          -0.08554417277120979,
          -1.3241444170103283,
          -1.6113510314540873,
          -1.873746753759231,
          -1.6944197671866323,
          0.6247438287291291,
          -0.1818162989389835,
          -0.45067126644989614,
          -1.1897704812162915,
          1.4373509460024958,
          -1.0109890424592494,
          -0.2246209543647973,
          -1.0054544415043833,
          -0.8917803201970335,
          0.11013000673782364,
          0.8460814387692865,
          -0.2960568336761955,
          1.6971034217877161,
          -0.6242430462122459,
          -0.9875452455298763,
          -1.1465984440862063,
          -0.6955021346674213,
          0.08545122043946983
         ],
         "xaxis": "x12",
         "y": [
          0.4186050978255918,
          0.9660299067572595,
          -0.4318143275388457,
          0.5065075567870579,
          1.4859078649464117,
          2.037283479738617,
          0.1718877247483784,
          0.47531459547715643,
          0.42823940845213554,
          -0.21305545190507444,
          0.28190489492175935,
          -0.173204935815877,
          0.39757462485732936,
          1.3856892836568033,
          0.9822240896658297,
          1.938516935317932,
          0.2152802615769902,
          -1.6198131628409123,
          0.5373273678187647,
          1.0074272134548774,
          -0.8947699356644431,
          -0.20862165688177156,
          -0.10861066684874332,
          0.4534828477073112,
          0.8168342651047499,
          -0.1687725979146592,
          -0.5712267200634286,
          -1.1119129875224343,
          -1.6453222605018447,
          0.9855003647827035,
          1.7181503768731639,
          -0.12801937833791582,
          -0.759239480823569,
          -0.15604891625994818,
          -0.7308177686807426,
          -0.7654926526655869,
          -1.4628634609740454,
          -0.11367567007750326,
          0.44960352548597154,
          -0.9706311730653845,
          1.2545677594079299,
          -2.271041367591699,
          1.104145953395362,
          0.6195613024301116,
          -0.5005945813435325,
          -0.9063252531488935,
          -0.043850682877327164,
          -0.8454320211462417,
          0.7108991077320378,
          -1.9204840919319068,
          -1.458754114994838,
          -0.20099174944696324,
          -0.22259167976453564,
          -0.35670458652429826,
          -1.2551092820330252,
          -1.7901862237899924,
          0.9448393991015264,
          -0.1572709025185171,
          -1.6644238182098812,
          0.3172932947843975,
          -0.23550701831544502,
          0.2657712421161027,
          -0.053078294913159324,
          -2.398334429775859,
          0.7519569965442786,
          -0.16681679209782702,
          0.3452512000546205,
          -0.2910305465854694,
          -0.33331624044084773,
          0.9055671431700401,
          -0.42227825539631764,
          -1.2871107075659745,
          0.02109412124539801,
          -0.9061252419518914,
          -0.30150226561932414,
          1.334079070716369,
          -0.9170838735545183,
          0.4103890346700743,
          -0.5089311284427338,
          0.21384246102570673,
          -0.25502806255931987,
          0.8148800270629623,
          0.042616665556271735,
          -0.1568235945172625,
          -0.04308239534943786,
          -0.28435314213034757,
          -1.0269739230542796,
          1.269247105161303,
          1.1439941254385915,
          0.39004917349610146,
          -0.282070716056746,
          -0.5068669529975444,
          1.0857202913987292,
          -0.9641678103539787,
          2.403598393563145,
          -1.1166542022763057,
          0.0546234593929146,
          -0.9843132869855903,
          1.3621554962299072,
          0.8257631253025725
         ],
         "yaxis": "y12"
        },
        {
         "line": {
          "color": "rgba(128, 128, 128, 1.0)",
          "dash": "solid",
          "shape": "linear",
          "width": 1.3
         },
         "marker": {
          "size": 2,
          "symbol": "circle"
         },
         "mode": "markers",
         "name": "D",
         "text": "",
         "type": "scatter",
         "x": [
          0.7184152132165522,
          -0.07374414338489427,
          1.3263250429191824,
          -0.6233809421936106,
          0.4742001274446034,
          -0.7437583934588065,
          -0.20562971175271394,
          -0.7912846928747075,
          -0.02702597232497973,
          0.6772742353991352,
          0.2488440802940327,
          -1.2274686431849393,
          1.254910728577048,
          1.6838038342892818,
          0.47921977443036406,
          -0.5022224516406076,
          -1.8745692527395976,
          1.9627993771005607,
          0.9560756328354928,
          -0.04359285288303292,
          0.6415439448675059,
          0.27977343160563767,
          -2.768644598762758,
          0.05983857939039157,
          1.3679925048742787,
          -0.10294575790551182,
          -0.2699661091353834,
          -1.2763005264901317,
          -0.605644482213025,
          0.4211936567382423,
          2.266041396863613,
          1.185381051419868,
          -1.0917455888736831,
          0.2027947575196413,
          -0.17045514705133089,
          0.8437438075614856,
          -0.23401836744499166,
          -0.5242333839647763,
          -0.31142091937150457,
          -0.9076703163927581,
          -1.837456312116648,
          -2.024823808987759,
          -1.8596832253495934,
          -0.35995344488929754,
          -0.1560997144255655,
          -0.24862232873532386,
          -0.5330745736291332,
          0.42241547345708086,
          0.6285806273053471,
          -0.5757328837855584,
          0.7320221470593188,
          -0.78920439441667,
          0.24399057919069703,
          1.403681725672624,
          -0.36497311179059233,
          -1.2035747602760776,
          -0.6799866071005245,
          -1.383687431161648,
          1.7204180525409456,
          0.7798432843313373,
          -1.746971525420941,
          -1.0509291587207734,
          0.21952730859203842,
          0.5153002455921952,
          0.662698390986974,
          -1.3706491187827667,
          -0.18692234413642134,
          0.20435033186983825,
          0.9577209134936103,
          -1.7580578520641799,
          1.934397248202235,
          -0.2419679983579328,
          -1.3560222792664143,
          -1.6380730147438929,
          0.542730758603566,
          -0.06911316253794753,
          0.9256442751713155,
          -1.2929221940251012,
          -0.922538122771601,
          1.0787188690915535,
          1.5772741845128695,
          0.8298802627756018,
          1.1312577460069513,
          0.5757750599947684,
          0.8140317333587312,
          -0.8666171022168118,
          -0.09076294738478492,
          0.7675522138256289,
          -0.1310600103165868,
          -0.700574932350856,
          0.4347324878153614,
          -1.8128643854407822,
          -0.28217756256423554,
          -1.1676894050183275,
          0.5138668046894407,
          -1.1695517800152062,
          1.0658983671799178,
          0.4561467894013599,
          -1.0421540922213297,
          -0.0011269428682303502
         ],
         "xaxis": "x13",
         "y": [
          -0.44737534191412004,
          1.109785149730803,
          -0.31221247860147944,
          0.276185368698082,
          -1.922113777992666,
          0.5494499941511534,
          0.7206549564338,
          -0.9516303805555207,
          -1.609155510582861,
          -0.40131901516196106,
          0.13751866377005473,
          -0.18217209654260266,
          0.7860287209432499,
          -0.3291145050836312,
          0.26243641711107646,
          -0.2878202787345519,
          -0.9128405545141554,
          -0.8312673902052876,
          -0.30275398434875406,
          0.8206462677630454,
          -0.4263469225679497,
          -1.120886690537222,
          -1.3285668861396507,
          1.3694310001895356,
          -0.8310020565902191,
          0.9175748272459755,
          -0.378438553528216,
          -0.27712991270684717,
          1.0411739903759445,
          -0.9520320074714249,
          1.9180612257286693,
          -0.2408163797498644,
          -0.7080841797917553,
          -0.12956203263442628,
          1.3475162159337835,
          0.627818631947682,
          -1.716800425038791,
          -0.2704552717952776,
          1.6795627933379111,
          -1.0832558636122478,
          0.7421375992266598,
          0.07262878557573275,
          -1.004922520323428,
          0.795976586815005,
          -0.3048903799119217,
          0.631689680578985,
          0.48543456020033926,
          -0.6346491295703771,
          1.5676354822561684,
          -0.6927541999080309,
          1.2117825885964526,
          -0.8588951660933406,
          0.04556918339778246,
          -0.2509167430446283,
          -2.410866061933873,
          -0.309138274041897,
          -0.7943130822699094,
          -1.0227254868016358,
          -0.21726475438931492,
          -0.8754548694426114,
          1.4769569272751402,
          -1.1198238404890728,
          -0.01166713487201717,
          -0.8704916124383638,
          -0.7452030374081205,
          1.0980138822393697,
          -1.2920538475380032,
          0.4820522082297061,
          0.5801132346756122,
          -1.172445079797513,
          0.10794550998379952,
          0.4549470143952793,
          1.0461950013526864,
          -1.5081622005182924,
          1.226275464583169,
          -1.5599668548836045,
          0.744306083529144,
          -0.08554417277120979,
          -1.3241444170103283,
          -1.6113510314540873,
          -1.873746753759231,
          -1.6944197671866323,
          0.6247438287291291,
          -0.1818162989389835,
          -0.45067126644989614,
          -1.1897704812162915,
          1.4373509460024958,
          -1.0109890424592494,
          -0.2246209543647973,
          -1.0054544415043833,
          -0.8917803201970335,
          0.11013000673782364,
          0.8460814387692865,
          -0.2960568336761955,
          1.6971034217877161,
          -0.6242430462122459,
          -0.9875452455298763,
          -1.1465984440862063,
          -0.6955021346674213,
          0.08545122043946983
         ],
         "yaxis": "y13"
        },
        {
         "line": {
          "color": "rgba(128, 128, 128, 1.0)",
          "dash": "solid",
          "shape": "linear",
          "width": 1.3
         },
         "marker": {
          "size": 2,
          "symbol": "circle"
         },
         "mode": "markers",
         "name": "D",
         "text": "",
         "type": "scatter",
         "x": [
          -0.574006817058656,
          -0.7266588076382805,
          -0.3582653821205203,
          0.4108711973078174,
          -0.32049412434813634,
          0.04773441291937425,
          -0.3688892653969485,
          -1.9676847227099559,
          0.25795986598318144,
          0.537925471808953,
          -1.4962385157709366,
          0.5057892669442116,
          -0.29203313936093456,
          0.6328171202069542,
          -1.0522874962492237,
          0.7878930777939451,
          1.4309553115391773,
          0.1889102418784355,
          -0.013342842989387687,
          3.116070838792739,
          -0.41845360400421255,
          1.9858575207739673,
          0.6403115956548909,
          0.1907142736681472,
          -1.504935982311471,
          0.7416036365144881,
          0.1676053881271684,
          -0.24114082085754754,
          -0.8756962069315755,
          -0.525281131553952,
          0.16729678126738956,
          -1.4261549151524915,
          -0.8095904163469871,
          1.6988271573620615,
          1.7586594424748208,
          1.1173774377465564,
          -0.18402664254405693,
          -0.8725967786135869,
          0.9340462500605381,
          0.0436769694271896,
          0.2528261269315577,
          -0.48797455718435667,
          0.4185303541013756,
          -1.2115610819467757,
          -1.3873781031274601,
          -2.134924563226702,
          -0.36394732545907527,
          -1.8930906878602132,
          0.30419682598120823,
          -1.2397000596617789,
          1.5072415238223666,
          0.5076516583359088,
          -0.27253561558943046,
          0.9944063915869681,
          0.20503443372919314,
          0.11496705703028283,
          2.2451308551185214,
          -1.1894233003016832,
          -0.4109483665207544,
          0.4564664039644072,
          0.0594821775386694,
          2.025352796007877,
          0.13277668831354794,
          1.084947573356576,
          0.2886397552371678,
          -0.46229439145929685,
          0.07114397903457587,
          -0.36825571307179933,
          0.0580491159714769,
          -1.3175848043112401,
          1.6977785396994103,
          1.5238962245440153,
          0.6735606382188081,
          0.27852016317782674,
          -0.5125567623845447,
          0.8200273758606282,
          1.0211947809981352,
          -0.43694675512536835,
          2.4293952236159813,
          1.075463756336378,
          1.4049925716695653,
          1.116341730370617,
          -0.7067699756998078,
          0.516178571121736,
          0.27073191733361573,
          -1.030797684921648,
          -1.1109877307709126,
          0.4322628958451547,
          -0.9748824546183325,
          -2.0597490912023915,
          0.22368680313699774,
          -0.5803128715110616,
          -2.3645027848541047,
          0.29715916628752514,
          1.3546167563630593,
          -0.25223335075808057,
          0.1881641349093222,
          2.6987241405368656,
          -1.3327602486409937,
          -0.6169747814033371
         ],
         "xaxis": "x14",
         "y": [
          -0.44737534191412004,
          1.109785149730803,
          -0.31221247860147944,
          0.276185368698082,
          -1.922113777992666,
          0.5494499941511534,
          0.7206549564338,
          -0.9516303805555207,
          -1.609155510582861,
          -0.40131901516196106,
          0.13751866377005473,
          -0.18217209654260266,
          0.7860287209432499,
          -0.3291145050836312,
          0.26243641711107646,
          -0.2878202787345519,
          -0.9128405545141554,
          -0.8312673902052876,
          -0.30275398434875406,
          0.8206462677630454,
          -0.4263469225679497,
          -1.120886690537222,
          -1.3285668861396507,
          1.3694310001895356,
          -0.8310020565902191,
          0.9175748272459755,
          -0.378438553528216,
          -0.27712991270684717,
          1.0411739903759445,
          -0.9520320074714249,
          1.9180612257286693,
          -0.2408163797498644,
          -0.7080841797917553,
          -0.12956203263442628,
          1.3475162159337835,
          0.627818631947682,
          -1.716800425038791,
          -0.2704552717952776,
          1.6795627933379111,
          -1.0832558636122478,
          0.7421375992266598,
          0.07262878557573275,
          -1.004922520323428,
          0.795976586815005,
          -0.3048903799119217,
          0.631689680578985,
          0.48543456020033926,
          -0.6346491295703771,
          1.5676354822561684,
          -0.6927541999080309,
          1.2117825885964526,
          -0.8588951660933406,
          0.04556918339778246,
          -0.2509167430446283,
          -2.410866061933873,
          -0.309138274041897,
          -0.7943130822699094,
          -1.0227254868016358,
          -0.21726475438931492,
          -0.8754548694426114,
          1.4769569272751402,
          -1.1198238404890728,
          -0.01166713487201717,
          -0.8704916124383638,
          -0.7452030374081205,
          1.0980138822393697,
          -1.2920538475380032,
          0.4820522082297061,
          0.5801132346756122,
          -1.172445079797513,
          0.10794550998379952,
          0.4549470143952793,
          1.0461950013526864,
          -1.5081622005182924,
          1.226275464583169,
          -1.5599668548836045,
          0.744306083529144,
          -0.08554417277120979,
          -1.3241444170103283,
          -1.6113510314540873,
          -1.873746753759231,
          -1.6944197671866323,
          0.6247438287291291,
          -0.1818162989389835,
          -0.45067126644989614,
          -1.1897704812162915,
          1.4373509460024958,
          -1.0109890424592494,
          -0.2246209543647973,
          -1.0054544415043833,
          -0.8917803201970335,
          0.11013000673782364,
          0.8460814387692865,
          -0.2960568336761955,
          1.6971034217877161,
          -0.6242430462122459,
          -0.9875452455298763,
          -1.1465984440862063,
          -0.6955021346674213,
          0.08545122043946983
         ],
         "yaxis": "y14"
        },
        {
         "line": {
          "color": "rgba(128, 128, 128, 1.0)",
          "dash": "solid",
          "shape": "linear",
          "width": 1.3
         },
         "marker": {
          "size": 2,
          "symbol": "circle"
         },
         "mode": "markers",
         "name": "D",
         "text": "",
         "type": "scatter",
         "x": [
          0.4186050978255918,
          0.9660299067572595,
          -0.4318143275388457,
          0.5065075567870579,
          1.4859078649464117,
          2.037283479738617,
          0.1718877247483784,
          0.47531459547715643,
          0.42823940845213554,
          -0.21305545190507444,
          0.28190489492175935,
          -0.173204935815877,
          0.39757462485732936,
          1.3856892836568033,
          0.9822240896658297,
          1.938516935317932,
          0.2152802615769902,
          -1.6198131628409123,
          0.5373273678187647,
          1.0074272134548774,
          -0.8947699356644431,
          -0.20862165688177156,
          -0.10861066684874332,
          0.4534828477073112,
          0.8168342651047499,
          -0.1687725979146592,
          -0.5712267200634286,
          -1.1119129875224343,
          -1.6453222605018447,
          0.9855003647827035,
          1.7181503768731639,
          -0.12801937833791582,
          -0.759239480823569,
          -0.15604891625994818,
          -0.7308177686807426,
          -0.7654926526655869,
          -1.4628634609740454,
          -0.11367567007750326,
          0.44960352548597154,
          -0.9706311730653845,
          1.2545677594079299,
          -2.271041367591699,
          1.104145953395362,
          0.6195613024301116,
          -0.5005945813435325,
          -0.9063252531488935,
          -0.043850682877327164,
          -0.8454320211462417,
          0.7108991077320378,
          -1.9204840919319068,
          -1.458754114994838,
          -0.20099174944696324,
          -0.22259167976453564,
          -0.35670458652429826,
          -1.2551092820330252,
          -1.7901862237899924,
          0.9448393991015264,
          -0.1572709025185171,
          -1.6644238182098812,
          0.3172932947843975,
          -0.23550701831544502,
          0.2657712421161027,
          -0.053078294913159324,
          -2.398334429775859,
          0.7519569965442786,
          -0.16681679209782702,
          0.3452512000546205,
          -0.2910305465854694,
          -0.33331624044084773,
          0.9055671431700401,
          -0.42227825539631764,
          -1.2871107075659745,
          0.02109412124539801,
          -0.9061252419518914,
          -0.30150226561932414,
          1.334079070716369,
          -0.9170838735545183,
          0.4103890346700743,
          -0.5089311284427338,
          0.21384246102570673,
          -0.25502806255931987,
          0.8148800270629623,
          0.042616665556271735,
          -0.1568235945172625,
          -0.04308239534943786,
          -0.28435314213034757,
          -1.0269739230542796,
          1.269247105161303,
          1.1439941254385915,
          0.39004917349610146,
          -0.282070716056746,
          -0.5068669529975444,
          1.0857202913987292,
          -0.9641678103539787,
          2.403598393563145,
          -1.1166542022763057,
          0.0546234593929146,
          -0.9843132869855903,
          1.3621554962299072,
          0.8257631253025725
         ],
         "xaxis": "x15",
         "y": [
          -0.44737534191412004,
          1.109785149730803,
          -0.31221247860147944,
          0.276185368698082,
          -1.922113777992666,
          0.5494499941511534,
          0.7206549564338,
          -0.9516303805555207,
          -1.609155510582861,
          -0.40131901516196106,
          0.13751866377005473,
          -0.18217209654260266,
          0.7860287209432499,
          -0.3291145050836312,
          0.26243641711107646,
          -0.2878202787345519,
          -0.9128405545141554,
          -0.8312673902052876,
          -0.30275398434875406,
          0.8206462677630454,
          -0.4263469225679497,
          -1.120886690537222,
          -1.3285668861396507,
          1.3694310001895356,
          -0.8310020565902191,
          0.9175748272459755,
          -0.378438553528216,
          -0.27712991270684717,
          1.0411739903759445,
          -0.9520320074714249,
          1.9180612257286693,
          -0.2408163797498644,
          -0.7080841797917553,
          -0.12956203263442628,
          1.3475162159337835,
          0.627818631947682,
          -1.716800425038791,
          -0.2704552717952776,
          1.6795627933379111,
          -1.0832558636122478,
          0.7421375992266598,
          0.07262878557573275,
          -1.004922520323428,
          0.795976586815005,
          -0.3048903799119217,
          0.631689680578985,
          0.48543456020033926,
          -0.6346491295703771,
          1.5676354822561684,
          -0.6927541999080309,
          1.2117825885964526,
          -0.8588951660933406,
          0.04556918339778246,
          -0.2509167430446283,
          -2.410866061933873,
          -0.309138274041897,
          -0.7943130822699094,
          -1.0227254868016358,
          -0.21726475438931492,
          -0.8754548694426114,
          1.4769569272751402,
          -1.1198238404890728,
          -0.01166713487201717,
          -0.8704916124383638,
          -0.7452030374081205,
          1.0980138822393697,
          -1.2920538475380032,
          0.4820522082297061,
          0.5801132346756122,
          -1.172445079797513,
          0.10794550998379952,
          0.4549470143952793,
          1.0461950013526864,
          -1.5081622005182924,
          1.226275464583169,
          -1.5599668548836045,
          0.744306083529144,
          -0.08554417277120979,
          -1.3241444170103283,
          -1.6113510314540873,
          -1.873746753759231,
          -1.6944197671866323,
          0.6247438287291291,
          -0.1818162989389835,
          -0.45067126644989614,
          -1.1897704812162915,
          1.4373509460024958,
          -1.0109890424592494,
          -0.2246209543647973,
          -1.0054544415043833,
          -0.8917803201970335,
          0.11013000673782364,
          0.8460814387692865,
          -0.2960568336761955,
          1.6971034217877161,
          -0.6242430462122459,
          -0.9875452455298763,
          -1.1465984440862063,
          -0.6955021346674213,
          0.08545122043946983
         ],
         "yaxis": "y15"
        },
        {
         "histfunc": "count",
         "histnorm": "",
         "marker": {
          "color": "rgba(128, 0, 128, 1.0)",
          "line": {
           "color": "#4D5663",
           "width": 1.3
          }
         },
         "name": "D",
         "nbinsx": 10,
         "opacity": 0.8,
         "orientation": "v",
         "type": "histogram",
         "x": [
          -0.44737534191412004,
          1.109785149730803,
          -0.31221247860147944,
          0.276185368698082,
          -1.922113777992666,
          0.5494499941511534,
          0.7206549564338,
          -0.9516303805555207,
          -1.609155510582861,
          -0.40131901516196106,
          0.13751866377005473,
          -0.18217209654260266,
          0.7860287209432499,
          -0.3291145050836312,
          0.26243641711107646,
          -0.2878202787345519,
          -0.9128405545141554,
          -0.8312673902052876,
          -0.30275398434875406,
          0.8206462677630454,
          -0.4263469225679497,
          -1.120886690537222,
          -1.3285668861396507,
          1.3694310001895356,
          -0.8310020565902191,
          0.9175748272459755,
          -0.378438553528216,
          -0.27712991270684717,
          1.0411739903759445,
          -0.9520320074714249,
          1.9180612257286693,
          -0.2408163797498644,
          -0.7080841797917553,
          -0.12956203263442628,
          1.3475162159337835,
          0.627818631947682,
          -1.716800425038791,
          -0.2704552717952776,
          1.6795627933379111,
          -1.0832558636122478,
          0.7421375992266598,
          0.07262878557573275,
          -1.004922520323428,
          0.795976586815005,
          -0.3048903799119217,
          0.631689680578985,
          0.48543456020033926,
          -0.6346491295703771,
          1.5676354822561684,
          -0.6927541999080309,
          1.2117825885964526,
          -0.8588951660933406,
          0.04556918339778246,
          -0.2509167430446283,
          -2.410866061933873,
          -0.309138274041897,
          -0.7943130822699094,
          -1.0227254868016358,
          -0.21726475438931492,
          -0.8754548694426114,
          1.4769569272751402,
          -1.1198238404890728,
          -0.01166713487201717,
          -0.8704916124383638,
          -0.7452030374081205,
          1.0980138822393697,
          -1.2920538475380032,
          0.4820522082297061,
          0.5801132346756122,
          -1.172445079797513,
          0.10794550998379952,
          0.4549470143952793,
          1.0461950013526864,
          -1.5081622005182924,
          1.226275464583169,
          -1.5599668548836045,
          0.744306083529144,
          -0.08554417277120979,
          -1.3241444170103283,
          -1.6113510314540873,
          -1.873746753759231,
          -1.6944197671866323,
          0.6247438287291291,
          -0.1818162989389835,
          -0.45067126644989614,
          -1.1897704812162915,
          1.4373509460024958,
          -1.0109890424592494,
          -0.2246209543647973,
          -1.0054544415043833,
          -0.8917803201970335,
          0.11013000673782364,
          0.8460814387692865,
          -0.2960568336761955,
          1.6971034217877161,
          -0.6242430462122459,
          -0.9875452455298763,
          -1.1465984440862063,
          -0.6955021346674213,
          0.08545122043946983
         ],
         "xaxis": "x16",
         "yaxis": "y16"
        }
       ],
       "layout": {
        "bargap": 0.02,
        "legend": {
         "bgcolor": "#F5F6F9",
         "font": {
          "color": "#4D5663"
         }
        },
        "paper_bgcolor": "#F5F6F9",
        "plot_bgcolor": "#F5F6F9",
        "showlegend": false,
        "template": {
         "data": {
          "bar": [
           {
            "error_x": {
             "color": "#2a3f5f"
            },
            "error_y": {
             "color": "#2a3f5f"
            },
            "marker": {
             "line": {
              "color": "#E5ECF6",
              "width": 0.5
             }
            },
            "type": "bar"
           }
          ],
          "barpolar": [
           {
            "marker": {
             "line": {
              "color": "#E5ECF6",
              "width": 0.5
             }
            },
            "type": "barpolar"
           }
          ],
          "carpet": [
           {
            "aaxis": {
             "endlinecolor": "#2a3f5f",
             "gridcolor": "white",
             "linecolor": "white",
             "minorgridcolor": "white",
             "startlinecolor": "#2a3f5f"
            },
            "baxis": {
             "endlinecolor": "#2a3f5f",
             "gridcolor": "white",
             "linecolor": "white",
             "minorgridcolor": "white",
             "startlinecolor": "#2a3f5f"
            },
            "type": "carpet"
           }
          ],
          "choropleth": [
           {
            "colorbar": {
             "outlinewidth": 0,
             "ticks": ""
            },
            "type": "choropleth"
           }
          ],
          "contour": [
           {
            "colorbar": {
             "outlinewidth": 0,
             "ticks": ""
            },
            "colorscale": [
             [
              0,
              "#0d0887"
             ],
             [
              0.1111111111111111,
              "#46039f"
             ],
             [
              0.2222222222222222,
              "#7201a8"
             ],
             [
              0.3333333333333333,
              "#9c179e"
             ],
             [
              0.4444444444444444,
              "#bd3786"
             ],
             [
              0.5555555555555556,
              "#d8576b"
             ],
             [
              0.6666666666666666,
              "#ed7953"
             ],
             [
              0.7777777777777778,
              "#fb9f3a"
             ],
             [
              0.8888888888888888,
              "#fdca26"
             ],
             [
              1,
              "#f0f921"
             ]
            ],
            "type": "contour"
           }
          ],
          "contourcarpet": [
           {
            "colorbar": {
             "outlinewidth": 0,
             "ticks": ""
            },
            "type": "contourcarpet"
           }
          ],
          "heatmap": [
           {
            "colorbar": {
             "outlinewidth": 0,
             "ticks": ""
            },
            "colorscale": [
             [
              0,
              "#0d0887"
             ],
             [
              0.1111111111111111,
              "#46039f"
             ],
             [
              0.2222222222222222,
              "#7201a8"
             ],
             [
              0.3333333333333333,
              "#9c179e"
             ],
             [
              0.4444444444444444,
              "#bd3786"
             ],
             [
              0.5555555555555556,
              "#d8576b"
             ],
             [
              0.6666666666666666,
              "#ed7953"
             ],
             [
              0.7777777777777778,
              "#fb9f3a"
             ],
             [
              0.8888888888888888,
              "#fdca26"
             ],
             [
              1,
              "#f0f921"
             ]
            ],
            "type": "heatmap"
           }
          ],
          "heatmapgl": [
           {
            "colorbar": {
             "outlinewidth": 0,
             "ticks": ""
            },
            "colorscale": [
             [
              0,
              "#0d0887"
             ],
             [
              0.1111111111111111,
              "#46039f"
             ],
             [
              0.2222222222222222,
              "#7201a8"
             ],
             [
              0.3333333333333333,
              "#9c179e"
             ],
             [
              0.4444444444444444,
              "#bd3786"
             ],
             [
              0.5555555555555556,
              "#d8576b"
             ],
             [
              0.6666666666666666,
              "#ed7953"
             ],
             [
              0.7777777777777778,
              "#fb9f3a"
             ],
             [
              0.8888888888888888,
              "#fdca26"
             ],
             [
              1,
              "#f0f921"
             ]
            ],
            "type": "heatmapgl"
           }
          ],
          "histogram": [
           {
            "marker": {
             "colorbar": {
              "outlinewidth": 0,
              "ticks": ""
             }
            },
            "type": "histogram"
           }
          ],
          "histogram2d": [
           {
            "colorbar": {
             "outlinewidth": 0,
             "ticks": ""
            },
            "colorscale": [
             [
              0,
              "#0d0887"
             ],
             [
              0.1111111111111111,
              "#46039f"
             ],
             [
              0.2222222222222222,
              "#7201a8"
             ],
             [
              0.3333333333333333,
              "#9c179e"
             ],
             [
              0.4444444444444444,
              "#bd3786"
             ],
             [
              0.5555555555555556,
              "#d8576b"
             ],
             [
              0.6666666666666666,
              "#ed7953"
             ],
             [
              0.7777777777777778,
              "#fb9f3a"
             ],
             [
              0.8888888888888888,
              "#fdca26"
             ],
             [
              1,
              "#f0f921"
             ]
            ],
            "type": "histogram2d"
           }
          ],
          "histogram2dcontour": [
           {
            "colorbar": {
             "outlinewidth": 0,
             "ticks": ""
            },
            "colorscale": [
             [
              0,
              "#0d0887"
             ],
             [
              0.1111111111111111,
              "#46039f"
             ],
             [
              0.2222222222222222,
              "#7201a8"
             ],
             [
              0.3333333333333333,
              "#9c179e"
             ],
             [
              0.4444444444444444,
              "#bd3786"
             ],
             [
              0.5555555555555556,
              "#d8576b"
             ],
             [
              0.6666666666666666,
              "#ed7953"
             ],
             [
              0.7777777777777778,
              "#fb9f3a"
             ],
             [
              0.8888888888888888,
              "#fdca26"
             ],
             [
              1,
              "#f0f921"
             ]
            ],
            "type": "histogram2dcontour"
           }
          ],
          "mesh3d": [
           {
            "colorbar": {
             "outlinewidth": 0,
             "ticks": ""
            },
            "type": "mesh3d"
           }
          ],
          "parcoords": [
           {
            "line": {
             "colorbar": {
              "outlinewidth": 0,
              "ticks": ""
             }
            },
            "type": "parcoords"
           }
          ],
          "pie": [
           {
            "automargin": true,
            "type": "pie"
           }
          ],
          "scatter": [
           {
            "marker": {
             "colorbar": {
              "outlinewidth": 0,
              "ticks": ""
             }
            },
            "type": "scatter"
           }
          ],
          "scatter3d": [
           {
            "line": {
             "colorbar": {
              "outlinewidth": 0,
              "ticks": ""
             }
            },
            "marker": {
             "colorbar": {
              "outlinewidth": 0,
              "ticks": ""
             }
            },
            "type": "scatter3d"
           }
          ],
          "scattercarpet": [
           {
            "marker": {
             "colorbar": {
              "outlinewidth": 0,
              "ticks": ""
             }
            },
            "type": "scattercarpet"
           }
          ],
          "scattergeo": [
           {
            "marker": {
             "colorbar": {
              "outlinewidth": 0,
              "ticks": ""
             }
            },
            "type": "scattergeo"
           }
          ],
          "scattergl": [
           {
            "marker": {
             "colorbar": {
              "outlinewidth": 0,
              "ticks": ""
             }
            },
            "type": "scattergl"
           }
          ],
          "scattermapbox": [
           {
            "marker": {
             "colorbar": {
              "outlinewidth": 0,
              "ticks": ""
             }
            },
            "type": "scattermapbox"
           }
          ],
          "scatterpolar": [
           {
            "marker": {
             "colorbar": {
              "outlinewidth": 0,
              "ticks": ""
             }
            },
            "type": "scatterpolar"
           }
          ],
          "scatterpolargl": [
           {
            "marker": {
             "colorbar": {
              "outlinewidth": 0,
              "ticks": ""
             }
            },
            "type": "scatterpolargl"
           }
          ],
          "scatterternary": [
           {
            "marker": {
             "colorbar": {
              "outlinewidth": 0,
              "ticks": ""
             }
            },
            "type": "scatterternary"
           }
          ],
          "surface": [
           {
            "colorbar": {
             "outlinewidth": 0,
             "ticks": ""
            },
            "colorscale": [
             [
              0,
              "#0d0887"
             ],
             [
              0.1111111111111111,
              "#46039f"
             ],
             [
              0.2222222222222222,
              "#7201a8"
             ],
             [
              0.3333333333333333,
              "#9c179e"
             ],
             [
              0.4444444444444444,
              "#bd3786"
             ],
             [
              0.5555555555555556,
              "#d8576b"
             ],
             [
              0.6666666666666666,
              "#ed7953"
             ],
             [
              0.7777777777777778,
              "#fb9f3a"
             ],
             [
              0.8888888888888888,
              "#fdca26"
             ],
             [
              1,
              "#f0f921"
             ]
            ],
            "type": "surface"
           }
          ],
          "table": [
           {
            "cells": {
             "fill": {
              "color": "#EBF0F8"
             },
             "line": {
              "color": "white"
             }
            },
            "header": {
             "fill": {
              "color": "#C8D4E3"
             },
             "line": {
              "color": "white"
             }
            },
            "type": "table"
           }
          ]
         },
         "layout": {
          "annotationdefaults": {
           "arrowcolor": "#2a3f5f",
           "arrowhead": 0,
           "arrowwidth": 1
          },
          "coloraxis": {
           "colorbar": {
            "outlinewidth": 0,
            "ticks": ""
           }
          },
          "colorscale": {
           "diverging": [
            [
             0,
             "#8e0152"
            ],
            [
             0.1,
             "#c51b7d"
            ],
            [
             0.2,
             "#de77ae"
            ],
            [
             0.3,
             "#f1b6da"
            ],
            [
             0.4,
             "#fde0ef"
            ],
            [
             0.5,
             "#f7f7f7"
            ],
            [
             0.6,
             "#e6f5d0"
            ],
            [
             0.7,
             "#b8e186"
            ],
            [
             0.8,
             "#7fbc41"
            ],
            [
             0.9,
             "#4d9221"
            ],
            [
             1,
             "#276419"
            ]
           ],
           "sequential": [
            [
             0,
             "#0d0887"
            ],
            [
             0.1111111111111111,
             "#46039f"
            ],
            [
             0.2222222222222222,
             "#7201a8"
            ],
            [
             0.3333333333333333,
             "#9c179e"
            ],
            [
             0.4444444444444444,
             "#bd3786"
            ],
            [
             0.5555555555555556,
             "#d8576b"
            ],
            [
             0.6666666666666666,
             "#ed7953"
            ],
            [
             0.7777777777777778,
             "#fb9f3a"
            ],
            [
             0.8888888888888888,
             "#fdca26"
            ],
            [
             1,
             "#f0f921"
            ]
           ],
           "sequentialminus": [
            [
             0,
             "#0d0887"
            ],
            [
             0.1111111111111111,
             "#46039f"
            ],
            [
             0.2222222222222222,
             "#7201a8"
            ],
            [
             0.3333333333333333,
             "#9c179e"
            ],
            [
             0.4444444444444444,
             "#bd3786"
            ],
            [
             0.5555555555555556,
             "#d8576b"
            ],
            [
             0.6666666666666666,
             "#ed7953"
            ],
            [
             0.7777777777777778,
             "#fb9f3a"
            ],
            [
             0.8888888888888888,
             "#fdca26"
            ],
            [
             1,
             "#f0f921"
            ]
           ]
          },
          "colorway": [
           "#636efa",
           "#EF553B",
           "#00cc96",
           "#ab63fa",
           "#FFA15A",
           "#19d3f3",
           "#FF6692",
           "#B6E880",
           "#FF97FF",
           "#FECB52"
          ],
          "font": {
           "color": "#2a3f5f"
          },
          "geo": {
           "bgcolor": "white",
           "lakecolor": "white",
           "landcolor": "#E5ECF6",
           "showlakes": true,
           "showland": true,
           "subunitcolor": "white"
          },
          "hoverlabel": {
           "align": "left"
          },
          "hovermode": "closest",
          "mapbox": {
           "style": "light"
          },
          "paper_bgcolor": "white",
          "plot_bgcolor": "#E5ECF6",
          "polar": {
           "angularaxis": {
            "gridcolor": "white",
            "linecolor": "white",
            "ticks": ""
           },
           "bgcolor": "#E5ECF6",
           "radialaxis": {
            "gridcolor": "white",
            "linecolor": "white",
            "ticks": ""
           }
          },
          "scene": {
           "xaxis": {
            "backgroundcolor": "#E5ECF6",
            "gridcolor": "white",
            "gridwidth": 2,
            "linecolor": "white",
            "showbackground": true,
            "ticks": "",
            "zerolinecolor": "white"
           },
           "yaxis": {
            "backgroundcolor": "#E5ECF6",
            "gridcolor": "white",
            "gridwidth": 2,
            "linecolor": "white",
            "showbackground": true,
            "ticks": "",
            "zerolinecolor": "white"
           },
           "zaxis": {
            "backgroundcolor": "#E5ECF6",
            "gridcolor": "white",
            "gridwidth": 2,
            "linecolor": "white",
            "showbackground": true,
            "ticks": "",
            "zerolinecolor": "white"
           }
          },
          "shapedefaults": {
           "line": {
            "color": "#2a3f5f"
           }
          },
          "ternary": {
           "aaxis": {
            "gridcolor": "white",
            "linecolor": "white",
            "ticks": ""
           },
           "baxis": {
            "gridcolor": "white",
            "linecolor": "white",
            "ticks": ""
           },
           "bgcolor": "#E5ECF6",
           "caxis": {
            "gridcolor": "white",
            "linecolor": "white",
            "ticks": ""
           }
          },
          "title": {
           "x": 0.05
          },
          "xaxis": {
           "automargin": true,
           "gridcolor": "white",
           "linecolor": "white",
           "ticks": "",
           "title": {
            "standoff": 15
           },
           "zerolinecolor": "white",
           "zerolinewidth": 2
          },
          "yaxis": {
           "automargin": true,
           "gridcolor": "white",
           "linecolor": "white",
           "ticks": "",
           "title": {
            "standoff": 15
           },
           "zerolinecolor": "white",
           "zerolinewidth": 2
          }
         }
        },
        "title": {
         "font": {
          "color": "#4D5663"
         }
        },
        "xaxis": {
         "anchor": "y",
         "domain": [
          0,
          0.2125
         ],
         "gridcolor": "#E1E5ED",
         "showgrid": false,
         "tickfont": {
          "color": "#4D5663"
         },
         "title": {
          "font": {
           "color": "#4D5663"
          },
          "text": ""
         },
         "zerolinecolor": "#E1E5ED"
        },
        "xaxis10": {
         "anchor": "y10",
         "domain": [
          0.2625,
          0.475
         ],
         "gridcolor": "#E1E5ED",
         "showgrid": false,
         "tickfont": {
          "color": "#4D5663"
         },
         "title": {
          "font": {
           "color": "#4D5663"
          },
          "text": ""
         },
         "zerolinecolor": "#E1E5ED"
        },
        "xaxis11": {
         "anchor": "y11",
         "domain": [
          0.525,
          0.7375
         ],
         "gridcolor": "#E1E5ED",
         "showgrid": false,
         "tickfont": {
          "color": "#4D5663"
         },
         "title": {
          "font": {
           "color": "#4D5663"
          },
          "text": ""
         },
         "zerolinecolor": "#E1E5ED"
        },
        "xaxis12": {
         "anchor": "y12",
         "domain": [
          0.7875,
          1
         ],
         "gridcolor": "#E1E5ED",
         "showgrid": false,
         "tickfont": {
          "color": "#4D5663"
         },
         "title": {
          "font": {
           "color": "#4D5663"
          },
          "text": ""
         },
         "zerolinecolor": "#E1E5ED"
        },
        "xaxis13": {
         "anchor": "y13",
         "domain": [
          0,
          0.2125
         ],
         "gridcolor": "#E1E5ED",
         "showgrid": false,
         "tickfont": {
          "color": "#4D5663"
         },
         "title": {
          "font": {
           "color": "#4D5663"
          },
          "text": ""
         },
         "zerolinecolor": "#E1E5ED"
        },
        "xaxis14": {
         "anchor": "y14",
         "domain": [
          0.2625,
          0.475
         ],
         "gridcolor": "#E1E5ED",
         "showgrid": false,
         "tickfont": {
          "color": "#4D5663"
         },
         "title": {
          "font": {
           "color": "#4D5663"
          },
          "text": ""
         },
         "zerolinecolor": "#E1E5ED"
        },
        "xaxis15": {
         "anchor": "y15",
         "domain": [
          0.525,
          0.7375
         ],
         "gridcolor": "#E1E5ED",
         "showgrid": false,
         "tickfont": {
          "color": "#4D5663"
         },
         "title": {
          "font": {
           "color": "#4D5663"
          },
          "text": ""
         },
         "zerolinecolor": "#E1E5ED"
        },
        "xaxis16": {
         "anchor": "y16",
         "domain": [
          0.7875,
          1
         ],
         "gridcolor": "#E1E5ED",
         "showgrid": false,
         "tickfont": {
          "color": "#4D5663"
         },
         "title": {
          "font": {
           "color": "#4D5663"
          },
          "text": ""
         },
         "zerolinecolor": "#E1E5ED"
        },
        "xaxis2": {
         "anchor": "y2",
         "domain": [
          0.2625,
          0.475
         ],
         "gridcolor": "#E1E5ED",
         "showgrid": false,
         "tickfont": {
          "color": "#4D5663"
         },
         "title": {
          "font": {
           "color": "#4D5663"
          },
          "text": ""
         },
         "zerolinecolor": "#E1E5ED"
        },
        "xaxis3": {
         "anchor": "y3",
         "domain": [
          0.525,
          0.7375
         ],
         "gridcolor": "#E1E5ED",
         "showgrid": false,
         "tickfont": {
          "color": "#4D5663"
         },
         "title": {
          "font": {
           "color": "#4D5663"
          },
          "text": ""
         },
         "zerolinecolor": "#E1E5ED"
        },
        "xaxis4": {
         "anchor": "y4",
         "domain": [
          0.7875,
          1
         ],
         "gridcolor": "#E1E5ED",
         "showgrid": false,
         "tickfont": {
          "color": "#4D5663"
         },
         "title": {
          "font": {
           "color": "#4D5663"
          },
          "text": ""
         },
         "zerolinecolor": "#E1E5ED"
        },
        "xaxis5": {
         "anchor": "y5",
         "domain": [
          0,
          0.2125
         ],
         "gridcolor": "#E1E5ED",
         "showgrid": false,
         "tickfont": {
          "color": "#4D5663"
         },
         "title": {
          "font": {
           "color": "#4D5663"
          },
          "text": ""
         },
         "zerolinecolor": "#E1E5ED"
        },
        "xaxis6": {
         "anchor": "y6",
         "domain": [
          0.2625,
          0.475
         ],
         "gridcolor": "#E1E5ED",
         "showgrid": false,
         "tickfont": {
          "color": "#4D5663"
         },
         "title": {
          "font": {
           "color": "#4D5663"
          },
          "text": ""
         },
         "zerolinecolor": "#E1E5ED"
        },
        "xaxis7": {
         "anchor": "y7",
         "domain": [
          0.525,
          0.7375
         ],
         "gridcolor": "#E1E5ED",
         "showgrid": false,
         "tickfont": {
          "color": "#4D5663"
         },
         "title": {
          "font": {
           "color": "#4D5663"
          },
          "text": ""
         },
         "zerolinecolor": "#E1E5ED"
        },
        "xaxis8": {
         "anchor": "y8",
         "domain": [
          0.7875,
          1
         ],
         "gridcolor": "#E1E5ED",
         "showgrid": false,
         "tickfont": {
          "color": "#4D5663"
         },
         "title": {
          "font": {
           "color": "#4D5663"
          },
          "text": ""
         },
         "zerolinecolor": "#E1E5ED"
        },
        "xaxis9": {
         "anchor": "y9",
         "domain": [
          0,
          0.2125
         ],
         "gridcolor": "#E1E5ED",
         "showgrid": false,
         "tickfont": {
          "color": "#4D5663"
         },
         "title": {
          "font": {
           "color": "#4D5663"
          },
          "text": ""
         },
         "zerolinecolor": "#E1E5ED"
        },
        "yaxis": {
         "anchor": "x",
         "domain": [
          0.8025,
          1
         ],
         "gridcolor": "#E1E5ED",
         "showgrid": false,
         "tickfont": {
          "color": "#4D5663"
         },
         "title": {
          "font": {
           "color": "#4D5663"
          },
          "text": ""
         },
         "zerolinecolor": "#E1E5ED"
        },
        "yaxis10": {
         "anchor": "x10",
         "domain": [
          0.2675,
          0.465
         ],
         "gridcolor": "#E1E5ED",
         "showgrid": false,
         "tickfont": {
          "color": "#4D5663"
         },
         "title": {
          "font": {
           "color": "#4D5663"
          },
          "text": ""
         },
         "zerolinecolor": "#E1E5ED"
        },
        "yaxis11": {
         "anchor": "x11",
         "domain": [
          0.2675,
          0.465
         ],
         "gridcolor": "#E1E5ED",
         "showgrid": false,
         "tickfont": {
          "color": "#4D5663"
         },
         "title": {
          "font": {
           "color": "#4D5663"
          },
          "text": ""
         },
         "zerolinecolor": "#E1E5ED"
        },
        "yaxis12": {
         "anchor": "x12",
         "domain": [
          0.2675,
          0.465
         ],
         "gridcolor": "#E1E5ED",
         "showgrid": false,
         "tickfont": {
          "color": "#4D5663"
         },
         "title": {
          "font": {
           "color": "#4D5663"
          },
          "text": ""
         },
         "zerolinecolor": "#E1E5ED"
        },
        "yaxis13": {
         "anchor": "x13",
         "domain": [
          0,
          0.1975
         ],
         "gridcolor": "#E1E5ED",
         "showgrid": false,
         "tickfont": {
          "color": "#4D5663"
         },
         "title": {
          "font": {
           "color": "#4D5663"
          },
          "text": ""
         },
         "zerolinecolor": "#E1E5ED"
        },
        "yaxis14": {
         "anchor": "x14",
         "domain": [
          0,
          0.1975
         ],
         "gridcolor": "#E1E5ED",
         "showgrid": false,
         "tickfont": {
          "color": "#4D5663"
         },
         "title": {
          "font": {
           "color": "#4D5663"
          },
          "text": ""
         },
         "zerolinecolor": "#E1E5ED"
        },
        "yaxis15": {
         "anchor": "x15",
         "domain": [
          0,
          0.1975
         ],
         "gridcolor": "#E1E5ED",
         "showgrid": false,
         "tickfont": {
          "color": "#4D5663"
         },
         "title": {
          "font": {
           "color": "#4D5663"
          },
          "text": ""
         },
         "zerolinecolor": "#E1E5ED"
        },
        "yaxis16": {
         "anchor": "x16",
         "domain": [
          0,
          0.1975
         ],
         "gridcolor": "#E1E5ED",
         "showgrid": false,
         "tickfont": {
          "color": "#4D5663"
         },
         "title": {
          "font": {
           "color": "#4D5663"
          },
          "text": ""
         },
         "zerolinecolor": "#E1E5ED"
        },
        "yaxis2": {
         "anchor": "x2",
         "domain": [
          0.8025,
          1
         ],
         "gridcolor": "#E1E5ED",
         "showgrid": false,
         "tickfont": {
          "color": "#4D5663"
         },
         "title": {
          "font": {
           "color": "#4D5663"
          },
          "text": ""
         },
         "zerolinecolor": "#E1E5ED"
        },
        "yaxis3": {
         "anchor": "x3",
         "domain": [
          0.8025,
          1
         ],
         "gridcolor": "#E1E5ED",
         "showgrid": false,
         "tickfont": {
          "color": "#4D5663"
         },
         "title": {
          "font": {
           "color": "#4D5663"
          },
          "text": ""
         },
         "zerolinecolor": "#E1E5ED"
        },
        "yaxis4": {
         "anchor": "x4",
         "domain": [
          0.8025,
          1
         ],
         "gridcolor": "#E1E5ED",
         "showgrid": false,
         "tickfont": {
          "color": "#4D5663"
         },
         "title": {
          "font": {
           "color": "#4D5663"
          },
          "text": ""
         },
         "zerolinecolor": "#E1E5ED"
        },
        "yaxis5": {
         "anchor": "x5",
         "domain": [
          0.535,
          0.7325
         ],
         "gridcolor": "#E1E5ED",
         "showgrid": false,
         "tickfont": {
          "color": "#4D5663"
         },
         "title": {
          "font": {
           "color": "#4D5663"
          },
          "text": ""
         },
         "zerolinecolor": "#E1E5ED"
        },
        "yaxis6": {
         "anchor": "x6",
         "domain": [
          0.535,
          0.7325
         ],
         "gridcolor": "#E1E5ED",
         "showgrid": false,
         "tickfont": {
          "color": "#4D5663"
         },
         "title": {
          "font": {
           "color": "#4D5663"
          },
          "text": ""
         },
         "zerolinecolor": "#E1E5ED"
        },
        "yaxis7": {
         "anchor": "x7",
         "domain": [
          0.535,
          0.7325
         ],
         "gridcolor": "#E1E5ED",
         "showgrid": false,
         "tickfont": {
          "color": "#4D5663"
         },
         "title": {
          "font": {
           "color": "#4D5663"
          },
          "text": ""
         },
         "zerolinecolor": "#E1E5ED"
        },
        "yaxis8": {
         "anchor": "x8",
         "domain": [
          0.535,
          0.7325
         ],
         "gridcolor": "#E1E5ED",
         "showgrid": false,
         "tickfont": {
          "color": "#4D5663"
         },
         "title": {
          "font": {
           "color": "#4D5663"
          },
          "text": ""
         },
         "zerolinecolor": "#E1E5ED"
        },
        "yaxis9": {
         "anchor": "x9",
         "domain": [
          0.2675,
          0.465
         ],
         "gridcolor": "#E1E5ED",
         "showgrid": false,
         "tickfont": {
          "color": "#4D5663"
         },
         "title": {
          "font": {
           "color": "#4D5663"
          },
          "text": ""
         },
         "zerolinecolor": "#E1E5ED"
        }
       }
      },
      "text/html": [
       "<div>\n",
       "        \n",
       "        \n",
       "            <div id=\"b0cc39ff-ec7d-4289-a416-aecc2ec717fe\" class=\"plotly-graph-div\" style=\"height:525px; width:100%;\"></div>\n",
       "            <script type=\"text/javascript\">\n",
       "                require([\"plotly\"], function(Plotly) {\n",
       "                    window.PLOTLYENV=window.PLOTLYENV || {};\n",
       "                    window.PLOTLYENV.BASE_URL='https://plot.ly';\n",
       "                    \n",
       "                if (document.getElementById(\"b0cc39ff-ec7d-4289-a416-aecc2ec717fe\")) {\n",
       "                    Plotly.newPlot(\n",
       "                        'b0cc39ff-ec7d-4289-a416-aecc2ec717fe',\n",
       "                        [{\"histfunc\": \"count\", \"histnorm\": \"\", \"marker\": {\"color\": \"rgba(255, 153, 51, 1.0)\", \"line\": {\"color\": \"#4D5663\", \"width\": 1.3}}, \"name\": \"A\", \"nbinsx\": 10, \"opacity\": 0.8, \"orientation\": \"v\", \"type\": \"histogram\", \"x\": [0.7184152132165522, -0.07374414338489427, 1.3263250429191824, -0.6233809421936106, 0.4742001274446034, -0.7437583934588065, -0.20562971175271394, -0.7912846928747075, -0.02702597232497973, 0.6772742353991352, 0.2488440802940327, -1.2274686431849393, 1.254910728577048, 1.6838038342892818, 0.47921977443036406, -0.5022224516406076, -1.8745692527395976, 1.9627993771005607, 0.9560756328354928, -0.04359285288303292, 0.6415439448675059, 0.27977343160563767, -2.768644598762758, 0.05983857939039157, 1.3679925048742787, -0.10294575790551182, -0.2699661091353834, -1.2763005264901317, -0.605644482213025, 0.4211936567382423, 2.266041396863613, 1.185381051419868, -1.0917455888736831, 0.2027947575196413, -0.17045514705133089, 0.8437438075614856, -0.23401836744499166, -0.5242333839647763, -0.31142091937150457, -0.9076703163927581, -1.837456312116648, -2.024823808987759, -1.8596832253495934, -0.35995344488929754, -0.1560997144255655, -0.24862232873532386, -0.5330745736291332, 0.42241547345708086, 0.6285806273053471, -0.5757328837855584, 0.7320221470593188, -0.78920439441667, 0.24399057919069703, 1.403681725672624, -0.36497311179059233, -1.2035747602760776, -0.6799866071005245, -1.383687431161648, 1.7204180525409456, 0.7798432843313373, -1.746971525420941, -1.0509291587207734, 0.21952730859203842, 0.5153002455921952, 0.662698390986974, -1.3706491187827667, -0.18692234413642134, 0.20435033186983825, 0.9577209134936103, -1.7580578520641799, 1.934397248202235, -0.2419679983579328, -1.3560222792664143, -1.6380730147438929, 0.542730758603566, -0.06911316253794753, 0.9256442751713155, -1.2929221940251012, -0.922538122771601, 1.0787188690915535, 1.5772741845128695, 0.8298802627756018, 1.1312577460069513, 0.5757750599947684, 0.8140317333587312, -0.8666171022168118, -0.09076294738478492, 0.7675522138256289, -0.1310600103165868, -0.700574932350856, 0.4347324878153614, -1.8128643854407822, -0.28217756256423554, -1.1676894050183275, 0.5138668046894407, -1.1695517800152062, 1.0658983671799178, 0.4561467894013599, -1.0421540922213297, -0.0011269428682303502], \"xaxis\": \"x\", \"yaxis\": \"y\"}, {\"line\": {\"color\": \"rgba(128, 128, 128, 1.0)\", \"dash\": \"solid\", \"shape\": \"linear\", \"width\": 1.3}, \"marker\": {\"size\": 2, \"symbol\": \"circle\"}, \"mode\": \"markers\", \"name\": \"A\", \"text\": \"\", \"type\": \"scatter\", \"x\": [-0.574006817058656, -0.7266588076382805, -0.3582653821205203, 0.4108711973078174, -0.32049412434813634, 0.04773441291937425, -0.3688892653969485, -1.9676847227099559, 0.25795986598318144, 0.537925471808953, -1.4962385157709366, 0.5057892669442116, -0.29203313936093456, 0.6328171202069542, -1.0522874962492237, 0.7878930777939451, 1.4309553115391773, 0.1889102418784355, -0.013342842989387687, 3.116070838792739, -0.41845360400421255, 1.9858575207739673, 0.6403115956548909, 0.1907142736681472, -1.504935982311471, 0.7416036365144881, 0.1676053881271684, -0.24114082085754754, -0.8756962069315755, -0.525281131553952, 0.16729678126738956, -1.4261549151524915, -0.8095904163469871, 1.6988271573620615, 1.7586594424748208, 1.1173774377465564, -0.18402664254405693, -0.8725967786135869, 0.9340462500605381, 0.0436769694271896, 0.2528261269315577, -0.48797455718435667, 0.4185303541013756, -1.2115610819467757, -1.3873781031274601, -2.134924563226702, -0.36394732545907527, -1.8930906878602132, 0.30419682598120823, -1.2397000596617789, 1.5072415238223666, 0.5076516583359088, -0.27253561558943046, 0.9944063915869681, 0.20503443372919314, 0.11496705703028283, 2.2451308551185214, -1.1894233003016832, -0.4109483665207544, 0.4564664039644072, 0.0594821775386694, 2.025352796007877, 0.13277668831354794, 1.084947573356576, 0.2886397552371678, -0.46229439145929685, 0.07114397903457587, -0.36825571307179933, 0.0580491159714769, -1.3175848043112401, 1.6977785396994103, 1.5238962245440153, 0.6735606382188081, 0.27852016317782674, -0.5125567623845447, 0.8200273758606282, 1.0211947809981352, -0.43694675512536835, 2.4293952236159813, 1.075463756336378, 1.4049925716695653, 1.116341730370617, -0.7067699756998078, 0.516178571121736, 0.27073191733361573, -1.030797684921648, -1.1109877307709126, 0.4322628958451547, -0.9748824546183325, -2.0597490912023915, 0.22368680313699774, -0.5803128715110616, -2.3645027848541047, 0.29715916628752514, 1.3546167563630593, -0.25223335075808057, 0.1881641349093222, 2.6987241405368656, -1.3327602486409937, -0.6169747814033371], \"xaxis\": \"x2\", \"y\": [0.7184152132165522, -0.07374414338489427, 1.3263250429191824, -0.6233809421936106, 0.4742001274446034, -0.7437583934588065, -0.20562971175271394, -0.7912846928747075, -0.02702597232497973, 0.6772742353991352, 0.2488440802940327, -1.2274686431849393, 1.254910728577048, 1.6838038342892818, 0.47921977443036406, -0.5022224516406076, -1.8745692527395976, 1.9627993771005607, 0.9560756328354928, -0.04359285288303292, 0.6415439448675059, 0.27977343160563767, -2.768644598762758, 0.05983857939039157, 1.3679925048742787, -0.10294575790551182, -0.2699661091353834, -1.2763005264901317, -0.605644482213025, 0.4211936567382423, 2.266041396863613, 1.185381051419868, -1.0917455888736831, 0.2027947575196413, -0.17045514705133089, 0.8437438075614856, -0.23401836744499166, -0.5242333839647763, -0.31142091937150457, -0.9076703163927581, -1.837456312116648, -2.024823808987759, -1.8596832253495934, -0.35995344488929754, -0.1560997144255655, -0.24862232873532386, -0.5330745736291332, 0.42241547345708086, 0.6285806273053471, -0.5757328837855584, 0.7320221470593188, -0.78920439441667, 0.24399057919069703, 1.403681725672624, -0.36497311179059233, -1.2035747602760776, -0.6799866071005245, -1.383687431161648, 1.7204180525409456, 0.7798432843313373, -1.746971525420941, -1.0509291587207734, 0.21952730859203842, 0.5153002455921952, 0.662698390986974, -1.3706491187827667, -0.18692234413642134, 0.20435033186983825, 0.9577209134936103, -1.7580578520641799, 1.934397248202235, -0.2419679983579328, -1.3560222792664143, -1.6380730147438929, 0.542730758603566, -0.06911316253794753, 0.9256442751713155, -1.2929221940251012, -0.922538122771601, 1.0787188690915535, 1.5772741845128695, 0.8298802627756018, 1.1312577460069513, 0.5757750599947684, 0.8140317333587312, -0.8666171022168118, -0.09076294738478492, 0.7675522138256289, -0.1310600103165868, -0.700574932350856, 0.4347324878153614, -1.8128643854407822, -0.28217756256423554, -1.1676894050183275, 0.5138668046894407, -1.1695517800152062, 1.0658983671799178, 0.4561467894013599, -1.0421540922213297, -0.0011269428682303502], \"yaxis\": \"y2\"}, {\"line\": {\"color\": \"rgba(128, 128, 128, 1.0)\", \"dash\": \"solid\", \"shape\": \"linear\", \"width\": 1.3}, \"marker\": {\"size\": 2, \"symbol\": \"circle\"}, \"mode\": \"markers\", \"name\": \"A\", \"text\": \"\", \"type\": \"scatter\", \"x\": [0.4186050978255918, 0.9660299067572595, -0.4318143275388457, 0.5065075567870579, 1.4859078649464117, 2.037283479738617, 0.1718877247483784, 0.47531459547715643, 0.42823940845213554, -0.21305545190507444, 0.28190489492175935, -0.173204935815877, 0.39757462485732936, 1.3856892836568033, 0.9822240896658297, 1.938516935317932, 0.2152802615769902, -1.6198131628409123, 0.5373273678187647, 1.0074272134548774, -0.8947699356644431, -0.20862165688177156, -0.10861066684874332, 0.4534828477073112, 0.8168342651047499, -0.1687725979146592, -0.5712267200634286, -1.1119129875224343, -1.6453222605018447, 0.9855003647827035, 1.7181503768731639, -0.12801937833791582, -0.759239480823569, -0.15604891625994818, -0.7308177686807426, -0.7654926526655869, -1.4628634609740454, -0.11367567007750326, 0.44960352548597154, -0.9706311730653845, 1.2545677594079299, -2.271041367591699, 1.104145953395362, 0.6195613024301116, -0.5005945813435325, -0.9063252531488935, -0.043850682877327164, -0.8454320211462417, 0.7108991077320378, -1.9204840919319068, -1.458754114994838, -0.20099174944696324, -0.22259167976453564, -0.35670458652429826, -1.2551092820330252, -1.7901862237899924, 0.9448393991015264, -0.1572709025185171, -1.6644238182098812, 0.3172932947843975, -0.23550701831544502, 0.2657712421161027, -0.053078294913159324, -2.398334429775859, 0.7519569965442786, -0.16681679209782702, 0.3452512000546205, -0.2910305465854694, -0.33331624044084773, 0.9055671431700401, -0.42227825539631764, -1.2871107075659745, 0.02109412124539801, -0.9061252419518914, -0.30150226561932414, 1.334079070716369, -0.9170838735545183, 0.4103890346700743, -0.5089311284427338, 0.21384246102570673, -0.25502806255931987, 0.8148800270629623, 0.042616665556271735, -0.1568235945172625, -0.04308239534943786, -0.28435314213034757, -1.0269739230542796, 1.269247105161303, 1.1439941254385915, 0.39004917349610146, -0.282070716056746, -0.5068669529975444, 1.0857202913987292, -0.9641678103539787, 2.403598393563145, -1.1166542022763057, 0.0546234593929146, -0.9843132869855903, 1.3621554962299072, 0.8257631253025725], \"xaxis\": \"x3\", \"y\": [0.7184152132165522, -0.07374414338489427, 1.3263250429191824, -0.6233809421936106, 0.4742001274446034, -0.7437583934588065, -0.20562971175271394, -0.7912846928747075, -0.02702597232497973, 0.6772742353991352, 0.2488440802940327, -1.2274686431849393, 1.254910728577048, 1.6838038342892818, 0.47921977443036406, -0.5022224516406076, -1.8745692527395976, 1.9627993771005607, 0.9560756328354928, -0.04359285288303292, 0.6415439448675059, 0.27977343160563767, -2.768644598762758, 0.05983857939039157, 1.3679925048742787, -0.10294575790551182, -0.2699661091353834, -1.2763005264901317, -0.605644482213025, 0.4211936567382423, 2.266041396863613, 1.185381051419868, -1.0917455888736831, 0.2027947575196413, -0.17045514705133089, 0.8437438075614856, -0.23401836744499166, -0.5242333839647763, -0.31142091937150457, -0.9076703163927581, -1.837456312116648, -2.024823808987759, -1.8596832253495934, -0.35995344488929754, -0.1560997144255655, -0.24862232873532386, -0.5330745736291332, 0.42241547345708086, 0.6285806273053471, -0.5757328837855584, 0.7320221470593188, -0.78920439441667, 0.24399057919069703, 1.403681725672624, -0.36497311179059233, -1.2035747602760776, -0.6799866071005245, -1.383687431161648, 1.7204180525409456, 0.7798432843313373, -1.746971525420941, -1.0509291587207734, 0.21952730859203842, 0.5153002455921952, 0.662698390986974, -1.3706491187827667, -0.18692234413642134, 0.20435033186983825, 0.9577209134936103, -1.7580578520641799, 1.934397248202235, -0.2419679983579328, -1.3560222792664143, -1.6380730147438929, 0.542730758603566, -0.06911316253794753, 0.9256442751713155, -1.2929221940251012, -0.922538122771601, 1.0787188690915535, 1.5772741845128695, 0.8298802627756018, 1.1312577460069513, 0.5757750599947684, 0.8140317333587312, -0.8666171022168118, -0.09076294738478492, 0.7675522138256289, -0.1310600103165868, -0.700574932350856, 0.4347324878153614, -1.8128643854407822, -0.28217756256423554, -1.1676894050183275, 0.5138668046894407, -1.1695517800152062, 1.0658983671799178, 0.4561467894013599, -1.0421540922213297, -0.0011269428682303502], \"yaxis\": \"y3\"}, {\"line\": {\"color\": \"rgba(128, 128, 128, 1.0)\", \"dash\": \"solid\", \"shape\": \"linear\", \"width\": 1.3}, \"marker\": {\"size\": 2, \"symbol\": \"circle\"}, \"mode\": \"markers\", \"name\": \"A\", \"text\": \"\", \"type\": \"scatter\", \"x\": [-0.44737534191412004, 1.109785149730803, -0.31221247860147944, 0.276185368698082, -1.922113777992666, 0.5494499941511534, 0.7206549564338, -0.9516303805555207, -1.609155510582861, -0.40131901516196106, 0.13751866377005473, -0.18217209654260266, 0.7860287209432499, -0.3291145050836312, 0.26243641711107646, -0.2878202787345519, -0.9128405545141554, -0.8312673902052876, -0.30275398434875406, 0.8206462677630454, -0.4263469225679497, -1.120886690537222, -1.3285668861396507, 1.3694310001895356, -0.8310020565902191, 0.9175748272459755, -0.378438553528216, -0.27712991270684717, 1.0411739903759445, -0.9520320074714249, 1.9180612257286693, -0.2408163797498644, -0.7080841797917553, -0.12956203263442628, 1.3475162159337835, 0.627818631947682, -1.716800425038791, -0.2704552717952776, 1.6795627933379111, -1.0832558636122478, 0.7421375992266598, 0.07262878557573275, -1.004922520323428, 0.795976586815005, -0.3048903799119217, 0.631689680578985, 0.48543456020033926, -0.6346491295703771, 1.5676354822561684, -0.6927541999080309, 1.2117825885964526, -0.8588951660933406, 0.04556918339778246, -0.2509167430446283, -2.410866061933873, -0.309138274041897, -0.7943130822699094, -1.0227254868016358, -0.21726475438931492, -0.8754548694426114, 1.4769569272751402, -1.1198238404890728, -0.01166713487201717, -0.8704916124383638, -0.7452030374081205, 1.0980138822393697, -1.2920538475380032, 0.4820522082297061, 0.5801132346756122, -1.172445079797513, 0.10794550998379952, 0.4549470143952793, 1.0461950013526864, -1.5081622005182924, 1.226275464583169, -1.5599668548836045, 0.744306083529144, -0.08554417277120979, -1.3241444170103283, -1.6113510314540873, -1.873746753759231, -1.6944197671866323, 0.6247438287291291, -0.1818162989389835, -0.45067126644989614, -1.1897704812162915, 1.4373509460024958, -1.0109890424592494, -0.2246209543647973, -1.0054544415043833, -0.8917803201970335, 0.11013000673782364, 0.8460814387692865, -0.2960568336761955, 1.6971034217877161, -0.6242430462122459, -0.9875452455298763, -1.1465984440862063, -0.6955021346674213, 0.08545122043946983], \"xaxis\": \"x4\", \"y\": [0.7184152132165522, -0.07374414338489427, 1.3263250429191824, -0.6233809421936106, 0.4742001274446034, -0.7437583934588065, -0.20562971175271394, -0.7912846928747075, -0.02702597232497973, 0.6772742353991352, 0.2488440802940327, -1.2274686431849393, 1.254910728577048, 1.6838038342892818, 0.47921977443036406, -0.5022224516406076, -1.8745692527395976, 1.9627993771005607, 0.9560756328354928, -0.04359285288303292, 0.6415439448675059, 0.27977343160563767, -2.768644598762758, 0.05983857939039157, 1.3679925048742787, -0.10294575790551182, -0.2699661091353834, -1.2763005264901317, -0.605644482213025, 0.4211936567382423, 2.266041396863613, 1.185381051419868, -1.0917455888736831, 0.2027947575196413, -0.17045514705133089, 0.8437438075614856, -0.23401836744499166, -0.5242333839647763, -0.31142091937150457, -0.9076703163927581, -1.837456312116648, -2.024823808987759, -1.8596832253495934, -0.35995344488929754, -0.1560997144255655, -0.24862232873532386, -0.5330745736291332, 0.42241547345708086, 0.6285806273053471, -0.5757328837855584, 0.7320221470593188, -0.78920439441667, 0.24399057919069703, 1.403681725672624, -0.36497311179059233, -1.2035747602760776, -0.6799866071005245, -1.383687431161648, 1.7204180525409456, 0.7798432843313373, -1.746971525420941, -1.0509291587207734, 0.21952730859203842, 0.5153002455921952, 0.662698390986974, -1.3706491187827667, -0.18692234413642134, 0.20435033186983825, 0.9577209134936103, -1.7580578520641799, 1.934397248202235, -0.2419679983579328, -1.3560222792664143, -1.6380730147438929, 0.542730758603566, -0.06911316253794753, 0.9256442751713155, -1.2929221940251012, -0.922538122771601, 1.0787188690915535, 1.5772741845128695, 0.8298802627756018, 1.1312577460069513, 0.5757750599947684, 0.8140317333587312, -0.8666171022168118, -0.09076294738478492, 0.7675522138256289, -0.1310600103165868, -0.700574932350856, 0.4347324878153614, -1.8128643854407822, -0.28217756256423554, -1.1676894050183275, 0.5138668046894407, -1.1695517800152062, 1.0658983671799178, 0.4561467894013599, -1.0421540922213297, -0.0011269428682303502], \"yaxis\": \"y4\"}, {\"line\": {\"color\": \"rgba(128, 128, 128, 1.0)\", \"dash\": \"solid\", \"shape\": \"linear\", \"width\": 1.3}, \"marker\": {\"size\": 2, \"symbol\": \"circle\"}, \"mode\": \"markers\", \"name\": \"B\", \"text\": \"\", \"type\": \"scatter\", \"x\": [0.7184152132165522, -0.07374414338489427, 1.3263250429191824, -0.6233809421936106, 0.4742001274446034, -0.7437583934588065, -0.20562971175271394, -0.7912846928747075, -0.02702597232497973, 0.6772742353991352, 0.2488440802940327, -1.2274686431849393, 1.254910728577048, 1.6838038342892818, 0.47921977443036406, -0.5022224516406076, -1.8745692527395976, 1.9627993771005607, 0.9560756328354928, -0.04359285288303292, 0.6415439448675059, 0.27977343160563767, -2.768644598762758, 0.05983857939039157, 1.3679925048742787, -0.10294575790551182, -0.2699661091353834, -1.2763005264901317, -0.605644482213025, 0.4211936567382423, 2.266041396863613, 1.185381051419868, -1.0917455888736831, 0.2027947575196413, -0.17045514705133089, 0.8437438075614856, -0.23401836744499166, -0.5242333839647763, -0.31142091937150457, -0.9076703163927581, -1.837456312116648, -2.024823808987759, -1.8596832253495934, -0.35995344488929754, -0.1560997144255655, -0.24862232873532386, -0.5330745736291332, 0.42241547345708086, 0.6285806273053471, -0.5757328837855584, 0.7320221470593188, -0.78920439441667, 0.24399057919069703, 1.403681725672624, -0.36497311179059233, -1.2035747602760776, -0.6799866071005245, -1.383687431161648, 1.7204180525409456, 0.7798432843313373, -1.746971525420941, -1.0509291587207734, 0.21952730859203842, 0.5153002455921952, 0.662698390986974, -1.3706491187827667, -0.18692234413642134, 0.20435033186983825, 0.9577209134936103, -1.7580578520641799, 1.934397248202235, -0.2419679983579328, -1.3560222792664143, -1.6380730147438929, 0.542730758603566, -0.06911316253794753, 0.9256442751713155, -1.2929221940251012, -0.922538122771601, 1.0787188690915535, 1.5772741845128695, 0.8298802627756018, 1.1312577460069513, 0.5757750599947684, 0.8140317333587312, -0.8666171022168118, -0.09076294738478492, 0.7675522138256289, -0.1310600103165868, -0.700574932350856, 0.4347324878153614, -1.8128643854407822, -0.28217756256423554, -1.1676894050183275, 0.5138668046894407, -1.1695517800152062, 1.0658983671799178, 0.4561467894013599, -1.0421540922213297, -0.0011269428682303502], \"xaxis\": \"x5\", \"y\": [-0.574006817058656, -0.7266588076382805, -0.3582653821205203, 0.4108711973078174, -0.32049412434813634, 0.04773441291937425, -0.3688892653969485, -1.9676847227099559, 0.25795986598318144, 0.537925471808953, -1.4962385157709366, 0.5057892669442116, -0.29203313936093456, 0.6328171202069542, -1.0522874962492237, 0.7878930777939451, 1.4309553115391773, 0.1889102418784355, -0.013342842989387687, 3.116070838792739, -0.41845360400421255, 1.9858575207739673, 0.6403115956548909, 0.1907142736681472, -1.504935982311471, 0.7416036365144881, 0.1676053881271684, -0.24114082085754754, -0.8756962069315755, -0.525281131553952, 0.16729678126738956, -1.4261549151524915, -0.8095904163469871, 1.6988271573620615, 1.7586594424748208, 1.1173774377465564, -0.18402664254405693, -0.8725967786135869, 0.9340462500605381, 0.0436769694271896, 0.2528261269315577, -0.48797455718435667, 0.4185303541013756, -1.2115610819467757, -1.3873781031274601, -2.134924563226702, -0.36394732545907527, -1.8930906878602132, 0.30419682598120823, -1.2397000596617789, 1.5072415238223666, 0.5076516583359088, -0.27253561558943046, 0.9944063915869681, 0.20503443372919314, 0.11496705703028283, 2.2451308551185214, -1.1894233003016832, -0.4109483665207544, 0.4564664039644072, 0.0594821775386694, 2.025352796007877, 0.13277668831354794, 1.084947573356576, 0.2886397552371678, -0.46229439145929685, 0.07114397903457587, -0.36825571307179933, 0.0580491159714769, -1.3175848043112401, 1.6977785396994103, 1.5238962245440153, 0.6735606382188081, 0.27852016317782674, -0.5125567623845447, 0.8200273758606282, 1.0211947809981352, -0.43694675512536835, 2.4293952236159813, 1.075463756336378, 1.4049925716695653, 1.116341730370617, -0.7067699756998078, 0.516178571121736, 0.27073191733361573, -1.030797684921648, -1.1109877307709126, 0.4322628958451547, -0.9748824546183325, -2.0597490912023915, 0.22368680313699774, -0.5803128715110616, -2.3645027848541047, 0.29715916628752514, 1.3546167563630593, -0.25223335075808057, 0.1881641349093222, 2.6987241405368656, -1.3327602486409937, -0.6169747814033371], \"yaxis\": \"y5\"}, {\"histfunc\": \"count\", \"histnorm\": \"\", \"marker\": {\"color\": \"rgba(55, 128, 191, 1.0)\", \"line\": {\"color\": \"#4D5663\", \"width\": 1.3}}, \"name\": \"B\", \"nbinsx\": 10, \"opacity\": 0.8, \"orientation\": \"v\", \"type\": \"histogram\", \"x\": [-0.574006817058656, -0.7266588076382805, -0.3582653821205203, 0.4108711973078174, -0.32049412434813634, 0.04773441291937425, -0.3688892653969485, -1.9676847227099559, 0.25795986598318144, 0.537925471808953, -1.4962385157709366, 0.5057892669442116, -0.29203313936093456, 0.6328171202069542, -1.0522874962492237, 0.7878930777939451, 1.4309553115391773, 0.1889102418784355, -0.013342842989387687, 3.116070838792739, -0.41845360400421255, 1.9858575207739673, 0.6403115956548909, 0.1907142736681472, -1.504935982311471, 0.7416036365144881, 0.1676053881271684, -0.24114082085754754, -0.8756962069315755, -0.525281131553952, 0.16729678126738956, -1.4261549151524915, -0.8095904163469871, 1.6988271573620615, 1.7586594424748208, 1.1173774377465564, -0.18402664254405693, -0.8725967786135869, 0.9340462500605381, 0.0436769694271896, 0.2528261269315577, -0.48797455718435667, 0.4185303541013756, -1.2115610819467757, -1.3873781031274601, -2.134924563226702, -0.36394732545907527, -1.8930906878602132, 0.30419682598120823, -1.2397000596617789, 1.5072415238223666, 0.5076516583359088, -0.27253561558943046, 0.9944063915869681, 0.20503443372919314, 0.11496705703028283, 2.2451308551185214, -1.1894233003016832, -0.4109483665207544, 0.4564664039644072, 0.0594821775386694, 2.025352796007877, 0.13277668831354794, 1.084947573356576, 0.2886397552371678, -0.46229439145929685, 0.07114397903457587, -0.36825571307179933, 0.0580491159714769, -1.3175848043112401, 1.6977785396994103, 1.5238962245440153, 0.6735606382188081, 0.27852016317782674, -0.5125567623845447, 0.8200273758606282, 1.0211947809981352, -0.43694675512536835, 2.4293952236159813, 1.075463756336378, 1.4049925716695653, 1.116341730370617, -0.7067699756998078, 0.516178571121736, 0.27073191733361573, -1.030797684921648, -1.1109877307709126, 0.4322628958451547, -0.9748824546183325, -2.0597490912023915, 0.22368680313699774, -0.5803128715110616, -2.3645027848541047, 0.29715916628752514, 1.3546167563630593, -0.25223335075808057, 0.1881641349093222, 2.6987241405368656, -1.3327602486409937, -0.6169747814033371], \"xaxis\": \"x6\", \"yaxis\": \"y6\"}, {\"line\": {\"color\": \"rgba(128, 128, 128, 1.0)\", \"dash\": \"solid\", \"shape\": \"linear\", \"width\": 1.3}, \"marker\": {\"size\": 2, \"symbol\": \"circle\"}, \"mode\": \"markers\", \"name\": \"B\", \"text\": \"\", \"type\": \"scatter\", \"x\": [0.4186050978255918, 0.9660299067572595, -0.4318143275388457, 0.5065075567870579, 1.4859078649464117, 2.037283479738617, 0.1718877247483784, 0.47531459547715643, 0.42823940845213554, -0.21305545190507444, 0.28190489492175935, -0.173204935815877, 0.39757462485732936, 1.3856892836568033, 0.9822240896658297, 1.938516935317932, 0.2152802615769902, -1.6198131628409123, 0.5373273678187647, 1.0074272134548774, -0.8947699356644431, -0.20862165688177156, -0.10861066684874332, 0.4534828477073112, 0.8168342651047499, -0.1687725979146592, -0.5712267200634286, -1.1119129875224343, -1.6453222605018447, 0.9855003647827035, 1.7181503768731639, -0.12801937833791582, -0.759239480823569, -0.15604891625994818, -0.7308177686807426, -0.7654926526655869, -1.4628634609740454, -0.11367567007750326, 0.44960352548597154, -0.9706311730653845, 1.2545677594079299, -2.271041367591699, 1.104145953395362, 0.6195613024301116, -0.5005945813435325, -0.9063252531488935, -0.043850682877327164, -0.8454320211462417, 0.7108991077320378, -1.9204840919319068, -1.458754114994838, -0.20099174944696324, -0.22259167976453564, -0.35670458652429826, -1.2551092820330252, -1.7901862237899924, 0.9448393991015264, -0.1572709025185171, -1.6644238182098812, 0.3172932947843975, -0.23550701831544502, 0.2657712421161027, -0.053078294913159324, -2.398334429775859, 0.7519569965442786, -0.16681679209782702, 0.3452512000546205, -0.2910305465854694, -0.33331624044084773, 0.9055671431700401, -0.42227825539631764, -1.2871107075659745, 0.02109412124539801, -0.9061252419518914, -0.30150226561932414, 1.334079070716369, -0.9170838735545183, 0.4103890346700743, -0.5089311284427338, 0.21384246102570673, -0.25502806255931987, 0.8148800270629623, 0.042616665556271735, -0.1568235945172625, -0.04308239534943786, -0.28435314213034757, -1.0269739230542796, 1.269247105161303, 1.1439941254385915, 0.39004917349610146, -0.282070716056746, -0.5068669529975444, 1.0857202913987292, -0.9641678103539787, 2.403598393563145, -1.1166542022763057, 0.0546234593929146, -0.9843132869855903, 1.3621554962299072, 0.8257631253025725], \"xaxis\": \"x7\", \"y\": [-0.574006817058656, -0.7266588076382805, -0.3582653821205203, 0.4108711973078174, -0.32049412434813634, 0.04773441291937425, -0.3688892653969485, -1.9676847227099559, 0.25795986598318144, 0.537925471808953, -1.4962385157709366, 0.5057892669442116, -0.29203313936093456, 0.6328171202069542, -1.0522874962492237, 0.7878930777939451, 1.4309553115391773, 0.1889102418784355, -0.013342842989387687, 3.116070838792739, -0.41845360400421255, 1.9858575207739673, 0.6403115956548909, 0.1907142736681472, -1.504935982311471, 0.7416036365144881, 0.1676053881271684, -0.24114082085754754, -0.8756962069315755, -0.525281131553952, 0.16729678126738956, -1.4261549151524915, -0.8095904163469871, 1.6988271573620615, 1.7586594424748208, 1.1173774377465564, -0.18402664254405693, -0.8725967786135869, 0.9340462500605381, 0.0436769694271896, 0.2528261269315577, -0.48797455718435667, 0.4185303541013756, -1.2115610819467757, -1.3873781031274601, -2.134924563226702, -0.36394732545907527, -1.8930906878602132, 0.30419682598120823, -1.2397000596617789, 1.5072415238223666, 0.5076516583359088, -0.27253561558943046, 0.9944063915869681, 0.20503443372919314, 0.11496705703028283, 2.2451308551185214, -1.1894233003016832, -0.4109483665207544, 0.4564664039644072, 0.0594821775386694, 2.025352796007877, 0.13277668831354794, 1.084947573356576, 0.2886397552371678, -0.46229439145929685, 0.07114397903457587, -0.36825571307179933, 0.0580491159714769, -1.3175848043112401, 1.6977785396994103, 1.5238962245440153, 0.6735606382188081, 0.27852016317782674, -0.5125567623845447, 0.8200273758606282, 1.0211947809981352, -0.43694675512536835, 2.4293952236159813, 1.075463756336378, 1.4049925716695653, 1.116341730370617, -0.7067699756998078, 0.516178571121736, 0.27073191733361573, -1.030797684921648, -1.1109877307709126, 0.4322628958451547, -0.9748824546183325, -2.0597490912023915, 0.22368680313699774, -0.5803128715110616, -2.3645027848541047, 0.29715916628752514, 1.3546167563630593, -0.25223335075808057, 0.1881641349093222, 2.6987241405368656, -1.3327602486409937, -0.6169747814033371], \"yaxis\": \"y7\"}, {\"line\": {\"color\": \"rgba(128, 128, 128, 1.0)\", \"dash\": \"solid\", \"shape\": \"linear\", \"width\": 1.3}, \"marker\": {\"size\": 2, \"symbol\": \"circle\"}, \"mode\": \"markers\", \"name\": \"B\", \"text\": \"\", \"type\": \"scatter\", \"x\": [-0.44737534191412004, 1.109785149730803, -0.31221247860147944, 0.276185368698082, -1.922113777992666, 0.5494499941511534, 0.7206549564338, -0.9516303805555207, -1.609155510582861, -0.40131901516196106, 0.13751866377005473, -0.18217209654260266, 0.7860287209432499, -0.3291145050836312, 0.26243641711107646, -0.2878202787345519, -0.9128405545141554, -0.8312673902052876, -0.30275398434875406, 0.8206462677630454, -0.4263469225679497, -1.120886690537222, -1.3285668861396507, 1.3694310001895356, -0.8310020565902191, 0.9175748272459755, -0.378438553528216, -0.27712991270684717, 1.0411739903759445, -0.9520320074714249, 1.9180612257286693, -0.2408163797498644, -0.7080841797917553, -0.12956203263442628, 1.3475162159337835, 0.627818631947682, -1.716800425038791, -0.2704552717952776, 1.6795627933379111, -1.0832558636122478, 0.7421375992266598, 0.07262878557573275, -1.004922520323428, 0.795976586815005, -0.3048903799119217, 0.631689680578985, 0.48543456020033926, -0.6346491295703771, 1.5676354822561684, -0.6927541999080309, 1.2117825885964526, -0.8588951660933406, 0.04556918339778246, -0.2509167430446283, -2.410866061933873, -0.309138274041897, -0.7943130822699094, -1.0227254868016358, -0.21726475438931492, -0.8754548694426114, 1.4769569272751402, -1.1198238404890728, -0.01166713487201717, -0.8704916124383638, -0.7452030374081205, 1.0980138822393697, -1.2920538475380032, 0.4820522082297061, 0.5801132346756122, -1.172445079797513, 0.10794550998379952, 0.4549470143952793, 1.0461950013526864, -1.5081622005182924, 1.226275464583169, -1.5599668548836045, 0.744306083529144, -0.08554417277120979, -1.3241444170103283, -1.6113510314540873, -1.873746753759231, -1.6944197671866323, 0.6247438287291291, -0.1818162989389835, -0.45067126644989614, -1.1897704812162915, 1.4373509460024958, -1.0109890424592494, -0.2246209543647973, -1.0054544415043833, -0.8917803201970335, 0.11013000673782364, 0.8460814387692865, -0.2960568336761955, 1.6971034217877161, -0.6242430462122459, -0.9875452455298763, -1.1465984440862063, -0.6955021346674213, 0.08545122043946983], \"xaxis\": \"x8\", \"y\": [-0.574006817058656, -0.7266588076382805, -0.3582653821205203, 0.4108711973078174, -0.32049412434813634, 0.04773441291937425, -0.3688892653969485, -1.9676847227099559, 0.25795986598318144, 0.537925471808953, -1.4962385157709366, 0.5057892669442116, -0.29203313936093456, 0.6328171202069542, -1.0522874962492237, 0.7878930777939451, 1.4309553115391773, 0.1889102418784355, -0.013342842989387687, 3.116070838792739, -0.41845360400421255, 1.9858575207739673, 0.6403115956548909, 0.1907142736681472, -1.504935982311471, 0.7416036365144881, 0.1676053881271684, -0.24114082085754754, -0.8756962069315755, -0.525281131553952, 0.16729678126738956, -1.4261549151524915, -0.8095904163469871, 1.6988271573620615, 1.7586594424748208, 1.1173774377465564, -0.18402664254405693, -0.8725967786135869, 0.9340462500605381, 0.0436769694271896, 0.2528261269315577, -0.48797455718435667, 0.4185303541013756, -1.2115610819467757, -1.3873781031274601, -2.134924563226702, -0.36394732545907527, -1.8930906878602132, 0.30419682598120823, -1.2397000596617789, 1.5072415238223666, 0.5076516583359088, -0.27253561558943046, 0.9944063915869681, 0.20503443372919314, 0.11496705703028283, 2.2451308551185214, -1.1894233003016832, -0.4109483665207544, 0.4564664039644072, 0.0594821775386694, 2.025352796007877, 0.13277668831354794, 1.084947573356576, 0.2886397552371678, -0.46229439145929685, 0.07114397903457587, -0.36825571307179933, 0.0580491159714769, -1.3175848043112401, 1.6977785396994103, 1.5238962245440153, 0.6735606382188081, 0.27852016317782674, -0.5125567623845447, 0.8200273758606282, 1.0211947809981352, -0.43694675512536835, 2.4293952236159813, 1.075463756336378, 1.4049925716695653, 1.116341730370617, -0.7067699756998078, 0.516178571121736, 0.27073191733361573, -1.030797684921648, -1.1109877307709126, 0.4322628958451547, -0.9748824546183325, -2.0597490912023915, 0.22368680313699774, -0.5803128715110616, -2.3645027848541047, 0.29715916628752514, 1.3546167563630593, -0.25223335075808057, 0.1881641349093222, 2.6987241405368656, -1.3327602486409937, -0.6169747814033371], \"yaxis\": \"y8\"}, {\"line\": {\"color\": \"rgba(128, 128, 128, 1.0)\", \"dash\": \"solid\", \"shape\": \"linear\", \"width\": 1.3}, \"marker\": {\"size\": 2, \"symbol\": \"circle\"}, \"mode\": \"markers\", \"name\": \"C\", \"text\": \"\", \"type\": \"scatter\", \"x\": [0.7184152132165522, -0.07374414338489427, 1.3263250429191824, -0.6233809421936106, 0.4742001274446034, -0.7437583934588065, -0.20562971175271394, -0.7912846928747075, -0.02702597232497973, 0.6772742353991352, 0.2488440802940327, -1.2274686431849393, 1.254910728577048, 1.6838038342892818, 0.47921977443036406, -0.5022224516406076, -1.8745692527395976, 1.9627993771005607, 0.9560756328354928, -0.04359285288303292, 0.6415439448675059, 0.27977343160563767, -2.768644598762758, 0.05983857939039157, 1.3679925048742787, -0.10294575790551182, -0.2699661091353834, -1.2763005264901317, -0.605644482213025, 0.4211936567382423, 2.266041396863613, 1.185381051419868, -1.0917455888736831, 0.2027947575196413, -0.17045514705133089, 0.8437438075614856, -0.23401836744499166, -0.5242333839647763, -0.31142091937150457, -0.9076703163927581, -1.837456312116648, -2.024823808987759, -1.8596832253495934, -0.35995344488929754, -0.1560997144255655, -0.24862232873532386, -0.5330745736291332, 0.42241547345708086, 0.6285806273053471, -0.5757328837855584, 0.7320221470593188, -0.78920439441667, 0.24399057919069703, 1.403681725672624, -0.36497311179059233, -1.2035747602760776, -0.6799866071005245, -1.383687431161648, 1.7204180525409456, 0.7798432843313373, -1.746971525420941, -1.0509291587207734, 0.21952730859203842, 0.5153002455921952, 0.662698390986974, -1.3706491187827667, -0.18692234413642134, 0.20435033186983825, 0.9577209134936103, -1.7580578520641799, 1.934397248202235, -0.2419679983579328, -1.3560222792664143, -1.6380730147438929, 0.542730758603566, -0.06911316253794753, 0.9256442751713155, -1.2929221940251012, -0.922538122771601, 1.0787188690915535, 1.5772741845128695, 0.8298802627756018, 1.1312577460069513, 0.5757750599947684, 0.8140317333587312, -0.8666171022168118, -0.09076294738478492, 0.7675522138256289, -0.1310600103165868, -0.700574932350856, 0.4347324878153614, -1.8128643854407822, -0.28217756256423554, -1.1676894050183275, 0.5138668046894407, -1.1695517800152062, 1.0658983671799178, 0.4561467894013599, -1.0421540922213297, -0.0011269428682303502], \"xaxis\": \"x9\", \"y\": [0.4186050978255918, 0.9660299067572595, -0.4318143275388457, 0.5065075567870579, 1.4859078649464117, 2.037283479738617, 0.1718877247483784, 0.47531459547715643, 0.42823940845213554, -0.21305545190507444, 0.28190489492175935, -0.173204935815877, 0.39757462485732936, 1.3856892836568033, 0.9822240896658297, 1.938516935317932, 0.2152802615769902, -1.6198131628409123, 0.5373273678187647, 1.0074272134548774, -0.8947699356644431, -0.20862165688177156, -0.10861066684874332, 0.4534828477073112, 0.8168342651047499, -0.1687725979146592, -0.5712267200634286, -1.1119129875224343, -1.6453222605018447, 0.9855003647827035, 1.7181503768731639, -0.12801937833791582, -0.759239480823569, -0.15604891625994818, -0.7308177686807426, -0.7654926526655869, -1.4628634609740454, -0.11367567007750326, 0.44960352548597154, -0.9706311730653845, 1.2545677594079299, -2.271041367591699, 1.104145953395362, 0.6195613024301116, -0.5005945813435325, -0.9063252531488935, -0.043850682877327164, -0.8454320211462417, 0.7108991077320378, -1.9204840919319068, -1.458754114994838, -0.20099174944696324, -0.22259167976453564, -0.35670458652429826, -1.2551092820330252, -1.7901862237899924, 0.9448393991015264, -0.1572709025185171, -1.6644238182098812, 0.3172932947843975, -0.23550701831544502, 0.2657712421161027, -0.053078294913159324, -2.398334429775859, 0.7519569965442786, -0.16681679209782702, 0.3452512000546205, -0.2910305465854694, -0.33331624044084773, 0.9055671431700401, -0.42227825539631764, -1.2871107075659745, 0.02109412124539801, -0.9061252419518914, -0.30150226561932414, 1.334079070716369, -0.9170838735545183, 0.4103890346700743, -0.5089311284427338, 0.21384246102570673, -0.25502806255931987, 0.8148800270629623, 0.042616665556271735, -0.1568235945172625, -0.04308239534943786, -0.28435314213034757, -1.0269739230542796, 1.269247105161303, 1.1439941254385915, 0.39004917349610146, -0.282070716056746, -0.5068669529975444, 1.0857202913987292, -0.9641678103539787, 2.403598393563145, -1.1166542022763057, 0.0546234593929146, -0.9843132869855903, 1.3621554962299072, 0.8257631253025725], \"yaxis\": \"y9\"}, {\"line\": {\"color\": \"rgba(128, 128, 128, 1.0)\", \"dash\": \"solid\", \"shape\": \"linear\", \"width\": 1.3}, \"marker\": {\"size\": 2, \"symbol\": \"circle\"}, \"mode\": \"markers\", \"name\": \"C\", \"text\": \"\", \"type\": \"scatter\", \"x\": [-0.574006817058656, -0.7266588076382805, -0.3582653821205203, 0.4108711973078174, -0.32049412434813634, 0.04773441291937425, -0.3688892653969485, -1.9676847227099559, 0.25795986598318144, 0.537925471808953, -1.4962385157709366, 0.5057892669442116, -0.29203313936093456, 0.6328171202069542, -1.0522874962492237, 0.7878930777939451, 1.4309553115391773, 0.1889102418784355, -0.013342842989387687, 3.116070838792739, -0.41845360400421255, 1.9858575207739673, 0.6403115956548909, 0.1907142736681472, -1.504935982311471, 0.7416036365144881, 0.1676053881271684, -0.24114082085754754, -0.8756962069315755, -0.525281131553952, 0.16729678126738956, -1.4261549151524915, -0.8095904163469871, 1.6988271573620615, 1.7586594424748208, 1.1173774377465564, -0.18402664254405693, -0.8725967786135869, 0.9340462500605381, 0.0436769694271896, 0.2528261269315577, -0.48797455718435667, 0.4185303541013756, -1.2115610819467757, -1.3873781031274601, -2.134924563226702, -0.36394732545907527, -1.8930906878602132, 0.30419682598120823, -1.2397000596617789, 1.5072415238223666, 0.5076516583359088, -0.27253561558943046, 0.9944063915869681, 0.20503443372919314, 0.11496705703028283, 2.2451308551185214, -1.1894233003016832, -0.4109483665207544, 0.4564664039644072, 0.0594821775386694, 2.025352796007877, 0.13277668831354794, 1.084947573356576, 0.2886397552371678, -0.46229439145929685, 0.07114397903457587, -0.36825571307179933, 0.0580491159714769, -1.3175848043112401, 1.6977785396994103, 1.5238962245440153, 0.6735606382188081, 0.27852016317782674, -0.5125567623845447, 0.8200273758606282, 1.0211947809981352, -0.43694675512536835, 2.4293952236159813, 1.075463756336378, 1.4049925716695653, 1.116341730370617, -0.7067699756998078, 0.516178571121736, 0.27073191733361573, -1.030797684921648, -1.1109877307709126, 0.4322628958451547, -0.9748824546183325, -2.0597490912023915, 0.22368680313699774, -0.5803128715110616, -2.3645027848541047, 0.29715916628752514, 1.3546167563630593, -0.25223335075808057, 0.1881641349093222, 2.6987241405368656, -1.3327602486409937, -0.6169747814033371], \"xaxis\": \"x10\", \"y\": [0.4186050978255918, 0.9660299067572595, -0.4318143275388457, 0.5065075567870579, 1.4859078649464117, 2.037283479738617, 0.1718877247483784, 0.47531459547715643, 0.42823940845213554, -0.21305545190507444, 0.28190489492175935, -0.173204935815877, 0.39757462485732936, 1.3856892836568033, 0.9822240896658297, 1.938516935317932, 0.2152802615769902, -1.6198131628409123, 0.5373273678187647, 1.0074272134548774, -0.8947699356644431, -0.20862165688177156, -0.10861066684874332, 0.4534828477073112, 0.8168342651047499, -0.1687725979146592, -0.5712267200634286, -1.1119129875224343, -1.6453222605018447, 0.9855003647827035, 1.7181503768731639, -0.12801937833791582, -0.759239480823569, -0.15604891625994818, -0.7308177686807426, -0.7654926526655869, -1.4628634609740454, -0.11367567007750326, 0.44960352548597154, -0.9706311730653845, 1.2545677594079299, -2.271041367591699, 1.104145953395362, 0.6195613024301116, -0.5005945813435325, -0.9063252531488935, -0.043850682877327164, -0.8454320211462417, 0.7108991077320378, -1.9204840919319068, -1.458754114994838, -0.20099174944696324, -0.22259167976453564, -0.35670458652429826, -1.2551092820330252, -1.7901862237899924, 0.9448393991015264, -0.1572709025185171, -1.6644238182098812, 0.3172932947843975, -0.23550701831544502, 0.2657712421161027, -0.053078294913159324, -2.398334429775859, 0.7519569965442786, -0.16681679209782702, 0.3452512000546205, -0.2910305465854694, -0.33331624044084773, 0.9055671431700401, -0.42227825539631764, -1.2871107075659745, 0.02109412124539801, -0.9061252419518914, -0.30150226561932414, 1.334079070716369, -0.9170838735545183, 0.4103890346700743, -0.5089311284427338, 0.21384246102570673, -0.25502806255931987, 0.8148800270629623, 0.042616665556271735, -0.1568235945172625, -0.04308239534943786, -0.28435314213034757, -1.0269739230542796, 1.269247105161303, 1.1439941254385915, 0.39004917349610146, -0.282070716056746, -0.5068669529975444, 1.0857202913987292, -0.9641678103539787, 2.403598393563145, -1.1166542022763057, 0.0546234593929146, -0.9843132869855903, 1.3621554962299072, 0.8257631253025725], \"yaxis\": \"y10\"}, {\"histfunc\": \"count\", \"histnorm\": \"\", \"marker\": {\"color\": \"rgba(50, 171, 96, 1.0)\", \"line\": {\"color\": \"#4D5663\", \"width\": 1.3}}, \"name\": \"C\", \"nbinsx\": 10, \"opacity\": 0.8, \"orientation\": \"v\", \"type\": \"histogram\", \"x\": [0.4186050978255918, 0.9660299067572595, -0.4318143275388457, 0.5065075567870579, 1.4859078649464117, 2.037283479738617, 0.1718877247483784, 0.47531459547715643, 0.42823940845213554, -0.21305545190507444, 0.28190489492175935, -0.173204935815877, 0.39757462485732936, 1.3856892836568033, 0.9822240896658297, 1.938516935317932, 0.2152802615769902, -1.6198131628409123, 0.5373273678187647, 1.0074272134548774, -0.8947699356644431, -0.20862165688177156, -0.10861066684874332, 0.4534828477073112, 0.8168342651047499, -0.1687725979146592, -0.5712267200634286, -1.1119129875224343, -1.6453222605018447, 0.9855003647827035, 1.7181503768731639, -0.12801937833791582, -0.759239480823569, -0.15604891625994818, -0.7308177686807426, -0.7654926526655869, -1.4628634609740454, -0.11367567007750326, 0.44960352548597154, -0.9706311730653845, 1.2545677594079299, -2.271041367591699, 1.104145953395362, 0.6195613024301116, -0.5005945813435325, -0.9063252531488935, -0.043850682877327164, -0.8454320211462417, 0.7108991077320378, -1.9204840919319068, -1.458754114994838, -0.20099174944696324, -0.22259167976453564, -0.35670458652429826, -1.2551092820330252, -1.7901862237899924, 0.9448393991015264, -0.1572709025185171, -1.6644238182098812, 0.3172932947843975, -0.23550701831544502, 0.2657712421161027, -0.053078294913159324, -2.398334429775859, 0.7519569965442786, -0.16681679209782702, 0.3452512000546205, -0.2910305465854694, -0.33331624044084773, 0.9055671431700401, -0.42227825539631764, -1.2871107075659745, 0.02109412124539801, -0.9061252419518914, -0.30150226561932414, 1.334079070716369, -0.9170838735545183, 0.4103890346700743, -0.5089311284427338, 0.21384246102570673, -0.25502806255931987, 0.8148800270629623, 0.042616665556271735, -0.1568235945172625, -0.04308239534943786, -0.28435314213034757, -1.0269739230542796, 1.269247105161303, 1.1439941254385915, 0.39004917349610146, -0.282070716056746, -0.5068669529975444, 1.0857202913987292, -0.9641678103539787, 2.403598393563145, -1.1166542022763057, 0.0546234593929146, -0.9843132869855903, 1.3621554962299072, 0.8257631253025725], \"xaxis\": \"x11\", \"yaxis\": \"y11\"}, {\"line\": {\"color\": \"rgba(128, 128, 128, 1.0)\", \"dash\": \"solid\", \"shape\": \"linear\", \"width\": 1.3}, \"marker\": {\"size\": 2, \"symbol\": \"circle\"}, \"mode\": \"markers\", \"name\": \"C\", \"text\": \"\", \"type\": \"scatter\", \"x\": [-0.44737534191412004, 1.109785149730803, -0.31221247860147944, 0.276185368698082, -1.922113777992666, 0.5494499941511534, 0.7206549564338, -0.9516303805555207, -1.609155510582861, -0.40131901516196106, 0.13751866377005473, -0.18217209654260266, 0.7860287209432499, -0.3291145050836312, 0.26243641711107646, -0.2878202787345519, -0.9128405545141554, -0.8312673902052876, -0.30275398434875406, 0.8206462677630454, -0.4263469225679497, -1.120886690537222, -1.3285668861396507, 1.3694310001895356, -0.8310020565902191, 0.9175748272459755, -0.378438553528216, -0.27712991270684717, 1.0411739903759445, -0.9520320074714249, 1.9180612257286693, -0.2408163797498644, -0.7080841797917553, -0.12956203263442628, 1.3475162159337835, 0.627818631947682, -1.716800425038791, -0.2704552717952776, 1.6795627933379111, -1.0832558636122478, 0.7421375992266598, 0.07262878557573275, -1.004922520323428, 0.795976586815005, -0.3048903799119217, 0.631689680578985, 0.48543456020033926, -0.6346491295703771, 1.5676354822561684, -0.6927541999080309, 1.2117825885964526, -0.8588951660933406, 0.04556918339778246, -0.2509167430446283, -2.410866061933873, -0.309138274041897, -0.7943130822699094, -1.0227254868016358, -0.21726475438931492, -0.8754548694426114, 1.4769569272751402, -1.1198238404890728, -0.01166713487201717, -0.8704916124383638, -0.7452030374081205, 1.0980138822393697, -1.2920538475380032, 0.4820522082297061, 0.5801132346756122, -1.172445079797513, 0.10794550998379952, 0.4549470143952793, 1.0461950013526864, -1.5081622005182924, 1.226275464583169, -1.5599668548836045, 0.744306083529144, -0.08554417277120979, -1.3241444170103283, -1.6113510314540873, -1.873746753759231, -1.6944197671866323, 0.6247438287291291, -0.1818162989389835, -0.45067126644989614, -1.1897704812162915, 1.4373509460024958, -1.0109890424592494, -0.2246209543647973, -1.0054544415043833, -0.8917803201970335, 0.11013000673782364, 0.8460814387692865, -0.2960568336761955, 1.6971034217877161, -0.6242430462122459, -0.9875452455298763, -1.1465984440862063, -0.6955021346674213, 0.08545122043946983], \"xaxis\": \"x12\", \"y\": [0.4186050978255918, 0.9660299067572595, -0.4318143275388457, 0.5065075567870579, 1.4859078649464117, 2.037283479738617, 0.1718877247483784, 0.47531459547715643, 0.42823940845213554, -0.21305545190507444, 0.28190489492175935, -0.173204935815877, 0.39757462485732936, 1.3856892836568033, 0.9822240896658297, 1.938516935317932, 0.2152802615769902, -1.6198131628409123, 0.5373273678187647, 1.0074272134548774, -0.8947699356644431, -0.20862165688177156, -0.10861066684874332, 0.4534828477073112, 0.8168342651047499, -0.1687725979146592, -0.5712267200634286, -1.1119129875224343, -1.6453222605018447, 0.9855003647827035, 1.7181503768731639, -0.12801937833791582, -0.759239480823569, -0.15604891625994818, -0.7308177686807426, -0.7654926526655869, -1.4628634609740454, -0.11367567007750326, 0.44960352548597154, -0.9706311730653845, 1.2545677594079299, -2.271041367591699, 1.104145953395362, 0.6195613024301116, -0.5005945813435325, -0.9063252531488935, -0.043850682877327164, -0.8454320211462417, 0.7108991077320378, -1.9204840919319068, -1.458754114994838, -0.20099174944696324, -0.22259167976453564, -0.35670458652429826, -1.2551092820330252, -1.7901862237899924, 0.9448393991015264, -0.1572709025185171, -1.6644238182098812, 0.3172932947843975, -0.23550701831544502, 0.2657712421161027, -0.053078294913159324, -2.398334429775859, 0.7519569965442786, -0.16681679209782702, 0.3452512000546205, -0.2910305465854694, -0.33331624044084773, 0.9055671431700401, -0.42227825539631764, -1.2871107075659745, 0.02109412124539801, -0.9061252419518914, -0.30150226561932414, 1.334079070716369, -0.9170838735545183, 0.4103890346700743, -0.5089311284427338, 0.21384246102570673, -0.25502806255931987, 0.8148800270629623, 0.042616665556271735, -0.1568235945172625, -0.04308239534943786, -0.28435314213034757, -1.0269739230542796, 1.269247105161303, 1.1439941254385915, 0.39004917349610146, -0.282070716056746, -0.5068669529975444, 1.0857202913987292, -0.9641678103539787, 2.403598393563145, -1.1166542022763057, 0.0546234593929146, -0.9843132869855903, 1.3621554962299072, 0.8257631253025725], \"yaxis\": \"y12\"}, {\"line\": {\"color\": \"rgba(128, 128, 128, 1.0)\", \"dash\": \"solid\", \"shape\": \"linear\", \"width\": 1.3}, \"marker\": {\"size\": 2, \"symbol\": \"circle\"}, \"mode\": \"markers\", \"name\": \"D\", \"text\": \"\", \"type\": \"scatter\", \"x\": [0.7184152132165522, -0.07374414338489427, 1.3263250429191824, -0.6233809421936106, 0.4742001274446034, -0.7437583934588065, -0.20562971175271394, -0.7912846928747075, -0.02702597232497973, 0.6772742353991352, 0.2488440802940327, -1.2274686431849393, 1.254910728577048, 1.6838038342892818, 0.47921977443036406, -0.5022224516406076, -1.8745692527395976, 1.9627993771005607, 0.9560756328354928, -0.04359285288303292, 0.6415439448675059, 0.27977343160563767, -2.768644598762758, 0.05983857939039157, 1.3679925048742787, -0.10294575790551182, -0.2699661091353834, -1.2763005264901317, -0.605644482213025, 0.4211936567382423, 2.266041396863613, 1.185381051419868, -1.0917455888736831, 0.2027947575196413, -0.17045514705133089, 0.8437438075614856, -0.23401836744499166, -0.5242333839647763, -0.31142091937150457, -0.9076703163927581, -1.837456312116648, -2.024823808987759, -1.8596832253495934, -0.35995344488929754, -0.1560997144255655, -0.24862232873532386, -0.5330745736291332, 0.42241547345708086, 0.6285806273053471, -0.5757328837855584, 0.7320221470593188, -0.78920439441667, 0.24399057919069703, 1.403681725672624, -0.36497311179059233, -1.2035747602760776, -0.6799866071005245, -1.383687431161648, 1.7204180525409456, 0.7798432843313373, -1.746971525420941, -1.0509291587207734, 0.21952730859203842, 0.5153002455921952, 0.662698390986974, -1.3706491187827667, -0.18692234413642134, 0.20435033186983825, 0.9577209134936103, -1.7580578520641799, 1.934397248202235, -0.2419679983579328, -1.3560222792664143, -1.6380730147438929, 0.542730758603566, -0.06911316253794753, 0.9256442751713155, -1.2929221940251012, -0.922538122771601, 1.0787188690915535, 1.5772741845128695, 0.8298802627756018, 1.1312577460069513, 0.5757750599947684, 0.8140317333587312, -0.8666171022168118, -0.09076294738478492, 0.7675522138256289, -0.1310600103165868, -0.700574932350856, 0.4347324878153614, -1.8128643854407822, -0.28217756256423554, -1.1676894050183275, 0.5138668046894407, -1.1695517800152062, 1.0658983671799178, 0.4561467894013599, -1.0421540922213297, -0.0011269428682303502], \"xaxis\": \"x13\", \"y\": [-0.44737534191412004, 1.109785149730803, -0.31221247860147944, 0.276185368698082, -1.922113777992666, 0.5494499941511534, 0.7206549564338, -0.9516303805555207, -1.609155510582861, -0.40131901516196106, 0.13751866377005473, -0.18217209654260266, 0.7860287209432499, -0.3291145050836312, 0.26243641711107646, -0.2878202787345519, -0.9128405545141554, -0.8312673902052876, -0.30275398434875406, 0.8206462677630454, -0.4263469225679497, -1.120886690537222, -1.3285668861396507, 1.3694310001895356, -0.8310020565902191, 0.9175748272459755, -0.378438553528216, -0.27712991270684717, 1.0411739903759445, -0.9520320074714249, 1.9180612257286693, -0.2408163797498644, -0.7080841797917553, -0.12956203263442628, 1.3475162159337835, 0.627818631947682, -1.716800425038791, -0.2704552717952776, 1.6795627933379111, -1.0832558636122478, 0.7421375992266598, 0.07262878557573275, -1.004922520323428, 0.795976586815005, -0.3048903799119217, 0.631689680578985, 0.48543456020033926, -0.6346491295703771, 1.5676354822561684, -0.6927541999080309, 1.2117825885964526, -0.8588951660933406, 0.04556918339778246, -0.2509167430446283, -2.410866061933873, -0.309138274041897, -0.7943130822699094, -1.0227254868016358, -0.21726475438931492, -0.8754548694426114, 1.4769569272751402, -1.1198238404890728, -0.01166713487201717, -0.8704916124383638, -0.7452030374081205, 1.0980138822393697, -1.2920538475380032, 0.4820522082297061, 0.5801132346756122, -1.172445079797513, 0.10794550998379952, 0.4549470143952793, 1.0461950013526864, -1.5081622005182924, 1.226275464583169, -1.5599668548836045, 0.744306083529144, -0.08554417277120979, -1.3241444170103283, -1.6113510314540873, -1.873746753759231, -1.6944197671866323, 0.6247438287291291, -0.1818162989389835, -0.45067126644989614, -1.1897704812162915, 1.4373509460024958, -1.0109890424592494, -0.2246209543647973, -1.0054544415043833, -0.8917803201970335, 0.11013000673782364, 0.8460814387692865, -0.2960568336761955, 1.6971034217877161, -0.6242430462122459, -0.9875452455298763, -1.1465984440862063, -0.6955021346674213, 0.08545122043946983], \"yaxis\": \"y13\"}, {\"line\": {\"color\": \"rgba(128, 128, 128, 1.0)\", \"dash\": \"solid\", \"shape\": \"linear\", \"width\": 1.3}, \"marker\": {\"size\": 2, \"symbol\": \"circle\"}, \"mode\": \"markers\", \"name\": \"D\", \"text\": \"\", \"type\": \"scatter\", \"x\": [-0.574006817058656, -0.7266588076382805, -0.3582653821205203, 0.4108711973078174, -0.32049412434813634, 0.04773441291937425, -0.3688892653969485, -1.9676847227099559, 0.25795986598318144, 0.537925471808953, -1.4962385157709366, 0.5057892669442116, -0.29203313936093456, 0.6328171202069542, -1.0522874962492237, 0.7878930777939451, 1.4309553115391773, 0.1889102418784355, -0.013342842989387687, 3.116070838792739, -0.41845360400421255, 1.9858575207739673, 0.6403115956548909, 0.1907142736681472, -1.504935982311471, 0.7416036365144881, 0.1676053881271684, -0.24114082085754754, -0.8756962069315755, -0.525281131553952, 0.16729678126738956, -1.4261549151524915, -0.8095904163469871, 1.6988271573620615, 1.7586594424748208, 1.1173774377465564, -0.18402664254405693, -0.8725967786135869, 0.9340462500605381, 0.0436769694271896, 0.2528261269315577, -0.48797455718435667, 0.4185303541013756, -1.2115610819467757, -1.3873781031274601, -2.134924563226702, -0.36394732545907527, -1.8930906878602132, 0.30419682598120823, -1.2397000596617789, 1.5072415238223666, 0.5076516583359088, -0.27253561558943046, 0.9944063915869681, 0.20503443372919314, 0.11496705703028283, 2.2451308551185214, -1.1894233003016832, -0.4109483665207544, 0.4564664039644072, 0.0594821775386694, 2.025352796007877, 0.13277668831354794, 1.084947573356576, 0.2886397552371678, -0.46229439145929685, 0.07114397903457587, -0.36825571307179933, 0.0580491159714769, -1.3175848043112401, 1.6977785396994103, 1.5238962245440153, 0.6735606382188081, 0.27852016317782674, -0.5125567623845447, 0.8200273758606282, 1.0211947809981352, -0.43694675512536835, 2.4293952236159813, 1.075463756336378, 1.4049925716695653, 1.116341730370617, -0.7067699756998078, 0.516178571121736, 0.27073191733361573, -1.030797684921648, -1.1109877307709126, 0.4322628958451547, -0.9748824546183325, -2.0597490912023915, 0.22368680313699774, -0.5803128715110616, -2.3645027848541047, 0.29715916628752514, 1.3546167563630593, -0.25223335075808057, 0.1881641349093222, 2.6987241405368656, -1.3327602486409937, -0.6169747814033371], \"xaxis\": \"x14\", \"y\": [-0.44737534191412004, 1.109785149730803, -0.31221247860147944, 0.276185368698082, -1.922113777992666, 0.5494499941511534, 0.7206549564338, -0.9516303805555207, -1.609155510582861, -0.40131901516196106, 0.13751866377005473, -0.18217209654260266, 0.7860287209432499, -0.3291145050836312, 0.26243641711107646, -0.2878202787345519, -0.9128405545141554, -0.8312673902052876, -0.30275398434875406, 0.8206462677630454, -0.4263469225679497, -1.120886690537222, -1.3285668861396507, 1.3694310001895356, -0.8310020565902191, 0.9175748272459755, -0.378438553528216, -0.27712991270684717, 1.0411739903759445, -0.9520320074714249, 1.9180612257286693, -0.2408163797498644, -0.7080841797917553, -0.12956203263442628, 1.3475162159337835, 0.627818631947682, -1.716800425038791, -0.2704552717952776, 1.6795627933379111, -1.0832558636122478, 0.7421375992266598, 0.07262878557573275, -1.004922520323428, 0.795976586815005, -0.3048903799119217, 0.631689680578985, 0.48543456020033926, -0.6346491295703771, 1.5676354822561684, -0.6927541999080309, 1.2117825885964526, -0.8588951660933406, 0.04556918339778246, -0.2509167430446283, -2.410866061933873, -0.309138274041897, -0.7943130822699094, -1.0227254868016358, -0.21726475438931492, -0.8754548694426114, 1.4769569272751402, -1.1198238404890728, -0.01166713487201717, -0.8704916124383638, -0.7452030374081205, 1.0980138822393697, -1.2920538475380032, 0.4820522082297061, 0.5801132346756122, -1.172445079797513, 0.10794550998379952, 0.4549470143952793, 1.0461950013526864, -1.5081622005182924, 1.226275464583169, -1.5599668548836045, 0.744306083529144, -0.08554417277120979, -1.3241444170103283, -1.6113510314540873, -1.873746753759231, -1.6944197671866323, 0.6247438287291291, -0.1818162989389835, -0.45067126644989614, -1.1897704812162915, 1.4373509460024958, -1.0109890424592494, -0.2246209543647973, -1.0054544415043833, -0.8917803201970335, 0.11013000673782364, 0.8460814387692865, -0.2960568336761955, 1.6971034217877161, -0.6242430462122459, -0.9875452455298763, -1.1465984440862063, -0.6955021346674213, 0.08545122043946983], \"yaxis\": \"y14\"}, {\"line\": {\"color\": \"rgba(128, 128, 128, 1.0)\", \"dash\": \"solid\", \"shape\": \"linear\", \"width\": 1.3}, \"marker\": {\"size\": 2, \"symbol\": \"circle\"}, \"mode\": \"markers\", \"name\": \"D\", \"text\": \"\", \"type\": \"scatter\", \"x\": [0.4186050978255918, 0.9660299067572595, -0.4318143275388457, 0.5065075567870579, 1.4859078649464117, 2.037283479738617, 0.1718877247483784, 0.47531459547715643, 0.42823940845213554, -0.21305545190507444, 0.28190489492175935, -0.173204935815877, 0.39757462485732936, 1.3856892836568033, 0.9822240896658297, 1.938516935317932, 0.2152802615769902, -1.6198131628409123, 0.5373273678187647, 1.0074272134548774, -0.8947699356644431, -0.20862165688177156, -0.10861066684874332, 0.4534828477073112, 0.8168342651047499, -0.1687725979146592, -0.5712267200634286, -1.1119129875224343, -1.6453222605018447, 0.9855003647827035, 1.7181503768731639, -0.12801937833791582, -0.759239480823569, -0.15604891625994818, -0.7308177686807426, -0.7654926526655869, -1.4628634609740454, -0.11367567007750326, 0.44960352548597154, -0.9706311730653845, 1.2545677594079299, -2.271041367591699, 1.104145953395362, 0.6195613024301116, -0.5005945813435325, -0.9063252531488935, -0.043850682877327164, -0.8454320211462417, 0.7108991077320378, -1.9204840919319068, -1.458754114994838, -0.20099174944696324, -0.22259167976453564, -0.35670458652429826, -1.2551092820330252, -1.7901862237899924, 0.9448393991015264, -0.1572709025185171, -1.6644238182098812, 0.3172932947843975, -0.23550701831544502, 0.2657712421161027, -0.053078294913159324, -2.398334429775859, 0.7519569965442786, -0.16681679209782702, 0.3452512000546205, -0.2910305465854694, -0.33331624044084773, 0.9055671431700401, -0.42227825539631764, -1.2871107075659745, 0.02109412124539801, -0.9061252419518914, -0.30150226561932414, 1.334079070716369, -0.9170838735545183, 0.4103890346700743, -0.5089311284427338, 0.21384246102570673, -0.25502806255931987, 0.8148800270629623, 0.042616665556271735, -0.1568235945172625, -0.04308239534943786, -0.28435314213034757, -1.0269739230542796, 1.269247105161303, 1.1439941254385915, 0.39004917349610146, -0.282070716056746, -0.5068669529975444, 1.0857202913987292, -0.9641678103539787, 2.403598393563145, -1.1166542022763057, 0.0546234593929146, -0.9843132869855903, 1.3621554962299072, 0.8257631253025725], \"xaxis\": \"x15\", \"y\": [-0.44737534191412004, 1.109785149730803, -0.31221247860147944, 0.276185368698082, -1.922113777992666, 0.5494499941511534, 0.7206549564338, -0.9516303805555207, -1.609155510582861, -0.40131901516196106, 0.13751866377005473, -0.18217209654260266, 0.7860287209432499, -0.3291145050836312, 0.26243641711107646, -0.2878202787345519, -0.9128405545141554, -0.8312673902052876, -0.30275398434875406, 0.8206462677630454, -0.4263469225679497, -1.120886690537222, -1.3285668861396507, 1.3694310001895356, -0.8310020565902191, 0.9175748272459755, -0.378438553528216, -0.27712991270684717, 1.0411739903759445, -0.9520320074714249, 1.9180612257286693, -0.2408163797498644, -0.7080841797917553, -0.12956203263442628, 1.3475162159337835, 0.627818631947682, -1.716800425038791, -0.2704552717952776, 1.6795627933379111, -1.0832558636122478, 0.7421375992266598, 0.07262878557573275, -1.004922520323428, 0.795976586815005, -0.3048903799119217, 0.631689680578985, 0.48543456020033926, -0.6346491295703771, 1.5676354822561684, -0.6927541999080309, 1.2117825885964526, -0.8588951660933406, 0.04556918339778246, -0.2509167430446283, -2.410866061933873, -0.309138274041897, -0.7943130822699094, -1.0227254868016358, -0.21726475438931492, -0.8754548694426114, 1.4769569272751402, -1.1198238404890728, -0.01166713487201717, -0.8704916124383638, -0.7452030374081205, 1.0980138822393697, -1.2920538475380032, 0.4820522082297061, 0.5801132346756122, -1.172445079797513, 0.10794550998379952, 0.4549470143952793, 1.0461950013526864, -1.5081622005182924, 1.226275464583169, -1.5599668548836045, 0.744306083529144, -0.08554417277120979, -1.3241444170103283, -1.6113510314540873, -1.873746753759231, -1.6944197671866323, 0.6247438287291291, -0.1818162989389835, -0.45067126644989614, -1.1897704812162915, 1.4373509460024958, -1.0109890424592494, -0.2246209543647973, -1.0054544415043833, -0.8917803201970335, 0.11013000673782364, 0.8460814387692865, -0.2960568336761955, 1.6971034217877161, -0.6242430462122459, -0.9875452455298763, -1.1465984440862063, -0.6955021346674213, 0.08545122043946983], \"yaxis\": \"y15\"}, {\"histfunc\": \"count\", \"histnorm\": \"\", \"marker\": {\"color\": \"rgba(128, 0, 128, 1.0)\", \"line\": {\"color\": \"#4D5663\", \"width\": 1.3}}, \"name\": \"D\", \"nbinsx\": 10, \"opacity\": 0.8, \"orientation\": \"v\", \"type\": \"histogram\", \"x\": [-0.44737534191412004, 1.109785149730803, -0.31221247860147944, 0.276185368698082, -1.922113777992666, 0.5494499941511534, 0.7206549564338, -0.9516303805555207, -1.609155510582861, -0.40131901516196106, 0.13751866377005473, -0.18217209654260266, 0.7860287209432499, -0.3291145050836312, 0.26243641711107646, -0.2878202787345519, -0.9128405545141554, -0.8312673902052876, -0.30275398434875406, 0.8206462677630454, -0.4263469225679497, -1.120886690537222, -1.3285668861396507, 1.3694310001895356, -0.8310020565902191, 0.9175748272459755, -0.378438553528216, -0.27712991270684717, 1.0411739903759445, -0.9520320074714249, 1.9180612257286693, -0.2408163797498644, -0.7080841797917553, -0.12956203263442628, 1.3475162159337835, 0.627818631947682, -1.716800425038791, -0.2704552717952776, 1.6795627933379111, -1.0832558636122478, 0.7421375992266598, 0.07262878557573275, -1.004922520323428, 0.795976586815005, -0.3048903799119217, 0.631689680578985, 0.48543456020033926, -0.6346491295703771, 1.5676354822561684, -0.6927541999080309, 1.2117825885964526, -0.8588951660933406, 0.04556918339778246, -0.2509167430446283, -2.410866061933873, -0.309138274041897, -0.7943130822699094, -1.0227254868016358, -0.21726475438931492, -0.8754548694426114, 1.4769569272751402, -1.1198238404890728, -0.01166713487201717, -0.8704916124383638, -0.7452030374081205, 1.0980138822393697, -1.2920538475380032, 0.4820522082297061, 0.5801132346756122, -1.172445079797513, 0.10794550998379952, 0.4549470143952793, 1.0461950013526864, -1.5081622005182924, 1.226275464583169, -1.5599668548836045, 0.744306083529144, -0.08554417277120979, -1.3241444170103283, -1.6113510314540873, -1.873746753759231, -1.6944197671866323, 0.6247438287291291, -0.1818162989389835, -0.45067126644989614, -1.1897704812162915, 1.4373509460024958, -1.0109890424592494, -0.2246209543647973, -1.0054544415043833, -0.8917803201970335, 0.11013000673782364, 0.8460814387692865, -0.2960568336761955, 1.6971034217877161, -0.6242430462122459, -0.9875452455298763, -1.1465984440862063, -0.6955021346674213, 0.08545122043946983], \"xaxis\": \"x16\", \"yaxis\": \"y16\"}],\n",
       "                        {\"bargap\": 0.02, \"legend\": {\"bgcolor\": \"#F5F6F9\", \"font\": {\"color\": \"#4D5663\"}}, \"paper_bgcolor\": \"#F5F6F9\", \"plot_bgcolor\": \"#F5F6F9\", \"showlegend\": false, \"template\": {\"data\": {\"bar\": [{\"error_x\": {\"color\": \"#2a3f5f\"}, \"error_y\": {\"color\": \"#2a3f5f\"}, \"marker\": {\"line\": {\"color\": \"#E5ECF6\", \"width\": 0.5}}, \"type\": \"bar\"}], \"barpolar\": [{\"marker\": {\"line\": {\"color\": \"#E5ECF6\", \"width\": 0.5}}, \"type\": \"barpolar\"}], \"carpet\": [{\"aaxis\": {\"endlinecolor\": \"#2a3f5f\", \"gridcolor\": \"white\", \"linecolor\": \"white\", \"minorgridcolor\": \"white\", \"startlinecolor\": \"#2a3f5f\"}, \"baxis\": {\"endlinecolor\": \"#2a3f5f\", \"gridcolor\": \"white\", \"linecolor\": \"white\", \"minorgridcolor\": \"white\", \"startlinecolor\": \"#2a3f5f\"}, \"type\": \"carpet\"}], \"choropleth\": [{\"colorbar\": {\"outlinewidth\": 0, \"ticks\": \"\"}, \"type\": \"choropleth\"}], \"contour\": [{\"colorbar\": {\"outlinewidth\": 0, \"ticks\": \"\"}, \"colorscale\": [[0.0, \"#0d0887\"], [0.1111111111111111, \"#46039f\"], [0.2222222222222222, \"#7201a8\"], [0.3333333333333333, \"#9c179e\"], [0.4444444444444444, \"#bd3786\"], [0.5555555555555556, \"#d8576b\"], [0.6666666666666666, \"#ed7953\"], [0.7777777777777778, \"#fb9f3a\"], [0.8888888888888888, \"#fdca26\"], [1.0, \"#f0f921\"]], \"type\": \"contour\"}], \"contourcarpet\": [{\"colorbar\": {\"outlinewidth\": 0, \"ticks\": \"\"}, \"type\": \"contourcarpet\"}], \"heatmap\": [{\"colorbar\": {\"outlinewidth\": 0, \"ticks\": \"\"}, \"colorscale\": [[0.0, \"#0d0887\"], [0.1111111111111111, \"#46039f\"], [0.2222222222222222, \"#7201a8\"], [0.3333333333333333, \"#9c179e\"], [0.4444444444444444, \"#bd3786\"], [0.5555555555555556, \"#d8576b\"], [0.6666666666666666, \"#ed7953\"], [0.7777777777777778, \"#fb9f3a\"], [0.8888888888888888, \"#fdca26\"], [1.0, \"#f0f921\"]], \"type\": \"heatmap\"}], \"heatmapgl\": [{\"colorbar\": {\"outlinewidth\": 0, \"ticks\": \"\"}, \"colorscale\": [[0.0, \"#0d0887\"], [0.1111111111111111, \"#46039f\"], [0.2222222222222222, \"#7201a8\"], [0.3333333333333333, \"#9c179e\"], [0.4444444444444444, \"#bd3786\"], [0.5555555555555556, \"#d8576b\"], [0.6666666666666666, \"#ed7953\"], [0.7777777777777778, \"#fb9f3a\"], [0.8888888888888888, \"#fdca26\"], [1.0, \"#f0f921\"]], \"type\": \"heatmapgl\"}], \"histogram\": [{\"marker\": {\"colorbar\": {\"outlinewidth\": 0, \"ticks\": \"\"}}, \"type\": \"histogram\"}], \"histogram2d\": [{\"colorbar\": {\"outlinewidth\": 0, \"ticks\": \"\"}, \"colorscale\": [[0.0, \"#0d0887\"], [0.1111111111111111, \"#46039f\"], [0.2222222222222222, \"#7201a8\"], [0.3333333333333333, \"#9c179e\"], [0.4444444444444444, \"#bd3786\"], [0.5555555555555556, \"#d8576b\"], [0.6666666666666666, \"#ed7953\"], [0.7777777777777778, \"#fb9f3a\"], [0.8888888888888888, \"#fdca26\"], [1.0, \"#f0f921\"]], \"type\": \"histogram2d\"}], \"histogram2dcontour\": [{\"colorbar\": {\"outlinewidth\": 0, \"ticks\": \"\"}, \"colorscale\": [[0.0, \"#0d0887\"], [0.1111111111111111, \"#46039f\"], [0.2222222222222222, \"#7201a8\"], [0.3333333333333333, \"#9c179e\"], [0.4444444444444444, \"#bd3786\"], [0.5555555555555556, \"#d8576b\"], [0.6666666666666666, \"#ed7953\"], [0.7777777777777778, \"#fb9f3a\"], [0.8888888888888888, \"#fdca26\"], [1.0, \"#f0f921\"]], \"type\": \"histogram2dcontour\"}], \"mesh3d\": [{\"colorbar\": {\"outlinewidth\": 0, \"ticks\": \"\"}, \"type\": \"mesh3d\"}], \"parcoords\": [{\"line\": {\"colorbar\": {\"outlinewidth\": 0, \"ticks\": \"\"}}, \"type\": \"parcoords\"}], \"pie\": [{\"automargin\": true, \"type\": \"pie\"}], \"scatter\": [{\"marker\": {\"colorbar\": {\"outlinewidth\": 0, \"ticks\": \"\"}}, \"type\": \"scatter\"}], \"scatter3d\": [{\"line\": {\"colorbar\": {\"outlinewidth\": 0, \"ticks\": \"\"}}, \"marker\": {\"colorbar\": {\"outlinewidth\": 0, \"ticks\": \"\"}}, \"type\": \"scatter3d\"}], \"scattercarpet\": [{\"marker\": {\"colorbar\": {\"outlinewidth\": 0, \"ticks\": \"\"}}, \"type\": \"scattercarpet\"}], \"scattergeo\": [{\"marker\": {\"colorbar\": {\"outlinewidth\": 0, \"ticks\": \"\"}}, \"type\": \"scattergeo\"}], \"scattergl\": [{\"marker\": {\"colorbar\": {\"outlinewidth\": 0, \"ticks\": \"\"}}, \"type\": \"scattergl\"}], \"scattermapbox\": [{\"marker\": {\"colorbar\": {\"outlinewidth\": 0, \"ticks\": \"\"}}, \"type\": \"scattermapbox\"}], \"scatterpolar\": [{\"marker\": {\"colorbar\": {\"outlinewidth\": 0, \"ticks\": \"\"}}, \"type\": \"scatterpolar\"}], \"scatterpolargl\": [{\"marker\": {\"colorbar\": {\"outlinewidth\": 0, \"ticks\": \"\"}}, \"type\": \"scatterpolargl\"}], \"scatterternary\": [{\"marker\": {\"colorbar\": {\"outlinewidth\": 0, \"ticks\": \"\"}}, \"type\": \"scatterternary\"}], \"surface\": [{\"colorbar\": {\"outlinewidth\": 0, \"ticks\": \"\"}, \"colorscale\": [[0.0, \"#0d0887\"], [0.1111111111111111, \"#46039f\"], [0.2222222222222222, \"#7201a8\"], [0.3333333333333333, \"#9c179e\"], [0.4444444444444444, \"#bd3786\"], [0.5555555555555556, \"#d8576b\"], [0.6666666666666666, \"#ed7953\"], [0.7777777777777778, \"#fb9f3a\"], [0.8888888888888888, \"#fdca26\"], [1.0, \"#f0f921\"]], \"type\": \"surface\"}], \"table\": [{\"cells\": {\"fill\": {\"color\": \"#EBF0F8\"}, \"line\": {\"color\": \"white\"}}, \"header\": {\"fill\": {\"color\": \"#C8D4E3\"}, \"line\": {\"color\": \"white\"}}, \"type\": \"table\"}]}, \"layout\": {\"annotationdefaults\": {\"arrowcolor\": \"#2a3f5f\", \"arrowhead\": 0, \"arrowwidth\": 1}, \"coloraxis\": {\"colorbar\": {\"outlinewidth\": 0, \"ticks\": \"\"}}, \"colorscale\": {\"diverging\": [[0, \"#8e0152\"], [0.1, \"#c51b7d\"], [0.2, \"#de77ae\"], [0.3, \"#f1b6da\"], [0.4, \"#fde0ef\"], [0.5, \"#f7f7f7\"], [0.6, \"#e6f5d0\"], [0.7, \"#b8e186\"], [0.8, \"#7fbc41\"], [0.9, \"#4d9221\"], [1, \"#276419\"]], \"sequential\": [[0.0, \"#0d0887\"], [0.1111111111111111, \"#46039f\"], [0.2222222222222222, \"#7201a8\"], [0.3333333333333333, \"#9c179e\"], [0.4444444444444444, \"#bd3786\"], [0.5555555555555556, \"#d8576b\"], [0.6666666666666666, \"#ed7953\"], [0.7777777777777778, \"#fb9f3a\"], [0.8888888888888888, \"#fdca26\"], [1.0, \"#f0f921\"]], \"sequentialminus\": [[0.0, \"#0d0887\"], [0.1111111111111111, \"#46039f\"], [0.2222222222222222, \"#7201a8\"], [0.3333333333333333, \"#9c179e\"], [0.4444444444444444, \"#bd3786\"], [0.5555555555555556, \"#d8576b\"], [0.6666666666666666, \"#ed7953\"], [0.7777777777777778, \"#fb9f3a\"], [0.8888888888888888, \"#fdca26\"], [1.0, \"#f0f921\"]]}, \"colorway\": [\"#636efa\", \"#EF553B\", \"#00cc96\", \"#ab63fa\", \"#FFA15A\", \"#19d3f3\", \"#FF6692\", \"#B6E880\", \"#FF97FF\", \"#FECB52\"], \"font\": {\"color\": \"#2a3f5f\"}, \"geo\": {\"bgcolor\": \"white\", \"lakecolor\": \"white\", \"landcolor\": \"#E5ECF6\", \"showlakes\": true, \"showland\": true, \"subunitcolor\": \"white\"}, \"hoverlabel\": {\"align\": \"left\"}, \"hovermode\": \"closest\", \"mapbox\": {\"style\": \"light\"}, \"paper_bgcolor\": \"white\", \"plot_bgcolor\": \"#E5ECF6\", \"polar\": {\"angularaxis\": {\"gridcolor\": \"white\", \"linecolor\": \"white\", \"ticks\": \"\"}, \"bgcolor\": \"#E5ECF6\", \"radialaxis\": {\"gridcolor\": \"white\", \"linecolor\": \"white\", \"ticks\": \"\"}}, \"scene\": {\"xaxis\": {\"backgroundcolor\": \"#E5ECF6\", \"gridcolor\": \"white\", \"gridwidth\": 2, \"linecolor\": \"white\", \"showbackground\": true, \"ticks\": \"\", \"zerolinecolor\": \"white\"}, \"yaxis\": {\"backgroundcolor\": \"#E5ECF6\", \"gridcolor\": \"white\", \"gridwidth\": 2, \"linecolor\": \"white\", \"showbackground\": true, \"ticks\": \"\", \"zerolinecolor\": \"white\"}, \"zaxis\": {\"backgroundcolor\": \"#E5ECF6\", \"gridcolor\": \"white\", \"gridwidth\": 2, \"linecolor\": \"white\", \"showbackground\": true, \"ticks\": \"\", \"zerolinecolor\": \"white\"}}, \"shapedefaults\": {\"line\": {\"color\": \"#2a3f5f\"}}, \"ternary\": {\"aaxis\": {\"gridcolor\": \"white\", \"linecolor\": \"white\", \"ticks\": \"\"}, \"baxis\": {\"gridcolor\": \"white\", \"linecolor\": \"white\", \"ticks\": \"\"}, \"bgcolor\": \"#E5ECF6\", \"caxis\": {\"gridcolor\": \"white\", \"linecolor\": \"white\", \"ticks\": \"\"}}, \"title\": {\"x\": 0.05}, \"xaxis\": {\"automargin\": true, \"gridcolor\": \"white\", \"linecolor\": \"white\", \"ticks\": \"\", \"title\": {\"standoff\": 15}, \"zerolinecolor\": \"white\", \"zerolinewidth\": 2}, \"yaxis\": {\"automargin\": true, \"gridcolor\": \"white\", \"linecolor\": \"white\", \"ticks\": \"\", \"title\": {\"standoff\": 15}, \"zerolinecolor\": \"white\", \"zerolinewidth\": 2}}}, \"title\": {\"font\": {\"color\": \"#4D5663\"}}, \"xaxis\": {\"anchor\": \"y\", \"domain\": [0.0, 0.2125], \"gridcolor\": \"#E1E5ED\", \"showgrid\": false, \"tickfont\": {\"color\": \"#4D5663\"}, \"title\": {\"font\": {\"color\": \"#4D5663\"}, \"text\": \"\"}, \"zerolinecolor\": \"#E1E5ED\"}, \"xaxis10\": {\"anchor\": \"y10\", \"domain\": [0.2625, 0.475], \"gridcolor\": \"#E1E5ED\", \"showgrid\": false, \"tickfont\": {\"color\": \"#4D5663\"}, \"title\": {\"font\": {\"color\": \"#4D5663\"}, \"text\": \"\"}, \"zerolinecolor\": \"#E1E5ED\"}, \"xaxis11\": {\"anchor\": \"y11\", \"domain\": [0.525, 0.7375], \"gridcolor\": \"#E1E5ED\", \"showgrid\": false, \"tickfont\": {\"color\": \"#4D5663\"}, \"title\": {\"font\": {\"color\": \"#4D5663\"}, \"text\": \"\"}, \"zerolinecolor\": \"#E1E5ED\"}, \"xaxis12\": {\"anchor\": \"y12\", \"domain\": [0.7875, 1.0], \"gridcolor\": \"#E1E5ED\", \"showgrid\": false, \"tickfont\": {\"color\": \"#4D5663\"}, \"title\": {\"font\": {\"color\": \"#4D5663\"}, \"text\": \"\"}, \"zerolinecolor\": \"#E1E5ED\"}, \"xaxis13\": {\"anchor\": \"y13\", \"domain\": [0.0, 0.2125], \"gridcolor\": \"#E1E5ED\", \"showgrid\": false, \"tickfont\": {\"color\": \"#4D5663\"}, \"title\": {\"font\": {\"color\": \"#4D5663\"}, \"text\": \"\"}, \"zerolinecolor\": \"#E1E5ED\"}, \"xaxis14\": {\"anchor\": \"y14\", \"domain\": [0.2625, 0.475], \"gridcolor\": \"#E1E5ED\", \"showgrid\": false, \"tickfont\": {\"color\": \"#4D5663\"}, \"title\": {\"font\": {\"color\": \"#4D5663\"}, \"text\": \"\"}, \"zerolinecolor\": \"#E1E5ED\"}, \"xaxis15\": {\"anchor\": \"y15\", \"domain\": [0.525, 0.7375], \"gridcolor\": \"#E1E5ED\", \"showgrid\": false, \"tickfont\": {\"color\": \"#4D5663\"}, \"title\": {\"font\": {\"color\": \"#4D5663\"}, \"text\": \"\"}, \"zerolinecolor\": \"#E1E5ED\"}, \"xaxis16\": {\"anchor\": \"y16\", \"domain\": [0.7875, 1.0], \"gridcolor\": \"#E1E5ED\", \"showgrid\": false, \"tickfont\": {\"color\": \"#4D5663\"}, \"title\": {\"font\": {\"color\": \"#4D5663\"}, \"text\": \"\"}, \"zerolinecolor\": \"#E1E5ED\"}, \"xaxis2\": {\"anchor\": \"y2\", \"domain\": [0.2625, 0.475], \"gridcolor\": \"#E1E5ED\", \"showgrid\": false, \"tickfont\": {\"color\": \"#4D5663\"}, \"title\": {\"font\": {\"color\": \"#4D5663\"}, \"text\": \"\"}, \"zerolinecolor\": \"#E1E5ED\"}, \"xaxis3\": {\"anchor\": \"y3\", \"domain\": [0.525, 0.7375], \"gridcolor\": \"#E1E5ED\", \"showgrid\": false, \"tickfont\": {\"color\": \"#4D5663\"}, \"title\": {\"font\": {\"color\": \"#4D5663\"}, \"text\": \"\"}, \"zerolinecolor\": \"#E1E5ED\"}, \"xaxis4\": {\"anchor\": \"y4\", \"domain\": [0.7875, 1.0], \"gridcolor\": \"#E1E5ED\", \"showgrid\": false, \"tickfont\": {\"color\": \"#4D5663\"}, \"title\": {\"font\": {\"color\": \"#4D5663\"}, \"text\": \"\"}, \"zerolinecolor\": \"#E1E5ED\"}, \"xaxis5\": {\"anchor\": \"y5\", \"domain\": [0.0, 0.2125], \"gridcolor\": \"#E1E5ED\", \"showgrid\": false, \"tickfont\": {\"color\": \"#4D5663\"}, \"title\": {\"font\": {\"color\": \"#4D5663\"}, \"text\": \"\"}, \"zerolinecolor\": \"#E1E5ED\"}, \"xaxis6\": {\"anchor\": \"y6\", \"domain\": [0.2625, 0.475], \"gridcolor\": \"#E1E5ED\", \"showgrid\": false, \"tickfont\": {\"color\": \"#4D5663\"}, \"title\": {\"font\": {\"color\": \"#4D5663\"}, \"text\": \"\"}, \"zerolinecolor\": \"#E1E5ED\"}, \"xaxis7\": {\"anchor\": \"y7\", \"domain\": [0.525, 0.7375], \"gridcolor\": \"#E1E5ED\", \"showgrid\": false, \"tickfont\": {\"color\": \"#4D5663\"}, \"title\": {\"font\": {\"color\": \"#4D5663\"}, \"text\": \"\"}, \"zerolinecolor\": \"#E1E5ED\"}, \"xaxis8\": {\"anchor\": \"y8\", \"domain\": [0.7875, 1.0], \"gridcolor\": \"#E1E5ED\", \"showgrid\": false, \"tickfont\": {\"color\": \"#4D5663\"}, \"title\": {\"font\": {\"color\": \"#4D5663\"}, \"text\": \"\"}, \"zerolinecolor\": \"#E1E5ED\"}, \"xaxis9\": {\"anchor\": \"y9\", \"domain\": [0.0, 0.2125], \"gridcolor\": \"#E1E5ED\", \"showgrid\": false, \"tickfont\": {\"color\": \"#4D5663\"}, \"title\": {\"font\": {\"color\": \"#4D5663\"}, \"text\": \"\"}, \"zerolinecolor\": \"#E1E5ED\"}, \"yaxis\": {\"anchor\": \"x\", \"domain\": [0.8025, 1.0], \"gridcolor\": \"#E1E5ED\", \"showgrid\": false, \"tickfont\": {\"color\": \"#4D5663\"}, \"title\": {\"font\": {\"color\": \"#4D5663\"}, \"text\": \"\"}, \"zerolinecolor\": \"#E1E5ED\"}, \"yaxis10\": {\"anchor\": \"x10\", \"domain\": [0.2675, 0.465], \"gridcolor\": \"#E1E5ED\", \"showgrid\": false, \"tickfont\": {\"color\": \"#4D5663\"}, \"title\": {\"font\": {\"color\": \"#4D5663\"}, \"text\": \"\"}, \"zerolinecolor\": \"#E1E5ED\"}, \"yaxis11\": {\"anchor\": \"x11\", \"domain\": [0.2675, 0.465], \"gridcolor\": \"#E1E5ED\", \"showgrid\": false, \"tickfont\": {\"color\": \"#4D5663\"}, \"title\": {\"font\": {\"color\": \"#4D5663\"}, \"text\": \"\"}, \"zerolinecolor\": \"#E1E5ED\"}, \"yaxis12\": {\"anchor\": \"x12\", \"domain\": [0.2675, 0.465], \"gridcolor\": \"#E1E5ED\", \"showgrid\": false, \"tickfont\": {\"color\": \"#4D5663\"}, \"title\": {\"font\": {\"color\": \"#4D5663\"}, \"text\": \"\"}, \"zerolinecolor\": \"#E1E5ED\"}, \"yaxis13\": {\"anchor\": \"x13\", \"domain\": [0.0, 0.1975], \"gridcolor\": \"#E1E5ED\", \"showgrid\": false, \"tickfont\": {\"color\": \"#4D5663\"}, \"title\": {\"font\": {\"color\": \"#4D5663\"}, \"text\": \"\"}, \"zerolinecolor\": \"#E1E5ED\"}, \"yaxis14\": {\"anchor\": \"x14\", \"domain\": [0.0, 0.1975], \"gridcolor\": \"#E1E5ED\", \"showgrid\": false, \"tickfont\": {\"color\": \"#4D5663\"}, \"title\": {\"font\": {\"color\": \"#4D5663\"}, \"text\": \"\"}, \"zerolinecolor\": \"#E1E5ED\"}, \"yaxis15\": {\"anchor\": \"x15\", \"domain\": [0.0, 0.1975], \"gridcolor\": \"#E1E5ED\", \"showgrid\": false, \"tickfont\": {\"color\": \"#4D5663\"}, \"title\": {\"font\": {\"color\": \"#4D5663\"}, \"text\": \"\"}, \"zerolinecolor\": \"#E1E5ED\"}, \"yaxis16\": {\"anchor\": \"x16\", \"domain\": [0.0, 0.1975], \"gridcolor\": \"#E1E5ED\", \"showgrid\": false, \"tickfont\": {\"color\": \"#4D5663\"}, \"title\": {\"font\": {\"color\": \"#4D5663\"}, \"text\": \"\"}, \"zerolinecolor\": \"#E1E5ED\"}, \"yaxis2\": {\"anchor\": \"x2\", \"domain\": [0.8025, 1.0], \"gridcolor\": \"#E1E5ED\", \"showgrid\": false, \"tickfont\": {\"color\": \"#4D5663\"}, \"title\": {\"font\": {\"color\": \"#4D5663\"}, \"text\": \"\"}, \"zerolinecolor\": \"#E1E5ED\"}, \"yaxis3\": {\"anchor\": \"x3\", \"domain\": [0.8025, 1.0], \"gridcolor\": \"#E1E5ED\", \"showgrid\": false, \"tickfont\": {\"color\": \"#4D5663\"}, \"title\": {\"font\": {\"color\": \"#4D5663\"}, \"text\": \"\"}, \"zerolinecolor\": \"#E1E5ED\"}, \"yaxis4\": {\"anchor\": \"x4\", \"domain\": [0.8025, 1.0], \"gridcolor\": \"#E1E5ED\", \"showgrid\": false, \"tickfont\": {\"color\": \"#4D5663\"}, \"title\": {\"font\": {\"color\": \"#4D5663\"}, \"text\": \"\"}, \"zerolinecolor\": \"#E1E5ED\"}, \"yaxis5\": {\"anchor\": \"x5\", \"domain\": [0.535, 0.7325], \"gridcolor\": \"#E1E5ED\", \"showgrid\": false, \"tickfont\": {\"color\": \"#4D5663\"}, \"title\": {\"font\": {\"color\": \"#4D5663\"}, \"text\": \"\"}, \"zerolinecolor\": \"#E1E5ED\"}, \"yaxis6\": {\"anchor\": \"x6\", \"domain\": [0.535, 0.7325], \"gridcolor\": \"#E1E5ED\", \"showgrid\": false, \"tickfont\": {\"color\": \"#4D5663\"}, \"title\": {\"font\": {\"color\": \"#4D5663\"}, \"text\": \"\"}, \"zerolinecolor\": \"#E1E5ED\"}, \"yaxis7\": {\"anchor\": \"x7\", \"domain\": [0.535, 0.7325], \"gridcolor\": \"#E1E5ED\", \"showgrid\": false, \"tickfont\": {\"color\": \"#4D5663\"}, \"title\": {\"font\": {\"color\": \"#4D5663\"}, \"text\": \"\"}, \"zerolinecolor\": \"#E1E5ED\"}, \"yaxis8\": {\"anchor\": \"x8\", \"domain\": [0.535, 0.7325], \"gridcolor\": \"#E1E5ED\", \"showgrid\": false, \"tickfont\": {\"color\": \"#4D5663\"}, \"title\": {\"font\": {\"color\": \"#4D5663\"}, \"text\": \"\"}, \"zerolinecolor\": \"#E1E5ED\"}, \"yaxis9\": {\"anchor\": \"x9\", \"domain\": [0.2675, 0.465], \"gridcolor\": \"#E1E5ED\", \"showgrid\": false, \"tickfont\": {\"color\": \"#4D5663\"}, \"title\": {\"font\": {\"color\": \"#4D5663\"}, \"text\": \"\"}, \"zerolinecolor\": \"#E1E5ED\"}},\n",
       "                        {\"showLink\": true, \"linkText\": \"Export to plot.ly\", \"plotlyServerURL\": \"https://plot.ly\", \"responsive\": true}\n",
       "                    ).then(function(){\n",
       "                            \n",
       "var gd = document.getElementById('b0cc39ff-ec7d-4289-a416-aecc2ec717fe');\n",
       "var x = new MutationObserver(function (mutations, observer) {{\n",
       "        var display = window.getComputedStyle(gd).display;\n",
       "        if (!display || display === 'none') {{\n",
       "            console.log([gd, 'removed!']);\n",
       "            Plotly.purge(gd);\n",
       "            observer.disconnect();\n",
       "        }}\n",
       "}});\n",
       "\n",
       "// Listen for the removal of the full notebook cells\n",
       "var notebookContainer = gd.closest('#notebook-container');\n",
       "if (notebookContainer) {{\n",
       "    x.observe(notebookContainer, {childList: true});\n",
       "}}\n",
       "\n",
       "// Listen for the clearing of the current output cell\n",
       "var outputEl = gd.closest('.output');\n",
       "if (outputEl) {{\n",
       "    x.observe(outputEl, {childList: true});\n",
       "}}\n",
       "\n",
       "                        })\n",
       "                };\n",
       "                });\n",
       "            </script>\n",
       "        </div>"
      ]
     },
     "metadata": {},
     "output_type": "display_data"
    }
   ],
   "source": [
    "df.scatter_matrix()"
   ]
  },
  {
   "cell_type": "code",
   "execution_count": null,
   "metadata": {},
   "outputs": [],
   "source": []
  }
 ],
 "metadata": {
  "kernelspec": {
   "display_name": "Python 3",
   "language": "python",
   "name": "python3"
  },
  "language_info": {
   "codemirror_mode": {
    "name": "ipython",
    "version": 3
   },
   "file_extension": ".py",
   "mimetype": "text/x-python",
   "name": "python",
   "nbconvert_exporter": "python",
   "pygments_lexer": "ipython3",
   "version": "3.7.6"
  }
 },
 "nbformat": 4,
 "nbformat_minor": 4
}
