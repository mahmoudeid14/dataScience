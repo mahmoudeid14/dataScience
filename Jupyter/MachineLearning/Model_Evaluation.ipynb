{
 "cells": [
  {
   "cell_type": "raw",
   "metadata": {},
   "source": [
    "\n",
    "The Key classification metrics we need \n",
    "- Accuracy\n",
    "-Recall\n",
    "-Precision\n",
    "-F1-Score\n",
    "\n",
    "\n",
    "***Accuracy  = the number of correct predictions made by the model devided by\n",
    "the total number of predictions. \n",
    "\n",
    "***Recall -- the ability of a model to find all the revevant casses within a dataset.\n",
    " Recall    =  # true positives/(# true positives + # false negatives)\n",
    "    \n",
    "***Precsion -- Ability of a classification model to identify only the relevant data points.\n",
    "Precision =  # true positives/(# true positives + # false positives)|\n",
    "\n",
    "***F1-Score --to find an optimal blend of precision and recal we can combine the two metrics using what is called the F1 score\n",
    "\n",
    "F1 = 2*(precision*recall)/(precision+recall)\n",
    "F1 score is the harmonic mean of precision and recall"
   ]
  },
  {
   "cell_type": "markdown",
   "metadata": {},
   "source": [
    "Confusion Matrix\n",
    "We can also view all correctly cassfied versus incorrectly classified images \n",
    "in the form of a confusion matrix\n",
    "\n",
    "--We have true conditions (true correct labels) - condtions may be postive or nigative\n",
    "and we have predication condition -- predication postivie or prediction negative\n",
    "\n",
    "for example -- for correct predication > \n",
    "for- True Positive(TP) some one have disease and the model correcly predicted that he have it\n",
    "for- True Negative(TN) some noe not have disease and the model correcly  predicted that he don't have\n",
    "\n",
    "and also we have two types of incorrect predication\n",
    "for example == > \n",
    "--False Positive (FP) (Type i error)\n",
    "--False Negative (FN) (Type || error)\n",
    "\n",
    "--False Positive, if some one don't have disease the model predict that he have.\n",
    "\n",
    "--False Negative, if some one have disease and the model predict, negative (don't have disease)"
   ]
  },
  {
   "cell_type": "markdown",
   "metadata": {},
   "source": [
    "Evaluting Regression\n",
    "\n",
    "The main difference between them is that the output variable in regression is numerical (or continuous) while that for classification is categorical (or discrete).\n",
    "\n",
    "Regression in machine learning\n",
    "In machine learning, regression algorithms attempt to estimate the mapping function (f) from the input variables (x) to numerical or continuous output variables (y).\n",
    "\n",
    "\n",
    "For example, when provided with a dataset about houses, and you are asked to predict their prices, that is a regression task because price will be a continuous output.\n",
    "\n",
    "Classification in machine learning\n",
    "On the other hand, classification algorithms attempt to estimate the mapping function (f) from the input variables (x) to discrete or categorical output variables (y).\n",
    "\n",
    "For example, when provided with a dataset about houses, a classification algorithm can try to predict whether the prices for the houses “sell more or less than the recommended retail price.”\n",
    "\n",
    "\n",
    "There is an important difference between classification and regression problems.\n",
    "\n",
    "Fundamentally, classification is about predicting a label and regression is about predicting a quantity.\n"
   ]
  },
  {
   "cell_type": "markdown",
   "metadata": {},
   "source": [
    "\n",
    "\n",
    "Evaluating Regression\n",
    "evalution metrics for regression\n",
    "1. Mean Absolute Error\n",
    "2. Mean Squared Error\n",
    "3. Root Mean Square Error"
   ]
  }
 ],
 "metadata": {
  "kernelspec": {
   "display_name": "Python 3",
   "language": "python",
   "name": "python3"
  },
  "language_info": {
   "codemirror_mode": {
    "name": "ipython",
    "version": 3
   },
   "file_extension": ".py",
   "mimetype": "text/x-python",
   "name": "python",
   "nbconvert_exporter": "python",
   "pygments_lexer": "ipython3",
   "version": "3.7.6"
  }
 },
 "nbformat": 4,
 "nbformat_minor": 4
}
